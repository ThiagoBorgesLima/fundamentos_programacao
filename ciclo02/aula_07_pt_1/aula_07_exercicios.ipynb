{
 "cells": [
  {
   "cell_type": "markdown",
   "id": "3b31edc0",
   "metadata": {},
   "source": [
    "# EXERCÍCIO 1"
   ]
  },
  {
   "cell_type": "markdown",
   "id": "96a0f0d7",
   "metadata": {},
   "source": [
    "## Problema"
   ]
  },
  {
   "cell_type": "markdown",
   "id": "e9e8107f",
   "metadata": {
    "ExecuteTime": {
     "end_time": "2021-09-23T01:15:31.266217Z",
     "start_time": "2021-09-23T01:15:31.260904Z"
    }
   },
   "source": [
    "Considere as seguintes listas:\n",
    "\n",
    "```python\n",
    "a = [ 1, 2, 3, 2, 3, 4, 3, 4, 5, 6 ]\n",
    "b = [ 7, 2,10, 2, 7, 4, 9, 4, 9, 8 ] \n",
    "```\n",
    "\n",
    "Utilizando **List Comprehension**, crie uma lista de resposta que irá conter os ÍNDICES dos valores que forem iguais em abas as listas.\n",
    "\n",
    "```python\n",
    "resposta = [ 1, 3, 5, 7 ]\n",
    "```"
   ]
  },
  {
   "cell_type": "markdown",
   "id": "719448b9",
   "metadata": {},
   "source": [
    "## Resolução"
   ]
  },
  {
   "cell_type": "code",
   "execution_count": 11,
   "id": "a580e662",
   "metadata": {
    "ExecuteTime": {
     "end_time": "2022-06-09T19:51:25.983181Z",
     "start_time": "2022-06-09T19:51:25.977343Z"
    }
   },
   "outputs": [
    {
     "data": {
      "text/plain": [
       "[1, 3, 5, 7]"
      ]
     },
     "execution_count": 11,
     "metadata": {},
     "output_type": "execute_result"
    }
   ],
   "source": [
    "# Resolução aqui\n",
    "# resposta = [ ? for item in lista if item != 0 ]\n",
    "\n",
    "# resposta = [ indice for indice, item in enumerate(lista)\n",
    "#             if item != 0 ]\n",
    "# resposta\n",
    "\n",
    "a = [ 1, 2, 3, 2, 3, 4, 3, 4, 5, 6 ]\n",
    "b = [ 7, 2,10, 2, 7, 4, 9, 4, 9, 8 ] \n",
    "\n",
    "\n",
    "resposta = [ indice for indice, n in enumerate(a)\n",
    "            if a[indice] == b[indice] ]\n",
    "\n",
    "resposta\n",
    "\n",
    "\n"
   ]
  },
  {
   "cell_type": "markdown",
   "id": "fa4cf33b",
   "metadata": {},
   "source": [
    "# EXERCÍCIO 2"
   ]
  },
  {
   "cell_type": "markdown",
   "id": "1dc1dae8",
   "metadata": {},
   "source": [
    "## Problema"
   ]
  },
  {
   "cell_type": "markdown",
   "id": "b977366f",
   "metadata": {
    "ExecuteTime": {
     "end_time": "2021-10-29T15:41:57.821363Z",
     "start_time": "2021-10-29T15:41:57.817790Z"
    }
   },
   "source": [
    "Dados 4 números inteiros: ***x***, ***y*** e ***z***, que representam as dimensões de um cubo (altura, largura e comprimento), e ***n***, crie uma lista que conterá todos os possíveis valores de [***x***, ***y***, ***z***], onde a soma de ***x***, ***y*** e ***z*** não seja igual ao número ***n***.\n",
    "\n",
    "### Restrições\n",
    "\n",
    "***x >= 0***  \n",
    "***y >= 0***  \n",
    "***z >= 0***  \n",
    "***n >= 0***  \n",
    "\n",
    "Utilize **List Comprehensions** para criar a lista com as respostas.\n",
    "\n",
    "### Exemplo\n",
    "#### Entrada de Dados\n",
    "\n",
    "***x = 1***  \n",
    "***y = 1***  \n",
    "***z = 2***  \n",
    "***n = 3*** \n",
    "\n",
    "Todas as combinações possíveis para [***x***, ***y***, ***z***] são:\n",
    "```python\n",
    "[\n",
    "    [0,0,0],[0,0,1],[0,0,2],[0,1,0],[0,1,1],[0,1,2],[1,0,0],[1,0,1],[1,1,0],[1,1,1],[1,1,2]\n",
    "]\n",
    "```\n",
    "\n",
    "Somente os elementos onde a soma de ***x*** + ***y*** + ***z*** não seja igual a ***n*** (***n = 3***):\n",
    "```python\n",
    "[\n",
    "    [0,0,0],[0,0,1],[0,0,2],[0,1,0],[0,1,1],[1,0,0],[1,0,1],[1,1,0],[1,1,2]\n",
    "]\n",
    "```"
   ]
  },
  {
   "cell_type": "markdown",
   "id": "2c84a65f",
   "metadata": {
    "ExecuteTime": {
     "end_time": "2021-10-29T15:41:57.950042Z",
     "start_time": "2021-10-29T15:41:57.946603Z"
    }
   },
   "source": [
    "## Resolução"
   ]
  },
  {
   "cell_type": "code",
   "execution_count": 25,
   "id": "e4735880",
   "metadata": {
    "ExecuteTime": {
     "end_time": "2022-06-09T20:12:31.001701Z",
     "start_time": "2022-06-09T20:12:27.941954Z"
    }
   },
   "outputs": [
    {
     "name": "stdout",
     "output_type": "stream",
     "text": [
      "1\n",
      "1\n",
      "2\n",
      "3\n"
     ]
    },
    {
     "data": {
      "text/plain": [
       "[[0, 0, 0],\n",
       " [0, 0, 1],\n",
       " [0, 0, 2],\n",
       " [0, 1, 0],\n",
       " [0, 1, 1],\n",
       " [1, 0, 0],\n",
       " [1, 0, 1],\n",
       " [1, 1, 0],\n",
       " [1, 1, 2]]"
      ]
     },
     "execution_count": 25,
     "metadata": {},
     "output_type": "execute_result"
    }
   ],
   "source": [
    "# Resolução Aqui\n",
    "x = int(input())\n",
    "y = int(input())\n",
    "z = int(input())\n",
    "n = int(input())\n",
    "\n",
    "# # resposta = [ ? for item in lista if item != 0 ]\n",
    "\n",
    "resposta = [\n",
    "            [x_i , y_i , z_i]#Resposta\n",
    "            #Iteração\n",
    "            for x_i in range(x + 1)\n",
    "            for y_i in range(y + 1)\n",
    "            for z_i in range(z + 1)\n",
    "            if sum([x_i , y_i , z_i]) != n #Critério de Seleção\n",
    "]\n",
    "\n",
    "resposta\n"
   ]
  },
  {
   "cell_type": "code",
   "execution_count": 16,
   "id": "789cce4b",
   "metadata": {
    "ExecuteTime": {
     "end_time": "2022-06-09T20:02:21.793221Z",
     "start_time": "2022-06-09T20:02:21.789327Z"
    }
   },
   "outputs": [
    {
     "data": {
      "text/plain": [
       "['1', '2', '3']"
      ]
     },
     "execution_count": 16,
     "metadata": {},
     "output_type": "execute_result"
    }
   ],
   "source": [
    "resposta"
   ]
  },
  {
   "cell_type": "code",
   "execution_count": null,
   "id": "302b32cb",
   "metadata": {},
   "outputs": [],
   "source": []
  }
 ],
 "metadata": {
  "kernelspec": {
   "display_name": "thiago_env",
   "language": "python",
   "name": "thiago_env"
  },
  "language_info": {
   "codemirror_mode": {
    "name": "ipython",
    "version": 3
   },
   "file_extension": ".py",
   "mimetype": "text/x-python",
   "name": "python",
   "nbconvert_exporter": "python",
   "pygments_lexer": "ipython3",
   "version": "3.10.4"
  },
  "latex_envs": {
   "LaTeX_envs_menu_present": true,
   "autoclose": false,
   "autocomplete": true,
   "bibliofile": "biblio.bib",
   "cite_by": "apalike",
   "current_citInitial": 1,
   "eqLabelWithNumbers": true,
   "eqNumInitial": 1,
   "hotkeys": {
    "equation": "Ctrl-E",
    "itemize": "Ctrl-I"
   },
   "labels_anchors": false,
   "latex_user_defs": false,
   "report_style_numbering": false,
   "user_envs_cfg": false
  },
  "varInspector": {
   "cols": {
    "lenName": 16,
    "lenType": 16,
    "lenVar": 40
   },
   "kernels_config": {
    "python": {
     "delete_cmd_postfix": "",
     "delete_cmd_prefix": "del ",
     "library": "var_list.py",
     "varRefreshCmd": "print(var_dic_list())"
    },
    "r": {
     "delete_cmd_postfix": ") ",
     "delete_cmd_prefix": "rm(",
     "library": "var_list.r",
     "varRefreshCmd": "cat(var_dic_list()) "
    }
   },
   "types_to_exclude": [
    "module",
    "function",
    "builtin_function_or_method",
    "instance",
    "_Feature"
   ],
   "window_display": false
  }
 },
 "nbformat": 4,
 "nbformat_minor": 5
}
