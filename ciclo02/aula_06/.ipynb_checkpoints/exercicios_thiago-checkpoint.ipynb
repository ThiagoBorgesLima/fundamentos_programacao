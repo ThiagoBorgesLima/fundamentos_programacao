{
 "cells": [
  {
   "cell_type": "markdown",
   "id": "c7267394",
   "metadata": {},
   "source": [
    "\n",
    "\n",
    "# Exercicio 1"
   ]
  },
  {
   "cell_type": "code",
   "execution_count": 195,
   "id": "9ede9141",
   "metadata": {
    "ExecuteTime": {
     "end_time": "2022-06-08T18:46:36.692962Z",
     "start_time": "2022-06-08T18:46:36.679235Z"
    }
   },
   "outputs": [],
   "source": [
    "site = [\n",
    "     ['Sebastian Gonzalez', 87, 1.67, True ],\n",
    "     ['Chase Mclean',       20, 1.64, True ],\n",
    "     ['Moses Fernandez',    27, 1.67, True ],\n",
    "     ['Skyler Levy',        1.63, False],\n",
    "     ['Patrick Kemp',       72, 1.74, True ],\n",
    "     ['Hadassah Lucas',     33, 1.62, True ],\n",
    "     ['Erasmus Fuller',     23, 1.99, False],\n",
    "     ['Lamar Mccall',       51, 1.84, True ],\n",
    "     ['Nayda Aguilar',      44, 1.76, True ],\n",
    "     # ['Lucy Heath',         85, 1.84, True ],\n",
    "     ['Lucy Heath',         85, 1.84 ],\n",
    "     ['Hyatt Morris',       52, 1.56, False],\n",
    "     ['Devin Patrick',      70, 1.82, False],\n",
    "     ['Kaseem Valenzuela',  63, 1.91, False],\n",
    "     ['Kenyon Jennings',    81, 1.88, True ],\n",
    "     ['Vincent Hahn',       20, 1.96, False],\n",
    "     ['Armando Reynolds',   52, 1.77, False],\n",
    "     ['Harriet Herring',    85, 1.76, True ],\n",
    "     ['Mikayla Dodson',     73, 1.60, False],\n",
    "     ['Solomon Welch',      25, 1.91, True ],\n",
    "     ['Randall Juarez',     42, 1.57, False],\n",
    "     ['Hilel Dunlap',       89, 1.95, True ],\n",
    "     ['Camilla Harvey',     19, 1.62, True ],\n",
    "     ['Harding Cameron',    24, 1.90, False],\n",
    "     ['Cullen Mejia',       28, 1.58],\n",
    "     ['Isaiah Black',       18, 1.68, False],\n",
    "]"
   ]
  },
  {
   "cell_type": "code",
   "execution_count": null,
   "id": "f83528ac",
   "metadata": {},
   "outputs": [],
   "source": []
  },
  {
   "cell_type": "code",
   "execution_count": 194,
   "id": "2d97fc9d",
   "metadata": {
    "ExecuteTime": {
     "end_time": "2022-06-08T18:46:34.718884Z",
     "start_time": "2022-06-08T18:46:34.694209Z"
    }
   },
   "outputs": [],
   "source": [
    "legado = [\n",
    "     {'id': 21, 'name': 'Nayda Aguilar',      'age': 44, 'height': 1.76, 'married': True },\n",
    "     {'id': 22, 'name': 'Tara Hyde',          'age': 48, 'height': 1.75, 'married': True },\n",
    "     {'id': 23, 'name': 'Hyatt Morris',       'height': 1.56, 'married': False},\n",
    "     {'id': 24, 'name': 'Olivia Cameron',     'age': 34, 'height': 1.86, 'married': True },\n",
    "     {'id': 26, 'name': 'Ulysses Becker',     'age': 88, 'height': 1.54, 'married': True },\n",
    "     {'id': 33, 'name': 'Venus Graves',       'age': 43, 'height': 1.56, 'married': False},\n",
    "     {'id': 34, 'name': 'Hadassah Lucas',     'age': 33, 'height': 1.62, 'married': True },\n",
    "     {'id': 35, 'name': 'Kaseem Valenzuela',  'age': 63, 'height': 1.91, 'married': False},\n",
    "     {'id': 41, 'name': 'Adam Terrell',       'age': 27, 'height': 1.57, 'married': True },\n",
    "     {'id': 43, 'name': 'Jordan Young',       'age': 39, 'height': 1.52, 'married': True },\n",
    "     {'id': 46, 'name': 'Ryan Mccarthy',      'age': 26, 'married': True },\n",
    "     {'id': 48, 'name': 'Gisela Odonnell',    'age': 76, 'height': 1.54, 'married': False},\n",
    "     {'id': 49, 'name': 'Randall Juarez',     'age': 42, 'height': 1.57, 'married': False},\n",
    "     {'id': 56, 'name': 'Desirae Whitfield',  'age': 42, 'height': 1.70, 'married': True },\n",
    "     {'id': 57, 'name': 'Maile Mckee',        'age': 32, 'height': 1.70, 'married': True },\n",
    "     {'id': 58, 'name': 'Hilel Dunlap',       'age': 89, 'height': 1.95, 'married': True },\n",
    "     {'id': 63, 'name': 'Armando Reynolds',   'age': 52, 'height': 1.77, 'married': False},\n",
    "     {'id': 65, 'name': 'Dylan Mason',        'age': 29, 'height': 1.77, 'married': True },\n",
    "     {'id': 66, 'name': 'Colin Decker',       'age': 27, 'height': 1.89, 'married': True },\n",
    "     {'id': 67, 'name': 'Yeo Wilkins',        'age': 31, 'height': 1.81, 'married': False},\n",
    "     {'id': 68, 'name': 'Candice Charles',    'age': 18, 'height': 1.84, 'married': True },\n",
    "     {'id': 69, 'name': 'Erasmus Fuller',     'age': 23, 'height': 1.99, 'married': False},\n",
    "     {'id': 78, 'name': 'Evelyn Vance',       'age': 81, 'height': 1.92, 'married': True },\n",
    "     {'id': 79, 'name': 'Sebastian Gonzalez', 'age': 87, 'height': 1.67 },\n",
    "     {'id': 80, 'name': 'Chase Mclean',       'age': 21, 'height': 1.64, 'married': True },\n",
    "]"
   ]
  },
  {
   "cell_type": "code",
   "execution_count": 193,
   "id": "bb288c87",
   "metadata": {
    "ExecuteTime": {
     "end_time": "2022-06-08T18:46:33.215135Z",
     "start_time": "2022-06-08T18:46:33.209548Z"
    }
   },
   "outputs": [],
   "source": [
    "def limpa_aux(dataset, qtd):\n",
    "    \n",
    "    resposta = [] \n",
    "    \n",
    "    for item in dataset:\n",
    "        \n",
    "        if(len(item) == qtd):\n",
    "            \n",
    "            resposta.append(item)\n",
    "            \n",
    "            \n",
    "    return resposta"
   ]
  },
  {
   "cell_type": "code",
   "execution_count": 192,
   "id": "5d898e49",
   "metadata": {
    "ExecuteTime": {
     "end_time": "2022-06-08T18:46:31.839814Z",
     "start_time": "2022-06-08T18:46:31.831421Z"
    }
   },
   "outputs": [],
   "source": [
    "def traduz_chave(dataset):\n",
    "    \n",
    "    resposta = []\n",
    "    \n",
    "    for item in dataset:\n",
    "        \n",
    "        item_dicionario = {}\n",
    "        \n",
    "        item_dicionario['nome'] = item[ 'name']\n",
    "        item_dicionario['idade'] = item[ 'age']\n",
    "        item_dicionario['altura'] = item[ 'height']\n",
    "        item_dicionario['casado'] = item[ 'married']\n",
    "        \n",
    "        \n",
    "        resposta.append(item_dicionario)\n",
    "        \n",
    "            \n",
    "            \n",
    "    return resposta   "
   ]
  },
  {
   "cell_type": "code",
   "execution_count": null,
   "id": "6e52df86",
   "metadata": {},
   "outputs": [],
   "source": []
  },
  {
   "cell_type": "code",
   "execution_count": 169,
   "id": "926ad57b",
   "metadata": {
    "ExecuteTime": {
     "end_time": "2022-06-08T18:37:17.472582Z",
     "start_time": "2022-06-08T18:37:17.463260Z"
    }
   },
   "outputs": [],
   "source": [
    "def limpa_dataset(dataset):\n",
    "    lista_limpa = []\n",
    "    \n",
    "    #Analisar o primeiro item de cada uma das listas, pois as duas são listas, mas\n",
    "    #uma delas possui dicionário dentro.\n",
    "    #dataset[0] lista de listas / lista de dicionários\n",
    "    if isinstance(dataset[0], list):\n",
    "        \n",
    "        lista_limpa = limpa_aux(dataset, 4)\n",
    "                        \n",
    "    else:\n",
    "        \n",
    "        lista_limpa = limpa_aux(dataset, 5)\n",
    "        lista_limpa = traduz_chave(lista_limpa)\n",
    "        \n",
    "        \n",
    "    return lista_limpa   "
   ]
  },
  {
   "cell_type": "code",
   "execution_count": 191,
   "id": "527a1298",
   "metadata": {
    "ExecuteTime": {
     "end_time": "2022-06-08T18:46:30.145959Z",
     "start_time": "2022-06-08T18:46:30.139040Z"
    }
   },
   "outputs": [],
   "source": [
    "def gera_dicionario(lista):\n",
    "    lista_dicionario = []\n",
    "    \n",
    "    for item in lista:\n",
    "        lista_dicionario.append({'nome': item[0], 'idade': item[1], 'altura': item[2], 'casado': item[3]})\n",
    "\n",
    "    return lista_dicionario    \n"
   ]
  },
  {
   "cell_type": "code",
   "execution_count": 198,
   "id": "6fe6a0aa",
   "metadata": {
    "ExecuteTime": {
     "end_time": "2022-06-08T18:48:31.965532Z",
     "start_time": "2022-06-08T18:48:31.954126Z"
    }
   },
   "outputs": [],
   "source": [
    "def une_dataset(lista_site, lista_legado):\n",
    "    \n",
    "    resposta = [] \n",
    "    \n",
    "    for site_item in lista_site:\n",
    "        \n",
    "        if (site_item not in resposta):\n",
    "            resposta.append(site_item)\n",
    "        \n",
    "        for legado_item in lista_legado:\n",
    "            if(\n",
    "                (site_item['nome'] != legado_item['nome'] and\n",
    "                site_item['altura'] != legado_item['altura'] and\n",
    "                site_item['casado'] != legado_item['casado']) and\n",
    "                ( legado_item not in resposta )                 \n",
    "            ):\n",
    "                resposta.append(legado_item) \n",
    "            \n",
    "            \n",
    "                   \n",
    "            \n",
    "    return resposta"
   ]
  },
  {
   "cell_type": "code",
   "execution_count": 149,
   "id": "01e0e08f",
   "metadata": {
    "ExecuteTime": {
     "end_time": "2022-06-08T18:16:54.062544Z",
     "start_time": "2022-06-08T18:16:54.058318Z"
    }
   },
   "outputs": [],
   "source": [
    "def gera_respostas():\n",
    "    pass"
   ]
  },
  {
   "cell_type": "code",
   "execution_count": 189,
   "id": "d8d5ca14",
   "metadata": {
    "ExecuteTime": {
     "end_time": "2022-06-08T18:46:25.405408Z",
     "start_time": "2022-06-08T18:46:25.397825Z"
    }
   },
   "outputs": [],
   "source": [
    "#Função que executará as outras funções\n",
    "def gera_leads(lista_site, lista_legado = None):\n",
    "    \n",
    "    resposta = []\n",
    "    \n",
    "    lista_site_limpa = limpa_dataset(lista_site)\n",
    "    lista_site_ok = gera_dicionario(lista_site_limpa)\n",
    "\n",
    "     \n",
    "    if lista_legado != None:\n",
    "        lista_legado_limpa = limpa_dataset(lista_legado)\n",
    "        resposta = une_dataset(lista_site_ok, lista_legado_limpa)\n",
    "        \n",
    "    else:\n",
    "        resposta = lista_site_ok        \n",
    "        \n",
    "        \n",
    "     \n",
    "    return resposta\n",
    "    "
   ]
  },
  {
   "cell_type": "code",
   "execution_count": 161,
   "id": "2107d891",
   "metadata": {
    "ExecuteTime": {
     "end_time": "2022-06-08T18:34:55.592134Z",
     "start_time": "2022-06-08T18:34:55.581787Z"
    }
   },
   "outputs": [
    {
     "data": {
      "text/plain": [
       "[['Sebastian Gonzalez', 87, 1.67, True],\n",
       " ['Chase Mclean', 20, 1.64, True],\n",
       " ['Moses Fernandez', 27, 1.67, True],\n",
       " ['Patrick Kemp', 72, 1.74, True],\n",
       " ['Hadassah Lucas', 33, 1.62, True],\n",
       " ['Erasmus Fuller', 23, 1.99, False],\n",
       " ['Lamar Mccall', 51, 1.84, True],\n",
       " ['Nayda Aguilar', 44, 1.76, True],\n",
       " ['Hyatt Morris', 52, 1.56, False],\n",
       " ['Devin Patrick', 70, 1.82, False],\n",
       " ['Kaseem Valenzuela', 63, 1.91, False],\n",
       " ['Kenyon Jennings', 81, 1.88, True],\n",
       " ['Vincent Hahn', 20, 1.96, False],\n",
       " ['Armando Reynolds', 52, 1.77, False],\n",
       " ['Harriet Herring', 85, 1.76, True],\n",
       " ['Mikayla Dodson', 73, 1.6, False],\n",
       " ['Solomon Welch', 25, 1.91, True],\n",
       " ['Randall Juarez', 42, 1.57, False],\n",
       " ['Hilel Dunlap', 89, 1.95, True],\n",
       " ['Camilla Harvey', 19, 1.62, True],\n",
       " ['Harding Cameron', 24, 1.9, False],\n",
       " ['Isaiah Black', 18, 1.68, False]]"
      ]
     },
     "execution_count": 161,
     "metadata": {},
     "output_type": "execute_result"
    }
   ],
   "source": [
    "limpa_dataset(site)"
   ]
  },
  {
   "cell_type": "code",
   "execution_count": 201,
   "id": "83f1b764",
   "metadata": {
    "ExecuteTime": {
     "end_time": "2022-06-08T18:51:02.828387Z",
     "start_time": "2022-06-08T18:51:02.822866Z"
    }
   },
   "outputs": [],
   "source": [
    "resp = gera_leads(site, legado)"
   ]
  },
  {
   "cell_type": "code",
   "execution_count": 202,
   "id": "f08a2306",
   "metadata": {
    "ExecuteTime": {
     "end_time": "2022-06-08T18:51:18.862884Z",
     "start_time": "2022-06-08T18:51:18.829947Z"
    }
   },
   "outputs": [
    {
     "ename": "NameError",
     "evalue": "name 'resp_merg' is not defined",
     "output_type": "error",
     "traceback": [
      "\u001b[0;31m---------------------------------------------------------------------------\u001b[0m",
      "\u001b[0;31mNameError\u001b[0m                                 Traceback (most recent call last)",
      "Input \u001b[0;32mIn [202]\u001b[0m, in \u001b[0;36m<cell line: 1>\u001b[0;34m()\u001b[0m\n\u001b[0;32m----> 1\u001b[0m \u001b[38;5;28;01massert\u001b[39;00m resp \u001b[38;5;241m==\u001b[39m \u001b[43mresp_merg\u001b[49m\n",
      "\u001b[0;31mNameError\u001b[0m: name 'resp_merg' is not defined"
     ]
    }
   ],
   "source": [
    "assert resp == resp_merg"
   ]
  },
  {
   "cell_type": "code",
   "execution_count": 214,
   "id": "dfbe1a51",
   "metadata": {
    "ExecuteTime": {
     "end_time": "2022-06-08T19:02:38.936495Z",
     "start_time": "2022-06-08T19:02:38.927338Z"
    }
   },
   "outputs": [
    {
     "data": {
      "text/plain": [
       "37"
      ]
     },
     "execution_count": 214,
     "metadata": {},
     "output_type": "execute_result"
    }
   ],
   "source": [
    "len(resp)"
   ]
  },
  {
   "cell_type": "markdown",
   "id": "07951d3f",
   "metadata": {},
   "source": [
    "# Exercicio 2"
   ]
  },
  {
   "cell_type": "code",
   "execution_count": 282,
   "id": "13ae2ff7",
   "metadata": {
    "ExecuteTime": {
     "end_time": "2022-06-08T19:33:29.475232Z",
     "start_time": "2022-06-08T19:33:29.465467Z"
    }
   },
   "outputs": [],
   "source": [
    "import re"
   ]
  },
  {
   "cell_type": "code",
   "execution_count": 312,
   "id": "c6d2de74",
   "metadata": {
    "ExecuteTime": {
     "end_time": "2022-06-08T19:53:37.808300Z",
     "start_time": "2022-06-08T19:53:37.796191Z"
    }
   },
   "outputs": [],
   "source": [
    "def metricas(dataset):\n",
    "    \n",
    "    resposta = 0\n",
    "    media = 0 #resposta 1\n",
    "    maior_idade = 0 #resposta 2\n",
    "    menor_idade = 0 #resposta 3\n",
    "    casado = 0 \n",
    "    letra_d = 0\n",
    "    \n",
    "    \n",
    "    \n",
    "    for item in dataset:\n",
    "        \n",
    "        item_idade = 0\n",
    "        item_idade += item['idade']\n",
    "        #print(item_idade)\n",
    "        resposta += item_idade\n",
    "        media = resposta / len(dataset)\n",
    "        \n",
    "        \n",
    "        if maior_idade >= item['idade']:\n",
    "            maior_idade = maior_idade\n",
    "            menor_idade = item['idade']\n",
    "            \n",
    "        else:\n",
    "            maior_idade = item['idade']\n",
    "            \n",
    "        if item['casado'] == True:\n",
    "            casado += 1\n",
    "            \n",
    "        porcentagem_casados = ( casado / len(dataset) ) * 100 #resposta 4.1\n",
    "        porcentagem_nao_casados = 100 - porcentagem_casados  #resposta 4.2\n",
    "        \n",
    "        #função para localizar a primeira letra da palavra com determinada D\n",
    "        if item['nome'].startswith('D'):\n",
    "            letra_d += 1\n",
    "            \n",
    "         \n",
    "      \n",
    "    return media, maior_idade, menor_idade, porcentagem_casados, porcentagem_nao_casados, letra_d\n",
    "\n",
    "\n"
   ]
  },
  {
   "cell_type": "code",
   "execution_count": null,
   "id": "8191fb4d",
   "metadata": {},
   "outputs": [],
   "source": []
  },
  {
   "cell_type": "code",
   "execution_count": 313,
   "id": "042356d6",
   "metadata": {
    "ExecuteTime": {
     "end_time": "2022-06-08T19:53:42.240360Z",
     "start_time": "2022-06-08T19:53:42.229279Z"
    }
   },
   "outputs": [
    {
     "name": "stdout",
     "output_type": "stream",
     "text": [
      "A média das idade é = 46.108108108108105\n",
      "A maior idade é = 89\n",
      "A menor idade é = 18\n",
      "A porcentagem de casados é de 65% para 35% de não casados\n",
      "Existem 3 elementos que começam a letra \"D\" na lista\n"
     ]
    }
   ],
   "source": [
    "media, maior_idade, menor_idade, porcentagem_casados, porcentagem_nao_casados, letra_d = metricas(resp)\n",
    "\n",
    "print(f'A média das idade é = {media}')\n",
    "print(f'A maior idade é = {maior_idade}')\n",
    "print(f'A menor idade é = {menor_idade}')\n",
    "print(f'A porcentagem de casados é de {round(porcentagem_casados)}% para {round(porcentagem_nao_casados)}% de não casados')\n",
    "print(f'Existem {letra_d} elementos que começam a letra \"D\" na lista')\n",
    "\n",
    "\n"
   ]
  },
  {
   "cell_type": "code",
   "execution_count": null,
   "id": "d248ec0e",
   "metadata": {
    "ExecuteTime": {
     "end_time": "2022-06-08T19:47:08.155818Z",
     "start_time": "2022-06-08T19:47:08.137682Z"
    }
   },
   "outputs": [],
   "source": []
  },
  {
   "cell_type": "code",
   "execution_count": null,
   "id": "5e93f74a",
   "metadata": {},
   "outputs": [],
   "source": []
  },
  {
   "cell_type": "code",
   "execution_count": null,
   "id": "b3e8c1a1",
   "metadata": {},
   "outputs": [],
   "source": []
  },
  {
   "cell_type": "code",
   "execution_count": null,
   "id": "1508b0a9",
   "metadata": {},
   "outputs": [],
   "source": []
  },
  {
   "cell_type": "code",
   "execution_count": null,
   "id": "073dad47",
   "metadata": {},
   "outputs": [],
   "source": []
  },
  {
   "cell_type": "code",
   "execution_count": null,
   "id": "0128974d",
   "metadata": {},
   "outputs": [],
   "source": []
  },
  {
   "cell_type": "code",
   "execution_count": null,
   "id": "5f778416",
   "metadata": {},
   "outputs": [],
   "source": []
  }
 ],
 "metadata": {
  "kernelspec": {
   "display_name": "Python 3 (ipykernel)",
   "language": "python",
   "name": "python3"
  },
  "language_info": {
   "codemirror_mode": {
    "name": "ipython",
    "version": 3
   },
   "file_extension": ".py",
   "mimetype": "text/x-python",
   "name": "python",
   "nbconvert_exporter": "python",
   "pygments_lexer": "ipython3",
   "version": "3.9.4"
  },
  "varInspector": {
   "cols": {
    "lenName": 16,
    "lenType": 16,
    "lenVar": 40
   },
   "kernels_config": {
    "python": {
     "delete_cmd_postfix": "",
     "delete_cmd_prefix": "del ",
     "library": "var_list.py",
     "varRefreshCmd": "print(var_dic_list())"
    },
    "r": {
     "delete_cmd_postfix": ") ",
     "delete_cmd_prefix": "rm(",
     "library": "var_list.r",
     "varRefreshCmd": "cat(var_dic_list()) "
    }
   },
   "types_to_exclude": [
    "module",
    "function",
    "builtin_function_or_method",
    "instance",
    "_Feature"
   ],
   "window_display": false
  }
 },
 "nbformat": 4,
 "nbformat_minor": 5
}
