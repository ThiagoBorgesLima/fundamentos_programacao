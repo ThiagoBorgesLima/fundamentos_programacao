{
 "cells": [
  {
   "cell_type": "markdown",
   "id": "c7267394",
   "metadata": {},
   "source": [
    "\n",
    "\n",
    "# Exercicio 1"
   ]
  },
  {
   "cell_type": "code",
   "execution_count": 195,
   "id": "9ede9141",
   "metadata": {
    "ExecuteTime": {
     "end_time": "2022-06-08T18:46:36.692962Z",
     "start_time": "2022-06-08T18:46:36.679235Z"
    }
   },
   "outputs": [],
   "source": [
    "site = [\n",
    "     ['Sebastian Gonzalez', 87, 1.67, True ],\n",
    "     ['Chase Mclean',       20, 1.64, True ],\n",
    "     ['Moses Fernandez',    27, 1.67, True ],\n",
    "     ['Skyler Levy',        1.63, False],\n",
    "     ['Patrick Kemp',       72, 1.74, True ],\n",
    "     ['Hadassah Lucas',     33, 1.62, True ],\n",
    "     ['Erasmus Fuller',     23, 1.99, False],\n",
    "     ['Lamar Mccall',       51, 1.84, True ],\n",
    "     ['Nayda Aguilar',      44, 1.76, True ],\n",
    "     # ['Lucy Heath',         85, 1.84, True ],\n",
    "     ['Lucy Heath',         85, 1.84 ],\n",
    "     ['Hyatt Morris',       52, 1.56, False],\n",
    "     ['Devin Patrick',      70, 1.82, False],\n",
    "     ['Kaseem Valenzuela',  63, 1.91, False],\n",
    "     ['Kenyon Jennings',    81, 1.88, True ],\n",
    "     ['Vincent Hahn',       20, 1.96, False],\n",
    "     ['Armando Reynolds',   52, 1.77, False],\n",
    "     ['Harriet Herring',    85, 1.76, True ],\n",
    "     ['Mikayla Dodson',     73, 1.60, False],\n",
    "     ['Solomon Welch',      25, 1.91, True ],\n",
    "     ['Randall Juarez',     42, 1.57, False],\n",
    "     ['Hilel Dunlap',       89, 1.95, True ],\n",
    "     ['Camilla Harvey',     19, 1.62, True ],\n",
    "     ['Harding Cameron',    24, 1.90, False],\n",
    "     ['Cullen Mejia',       28, 1.58],\n",
    "     ['Isaiah Black',       18, 1.68, False],\n",
    "]"
   ]
  },
  {
   "cell_type": "code",
   "execution_count": null,
   "id": "f83528ac",
   "metadata": {},
   "outputs": [],
   "source": []
  },
  {
   "cell_type": "code",
   "execution_count": 194,
   "id": "2d97fc9d",
   "metadata": {
    "ExecuteTime": {
     "end_time": "2022-06-08T18:46:34.718884Z",
     "start_time": "2022-06-08T18:46:34.694209Z"
    }
   },
   "outputs": [],
   "source": [
    "legado = [\n",
    "     {'id': 21, 'name': 'Nayda Aguilar',      'age': 44, 'height': 1.76, 'married': True },\n",
    "     {'id': 22, 'name': 'Tara Hyde',          'age': 48, 'height': 1.75, 'married': True },\n",
    "     {'id': 23, 'name': 'Hyatt Morris',       'height': 1.56, 'married': False},\n",
    "     {'id': 24, 'name': 'Olivia Cameron',     'age': 34, 'height': 1.86, 'married': True },\n",
    "     {'id': 26, 'name': 'Ulysses Becker',     'age': 88, 'height': 1.54, 'married': True },\n",
    "     {'id': 33, 'name': 'Venus Graves',       'age': 43, 'height': 1.56, 'married': False},\n",
    "     {'id': 34, 'name': 'Hadassah Lucas',     'age': 33, 'height': 1.62, 'married': True },\n",
    "     {'id': 35, 'name': 'Kaseem Valenzuela',  'age': 63, 'height': 1.91, 'married': False},\n",
    "     {'id': 41, 'name': 'Adam Terrell',       'age': 27, 'height': 1.57, 'married': True },\n",
    "     {'id': 43, 'name': 'Jordan Young',       'age': 39, 'height': 1.52, 'married': True },\n",
    "     {'id': 46, 'name': 'Ryan Mccarthy',      'age': 26, 'married': True },\n",
    "     {'id': 48, 'name': 'Gisela Odonnell',    'age': 76, 'height': 1.54, 'married': False},\n",
    "     {'id': 49, 'name': 'Randall Juarez',     'age': 42, 'height': 1.57, 'married': False},\n",
    "     {'id': 56, 'name': 'Desirae Whitfield',  'age': 42, 'height': 1.70, 'married': True },\n",
    "     {'id': 57, 'name': 'Maile Mckee',        'age': 32, 'height': 1.70, 'married': True },\n",
    "     {'id': 58, 'name': 'Hilel Dunlap',       'age': 89, 'height': 1.95, 'married': True },\n",
    "     {'id': 63, 'name': 'Armando Reynolds',   'age': 52, 'height': 1.77, 'married': False},\n",
    "     {'id': 65, 'name': 'Dylan Mason',        'age': 29, 'height': 1.77, 'married': True },\n",
    "     {'id': 66, 'name': 'Colin Decker',       'age': 27, 'height': 1.89, 'married': True },\n",
    "     {'id': 67, 'name': 'Yeo Wilkins',        'age': 31, 'height': 1.81, 'married': False},\n",
    "     {'id': 68, 'name': 'Candice Charles',    'age': 18, 'height': 1.84, 'married': True },\n",
    "     {'id': 69, 'name': 'Erasmus Fuller',     'age': 23, 'height': 1.99, 'married': False},\n",
    "     {'id': 78, 'name': 'Evelyn Vance',       'age': 81, 'height': 1.92, 'married': True },\n",
    "     {'id': 79, 'name': 'Sebastian Gonzalez', 'age': 87, 'height': 1.67 },\n",
    "     {'id': 80, 'name': 'Chase Mclean',       'age': 21, 'height': 1.64, 'married': True },\n",
    "]"
   ]
  },
  {
   "cell_type": "code",
   "execution_count": 193,
   "id": "bb288c87",
   "metadata": {
    "ExecuteTime": {
     "end_time": "2022-06-08T18:46:33.215135Z",
     "start_time": "2022-06-08T18:46:33.209548Z"
    }
   },
   "outputs": [],
   "source": [
    "def limpa_aux(dataset, qtd):\n",
    "    \n",
    "    resposta = [] \n",
    "    \n",
    "    for item in dataset:\n",
    "        \n",
    "        if(len(item) == qtd):\n",
    "            \n",
    "            resposta.append(item)\n",
    "            \n",
    "            \n",
    "    return resposta"
   ]
  },
  {
   "cell_type": "code",
   "execution_count": 192,
   "id": "5d898e49",
   "metadata": {
    "ExecuteTime": {
     "end_time": "2022-06-08T18:46:31.839814Z",
     "start_time": "2022-06-08T18:46:31.831421Z"
    }
   },
   "outputs": [],
   "source": [
    "def traduz_chave(dataset):\n",
    "    \n",
    "    resposta = []\n",
    "    \n",
    "    for item in dataset:\n",
    "        \n",
    "        item_dicionario = {}\n",
    "        \n",
    "        item_dicionario['nome'] = item[ 'name']\n",
    "        item_dicionario['idade'] = item[ 'age']\n",
    "        item_dicionario['altura'] = item[ 'height']\n",
    "        item_dicionario['casado'] = item[ 'married']\n",
    "        \n",
    "        \n",
    "        resposta.append(item_dicionario)\n",
    "        \n",
    "            \n",
    "            \n",
    "    return resposta   "
   ]
  },
  {
   "cell_type": "code",
   "execution_count": null,
   "id": "6e52df86",
   "metadata": {},
   "outputs": [],
   "source": []
  },
  {
   "cell_type": "code",
   "execution_count": 169,
   "id": "926ad57b",
   "metadata": {
    "ExecuteTime": {
     "end_time": "2022-06-08T18:37:17.472582Z",
     "start_time": "2022-06-08T18:37:17.463260Z"
    }
   },
   "outputs": [],
   "source": [
    "def limpa_dataset(dataset):\n",
    "    lista_limpa = []\n",
    "    \n",
    "    #Analisar o primeiro item de cada uma das listas, pois as duas são listas, mas\n",
    "    #uma delas possui dicionário dentro.\n",
    "    #dataset[0] lista de listas / lista de dicionários\n",
    "    if isinstance(dataset[0], list):\n",
    "        \n",
    "        lista_limpa = limpa_aux(dataset, 4)\n",
    "                        \n",
    "    else:\n",
    "        \n",
    "        lista_limpa = limpa_aux(dataset, 5)\n",
    "        lista_limpa = traduz_chave(lista_limpa)\n",
    "        \n",
    "        \n",
    "    return lista_limpa   "
   ]
  },
  {
   "cell_type": "code",
   "execution_count": 191,
   "id": "527a1298",
   "metadata": {
    "ExecuteTime": {
     "end_time": "2022-06-08T18:46:30.145959Z",
     "start_time": "2022-06-08T18:46:30.139040Z"
    }
   },
   "outputs": [],
   "source": [
    "def gera_dicionario(lista):\n",
    "    lista_dicionario = []\n",
    "    \n",
    "    for item in lista:\n",
    "        lista_dicionario.append({'nome': item[0], 'idade': item[1], 'altura': item[2], 'casado': item[3]})\n",
    "\n",
    "    return lista_dicionario    \n"
   ]
  },
  {
   "cell_type": "code",
   "execution_count": 198,
   "id": "6fe6a0aa",
   "metadata": {
    "ExecuteTime": {
     "end_time": "2022-06-08T18:48:31.965532Z",
     "start_time": "2022-06-08T18:48:31.954126Z"
    }
   },
   "outputs": [],
   "source": [
    "def une_dataset(lista_site, lista_legado):\n",
    "    \n",
    "    resposta = [] \n",
    "    \n",
    "    for site_item in lista_site:\n",
    "        \n",
    "        if (site_item not in resposta):\n",
    "            resposta.append(site_item)\n",
    "        \n",
    "        for legado_item in lista_legado:\n",
    "            if(\n",
    "                (site_item['nome'] != legado_item['nome'] and\n",
    "                site_item['altura'] != legado_item['altura'] and\n",
    "                site_item['casado'] != legado_item['casado']) and\n",
    "                ( legado_item not in resposta )                 \n",
    "            ):\n",
    "                resposta.append(legado_item) \n",
    "            \n",
    "            \n",
    "                   \n",
    "            \n",
    "    return resposta"
   ]
  },
  {
   "cell_type": "code",
   "execution_count": 149,
   "id": "01e0e08f",
   "metadata": {
    "ExecuteTime": {
     "end_time": "2022-06-08T18:16:54.062544Z",
     "start_time": "2022-06-08T18:16:54.058318Z"
    }
   },
   "outputs": [],
   "source": [
    "def gera_respostas():\n",
    "    pass"
   ]
  },
  {
   "cell_type": "code",
   "execution_count": 189,
   "id": "d8d5ca14",
   "metadata": {
    "ExecuteTime": {
     "end_time": "2022-06-08T18:46:25.405408Z",
     "start_time": "2022-06-08T18:46:25.397825Z"
    }
   },
   "outputs": [],
   "source": [
    "#Função que executará as outras funções\n",
    "def gera_leads(lista_site, lista_legado = None):\n",
    "    \n",
    "    resposta = []\n",
    "    \n",
    "    lista_site_limpa = limpa_dataset(lista_site)\n",
    "    lista_site_ok = gera_dicionario(lista_site_limpa)\n",
    "\n",
    "     \n",
    "    if lista_legado != None:\n",
    "        lista_legado_limpa = limpa_dataset(lista_legado)\n",
    "        resposta = une_dataset(lista_site_ok, lista_legado_limpa)\n",
    "        \n",
    "    else:\n",
    "        resposta = lista_site_ok        \n",
    "        \n",
    "        \n",
    "     \n",
    "    return resposta\n",
    "    "
   ]
  },
  {
   "cell_type": "code",
   "execution_count": 161,
   "id": "2107d891",
   "metadata": {
    "ExecuteTime": {
     "end_time": "2022-06-08T18:34:55.592134Z",
     "start_time": "2022-06-08T18:34:55.581787Z"
    }
   },
   "outputs": [
    {
     "data": {
      "text/plain": [
       "[['Sebastian Gonzalez', 87, 1.67, True],\n",
       " ['Chase Mclean', 20, 1.64, True],\n",
       " ['Moses Fernandez', 27, 1.67, True],\n",
       " ['Patrick Kemp', 72, 1.74, True],\n",
       " ['Hadassah Lucas', 33, 1.62, True],\n",
       " ['Erasmus Fuller', 23, 1.99, False],\n",
       " ['Lamar Mccall', 51, 1.84, True],\n",
       " ['Nayda Aguilar', 44, 1.76, True],\n",
       " ['Hyatt Morris', 52, 1.56, False],\n",
       " ['Devin Patrick', 70, 1.82, False],\n",
       " ['Kaseem Valenzuela', 63, 1.91, False],\n",
       " ['Kenyon Jennings', 81, 1.88, True],\n",
       " ['Vincent Hahn', 20, 1.96, False],\n",
       " ['Armando Reynolds', 52, 1.77, False],\n",
       " ['Harriet Herring', 85, 1.76, True],\n",
       " ['Mikayla Dodson', 73, 1.6, False],\n",
       " ['Solomon Welch', 25, 1.91, True],\n",
       " ['Randall Juarez', 42, 1.57, False],\n",
       " ['Hilel Dunlap', 89, 1.95, True],\n",
       " ['Camilla Harvey', 19, 1.62, True],\n",
       " ['Harding Cameron', 24, 1.9, False],\n",
       " ['Isaiah Black', 18, 1.68, False]]"
      ]
     },
     "execution_count": 161,
     "metadata": {},
     "output_type": "execute_result"
    }
   ],
   "source": [
    "limpa_dataset(site)"
   ]
  },
  {
   "cell_type": "code",
   "execution_count": 201,
   "id": "83f1b764",
   "metadata": {
    "ExecuteTime": {
     "end_time": "2022-06-08T18:51:02.828387Z",
     "start_time": "2022-06-08T18:51:02.822866Z"
    }
   },
   "outputs": [],
   "source": [
    "resp = gera_leads(site, legado)"
   ]
  },
  {
   "cell_type": "code",
   "execution_count": 202,
   "id": "f08a2306",
   "metadata": {
    "ExecuteTime": {
     "end_time": "2022-06-08T18:51:18.862884Z",
     "start_time": "2022-06-08T18:51:18.829947Z"
    }
   },
   "outputs": [
    {
     "ename": "NameError",
     "evalue": "name 'resp_merg' is not defined",
     "output_type": "error",
     "traceback": [
      "\u001b[0;31m---------------------------------------------------------------------------\u001b[0m",
      "\u001b[0;31mNameError\u001b[0m                                 Traceback (most recent call last)",
      "Input \u001b[0;32mIn [202]\u001b[0m, in \u001b[0;36m<cell line: 1>\u001b[0;34m()\u001b[0m\n\u001b[0;32m----> 1\u001b[0m \u001b[38;5;28;01massert\u001b[39;00m resp \u001b[38;5;241m==\u001b[39m \u001b[43mresp_merg\u001b[49m\n",
      "\u001b[0;31mNameError\u001b[0m: name 'resp_merg' is not defined"
     ]
    }
   ],
   "source": [
    "assert resp == resp_merg"
   ]
  },
  {
   "cell_type": "code",
   "execution_count": 214,
   "id": "dfbe1a51",
   "metadata": {
    "ExecuteTime": {
     "end_time": "2022-06-08T19:02:38.936495Z",
     "start_time": "2022-06-08T19:02:38.927338Z"
    }
   },
   "outputs": [
    {
     "data": {
      "text/plain": [
       "37"
      ]
     },
     "execution_count": 214,
     "metadata": {},
     "output_type": "execute_result"
    }
   ],
   "source": [
    "len(resp)"
   ]
  },
  {
   "cell_type": "markdown",
   "id": "07951d3f",
   "metadata": {},
   "source": [
    "# Exercicio 2"
   ]
  },
  {
   "cell_type": "code",
   "execution_count": 282,
   "id": "13ae2ff7",
   "metadata": {
    "ExecuteTime": {
     "end_time": "2022-06-08T19:33:29.475232Z",
     "start_time": "2022-06-08T19:33:29.465467Z"
    }
   },
   "outputs": [],
   "source": [
    "import re"
   ]
  },
  {
   "cell_type": "code",
   "execution_count": 312,
   "id": "c6d2de74",
   "metadata": {
    "ExecuteTime": {
     "end_time": "2022-06-08T19:53:37.808300Z",
     "start_time": "2022-06-08T19:53:37.796191Z"
    }
   },
   "outputs": [],
   "source": [
    "def metricas(dataset):\n",
    "    \n",
    "    resposta = 0\n",
    "    media = 0 #resposta 1\n",
    "    maior_idade = 0 #resposta 2\n",
    "    menor_idade = 0 #resposta 3\n",
    "    casado = 0 \n",
    "    letra_d = 0\n",
    "    \n",
    "    \n",
    "    \n",
    "    for item in dataset:\n",
    "        \n",
    "        item_idade = 0\n",
    "        item_idade += item['idade']\n",
    "        #print(item_idade)\n",
    "        resposta += item_idade\n",
    "        media = resposta / len(dataset)\n",
    "        \n",
    "        \n",
    "        if maior_idade >= item['idade']:\n",
    "            maior_idade = maior_idade\n",
    "            menor_idade = item['idade']\n",
    "            \n",
    "        else:\n",
    "            maior_idade = item['idade']\n",
    "            \n",
    "        if item['casado'] == True:\n",
    "            casado += 1\n",
    "            \n",
    "        porcentagem_casados = ( casado / len(dataset) ) * 100 #resposta 4.1\n",
    "        porcentagem_nao_casados = 100 - porcentagem_casados  #resposta 4.2\n",
    "        \n",
    "        #função para localizar a primeira letra da palavra com determinada D\n",
    "        if item['nome'].startswith('D'):\n",
    "            letra_d += 1\n",
    "            \n",
    "         \n",
    "      \n",
    "    return media, maior_idade, menor_idade, porcentagem_casados, porcentagem_nao_casados, letra_d\n",
    "\n",
    "\n"
   ]
  },
  {
   "cell_type": "code",
   "execution_count": null,
   "id": "8191fb4d",
   "metadata": {},
   "outputs": [],
   "source": []
  },
  {
   "cell_type": "code",
   "execution_count": 313,
   "id": "042356d6",
   "metadata": {
    "ExecuteTime": {
     "end_time": "2022-06-08T19:53:42.240360Z",
     "start_time": "2022-06-08T19:53:42.229279Z"
    }
   },
   "outputs": [
    {
     "name": "stdout",
     "output_type": "stream",
     "text": [
      "A média das idade é = 46.108108108108105\n",
      "A maior idade é = 89\n",
      "A menor idade é = 18\n",
      "A porcentagem de casados é de 65% para 35% de não casados\n",
      "Existem 3 elementos que começam a letra \"D\" na lista\n"
     ]
    }
   ],
   "source": [
    "media, maior_idade, menor_idade, porcentagem_casados, porcentagem_nao_casados, letra_d = metricas(resp)\n",
    "\n",
    "print(f'A média das idade é = {media}')\n",
    "print(f'A maior idade é = {maior_idade}')\n",
    "print(f'A menor idade é = {menor_idade}')\n",
    "print(f'A porcentagem de casados é de {round(porcentagem_casados)}% para {round(porcentagem_nao_casados)}% de não casados')\n",
    "print(f'Existem {letra_d} elementos que começam a letra \"D\" na lista')\n",
    "\n",
    "\n"
   ]
  },
  {
   "cell_type": "code",
   "execution_count": null,
   "id": "d248ec0e",
   "metadata": {
    "ExecuteTime": {
     "end_time": "2022-06-08T19:47:08.155818Z",
     "start_time": "2022-06-08T19:47:08.137682Z"
    }
   },
   "outputs": [],
   "source": []
  },
  {
   "cell_type": "code",
   "execution_count": null,
   "id": "5e93f74a",
   "metadata": {},
   "outputs": [],
   "source": []
  },
  {
   "cell_type": "code",
   "execution_count": null,
   "id": "b3e8c1a1",
   "metadata": {},
   "outputs": [],
   "source": []
  },
  {
   "cell_type": "code",
   "execution_count": null,
   "id": "1508b0a9",
   "metadata": {},
   "outputs": [],
   "source": []
  },
  {
   "cell_type": "code",
   "execution_count": null,
   "id": "073dad47",
   "metadata": {},
   "outputs": [],
   "source": []
  },
  {
   "cell_type": "code",
   "execution_count": null,
   "id": "0128974d",
   "metadata": {},
   "outputs": [],
   "source": []
  },
  {
   "cell_type": "code",
   "execution_count": 1,
   "id": "5f778416",
   "metadata": {
    "ExecuteTime": {
     "end_time": "2022-06-08T20:30:03.193621Z",
     "start_time": "2022-06-08T20:30:02.385700Z"
    }
   },
   "outputs": [
    {
     "name": "stdout",
     "output_type": "stream",
     "text": [
      "alright==2.1\n",
      "altair==4.2.0\n",
      "appnope==0.1.3\n",
      "argon2-cffi==21.3.0\n",
      "argon2-cffi-bindings==21.2.0\n",
      "asttokens==2.0.5\n",
      "async-generator==1.10\n",
      "attrs==21.4.0\n",
      "backcall==0.2.0\n",
      "beautifulsoup4==4.11.1\n",
      "bleach==5.0.0\n",
      "blinker==1.4\n",
      "branca==0.5.0\n",
      "cachetools==5.1.0\n",
      "certifi==2020.12.5\n",
      "cffi==1.15.0\n",
      "charset-normalizer==2.0.12\n",
      "click==8.0.4\n",
      "click-plugins==1.1.1\n",
      "cligj==0.7.2\n",
      "cryptography==37.0.2\n",
      "debugpy==1.6.0\n",
      "decorator==5.1.1\n",
      "defusedxml==0.7.1\n",
      "distlib==0.3.4\n",
      "entrypoints==0.4\n",
      "et-xmlfile==1.1.0\n",
      "executing==0.8.3\n",
      "fastjsonschema==2.15.3\n",
      "filelock==3.7.0\n",
      "Fiona==1.8.21\n",
      "folium==0.12.1.post1\n",
      "GDAL==3.2.2\n",
      "geopandas==0.10.2\n",
      "gitdb==4.0.9\n",
      "GitPython==3.1.27\n",
      "h11==0.13.0\n",
      "idna==3.3\n",
      "importlib-metadata==4.11.3\n",
      "ipykernel==6.13.0\n",
      "ipython==8.3.0\n",
      "ipython-genutils==0.2.0\n",
      "ipywidgets==7.7.0\n",
      "jedi==0.18.1\n",
      "Jinja2==3.1.2\n",
      "jsonschema==4.5.1\n",
      "jupyter-client==7.3.1\n",
      "jupyter-core==4.10.0\n",
      "jupyterlab-pygments==0.2.2\n",
      "jupyterlab-widgets==1.1.0\n",
      "MarkupSafe==2.1.1\n",
      "matplotlib-inline==0.1.3\n",
      "mistune==0.8.4\n",
      "MouseInfo==0.1.3\n",
      "munch==2.5.0\n",
      "nbclient==0.6.3\n",
      "nbconvert==6.5.0\n",
      "nbformat==5.4.0\n",
      "nest-asyncio==1.5.5\n",
      "notebook==6.4.11\n",
      "numpy==1.20.2\n",
      "openpyxl==3.0.10\n",
      "outcome==1.1.0\n",
      "packaging==21.3\n",
      "pandas==1.4.2\n",
      "pandocfilters==1.5.0\n",
      "parso==0.8.3\n",
      "pbr==5.9.0\n",
      "pexpect==4.8.0\n",
      "pickleshare==0.7.5\n",
      "Pillow==9.1.1\n",
      "platformdirs==2.5.2\n",
      "prometheus-client==0.14.1\n",
      "prompt-toolkit==3.0.29\n",
      "protobuf==3.20.1\n",
      "psutil==5.9.0\n",
      "ptyprocess==0.7.0\n",
      "pure-eval==0.2.2\n",
      "pyarrow==8.0.0\n",
      "PyAutoGUI==0.9.53\n",
      "pycparser==2.21\n",
      "pydeck==0.7.1\n",
      "PyGetWindow==0.0.9\n",
      "Pygments==2.12.0\n",
      "Pympler==1.0.1\n",
      "PyMsgBox==1.0.9\n",
      "pyobjc==8.5\n",
      "pyobjc-core==8.5\n",
      "pyobjc-framework-Accessibility==8.5\n",
      "pyobjc-framework-Accounts==8.5\n",
      "pyobjc-framework-AddressBook==8.5\n",
      "pyobjc-framework-AdServices==8.5\n",
      "pyobjc-framework-AdSupport==8.5\n",
      "pyobjc-framework-AppleScriptKit==8.5\n",
      "pyobjc-framework-AppleScriptObjC==8.5\n",
      "pyobjc-framework-ApplicationServices==8.5\n",
      "pyobjc-framework-AppTrackingTransparency==8.5\n",
      "pyobjc-framework-AudioVideoBridging==8.5\n",
      "pyobjc-framework-AuthenticationServices==8.5\n",
      "pyobjc-framework-AutomaticAssessmentConfiguration==8.5\n",
      "pyobjc-framework-Automator==8.5\n",
      "pyobjc-framework-AVFoundation==8.5\n",
      "pyobjc-framework-AVKit==8.5\n",
      "pyobjc-framework-BusinessChat==8.5\n",
      "pyobjc-framework-CalendarStore==8.5\n",
      "pyobjc-framework-CallKit==8.5\n",
      "pyobjc-framework-CFNetwork==8.5\n",
      "pyobjc-framework-ClassKit==8.5\n",
      "pyobjc-framework-CloudKit==8.5\n",
      "pyobjc-framework-Cocoa==8.5\n",
      "pyobjc-framework-Collaboration==8.5\n",
      "pyobjc-framework-ColorSync==8.5\n",
      "pyobjc-framework-Contacts==8.5\n",
      "pyobjc-framework-ContactsUI==8.5\n",
      "pyobjc-framework-CoreAudio==8.5\n",
      "pyobjc-framework-CoreAudioKit==8.5\n",
      "pyobjc-framework-CoreBluetooth==8.5\n",
      "pyobjc-framework-CoreData==8.5\n",
      "pyobjc-framework-CoreHaptics==8.5\n",
      "pyobjc-framework-CoreLocation==8.5\n",
      "pyobjc-framework-CoreMedia==8.5\n",
      "pyobjc-framework-CoreMediaIO==8.5\n",
      "pyobjc-framework-CoreMIDI==8.5\n",
      "pyobjc-framework-CoreML==8.5\n",
      "pyobjc-framework-CoreMotion==8.5\n",
      "pyobjc-framework-CoreServices==8.5\n",
      "pyobjc-framework-CoreSpotlight==8.5\n",
      "pyobjc-framework-CoreText==8.5\n",
      "pyobjc-framework-CoreWLAN==8.5\n",
      "pyobjc-framework-CryptoTokenKit==8.5\n",
      "pyobjc-framework-DataDetection==8.5\n",
      "pyobjc-framework-DeviceCheck==8.5\n",
      "pyobjc-framework-DictionaryServices==8.5\n",
      "pyobjc-framework-DiscRecording==8.5\n",
      "pyobjc-framework-DiscRecordingUI==8.5\n",
      "pyobjc-framework-DiskArbitration==8.5\n",
      "pyobjc-framework-DVDPlayback==8.5\n",
      "pyobjc-framework-EventKit==8.5\n",
      "pyobjc-framework-ExceptionHandling==8.5\n",
      "pyobjc-framework-ExecutionPolicy==8.5\n",
      "pyobjc-framework-ExternalAccessory==8.5\n",
      "pyobjc-framework-FileProvider==8.5\n",
      "pyobjc-framework-FileProviderUI==8.5\n",
      "pyobjc-framework-FinderSync==8.5\n",
      "pyobjc-framework-FSEvents==8.5\n",
      "pyobjc-framework-GameCenter==8.5\n",
      "pyobjc-framework-GameController==8.5\n",
      "pyobjc-framework-GameKit==8.5\n",
      "pyobjc-framework-GameplayKit==8.5\n",
      "pyobjc-framework-ImageCaptureCore==8.5\n",
      "pyobjc-framework-IMServicePlugIn==8.5\n",
      "pyobjc-framework-InputMethodKit==8.5\n",
      "pyobjc-framework-InstallerPlugins==8.5\n",
      "pyobjc-framework-InstantMessage==8.5\n",
      "pyobjc-framework-Intents==8.5\n",
      "pyobjc-framework-IntentsUI==8.5\n",
      "pyobjc-framework-IOSurface==8.5\n",
      "pyobjc-framework-iTunesLibrary==8.5\n",
      "pyobjc-framework-KernelManagement==8.5\n",
      "pyobjc-framework-LatentSemanticMapping==8.5\n",
      "pyobjc-framework-LaunchServices==8.5\n",
      "pyobjc-framework-libdispatch==8.5\n",
      "pyobjc-framework-LinkPresentation==8.5\n",
      "pyobjc-framework-LocalAuthentication==8.5\n",
      "pyobjc-framework-LocalAuthenticationEmbeddedUI==8.5\n",
      "pyobjc-framework-MailKit==8.5\n",
      "pyobjc-framework-MapKit==8.5\n",
      "pyobjc-framework-MediaAccessibility==8.5\n",
      "pyobjc-framework-MediaLibrary==8.5\n",
      "pyobjc-framework-MediaPlayer==8.5\n",
      "pyobjc-framework-MediaToolbox==8.5\n",
      "pyobjc-framework-Metal==8.5\n",
      "pyobjc-framework-MetalKit==8.5\n",
      "pyobjc-framework-MetalPerformanceShaders==8.5\n",
      "pyobjc-framework-MetalPerformanceShadersGraph==8.5\n",
      "pyobjc-framework-MetricKit==8.5\n",
      "pyobjc-framework-MLCompute==8.5\n",
      "pyobjc-framework-ModelIO==8.5\n",
      "pyobjc-framework-MultipeerConnectivity==8.5\n",
      "pyobjc-framework-NaturalLanguage==8.5\n",
      "pyobjc-framework-NetFS==8.5\n",
      "pyobjc-framework-Network==8.5\n",
      "pyobjc-framework-NetworkExtension==8.5\n",
      "pyobjc-framework-NotificationCenter==8.5\n",
      "pyobjc-framework-OpenDirectory==8.5\n",
      "pyobjc-framework-OSAKit==8.5\n",
      "pyobjc-framework-OSLog==8.5\n",
      "pyobjc-framework-PassKit==8.5\n",
      "pyobjc-framework-PencilKit==8.5\n",
      "pyobjc-framework-Photos==8.5\n",
      "pyobjc-framework-PhotosUI==8.5\n",
      "pyobjc-framework-PreferencePanes==8.5\n",
      "pyobjc-framework-PushKit==8.5\n",
      "pyobjc-framework-Quartz==8.5\n",
      "pyobjc-framework-QuickLookThumbnailing==8.5\n",
      "pyobjc-framework-ReplayKit==8.5\n",
      "pyobjc-framework-SafariServices==8.5\n",
      "pyobjc-framework-SceneKit==8.5\n",
      "pyobjc-framework-ScreenCaptureKit==8.5\n",
      "pyobjc-framework-ScreenSaver==8.5\n",
      "pyobjc-framework-ScreenTime==8.5\n",
      "pyobjc-framework-ScriptingBridge==8.5\n",
      "pyobjc-framework-SearchKit==8.5\n",
      "pyobjc-framework-Security==8.5\n",
      "pyobjc-framework-SecurityFoundation==8.5\n",
      "pyobjc-framework-SecurityInterface==8.5\n",
      "pyobjc-framework-ServiceManagement==8.5\n",
      "pyobjc-framework-ShazamKit==8.5\n",
      "pyobjc-framework-Social==8.5\n",
      "pyobjc-framework-SoundAnalysis==8.5\n",
      "pyobjc-framework-Speech==8.5\n",
      "pyobjc-framework-SpriteKit==8.5\n",
      "pyobjc-framework-StoreKit==8.5\n",
      "pyobjc-framework-SyncServices==8.5\n",
      "pyobjc-framework-SystemConfiguration==8.5\n",
      "pyobjc-framework-SystemExtensions==8.5\n",
      "pyobjc-framework-UniformTypeIdentifiers==8.5\n",
      "pyobjc-framework-UserNotifications==8.5\n",
      "pyobjc-framework-UserNotificationsUI==8.5\n",
      "pyobjc-framework-VideoSubscriberAccount==8.5\n",
      "pyobjc-framework-VideoToolbox==8.5\n",
      "pyobjc-framework-Virtualization==8.5\n",
      "pyobjc-framework-Vision==8.5\n",
      "pyobjc-framework-WebKit==8.5\n",
      "pyOpenSSL==22.0.0\n",
      "pyparsing==3.0.9\n",
      "pyperclip==1.8.2\n",
      "pyproj==3.3.1\n",
      "PyRect==0.2.0\n",
      "pyrsistent==0.18.1\n",
      "PyScreeze==0.1.28\n",
      "PySocks==1.7.1\n",
      "python-dateutil==2.8.2\n",
      "python-dotenv==0.20.0\n",
      "pytweening==1.0.4\n",
      "pytz==2022.1\n",
      "pytz-deprecation-shim==0.1.0.post0\n",
      "pywhatkit==5.3\n",
      "pyzmq==23.0.0\n",
      "requests==2.27.1\n",
      "Rtree==1.0.0\n",
      "rubicon-objc==0.4.2\n",
      "selenium==4.2.0\n",
      "semver==2.13.0\n",
      "Send2Trash==1.8.0\n",
      "Shapely==1.7.1\n",
      "six==1.16.0\n",
      "smmap==5.0.0\n",
      "sniffio==1.2.0\n",
      "sortedcontainers==2.4.0\n",
      "soupsieve==2.3.2.post1\n",
      "stack-data==0.2.0\n",
      "stevedore==3.5.0\n",
      "streamlit==1.9.0\n",
      "streamlit-folium==0.6.10\n",
      "terminado==0.15.0\n",
      "tinycss2==1.1.1\n",
      "toml==0.10.2\n",
      "toolz==0.11.2\n",
      "tornado==6.1\n",
      "traitlets==5.2.1.post0\n",
      "trio==0.20.0\n",
      "trio-websocket==0.9.2\n",
      "tzdata==2022.1\n",
      "tzlocal==4.2\n",
      "urllib3==1.26.9\n",
      "validators==0.19.0\n",
      "virtualenv==20.14.1\n",
      "virtualenv-clone==0.5.7\n",
      "virtualenvwrapper==4.8.4\n",
      "wcwidth==0.2.5\n",
      "webdriver-manager==3.7.0\n",
      "webencodings==0.5.1\n",
      "widgetsnbextension==3.6.0\n",
      "wikipedia==1.4.0\n",
      "wsproto==1.1.0\n",
      "zipp==3.8.0\n",
      "Note: you may need to restart the kernel to use updated packages.\n"
     ]
    }
   ],
   "source": [
    "pip freeze"
   ]
  },
  {
   "cell_type": "code",
   "execution_count": null,
   "id": "95668c22",
   "metadata": {},
   "outputs": [],
   "source": []
  }
 ],
 "metadata": {
  "kernelspec": {
   "display_name": "thiago_env",
   "language": "python",
   "name": "thiago_env"
  },
  "language_info": {
   "codemirror_mode": {
    "name": "ipython",
    "version": 3
   },
   "file_extension": ".py",
   "mimetype": "text/x-python",
   "name": "python",
   "nbconvert_exporter": "python",
   "pygments_lexer": "ipython3",
   "version": "3.10.4"
  },
  "varInspector": {
   "cols": {
    "lenName": 16,
    "lenType": 16,
    "lenVar": 40
   },
   "kernels_config": {
    "python": {
     "delete_cmd_postfix": "",
     "delete_cmd_prefix": "del ",
     "library": "var_list.py",
     "varRefreshCmd": "print(var_dic_list())"
    },
    "r": {
     "delete_cmd_postfix": ") ",
     "delete_cmd_prefix": "rm(",
     "library": "var_list.r",
     "varRefreshCmd": "cat(var_dic_list()) "
    }
   },
   "types_to_exclude": [
    "module",
    "function",
    "builtin_function_or_method",
    "instance",
    "_Feature"
   ],
   "window_display": false
  }
 },
 "nbformat": 4,
 "nbformat_minor": 5
}
