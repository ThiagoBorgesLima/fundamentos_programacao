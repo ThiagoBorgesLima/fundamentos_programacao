{
 "cells": [
  {
   "cell_type": "markdown",
   "id": "0d83abd0",
   "metadata": {
    "ExecuteTime": {
     "end_time": "2022-01-03T19:55:28.052134Z",
     "start_time": "2022-01-03T19:55:28.049379Z"
    },
    "heading_collapsed": true
   },
   "source": [
    "# REVISÃO DE CONTEÚDO - CICLO 01"
   ]
  },
  {
   "cell_type": "markdown",
   "id": "23b62de2",
   "metadata": {
    "heading_collapsed": true,
    "hidden": true
   },
   "source": [
    "## Comandos Auxiliares"
   ]
  },
  {
   "cell_type": "markdown",
   "id": "975d6db2",
   "metadata": {
    "heading_collapsed": true,
    "hidden": true
   },
   "source": [
    "### Inserção de Imagens"
   ]
  },
  {
   "cell_type": "code",
   "execution_count": 3,
   "id": "5ce6c407",
   "metadata": {
    "ExecuteTime": {
     "end_time": "2022-04-06T13:29:27.858197Z",
     "start_time": "2022-04-06T13:29:27.855742Z"
    },
    "hidden": true
   },
   "outputs": [],
   "source": [
    "from IPython.display import Image"
   ]
  },
  {
   "cell_type": "markdown",
   "id": "0632c7c7",
   "metadata": {
    "heading_collapsed": true,
    "hidden": true
   },
   "source": [
    "### Leitura de arquivos"
   ]
  },
  {
   "cell_type": "markdown",
   "id": "d9e5399e",
   "metadata": {
    "heading_collapsed": true,
    "hidden": true
   },
   "source": [
    "#### Leitura com Módulo `csv`"
   ]
  },
  {
   "cell_type": "code",
   "execution_count": 1,
   "id": "bce66b49",
   "metadata": {
    "ExecuteTime": {
     "end_time": "2022-04-20T23:02:27.920636Z",
     "start_time": "2022-04-20T23:02:27.909104Z"
    },
    "hidden": true
   },
   "outputs": [],
   "source": [
    "import csv\n",
    "\n",
    "# Função que irá processar o arquivo\n",
    "def read_csv(file_path):\n",
    "    \"\"\"Função que fará a leitura do arquivo e devolverá\n",
    "    uma lista de dicionário com os dados do arquivo\n",
    "    \n",
    "    Argumentos:\n",
    "    file_path -- Caminho do arquivo de entrada\n",
    "    \"\"\"\n",
    "    \n",
    "    out = []\n",
    "    \n",
    "    # Abertura do arquivo\n",
    "    with open(file_path, encoding='utf-8-sig') as csvfile:\n",
    "        reader = csv.DictReader(csvfile, delimiter=';')\n",
    "        \n",
    "        # Iteração nas linhas do arquivo\n",
    "        for row in reader:\n",
    "            out.append(row)\n",
    "        \n",
    "        return out"
   ]
  },
  {
   "cell_type": "markdown",
   "id": "2c9c7041",
   "metadata": {
    "ExecuteTime": {
     "end_time": "2022-01-03T19:55:49.083403Z",
     "start_time": "2022-01-03T19:55:49.080952Z"
    },
    "heading_collapsed": true
   },
   "source": [
    "# 1.0 - Variáveis Globais *vs* Locais e Tipos Mutáveis *vs* Imutáveis"
   ]
  },
  {
   "cell_type": "markdown",
   "id": "a1e0c1ec",
   "metadata": {
    "heading_collapsed": true,
    "hidden": true
   },
   "source": [
    "## 1.1 - Variáveis Globais *vs* Locais"
   ]
  },
  {
   "cell_type": "markdown",
   "id": "dcfeaafc",
   "metadata": {
    "hidden": true
   },
   "source": [
    "**Variável Global** é toda e qualquer variável que é acessível por todo o código da aplicação, mesmo que essa variável tenha sido declarada em módulo, pacote ou biblioteca externa ao local do uso. Ou seja, quando criamos uma **Variável Global** estamos criando uma variável que é acessível por toda a aplicação/programa.\n",
    "\n",
    "Por conta desse comportamento, qualquer método pode alterar o seu estado/conteúdo, fazendo com que o seu uso indiscriminado seja considerado como uma má prática no desenvolvimento de software.\n",
    "\n",
    "O **Jupyter Notebook**, ou qualquer IDE baseada nele trabalha com esse conceito de **Variável Global**. Ou seja quando criamos uma variável dentro de uma célula do **Jupyter Notebook**, estamos criando uma **Variável Global**.\n",
    "\n",
    "Por exemplo: Se criamos a variável `nome = 'Pedro'`, conforme célula abaixo"
   ]
  },
  {
   "cell_type": "code",
   "execution_count": 3,
   "id": "d5eb6fcf",
   "metadata": {
    "ExecuteTime": {
     "end_time": "2022-03-28T22:49:48.398415Z",
     "start_time": "2022-03-28T22:49:48.395748Z"
    },
    "hidden": true
   },
   "outputs": [],
   "source": [
    "nome = 'Pedro'"
   ]
  },
  {
   "cell_type": "markdown",
   "id": "ec0f7597",
   "metadata": {
    "hidden": true
   },
   "source": [
    "Por ela ser considerada uma **Variável Global**, ela poderá ser acessada na célula abaixo:"
   ]
  },
  {
   "cell_type": "code",
   "execution_count": 4,
   "id": "8e3d7fc2",
   "metadata": {
    "ExecuteTime": {
     "end_time": "2022-03-28T22:50:43.097867Z",
     "start_time": "2022-03-28T22:50:43.094857Z"
    },
    "hidden": true
   },
   "outputs": [
    {
     "name": "stdout",
     "output_type": "stream",
     "text": [
      "Pedro\n"
     ]
    }
   ],
   "source": [
    "print(nome)"
   ]
  },
  {
   "cell_type": "markdown",
   "id": "f345a0bc",
   "metadata": {
    "hidden": true
   },
   "source": [
    "Já as **Variável Locais** são as variáveis que só são acessíveis dentro de um **Escopo**. Ou seja, dentro de uma determinada estrutura. \n",
    "\n",
    "As estruturas que utilizamos que criam um escopo separado do escopo global são **funções** e **classes**. Ou seja, as variáveis que criarmos dentro das nossas **funções** e **classes** serão consideradas **Variável Locais** e só serão acessíveis dentro dessas estruturas (**escopos**). Por exemplo, se criarmos a seguinte função:"
   ]
  },
  {
   "cell_type": "code",
   "execution_count": 6,
   "id": "48f01157",
   "metadata": {
    "ExecuteTime": {
     "end_time": "2022-03-28T22:55:20.950984Z",
     "start_time": "2022-03-28T22:55:20.948214Z"
    },
    "hidden": true
   },
   "outputs": [],
   "source": [
    "def func_var_local():\n",
    "    sobrenome = 'Ferraresi'\n",
    "    \n",
    "    print(sobrenome)"
   ]
  },
  {
   "cell_type": "markdown",
   "id": "76f1e5d9",
   "metadata": {
    "hidden": true
   },
   "source": [
    "E se tentarmos acessar a variável criada dentro da função:"
   ]
  },
  {
   "cell_type": "code",
   "execution_count": 7,
   "id": "58775cfc",
   "metadata": {
    "ExecuteTime": {
     "end_time": "2022-03-28T22:55:49.579870Z",
     "start_time": "2022-03-28T22:55:49.573459Z"
    },
    "hidden": true
   },
   "outputs": [
    {
     "ename": "NameError",
     "evalue": "name 'sobrenome' is not defined",
     "output_type": "error",
     "traceback": [
      "\u001b[0;31m---------------------------------------------------------------------------\u001b[0m",
      "\u001b[0;31mNameError\u001b[0m                                 Traceback (most recent call last)",
      "\u001b[0;32m/tmp/ipykernel_51741/3131298198.py\u001b[0m in \u001b[0;36m<module>\u001b[0;34m\u001b[0m\n\u001b[0;32m----> 1\u001b[0;31m \u001b[0mprint\u001b[0m\u001b[0;34m(\u001b[0m\u001b[0msobrenome\u001b[0m\u001b[0;34m)\u001b[0m\u001b[0;34m\u001b[0m\u001b[0;34m\u001b[0m\u001b[0m\n\u001b[0m",
      "\u001b[0;31mNameError\u001b[0m: name 'sobrenome' is not defined"
     ]
    }
   ],
   "source": [
    "print(sobrenome)"
   ]
  },
  {
   "cell_type": "markdown",
   "id": "58e8ea4d",
   "metadata": {
    "hidden": true
   },
   "source": [
    "Poderemos observar que será levantado um erro, nos informando que a variável `sobrenome` não foi definida. Novamente, isso ocorre pois essa variável é considerada uma **Variável Local**!"
   ]
  },
  {
   "cell_type": "markdown",
   "id": "0d5d5d4b",
   "metadata": {
    "heading_collapsed": true,
    "hidden": true
   },
   "source": [
    "### 1.1.1 - Erros Comuns"
   ]
  },
  {
   "cell_type": "markdown",
   "id": "64efcd60",
   "metadata": {
    "hidden": true
   },
   "source": [
    "Um dos erros mais comuns ao utilizarmos variáveis é confundir quando uma variável é **Global** e quando ela é **Local**, fazendo com que utilizemos essas variáveis de forma errada. Por exemplo, observe a seguinte situação:"
   ]
  },
  {
   "cell_type": "code",
   "execution_count": 8,
   "id": "ad4a4837",
   "metadata": {
    "ExecuteTime": {
     "end_time": "2022-03-28T22:59:44.969381Z",
     "start_time": "2022-03-28T22:59:44.966703Z"
    },
    "hidden": true
   },
   "outputs": [],
   "source": [
    "nome = 'Pedro'\n",
    "\n",
    "def func_var_local():\n",
    "    nome = 'Ferraresi'\n",
    "    \n",
    "    return nome"
   ]
  },
  {
   "cell_type": "markdown",
   "id": "735db957",
   "metadata": {
    "hidden": true
   },
   "source": [
    "Observe que no código acima, declaramos uma **Variável Local** (dentro da nossa função `func_var_local()`) chamada `nome` e uma **Variável Global** (fora da função e dentro da própria célula do **Jupyter Notebook**) chamada `nome`.\n",
    "\n",
    "Se tentar utilizar a variável `nome` na célula abaixo, qual das duas variáveis será exibida? A variável `nome`, que foi declarada primeiro e que possuí a **String** `Pedro` como conteúdo, ou a variável `nome`, que foi declarada dentro da função e depois e que possuí a **String** `Ferraresi` como conteúdo?"
   ]
  },
  {
   "cell_type": "code",
   "execution_count": 11,
   "id": "63302726",
   "metadata": {
    "ExecuteTime": {
     "end_time": "2022-03-28T23:06:31.920726Z",
     "start_time": "2022-03-28T23:06:31.917337Z"
    },
    "hidden": true
   },
   "outputs": [
    {
     "data": {
      "text/plain": [
       "'Pedro'"
      ]
     },
     "execution_count": 11,
     "metadata": {},
     "output_type": "execute_result"
    }
   ],
   "source": [
    "nome"
   ]
  },
  {
   "cell_type": "markdown",
   "id": "48595642",
   "metadata": {
    "hidden": true
   },
   "source": [
    "O nome `Pedro` é exibido pois a variável `nome` que está fora da função é uma **Variável Global**, ou seja, é uma variável que é acessível e existe em todo a aplicação; enquanto a variável `nome`, que está dentro da função, é uma **Variável Local** e só existe dentro da função!\n",
    "\n",
    "Dessa forma, como a variável `nome` que está dentro da função é uma **Variável Local** e só é acessível dentro dela, para vermos/utilizarmos o seu conteúdo, temos que executar a função:"
   ]
  },
  {
   "cell_type": "code",
   "execution_count": 12,
   "id": "fa7911f8",
   "metadata": {
    "ExecuteTime": {
     "end_time": "2022-03-28T23:10:34.662331Z",
     "start_time": "2022-03-28T23:10:34.658604Z"
    },
    "hidden": true
   },
   "outputs": [
    {
     "data": {
      "text/plain": [
       "'Ferraresi'"
      ]
     },
     "execution_count": 12,
     "metadata": {},
     "output_type": "execute_result"
    }
   ],
   "source": [
    "func_var_local()"
   ]
  },
  {
   "cell_type": "markdown",
   "id": "4f45d561",
   "metadata": {
    "hidden": true
   },
   "source": [
    "Outro ponto importante de se notar é que por mais que ambas as variáveis possuam o mesmo nome, uma não irá interfir na outra. Ou seja, se exibirmos novamente a **Variável Global** `nome`, o seu conteúdo ainda será o mesmo:"
   ]
  },
  {
   "cell_type": "code",
   "execution_count": 13,
   "id": "7ed36bc2",
   "metadata": {
    "ExecuteTime": {
     "end_time": "2022-03-28T23:13:04.321618Z",
     "start_time": "2022-03-28T23:13:04.317979Z"
    },
    "hidden": true
   },
   "outputs": [
    {
     "data": {
      "text/plain": [
       "'Pedro'"
      ]
     },
     "execution_count": 13,
     "metadata": {},
     "output_type": "execute_result"
    }
   ],
   "source": [
    "nome"
   ]
  },
  {
   "cell_type": "markdown",
   "id": "e94480f5",
   "metadata": {
    "heading_collapsed": true,
    "hidden": true
   },
   "source": [
    "### 1.1.2 - Exercícios"
   ]
  },
  {
   "cell_type": "markdown",
   "id": "4f2a324e",
   "metadata": {
    "heading_collapsed": true,
    "hidden": true
   },
   "source": [
    "#### 1. Explique o comportamento do *snippet* de código abaixo e o por que a variável `nome` é alterada após a execução do `for`:"
   ]
  },
  {
   "cell_type": "code",
   "execution_count": 4,
   "id": "d1b5a378",
   "metadata": {
    "ExecuteTime": {
     "end_time": "2022-04-20T23:14:03.218819Z",
     "start_time": "2022-04-20T23:14:03.213990Z"
    },
    "hidden": true
   },
   "outputs": [
    {
     "name": "stdout",
     "output_type": "stream",
     "text": [
      "A variável nome antes do for = Ferraresi\n",
      "A variável nome dentro do for = Pedro\n",
      "A variável nome dentro do for = Ana\n",
      "A variável nome dentro do for = Luiz\n",
      "A variável nome dentro do for = Camila\n",
      "A variável nome dentro do for = João\n",
      "A variável nome após a execuçãod do for = João\n"
     ]
    }
   ],
   "source": [
    "nomes = ['Pedro', 'Ana', 'Luiz', 'Camila', 'João']\n",
    "\n",
    "nome = 'Ferraresi'\n",
    "\n",
    "print(f'A variável nome antes do for = {nome}')\n",
    "\n",
    "for nome in nomes:\n",
    "    print(f'A variável nome dentro do for = {nome}')\n",
    "    \n",
    "print(f'A variável nome após a execuçãod do for = {nome}')"
   ]
  },
  {
   "cell_type": "markdown",
   "id": "831cd424",
   "metadata": {
    "heading_collapsed": true,
    "hidden": true
   },
   "source": [
    "##### Resolução"
   ]
  },
  {
   "cell_type": "code",
   "execution_count": null,
   "id": "1a63a287",
   "metadata": {
    "hidden": true
   },
   "outputs": [],
   "source": []
  },
  {
   "cell_type": "markdown",
   "id": "6dd567a4",
   "metadata": {
    "heading_collapsed": true,
    "hidden": true
   },
   "source": [
    "##### Resposta"
   ]
  },
  {
   "cell_type": "markdown",
   "id": "4fa3b7d6",
   "metadata": {
    "hidden": true
   },
   "source": [
    "Isso ocorre porque quando utilizamos a estrutura do tipo `for`, ela sempre irá ou criar uma variável global nova, ou ira utilizar uma já existente. No caso do *snippet* acima, a variável global `nome` foi criada antes que a estrutura de repetição `for` fosse executada. \n",
    "\n",
    "Isso faz com que quando o `for` for executado, ele irá utilizar a variável global `nome`, que já foi criada anteriormente, para colocar os valores individuais da lista `nomes`. Ou seja, quando o `for` iterar sobre o último valor da lista de nomes, esse valor ficará salvo na variável `nome` criada anteriormente, alterando assim o seu valor inicial."
   ]
  },
  {
   "cell_type": "markdown",
   "id": "2c522948",
   "metadata": {
    "heading_collapsed": true,
    "hidden": true
   },
   "source": [
    "#### 2 - Explique por que quando executamos a função do snippet abaixo, ela não altera a variável `nome` declarada de forma global"
   ]
  },
  {
   "cell_type": "code",
   "execution_count": 21,
   "id": "0ccf3bee",
   "metadata": {
    "ExecuteTime": {
     "end_time": "2022-04-20T23:21:07.691359Z",
     "start_time": "2022-04-20T23:21:07.686701Z"
    },
    "hidden": true
   },
   "outputs": [
    {
     "name": "stdout",
     "output_type": "stream",
     "text": [
      "140709639996560\n"
     ]
    }
   ],
   "source": [
    "nomes = ['Pedro', 'Ferraresi']\n",
    "nome = 'João'\n",
    "print(id(nome))"
   ]
  },
  {
   "cell_type": "code",
   "execution_count": 28,
   "id": "4626e366",
   "metadata": {
    "ExecuteTime": {
     "end_time": "2022-04-20T23:22:56.278717Z",
     "start_time": "2022-04-20T23:22:56.275273Z"
    },
    "hidden": true
   },
   "outputs": [],
   "source": [
    "def teste(nomes):    \n",
    "    for bacon in nomes:\n",
    "        print(f'O nome nesse momento é {nome}') "
   ]
  },
  {
   "cell_type": "code",
   "execution_count": 26,
   "id": "e2642c8c",
   "metadata": {
    "ExecuteTime": {
     "end_time": "2022-04-20T23:22:12.176328Z",
     "start_time": "2022-04-20T23:22:12.173332Z"
    },
    "hidden": true
   },
   "outputs": [
    {
     "name": "stdout",
     "output_type": "stream",
     "text": [
      "O nome nesse momento é João\n",
      "O nome nesse momento é João\n"
     ]
    }
   ],
   "source": [
    "teste(nomes)"
   ]
  },
  {
   "cell_type": "code",
   "execution_count": 24,
   "id": "3d7b366b",
   "metadata": {
    "ExecuteTime": {
     "end_time": "2022-04-20T23:21:08.409870Z",
     "start_time": "2022-04-20T23:21:08.406306Z"
    },
    "hidden": true
   },
   "outputs": [
    {
     "name": "stdout",
     "output_type": "stream",
     "text": [
      "Valor da variável nome é João\n"
     ]
    }
   ],
   "source": [
    "print(f'Valor da variável nome é {nome}')"
   ]
  },
  {
   "cell_type": "code",
   "execution_count": 27,
   "id": "67ab31ce",
   "metadata": {
    "ExecuteTime": {
     "end_time": "2022-04-20T23:22:19.176758Z",
     "start_time": "2022-04-20T23:22:19.167251Z"
    },
    "hidden": true
   },
   "outputs": [
    {
     "data": {
      "text/plain": [
       "'Ferraresi'"
      ]
     },
     "execution_count": 27,
     "metadata": {},
     "output_type": "execute_result"
    }
   ],
   "source": [
    "bacon"
   ]
  },
  {
   "cell_type": "markdown",
   "id": "50985fd7",
   "metadata": {
    "hidden": true
   },
   "source": [
    "##### Resolução"
   ]
  },
  {
   "cell_type": "code",
   "execution_count": null,
   "id": "51a32762",
   "metadata": {
    "hidden": true
   },
   "outputs": [],
   "source": []
  },
  {
   "cell_type": "markdown",
   "id": "7f1b280b",
   "metadata": {
    "heading_collapsed": true,
    "hidden": true
   },
   "source": [
    "##### Resposta"
   ]
  },
  {
   "cell_type": "markdown",
   "id": "c8c72d88",
   "metadata": {
    "hidden": true
   },
   "source": [
    "Pois quando executamos a função `teste()`, a estrutura `for` é executada dentro dela, criando assim a variável `nome` dentro da função, de forma local, não alterando assim o conteúdo da variável `nome` que é global."
   ]
  },
  {
   "cell_type": "markdown",
   "id": "8522d023",
   "metadata": {
    "heading_collapsed": true,
    "hidden": true
   },
   "source": [
    "#### 3 - Pesquise na internet uma maneira para fazer com que a variável `nome` global, do exercício anterior, assuma o último valor da lista de nomes passada na função. Ou seja, qual é função em Python que utilizamos para informar que desejamos utilizar uma variável local dentro do escopo de uma função ou classe?"
   ]
  },
  {
   "cell_type": "markdown",
   "id": "b02eb782",
   "metadata": {
    "heading_collapsed": true,
    "hidden": true
   },
   "source": [
    "#####  Resolução"
   ]
  },
  {
   "cell_type": "code",
   "execution_count": null,
   "id": "f222356f",
   "metadata": {
    "hidden": true
   },
   "outputs": [],
   "source": []
  },
  {
   "cell_type": "markdown",
   "id": "a28a6a6a",
   "metadata": {
    "heading_collapsed": true,
    "hidden": true
   },
   "source": [
    "##### Resposta"
   ]
  },
  {
   "cell_type": "markdown",
   "id": "19a188a9",
   "metadata": {
    "hidden": true
   },
   "source": [
    "Podemos utilizar a função `global` para informar ao Python que a variável que iremos utilizar é **Global** e não **Local**:"
   ]
  },
  {
   "cell_type": "code",
   "execution_count": 45,
   "id": "c2a4efef",
   "metadata": {
    "ExecuteTime": {
     "end_time": "2022-03-28T23:52:39.716780Z",
     "start_time": "2022-03-28T23:52:39.712870Z"
    },
    "hidden": true
   },
   "outputs": [],
   "source": [
    "nomes = ['Pedro', 'Ferraresi']\n",
    "nome = 'João'\n",
    "\n",
    "def teste(nomes):\n",
    "    # Define que dentro do escopo da função, a variável\n",
    "    # nome é a variável global declarada acima. Dessa forma,\n",
    "    # quando formos utilizar o for, ele irá utilizar a\n",
    "    # variável global ao invés de criar uma localmente\n",
    "    global nome\n",
    "    \n",
    "    for nome in nomes:\n",
    "        print(f'O nome nesse momento é {nome}') "
   ]
  },
  {
   "cell_type": "code",
   "execution_count": 46,
   "id": "a60d0418",
   "metadata": {
    "ExecuteTime": {
     "end_time": "2022-03-28T23:52:41.806669Z",
     "start_time": "2022-03-28T23:52:41.803348Z"
    },
    "hidden": true
   },
   "outputs": [
    {
     "name": "stdout",
     "output_type": "stream",
     "text": [
      "O nome nesse momento é Pedro\n",
      "O nome nesse momento é Ferraresi\n"
     ]
    }
   ],
   "source": [
    "teste(nomes)"
   ]
  },
  {
   "cell_type": "code",
   "execution_count": 47,
   "id": "1aa5f1f8",
   "metadata": {
    "ExecuteTime": {
     "end_time": "2022-03-28T23:52:48.124511Z",
     "start_time": "2022-03-28T23:52:48.121068Z"
    },
    "hidden": true
   },
   "outputs": [
    {
     "name": "stdout",
     "output_type": "stream",
     "text": [
      "Valor da variável nome é Ferraresi\n"
     ]
    }
   ],
   "source": [
    "print(f'Valor da variável nome é {nome}')"
   ]
  },
  {
   "cell_type": "markdown",
   "id": "70469b3a",
   "metadata": {
    "heading_collapsed": true,
    "hidden": true
   },
   "source": [
    "## 1.2 - Tipos Mutáveis *vs* Imutáveis"
   ]
  },
  {
   "cell_type": "markdown",
   "id": "8665a16c",
   "metadata": {
    "hidden": true
   },
   "source": [
    "Podemos entender **Estruturas Mutáveis** como tipos de variáveis que podemos alterar o seu conteúdo. Já **Estruturas Imutáveis** são variáveis que não podemos alterar o seu conteúdo.\n",
    "\n",
    "Para exemplificar melhor, imagine a seguinte situação: Temos a seguinte variável inteira em delcarada:"
   ]
  },
  {
   "cell_type": "code",
   "execution_count": 52,
   "id": "0270c8a9",
   "metadata": {
    "ExecuteTime": {
     "end_time": "2022-03-29T00:01:34.419692Z",
     "start_time": "2022-03-29T00:01:34.416132Z"
    },
    "hidden": true
   },
   "outputs": [
    {
     "name": "stdout",
     "output_type": "stream",
     "text": [
      "O valor da variavel pi é 3.1. E o seu conteúdo é do tipo <class 'float'>\n"
     ]
    }
   ],
   "source": [
    "pi = 3.1\n",
    "\n",
    "print(f'O valor da variavel pi é {pi}. E o seu conteúdo é do tipo {type(pi)}')"
   ]
  },
  {
   "cell_type": "markdown",
   "id": "7bb8573e",
   "metadata": {
    "hidden": true
   },
   "source": [
    "O tipo da variável `pi` é ***float***, ou seja, ela é uma variável do tipo **Decimal**. Agora observe a saída da função `id()`, que nos diz o registro do objeto/variável `pi` dentro da memória:"
   ]
  },
  {
   "cell_type": "code",
   "execution_count": 53,
   "id": "5cb2a140",
   "metadata": {
    "ExecuteTime": {
     "end_time": "2022-03-29T00:01:47.764697Z",
     "start_time": "2022-03-29T00:01:47.761287Z"
    },
    "hidden": true
   },
   "outputs": [
    {
     "data": {
      "text/plain": [
       "140334524901488"
      ]
     },
     "execution_count": 53,
     "metadata": {},
     "output_type": "execute_result"
    }
   ],
   "source": [
    "id(pi)"
   ]
  },
  {
   "cell_type": "markdown",
   "id": "c61f98c8",
   "metadata": {
    "hidden": true
   },
   "source": [
    "Esse valor grande é a referência que o Python utiliza sempre que desejamos utilizar a variável `pi` em nossa aplicação.\n",
    "\n",
    "Porém, o valor da variável está errado. Ao invés de ser somente o valor `3.1`, o valor correto da variável deveria ser `3.14`. Vamos fazer essa alteração então:"
   ]
  },
  {
   "cell_type": "code",
   "execution_count": 54,
   "id": "4b93fd4d",
   "metadata": {
    "ExecuteTime": {
     "end_time": "2022-03-29T00:01:55.529980Z",
     "start_time": "2022-03-29T00:01:55.527072Z"
    },
    "hidden": true
   },
   "outputs": [
    {
     "name": "stdout",
     "output_type": "stream",
     "text": [
      "O valor da variavel pi é 3.14. E o seu conteúdo é do tipo <class 'float'>\n"
     ]
    }
   ],
   "source": [
    "pi = 3.14\n",
    "\n",
    "print(f'O valor da variavel pi é {pi}. E o seu conteúdo é do tipo {type(pi)}')"
   ]
  },
  {
   "cell_type": "markdown",
   "id": "01379057",
   "metadata": {
    "hidden": true
   },
   "source": [
    "Observe que alteramos o conteúdo da variável e o seu tipo continuou o mesmo. Porém, se verificarmos a saída da função `id()`, veremos que a referência anterior foi alterada:"
   ]
  },
  {
   "cell_type": "code",
   "execution_count": 55,
   "id": "ace8be7b",
   "metadata": {
    "ExecuteTime": {
     "end_time": "2022-03-29T00:03:16.085832Z",
     "start_time": "2022-03-29T00:03:16.081595Z"
    },
    "hidden": true
   },
   "outputs": [
    {
     "data": {
      "text/plain": [
       "140334524901712"
      ]
     },
     "execution_count": 55,
     "metadata": {},
     "output_type": "execute_result"
    }
   ],
   "source": [
    "id(pi)"
   ]
  },
  {
   "cell_type": "markdown",
   "id": "4a728c28",
   "metadata": {
    "hidden": true
   },
   "source": [
    "Isso ocorre pois o tipo `float` dentro do Python é um tipo **Imutável**. Ou seja, o seu conteúdo não pode ser alterado.\n",
    "\n",
    "Embora temos a sensação que estamos alterando o conteúdo da variável `pi`, o que estamos fazendo por debaixo dos panos é apagar a variável `pi` anterior e criando uma nova variável com o mesmo nome só que com o conteúdo diferente.\n",
    "\n",
    "Os principais tipos de variáveis **Imutáveis** dentro do Python são:\n",
    "* int\n",
    "* float\n",
    "* bool\n",
    "* str\n",
    "* tuple"
   ]
  },
  {
   "cell_type": "markdown",
   "id": "1c1163d9",
   "metadata": {
    "hidden": true
   },
   "source": [
    "Para exemplificar as variáveis que são **Mutáveis**, pensar em um dicionário contendo constantes matemáticas, conforme abaixo:"
   ]
  },
  {
   "cell_type": "code",
   "execution_count": 64,
   "id": "993b4068",
   "metadata": {
    "ExecuteTime": {
     "end_time": "2022-03-29T00:18:22.453147Z",
     "start_time": "2022-03-29T00:18:22.449499Z"
    },
    "hidden": true
   },
   "outputs": [
    {
     "name": "stdout",
     "output_type": "stream",
     "text": [
      "As constantes dentro do dicionário são {'pi': 3.14, 'e': 2.71}\n",
      "140334526802176\n"
     ]
    }
   ],
   "source": [
    "constantes = {'pi': 3.14, 'e': 2.71}\n",
    "print(f'As constantes dentro do dicionário são {constantes}')\n",
    "print(id(constantes))"
   ]
  },
  {
   "cell_type": "markdown",
   "id": "049bdba0",
   "metadata": {
    "hidden": true
   },
   "source": [
    "Vamos adicionar uma nova constante dentro do nosso dicionário:"
   ]
  },
  {
   "cell_type": "code",
   "execution_count": 66,
   "id": "5c646b1c",
   "metadata": {
    "ExecuteTime": {
     "end_time": "2022-03-29T00:19:30.324901Z",
     "start_time": "2022-03-29T00:19:30.321549Z"
    },
    "hidden": true
   },
   "outputs": [
    {
     "name": "stdout",
     "output_type": "stream",
     "text": [
      "As constantes dentro do dicionário são {'pi': 3.14, 'e': 2.71, 'ouro': 1.61}\n",
      "140334526802176\n"
     ]
    }
   ],
   "source": [
    "constantes['ouro'] = 1.61\n",
    "print(f'As constantes dentro do dicionário são {constantes}')\n",
    "print(id(constantes))"
   ]
  },
  {
   "cell_type": "markdown",
   "id": "c176450b",
   "metadata": {
    "ExecuteTime": {
     "end_time": "2022-03-29T00:13:04.365621Z",
     "start_time": "2022-03-29T00:13:04.362394Z"
    },
    "hidden": true
   },
   "source": [
    "Observe que a saída do comando `id()` continuou sendo a mesma, ou seja, mesmo alterando o conteúdo do nosso dicionário, a sua referência na memória ficou a mesma. Para testarmos ainda mais, vamos adicionar mais casas decimais às nossas constatntes:"
   ]
  },
  {
   "cell_type": "code",
   "execution_count": 67,
   "id": "4b14f384",
   "metadata": {
    "ExecuteTime": {
     "end_time": "2022-03-29T00:21:28.103823Z",
     "start_time": "2022-03-29T00:21:28.100934Z"
    },
    "hidden": true
   },
   "outputs": [],
   "source": [
    "constantes['ouro'] = 1.618\n",
    "constantes['pi'] = 3.141\n",
    "constantes['e'] = 2.718"
   ]
  },
  {
   "cell_type": "code",
   "execution_count": 68,
   "id": "0b952274",
   "metadata": {
    "ExecuteTime": {
     "end_time": "2022-03-29T00:21:31.817880Z",
     "start_time": "2022-03-29T00:21:31.814288Z"
    },
    "hidden": true
   },
   "outputs": [
    {
     "name": "stdout",
     "output_type": "stream",
     "text": [
      "As constantes dentro do dicionário são {'pi': 3.141, 'e': 2.718, 'ouro': 1.618}\n",
      "140334526802176\n"
     ]
    }
   ],
   "source": [
    "print(f'As constantes dentro do dicionário são {constantes}')\n",
    "print(id(constantes))"
   ]
  },
  {
   "cell_type": "markdown",
   "id": "44b4a9af",
   "metadata": {
    "hidden": true
   },
   "source": [
    "Observe novamente que mesmo alterando os valores dentro do dicionário, o seu `id()` permanece o mesmo. Novamente, isso ocorre pois o tipo de dado `dict`, que é o dicionário, é um tipo de dados **Mutável**. Ou seja, nós conseguimos alterar o seu conteúdo, ou estado, sem que a sua referência em memória seja perdida/alterada.\n",
    "\n",
    "Os principais tipos de dados **Mutáveis** na linguagem Python são:\n",
    "* list\n",
    "* dict\n",
    "* set"
   ]
  },
  {
   "cell_type": "markdown",
   "id": "df589773",
   "metadata": {
    "hidden": true
   },
   "source": [
    "### 1.2.1 - Erros Comuns"
   ]
  },
  {
   "cell_type": "markdown",
   "id": "5eaff030",
   "metadata": {
    "hidden": true
   },
   "source": [
    "#### 1.2.1.1 - Tipos Mutáveis em Parametros opcionais de Funções"
   ]
  },
  {
   "cell_type": "markdown",
   "id": "0a9b42ee",
   "metadata": {
    "hidden": true
   },
   "source": [
    "Um dos erros mais comuns, se não o mais comum, quando trabalhamos com Python é utilizarmos tipos de dados **Mutáveis** como parâmetros de funções. Por exemplo, observe a seguinte função, inserir um nome em uma lista de nomes, transformando as letras de todos os nomes da lista em maiúsculo:"
   ]
  },
  {
   "cell_type": "code",
   "execution_count": 42,
   "id": "44b628bf",
   "metadata": {
    "ExecuteTime": {
     "end_time": "2022-04-20T23:29:27.054952Z",
     "start_time": "2022-04-20T23:29:27.051360Z"
    },
    "hidden": true
   },
   "outputs": [],
   "source": [
    "def ajusta_nomes(novo_nome = 'Nome não Informado', nomes = []):\n",
    "    \n",
    "    nomes.append(novo_nome.upper())\n",
    "    \n",
    "    for indice, nome in enumerate(nomes):\n",
    "        nomes[indice] = nome.upper()\n",
    "        \n",
    "    return nomes"
   ]
  },
  {
   "cell_type": "code",
   "execution_count": null,
   "id": "a180ea4e",
   "metadata": {
    "hidden": true
   },
   "outputs": [],
   "source": []
  },
  {
   "cell_type": "code",
   "execution_count": 43,
   "id": "5ff4d333",
   "metadata": {
    "ExecuteTime": {
     "end_time": "2022-04-20T23:29:27.393228Z",
     "start_time": "2022-04-20T23:29:27.390106Z"
    },
    "hidden": true
   },
   "outputs": [
    {
     "name": "stdout",
     "output_type": "stream",
     "text": [
      "O conteúdo da lista de nomes é ['pedro', 'ferraresi']\n",
      "O id da lista de nomes é 140709640030080\n"
     ]
    }
   ],
   "source": [
    "nomes = ['pedro', 'ferraresi']\n",
    "print(f'O conteúdo da lista de nomes é {nomes}')\n",
    "print(f'O id da lista de nomes é {id(nomes)}')"
   ]
  },
  {
   "cell_type": "code",
   "execution_count": 44,
   "id": "488e03e6",
   "metadata": {
    "ExecuteTime": {
     "end_time": "2022-04-20T23:29:27.865013Z",
     "start_time": "2022-04-20T23:29:27.861363Z"
    },
    "hidden": true
   },
   "outputs": [
    {
     "name": "stdout",
     "output_type": "stream",
     "text": [
      "O conteúdo da lista de nomes é ['PEDRO', 'FERRARESI', 'GUILHERME']\n",
      "O id da lista de nomes_ajustados é 140709640030080\n"
     ]
    }
   ],
   "source": [
    "# Execução da Função\n",
    "nomes_ajustados = ajusta_nomes('guilherme', nomes)\n",
    "\n",
    "# Verificação do Resultado da função\n",
    "print(f'O conteúdo da lista de nomes é {nomes_ajustados}')\n",
    "print(f'O id da lista de nomes_ajustados é {id(nomes_ajustados)}')"
   ]
  },
  {
   "cell_type": "markdown",
   "id": "2fb3860d",
   "metadata": {
    "hidden": true
   },
   "source": [
    "Observe que a função está funcionando corretamente quando passamos ambos os valores dos parametros `novo_nome` e `nomes` na nossa função.\n",
    "\n",
    "Porém, se observarmos a lógica da nossa função, veremos que caso não passemos nenhum valor para os parametros, eles devem assumir os seus respectivos valores padrão. Vejamos se isso ocorre:"
   ]
  },
  {
   "cell_type": "code",
   "execution_count": 45,
   "id": "23286475",
   "metadata": {
    "ExecuteTime": {
     "end_time": "2022-04-20T23:29:28.470322Z",
     "start_time": "2022-04-20T23:29:28.467064Z"
    },
    "hidden": true
   },
   "outputs": [
    {
     "name": "stdout",
     "output_type": "stream",
     "text": [
      "O conteúdo da lista de nomes é ['NOME NÃO INFORMADO']\n",
      "O id da lista de nomes é 140709086405632\n",
      "['PEDRO', 'FERRARESI', 'GUILHERME']\n"
     ]
    }
   ],
   "source": [
    "nomes_ajustados = ajusta_nomes()\n",
    "\n",
    "# Verificação do Resultado da função\n",
    "print(f'O conteúdo da lista de nomes é {nomes_ajustados}')\n",
    "print(f'O id da lista de nomes é {id(nomes_ajustados)}')\n",
    "print(nomes)"
   ]
  },
  {
   "cell_type": "markdown",
   "id": "06d2d093",
   "metadata": {
    "hidden": true
   },
   "source": [
    "Ocorreu o esperado! Quando não passamos nenhum parâmetro para a nossa função ela \"zerou\" os nomes da lista e inserou um novo elemento com o texto `NOME NÃO INFORMADO` todo em maiúsculo. Além disso, podemos obserar que o `id` da lista de nomes é diferente do `id` anterior, o que nos diz que realmente foi criada uma nova lista.\n",
    "\n",
    "O que significa que se executarmos novamente a função, teremos o mesmo resultado, certo?"
   ]
  },
  {
   "cell_type": "code",
   "execution_count": 135,
   "id": "4f7ea377",
   "metadata": {
    "ExecuteTime": {
     "end_time": "2022-03-29T00:50:32.267268Z",
     "start_time": "2022-03-29T00:50:32.263649Z"
    },
    "hidden": true
   },
   "outputs": [
    {
     "name": "stdout",
     "output_type": "stream",
     "text": [
      "O conteúdo da lista de nomes é ['NOME NÃO INFORMADO', 'NOME NÃO INFORMADO']\n",
      "O id da lista de nomes é 140334524982912\n"
     ]
    }
   ],
   "source": [
    "nomes_ajustados = ajusta_nomes()\n",
    "\n",
    "# Verificação do Resultado da função\n",
    "print(f'O conteúdo da lista de nomes é {nomes_ajustados}')\n",
    "print(f'O id da lista de nomes é {id(nomes_ajustados)}')"
   ]
  },
  {
   "cell_type": "markdown",
   "id": "c5b5a585",
   "metadata": {
    "hidden": true
   },
   "source": [
    "Observe agora que ao invés de ter sometne um elemento `NOME NÃO INFORMADO` dentro da lista temos dois. Fora isso, o `id` da lista é o mesmo que o `id` anteiror. E se executarmos uma terceira vez, teremos o seguinte resultado:"
   ]
  },
  {
   "cell_type": "code",
   "execution_count": 136,
   "id": "651b18bb",
   "metadata": {
    "ExecuteTime": {
     "end_time": "2022-03-29T00:51:26.844350Z",
     "start_time": "2022-03-29T00:51:26.840449Z"
    },
    "hidden": true
   },
   "outputs": [
    {
     "name": "stdout",
     "output_type": "stream",
     "text": [
      "O conteúdo da lista de nomes é ['NOME NÃO INFORMADO', 'NOME NÃO INFORMADO', 'NOME NÃO INFORMADO']\n",
      "O id da lista de nomes é 140334524982912\n"
     ]
    }
   ],
   "source": [
    "nomes_ajustados = ajusta_nomes()\n",
    "\n",
    "# Verificação do Resultado da função\n",
    "print(f'O conteúdo da lista de nomes é {nomes_ajustados}')\n",
    "print(f'O id da lista de nomes é {id(nomes_ajustados)}')"
   ]
  },
  {
   "cell_type": "markdown",
   "id": "53942873",
   "metadata": {
    "hidden": true
   },
   "source": [
    "Ou seja, a cada vez que executamos a função sem passar parâmetro algum, estamos \"reutilizando\" a lista criada pela primeira vez, ocasionando assim um bug (comportamento inesperado) em nossa aplicação.\n",
    "\n",
    "Uma das maneiras de resolvermos esse problema, é ajustando o parêmtro que deveria receber uma lista para que o seu valor padrão seja do tipo `None`, e verificando se esse paramentro é ou não `None` para então executar as ações da função:"
   ]
  },
  {
   "cell_type": "code",
   "execution_count": 138,
   "id": "506d81f9",
   "metadata": {
    "ExecuteTime": {
     "end_time": "2022-03-29T00:56:37.001735Z",
     "start_time": "2022-03-29T00:56:36.997781Z"
    },
    "hidden": true
   },
   "outputs": [],
   "source": [
    "def ajusta_nomes(novo_nome = 'Nome não Informado', nomes = None):\n",
    "    \n",
    "    # Verifica se o parametro nomes é igual a None\n",
    "    # se for, altera o seu tipo para uma lista vazia\n",
    "    if nomes == None:\n",
    "        nomes = []\n",
    "    \n",
    "    nomes.append(novo_nome.upper())\n",
    "    \n",
    "    for indice, nome in enumerate(nomes):\n",
    "        nomes[indice] = nome.upper()\n",
    "        \n",
    "    return nomes"
   ]
  },
  {
   "cell_type": "markdown",
   "id": "308cdbd9",
   "metadata": {
    "hidden": true
   },
   "source": [
    "Dessa forma, podemos executar quantas vezes quisermos a função sem a passagem de parametros que o comportamento será sempre o mesmo:"
   ]
  },
  {
   "cell_type": "code",
   "execution_count": 142,
   "id": "e8222ff9",
   "metadata": {
    "ExecuteTime": {
     "end_time": "2022-03-29T00:57:31.465456Z",
     "start_time": "2022-03-29T00:57:31.461647Z"
    },
    "hidden": true
   },
   "outputs": [
    {
     "name": "stdout",
     "output_type": "stream",
     "text": [
      "O conteúdo da lista de nomes é ['NOME NÃO INFORMADO']\n",
      "O id da lista de nomes é 140334523949248\n"
     ]
    }
   ],
   "source": [
    "# Primeira Execução\n",
    "nomes_ajustados = ajusta_nomes()\n",
    "\n",
    "# Verificação do Resultado da função\n",
    "print(f'O conteúdo da lista de nomes é {nomes_ajustados}')\n",
    "print(f'O id da lista de nomes é {id(nomes_ajustados)}')"
   ]
  },
  {
   "cell_type": "code",
   "execution_count": 143,
   "id": "54558a58",
   "metadata": {
    "ExecuteTime": {
     "end_time": "2022-03-29T00:57:37.854160Z",
     "start_time": "2022-03-29T00:57:37.850452Z"
    },
    "hidden": true
   },
   "outputs": [
    {
     "name": "stdout",
     "output_type": "stream",
     "text": [
      "O conteúdo da lista de nomes é ['NOME NÃO INFORMADO']\n",
      "O id da lista de nomes é 140334523878912\n"
     ]
    }
   ],
   "source": [
    "# Segunda Execução\n",
    "nomes_ajustados = ajusta_nomes()\n",
    "\n",
    "# Verificação do Resultado da função\n",
    "print(f'O conteúdo da lista de nomes é {nomes_ajustados}')\n",
    "print(f'O id da lista de nomes é {id(nomes_ajustados)}')"
   ]
  },
  {
   "cell_type": "code",
   "execution_count": 145,
   "id": "d206e4c6",
   "metadata": {
    "ExecuteTime": {
     "end_time": "2022-03-29T00:57:45.556190Z",
     "start_time": "2022-03-29T00:57:45.552535Z"
    },
    "hidden": true
   },
   "outputs": [
    {
     "name": "stdout",
     "output_type": "stream",
     "text": [
      "O conteúdo da lista de nomes é ['NOME NÃO INFORMADO']\n",
      "O id da lista de nomes é 140334523916160\n"
     ]
    }
   ],
   "source": [
    "# Terceira Execução\n",
    "nomes_ajustados = ajusta_nomes()\n",
    "\n",
    "# Verificação do Resultado da função\n",
    "print(f'O conteúdo da lista de nomes é {nomes_ajustados}')\n",
    "print(f'O id da lista de nomes é {id(nomes_ajustados)}')"
   ]
  },
  {
   "cell_type": "markdown",
   "id": "412ba3a1",
   "metadata": {
    "hidden": true
   },
   "source": [
    "#### 1.2.1.2 - Alterando Conteúdo de Variável Mutável durante a iteração sobre essa variável"
   ]
  },
  {
   "cell_type": "markdown",
   "id": "f4b0034c",
   "metadata": {
    "hidden": true
   },
   "source": [
    "Outro problema muito comum quando estamos aprendendo a utilizar o Python é percorrer uma variável mutável e fazer alterações em sua estrutura durante a iteração. Para exemplificar, imagine a seguinte base de usuários:"
   ]
  },
  {
   "cell_type": "code",
   "execution_count": 47,
   "id": "7bfbcd80",
   "metadata": {
    "ExecuteTime": {
     "end_time": "2022-04-20T23:36:47.302343Z",
     "start_time": "2022-04-20T23:36:47.299385Z"
    },
    "hidden": true
   },
   "outputs": [],
   "source": [
    "lista = [1, 2, 3, 4, 5, 6, 7]"
   ]
  },
  {
   "cell_type": "code",
   "execution_count": 53,
   "id": "28f0aa72",
   "metadata": {
    "ExecuteTime": {
     "end_time": "2022-04-20T23:37:37.957410Z",
     "start_time": "2022-04-20T23:37:37.952917Z"
    },
    "hidden": true
   },
   "outputs": [
    {
     "data": {
      "text/plain": [
       "[1, 2, 4, 5, 6]"
      ]
     },
     "execution_count": 53,
     "metadata": {},
     "output_type": "execute_result"
    }
   ],
   "source": [
    "lista"
   ]
  },
  {
   "cell_type": "code",
   "execution_count": 52,
   "id": "d62a78b1",
   "metadata": {
    "ExecuteTime": {
     "end_time": "2022-04-20T23:37:35.506747Z",
     "start_time": "2022-04-20T23:37:35.503044Z"
    },
    "hidden": true
   },
   "outputs": [
    {
     "data": {
      "text/plain": [
       "3"
      ]
     },
     "execution_count": 52,
     "metadata": {},
     "output_type": "execute_result"
    }
   ],
   "source": [
    "valor = lista.pop(2)\n",
    "valor"
   ]
  },
  {
   "cell_type": "code",
   "execution_count": null,
   "id": "cee6d185",
   "metadata": {
    "hidden": true
   },
   "outputs": [],
   "source": []
  },
  {
   "cell_type": "code",
   "execution_count": 46,
   "id": "b06b6c16",
   "metadata": {
    "ExecuteTime": {
     "end_time": "2022-04-20T23:34:40.400434Z",
     "start_time": "2022-04-20T23:34:40.395811Z"
    },
    "hidden": true
   },
   "outputs": [],
   "source": [
    "usuarios = [\n",
    "    {'id': 1,  'name': 'Chase Mclean'},\n",
    "    {'id': 2,  'name': 'Moses Fernandez'},\n",
    "    {'id': 3,  'name': 'Skyler Levy'},\n",
    "    {'id': 4,  'name': 'Patrick Kemp'},\n",
    "    {'id': 5,  'name': 'Erasmus Fuller'},\n",
    "    {'id': 6,  'name': 'Lamar Mccall'},\n",
    "    {'id': 7,  'name': 'Nayda Aguilar'},\n",
    "    {'id': 8,  'name': 'Lucy Heath'},\n",
    "    {'id': 9,  'name': 'Devin Patrick'},\n",
    "    {'id': 10, 'name': 'Kaseem Valenzuela'},\n",
    "]"
   ]
  },
  {
   "cell_type": "markdown",
   "id": "5c6035cb",
   "metadata": {
    "hidden": true
   },
   "source": [
    "E nos foi passado que precisarímos selecionar os usuários que possuem o campo `id` igual ao seguintes valores `[5, 6, 9, 10]`. Uma forma de fazermos isso seria percorrer a nossa lista de usuários, verificar quais usuário possuem o campo `id` e remove-los da lista usando o método `pop()`:"
   ]
  },
  {
   "cell_type": "code",
   "execution_count": 54,
   "id": "89c2ad0b",
   "metadata": {
    "ExecuteTime": {
     "end_time": "2022-04-21T00:08:31.858243Z",
     "start_time": "2022-04-21T00:08:31.854421Z"
    },
    "hidden": true
   },
   "outputs": [],
   "source": [
    "ids_usuarios = [5, 6, 9, 10]\n",
    "\n",
    "for index, usuario in enumerate(usuarios):\n",
    "    if usuario['id'] not in ids_usuarios:\n",
    "        usuarios.pop(index)"
   ]
  },
  {
   "cell_type": "code",
   "execution_count": 78,
   "id": "9840db78",
   "metadata": {
    "ExecuteTime": {
     "end_time": "2022-03-29T22:28:55.700339Z",
     "start_time": "2022-03-29T22:28:55.696140Z"
    },
    "hidden": true
   },
   "outputs": [
    {
     "data": {
      "text/plain": [
       "[{'id': 2, 'name': 'Moses Fernandez'},\n",
       " {'id': 4, 'name': 'Patrick Kemp'},\n",
       " {'id': 5, 'name': 'Erasmus Fuller'},\n",
       " {'id': 6, 'name': 'Lamar Mccall'},\n",
       " {'id': 8, 'name': 'Lucy Heath'},\n",
       " {'id': 9, 'name': 'Devin Patrick'},\n",
       " {'id': 10, 'name': 'Kaseem Valenzuela'}]"
      ]
     },
     "execution_count": 78,
     "metadata": {},
     "output_type": "execute_result"
    }
   ],
   "source": [
    "usuarios"
   ]
  },
  {
   "cell_type": "markdown",
   "id": "86b307d2",
   "metadata": {
    "hidden": true
   },
   "source": [
    "Porém, observe que os usuários selecionados não são os usuários esperados. Tanto o usário com `id` 2, 4, e 8 não deveriam estar na lista final.\n",
    "\n",
    "Esse problema ocorre pois estamos alterando o tamanho da nossa lista de usuários enquanto percorremos ela. Para que fique mais claro, vamos resetar nossa lista de usuários e adicionar mensagens de debug em nosso `for`:"
   ]
  },
  {
   "cell_type": "code",
   "execution_count": 88,
   "id": "6afbbd9e",
   "metadata": {
    "ExecuteTime": {
     "end_time": "2022-03-29T22:36:26.004097Z",
     "start_time": "2022-03-29T22:36:25.998935Z"
    },
    "hidden": true
   },
   "outputs": [],
   "source": [
    "usuarios = [                                 # Iteraçao\n",
    "    {'id': 1,  'name': 'Chase Mclean'},      # 0 - - - - -\n",
    "    {'id': 2,  'name': 'Moses Fernandez'},   # 1 0 0 0 0 0\n",
    "    {'id': 3,  'name': 'Skyler Levy'},       # 2 1 - - - -\n",
    "    {'id': 4,  'name': 'Patrick Kemp'},      # 3 2 1 1 1 1\n",
    "    {'id': 5,  'name': 'Erasmus Fuller'},    # 4 3 2 2 2 2\n",
    "    {'id': 6,  'name': 'Lamar Mccall'},      # 5 4 3 3 3 3\n",
    "    {'id': 7,  'name': 'Nayda Aguilar'},     # 6 5 4 4 4 -\n",
    "    {'id': 8,  'name': 'Lucy Heath'},        # 7 6 5 5 5 4\n",
    "    {'id': 9,  'name': 'Devin Patrick'},     # 8 7 6 6 6 5\n",
    "    {'id': 10, 'name': 'Kaseem Valenzuela'}, # 9 8 7 7 7 6\n",
    "]"
   ]
  },
  {
   "cell_type": "code",
   "execution_count": 89,
   "id": "493d238a",
   "metadata": {
    "ExecuteTime": {
     "end_time": "2022-03-29T22:36:26.129449Z",
     "start_time": "2022-03-29T22:36:26.122950Z"
    },
    "hidden": true
   },
   "outputs": [
    {
     "name": "stdout",
     "output_type": "stream",
     "text": [
      "=== Inicio da 0 iteração ===\n",
      "Indice atual da iteração 0; Usuário que será verificado = {'id': 1, 'name': 'Chase Mclean'}\n",
      "Usuario que será removido {'id': 1, 'name': 'Chase Mclean'}\n",
      "== fim da da 0 iteração ===\n",
      "\n",
      "=== Inicio da 1 iteração ===\n",
      "Indice atual da iteração 1; Usuário que será verificado = {'id': 3, 'name': 'Skyler Levy'}\n",
      "Usuario que será removido {'id': 3, 'name': 'Skyler Levy'}\n",
      "== fim da da 1 iteração ===\n",
      "\n",
      "=== Inicio da 2 iteração ===\n",
      "Indice atual da iteração 2; Usuário que será verificado = {'id': 5, 'name': 'Erasmus Fuller'}\n",
      "== fim da da 2 iteração ===\n",
      "\n",
      "=== Inicio da 3 iteração ===\n",
      "Indice atual da iteração 3; Usuário que será verificado = {'id': 6, 'name': 'Lamar Mccall'}\n",
      "== fim da da 3 iteração ===\n",
      "\n",
      "=== Inicio da 4 iteração ===\n",
      "Indice atual da iteração 4; Usuário que será verificado = {'id': 7, 'name': 'Nayda Aguilar'}\n",
      "Usuario que será removido {'id': 7, 'name': 'Nayda Aguilar'}\n",
      "== fim da da 4 iteração ===\n",
      "\n",
      "=== Inicio da 5 iteração ===\n",
      "Indice atual da iteração 5; Usuário que será verificado = {'id': 9, 'name': 'Devin Patrick'}\n",
      "== fim da da 5 iteração ===\n",
      "\n",
      "=== Inicio da 6 iteração ===\n",
      "Indice atual da iteração 6; Usuário que será verificado = {'id': 10, 'name': 'Kaseem Valenzuela'}\n",
      "== fim da da 6 iteração ===\n",
      "\n"
     ]
    }
   ],
   "source": [
    "ids_usuarios = [5, 6, 9, 10]\n",
    "\n",
    "for index, usuario in enumerate(usuarios):\n",
    "    print(f'=== Inicio da {index} iteração ===')\n",
    "    print(f'Indice atual da iteração {index}; Usuário que será verificado = {usuario}')\n",
    "    \n",
    "    if usuario['id'] not in ids_usuarios:\n",
    "        print(f'Usuario que será removido {usuarios[index]}')\n",
    "        usuarios.pop(index)\n",
    "        \n",
    "    print(f'== fim da da {index} iteração ===\\n')"
   ]
  },
  {
   "cell_type": "markdown",
   "id": "47a89eac",
   "metadata": {
    "hidden": true
   },
   "source": [
    "Podemos observar através das mensagens de debug o comportamento do `for` e entender o porque alguns usuários não estão sendo removidos.\n",
    "\n",
    "Primeiro, a quantidade de iterações não condiz com a quantidade de usuários da nossa lista. Ou seja, como haviam 10 usuário na lista, deveríamos ter também 10 iterações. Essa quantidade de iterações não é realizada pois a cada iteração há uma alteração no tamanho da lista, o que faz com que a cdondição de parada também seja alterada.\n",
    "\n",
    "Outro ponto é que, como a lista tem o seu tamanho alterado a cada iteração, a posição dos elementos também é alterada. Ou seja, na primeira iteração, o elemento que está no índice zero é `{'id': 1,  'name': 'Chase Mclean'}`. Porém, ao final da primeira iteração, como esse elemento foi removido, o novo elemento que está no índice zero agora é o elemento `{'id': 2,  'name': 'Moses Fernandez'}`, e é por esse motivo que ele não é testado na cláusula `if` e nem removido. O mesmo ocorre para os elementos `{'id': 4, 'name': 'Patrick Kemp'}` e `{'id': 8, 'name': 'Lucy Heath'}`, conforme podemos observar nos usuário selecionados."
   ]
  },
  {
   "cell_type": "code",
   "execution_count": 91,
   "id": "0734ecfd",
   "metadata": {
    "ExecuteTime": {
     "end_time": "2022-03-29T22:37:21.855429Z",
     "start_time": "2022-03-29T22:37:21.850952Z"
    },
    "hidden": true
   },
   "outputs": [
    {
     "data": {
      "text/plain": [
       "[{'id': 2, 'name': 'Moses Fernandez'},\n",
       " {'id': 4, 'name': 'Patrick Kemp'},\n",
       " {'id': 5, 'name': 'Erasmus Fuller'},\n",
       " {'id': 6, 'name': 'Lamar Mccall'},\n",
       " {'id': 8, 'name': 'Lucy Heath'},\n",
       " {'id': 9, 'name': 'Devin Patrick'},\n",
       " {'id': 10, 'name': 'Kaseem Valenzuela'}]"
      ]
     },
     "execution_count": 91,
     "metadata": {},
     "output_type": "execute_result"
    }
   ],
   "source": [
    "usuarios"
   ]
  },
  {
   "cell_type": "markdown",
   "id": "b3ac5d6f",
   "metadata": {
    "hidden": true
   },
   "source": [
    "E esse tipo de comportamento ocorre pois a lista é uma estrutura **Mutável** dentro do Python. Dessa forma, é considerado uma má prática alterar uma estrutura **Mutável** enquanto estamos iterando sobre ela.\n",
    "\n",
    "Uma boa prática ao selecionarmos valores/conteúdos de listas ou quaisquer outras estruturas de coleção é criar uma variável que será responsável por guardar os valores selecionados, dessa forma evitamos de alterar a estrutura que estamos percorrendo. Por exemplo:"
   ]
  },
  {
   "cell_type": "code",
   "execution_count": 66,
   "id": "8cb340f8",
   "metadata": {
    "ExecuteTime": {
     "end_time": "2022-04-21T00:26:32.616105Z",
     "start_time": "2022-04-21T00:26:32.607014Z"
    },
    "hidden": true
   },
   "outputs": [
    {
     "data": {
      "text/plain": [
       "[{'id': 1, 'name': 'Chase Mclean', 'preco': '123.0'},\n",
       " {'id': 2, 'name': 'Moses Fernandez', 'preco': '123.0'},\n",
       " {'id': 3, 'name': 'Skyler Levy', 'preco': '123.0'},\n",
       " {'id': 4, 'name': 'Patrick Kemp', 'preco': '123.0'},\n",
       " {'id': 5, 'name': 'Erasmus Fuller', 'preco': '123.0'},\n",
       " {'id': 6, 'name': 'Lamar Mccall', 'preco': '123.0'},\n",
       " {'id': 7, 'name': 'Nayda Aguilar', 'preco': '123.0'},\n",
       " {'id': 8, 'name': 'Lucy Heath', 'preco': '123.0'},\n",
       " {'id': 9, 'name': 'Devin Patrick', 'preco': '123.0'},\n",
       " {'id': 10, 'name': 'Kaseem Valenzuela', 'preco': '123.0'}]"
      ]
     },
     "execution_count": 66,
     "metadata": {},
     "output_type": "execute_result"
    }
   ],
   "source": [
    "usuarios = [\n",
    "    {'id': 1,  'name': 'Chase Mclean', 'preco': '123.0'},\n",
    "    {'id': 2,  'name': 'Moses Fernandez', 'preco': '123.0'},\n",
    "    {'id': 3,  'name': 'Skyler Levy', 'preco': '123.0'},\n",
    "    {'id': 4,  'name': 'Patrick Kemp', 'preco': '123.0'},\n",
    "    {'id': 5,  'name': 'Erasmus Fuller', 'preco': '123.0'},\n",
    "    {'id': 6,  'name': 'Lamar Mccall', 'preco': '123.0'},\n",
    "    {'id': 7,  'name': 'Nayda Aguilar', 'preco': '123.0'},\n",
    "    {'id': 8,  'name': 'Lucy Heath', 'preco': '123.0'},\n",
    "    {'id': 9,  'name': 'Devin Patrick', 'preco': '123.0'},\n",
    "    {'id': 10, 'name': 'Kaseem Valenzuela', 'preco': '123.0'},\n",
    "]\n",
    "\n",
    "usuarios"
   ]
  },
  {
   "cell_type": "code",
   "execution_count": 67,
   "id": "69b931b9",
   "metadata": {
    "ExecuteTime": {
     "end_time": "2022-04-21T00:26:50.986061Z",
     "start_time": "2022-04-21T00:26:50.978517Z"
    },
    "hidden": true
   },
   "outputs": [
    {
     "data": {
      "text/plain": [
       "[{'id': 1, 'name': 'Chase Mclean', 'preco': 123.0},\n",
       " {'id': 2, 'name': 'Moses Fernandez', 'preco': 123.0},\n",
       " {'id': 3, 'name': 'Skyler Levy', 'preco': 123.0},\n",
       " {'id': 4, 'name': 'Patrick Kemp', 'preco': 123.0},\n",
       " {'id': 5, 'name': 'Erasmus Fuller', 'preco': 123.0},\n",
       " {'id': 6, 'name': 'Lamar Mccall', 'preco': 123.0},\n",
       " {'id': 7, 'name': 'Nayda Aguilar', 'preco': 123.0},\n",
       " {'id': 8, 'name': 'Lucy Heath', 'preco': 123.0},\n",
       " {'id': 9, 'name': 'Devin Patrick', 'preco': 123.0},\n",
       " {'id': 10, 'name': 'Kaseem Valenzuela', 'preco': 123.0}]"
      ]
     },
     "execution_count": 67,
     "metadata": {},
     "output_type": "execute_result"
    }
   ],
   "source": [
    "# ids_usuarios = [5, 6, 9, 10]\n",
    "# usuarios_selecionados = []\n",
    "\n",
    "for index, usuario in enumerate(usuarios):\n",
    "    usuarios[index]['preco'] = float(usuarios[index]['preco'] )\n",
    "    \n",
    "usuarios"
   ]
  },
  {
   "cell_type": "code",
   "execution_count": 94,
   "id": "42150cd1",
   "metadata": {
    "ExecuteTime": {
     "end_time": "2022-03-29T22:42:16.770295Z",
     "start_time": "2022-03-29T22:42:16.766136Z"
    },
    "hidden": true
   },
   "outputs": [
    {
     "data": {
      "text/plain": [
       "[{'id': 5, 'name': 'Erasmus Fuller'},\n",
       " {'id': 6, 'name': 'Lamar Mccall'},\n",
       " {'id': 9, 'name': 'Devin Patrick'},\n",
       " {'id': 10, 'name': 'Kaseem Valenzuela'}]"
      ]
     },
     "execution_count": 94,
     "metadata": {},
     "output_type": "execute_result"
    }
   ],
   "source": [
    "usuarios_selecionados"
   ]
  },
  {
   "cell_type": "code",
   "execution_count": 57,
   "id": "a091be73",
   "metadata": {
    "ExecuteTime": {
     "end_time": "2022-04-21T00:21:59.553440Z",
     "start_time": "2022-04-21T00:21:59.233064Z"
    },
    "hidden": true
   },
   "outputs": [],
   "source": [
    "import pandas as pd"
   ]
  },
  {
   "cell_type": "code",
   "execution_count": 58,
   "id": "c7faf7a7",
   "metadata": {
    "ExecuteTime": {
     "end_time": "2022-04-21T00:22:14.914214Z",
     "start_time": "2022-04-21T00:22:14.901442Z"
    },
    "hidden": true
   },
   "outputs": [
    {
     "data": {
      "text/html": [
       "<div>\n",
       "<style scoped>\n",
       "    .dataframe tbody tr th:only-of-type {\n",
       "        vertical-align: middle;\n",
       "    }\n",
       "\n",
       "    .dataframe tbody tr th {\n",
       "        vertical-align: top;\n",
       "    }\n",
       "\n",
       "    .dataframe thead th {\n",
       "        text-align: right;\n",
       "    }\n",
       "</style>\n",
       "<table border=\"1\" class=\"dataframe\">\n",
       "  <thead>\n",
       "    <tr style=\"text-align: right;\">\n",
       "      <th></th>\n",
       "      <th>id</th>\n",
       "      <th>name</th>\n",
       "      <th>preco</th>\n",
       "    </tr>\n",
       "  </thead>\n",
       "  <tbody>\n",
       "    <tr>\n",
       "      <th>0</th>\n",
       "      <td>1</td>\n",
       "      <td>Chase Mclean</td>\n",
       "      <td>123.0</td>\n",
       "    </tr>\n",
       "    <tr>\n",
       "      <th>1</th>\n",
       "      <td>2</td>\n",
       "      <td>Moses Fernandez</td>\n",
       "      <td>123.0</td>\n",
       "    </tr>\n",
       "    <tr>\n",
       "      <th>2</th>\n",
       "      <td>3</td>\n",
       "      <td>Skyler Levy</td>\n",
       "      <td>123.0</td>\n",
       "    </tr>\n",
       "    <tr>\n",
       "      <th>3</th>\n",
       "      <td>4</td>\n",
       "      <td>Patrick Kemp</td>\n",
       "      <td>123.0</td>\n",
       "    </tr>\n",
       "    <tr>\n",
       "      <th>4</th>\n",
       "      <td>5</td>\n",
       "      <td>Erasmus Fuller</td>\n",
       "      <td>123.0</td>\n",
       "    </tr>\n",
       "    <tr>\n",
       "      <th>5</th>\n",
       "      <td>6</td>\n",
       "      <td>Lamar Mccall</td>\n",
       "      <td>123.0</td>\n",
       "    </tr>\n",
       "    <tr>\n",
       "      <th>6</th>\n",
       "      <td>7</td>\n",
       "      <td>Nayda Aguilar</td>\n",
       "      <td>123.0</td>\n",
       "    </tr>\n",
       "    <tr>\n",
       "      <th>7</th>\n",
       "      <td>8</td>\n",
       "      <td>Lucy Heath</td>\n",
       "      <td>123.0</td>\n",
       "    </tr>\n",
       "    <tr>\n",
       "      <th>8</th>\n",
       "      <td>9</td>\n",
       "      <td>Devin Patrick</td>\n",
       "      <td>123.0</td>\n",
       "    </tr>\n",
       "    <tr>\n",
       "      <th>9</th>\n",
       "      <td>10</td>\n",
       "      <td>Kaseem Valenzuela</td>\n",
       "      <td>123.0</td>\n",
       "    </tr>\n",
       "  </tbody>\n",
       "</table>\n",
       "</div>"
      ],
      "text/plain": [
       "   id               name  preco\n",
       "0   1       Chase Mclean  123.0\n",
       "1   2    Moses Fernandez  123.0\n",
       "2   3        Skyler Levy  123.0\n",
       "3   4       Patrick Kemp  123.0\n",
       "4   5     Erasmus Fuller  123.0\n",
       "5   6       Lamar Mccall  123.0\n",
       "6   7      Nayda Aguilar  123.0\n",
       "7   8         Lucy Heath  123.0\n",
       "8   9      Devin Patrick  123.0\n",
       "9  10  Kaseem Valenzuela  123.0"
      ]
     },
     "execution_count": 58,
     "metadata": {},
     "output_type": "execute_result"
    }
   ],
   "source": [
    "df = pd.DataFrame(usuarios)\n",
    "df"
   ]
  },
  {
   "cell_type": "code",
   "execution_count": 59,
   "id": "33ab86c0",
   "metadata": {
    "ExecuteTime": {
     "end_time": "2022-04-21T00:22:29.439535Z",
     "start_time": "2022-04-21T00:22:29.435220Z"
    },
    "hidden": true
   },
   "outputs": [
    {
     "data": {
      "text/plain": [
       "id        int64\n",
       "name     object\n",
       "preco    object\n",
       "dtype: object"
      ]
     },
     "execution_count": 59,
     "metadata": {},
     "output_type": "execute_result"
    }
   ],
   "source": [
    "df.dtypes"
   ]
  },
  {
   "cell_type": "code",
   "execution_count": 63,
   "id": "ef0437fb",
   "metadata": {
    "ExecuteTime": {
     "end_time": "2022-04-21T00:23:39.262011Z",
     "start_time": "2022-04-21T00:23:39.258400Z"
    },
    "hidden": true
   },
   "outputs": [],
   "source": [
    "df['preco'] = df['preco'].astype('float64')"
   ]
  },
  {
   "cell_type": "code",
   "execution_count": 64,
   "id": "e32bd6b3",
   "metadata": {
    "ExecuteTime": {
     "end_time": "2022-04-21T00:23:39.859684Z",
     "start_time": "2022-04-21T00:23:39.855504Z"
    },
    "hidden": true
   },
   "outputs": [
    {
     "data": {
      "text/plain": [
       "id         int64\n",
       "name      object\n",
       "preco    float64\n",
       "dtype: object"
      ]
     },
     "execution_count": 64,
     "metadata": {},
     "output_type": "execute_result"
    }
   ],
   "source": [
    "df.dtypes"
   ]
  },
  {
   "cell_type": "code",
   "execution_count": 69,
   "id": "99a9f8b1",
   "metadata": {
    "ExecuteTime": {
     "end_time": "2022-04-21T00:27:30.818717Z",
     "start_time": "2022-04-21T00:27:30.815291Z"
    },
    "hidden": true
   },
   "outputs": [
    {
     "data": {
      "text/plain": [
       "pandas.core.series.Series"
      ]
     },
     "execution_count": 69,
     "metadata": {},
     "output_type": "execute_result"
    }
   ],
   "source": [
    "type(df['preco'])"
   ]
  },
  {
   "cell_type": "code",
   "execution_count": 70,
   "id": "12d6368e",
   "metadata": {
    "ExecuteTime": {
     "end_time": "2022-04-21T00:27:58.773145Z",
     "start_time": "2022-04-21T00:27:58.768196Z"
    },
    "hidden": true
   },
   "outputs": [
    {
     "data": {
      "text/plain": [
       "0    123.0\n",
       "1    123.0\n",
       "2    123.0\n",
       "3    123.0\n",
       "4    123.0\n",
       "5    123.0\n",
       "6    123.0\n",
       "7    123.0\n",
       "8    123.0\n",
       "9    123.0\n",
       "Name: preco, dtype: float64"
      ]
     },
     "execution_count": 70,
     "metadata": {},
     "output_type": "execute_result"
    }
   ],
   "source": [
    "df['preco']"
   ]
  },
  {
   "cell_type": "markdown",
   "id": "b1162737",
   "metadata": {
    "heading_collapsed": true,
    "hidden": true
   },
   "source": [
    "### 1.2.2 - Exercícios"
   ]
  },
  {
   "cell_type": "markdown",
   "id": "d0d5af09",
   "metadata": {
    "heading_collapsed": true,
    "hidden": true
   },
   "source": [
    "#### 1 - Refatore o *snippet* abaixo para que o código funcione corretamente. O código deve selecionar da lista de valores somente os valores que possuem raiz quadrada exata. Exemplo Raiz 4 = 2."
   ]
  },
  {
   "cell_type": "markdown",
   "id": "7727ca23",
   "metadata": {
    "heading_collapsed": true,
    "hidden": true
   },
   "source": [
    "##### Resolução"
   ]
  },
  {
   "cell_type": "code",
   "execution_count": 72,
   "id": "2e5262e6",
   "metadata": {
    "ExecuteTime": {
     "end_time": "2022-04-21T00:29:09.149686Z",
     "start_time": "2022-04-21T00:29:09.145026Z"
    },
    "hidden": true
   },
   "outputs": [
    {
     "data": {
      "text/plain": [
       "[1, 2, 3, 4, 5, 6, 7, 8, 9, 10]"
      ]
     },
     "execution_count": 72,
     "metadata": {},
     "output_type": "execute_result"
    }
   ],
   "source": [
    "valores = list(range(1, 51))\n",
    "valores[:10]"
   ]
  },
  {
   "cell_type": "code",
   "execution_count": 76,
   "id": "e7b9c74f",
   "metadata": {
    "ExecuteTime": {
     "end_time": "2022-04-21T00:37:41.613066Z",
     "start_time": "2022-04-21T00:37:41.609869Z"
    },
    "hidden": true
   },
   "outputs": [],
   "source": [
    "import math\n",
    "\n",
    "valores_selecionados = []\n",
    "\n",
    "for valor in valores:\n",
    "    if math.sqrt(valor).is_integer():\n",
    "#     if math.sqrt(valor).is_integer():\n",
    "        valores_selecionados.append(valor)"
   ]
  },
  {
   "cell_type": "code",
   "execution_count": 74,
   "id": "42ad7352",
   "metadata": {
    "ExecuteTime": {
     "end_time": "2022-04-21T00:36:35.850580Z",
     "start_time": "2022-04-21T00:36:35.847171Z"
    },
    "hidden": true
   },
   "outputs": [],
   "source": [
    "assert valores_selecionados == [1, 4, 9, 16, 25, 36, 49], 'Erro ao selecionar valores'"
   ]
  },
  {
   "cell_type": "markdown",
   "id": "2642c5c5",
   "metadata": {
    "heading_collapsed": true,
    "hidden": true
   },
   "source": [
    "#####  Resposta"
   ]
  },
  {
   "cell_type": "code",
   "execution_count": 100,
   "id": "e3220df0",
   "metadata": {
    "ExecuteTime": {
     "end_time": "2022-03-29T23:00:07.862849Z",
     "start_time": "2022-03-29T23:00:07.859604Z"
    },
    "hidden": true
   },
   "outputs": [],
   "source": [
    "valores = list(range(1, 51))"
   ]
  },
  {
   "cell_type": "code",
   "execution_count": 101,
   "id": "8ecbf3b3",
   "metadata": {
    "ExecuteTime": {
     "end_time": "2022-03-29T23:00:08.489138Z",
     "start_time": "2022-03-29T23:00:08.485975Z"
    },
    "hidden": true
   },
   "outputs": [],
   "source": [
    "import math\n",
    "\n",
    "valores_selecionados = []\n",
    "\n",
    "for valor in valores:\n",
    "    if math.sqrt(valor).is_integer():\n",
    "        valores_selecionados.append(valor)"
   ]
  },
  {
   "cell_type": "code",
   "execution_count": 103,
   "id": "69eb7725",
   "metadata": {
    "ExecuteTime": {
     "end_time": "2022-03-29T23:01:55.106798Z",
     "start_time": "2022-03-29T23:01:55.104023Z"
    },
    "hidden": true
   },
   "outputs": [],
   "source": [
    "assert valores_selecionados == [1, 4, 9, 16, 25, 36, 49], 'Erro ao selecionar valores'"
   ]
  },
  {
   "cell_type": "markdown",
   "id": "ee0f72bb",
   "metadata": {
    "heading_collapsed": true,
    "hidden": true
   },
   "source": [
    "#### 2 - O código abaixo está com erro. Refatore e arrume o código abaixo. Ele deve selecionar os valores da lista que são divisíveis por 3."
   ]
  },
  {
   "cell_type": "markdown",
   "id": "92671910",
   "metadata": {
    "hidden": true
   },
   "source": [
    "```python\n",
    "valores = list(range(1, 51))\n",
    "\n",
    "for valor in valores:\n",
    "    if valor % 3 == 0:\n",
    "        valores.append(valor)\n",
    "        \n",
    "assert valores_selecionados == [3, 6, 9, 12, 15, 18, 21, 24, 27, 30, 33, 36, 39, 42, 45, 48], 'Erro na seleção dos valores'\n",
    "\n",
    "```"
   ]
  },
  {
   "cell_type": "markdown",
   "id": "a2ef9663",
   "metadata": {
    "heading_collapsed": true,
    "hidden": true
   },
   "source": [
    "##### Resolução"
   ]
  },
  {
   "cell_type": "code",
   "execution_count": 78,
   "id": "f28cf744",
   "metadata": {
    "ExecuteTime": {
     "end_time": "2022-04-21T00:41:16.214588Z",
     "start_time": "2022-04-21T00:41:16.209793Z"
    },
    "hidden": true
   },
   "outputs": [],
   "source": [
    "valores = list(range(1, 51))\n",
    "\n",
    "divisiveis = []\n",
    "\n",
    "for valor in valores:\n",
    "    if valor % 3 == 0:\n",
    "        divisiveis.append(valor)\n",
    "        \n",
    "\n",
    "assert divisiveis == [3, 6, 9, 12, 15, 18, 21, 24, 27, 30, 33, 36, 39, 42, 45, 48], 'Erro na seleção dos valores'"
   ]
  },
  {
   "cell_type": "markdown",
   "id": "df26eebf",
   "metadata": {
    "heading_collapsed": true,
    "hidden": true
   },
   "source": [
    "##### Resposta"
   ]
  },
  {
   "cell_type": "code",
   "execution_count": 120,
   "id": "c237e11d",
   "metadata": {
    "ExecuteTime": {
     "end_time": "2022-03-29T23:25:19.319989Z",
     "start_time": "2022-03-29T23:25:19.317019Z"
    },
    "hidden": true
   },
   "outputs": [],
   "source": [
    "valores = list(range(1, 51))"
   ]
  },
  {
   "cell_type": "code",
   "execution_count": 121,
   "id": "dd045038",
   "metadata": {
    "ExecuteTime": {
     "end_time": "2022-03-29T23:25:19.445377Z",
     "start_time": "2022-03-29T23:25:19.442241Z"
    },
    "hidden": true
   },
   "outputs": [],
   "source": [
    "valores_selecionados = []\n",
    "\n",
    "for valor in valores:\n",
    "    if valor % 3 == 0:\n",
    "        valores_selecionados.append(valor)"
   ]
  },
  {
   "cell_type": "code",
   "execution_count": 122,
   "id": "e6bb0ec8",
   "metadata": {
    "ExecuteTime": {
     "end_time": "2022-03-29T23:25:19.924398Z",
     "start_time": "2022-03-29T23:25:19.920059Z"
    },
    "hidden": true
   },
   "outputs": [
    {
     "data": {
      "text/plain": [
       "[3, 6, 9, 12, 15, 18, 21, 24, 27, 30, 33, 36, 39, 42, 45, 48]"
      ]
     },
     "execution_count": 122,
     "metadata": {},
     "output_type": "execute_result"
    }
   ],
   "source": [
    "valores_selecionados"
   ]
  },
  {
   "cell_type": "code",
   "execution_count": 123,
   "id": "47a8eb50",
   "metadata": {
    "ExecuteTime": {
     "end_time": "2022-03-29T23:25:30.903336Z",
     "start_time": "2022-03-29T23:25:30.900152Z"
    },
    "hidden": true
   },
   "outputs": [],
   "source": [
    "assert valores_selecionados == [3, 6, 9, 12, 15, 18, 21, 24, 27, 30, 33, 36, 39, 42, 45, 48], 'Erro na seleção dos valores'"
   ]
  },
  {
   "cell_type": "markdown",
   "id": "a91f0377",
   "metadata": {
    "heading_collapsed": true
   },
   "source": [
    "# 2.0 - Iteradores, Slices e *Comprehensions*"
   ]
  },
  {
   "cell_type": "markdown",
   "id": "43e6cf8d",
   "metadata": {
    "heading_collapsed": true,
    "hidden": true
   },
   "source": [
    "## 2.1 - Iteradores"
   ]
  },
  {
   "cell_type": "markdown",
   "id": "960397cb",
   "metadata": {
    "hidden": true
   },
   "source": [
    "Iteradores são objetos em Python que nos permitem percorrer sobre os seus elementos. Por exemplo, uma lista é um objeto iterável, pois ela nos permite percorrer, ou iterar, sobre os seus elementos. Um objeto do tipo *int* por exemplo, não nos permite essa ação, fazendo com que ele não seja iterável.\n",
    "\n",
    "Os principais objetos iteráveis dentro do Python são:\n",
    "* strings\n",
    "* listas\n",
    "* tuplas\n",
    "* dicionários\n",
    "* *range*\n",
    "* *sets*"
   ]
  },
  {
   "cell_type": "markdown",
   "id": "5326bc8a",
   "metadata": {
    "ExecuteTime": {
     "end_time": "2022-04-04T12:15:49.408539Z",
     "start_time": "2022-04-04T12:15:49.405577Z"
    },
    "heading_collapsed": true,
    "hidden": true
   },
   "source": [
    "### 2.1.1 Exercícios"
   ]
  },
  {
   "cell_type": "markdown",
   "id": "630b5eb2",
   "metadata": {
    "heading_collapsed": true,
    "hidden": true
   },
   "source": [
    "#### 1. Utilizando o objeto `range()`, crie um objeto iterador que gerará a seguinte lista: \n",
    "`[1, 5, 9, 13, 17, 21, 25, 29, 33, 37, 41, 45, 49, 53, 57, 61, 65, 69, 73, 77, 81, 85, 89, 93, 97]`"
   ]
  },
  {
   "cell_type": "code",
   "execution_count": 83,
   "id": "5616f30e",
   "metadata": {
    "ExecuteTime": {
     "end_time": "2022-04-21T00:46:54.934738Z",
     "start_time": "2022-04-21T00:46:54.931043Z"
    },
    "hidden": true
   },
   "outputs": [],
   "source": [
    "resp = [1, 5, 9, 13, 17, 21, 25, 29, 33, 37, 41, 45, 49, 53, 57, 61, 65, 69, 73, 77, 81, 85, 89, 93, 97]"
   ]
  },
  {
   "cell_type": "code",
   "execution_count": 84,
   "id": "8016680b",
   "metadata": {
    "ExecuteTime": {
     "end_time": "2022-04-21T00:46:55.071691Z",
     "start_time": "2022-04-21T00:46:55.069045Z"
    },
    "hidden": true
   },
   "outputs": [],
   "source": [
    "# Resposta\n",
    "ex_2_1 = list(range( 1, 100, 4 ))"
   ]
  },
  {
   "cell_type": "code",
   "execution_count": 85,
   "id": "d8ddbc0e",
   "metadata": {
    "ExecuteTime": {
     "end_time": "2022-04-21T00:46:55.210719Z",
     "start_time": "2022-04-21T00:46:55.208233Z"
    },
    "hidden": true
   },
   "outputs": [],
   "source": [
    "assert ex_2_1 ==  resp, 'Erro na criação do range'"
   ]
  },
  {
   "cell_type": "markdown",
   "id": "0f291c84",
   "metadata": {
    "heading_collapsed": true,
    "hidden": true
   },
   "source": [
    "##### Resolução"
   ]
  },
  {
   "cell_type": "code",
   "execution_count": 9,
   "id": "06e280b4",
   "metadata": {
    "ExecuteTime": {
     "end_time": "2022-04-04T12:24:22.047412Z",
     "start_time": "2022-04-04T12:24:22.043489Z"
    },
    "hidden": true
   },
   "outputs": [],
   "source": [
    "resp = [1, 5, 9, 13, 17, 21, 25, 29, 33, 37, 41, 45, 49, 53, 57, 61, 65, 69, 73, 77, 81, 85, 89, 93, 97]\n",
    "\n",
    "ex_2_1 = list(range(1, 100, 4))\n",
    "\n",
    "assert ex_2_1 ==  resp, 'Erro na criação do range'"
   ]
  },
  {
   "cell_type": "markdown",
   "id": "4a78dc23",
   "metadata": {
    "heading_collapsed": true,
    "hidden": true
   },
   "source": [
    "## 2.2 - Slices"
   ]
  },
  {
   "cell_type": "markdown",
   "id": "b125ded2",
   "metadata": {
    "hidden": true
   },
   "source": [
    "`Slice` é uma técnica que utilizamos em Python para recortar estruturas que são ordenadas por índices, como listas e tuplas, por exemplo. Para realizar um `slicing`, ou um recorte, utilizando os índices das estruturas, utilizamos a seguinte declaração:\n",
    "\n",
    "```python\n",
    "lista[indice]\n",
    "```\n",
    "\n",
    "ou\n",
    "\n",
    "```python\n",
    "lista[start, stop, step]\n",
    "```\n",
    "\n",
    "Observe que ao selecionarmos um elemento da nossa lista, já estamos utilizando a técnica de `slicing` de forma simplificada, que nos permite recuperar somente um único elemento. Porém, se desejamos recuperar mais de um elemento da nossa lista, podemos utilizar a técnica completa. Por exemplo:"
   ]
  },
  {
   "cell_type": "code",
   "execution_count": null,
   "id": "e93f939a",
   "metadata": {
    "hidden": true
   },
   "outputs": [],
   "source": []
  },
  {
   "cell_type": "code",
   "execution_count": 86,
   "id": "abdb3773",
   "metadata": {
    "ExecuteTime": {
     "end_time": "2022-04-21T00:47:52.295871Z",
     "start_time": "2022-04-21T00:47:51.273746Z"
    },
    "hidden": true
   },
   "outputs": [],
   "source": [
    "import pandas as pd\n",
    "import seaborn as sns"
   ]
  },
  {
   "cell_type": "code",
   "execution_count": 90,
   "id": "a58867d8",
   "metadata": {
    "ExecuteTime": {
     "end_time": "2022-04-21T00:50:25.299751Z",
     "start_time": "2022-04-21T00:50:25.287435Z"
    },
    "hidden": true
   },
   "outputs": [
    {
     "data": {
      "text/html": [
       "<div>\n",
       "<style scoped>\n",
       "    .dataframe tbody tr th:only-of-type {\n",
       "        vertical-align: middle;\n",
       "    }\n",
       "\n",
       "    .dataframe tbody tr th {\n",
       "        vertical-align: top;\n",
       "    }\n",
       "\n",
       "    .dataframe thead th {\n",
       "        text-align: right;\n",
       "    }\n",
       "</style>\n",
       "<table border=\"1\" class=\"dataframe\">\n",
       "  <thead>\n",
       "    <tr style=\"text-align: right;\">\n",
       "      <th></th>\n",
       "      <th>species</th>\n",
       "      <th>island</th>\n",
       "      <th>bill_length_mm</th>\n",
       "      <th>bill_depth_mm</th>\n",
       "      <th>flipper_length_mm</th>\n",
       "      <th>body_mass_g</th>\n",
       "      <th>sex</th>\n",
       "    </tr>\n",
       "  </thead>\n",
       "  <tbody>\n",
       "    <tr>\n",
       "      <th>0</th>\n",
       "      <td>Adelie</td>\n",
       "      <td>Torgersen</td>\n",
       "      <td>39.1</td>\n",
       "      <td>18.7</td>\n",
       "      <td>181.0</td>\n",
       "      <td>3750.0</td>\n",
       "      <td>Male</td>\n",
       "    </tr>\n",
       "    <tr>\n",
       "      <th>1</th>\n",
       "      <td>Adelie</td>\n",
       "      <td>Torgersen</td>\n",
       "      <td>39.5</td>\n",
       "      <td>17.4</td>\n",
       "      <td>186.0</td>\n",
       "      <td>3800.0</td>\n",
       "      <td>Female</td>\n",
       "    </tr>\n",
       "    <tr>\n",
       "      <th>2</th>\n",
       "      <td>Adelie</td>\n",
       "      <td>Torgersen</td>\n",
       "      <td>40.3</td>\n",
       "      <td>18.0</td>\n",
       "      <td>195.0</td>\n",
       "      <td>3250.0</td>\n",
       "      <td>Female</td>\n",
       "    </tr>\n",
       "    <tr>\n",
       "      <th>3</th>\n",
       "      <td>Adelie</td>\n",
       "      <td>Torgersen</td>\n",
       "      <td>NaN</td>\n",
       "      <td>NaN</td>\n",
       "      <td>NaN</td>\n",
       "      <td>NaN</td>\n",
       "      <td>NaN</td>\n",
       "    </tr>\n",
       "    <tr>\n",
       "      <th>4</th>\n",
       "      <td>Adelie</td>\n",
       "      <td>Torgersen</td>\n",
       "      <td>36.7</td>\n",
       "      <td>19.3</td>\n",
       "      <td>193.0</td>\n",
       "      <td>3450.0</td>\n",
       "      <td>Female</td>\n",
       "    </tr>\n",
       "    <tr>\n",
       "      <th>...</th>\n",
       "      <td>...</td>\n",
       "      <td>...</td>\n",
       "      <td>...</td>\n",
       "      <td>...</td>\n",
       "      <td>...</td>\n",
       "      <td>...</td>\n",
       "      <td>...</td>\n",
       "    </tr>\n",
       "    <tr>\n",
       "      <th>339</th>\n",
       "      <td>Gentoo</td>\n",
       "      <td>Biscoe</td>\n",
       "      <td>NaN</td>\n",
       "      <td>NaN</td>\n",
       "      <td>NaN</td>\n",
       "      <td>NaN</td>\n",
       "      <td>NaN</td>\n",
       "    </tr>\n",
       "    <tr>\n",
       "      <th>340</th>\n",
       "      <td>Gentoo</td>\n",
       "      <td>Biscoe</td>\n",
       "      <td>46.8</td>\n",
       "      <td>14.3</td>\n",
       "      <td>215.0</td>\n",
       "      <td>4850.0</td>\n",
       "      <td>Female</td>\n",
       "    </tr>\n",
       "    <tr>\n",
       "      <th>341</th>\n",
       "      <td>Gentoo</td>\n",
       "      <td>Biscoe</td>\n",
       "      <td>50.4</td>\n",
       "      <td>15.7</td>\n",
       "      <td>222.0</td>\n",
       "      <td>5750.0</td>\n",
       "      <td>Male</td>\n",
       "    </tr>\n",
       "    <tr>\n",
       "      <th>342</th>\n",
       "      <td>Gentoo</td>\n",
       "      <td>Biscoe</td>\n",
       "      <td>45.2</td>\n",
       "      <td>14.8</td>\n",
       "      <td>212.0</td>\n",
       "      <td>5200.0</td>\n",
       "      <td>Female</td>\n",
       "    </tr>\n",
       "    <tr>\n",
       "      <th>343</th>\n",
       "      <td>Gentoo</td>\n",
       "      <td>Biscoe</td>\n",
       "      <td>49.9</td>\n",
       "      <td>16.1</td>\n",
       "      <td>213.0</td>\n",
       "      <td>5400.0</td>\n",
       "      <td>Male</td>\n",
       "    </tr>\n",
       "  </tbody>\n",
       "</table>\n",
       "<p>344 rows × 7 columns</p>\n",
       "</div>"
      ],
      "text/plain": [
       "    species     island  bill_length_mm  bill_depth_mm  flipper_length_mm  \\\n",
       "0    Adelie  Torgersen            39.1           18.7              181.0   \n",
       "1    Adelie  Torgersen            39.5           17.4              186.0   \n",
       "2    Adelie  Torgersen            40.3           18.0              195.0   \n",
       "3    Adelie  Torgersen             NaN            NaN                NaN   \n",
       "4    Adelie  Torgersen            36.7           19.3              193.0   \n",
       "..      ...        ...             ...            ...                ...   \n",
       "339  Gentoo     Biscoe             NaN            NaN                NaN   \n",
       "340  Gentoo     Biscoe            46.8           14.3              215.0   \n",
       "341  Gentoo     Biscoe            50.4           15.7              222.0   \n",
       "342  Gentoo     Biscoe            45.2           14.8              212.0   \n",
       "343  Gentoo     Biscoe            49.9           16.1              213.0   \n",
       "\n",
       "     body_mass_g     sex  \n",
       "0         3750.0    Male  \n",
       "1         3800.0  Female  \n",
       "2         3250.0  Female  \n",
       "3            NaN     NaN  \n",
       "4         3450.0  Female  \n",
       "..           ...     ...  \n",
       "339          NaN     NaN  \n",
       "340       4850.0  Female  \n",
       "341       5750.0    Male  \n",
       "342       5200.0  Female  \n",
       "343       5400.0    Male  \n",
       "\n",
       "[344 rows x 7 columns]"
      ]
     },
     "execution_count": 90,
     "metadata": {},
     "output_type": "execute_result"
    }
   ],
   "source": [
    "df = sns.load_dataset('penguins')\n",
    "df"
   ]
  },
  {
   "cell_type": "code",
   "execution_count": 99,
   "id": "0f8af0d6",
   "metadata": {
    "ExecuteTime": {
     "end_time": "2022-04-21T00:51:58.538385Z",
     "start_time": "2022-04-21T00:51:58.529632Z"
    },
    "hidden": true
   },
   "outputs": [
    {
     "data": {
      "text/html": [
       "<div>\n",
       "<style scoped>\n",
       "    .dataframe tbody tr th:only-of-type {\n",
       "        vertical-align: middle;\n",
       "    }\n",
       "\n",
       "    .dataframe tbody tr th {\n",
       "        vertical-align: top;\n",
       "    }\n",
       "\n",
       "    .dataframe thead th {\n",
       "        text-align: right;\n",
       "    }\n",
       "</style>\n",
       "<table border=\"1\" class=\"dataframe\">\n",
       "  <thead>\n",
       "    <tr style=\"text-align: right;\">\n",
       "      <th></th>\n",
       "      <th>bill_length_mm</th>\n",
       "      <th>bill_depth_mm</th>\n",
       "    </tr>\n",
       "  </thead>\n",
       "  <tbody>\n",
       "    <tr>\n",
       "      <th>0</th>\n",
       "      <td>39.1</td>\n",
       "      <td>18.7</td>\n",
       "    </tr>\n",
       "    <tr>\n",
       "      <th>4</th>\n",
       "      <td>36.7</td>\n",
       "      <td>19.3</td>\n",
       "    </tr>\n",
       "    <tr>\n",
       "      <th>7</th>\n",
       "      <td>39.2</td>\n",
       "      <td>19.6</td>\n",
       "    </tr>\n",
       "  </tbody>\n",
       "</table>\n",
       "</div>"
      ],
      "text/plain": [
       "   bill_length_mm  bill_depth_mm\n",
       "0            39.1           18.7\n",
       "4            36.7           19.3\n",
       "7            39.2           19.6"
      ]
     },
     "execution_count": 99,
     "metadata": {},
     "output_type": "execute_result"
    }
   ],
   "source": [
    "t = df.iloc[ [0, 4, 7] , 2:4 ]\n",
    "t"
   ]
  },
  {
   "cell_type": "code",
   "execution_count": null,
   "id": "bcc98bef",
   "metadata": {
    "hidden": true
   },
   "outputs": [],
   "source": []
  },
  {
   "cell_type": "code",
   "execution_count": null,
   "id": "6036a4c7",
   "metadata": {
    "hidden": true
   },
   "outputs": [],
   "source": []
  },
  {
   "cell_type": "code",
   "execution_count": null,
   "id": "9fbb9dc9",
   "metadata": {
    "hidden": true
   },
   "outputs": [],
   "source": []
  },
  {
   "cell_type": "code",
   "execution_count": null,
   "id": "f5585da7",
   "metadata": {
    "hidden": true
   },
   "outputs": [],
   "source": []
  },
  {
   "cell_type": "code",
   "execution_count": 105,
   "id": "8cf30d29",
   "metadata": {
    "ExecuteTime": {
     "end_time": "2022-04-21T00:53:22.274682Z",
     "start_time": "2022-04-21T00:53:22.272240Z"
    },
    "hidden": true
   },
   "outputs": [],
   "source": [
    "lista = ['Pedro', 'Guilherme', 'Volpato', 'Ferraresi']"
   ]
  },
  {
   "cell_type": "code",
   "execution_count": 104,
   "id": "1dda0db0",
   "metadata": {
    "ExecuteTime": {
     "end_time": "2022-04-21T00:53:11.680950Z",
     "start_time": "2022-04-21T00:53:11.676757Z"
    },
    "hidden": true
   },
   "outputs": [
    {
     "data": {
      "text/plain": [
       "['Guilherme', 'Volpato']"
      ]
     },
     "execution_count": 104,
     "metadata": {},
     "output_type": "execute_result"
    }
   ],
   "source": [
    "# Recuperando somente os nomes do meio\n",
    "lista[1:3]"
   ]
  },
  {
   "cell_type": "markdown",
   "id": "3906f49c",
   "metadata": {
    "hidden": true
   },
   "source": [
    "Lembrando que o parâmetro de `stop` deve sempre considerar mais uma unidade ao valor do índice de parada. Por exemplo, se tivéssemos colocado o índice 2 no parâmetro de parada (`stop`), não teríamos recuperado o elemento `'Volpato'`:"
   ]
  },
  {
   "cell_type": "code",
   "execution_count": 97,
   "id": "dea0c01a",
   "metadata": {
    "ExecuteTime": {
     "end_time": "2022-04-21T00:51:11.092755Z",
     "start_time": "2022-04-21T00:51:11.088780Z"
    },
    "hidden": true
   },
   "outputs": [
    {
     "data": {
      "text/plain": [
       "['Guilherme']"
      ]
     },
     "execution_count": 97,
     "metadata": {},
     "output_type": "execute_result"
    }
   ],
   "source": [
    "lista[1:2]"
   ]
  },
  {
   "cell_type": "markdown",
   "id": "63c9eb2d",
   "metadata": {
    "hidden": true
   },
   "source": [
    "Outro ponto importante é que, além das listas, tuplas e sets, as `strings` por serem objetos organizados por índices nos permitem utilizar a técnica de `slicing` em seus conteúdos. Por exemplo:"
   ]
  },
  {
   "cell_type": "code",
   "execution_count": 16,
   "id": "c3d12b7d",
   "metadata": {
    "ExecuteTime": {
     "end_time": "2022-04-04T12:43:53.147127Z",
     "start_time": "2022-04-04T12:43:53.144969Z"
    },
    "hidden": true
   },
   "outputs": [],
   "source": [
    "nome = 'Pedro Ferraresi'"
   ]
  },
  {
   "cell_type": "code",
   "execution_count": 19,
   "id": "48c8cbf4",
   "metadata": {
    "ExecuteTime": {
     "end_time": "2022-04-04T12:44:11.489400Z",
     "start_time": "2022-04-04T12:44:11.485737Z"
    },
    "hidden": true
   },
   "outputs": [
    {
     "data": {
      "text/plain": [
       "'o Ferr'"
      ]
     },
     "execution_count": 19,
     "metadata": {},
     "output_type": "execute_result"
    }
   ],
   "source": [
    "# Recuperando a substring com índices 4 a 10\n",
    "sub_s = nome[4:10]\n",
    "sub_s"
   ]
  },
  {
   "cell_type": "markdown",
   "id": "fd8c3497",
   "metadata": {
    "hidden": true
   },
   "source": [
    "Se desejarmos, podemos também utilizar o parametro `stop` ao realizar um slicing para definirmos quantos índices devem ser pulados no recorte. Por exemplo:"
   ]
  },
  {
   "cell_type": "code",
   "execution_count": 20,
   "id": "90927670",
   "metadata": {
    "ExecuteTime": {
     "end_time": "2022-04-04T12:46:07.318358Z",
     "start_time": "2022-04-04T12:46:07.314349Z"
    },
    "hidden": true
   },
   "outputs": [
    {
     "data": {
      "text/plain": [
       "'eoeas'"
      ]
     },
     "execution_count": 20,
     "metadata": {},
     "output_type": "execute_result"
    }
   ],
   "source": [
    "# Recortando os caracteres dos índices 1 a 13\n",
    "# Pulando de 3 em 3 caracteres\n",
    "sub_s = nome[1:14:3]\n",
    "sub_s"
   ]
  },
  {
   "cell_type": "markdown",
   "id": "9f83301b",
   "metadata": {
    "hidden": true
   },
   "source": [
    "### 2.2 - Exercícios"
   ]
  },
  {
   "cell_type": "markdown",
   "id": "830ac630",
   "metadata": {
    "hidden": true
   },
   "source": [
    "#### 1.  Você possuí a seguinte lista com os e-mails dos usuários do seu sistema:"
   ]
  },
  {
   "cell_type": "markdown",
   "id": "aa52cd87",
   "metadata": {
    "hidden": true
   },
   "source": [
    "```python\n",
    "[\n",
    "    'pedro@gmail.com',\n",
    "    'ana@bol.com',\n",
    "    'guilherme@yahoo.com',\n",
    "    'carolina@hotmail.com',\n",
    "    'volpato@outlook.com',\n",
    "    'curvina@comunidadeds.com',\n",
    "    'ferraresi@linux.com',\n",
    "    'ubaldo@gmail.com',\n",
    "]\n",
    "```\n",
    "\n",
    "Seu chefe pediu para que você criasse uma função que recebesse a lista com os e-mails e retornasse somente os provedores de e-mail que estão na base, ignorando as repetições.\n",
    "\n",
    "**Dica:** Itere sobre as Strings que contém os e-mails e verifique em qual posição está o símbolo arroba (`@`). Descobrindo a posição (índice) do caractere arroba, recorte a string a partir dele até o fim."
   ]
  },
  {
   "cell_type": "markdown",
   "id": "8755b25a",
   "metadata": {
    "hidden": true
   },
   "source": [
    "##### Resposta"
   ]
  },
  {
   "cell_type": "code",
   "execution_count": null,
   "id": "16017f66",
   "metadata": {
    "ExecuteTime": {
     "end_time": "2022-04-21T01:08:10.753610Z",
     "start_time": "2022-04-21T01:08:10.749470Z"
    },
    "hidden": true
   },
   "outputs": [],
   "source": []
  },
  {
   "cell_type": "code",
   "execution_count": null,
   "id": "172368f7",
   "metadata": {
    "hidden": true
   },
   "outputs": [],
   "source": []
  },
  {
   "cell_type": "code",
   "execution_count": null,
   "id": "4de07b6b",
   "metadata": {
    "ExecuteTime": {
     "end_time": "2022-04-21T01:08:11.820679Z",
     "start_time": "2022-04-21T01:08:11.817648Z"
    },
    "hidden": true
   },
   "outputs": [],
   "source": []
  },
  {
   "cell_type": "code",
   "execution_count": null,
   "id": "1bccdb16",
   "metadata": {
    "ExecuteTime": {
     "end_time": "2022-04-21T01:08:13.944314Z",
     "start_time": "2022-04-21T01:08:13.941535Z"
    },
    "hidden": true
   },
   "outputs": [],
   "source": []
  },
  {
   "cell_type": "code",
   "execution_count": 1,
   "id": "f0e24e02",
   "metadata": {
    "ExecuteTime": {
     "end_time": "2022-04-27T21:51:00.033165Z",
     "start_time": "2022-04-27T21:50:59.981323Z"
    },
    "hidden": true
   },
   "outputs": [
    {
     "ename": "NameError",
     "evalue": "name 'resp' is not defined",
     "output_type": "error",
     "traceback": [
      "\u001b[0;31m---------------------------------------------------------------------------\u001b[0m",
      "\u001b[0;31mNameError\u001b[0m                                 Traceback (most recent call last)",
      "\u001b[0;32m/tmp/ipykernel_18626/4198289413.py\u001b[0m in \u001b[0;36m<module>\u001b[0;34m\u001b[0m\n\u001b[0;32m----> 1\u001b[0;31m \u001b[0;32massert\u001b[0m \u001b[0mresp\u001b[0m \u001b[0;34m==\u001b[0m \u001b[0;34m{\u001b[0m\u001b[0;34m'bol.com'\u001b[0m\u001b[0;34m,\u001b[0m \u001b[0;34m'comunidadeds.com'\u001b[0m\u001b[0;34m,\u001b[0m \u001b[0;34m'gmail.com'\u001b[0m\u001b[0;34m,\u001b[0m \u001b[0;34m'hotmail.com'\u001b[0m\u001b[0;34m,\u001b[0m \u001b[0;34m'linux.com'\u001b[0m\u001b[0;34m,\u001b[0m \u001b[0;34m'outlook.com'\u001b[0m\u001b[0;34m,\u001b[0m \u001b[0;34m'yahoo.com'\u001b[0m\u001b[0;34m}\u001b[0m\u001b[0;34m,\u001b[0m \u001b[0;34m'Erro'\u001b[0m\u001b[0;34m\u001b[0m\u001b[0;34m\u001b[0m\u001b[0m\n\u001b[0m",
      "\u001b[0;31mNameError\u001b[0m: name 'resp' is not defined"
     ]
    }
   ],
   "source": [
    "assert resp == {'bol.com', 'comunidadeds.com', 'gmail.com', 'hotmail.com', 'linux.com', 'outlook.com', 'yahoo.com'}, 'Erro'"
   ]
  },
  {
   "cell_type": "markdown",
   "id": "136f8505",
   "metadata": {
    "heading_collapsed": true,
    "hidden": true
   },
   "source": [
    "##### Resolução"
   ]
  },
  {
   "cell_type": "code",
   "execution_count": 37,
   "id": "b6ca2ba3",
   "metadata": {
    "ExecuteTime": {
     "end_time": "2022-04-04T16:08:38.459818Z",
     "start_time": "2022-04-04T16:08:38.456201Z"
    },
    "hidden": true
   },
   "outputs": [],
   "source": [
    "def recupoera_provedor(e_mails):\n",
    "    provedores = []\n",
    "    \n",
    "    for email in e_mails:\n",
    "        index = email.find('@')\n",
    "        \n",
    "        provedores.append(email[index+1:])\n",
    "        \n",
    "    return set(provedores)"
   ]
  },
  {
   "cell_type": "code",
   "execution_count": 38,
   "id": "6427f8e7",
   "metadata": {
    "ExecuteTime": {
     "end_time": "2022-04-04T16:08:38.591908Z",
     "start_time": "2022-04-04T16:08:38.588883Z"
    },
    "hidden": true
   },
   "outputs": [],
   "source": [
    "emails = [\n",
    "    'pedro@gmail.com',\n",
    "    'ana@bol.com',\n",
    "    'guilherme@yahoo.com',\n",
    "    'carolina@hotmail.com',\n",
    "    'volpato@outlook.com',\n",
    "    'curvina@comunidadeds.com',\n",
    "    'ferraresi@linux.com',\n",
    "    'ubaldo@gmail.com',\n",
    "]"
   ]
  },
  {
   "cell_type": "code",
   "execution_count": 39,
   "id": "04471c94",
   "metadata": {
    "ExecuteTime": {
     "end_time": "2022-04-04T16:08:38.742794Z",
     "start_time": "2022-04-04T16:08:38.740488Z"
    },
    "hidden": true
   },
   "outputs": [],
   "source": [
    "resp = recupoera_provedor(emails)\n",
    "\n",
    "assert resp == {'bol.com', 'comunidadeds.com', 'gmail.com', 'hotmail.com', 'linux.com', 'outlook.com', 'yahoo.com'}, 'Erro'"
   ]
  },
  {
   "cell_type": "markdown",
   "id": "2c5d36c7",
   "metadata": {
    "hidden": true
   },
   "source": [
    "#### 2. Você possuí a seguinte lista com nomes:"
   ]
  },
  {
   "cell_type": "markdown",
   "id": "ab923e33",
   "metadata": {
    "hidden": true
   },
   "source": [
    "```python\n",
    "[\n",
    "    'Pedro Ferraresi',\n",
    "    'Ana Ubaldo',\n",
    "    'Guilherme Volpato',\n",
    "    'Carolina Curvina',\n",
    "    'Camila Santos',\n",
    "    'Gabriel Moraes',\n",
    "    'Luiz Ruzza',\n",
    "    'Carlos Sato',\n",
    "    'Laura Garcia',\n",
    "    'Paulo Silva',\n",
    "]\n",
    "```\n",
    "\n",
    "Crie uma função que receba a lista de nomes e que devolva a contagem de todas as consoantes de todos os sobrenomes da lista.\n",
    "\n",
    "Utilize a técnica de `slicing` para separar o nome do sobrenome."
   ]
  },
  {
   "cell_type": "markdown",
   "id": "7ca2ba88",
   "metadata": {
    "heading_collapsed": true,
    "hidden": true
   },
   "source": [
    "##### Resposta"
   ]
  },
  {
   "cell_type": "code",
   "execution_count": 120,
   "id": "4a94e17b",
   "metadata": {
    "ExecuteTime": {
     "end_time": "2022-04-04T17:06:33.618784Z",
     "start_time": "2022-04-04T17:06:33.615943Z"
    },
    "hidden": true
   },
   "outputs": [],
   "source": [
    "nomes = [\n",
    "    'Pedro Ferraresi',\n",
    "    'Ana Ubaldo',\n",
    "    'Guilherme Volpato',\n",
    "    'Carolina Curvina',\n",
    "    'Camila Santos',\n",
    "    'Gabriel Moraes',\n",
    "    'Luiz Ruzza',\n",
    "    'Carlos Sato',\n",
    "    'Laura Garcia',\n",
    "    'Paulo Silva',\n",
    "]"
   ]
  },
  {
   "cell_type": "code",
   "execution_count": 121,
   "id": "55a83c8e",
   "metadata": {
    "ExecuteTime": {
     "end_time": "2022-04-04T17:06:33.767198Z",
     "start_time": "2022-04-04T17:06:33.764203Z"
    },
    "hidden": true
   },
   "outputs": [
    {
     "ename": "IndentationError",
     "evalue": "expected an indented block (2190729641.py, line 3)",
     "output_type": "error",
     "traceback": [
      "\u001b[0;36m  File \u001b[0;32m\"/tmp/ipykernel_16930/2190729641.py\"\u001b[0;36m, line \u001b[0;32m3\u001b[0m\n\u001b[0;31m    \u001b[0m\n\u001b[0m    ^\u001b[0m\n\u001b[0;31mIndentationError\u001b[0m\u001b[0;31m:\u001b[0m expected an indented block\n"
     ]
    }
   ],
   "source": [
    "# Resposta\n",
    "def conta_consoantes(nomes):\n",
    "    "
   ]
  },
  {
   "cell_type": "code",
   "execution_count": 122,
   "id": "460ff682",
   "metadata": {
    "ExecuteTime": {
     "end_time": "2022-04-04T17:07:23.894408Z",
     "start_time": "2022-04-04T17:07:23.890756Z"
    },
    "hidden": true
   },
   "outputs": [],
   "source": [
    "r_nao_ordenado = {'f': 1, 'r': 7, 's': 6, 'b': 1, 'l': 3, 'd': 1, 'v': 3, 'p': 1, 't': 3, 'c': 2, 'n': 2, 'm': 1, 'z': 2, 'g': 1}"
   ]
  },
  {
   "cell_type": "code",
   "execution_count": 123,
   "id": "622ad980",
   "metadata": {
    "ExecuteTime": {
     "end_time": "2022-04-04T17:07:24.299058Z",
     "start_time": "2022-04-04T17:07:24.295668Z"
    },
    "hidden": true
   },
   "outputs": [],
   "source": [
    "r_ordenado = {'r': 7, 's': 6, 'l': 3, 'v': 3, 't': 3, 'c': 2, 'n': 2, 'z': 2, 'f': 1, 'b': 1, 'd': 1, 'p': 1, 'm': 1, 'g': 1}"
   ]
  },
  {
   "cell_type": "code",
   "execution_count": 124,
   "id": "ddb9cb68",
   "metadata": {
    "ExecuteTime": {
     "end_time": "2022-04-04T17:06:34.198160Z",
     "start_time": "2022-04-04T17:06:34.195421Z"
    },
    "hidden": true
   },
   "outputs": [],
   "source": [
    "assert resp == r_ordenado, 'Erro'"
   ]
  },
  {
   "cell_type": "code",
   "execution_count": 125,
   "id": "8fe2f159",
   "metadata": {
    "ExecuteTime": {
     "end_time": "2022-04-04T17:06:34.550840Z",
     "start_time": "2022-04-04T17:06:34.548428Z"
    },
    "hidden": true
   },
   "outputs": [],
   "source": [
    "assert resp == r_nao_ordenado, 'Erro'"
   ]
  },
  {
   "cell_type": "markdown",
   "id": "35735675",
   "metadata": {
    "heading_collapsed": true,
    "hidden": true
   },
   "source": [
    "##### Resolução"
   ]
  },
  {
   "cell_type": "code",
   "execution_count": 126,
   "id": "34eb0cb9",
   "metadata": {
    "ExecuteTime": {
     "end_time": "2022-04-04T17:06:35.485378Z",
     "start_time": "2022-04-04T17:06:35.482396Z"
    },
    "hidden": true
   },
   "outputs": [],
   "source": [
    "nomes = [\n",
    "    'Pedro Ferraresi',\n",
    "    'Ana Ubaldo',\n",
    "    'Guilherme Volpato',\n",
    "    'Carolina Curvina',\n",
    "    'Camila Santos',\n",
    "    'Gabriel Moraes',\n",
    "    'Luiz Ruzza',\n",
    "    'Carlos Sato',\n",
    "    'Laura Garcia',\n",
    "    'Paulo Silva',\n",
    "]"
   ]
  },
  {
   "cell_type": "code",
   "execution_count": 144,
   "id": "eb19fed3",
   "metadata": {
    "ExecuteTime": {
     "end_time": "2022-04-04T17:07:21.412882Z",
     "start_time": "2022-04-04T17:07:21.406559Z"
    },
    "hidden": true
   },
   "outputs": [],
   "source": [
    "def conta_consoantes(nomes):\n",
    "    \n",
    "    vogais = ['a', 'e', 'i', 'o', 'u', ' ']\n",
    "    \n",
    "    consoantes = []\n",
    "    \n",
    "    # Separa todas as letras de todos os nomes\n",
    "    for nome in nomes:\n",
    "        \n",
    "        index = nome.find(' ')\n",
    "        \n",
    "        nome = nome[index + 1:]\n",
    "        \n",
    "        for letra in nome:\n",
    "            if letra.lower() not in vogais:\n",
    "                consoantes.append(letra.lower())\n",
    "                \n",
    "    # Conta as consoantes\n",
    "    cont_consoantes = {}\n",
    "    for consoante in consoantes:\n",
    "        if consoante not in cont_consoantes.keys():\n",
    "            cont_consoantes[consoante] = 1\n",
    "        else:\n",
    "            cont_consoantes[consoante] += 1\n",
    "    \n",
    "    return cont_consoantes # Não Ordenado\n",
    "#     return dict(sorted(cont_consoantes.items(), key=lambda item: item[1], reverse=True)) # Ordenado"
   ]
  },
  {
   "cell_type": "code",
   "execution_count": 145,
   "id": "aabc143e",
   "metadata": {
    "ExecuteTime": {
     "end_time": "2022-04-04T17:07:21.929450Z",
     "start_time": "2022-04-04T17:07:21.925181Z"
    },
    "hidden": true
   },
   "outputs": [
    {
     "data": {
      "text/plain": [
       "{'f': 1,\n",
       " 'r': 7,\n",
       " 's': 6,\n",
       " 'b': 1,\n",
       " 'l': 3,\n",
       " 'd': 1,\n",
       " 'v': 3,\n",
       " 'p': 1,\n",
       " 't': 3,\n",
       " 'c': 2,\n",
       " 'n': 2,\n",
       " 'm': 1,\n",
       " 'z': 2,\n",
       " 'g': 1}"
      ]
     },
     "execution_count": 145,
     "metadata": {},
     "output_type": "execute_result"
    }
   ],
   "source": [
    "resp = conta_consoantes(nomes)\n",
    "resp"
   ]
  },
  {
   "cell_type": "code",
   "execution_count": 146,
   "id": "cb0d8aff",
   "metadata": {
    "ExecuteTime": {
     "end_time": "2022-04-04T17:07:22.099367Z",
     "start_time": "2022-04-04T17:07:22.096307Z"
    },
    "hidden": true
   },
   "outputs": [],
   "source": [
    "r_nao_ordenado = {'f': 1, 'r': 7, 's': 6, 'b': 1, 'l': 3, 'd': 1, 'v': 3, 'p': 1, 't': 3, 'c': 2, 'n': 2, 'm': 1, 'z': 2, 'g': 1}"
   ]
  },
  {
   "cell_type": "code",
   "execution_count": 147,
   "id": "13270c32",
   "metadata": {
    "ExecuteTime": {
     "end_time": "2022-04-04T17:07:22.259314Z",
     "start_time": "2022-04-04T17:07:22.255787Z"
    },
    "hidden": true
   },
   "outputs": [],
   "source": [
    "r_ordenado = {'r': 7, 's': 6, 'l': 3, 'v': 3, 't': 3, 'c': 2, 'n': 2, 'z': 2, 'f': 1, 'b': 1, 'd': 1, 'p': 1, 'm': 1, 'g': 1}"
   ]
  },
  {
   "cell_type": "code",
   "execution_count": 148,
   "id": "bf216efc",
   "metadata": {
    "ExecuteTime": {
     "end_time": "2022-04-04T17:07:22.444731Z",
     "start_time": "2022-04-04T17:07:22.441913Z"
    },
    "hidden": true
   },
   "outputs": [],
   "source": [
    "assert resp == r_nao_ordenado, 'Erro'"
   ]
  },
  {
   "cell_type": "code",
   "execution_count": 149,
   "id": "9e9028b3",
   "metadata": {
    "ExecuteTime": {
     "end_time": "2022-04-04T17:07:22.609194Z",
     "start_time": "2022-04-04T17:07:22.606573Z"
    },
    "hidden": true
   },
   "outputs": [],
   "source": [
    "assert resp == r_ordenado, 'Erro'"
   ]
  },
  {
   "cell_type": "markdown",
   "id": "38316cbb",
   "metadata": {
    "heading_collapsed": true,
    "hidden": true
   },
   "source": [
    "###### Utilizando a classe `Counter`"
   ]
  },
  {
   "cell_type": "code",
   "execution_count": 150,
   "id": "e3375363",
   "metadata": {
    "ExecuteTime": {
     "end_time": "2022-04-04T17:07:22.939454Z",
     "start_time": "2022-04-04T17:07:22.937053Z"
    },
    "hidden": true
   },
   "outputs": [],
   "source": [
    "# Import da classe Counter\n",
    "from collections import Counter"
   ]
  },
  {
   "cell_type": "code",
   "execution_count": 151,
   "id": "648e9287",
   "metadata": {
    "ExecuteTime": {
     "end_time": "2022-04-04T17:07:23.105599Z",
     "start_time": "2022-04-04T17:07:23.102549Z"
    },
    "hidden": true
   },
   "outputs": [],
   "source": [
    "nomes = [\n",
    "    'Pedro Ferraresi',\n",
    "    'Ana Ubaldo',\n",
    "    'Guilherme Volpato',\n",
    "    'Carolina Curvina',\n",
    "    'Camila Santos',\n",
    "    'Gabriel Moraes',\n",
    "    'Luiz Ruzza',\n",
    "    'Carlos Sato',\n",
    "    'Laura Garcia',\n",
    "    'Paulo Silva',\n",
    "]"
   ]
  },
  {
   "cell_type": "code",
   "execution_count": 152,
   "id": "2b83ded8",
   "metadata": {
    "ExecuteTime": {
     "end_time": "2022-04-04T17:07:23.293835Z",
     "start_time": "2022-04-04T17:07:23.287901Z"
    },
    "hidden": true
   },
   "outputs": [],
   "source": [
    "def conta_consoantes(nomes):\n",
    "    \n",
    "    vogais = ['a', 'e', 'i', 'o', 'u', ' ']\n",
    "    \n",
    "    consoantes = []\n",
    "    \n",
    "    # Separa todas as letras de todos os nomes\n",
    "    for nome in nomes:\n",
    "        \n",
    "        index = nome.find(' ')\n",
    "        \n",
    "        nome = nome[index + 1:]\n",
    "        \n",
    "        for letra in nome:\n",
    "            if letra.lower() not in vogais:\n",
    "                consoantes.append(letra.lower())\n",
    "                \n",
    "    # Conta as consoantes\n",
    "#     return dict(Counter(consoantes)) # Não ordenado\n",
    "    return dict(sorted(dict(Counter(consoantes)).items(), key=lambda item: item[1], reverse=True)) # Ordenado"
   ]
  },
  {
   "cell_type": "code",
   "execution_count": 153,
   "id": "6919fe13",
   "metadata": {
    "ExecuteTime": {
     "end_time": "2022-04-04T17:07:23.556960Z",
     "start_time": "2022-04-04T17:07:23.552315Z"
    },
    "hidden": true
   },
   "outputs": [
    {
     "data": {
      "text/plain": [
       "{'r': 7,\n",
       " 's': 6,\n",
       " 'l': 3,\n",
       " 'v': 3,\n",
       " 't': 3,\n",
       " 'c': 2,\n",
       " 'n': 2,\n",
       " 'z': 2,\n",
       " 'f': 1,\n",
       " 'b': 1,\n",
       " 'd': 1,\n",
       " 'p': 1,\n",
       " 'm': 1,\n",
       " 'g': 1}"
      ]
     },
     "execution_count": 153,
     "metadata": {},
     "output_type": "execute_result"
    }
   ],
   "source": [
    "resp = conta_consoantes(nomes)\n",
    "resp"
   ]
  },
  {
   "cell_type": "code",
   "execution_count": 154,
   "id": "4a39f5b0",
   "metadata": {
    "ExecuteTime": {
     "end_time": "2022-04-04T17:07:23.894408Z",
     "start_time": "2022-04-04T17:07:23.890756Z"
    },
    "hidden": true
   },
   "outputs": [],
   "source": [
    "r_nao_ordenado = {'f': 1, 'r': 7, 's': 6, 'b': 1, 'l': 3, 'd': 1, 'v': 3, 'p': 1, 't': 3, 'c': 2, 'n': 2, 'm': 1, 'z': 2, 'g': 1}"
   ]
  },
  {
   "cell_type": "code",
   "execution_count": 155,
   "id": "0e9c33df",
   "metadata": {
    "ExecuteTime": {
     "end_time": "2022-04-04T17:07:24.299058Z",
     "start_time": "2022-04-04T17:07:24.295668Z"
    },
    "hidden": true
   },
   "outputs": [],
   "source": [
    "r_ordenado = {'r': 7, 's': 6, 'l': 3, 'v': 3, 't': 3, 'c': 2, 'n': 2, 'z': 2, 'f': 1, 'b': 1, 'd': 1, 'p': 1, 'm': 1, 'g': 1}"
   ]
  },
  {
   "cell_type": "code",
   "execution_count": 156,
   "id": "32e1a199",
   "metadata": {
    "ExecuteTime": {
     "end_time": "2022-04-04T17:07:24.555864Z",
     "start_time": "2022-04-04T17:07:24.553474Z"
    },
    "hidden": true
   },
   "outputs": [],
   "source": [
    "assert resp == r_nao_ordenado, 'Erro'"
   ]
  },
  {
   "cell_type": "code",
   "execution_count": 157,
   "id": "e40a8f1f",
   "metadata": {
    "ExecuteTime": {
     "end_time": "2022-04-04T17:07:24.950460Z",
     "start_time": "2022-04-04T17:07:24.948124Z"
    },
    "hidden": true
   },
   "outputs": [],
   "source": [
    "assert resp == r_ordenado, 'Erro'"
   ]
  },
  {
   "cell_type": "markdown",
   "id": "8e1a092e",
   "metadata": {
    "heading_collapsed": true,
    "hidden": true
   },
   "source": [
    "## 2.3 - Comprehensions"
   ]
  },
  {
   "cell_type": "markdown",
   "id": "36211fad",
   "metadata": {
    "hidden": true
   },
   "source": [
    "`Comprehensions` são técnicas utilizadas dentro do Python para criarmos listas ou dicionários simples de forma mais eficaz. Sendo que essas listas ou dicionário podem ser estruturas totalmente \"zeradas\" ou o resultado de uma seleção de elementos de outra estrutura.\n",
    "\n",
    "Por exemplo, imagine a seguinte lista de usuários:\n",
    "\n",
    "```python\n",
    "[\n",
    "    { 'id': 1,  'nome': 'Pedro',     'idade': 32, 'casado': True  },\n",
    "    { 'id': 2,  'nome': 'Guilherme', 'idade': 23, 'casado': False },\n",
    "    { 'id': 3,  'nome': 'Volpato',   'idade': 82, 'casado': True  },\n",
    "    { 'id': 4,  'nome': 'Ferraresi', 'idade': 52, 'casado': True  },\n",
    "    { 'id': 5,  'nome': 'Ana',       'idade': 29, 'casado': True  },\n",
    "    { 'id': 6,  'nome': 'Carolina',  'idade': 19, 'casado': False },\n",
    "    { 'id': 7,  'nome': 'Curvina',   'idade': 54, 'casado': True  },\n",
    "    { 'id': 8,  'nome': 'Ubaldo',    'idade': 85, 'casado': True  },\n",
    "    { 'id': 9,  'nome': 'Joao',      'idade': 26, 'casado': False },\n",
    "    { 'id': 10, 'nome': 'Gabriel',   'idade': 62, 'casado': False },\n",
    "]\n",
    "```\n",
    "\n",
    "Imagine agora de desejamos fazer a seleção dos usuários que são casados. Uma abordagem seria utilizando a estrutura `for` e `if`:\n",
    "\n",
    "```python\n",
    "clientes_selecionados = []\n",
    "\n",
    "for cliente in clientes:\n",
    "    if cliente['casado'] == True:\n",
    "        clientes_selecionados.append(cliente)\n",
    "        \n",
    "return clientes_selecionados\n",
    "```\n",
    "\n",
    "Observe que precisamos de cinco linhas de código para que criássemos a lista que iria armazenar os usuários casados, percorrer todos os usuários, selecionar os casados e devolver a lista com os usuários selecionados.\n",
    "\n",
    "As `comprehensions` foram criadas com a finalidade de diminuir o código digitado. Por exemplo, se fossemos resolver o mesmo desafio utilizando `comprehension` ao invés da estrutura `for` e `if`, o código ficaria da seguinte maneira:\n",
    "\n",
    "```python\n",
    "clientes_selecionados = [ cliente for cliente in clientes if cliente['casado'] == True ]\n",
    "```\n",
    "\n",
    "Observe que com uma única linha resolvemos o desafio proposto.\n",
    "\n",
    "`Comprehensions` possuem a seguinte estrutura:\n",
    "\n",
    "```python\n",
    "[ elemento for elemento in iteravel ]\n",
    "```\n",
    "\n",
    "Onde o elemento é cada um dos itens de uma estrutura iterável."
   ]
  },
  {
   "cell_type": "markdown",
   "id": "b88d5e8c",
   "metadata": {
    "hidden": true
   },
   "source": [
    "Fora isso, podemos também criar uma lista do zero com `comprehensions`. Porém, o limitador disso é que as listas geradas dessa forma sempre serão algum tipo de sequencia, na mior parte das vezes, numérica.\n",
    "\n",
    "Por exemplo:\n",
    "\n",
    "```python\n",
    "[elemento for elemento in range(2, 11, 2)]   # Saída -> [2, 4, 6, 8, 10]\n",
    "```\n",
    "\n",
    "Normalmente utilizamos `comprehensions` para essas duas finalidades, sendo a seleção de valores a mais utilizada.\n",
    "\n",
    "Podemos também criar uma seleção um pouco mais complexa, tanto em termos de seleção (`if`) quanto de *loops* (`for`). Por exemplo, digamos que seja necessário agora selecionar não só os usuários casados da nossa lista, mas também os usuários que não sejam casados, e com isso criar duas listas separadas para cada seleção. Para fazermos isso utilizando `comprehensions`, podemos fazer da seguinte maneira:"
   ]
  },
  {
   "cell_type": "code",
   "execution_count": 4,
   "id": "083d8952",
   "metadata": {
    "ExecuteTime": {
     "end_time": "2022-04-27T23:14:19.572446Z",
     "start_time": "2022-04-27T23:14:19.559988Z"
    },
    "hidden": true
   },
   "outputs": [
    {
     "data": {
      "text/plain": [
       "[1, 2, 3, 4, 5, 6, 7, 8, 9, 10, 11, 12, 13, 14, 15, 16, 17, 18, 19, 20]"
      ]
     },
     "execution_count": 4,
     "metadata": {},
     "output_type": "execute_result"
    }
   ],
   "source": [
    "numeros = list(range(1, 21))\n",
    "numeros"
   ]
  },
  {
   "cell_type": "code",
   "execution_count": 7,
   "id": "954635ab",
   "metadata": {
    "ExecuteTime": {
     "end_time": "2022-04-27T23:17:11.734574Z",
     "start_time": "2022-04-27T23:17:11.728817Z"
    },
    "hidden": true
   },
   "outputs": [
    {
     "data": {
      "text/plain": [
       "[None,\n",
       " None,\n",
       " None,\n",
       " None,\n",
       " None,\n",
       " None,\n",
       " None,\n",
       " None,\n",
       " None,\n",
       " None,\n",
       " None,\n",
       " None,\n",
       " None,\n",
       " None,\n",
       " None,\n",
       " None,\n",
       " None,\n",
       " None,\n",
       " None,\n",
       " None]"
      ]
     },
     "execution_count": 7,
     "metadata": {},
     "output_type": "execute_result"
    }
   ],
   "source": [
    "pares   = []\n",
    "impares = []\n",
    "\n",
    "# [ oque_eu_quero_retorno for numero in lista estrutrua if ]\n",
    "[ pares.append(numero) if numero % 2 == 0 else impares.append(numero) for numero in numeros ]"
   ]
  },
  {
   "cell_type": "code",
   "execution_count": 8,
   "id": "9b6f5992",
   "metadata": {
    "ExecuteTime": {
     "end_time": "2022-04-27T23:17:24.988207Z",
     "start_time": "2022-04-27T23:17:24.984354Z"
    },
    "hidden": true
   },
   "outputs": [
    {
     "data": {
      "text/plain": [
       "[2, 4, 6, 8, 10, 12, 14, 16, 18, 20]"
      ]
     },
     "execution_count": 8,
     "metadata": {},
     "output_type": "execute_result"
    }
   ],
   "source": [
    "pares"
   ]
  },
  {
   "cell_type": "code",
   "execution_count": 9,
   "id": "264963f2",
   "metadata": {
    "ExecuteTime": {
     "end_time": "2022-04-27T23:17:28.566504Z",
     "start_time": "2022-04-27T23:17:28.562846Z"
    },
    "hidden": true
   },
   "outputs": [
    {
     "data": {
      "text/plain": [
       "[1, 3, 5, 7, 9, 11, 13, 15, 17, 19]"
      ]
     },
     "execution_count": 9,
     "metadata": {},
     "output_type": "execute_result"
    }
   ],
   "source": [
    "impares"
   ]
  },
  {
   "cell_type": "code",
   "execution_count": null,
   "id": "c277ca15",
   "metadata": {
    "hidden": true
   },
   "outputs": [],
   "source": []
  },
  {
   "cell_type": "code",
   "execution_count": null,
   "id": "bb5f2368",
   "metadata": {
    "hidden": true
   },
   "outputs": [],
   "source": [
    "selecionados = [ \n",
    "    casados.append(cliente)       # Valor de Retorno caso verdadeiro\n",
    "    for cliente in clientes       # Iterador\n",
    "    if cliente['casado'] == True  # Teste Lógico\n",
    "]"
   ]
  },
  {
   "cell_type": "code",
   "execution_count": null,
   "id": "fe8c7f71",
   "metadata": {
    "hidden": true
   },
   "outputs": [],
   "source": []
  },
  {
   "cell_type": "code",
   "execution_count": 10,
   "id": "9afa06d1",
   "metadata": {
    "ExecuteTime": {
     "end_time": "2022-04-27T23:22:38.982393Z",
     "start_time": "2022-04-27T23:22:38.975622Z"
    },
    "hidden": true
   },
   "outputs": [],
   "source": [
    "clientes = [\n",
    "    { 'id': 1,  'nome': 'Pedro',     'idade': 32, 'casado': True  }, # 0\n",
    "    { 'id': 2,  'nome': 'Guilherme', 'idade': 23, 'casado': False }, # 1\n",
    "    { 'id': 3,  'nome': 'Volpato',   'idade': 82, 'casado': True  }, # 2\n",
    "    { 'id': 4,  'nome': 'Ferraresi', 'idade': 52, 'casado': True  }, # 3\n",
    "    { 'id': 5,  'nome': 'Ana',       'idade': 29, 'casado': True  }, # 4\n",
    "    { 'id': 6,  'nome': 'Carolina',  'idade': 19, 'casado': False }, # 5\n",
    "    { 'id': 7,  'nome': 'Curvina',   'idade': 54, 'casado': True  }, # 6\n",
    "    { 'id': 8,  'nome': 'Ubaldo',    'idade': 85, 'casado': True  }, # 7\n",
    "    { 'id': 9,  'nome': 'Joao',      'idade': 26, 'casado': False }, # 8\n",
    "    { 'id': 10, 'nome': 'Gabriel',   'idade': 62, 'casado': False }, # 9\n",
    "]"
   ]
  },
  {
   "cell_type": "code",
   "execution_count": 11,
   "id": "240ccddd",
   "metadata": {
    "ExecuteTime": {
     "end_time": "2022-04-27T23:23:24.089133Z",
     "start_time": "2022-04-27T23:23:24.084976Z"
    },
    "hidden": true
   },
   "outputs": [
    {
     "data": {
      "text/plain": [
       "[{'id': 1, 'nome': 'Pedro', 'idade': 32, 'casado': True},\n",
       " {'id': 3, 'nome': 'Volpato', 'idade': 82, 'casado': True},\n",
       " {'id': 4, 'nome': 'Ferraresi', 'idade': 52, 'casado': True},\n",
       " {'id': 5, 'nome': 'Ana', 'idade': 29, 'casado': True},\n",
       " {'id': 7, 'nome': 'Curvina', 'idade': 54, 'casado': True},\n",
       " {'id': 8, 'nome': 'Ubaldo', 'idade': 85, 'casado': True}]"
      ]
     },
     "execution_count": 11,
     "metadata": {},
     "output_type": "execute_result"
    }
   ],
   "source": [
    "# Listas com as as respostas\n",
    "casados = []\n",
    "nao_casados = []\n",
    "\n",
    "selecionados = [ \n",
    "    casados.append(cliente) if cliente['casado'] == True # Valor de Retorno caso verdadeiro\n",
    "    else nao_casados.append(cliente) # Valor de retorno caso falso\n",
    "    for cliente in clientes # Iterador\n",
    "]\n",
    "\n",
    "casados"
   ]
  },
  {
   "cell_type": "code",
   "execution_count": 7,
   "id": "c46ee233",
   "metadata": {
    "ExecuteTime": {
     "end_time": "2022-04-04T19:08:41.845735Z",
     "start_time": "2022-04-04T19:08:41.841062Z"
    },
    "hidden": true
   },
   "outputs": [
    {
     "data": {
      "text/plain": [
       "[{'id': 2, 'nome': 'Guilherme', 'idade': 23, 'casado': False},\n",
       " {'id': 6, 'nome': 'Carolina', 'idade': 19, 'casado': False},\n",
       " {'id': 9, 'nome': 'Joao', 'idade': 26, 'casado': False},\n",
       " {'id': 10, 'nome': 'Gabriel', 'idade': 62, 'casado': False}]"
      ]
     },
     "execution_count": 7,
     "metadata": {},
     "output_type": "execute_result"
    }
   ],
   "source": [
    "nao_casados"
   ]
  },
  {
   "cell_type": "markdown",
   "id": "984e6f82",
   "metadata": {
    "ExecuteTime": {
     "end_time": "2022-04-04T17:34:53.682489Z",
     "start_time": "2022-04-04T17:34:53.678545Z"
    },
    "hidden": true
   },
   "source": [
    "Observe que conseguimos separar os clientes conforme a situação matrimonial. Porém, a `comprehension` ficou um pouco mais complexa de ser lida e compreendida. E isso é uma das desvantagens das `comprehensions`, ou seja, quanto mais complexo o \"filtro\" ou método de seleção, maior e mais complexa será a `comprehension`.\n",
    "\n",
    "Para exemplificar o uso de mais de uma estrutura de repetição dentro da `comprehension`, vamos observar a seguinte matriz:"
   ]
  },
  {
   "cell_type": "code",
   "execution_count": 13,
   "id": "a1189d61",
   "metadata": {
    "ExecuteTime": {
     "end_time": "2022-04-27T23:32:02.194832Z",
     "start_time": "2022-04-27T23:32:02.191768Z"
    },
    "hidden": true
   },
   "outputs": [],
   "source": [
    "matriz = [      # i\n",
    "    [1, 2, 3],  # 0\n",
    "    [5, 6, 7],  # 1\n",
    "    [4, 8, 9]   # 2\n",
    "]\n",
    "#  j 0  1  2"
   ]
  },
  {
   "cell_type": "markdown",
   "id": "cd47870a",
   "metadata": {
    "hidden": true
   },
   "source": [
    "Se tivéssemos que recuperar a diagonal principal dela, que são os valores 1, 6 e 9, programaticamente, teríamos que executar duas estruturas `for`, uma para percorrer a variável `matriz` e outra para percorrer os elementos internos de cada lista e recuperar o elemento quando o indice da linha fosse igual ao da coluna. Por exemplo:"
   ]
  },
  {
   "cell_type": "code",
   "execution_count": 11,
   "id": "9010971e",
   "metadata": {
    "ExecuteTime": {
     "end_time": "2022-04-04T20:04:44.468238Z",
     "start_time": "2022-04-04T20:04:44.463969Z"
    },
    "hidden": true
   },
   "outputs": [
    {
     "name": "stdout",
     "output_type": "stream",
     "text": [
      "1 2 3 \n",
      "5 6 7 \n",
      "4 8 9 \n"
     ]
    }
   ],
   "source": [
    "for linha in matriz:\n",
    "    for elemento in linha:\n",
    "        print(elemento, end=' ')\n",
    "    # Quebra de Linha\n",
    "    print()"
   ]
  },
  {
   "cell_type": "markdown",
   "id": "0b4e2a81",
   "metadata": {
    "hidden": true
   },
   "source": [
    "O código para fazermos o cálculo da diagonal principal, de forma manual em Python seria:"
   ]
  },
  {
   "cell_type": "code",
   "execution_count": 18,
   "id": "8bbb5169",
   "metadata": {
    "ExecuteTime": {
     "end_time": "2022-04-04T20:17:21.737955Z",
     "start_time": "2022-04-04T20:17:21.732944Z"
    },
    "hidden": true
   },
   "outputs": [
    {
     "data": {
      "text/plain": [
       "[1, 6, 9]"
      ]
     },
     "execution_count": 18,
     "metadata": {},
     "output_type": "execute_result"
    }
   ],
   "source": [
    "diagonal = []\n",
    "\n",
    "for i, linha in enumerate(matriz):\n",
    "    for j, elemento in enumerate(linha):\n",
    "        if i == j:\n",
    "            diagonal.append(elemento)\n",
    "\n",
    "diagonal"
   ]
  },
  {
   "cell_type": "code",
   "execution_count": null,
   "id": "73ac51cb",
   "metadata": {
    "hidden": true
   },
   "outputs": [],
   "source": []
  },
  {
   "cell_type": "code",
   "execution_count": 16,
   "id": "9483376c",
   "metadata": {
    "ExecuteTime": {
     "end_time": "2022-04-27T23:34:12.165373Z",
     "start_time": "2022-04-27T23:34:12.159835Z"
    },
    "hidden": true
   },
   "outputs": [
    {
     "data": {
      "text/plain": [
       "[[1], [6], [9]]"
      ]
     },
     "execution_count": 16,
     "metadata": {},
     "output_type": "execute_result"
    }
   ],
   "source": [
    "diagonal = []\n",
    "\n",
    "for i, linha in enumerate(matriz):\n",
    "#      [1]\n",
    "#      [6]\n",
    "    diagonal.append([ elemento for j, elemento in enumerate(linha) if i == j ])\n",
    "    \n",
    "diagonal"
   ]
  },
  {
   "cell_type": "code",
   "execution_count": null,
   "id": "952c82c9",
   "metadata": {
    "hidden": true
   },
   "outputs": [],
   "source": []
  },
  {
   "cell_type": "code",
   "execution_count": null,
   "id": "94cff194",
   "metadata": {
    "hidden": true
   },
   "outputs": [],
   "source": []
  },
  {
   "cell_type": "code",
   "execution_count": null,
   "id": "ad0b5609",
   "metadata": {
    "hidden": true
   },
   "outputs": [],
   "source": []
  },
  {
   "cell_type": "markdown",
   "id": "c70e988e",
   "metadata": {
    "hidden": true
   },
   "source": [
    "Porém, podemos fazer o mesmo cálculo utilizando `comprehension`:"
   ]
  },
  {
   "cell_type": "code",
   "execution_count": 20,
   "id": "f5fdd234",
   "metadata": {
    "ExecuteTime": {
     "end_time": "2022-04-04T20:17:32.053942Z",
     "start_time": "2022-04-04T20:17:32.049256Z"
    },
    "hidden": true
   },
   "outputs": [
    {
     "data": {
      "text/plain": [
       "[1, 6, 9]"
      ]
     },
     "execution_count": 20,
     "metadata": {},
     "output_type": "execute_result"
    }
   ],
   "source": [
    "diagonal = [ elemento for i, linha in enumerate(matriz) for j, elemento in enumerate(linha) if i == j ]\n",
    "diagonal"
   ]
  },
  {
   "cell_type": "markdown",
   "id": "8c6a9eda",
   "metadata": {
    "hidden": true
   },
   "source": [
    "Novamente, quanto maior a quantidade de testes (`if`) e repetições (`for`) tivermos que usar, mais complexo será a `comprehension`, o que pode ser um indicador de que talvez ela não seja a melhor solução para o desafio/problema."
   ]
  },
  {
   "cell_type": "markdown",
   "id": "23e1731d",
   "metadata": {
    "heading_collapsed": true,
    "hidden": true
   },
   "source": [
    "### 2.3.1 - Exercícios"
   ]
  },
  {
   "cell_type": "markdown",
   "id": "b25351cd",
   "metadata": {
    "heading_collapsed": true,
    "hidden": true
   },
   "source": [
    "#### 1. Com a seguinte base de dados:"
   ]
  },
  {
   "cell_type": "markdown",
   "id": "3693a797",
   "metadata": {
    "hidden": true
   },
   "source": [
    "```python\n",
    "clientes = [\n",
    "    { 'id': 1,  'nome': 'Pedro',     'idade': 32, 'casado': True  },\n",
    "    { 'id': 2,  'nome': 'Guilherme', 'idade': 23, 'casado': False },\n",
    "    { 'id': 3,  'nome': 'Volpato',   'idade': 82, 'casado': True  },\n",
    "    { 'id': 4,  'nome': 'Ferraresi', 'idade': 52, 'casado': True  },\n",
    "    { 'id': 5,  'nome': 'Ana',       'idade': 29, 'casado': True  },\n",
    "    { 'id': 6,  'nome': 'Carolina',  'idade': 19, 'casado': False },\n",
    "    { 'id': 7,  'nome': 'Curvina',   'idade': 54, 'casado': True  },\n",
    "    { 'id': 8,  'nome': 'Ubaldo',    'idade': 85, 'casado': True  },\n",
    "    { 'id': 9,  'nome': 'Joao',      'idade': 26, 'casado': False },\n",
    "    { 'id': 10, 'nome': 'Gabriel',   'idade': 62, 'casado': False },\n",
    "]\n",
    "```\n",
    "\n",
    "Seu líder pediu para que você selecione, utilizando `list comprehension`, os todos os usuários que têm a idade entre 35 e 65."
   ]
  },
  {
   "cell_type": "markdown",
   "id": "749cb305",
   "metadata": {
    "hidden": true
   },
   "source": [
    "##### Resposta"
   ]
  },
  {
   "cell_type": "code",
   "execution_count": null,
   "id": "32bc5111",
   "metadata": {
    "hidden": true
   },
   "outputs": [],
   "source": [
    "clientes = [\n",
    "    { 'id': 1,  'nome': 'Pedro',     'idade': 32, 'casado': True  },\n",
    "    { 'id': 2,  'nome': 'Guilherme', 'idade': 23, 'casado': False },\n",
    "    { 'id': 3,  'nome': 'Volpato',   'idade': 82, 'casado': True  },\n",
    "    { 'id': 4,  'nome': 'Ferraresi', 'idade': 52, 'casado': True  },\n",
    "    { 'id': 5,  'nome': 'Ana',       'idade': 29, 'casado': True  },\n",
    "    { 'id': 6,  'nome': 'Carolina',  'idade': 19, 'casado': False },\n",
    "    { 'id': 7,  'nome': 'Curvina',   'idade': 54, 'casado': True  },\n",
    "    { 'id': 8,  'nome': 'Ubaldo',    'idade': 85, 'casado': True  },\n",
    "    { 'id': 9,  'nome': 'Joao',      'idade': 26, 'casado': False },\n",
    "    { 'id': 10, 'nome': 'Gabriel',   'idade': 62, 'casado': False },\n",
    "]"
   ]
  },
  {
   "cell_type": "code",
   "execution_count": 24,
   "id": "7df09e77",
   "metadata": {
    "ExecuteTime": {
     "end_time": "2022-04-04T20:36:57.215010Z",
     "start_time": "2022-04-04T20:36:57.212705Z"
    },
    "hidden": true
   },
   "outputs": [],
   "source": [
    "# Resposta\n"
   ]
  },
  {
   "cell_type": "markdown",
   "id": "69841b7d",
   "metadata": {
    "hidden": true
   },
   "source": [
    "##### Resolução"
   ]
  },
  {
   "cell_type": "code",
   "execution_count": 22,
   "id": "fb884bba",
   "metadata": {
    "ExecuteTime": {
     "end_time": "2022-04-04T20:36:47.399727Z",
     "start_time": "2022-04-04T20:36:47.392553Z"
    },
    "hidden": true
   },
   "outputs": [],
   "source": [
    "clientes = [\n",
    "    { 'id': 1,  'nome': 'Pedro',     'idade': 32, 'casado': True  },\n",
    "    { 'id': 2,  'nome': 'Guilherme', 'idade': 23, 'casado': False },\n",
    "    { 'id': 3,  'nome': 'Volpato',   'idade': 82, 'casado': True  },\n",
    "    { 'id': 4,  'nome': 'Ferraresi', 'idade': 52, 'casado': True  },\n",
    "    { 'id': 5,  'nome': 'Ana',       'idade': 29, 'casado': True  },\n",
    "    { 'id': 6,  'nome': 'Carolina',  'idade': 19, 'casado': False },\n",
    "    { 'id': 7,  'nome': 'Curvina',   'idade': 54, 'casado': True  },\n",
    "    { 'id': 8,  'nome': 'Ubaldo',    'idade': 85, 'casado': True  },\n",
    "    { 'id': 9,  'nome': 'Joao',      'idade': 26, 'casado': False },\n",
    "    { 'id': 10, 'nome': 'Gabriel',   'idade': 62, 'casado': False },\n",
    "]"
   ]
  },
  {
   "cell_type": "code",
   "execution_count": 23,
   "id": "f4462c43",
   "metadata": {
    "ExecuteTime": {
     "end_time": "2022-04-04T20:36:48.559057Z",
     "start_time": "2022-04-04T20:36:48.554209Z"
    },
    "hidden": true
   },
   "outputs": [
    {
     "data": {
      "text/plain": [
       "[{'id': 4, 'nome': 'Ferraresi', 'idade': 52, 'casado': True},\n",
       " {'id': 7, 'nome': 'Curvina', 'idade': 54, 'casado': True},\n",
       " {'id': 10, 'nome': 'Gabriel', 'idade': 62, 'casado': False}]"
      ]
     },
     "execution_count": 23,
     "metadata": {},
     "output_type": "execute_result"
    }
   ],
   "source": [
    "idades = [ cliente for cliente in clientes if 35 <= cliente['idade'] <= 65 ]\n",
    "idades"
   ]
  },
  {
   "cell_type": "markdown",
   "id": "e7db4594",
   "metadata": {
    "heading_collapsed": true,
    "hidden": true
   },
   "source": [
    "#### 2. Ainda com a base de dados anterior"
   ]
  },
  {
   "cell_type": "markdown",
   "id": "354347b5",
   "metadata": {
    "hidden": true
   },
   "source": [
    "```python\n",
    "clientes = [\n",
    "    { 'id': 1,  'nome': 'Pedro',     'idade': 32, 'casado': True  },\n",
    "    { 'id': 2,  'nome': 'Guilherme', 'idade': 23, 'casado': False },\n",
    "    { 'id': 3,  'nome': 'Volpato',   'idade': 82, 'casado': True  },\n",
    "    { 'id': 4,  'nome': 'Ferraresi', 'idade': 52, 'casado': True  },\n",
    "    { 'id': 5,  'nome': 'Ana',       'idade': 29, 'casado': True  },\n",
    "    { 'id': 6,  'nome': 'Carolina',  'idade': 19, 'casado': False },\n",
    "    { 'id': 7,  'nome': 'Curvina',   'idade': 54, 'casado': True  },\n",
    "    { 'id': 8,  'nome': 'Ubaldo',    'idade': 85, 'casado': True  },\n",
    "    { 'id': 9,  'nome': 'Joao',      'idade': 26, 'casado': False },\n",
    "    { 'id': 10, 'nome': 'Gabriel',   'idade': 62, 'casado': False },\n",
    "]\n",
    "```\n",
    "\n",
    "Crie uma lista que insira a String `'Cliente com ID XX é casado'`, caso o cliente seja casado, e uma string `'Cliente com ID XX não é casado'`, caso o cliente não seja casado."
   ]
  },
  {
   "cell_type": "markdown",
   "id": "3c1ab2df",
   "metadata": {
    "heading_collapsed": true,
    "hidden": true
   },
   "source": [
    "##### Resposta"
   ]
  },
  {
   "cell_type": "code",
   "execution_count": null,
   "id": "b8bd00e8",
   "metadata": {
    "hidden": true
   },
   "outputs": [],
   "source": [
    "clientes = [\n",
    "    { 'id': 1,  'nome': 'Pedro',     'idade': 32, 'casado': True  },\n",
    "    { 'id': 2,  'nome': 'Guilherme', 'idade': 23, 'casado': False },\n",
    "    { 'id': 3,  'nome': 'Volpato',   'idade': 82, 'casado': True  },\n",
    "    { 'id': 4,  'nome': 'Ferraresi', 'idade': 52, 'casado': True  },\n",
    "    { 'id': 5,  'nome': 'Ana',       'idade': 29, 'casado': True  },\n",
    "    { 'id': 6,  'nome': 'Carolina',  'idade': 19, 'casado': False },\n",
    "    { 'id': 7,  'nome': 'Curvina',   'idade': 54, 'casado': True  },\n",
    "    { 'id': 8,  'nome': 'Ubaldo',    'idade': 85, 'casado': True  },\n",
    "    { 'id': 9,  'nome': 'Joao',      'idade': 26, 'casado': False },\n",
    "    { 'id': 10, 'nome': 'Gabriel',   'idade': 62, 'casado': False },\n",
    "]"
   ]
  },
  {
   "cell_type": "code",
   "execution_count": 25,
   "id": "cf4f921e",
   "metadata": {
    "ExecuteTime": {
     "end_time": "2022-04-04T20:39:52.574814Z",
     "start_time": "2022-04-04T20:39:52.572351Z"
    },
    "hidden": true
   },
   "outputs": [],
   "source": [
    "# Resolução"
   ]
  },
  {
   "cell_type": "markdown",
   "id": "9c737a14",
   "metadata": {
    "heading_collapsed": true,
    "hidden": true
   },
   "source": [
    "##### Resolução"
   ]
  },
  {
   "cell_type": "code",
   "execution_count": 26,
   "id": "94a8495f",
   "metadata": {
    "ExecuteTime": {
     "end_time": "2022-04-04T20:39:55.166689Z",
     "start_time": "2022-04-04T20:39:55.160347Z"
    },
    "hidden": true
   },
   "outputs": [],
   "source": [
    "clientes = [\n",
    "    { 'id': 1,  'nome': 'Pedro',     'idade': 32, 'casado': True  },\n",
    "    { 'id': 2,  'nome': 'Guilherme', 'idade': 23, 'casado': False },\n",
    "    { 'id': 3,  'nome': 'Volpato',   'idade': 82, 'casado': True  },\n",
    "    { 'id': 4,  'nome': 'Ferraresi', 'idade': 52, 'casado': True  },\n",
    "    { 'id': 5,  'nome': 'Ana',       'idade': 29, 'casado': True  },\n",
    "    { 'id': 6,  'nome': 'Carolina',  'idade': 19, 'casado': False },\n",
    "    { 'id': 7,  'nome': 'Curvina',   'idade': 54, 'casado': True  },\n",
    "    { 'id': 8,  'nome': 'Ubaldo',    'idade': 85, 'casado': True  },\n",
    "    { 'id': 9,  'nome': 'Joao',      'idade': 26, 'casado': False },\n",
    "    { 'id': 10, 'nome': 'Gabriel',   'idade': 62, 'casado': False },\n",
    "]"
   ]
  },
  {
   "cell_type": "code",
   "execution_count": 27,
   "id": "5a3ee4d9",
   "metadata": {
    "ExecuteTime": {
     "end_time": "2022-04-04T20:41:08.702514Z",
     "start_time": "2022-04-04T20:41:08.697948Z"
    },
    "hidden": true
   },
   "outputs": [
    {
     "data": {
      "text/plain": [
       "['Cliente com ID 1 é casado',\n",
       " 'Cliente com ID 2 não é casado',\n",
       " 'Cliente com ID 3 é casado',\n",
       " 'Cliente com ID 4 é casado',\n",
       " 'Cliente com ID 5 é casado',\n",
       " 'Cliente com ID 6 não é casado',\n",
       " 'Cliente com ID 7 é casado',\n",
       " 'Cliente com ID 8 é casado',\n",
       " 'Cliente com ID 9 não é casado',\n",
       " 'Cliente com ID 10 não é casado']"
      ]
     },
     "execution_count": 27,
     "metadata": {},
     "output_type": "execute_result"
    }
   ],
   "source": [
    "r = [ \n",
    "    f'Cliente com ID {cliente[\"id\"]} é casado' \n",
    "    if cliente[\"casado\"] == True\n",
    "    else f'Cliente com ID {cliente[\"id\"]} não é casado'\n",
    "    for cliente in clientes\n",
    "]\n",
    "\n",
    "r"
   ]
  },
  {
   "cell_type": "markdown",
   "id": "b96b3f1b",
   "metadata": {
    "heading_collapsed": true
   },
   "source": [
    "# 3.0 - Programação Funcional, Funções Aninhadas e Expressões Lambda"
   ]
  },
  {
   "cell_type": "markdown",
   "id": "1a548da6",
   "metadata": {
    "heading_collapsed": true,
    "hidden": true
   },
   "source": [
    "## 3.1 - Programação Funcional"
   ]
  },
  {
   "cell_type": "markdown",
   "id": "9036ebea",
   "metadata": {
    "hidden": true
   },
   "source": [
    "Como vimos anteriormente, **Programação Funcional** é um paradigma de programação cujo o objetivo é dividir a aplicação e seu fluxo/tarefas em funções, que são executadas e chamam umas as outras.\n",
    "\n",
    "Vimos ainda que, dentro da **Programação Funcional** existem basicamente dois tipos de funções: **Funções Puras** e **Funções Impuras**.\n",
    "\n",
    "**Funções Puras** são as funções que quando executadas, com os mesmos dados e as mesmas entradas, nos darão sempre o mesmo resultado e também não alteram o estado da aplicação. Já **Funções Impuras** irão variar os resultados obtidos, principalmente porque elas alteram o estado da aplicação.\n",
    "\n",
    "Para exemplificar, vamos criar uma função que insere valores dentro de uma lista:"
   ]
  },
  {
   "cell_type": "code",
   "execution_count": 23,
   "id": "6ce14cdb",
   "metadata": {
    "ExecuteTime": {
     "end_time": "2022-04-27T23:49:51.983004Z",
     "start_time": "2022-04-27T23:49:51.980563Z"
    },
    "hidden": true
   },
   "outputs": [],
   "source": [
    "# Definição de uma função Impura\n",
    "def add_to_list(value):\n",
    "    l.append(value)\n",
    "    return l"
   ]
  },
  {
   "cell_type": "markdown",
   "id": "1b747c29",
   "metadata": {
    "hidden": true
   },
   "source": [
    "Vamos agora criar a lista e executar algumas vezes a função para verificarmos o estado da aplicação:"
   ]
  },
  {
   "cell_type": "code",
   "execution_count": 24,
   "id": "ddbce97b",
   "metadata": {
    "ExecuteTime": {
     "end_time": "2022-04-27T23:49:52.227195Z",
     "start_time": "2022-04-27T23:49:52.222775Z"
    },
    "hidden": true
   },
   "outputs": [
    {
     "data": {
      "text/plain": [
       "[1, 2, 3, 4, 5]"
      ]
     },
     "execution_count": 24,
     "metadata": {},
     "output_type": "execute_result"
    }
   ],
   "source": [
    "# Lista de Valores\n",
    "l = [1, 2, 3, 4, 5]\n",
    "l"
   ]
  },
  {
   "cell_type": "code",
   "execution_count": 25,
   "id": "eb74ad11",
   "metadata": {
    "ExecuteTime": {
     "end_time": "2022-04-27T23:49:52.494240Z",
     "start_time": "2022-04-27T23:49:52.490252Z"
    },
    "hidden": true
   },
   "outputs": [
    {
     "name": "stdout",
     "output_type": "stream",
     "text": [
      "Os elementos da lista são [1, 2, 3, 4, 5, 6]\n",
      "O ID do maior é 140098953663168\n"
     ]
    }
   ],
   "source": [
    "lista = add_to_list(6)\n",
    "\n",
    "print(f'Os elementos da lista são {lista}')\n",
    "print(f'O ID do maior é {id(lista)}')"
   ]
  },
  {
   "cell_type": "code",
   "execution_count": 26,
   "id": "d189688a",
   "metadata": {
    "ExecuteTime": {
     "end_time": "2022-04-27T23:49:52.686649Z",
     "start_time": "2022-04-27T23:49:52.682180Z"
    },
    "hidden": true
   },
   "outputs": [
    {
     "name": "stdout",
     "output_type": "stream",
     "text": [
      "s elementos da lista são [1, 2, 3, 4, 5, 6, 7]\n",
      "O ID do maior é 140098953663168\n"
     ]
    }
   ],
   "source": [
    "lista = add_to_list(7)\n",
    "\n",
    "print(f's elementos da lista são {lista}')\n",
    "print(f'O ID do maior é {id(lista)}')"
   ]
  },
  {
   "cell_type": "code",
   "execution_count": 27,
   "id": "1d5ba829",
   "metadata": {
    "ExecuteTime": {
     "end_time": "2022-04-27T23:49:53.061413Z",
     "start_time": "2022-04-27T23:49:53.057114Z"
    },
    "hidden": true
   },
   "outputs": [
    {
     "name": "stdout",
     "output_type": "stream",
     "text": [
      "s elementos da lista são [1, 2, 3, 4, 5, 6, 7, 8]\n",
      "O ID do maior é 140098953663168\n"
     ]
    }
   ],
   "source": [
    "lista = add_to_list(8)\n",
    "\n",
    "print(f's elementos da lista são {lista}')\n",
    "print(f'O ID do maior é {id(lista)}')"
   ]
  },
  {
   "cell_type": "markdown",
   "id": "362a7f90",
   "metadata": {
    "ExecuteTime": {
     "end_time": "2022-04-04T22:13:15.243553Z",
     "start_time": "2022-04-04T22:13:15.240627Z"
    },
    "hidden": true
   },
   "source": [
    "Observe que conforme executamos a função `add_to_list()`, embora o comportamento seja o desejado e o valor esteja sendo inserido dentro da lista, o `ID` da lista permanece o mesmo. Isso nos diz que conforme a função vai sendo executada, o estado da lista, que é uma variável global, está sendo alterado ao longo da aplicação, o que é um problema, pois se outra função dependesse desse estado, a chance da aplicação quebrar seria muito grande.\n",
    "\n",
    "Para exemplificar melhor, vamos ver o conteúdo da lista `l`, que até então não foi alterado:"
   ]
  },
  {
   "cell_type": "code",
   "execution_count": 28,
   "id": "466cfc2c",
   "metadata": {
    "ExecuteTime": {
     "end_time": "2022-04-27T23:50:56.399257Z",
     "start_time": "2022-04-27T23:50:56.395913Z"
    },
    "hidden": true
   },
   "outputs": [
    {
     "data": {
      "text/plain": [
       "[1, 2, 3, 4, 5, 6, 7, 8]"
      ]
     },
     "execution_count": 28,
     "metadata": {},
     "output_type": "execute_result"
    }
   ],
   "source": [
    "l"
   ]
  },
  {
   "cell_type": "markdown",
   "id": "7c5c5791",
   "metadata": {
    "hidden": true
   },
   "source": [
    "Observe que o estado da lista `l`, ou seja, o seu conteúdo, é o mesmo da variável `lista`. O que nos demonstra, mais uma vez, que nossa função `add_to_list()` é uma função **Impura**.\n",
    "\n",
    "Para transformarmos essa função **Impura** em uma função **Pura**, temos que garantir que não toda vez que a função seja executada, a ação de inserção ocorra, mas que o `ID` da lista devolvida mude a cada execução, pois assim garantimos que a variável `l`, que é a nossa lista original, permaneça com o mesmo estado. Para isso, vamos fazer alguma alterações em nosso código:"
   ]
  },
  {
   "cell_type": "code",
   "execution_count": 31,
   "id": "d6bf4442",
   "metadata": {
    "ExecuteTime": {
     "end_time": "2022-04-27T23:52:18.780220Z",
     "start_time": "2022-04-27T23:52:18.777860Z"
    },
    "hidden": true
   },
   "outputs": [],
   "source": [
    "# Definição de uma função Pura\n",
    "def add_to_list(valor, lista):\n",
    "    return lista + [valor]"
   ]
  },
  {
   "cell_type": "code",
   "execution_count": 32,
   "id": "647779fe",
   "metadata": {
    "ExecuteTime": {
     "end_time": "2022-04-27T23:52:18.997612Z",
     "start_time": "2022-04-27T23:52:18.993446Z"
    },
    "hidden": true
   },
   "outputs": [
    {
     "data": {
      "text/plain": [
       "[1, 2, 3, 4, 5]"
      ]
     },
     "execution_count": 32,
     "metadata": {},
     "output_type": "execute_result"
    }
   ],
   "source": [
    "# Lista de Valores\n",
    "l = [1, 2, 3, 4, 5]\n",
    "l"
   ]
  },
  {
   "cell_type": "code",
   "execution_count": 36,
   "id": "b9efbf70",
   "metadata": {
    "ExecuteTime": {
     "end_time": "2022-04-27T23:52:58.017717Z",
     "start_time": "2022-04-27T23:52:58.013999Z"
    },
    "hidden": true
   },
   "outputs": [
    {
     "name": "stdout",
     "output_type": "stream",
     "text": [
      "Os elementos da lista são [1, 2, 3, 4, 5, 6]\n",
      "O ID do maior é 140098963516736\n"
     ]
    }
   ],
   "source": [
    "lista = add_to_list(6, l)\n",
    "\n",
    "print(f'Os elementos da lista são {lista}')\n",
    "print(f'O ID do maior é {id(lista)}')"
   ]
  },
  {
   "cell_type": "code",
   "execution_count": 37,
   "id": "f629c2d8",
   "metadata": {
    "ExecuteTime": {
     "end_time": "2022-04-27T23:52:58.136943Z",
     "start_time": "2022-04-27T23:52:58.133382Z"
    },
    "hidden": true
   },
   "outputs": [
    {
     "name": "stdout",
     "output_type": "stream",
     "text": [
      "Os elementos da lista são [1, 2, 3, 4, 5, 7]\n",
      "O ID do maior é 140099223679040\n"
     ]
    }
   ],
   "source": [
    "lista = add_to_list(7, l)\n",
    "\n",
    "print(f'Os elementos da lista são {lista}')\n",
    "print(f'O ID do maior é {id(lista)}')"
   ]
  },
  {
   "cell_type": "code",
   "execution_count": 38,
   "id": "0feced0e",
   "metadata": {
    "ExecuteTime": {
     "end_time": "2022-04-27T23:53:01.994741Z",
     "start_time": "2022-04-27T23:53:01.991402Z"
    },
    "hidden": true
   },
   "outputs": [
    {
     "name": "stdout",
     "output_type": "stream",
     "text": [
      "Os elementos da lista são [1, 2, 3, 4, 5, 8]\n",
      "O ID do maior é 140098965253312\n"
     ]
    }
   ],
   "source": [
    "lista = add_to_list(8, l)\n",
    "\n",
    "print(f'Os elementos da lista são {lista}')\n",
    "print(f'O ID do maior é {id(lista)}')"
   ]
  },
  {
   "cell_type": "markdown",
   "id": "d5bce5a5",
   "metadata": {
    "ExecuteTime": {
     "end_time": "2022-04-04T22:37:26.935031Z",
     "start_time": "2022-04-04T22:37:26.931066Z"
    },
    "hidden": true
   },
   "source": [
    "Observe agora que, a cada execução, o elemento é é inserido na lista, porém a lista devolvida tem o seu `ID` alterado a cada execução. Isso nos diz que a cada execução, é gerado um novo objeto e o estado anterior da aplicação permanece o mesmo.\n",
    "\n",
    "Outra forma de comprovar isso é observando os valores da lista `l`:"
   ]
  },
  {
   "cell_type": "code",
   "execution_count": 40,
   "id": "3b4a5670",
   "metadata": {
    "ExecuteTime": {
     "end_time": "2022-04-27T23:59:01.277609Z",
     "start_time": "2022-04-27T23:59:01.273361Z"
    },
    "hidden": true
   },
   "outputs": [
    {
     "data": {
      "text/plain": [
       "[1, 2, 3, 4, 5]"
      ]
     },
     "execution_count": 40,
     "metadata": {},
     "output_type": "execute_result"
    }
   ],
   "source": [
    "l"
   ]
  },
  {
   "cell_type": "markdown",
   "id": "18cd9036",
   "metadata": {
    "hidden": true
   },
   "source": [
    "Observe que eles ainda estão intactos, o que nos garante que a nossa função não só faz a ação ao qual ela foi construída, mas também não altera o estado da aplicação!"
   ]
  },
  {
   "cell_type": "code",
   "execution_count": 44,
   "id": "62156c50",
   "metadata": {
    "ExecuteTime": {
     "end_time": "2022-04-28T00:03:28.728599Z",
     "start_time": "2022-04-28T00:03:28.726462Z"
    },
    "hidden": true
   },
   "outputs": [],
   "source": [
    "# import csv\n",
    "# dir()"
   ]
  },
  {
   "cell_type": "code",
   "execution_count": null,
   "id": "64df5f90",
   "metadata": {
    "hidden": true
   },
   "outputs": [],
   "source": []
  },
  {
   "cell_type": "code",
   "execution_count": null,
   "id": "5aad5a7c",
   "metadata": {
    "hidden": true
   },
   "outputs": [],
   "source": []
  },
  {
   "cell_type": "markdown",
   "id": "52dacc97",
   "metadata": {
    "heading_collapsed": true,
    "hidden": true
   },
   "source": [
    "### 3.1.1 - Composição de Funções, `filter()` e `map()`"
   ]
  },
  {
   "cell_type": "markdown",
   "id": "d069497f",
   "metadata": {
    "hidden": true
   },
   "source": [
    "**Composição de Funções** nada mais é que a técnica que utilizamos quando encadeamos funções, fazendo com que o resultado de uma função seja a entrada de outra função. Para exemplificar, vamos verificar os seguintes dados:"
   ]
  },
  {
   "cell_type": "code",
   "execution_count": 47,
   "id": "3fa88caa",
   "metadata": {
    "ExecuteTime": {
     "end_time": "2022-04-28T00:08:16.283048Z",
     "start_time": "2022-04-28T00:08:16.276993Z"
    },
    "hidden": true
   },
   "outputs": [],
   "source": [
    "clientes = [\n",
    "    { 'id': 1,  'nome': 'Pedro',     'idade': 32, 'casado': True  },\n",
    "    { 'id': 2,  'nome': 'Guilherme', 'idade': 23, 'casado': False },\n",
    "    { 'id': 3,  'nome': 'Volpato',   'idade': 82, 'casado': True  },\n",
    "    { 'id': 4,  'nome': 'Ferraresi', 'idade': 52, 'casado': True  },\n",
    "    { 'id': 5,  'nome': 'Ana',       'idade': 29, 'casado': True  },\n",
    "    { 'id': 6,  'nome': 'Carolina',  'idade': 19, 'casado': False },\n",
    "    { 'id': 7,  'nome': 'Curvina',   'idade': 54, 'casado': True  },\n",
    "    { 'id': 8,  'nome': 'Ubaldo',    'idade': 85, 'casado': True  },\n",
    "    { 'id': 9,  'nome': 'Joao',      'idade': 26, 'casado': False },\n",
    "    { 'id': 10, 'nome': 'Gabriel',   'idade': 62, 'casado': False },\n",
    "]"
   ]
  },
  {
   "cell_type": "markdown",
   "id": "cabf31be",
   "metadata": {
    "hidden": true
   },
   "source": [
    "Imagine que desejamos selecionar somente os usuários que são casados, como fizemos na seção anterior. E dentro desses clientes separados, desejamos adicionar um novo campo chamado `'tempo_casamento'`. Para agilizar a seleção dos clientes, vamos utilizar a função `filter()` do Python.\n",
    "\n",
    "A função `filter()` recebe dois parametros: O primeiro é a função de seleção, que sempre deve retornar `True` ou `False` com relação ao critério de seleção, e depois os dados nos quais desejamos fazer a seleção. \n",
    "\n",
    "```python\n",
    "filter( funcao_selecao, dados )\n",
    "```\n",
    "\n",
    "Fora isso, ela retorna um objeto do tipo `filter`, para podermos trabalhar com esses valores filtrados, podemos transformar esse objeto em uma lista, utilizando o método `list()`.\n",
    "\n",
    "Para exemplificar, vamos criar a função que fará a seleção para nós:"
   ]
  },
  {
   "cell_type": "code",
   "execution_count": 48,
   "id": "1571e52b",
   "metadata": {
    "ExecuteTime": {
     "end_time": "2022-04-28T00:08:17.432080Z",
     "start_time": "2022-04-28T00:08:17.429336Z"
    },
    "hidden": true
   },
   "outputs": [],
   "source": [
    "def seleciona_casados(cliente):\n",
    "    return True if cliente['casado'] == True else False"
   ]
  },
  {
   "cell_type": "markdown",
   "id": "7e8f0a28",
   "metadata": {
    "hidden": true
   },
   "source": [
    "Lembrando que a função que criarmos para utilizarmos dentro da função `filter()` deve sempre retornar `True` ou `False` e deve receber como parâmetro um único elemento dos conteúdos que desejamos filtrar.\n",
    "\n",
    "Com a função feita, vamo executar o `filter()`:"
   ]
  },
  {
   "cell_type": "code",
   "execution_count": 53,
   "id": "68bc3607",
   "metadata": {
    "ExecuteTime": {
     "end_time": "2022-04-28T00:09:29.960566Z",
     "start_time": "2022-04-28T00:09:29.956076Z"
    },
    "hidden": true
   },
   "outputs": [
    {
     "data": {
      "text/plain": [
       "[{'id': 1, 'nome': 'Pedro', 'idade': 32, 'casado': True},\n",
       " {'id': 3, 'nome': 'Volpato', 'idade': 82, 'casado': True},\n",
       " {'id': 4, 'nome': 'Ferraresi', 'idade': 52, 'casado': True},\n",
       " {'id': 5, 'nome': 'Ana', 'idade': 29, 'casado': True},\n",
       " {'id': 7, 'nome': 'Curvina', 'idade': 54, 'casado': True},\n",
       " {'id': 8, 'nome': 'Ubaldo', 'idade': 85, 'casado': True}]"
      ]
     },
     "execution_count": 53,
     "metadata": {},
     "output_type": "execute_result"
    }
   ],
   "source": [
    "filtrados = list(filter(seleciona_casados, clientes))\n",
    "filtrados"
   ]
  },
  {
   "cell_type": "markdown",
   "id": "a4e6134d",
   "metadata": {
    "hidden": true
   },
   "source": [
    "Com o filtro funcionando, vamos utilizar a agora a função `map()` do Python. Ela nos permite executar um comando para cada um dos elementos dos nossos dados. Assim como a função `filter()`, a função `map()` recebe uma função no primeiro parametro, e os dados onde essa função será executada no segundo parâmetro.\n",
    "\n",
    "Vamos criar a função que irá criar a nova chave `'tempo_casamento'` e inserir um valor inicial de 10 para todos os elementos da nossa lista."
   ]
  },
  {
   "cell_type": "code",
   "execution_count": 55,
   "id": "5fa7f45b",
   "metadata": {
    "ExecuteTime": {
     "end_time": "2022-04-28T00:12:02.888889Z",
     "start_time": "2022-04-28T00:12:02.885350Z"
    },
    "hidden": true
   },
   "outputs": [],
   "source": [
    "def tempo_casamento(cliente):\n",
    "    novo_cliente = {\n",
    "        'id': cliente['id'],  \n",
    "        'nome': cliente['nome'],\n",
    "        'idade': cliente['idade'],\n",
    "        'casado': cliente['casado'],\n",
    "        'tempo_casamento': 10\n",
    "    }\n",
    "    \n",
    "    return novo_cliente"
   ]
  },
  {
   "cell_type": "markdown",
   "id": "3fcb4b71",
   "metadata": {
    "hidden": true
   },
   "source": [
    "Como desejamos utilizar os dados filtrados com a função `filter()`, o resultado dessa função será a entrada de dados da função `map()`."
   ]
  },
  {
   "cell_type": "code",
   "execution_count": 57,
   "id": "3c6ca0b1",
   "metadata": {
    "ExecuteTime": {
     "end_time": "2022-04-28T00:12:32.685304Z",
     "start_time": "2022-04-28T00:12:32.679418Z"
    },
    "hidden": true
   },
   "outputs": [
    {
     "data": {
      "text/plain": [
       "[{'id': 1,\n",
       "  'nome': 'Pedro',\n",
       "  'idade': 32,\n",
       "  'casado': True,\n",
       "  'tempo_casamento': 10},\n",
       " {'id': 3,\n",
       "  'nome': 'Volpato',\n",
       "  'idade': 82,\n",
       "  'casado': True,\n",
       "  'tempo_casamento': 10},\n",
       " {'id': 4,\n",
       "  'nome': 'Ferraresi',\n",
       "  'idade': 52,\n",
       "  'casado': True,\n",
       "  'tempo_casamento': 10},\n",
       " {'id': 5, 'nome': 'Ana', 'idade': 29, 'casado': True, 'tempo_casamento': 10},\n",
       " {'id': 7,\n",
       "  'nome': 'Curvina',\n",
       "  'idade': 54,\n",
       "  'casado': True,\n",
       "  'tempo_casamento': 10},\n",
       " {'id': 8,\n",
       "  'nome': 'Ubaldo',\n",
       "  'idade': 85,\n",
       "  'casado': True,\n",
       "  'tempo_casamento': 10}]"
      ]
     },
     "execution_count": 57,
     "metadata": {},
     "output_type": "execute_result"
    }
   ],
   "source": [
    "filtrados = list(filter(seleciona_casados, clientes))\n",
    "\n",
    "dados = list(map( tempo_casamento , filter(seleciona_casados, clientes) ))\n",
    "dados"
   ]
  },
  {
   "cell_type": "markdown",
   "id": "3d9191e6",
   "metadata": {
    "hidden": true
   },
   "source": [
    "Observe que agora todos os clientes que são casados possuem uma nova chave chamada `tempo_casamento`."
   ]
  },
  {
   "cell_type": "code",
   "execution_count": 58,
   "id": "e1ead20a",
   "metadata": {
    "ExecuteTime": {
     "end_time": "2022-04-28T00:16:30.985666Z",
     "start_time": "2022-04-28T00:16:30.982744Z"
    },
    "hidden": true
   },
   "outputs": [],
   "source": [
    "# df['id', 'price'].groupby('id').mean().reset_index()"
   ]
  },
  {
   "cell_type": "markdown",
   "id": "427c4b88",
   "metadata": {
    "heading_collapsed": true,
    "hidden": true
   },
   "source": [
    "### 3.1.2 - Exercícios"
   ]
  },
  {
   "cell_type": "markdown",
   "id": "0fde6e7d",
   "metadata": {
    "heading_collapsed": true,
    "hidden": true
   },
   "source": [
    "#### 1. Refaça o exercício de análise das copas do Mundo utilizando a função `filter()` para fazer as seleção necessárias e `map()` para executar ações dentro dos dados filtrados se necessário"
   ]
  },
  {
   "cell_type": "markdown",
   "id": "35919fe3",
   "metadata": {
    "hidden": true
   },
   "source": [
    "Considere um arquivo CSV com os seguintes dados de todas as copas do mundo até o ano de 2014. As informações do arquivo são:\n",
    "\n",
    "* Year - Ano da copa\n",
    "* Country - País sede\n",
    "* Winner - Campeão\n",
    "* Runners-Up - Vice-Campeão\n",
    "* Third - Terceiro lugar\n",
    "* Fourth - Quarto Lugar\n",
    "* GoalsScored - Total de Gols\n",
    "* QualifiedTeams - Quantidade de Times\n",
    "* MatchesPlayed - Quantidade de Jogos\n",
    "* Attendance - Público Total\n",
    "\n",
    "Efetue a leitura desse arquivo, sem a utilização de módulos externos (Pandas), e imprima as seguintes informações (uma informação por linha):\n",
    "\n",
    "* Soma de público das copas com anos final 0 (1930, 1950, etc)\n",
    "* Quantidade total de gols entre as copas de 1954 e 1990, inclusive\n",
    "* Média de público\n",
    "* Média de gols por partida\n",
    "* Quantidade de vezes em que o país sede foi campeão\n",
    "* Quantidade de vezes em que o time do Brasil ficou entre uma das 4 primeiras posições\n",
    "* Ano das edições em que o time da França finalizou em terceiro lugar\n",
    "* Quantidade de vitórias por país, ordenada de forma crescente por número de títulos\n",
    "\n",
    "\n",
    "Utilize a função `read_file()` para fazer a leitura do arquivo. A função irá retornar uma lista com dicionário contendo a seguinte estrutura:\n",
    "\n",
    "```python\n",
    "{\n",
    "    'Year': '1930',\n",
    "    'Country': 'Uruguay',\n",
    "    'Winner': 'Uruguay',\n",
    "    'Runners-Up': 'Argentina',\n",
    "    'Third': 'USA',\n",
    "    'Fourth': 'Yugoslavia',\n",
    "    'GoalsScored': '70',\n",
    "    'QualifiedTeams': '13',\n",
    "    'MatchesPlayed': '18',\n",
    "    'Attendance': '590.549'\n",
    "},\n",
    "```\n",
    "\n",
    "Como demonstrado no exemplo abaixo:"
   ]
  },
  {
   "cell_type": "code",
   "execution_count": 19,
   "id": "ad7c46bd",
   "metadata": {
    "ExecuteTime": {
     "end_time": "2022-04-05T14:42:04.188330Z",
     "start_time": "2022-04-05T14:42:04.181046Z"
    },
    "hidden": true
   },
   "outputs": [
    {
     "data": {
      "text/plain": [
       "{'Year': '1930',\n",
       " 'Country': 'Uruguay',\n",
       " 'Winner': 'Uruguay',\n",
       " 'Runners-Up': 'Argentina',\n",
       " 'Third': 'USA',\n",
       " 'Fourth': 'Yugoslavia',\n",
       " 'GoalsScored': '70',\n",
       " 'QualifiedTeams': '13',\n",
       " 'MatchesPlayed': '18',\n",
       " 'Attendance': '590.549'}"
      ]
     },
     "execution_count": 19,
     "metadata": {},
     "output_type": "execute_result"
    }
   ],
   "source": [
    "import csv\n",
    "\n",
    "file = 'csv/world_cups.csv'\n",
    "\n",
    "def read_file(file):\n",
    "    content = []\n",
    "    \n",
    "    with open(file, 'r',) as f:\n",
    "        reader = csv.DictReader(f)\n",
    "        \n",
    "        for line in reader:\n",
    "            content.append(line)\n",
    "            \n",
    "    return content\n",
    "\n",
    "conteudo = read_file(file)\n",
    "conteudo[0]"
   ]
  },
  {
   "cell_type": "markdown",
   "id": "ea95b9bc",
   "metadata": {
    "heading_collapsed": true,
    "hidden": true
   },
   "source": [
    "##### Resposta"
   ]
  },
  {
   "cell_type": "code",
   "execution_count": null,
   "id": "5f11d803",
   "metadata": {
    "ExecuteTime": {
     "end_time": "2022-04-05T14:40:03.577494Z",
     "start_time": "2022-04-05T14:40:03.567604Z"
    },
    "hidden": true
   },
   "outputs": [],
   "source": [
    "# Resolução"
   ]
  },
  {
   "cell_type": "code",
   "execution_count": null,
   "id": "db526ef3",
   "metadata": {
    "ExecuteTime": {
     "end_time": "2022-04-05T14:43:05.800007Z",
     "start_time": "2022-04-05T14:43:05.796128Z"
    },
    "hidden": true
   },
   "outputs": [],
   "source": []
  },
  {
   "cell_type": "code",
   "execution_count": null,
   "id": "06e09490",
   "metadata": {
    "hidden": true
   },
   "outputs": [],
   "source": []
  },
  {
   "cell_type": "markdown",
   "id": "54929dad",
   "metadata": {
    "heading_collapsed": true,
    "hidden": true
   },
   "source": [
    "##### Resolução"
   ]
  },
  {
   "cell_type": "code",
   "execution_count": 23,
   "id": "fceee5f7",
   "metadata": {
    "ExecuteTime": {
     "end_time": "2022-04-05T14:43:50.736670Z",
     "start_time": "2022-04-05T14:43:50.729824Z"
    },
    "hidden": true
   },
   "outputs": [
    {
     "data": {
      "text/plain": [
       "{'Year': '1930',\n",
       " 'Country': 'Uruguay',\n",
       " 'Winner': 'Uruguay',\n",
       " 'Runners-Up': 'Argentina',\n",
       " 'Third': 'USA',\n",
       " 'Fourth': 'Yugoslavia',\n",
       " 'GoalsScored': '70',\n",
       " 'QualifiedTeams': '13',\n",
       " 'MatchesPlayed': '18',\n",
       " 'Attendance': '590.549'}"
      ]
     },
     "execution_count": 23,
     "metadata": {},
     "output_type": "execute_result"
    }
   ],
   "source": [
    "import csv\n",
    "\n",
    "file = 'csv/world_cups.csv'\n",
    "\n",
    "def read_file(file):\n",
    "    content = []\n",
    "    \n",
    "    with open(file, 'r',) as f:\n",
    "        reader = csv.DictReader(f)\n",
    "        \n",
    "        for line in reader:\n",
    "            content.append(line)\n",
    "            \n",
    "    return content\n",
    "\n",
    "conteudo = read_file(file)\n",
    "conteudo[0]"
   ]
  },
  {
   "cell_type": "code",
   "execution_count": 44,
   "id": "ea7519f5",
   "metadata": {
    "ExecuteTime": {
     "end_time": "2022-04-05T16:30:47.668783Z",
     "start_time": "2022-04-05T16:30:47.662424Z"
    },
    "hidden": true
   },
   "outputs": [
    {
     "data": {
      "text/plain": [
       "8934841"
      ]
     },
     "execution_count": 44,
     "metadata": {},
     "output_type": "execute_result"
    }
   ],
   "source": [
    "# Soma de público das copas com anos final 0 (1930, 1950, etc)\n",
    "# Separação para somar o total de públicos\n",
    "def filter_final_0(event):\n",
    "    return True if event['Year'].lower().endswith('0') else False\n",
    "\n",
    "def map_final_0(event):\n",
    "    return int(event['Attendance'].replace('.', ''))\n",
    "\n",
    "filtrados = tuple( filter( filter_final_0, conteudo ) )\n",
    "\n",
    "attendance = tuple( map( map_final_0, filtrados ) )\n",
    "\n",
    "final_0 = sum(attendance)\n",
    "\n",
    "final_0"
   ]
  },
  {
   "cell_type": "code",
   "execution_count": 49,
   "id": "6bf79ba5",
   "metadata": {
    "ExecuteTime": {
     "end_time": "2022-04-05T16:32:54.588529Z",
     "start_time": "2022-04-05T16:32:54.581334Z"
    },
    "hidden": true
   },
   "outputs": [
    {
     "data": {
      "text/plain": [
       "1131"
      ]
     },
     "execution_count": 49,
     "metadata": {},
     "output_type": "execute_result"
    }
   ],
   "source": [
    "# Quantidade total de gols entre as copas de 1954 e 1990, inclusive\n",
    "def filter_54_90(event):\n",
    "    return True if 1954 <= int(event['Year'].lower()) <= 1990 else False\n",
    "\n",
    "def map_54_90(event):\n",
    "    return int(event['GoalsScored'])\n",
    "\n",
    "\n",
    "filtrados = tuple( filter( filter_54_90, conteudo ) )\n",
    "\n",
    "\n",
    "goals = tuple( map( map_54_90, filtrados ) )\n",
    "\n",
    "total_goals = sum(goals)\n",
    "\n",
    "total_goals"
   ]
  },
  {
   "cell_type": "code",
   "execution_count": 52,
   "id": "c56b83e7",
   "metadata": {
    "ExecuteTime": {
     "end_time": "2022-04-05T16:35:11.136929Z",
     "start_time": "2022-04-05T16:35:11.131779Z"
    },
    "hidden": true
   },
   "outputs": [
    {
     "data": {
      "text/plain": [
       "1872882.35"
      ]
     },
     "execution_count": 52,
     "metadata": {},
     "output_type": "execute_result"
    }
   ],
   "source": [
    "# Média de público\n",
    "def map_mean_attendance(event):\n",
    "    return int(event['Attendance'].replace('.', ''))\n",
    "\n",
    "attendance = tuple( map( map_mean_attendance, conteudo ) )\n",
    "\n",
    "mean = sum(attendance) / len(conteudo)\n",
    "\n",
    "mean"
   ]
  },
  {
   "cell_type": "code",
   "execution_count": 53,
   "id": "d8d2b26b",
   "metadata": {
    "ExecuteTime": {
     "end_time": "2022-04-05T16:43:52.642635Z",
     "start_time": "2022-04-05T16:43:52.636837Z"
    },
    "hidden": true
   },
   "outputs": [
    {
     "data": {
      "text/plain": [
       "2.8456937799043063"
      ]
     },
     "execution_count": 53,
     "metadata": {},
     "output_type": "execute_result"
    }
   ],
   "source": [
    "# Média de gols por partida\n",
    "def map_total_goals(event):\n",
    "    return int(event['GoalsScored'])\n",
    "\n",
    "def map_total_matches(event):\n",
    "    return int(event['MatchesPlayed'])\n",
    "\n",
    "goals = tuple( map( map_total_goals, conteudo ) )\n",
    "\n",
    "matches = tuple( map( map_total_matches, conteudo ) )\n",
    "\n",
    "mean_goals = sum(goals) / sum(matches)\n",
    "\n",
    "mean_goals"
   ]
  },
  {
   "cell_type": "code",
   "execution_count": 54,
   "id": "99e27099",
   "metadata": {
    "ExecuteTime": {
     "end_time": "2022-04-05T17:34:45.483932Z",
     "start_time": "2022-04-05T17:34:45.477916Z"
    },
    "hidden": true
   },
   "outputs": [
    {
     "data": {
      "text/plain": [
       "5"
      ]
     },
     "execution_count": 54,
     "metadata": {},
     "output_type": "execute_result"
    }
   ],
   "source": [
    "# Quantidade de vezes em que o país sede foi campeão\n",
    "def filter_host_champion(event):\n",
    "    return True if event['Country'] == event['Winner'] else False\n",
    "\n",
    "\n",
    "filtrados = tuple( filter( filter_host_champion, conteudo ) )\n",
    "\n",
    "host_champion = len(filtrados)\n",
    "\n",
    "host_champion"
   ]
  },
  {
   "cell_type": "code",
   "execution_count": 60,
   "id": "121ff193",
   "metadata": {
    "ExecuteTime": {
     "end_time": "2022-04-05T17:38:54.892145Z",
     "start_time": "2022-04-05T17:38:54.885987Z"
    },
    "code_folding": [],
    "hidden": true
   },
   "outputs": [
    {
     "data": {
      "text/plain": [
       "11"
      ]
     },
     "execution_count": 60,
     "metadata": {},
     "output_type": "execute_result"
    }
   ],
   "source": [
    "# Quantidade de vezes em que o time do Brasil ficou entre uma das 4 primeiras posições\n",
    "def filter_brazil(event):\n",
    "    \n",
    "    test = event['Winner'] == 'Brazil' or \\\n",
    "           event['Runners-Up'] == 'Brazil' or \\\n",
    "           event['Third'] == 'Brazil' or \\\n",
    "           event['Fourth'] == 'Brazil'\n",
    "        \n",
    "    return True if test else False\n",
    "\n",
    "filtrados = tuple( filter( filter_brazil, conteudo ) )\n",
    "\n",
    "brazil = len(filtrados)\n",
    "\n",
    "brazil"
   ]
  },
  {
   "cell_type": "code",
   "execution_count": 66,
   "id": "ae1f6aa8",
   "metadata": {
    "ExecuteTime": {
     "end_time": "2022-04-05T17:45:15.351276Z",
     "start_time": "2022-04-05T17:45:15.344934Z"
    },
    "hidden": true
   },
   "outputs": [
    {
     "data": {
      "text/plain": [
       "('1958', '1986')"
      ]
     },
     "execution_count": 66,
     "metadata": {},
     "output_type": "execute_result"
    }
   ],
   "source": [
    "# Ano das edições em que o time da França finalizou em terceiro lugar\n",
    "def filter_france(event):\n",
    "    return True if event['Third'] == 'France' else False\n",
    "\n",
    "def map_france(event):\n",
    "    return event['Year']\n",
    "\n",
    "filtrado = tuple( filter( filter_france, conteudo ) )\n",
    "\n",
    "france = tuple( map( map_france, filtrado ) )\n",
    "\n",
    "france"
   ]
  },
  {
   "cell_type": "code",
   "execution_count": 68,
   "id": "d78b69af",
   "metadata": {
    "ExecuteTime": {
     "end_time": "2022-04-05T18:04:54.036226Z",
     "start_time": "2022-04-05T18:04:54.028551Z"
    },
    "hidden": true
   },
   "outputs": [
    {
     "data": {
      "text/plain": [
       "{'Brazil': 5,\n",
       " 'Italy': 4,\n",
       " 'Germany FR': 3,\n",
       " 'Uruguay': 2,\n",
       " 'Argentina': 2,\n",
       " 'England': 1,\n",
       " 'France': 1,\n",
       " 'Spain': 1,\n",
       " 'Germany': 1}"
      ]
     },
     "execution_count": 68,
     "metadata": {},
     "output_type": "execute_result"
    }
   ],
   "source": [
    "# Quantidade de vitórias por país, ordenada de forma crescente por número de títulos\n",
    "def count_victories(events):\n",
    "    \n",
    "    winners = {}\n",
    "    \n",
    "    for event in events:\n",
    "        if event['Winner'] in winners.keys():\n",
    "            winners[event['Winner']] += 1\n",
    "        else:\n",
    "            winners[event['Winner']] = 1\n",
    "        \n",
    "    winners = dict(sorted(winners.items(), key=lambda event: event[1], reverse=True) )\n",
    "    \n",
    "    return winners\n",
    "\n",
    "\n",
    "winners = count_victories(conteudo)\n",
    "\n",
    "winners"
   ]
  },
  {
   "cell_type": "code",
   "execution_count": 77,
   "id": "b3c780b1",
   "metadata": {
    "ExecuteTime": {
     "end_time": "2022-04-05T18:10:47.419434Z",
     "start_time": "2022-04-05T18:10:47.411601Z"
    },
    "hidden": true
   },
   "outputs": [
    {
     "name": "stdout",
     "output_type": "stream",
     "text": [
      "Soma de público das copas com final 0: 8,934,841\n",
      "Quantidade total de gols entre as copas de 1954 e 1990: 1131\n",
      "Média de público: 1,872,882.35\n",
      "Média de gols por partida: 2.85\n",
      "Quantidade de vezes em que o país sede foi campeão: 5\n",
      "Quantidade de vezes em que o time do Brasil ficou entre uma das 4 primeiras posições: 11\n",
      "Ano das edições em que o time da França finalizou em terceiro lugar: 1958, 1986\n",
      "Quantidade de vitórias por país, classificada em ordem crescente do número de títulos:\n",
      "\tEngland:1\n",
      "\tFrance:1\n",
      "\tSpain:1\n",
      "\tGermany:1\n",
      "\tUruguay:2\n",
      "\tArgentina:2\n",
      "\tGermany FR:3\n",
      "\tItaly:4\n",
      "\tBrazil:5\n"
     ]
    }
   ],
   "source": [
    "print(f'Soma de público das copas com final 0: {final_0:,}')\n",
    "print(f'Quantidade total de gols entre as copas de 1954 e 1990: {total_goals}')\n",
    "print(f'Média de público: {mean:,.2f}')\n",
    "print(f'Média de gols por partida: {mean_goals:.2f}')\n",
    "print(f'Quantidade de vezes em que o país sede foi campeão: {host_champion}')\n",
    "print(f'Quantidade de vezes em que o time do Brasil ficou entre uma das 4 primeiras posições: {brazil}')\n",
    "print(f'Ano das edições em que o time da França finalizou em terceiro lugar: {\", \".join(map(str, france))}')\n",
    "print(f'Quantidade de vitórias por país, classificada em ordem crescente do número de títulos:')\n",
    "for win in sorted(winners.items(), key=lambda kv: kv[1]):\n",
    "    print('\\t' + '{0}:{1}'.format(win[0], win[1]))"
   ]
  },
  {
   "cell_type": "markdown",
   "id": "70773e0b",
   "metadata": {
    "heading_collapsed": true,
    "hidden": true
   },
   "source": [
    "## 3.2 - Funções Aninhadas"
   ]
  },
  {
   "cell_type": "markdown",
   "id": "2fcbdce0",
   "metadata": {
    "hidden": true
   },
   "source": [
    "Embora pouco usadas, é possível utilizarmos **Funções Aninhadas** ou ***Nested Functions*** em Python. Em linhas gerais, essa técnica serve para:\n",
    "* Evitar o uso de variáveis globais\n",
    "* Encapsular (proteger) dados de uma função\n",
    "* Criar ***helper functions***, que nos auxiliará no reuso de código\n",
    "* Utilizar ***decorators*** em Python\n",
    "* Utilizar POO (Programação Orientada à Objetos) sem criar classes\n",
    "\n",
    "Sendo que as **Funções Aninhadas** são utilizadas principalmente para ***decorators*** e ***helper functinos***, que infelizmente não fazem parte do escopo do curso. Porém, é importante entender que elas são possíveis de serem criadas e também aprender sobre o funcionamento delas.\n",
    "\n",
    "No nosso curso, elas foram utilizadas muito mais para criarmos filtros com maior possibilidade de opções de filtragem. Porém, vamos revisar alguns conceitos dessa técnica em Python."
   ]
  },
  {
   "cell_type": "markdown",
   "id": "071b63b2",
   "metadata": {
    "heading_collapsed": true,
    "hidden": true
   },
   "source": [
    "### 3.2.1 - Criação de Funções Aninhadas"
   ]
  },
  {
   "cell_type": "markdown",
   "id": "6d1dd57a",
   "metadata": {
    "hidden": true
   },
   "source": [
    "Toda **Função Aninhada** deve conter em sua construção uma **função externa** e uma **função interna**. E geralmente o retorno da **função externa** deve ser o objeto da função interna, conforme o código abaixo:"
   ]
  },
  {
   "cell_type": "code",
   "execution_count": 61,
   "id": "b833a66c",
   "metadata": {
    "ExecuteTime": {
     "end_time": "2022-04-28T00:24:36.217564Z",
     "start_time": "2022-04-28T00:24:36.214583Z"
    },
    "hidden": true
   },
   "outputs": [],
   "source": [
    "# Essa é a função externa. É ela que será\n",
    "# chamada quando desejamos utilizar a função.\n",
    "# Além disso, ela também é conhecida como\n",
    "# \"enclosing function\", pois é a função que\n",
    "# envolve a função interna\n",
    "def print_msg(msg):\n",
    "    \n",
    "    # Essa é a função interna. É ela que será\n",
    "    # executada quando chamarmos nossa função.\n",
    "    # Ela também é conhecida como \"nested function\"\n",
    "    # ou \"closure\"\n",
    "    def printer():\n",
    "        \n",
    "        # Observe que a nossa função interna está\n",
    "        # utiolizando o parametro passado na nossa\n",
    "        # função externa\n",
    "        print(msg)\n",
    "\n",
    "    # No fim, a função externa deve retornar ou \n",
    "    # executar a função interna.\n",
    "    return printer"
   ]
  },
  {
   "cell_type": "code",
   "execution_count": 62,
   "id": "f434c6d7",
   "metadata": {
    "ExecuteTime": {
     "end_time": "2022-04-28T00:24:36.338659Z",
     "start_time": "2022-04-28T00:24:36.335513Z"
    },
    "hidden": true
   },
   "outputs": [
    {
     "data": {
      "text/plain": [
       "<function __main__.print_msg.<locals>.printer()>"
      ]
     },
     "execution_count": 62,
     "metadata": {},
     "output_type": "execute_result"
    }
   ],
   "source": [
    "# Criação da Função Externa\n",
    "print_msg(\"Comunidade de DS!\")"
   ]
  },
  {
   "cell_type": "markdown",
   "id": "76576bd0",
   "metadata": {
    "hidden": true
   },
   "source": [
    "Observe que quando criarmo a função externa, o que recebemos como retorno é o objeto da função em si, que mostra pra nós a função interna!\n",
    "\n",
    "Quando desejamos utilizar uma **função aninhada**, primeiro criamos o objeto da função externa e guardamos ele em uma variável, como no exemplo abaixo:"
   ]
  },
  {
   "cell_type": "code",
   "execution_count": 63,
   "id": "cb951b73",
   "metadata": {
    "ExecuteTime": {
     "end_time": "2022-04-28T00:24:36.772454Z",
     "start_time": "2022-04-28T00:24:36.768147Z"
    },
    "hidden": true
   },
   "outputs": [
    {
     "data": {
      "text/plain": [
       "<function __main__.print_msg.<locals>.printer()>"
      ]
     },
     "execution_count": 63,
     "metadata": {},
     "output_type": "execute_result"
    }
   ],
   "source": [
    "# Atribuição do Objeto da Função Externa \n",
    "# para a variável printer_ext.\n",
    "printer_ext = print_msg(\"Comunidade de DS!\")\n",
    "printer_ext"
   ]
  },
  {
   "cell_type": "markdown",
   "id": "dcb6b00f",
   "metadata": {
    "hidden": true
   },
   "source": [
    "Com o objeto criado, basta colocarmos os parenteses na frente do objeto para executar a função interna:"
   ]
  },
  {
   "cell_type": "code",
   "execution_count": 64,
   "id": "925ce8a7",
   "metadata": {
    "ExecuteTime": {
     "end_time": "2022-04-28T00:24:37.630369Z",
     "start_time": "2022-04-28T00:24:37.628095Z"
    },
    "hidden": true
   },
   "outputs": [
    {
     "name": "stdout",
     "output_type": "stream",
     "text": [
      "Comunidade de DS!\n"
     ]
    }
   ],
   "source": [
    "# Execução da Função Interna\n",
    "printer_ext()"
   ]
  },
  {
   "cell_type": "markdown",
   "id": "be5c9578",
   "metadata": {
    "hidden": true
   },
   "source": [
    "Novamente, um ponto importante é que a **função aninhada** protege a função interna, impedindo que ela seja executada de forma direta:"
   ]
  },
  {
   "cell_type": "code",
   "execution_count": 65,
   "id": "bb1b22da",
   "metadata": {
    "ExecuteTime": {
     "end_time": "2022-04-28T00:24:47.231171Z",
     "start_time": "2022-04-28T00:24:47.224828Z"
    },
    "hidden": true
   },
   "outputs": [
    {
     "ename": "NameError",
     "evalue": "name 'printer' is not defined",
     "output_type": "error",
     "traceback": [
      "\u001b[0;31m---------------------------------------------------------------------------\u001b[0m",
      "\u001b[0;31mNameError\u001b[0m                                 Traceback (most recent call last)",
      "\u001b[0;32m/tmp/ipykernel_18626/886026883.py\u001b[0m in \u001b[0;36m<module>\u001b[0;34m\u001b[0m\n\u001b[1;32m      1\u001b[0m \u001b[0;31m# A função interna só pode ser executada por\u001b[0m\u001b[0;34m\u001b[0m\u001b[0;34m\u001b[0m\u001b[0m\n\u001b[1;32m      2\u001b[0m \u001b[0;31m# intermédio da função externa\u001b[0m\u001b[0;34m\u001b[0m\u001b[0;34m\u001b[0m\u001b[0m\n\u001b[0;32m----> 3\u001b[0;31m \u001b[0mprinter\u001b[0m\u001b[0;34m(\u001b[0m\u001b[0;34m)\u001b[0m\u001b[0;34m\u001b[0m\u001b[0;34m\u001b[0m\u001b[0m\n\u001b[0m",
      "\u001b[0;31mNameError\u001b[0m: name 'printer' is not defined"
     ]
    }
   ],
   "source": [
    "# A função interna só pode ser executada por\n",
    "# intermédio da função externa\n",
    "printer()"
   ]
  },
  {
   "cell_type": "code",
   "execution_count": 67,
   "id": "2559e9a6",
   "metadata": {
    "ExecuteTime": {
     "end_time": "2022-04-28T00:25:14.912868Z",
     "start_time": "2022-04-28T00:25:14.910673Z"
    },
    "hidden": true
   },
   "outputs": [],
   "source": [
    "# dir()"
   ]
  },
  {
   "cell_type": "markdown",
   "id": "153184b0",
   "metadata": {
    "heading_collapsed": true,
    "hidden": true
   },
   "source": [
    "## 3.3 - Expressões *Lambda*"
   ]
  },
  {
   "cell_type": "markdown",
   "id": "f01d04fa",
   "metadata": {
    "hidden": true
   },
   "source": [
    "**Expressões *lambda*** é a maneira de criarmos funções anônimas em Python. Funções anônimas são funções que não possuem nome e não ficam salvas dentro da memória. Ou seja, devem ser utilizadas somente quando precisamos executar uma única linha de código para resolver um determinado problema.\n",
    "\n",
    "Ou seja, **funções lambdas** são funções anônimas que aceitam qualquer quantidade de argumentos e que só suportam uma expressão. Quando criamos uma **expressões lambda**, o Python retorna a própria função, invés de atribuí-la a um nome como acontece em uma declaração `def`, daí vem a particularidade de serem anônimas. **Expressões lambdas** são usadas basicamente quando há a necessidade de uma função que não seja complexa o\n",
    "suficiente e que justifique sua criação.\n",
    "\n",
    "```python\n",
    "lambda argumentos: expressão\n",
    "```\n",
    "\n",
    "Para exemplificar o uso básico, oberve os dados abaixo:"
   ]
  },
  {
   "cell_type": "code",
   "execution_count": null,
   "id": "6211bc75",
   "metadata": {
    "hidden": true
   },
   "outputs": [],
   "source": []
  },
  {
   "cell_type": "code",
   "execution_count": null,
   "id": "e592a125",
   "metadata": {
    "hidden": true
   },
   "outputs": [],
   "source": []
  },
  {
   "cell_type": "code",
   "execution_count": 68,
   "id": "94b02a17",
   "metadata": {
    "ExecuteTime": {
     "end_time": "2022-04-28T00:31:48.659682Z",
     "start_time": "2022-04-28T00:31:48.655400Z"
    },
    "hidden": true
   },
   "outputs": [
    {
     "data": {
      "text/plain": [
       "[1, 2, 3, 4, 5, 6, 7, 8, 9]"
      ]
     },
     "execution_count": 68,
     "metadata": {},
     "output_type": "execute_result"
    }
   ],
   "source": [
    "numeros = list(range(1, 10))\n",
    "numeros"
   ]
  },
  {
   "cell_type": "code",
   "execution_count": 71,
   "id": "aebb75b4",
   "metadata": {
    "ExecuteTime": {
     "end_time": "2022-04-28T00:35:09.647560Z",
     "start_time": "2022-04-28T00:35:09.643407Z"
    },
    "hidden": true
   },
   "outputs": [],
   "source": [
    "def func_multiplica(lista):\n",
    "    \n",
    "    resultado = []\n",
    "    \n",
    "    for index, valor in enumerate(lista):\n",
    "        if valor % 2 == 0:\n",
    "            fator = valor * 10\n",
    "            resultado.append({ index: f'O valor {valor} é par', 'fator*10': fator })\n",
    "        elif valor % 3 == 0:\n",
    "            fator = valor * 5\n",
    "            resultado.append({ index: f'O valor {valor} é impar', 'fator*5': fator })\n",
    "            \n",
    "    return resultado"
   ]
  },
  {
   "cell_type": "code",
   "execution_count": 72,
   "id": "a3c2ae7b",
   "metadata": {
    "ExecuteTime": {
     "end_time": "2022-04-28T00:35:09.928831Z",
     "start_time": "2022-04-28T00:35:09.926074Z"
    },
    "hidden": true
   },
   "outputs": [
    {
     "data": {
      "text/plain": [
       "[{1: 'O valor 2 é par', 'fator*10': 20},\n",
       " {2: 'O valor 3 é impar', 'fator*5': 15},\n",
       " {3: 'O valor 4 é par', 'fator*10': 40},\n",
       " {5: 'O valor 8 é par', 'fator*10': 80}]"
      ]
     },
     "execution_count": 72,
     "metadata": {},
     "output_type": "execute_result"
    }
   ],
   "source": [
    "l = func_multiplica(lista)\n",
    "l"
   ]
  },
  {
   "cell_type": "code",
   "execution_count": null,
   "id": "e207e040",
   "metadata": {
    "hidden": true
   },
   "outputs": [],
   "source": []
  },
  {
   "cell_type": "code",
   "execution_count": 5,
   "id": "6d33316b",
   "metadata": {
    "ExecuteTime": {
     "end_time": "2022-04-28T00:50:17.628992Z",
     "start_time": "2022-04-28T00:50:17.623118Z"
    },
    "hidden": true
   },
   "outputs": [],
   "source": [
    "clientes = [\n",
    "    { 'id': 1,  'nome': 'Pedro',     'idade': 32, 'casado': True  },\n",
    "    { 'id': 2,  'nome': 'Guilherme', 'idade': 23, 'casado': False },\n",
    "    { 'id': 3,  'nome': 'Volpato',   'idade': 82, 'casado': True  },\n",
    "    { 'id': 4,  'nome': 'Ferraresi', 'idade': 52, 'casado': True  },\n",
    "    { 'id': 5,  'nome': 'Ana',       'idade': 29, 'casado': True  },\n",
    "    { 'id': 6,  'nome': 'Carolina',  'idade': 19, 'casado': False },\n",
    "    { 'id': 7,  'nome': 'Curvina',   'idade': 54, 'casado': True  },\n",
    "    { 'id': 8,  'nome': 'Ubaldo',    'idade': 85, 'casado': True  },\n",
    "    { 'id': 9,  'nome': 'Joao',      'idade': 26, 'casado': False },\n",
    "    { 'id': 10, 'nome': 'Gabriel',   'idade': 62, 'casado': False },\n",
    "]"
   ]
  },
  {
   "cell_type": "code",
   "execution_count": 6,
   "id": "663dc268",
   "metadata": {
    "ExecuteTime": {
     "end_time": "2022-04-28T00:50:17.785043Z",
     "start_time": "2022-04-28T00:50:17.782150Z"
    },
    "hidden": true
   },
   "outputs": [],
   "source": [
    "def func_filter_1(cliente, bacon):\n",
    "    return True if cliente['casado'] == True else False"
   ]
  },
  {
   "cell_type": "code",
   "execution_count": 11,
   "id": "b678758b",
   "metadata": {
    "ExecuteTime": {
     "end_time": "2022-04-28T00:53:12.068916Z",
     "start_time": "2022-04-28T00:53:12.062986Z"
    },
    "hidden": true
   },
   "outputs": [
    {
     "data": {
      "text/plain": [
       "(None,\n",
       " {'id': 2, 'nome': 'Guilherme', 'idade': 23, 'casado': False},\n",
       " None,\n",
       " {'id': 4, 'nome': 'Ferraresi', 'idade': 52, 'casado': True},\n",
       " None,\n",
       " {'id': 6, 'nome': 'Carolina', 'idade': 19, 'casado': False},\n",
       " None,\n",
       " {'id': 8, 'nome': 'Ubaldo', 'idade': 85, 'casado': True},\n",
       " None,\n",
       " {'id': 10, 'nome': 'Gabriel', 'idade': 62, 'casado': False})"
      ]
     },
     "execution_count": 11,
     "metadata": {},
     "output_type": "execute_result"
    }
   ],
   "source": [
    "t = []\n",
    "\n",
    "casados = tuple( map( lambda cliente: cliente if cliente['id'] % 2 == 0 else t.append(cliente), clientes ) )\n",
    "casados"
   ]
  },
  {
   "cell_type": "code",
   "execution_count": null,
   "id": "ea29d5d2",
   "metadata": {
    "hidden": true
   },
   "outputs": [],
   "source": []
  },
  {
   "cell_type": "code",
   "execution_count": null,
   "id": "885f782b",
   "metadata": {
    "hidden": true
   },
   "outputs": [],
   "source": []
  },
  {
   "cell_type": "code",
   "execution_count": null,
   "id": "96a6624d",
   "metadata": {
    "hidden": true
   },
   "outputs": [],
   "source": []
  },
  {
   "cell_type": "code",
   "execution_count": 96,
   "id": "b51ddd0b",
   "metadata": {
    "ExecuteTime": {
     "end_time": "2022-04-05T19:26:32.772509Z",
     "start_time": "2022-04-05T19:26:32.766042Z"
    },
    "hidden": true
   },
   "outputs": [],
   "source": [
    "clientes = [\n",
    "    { 'id': 1,  'nome': 'Pedro',     'idade': 32, 'casado': True  },\n",
    "    { 'id': 2,  'nome': 'Guilherme', 'idade': 23, 'casado': False },\n",
    "    { 'id': 3,  'nome': 'Volpato',   'idade': 82, 'casado': True  },\n",
    "    { 'id': 4,  'nome': 'Ferraresi', 'idade': 52, 'casado': True  },\n",
    "    { 'id': 5,  'nome': 'Ana',       'idade': 29, 'casado': True  },\n",
    "    { 'id': 6,  'nome': 'Carolina',  'idade': 19, 'casado': False },\n",
    "    { 'id': 7,  'nome': 'Curvina',   'idade': 54, 'casado': True  },\n",
    "    { 'id': 8,  'nome': 'Ubaldo',    'idade': 85, 'casado': True  },\n",
    "    { 'id': 9,  'nome': 'Joao',      'idade': 26, 'casado': False },\n",
    "    { 'id': 10, 'nome': 'Gabriel',   'idade': 62, 'casado': False },\n",
    "]"
   ]
  },
  {
   "cell_type": "markdown",
   "id": "29373586",
   "metadata": {
    "hidden": true
   },
   "source": [
    "Se desejarmos separar novamente somente os clientes que seja casado, podemos utilizar a função `filter()` pra isso. Porém, ao invés de criarmos uma função que contenha os critérios de seleção, podemos utilizar a **função lambda** para isso:"
   ]
  },
  {
   "cell_type": "code",
   "execution_count": 97,
   "id": "78f89351",
   "metadata": {
    "ExecuteTime": {
     "end_time": "2022-04-05T19:30:31.276747Z",
     "start_time": "2022-04-05T19:30:31.271352Z"
    },
    "hidden": true
   },
   "outputs": [
    {
     "data": {
      "text/plain": [
       "({'id': 1, 'nome': 'Pedro', 'idade': 32, 'casado': True},\n",
       " {'id': 3, 'nome': 'Volpato', 'idade': 82, 'casado': True},\n",
       " {'id': 4, 'nome': 'Ferraresi', 'idade': 52, 'casado': True},\n",
       " {'id': 5, 'nome': 'Ana', 'idade': 29, 'casado': True},\n",
       " {'id': 7, 'nome': 'Curvina', 'idade': 54, 'casado': True},\n",
       " {'id': 8, 'nome': 'Ubaldo', 'idade': 85, 'casado': True})"
      ]
     },
     "execution_count": 97,
     "metadata": {},
     "output_type": "execute_result"
    }
   ],
   "source": [
    "casados = tuple( filter( lambda cliente: True if cliente['casado'] else False, clientes ) )\n",
    "casados"
   ]
  },
  {
   "cell_type": "markdown",
   "id": "d4fbcad0",
   "metadata": {
    "hidden": true
   },
   "source": [
    "Portanto, quando a função em si é simples e normalmente requer somente uma única linha para execução, podemos substituir uma função completa, declarada utilizando o `def` por uma função/expressão `lambda`.\n",
    "\n",
    "Um exemplo de quando não utilizar uma função **lambda** seria quando a nossa função reque a criação de uma estrutura maior ou requer mais manipulações. Por exemplo: se formos criar a chave `'tempo_casado'` dentro dos elementos que são casados, teremos que utilizar uma função completa, pois a função **lambda** não aceita atribuições:"
   ]
  },
  {
   "cell_type": "code",
   "execution_count": 12,
   "id": "fb33d78c",
   "metadata": {
    "ExecuteTime": {
     "end_time": "2022-04-28T00:56:11.650148Z",
     "start_time": "2022-04-28T00:56:11.646613Z"
    },
    "hidden": true
   },
   "outputs": [
    {
     "ename": "SyntaxError",
     "evalue": "expression cannot contain assignment, perhaps you meant \"==\"? (418130701.py, line 1)",
     "output_type": "error",
     "traceback": [
      "\u001b[0;36m  File \u001b[0;32m\"/tmp/ipykernel_38193/418130701.py\"\u001b[0;36m, line \u001b[0;32m1\u001b[0m\n\u001b[0;31m    casados_1 = tuple( map( lambda cliente: cliente['tempo_casado'] = 10, casados ) )\u001b[0m\n\u001b[0m                            ^\u001b[0m\n\u001b[0;31mSyntaxError\u001b[0m\u001b[0;31m:\u001b[0m expression cannot contain assignment, perhaps you meant \"==\"?\n"
     ]
    }
   ],
   "source": [
    "casados_1 = tuple( map( lambda cliente: cliente['tempo_casado'] = 10, casados ) )\n",
    "casados_1"
   ]
  },
  {
   "cell_type": "markdown",
   "id": "bcf6b63d",
   "metadata": {
    "hidden": true
   },
   "source": [
    "Até conseguiríamos, utilizando função **lambda**, criar essa nova chave, mas o código ficaria contra intuitivo:"
   ]
  },
  {
   "cell_type": "code",
   "execution_count": 99,
   "id": "c6b6cc14",
   "metadata": {
    "ExecuteTime": {
     "end_time": "2022-04-05T19:47:15.374908Z",
     "start_time": "2022-04-05T19:47:15.367799Z"
    },
    "hidden": true
   },
   "outputs": [
    {
     "data": {
      "text/plain": [
       "({'id': 1, 'nome': 'Pedro', 'idade': 32, 'casado': True, 'tempo_casado': 10},\n",
       " {'id': 3, 'nome': 'Volpato', 'idade': 82, 'casado': True, 'tempo_casado': 10},\n",
       " {'id': 4,\n",
       "  'nome': 'Ferraresi',\n",
       "  'idade': 52,\n",
       "  'casado': True,\n",
       "  'tempo_casado': 10},\n",
       " {'id': 5, 'nome': 'Ana', 'idade': 29, 'casado': True, 'tempo_casado': 10},\n",
       " {'id': 7, 'nome': 'Curvina', 'idade': 54, 'casado': True, 'tempo_casado': 10},\n",
       " {'id': 8, 'nome': 'Ubaldo', 'idade': 85, 'casado': True, 'tempo_casado': 10})"
      ]
     },
     "execution_count": 99,
     "metadata": {},
     "output_type": "execute_result"
    }
   ],
   "source": [
    "casados_1 = tuple( \n",
    "    map( \n",
    "        lambda cliente: {\n",
    "            'id': cliente['id'],  \n",
    "            'nome': cliente['nome'],\n",
    "            'idade': cliente['idade'],\n",
    "            'casado': cliente['casado'],\n",
    "            'tempo_casado': 10 \n",
    "        }, \n",
    "        casados \n",
    "    ) \n",
    ")\n",
    "casados_1"
   ]
  },
  {
   "cell_type": "markdown",
   "id": "a16e1f81",
   "metadata": {
    "heading_collapsed": true,
    "hidden": true
   },
   "source": [
    "### 3.3.1 - Exercícios"
   ]
  },
  {
   "cell_type": "markdown",
   "id": "1c56c851",
   "metadata": {
    "heading_collapsed": true,
    "hidden": true
   },
   "source": [
    "#### 1. Refatore o código do exercício da seção [3.1.2 - Exercícios](#3.1.2---Exercícios) e utilize a função lambda substituindo as funções, caso possível"
   ]
  },
  {
   "cell_type": "markdown",
   "id": "82ff7459",
   "metadata": {
    "hidden": true
   },
   "source": [
    "Considere um arquivo CSV com os seguintes dados de todas as copas do mundo até o ano de 2014. As informações do arquivo são:\n",
    "\n",
    "* Year - Ano da copa\n",
    "* Country - País sede\n",
    "* Winner - Campeão\n",
    "* Runners-Up - Vice-Campeão\n",
    "* Third - Terceiro lugar\n",
    "* Fourth - Quarto Lugar\n",
    "* GoalsScored - Total de Gols\n",
    "* QualifiedTeams - Quantidade de Times\n",
    "* MatchesPlayed - Quantidade de Jogos\n",
    "* Attendance - Público Total\n",
    "\n",
    "Efetue a leitura desse arquivo, sem a utilização de módulos externos (Pandas), e imprima as seguintes informações (uma informação por linha):\n",
    "\n",
    "* Soma de público das copas com anos final 0 (1930, 1950, etc)\n",
    "* Quantidade total de gols entre as copas de 1954 e 1990, inclusive\n",
    "* Média de público\n",
    "* Média de gols por partida\n",
    "* Quantidade de vezes em que o país sede foi campeão\n",
    "* Quantidade de vezes em que o time do Brasil ficou entre uma das 4 primeiras posições\n",
    "* Ano das edições em que o time da França finalizou em terceiro lugar\n",
    "* Quantidade de vitórias por país, ordenada de forma crescente por número de títulos\n",
    "\n",
    "\n",
    "Utilize a função `read_file()` para fazer a leitura do arquivo. A função irá retornar uma lista com dicionário contendo a seguinte estrutura:\n",
    "\n",
    "```python\n",
    "{\n",
    "    'Year': '1930',\n",
    "    'Country': 'Uruguay',\n",
    "    'Winner': 'Uruguay',\n",
    "    'Runners-Up': 'Argentina',\n",
    "    'Third': 'USA',\n",
    "    'Fourth': 'Yugoslavia',\n",
    "    'GoalsScored': '70',\n",
    "    'QualifiedTeams': '13',\n",
    "    'MatchesPlayed': '18',\n",
    "    'Attendance': '590.549'\n",
    "},\n",
    "```\n",
    "\n",
    "Como demonstrado no exemplo abaixo:"
   ]
  },
  {
   "cell_type": "code",
   "execution_count": 100,
   "id": "cfba1846",
   "metadata": {
    "ExecuteTime": {
     "end_time": "2022-04-05T19:51:43.094206Z",
     "start_time": "2022-04-05T19:51:43.090007Z"
    },
    "hidden": true
   },
   "outputs": [
    {
     "data": {
      "text/plain": [
       "{'Year': '1930',\n",
       " 'Country': 'Uruguay',\n",
       " 'Winner': 'Uruguay',\n",
       " 'Runners-Up': 'Argentina',\n",
       " 'Third': 'USA',\n",
       " 'Fourth': 'Yugoslavia',\n",
       " 'GoalsScored': '70',\n",
       " 'QualifiedTeams': '13',\n",
       " 'MatchesPlayed': '18',\n",
       " 'Attendance': '590.549'}"
      ]
     },
     "execution_count": 100,
     "metadata": {},
     "output_type": "execute_result"
    }
   ],
   "source": [
    "import csv\n",
    "\n",
    "file = 'csv/world_cups.csv'\n",
    "\n",
    "def read_file(file):\n",
    "    content = []\n",
    "    \n",
    "    with open(file, 'r',) as f:\n",
    "        reader = csv.DictReader(f)\n",
    "        \n",
    "        for line in reader:\n",
    "            content.append(line)\n",
    "            \n",
    "    return content\n",
    "\n",
    "conteudo = read_file(file)\n",
    "conteudo[0]"
   ]
  },
  {
   "cell_type": "markdown",
   "id": "20ee1c52",
   "metadata": {
    "hidden": true
   },
   "source": [
    "**Códigos Anteriores**"
   ]
  },
  {
   "cell_type": "code",
   "execution_count": 44,
   "id": "f9b74452",
   "metadata": {
    "ExecuteTime": {
     "end_time": "2022-04-05T19:53:22.093052Z",
     "start_time": "2022-04-05T19:53:22.085474Z"
    },
    "hidden": true
   },
   "outputs": [
    {
     "data": {
      "text/plain": [
       "8934841"
      ]
     },
     "execution_count": 44,
     "metadata": {},
     "output_type": "execute_result"
    }
   ],
   "source": [
    "# Soma de público das copas com anos final 0 (1930, 1950, etc)\n",
    "# Separação para somar o total de públicos\n",
    "def filter_final_0(event):\n",
    "    return True if event['Year'].lower().endswith('0') else False\n",
    "\n",
    "def map_final_0(event):\n",
    "    return int(event['Attendance'].replace('.', ''))\n",
    "\n",
    "filtrados = tuple( filter( filter_final_0, conteudo ) )\n",
    "\n",
    "attendance = tuple( map( map_final_0, filtrados ) )\n",
    "\n",
    "final_0 = sum(attendance)\n",
    "\n",
    "final_0"
   ]
  },
  {
   "cell_type": "code",
   "execution_count": 49,
   "id": "b2953241",
   "metadata": {
    "ExecuteTime": {
     "end_time": "2022-04-05T19:54:18.780035Z",
     "start_time": "2022-04-05T19:54:18.774371Z"
    },
    "hidden": true
   },
   "outputs": [
    {
     "data": {
      "text/plain": [
       "1131"
      ]
     },
     "execution_count": 49,
     "metadata": {},
     "output_type": "execute_result"
    }
   ],
   "source": [
    "# Quantidade total de gols entre as copas de 1954 e 1990, inclusive\n",
    "def filter_54_90(event):\n",
    "    return True if 1954 <= int(event['Year'].lower()) <= 1990 else False\n",
    "\n",
    "def map_54_90(event):\n",
    "    return int(event['GoalsScored'])\n",
    "\n",
    "\n",
    "filtrados = tuple( filter( filter_54_90, conteudo ) )\n",
    "\n",
    "\n",
    "goals = tuple( map( map_54_90, filtrados ) )\n",
    "\n",
    "total_goals = sum(goals)\n",
    "\n",
    "total_goals"
   ]
  },
  {
   "cell_type": "code",
   "execution_count": 52,
   "id": "619f3889",
   "metadata": {
    "ExecuteTime": {
     "end_time": "2022-04-05T19:54:32.915468Z",
     "start_time": "2022-04-05T19:54:32.910523Z"
    },
    "hidden": true
   },
   "outputs": [
    {
     "data": {
      "text/plain": [
       "1872882.35"
      ]
     },
     "execution_count": 52,
     "metadata": {},
     "output_type": "execute_result"
    }
   ],
   "source": [
    "# Média de público\n",
    "def map_mean_attendance(event):\n",
    "    return int(event['Attendance'].replace('.', ''))\n",
    "\n",
    "attendance = tuple( map( map_mean_attendance, conteudo ) )\n",
    "\n",
    "mean = sum(attendance) / len(conteudo)\n",
    "\n",
    "mean"
   ]
  },
  {
   "cell_type": "code",
   "execution_count": 53,
   "id": "455da548",
   "metadata": {
    "ExecuteTime": {
     "end_time": "2022-04-05T19:55:05.978337Z",
     "start_time": "2022-04-05T19:55:05.972936Z"
    },
    "hidden": true
   },
   "outputs": [
    {
     "data": {
      "text/plain": [
       "2.8456937799043063"
      ]
     },
     "execution_count": 53,
     "metadata": {},
     "output_type": "execute_result"
    }
   ],
   "source": [
    "# Média de gols por partida\n",
    "def map_total_goals(event):\n",
    "    return int(event['GoalsScored'])\n",
    "\n",
    "def map_total_matches(event):\n",
    "    return int(event['MatchesPlayed'])\n",
    "\n",
    "goals = tuple( map( map_total_goals, conteudo ) )\n",
    "\n",
    "matches = tuple( map( map_total_matches, conteudo ) )\n",
    "\n",
    "mean_goals = sum(goals) / sum(matches)\n",
    "\n",
    "mean_goals"
   ]
  },
  {
   "cell_type": "code",
   "execution_count": 54,
   "id": "6f00f08e",
   "metadata": {
    "ExecuteTime": {
     "end_time": "2022-04-05T19:55:18.562237Z",
     "start_time": "2022-04-05T19:55:18.557821Z"
    },
    "hidden": true
   },
   "outputs": [
    {
     "data": {
      "text/plain": [
       "5"
      ]
     },
     "execution_count": 54,
     "metadata": {},
     "output_type": "execute_result"
    }
   ],
   "source": [
    "# Quantidade de vezes em que o país sede foi campeão\n",
    "def filter_host_champion(event):\n",
    "    return True if event['Country'] == event['Winner'] else False\n",
    "\n",
    "\n",
    "filtrados = tuple( filter( filter_host_champion, conteudo ) )\n",
    "\n",
    "host_champion = len(filtrados)\n",
    "\n",
    "host_champion"
   ]
  },
  {
   "cell_type": "code",
   "execution_count": 60,
   "id": "e8e400c4",
   "metadata": {
    "ExecuteTime": {
     "end_time": "2022-04-05T17:38:54.892145Z",
     "start_time": "2022-04-05T17:38:54.885987Z"
    },
    "code_folding": [],
    "hidden": true
   },
   "outputs": [
    {
     "data": {
      "text/plain": [
       "11"
      ]
     },
     "execution_count": 60,
     "metadata": {},
     "output_type": "execute_result"
    }
   ],
   "source": [
    "# Quantidade de vezes em que o time do Brasil ficou entre uma das 4 primeiras posições\n",
    "def filter_brazil(event):\n",
    "    \n",
    "    test = event['Winner'] == 'Brazil' or \\\n",
    "           event['Runners-Up'] == 'Brazil' or \\\n",
    "           event['Third'] == 'Brazil' or \\\n",
    "           event['Fourth'] == 'Brazil'\n",
    "        \n",
    "    return True if test else False\n",
    "\n",
    "filtrados = tuple( filter( filter_brazil, conteudo ) )\n",
    "\n",
    "brazil = len(filtrados)\n",
    "\n",
    "brazil"
   ]
  },
  {
   "cell_type": "code",
   "execution_count": 66,
   "id": "181786bb",
   "metadata": {
    "ExecuteTime": {
     "end_time": "2022-04-05T19:55:48.088194Z",
     "start_time": "2022-04-05T19:55:48.082788Z"
    },
    "hidden": true
   },
   "outputs": [
    {
     "data": {
      "text/plain": [
       "('1958', '1986')"
      ]
     },
     "execution_count": 66,
     "metadata": {},
     "output_type": "execute_result"
    }
   ],
   "source": [
    "# Ano das edições em que o time da França finalizou em terceiro lugar\n",
    "def filter_france(event):\n",
    "    return True if event['Third'] == 'France' else False\n",
    "\n",
    "def map_france(event):\n",
    "    return event['Year']\n",
    "\n",
    "filtrado = tuple( filter( filter_france, conteudo ) )\n",
    "\n",
    "france = tuple( map( map_france, filtrado ) )\n",
    "\n",
    "france"
   ]
  },
  {
   "cell_type": "code",
   "execution_count": 68,
   "id": "bcb3fdcd",
   "metadata": {
    "ExecuteTime": {
     "end_time": "2022-04-05T18:04:54.036226Z",
     "start_time": "2022-04-05T18:04:54.028551Z"
    },
    "hidden": true
   },
   "outputs": [
    {
     "data": {
      "text/plain": [
       "{'Brazil': 5,\n",
       " 'Italy': 4,\n",
       " 'Germany FR': 3,\n",
       " 'Uruguay': 2,\n",
       " 'Argentina': 2,\n",
       " 'England': 1,\n",
       " 'France': 1,\n",
       " 'Spain': 1,\n",
       " 'Germany': 1}"
      ]
     },
     "execution_count": 68,
     "metadata": {},
     "output_type": "execute_result"
    }
   ],
   "source": [
    "# Quantidade de vitórias por país, ordenada de forma crescente por número de títulos\n",
    "def count_victories(events):\n",
    "    \n",
    "    winners = {}\n",
    "    \n",
    "    for event in events:\n",
    "        if event['Winner'] in winners.keys():\n",
    "            winners[event['Winner']] += 1\n",
    "        else:\n",
    "            winners[event['Winner']] = 1\n",
    "        \n",
    "    winners = dict(sorted(winners.items(), key=lambda event: event[1], reverse=True) )\n",
    "    \n",
    "    return winners\n",
    "\n",
    "\n",
    "winners = count_victories(conteudo)\n",
    "\n",
    "winners"
   ]
  },
  {
   "cell_type": "code",
   "execution_count": 77,
   "id": "884cbaa9",
   "metadata": {
    "ExecuteTime": {
     "end_time": "2022-04-05T18:10:47.419434Z",
     "start_time": "2022-04-05T18:10:47.411601Z"
    },
    "hidden": true
   },
   "outputs": [
    {
     "name": "stdout",
     "output_type": "stream",
     "text": [
      "Soma de público das copas com final 0: 8,934,841\n",
      "Quantidade total de gols entre as copas de 1954 e 1990: 1131\n",
      "Média de público: 1,872,882.35\n",
      "Média de gols por partida: 2.85\n",
      "Quantidade de vezes em que o país sede foi campeão: 5\n",
      "Quantidade de vezes em que o time do Brasil ficou entre uma das 4 primeiras posições: 11\n",
      "Ano das edições em que o time da França finalizou em terceiro lugar: 1958, 1986\n",
      "Quantidade de vitórias por país, classificada em ordem crescente do número de títulos:\n",
      "\tEngland:1\n",
      "\tFrance:1\n",
      "\tSpain:1\n",
      "\tGermany:1\n",
      "\tUruguay:2\n",
      "\tArgentina:2\n",
      "\tGermany FR:3\n",
      "\tItaly:4\n",
      "\tBrazil:5\n"
     ]
    }
   ],
   "source": [
    "print(f'Soma de público das copas com final 0: {final_0:,}')\n",
    "print(f'Quantidade total de gols entre as copas de 1954 e 1990: {total_goals}')\n",
    "print(f'Média de público: {mean:,.2f}')\n",
    "print(f'Média de gols por partida: {mean_goals:.2f}')\n",
    "print(f'Quantidade de vezes em que o país sede foi campeão: {host_champion}')\n",
    "print(f'Quantidade de vezes em que o time do Brasil ficou entre uma das 4 primeiras posições: {brazil}')\n",
    "print(f'Ano das edições em que o time da França finalizou em terceiro lugar: {\", \".join(map(str, france))}')\n",
    "print(f'Quantidade de vitórias por país, classificada em ordem crescente do número de títulos:')\n",
    "for win in sorted(winners.items(), key=lambda kv: kv[1]):\n",
    "    print('\\t' + '{0}:{1}'.format(win[0], win[1]))"
   ]
  },
  {
   "cell_type": "markdown",
   "id": "2b37ccc6",
   "metadata": {
    "heading_collapsed": true,
    "hidden": true
   },
   "source": [
    "##### Resposta"
   ]
  },
  {
   "cell_type": "code",
   "execution_count": 109,
   "id": "8873af6e",
   "metadata": {
    "ExecuteTime": {
     "end_time": "2022-04-05T19:56:07.873429Z",
     "start_time": "2022-04-05T19:56:07.870105Z"
    },
    "hidden": true
   },
   "outputs": [],
   "source": [
    "# Resposta"
   ]
  },
  {
   "cell_type": "code",
   "execution_count": null,
   "id": "e9b5bd7d",
   "metadata": {
    "hidden": true
   },
   "outputs": [],
   "source": []
  },
  {
   "cell_type": "code",
   "execution_count": null,
   "id": "d05fdbd6",
   "metadata": {
    "hidden": true
   },
   "outputs": [],
   "source": []
  },
  {
   "cell_type": "markdown",
   "id": "1e6b8008",
   "metadata": {
    "heading_collapsed": true,
    "hidden": true
   },
   "source": [
    "##### Resolução"
   ]
  },
  {
   "cell_type": "code",
   "execution_count": 101,
   "id": "7b4a9464",
   "metadata": {
    "ExecuteTime": {
     "end_time": "2022-04-05T19:53:22.093052Z",
     "start_time": "2022-04-05T19:53:22.085474Z"
    },
    "hidden": true
   },
   "outputs": [
    {
     "data": {
      "text/plain": [
       "8934841"
      ]
     },
     "execution_count": 101,
     "metadata": {},
     "output_type": "execute_result"
    }
   ],
   "source": [
    "# Soma de público das copas com anos final 0 (1930, 1950, etc)\n",
    "filtrados = tuple( filter( lambda event: True if event['Year'].lower().endswith('0') else False, conteudo ) )\n",
    "\n",
    "attendance = tuple( map( lambda event: int(event['Attendance'].replace('.', '')), filtrados ) )\n",
    "\n",
    "final_0 = sum(attendance)\n",
    "\n",
    "final_0"
   ]
  },
  {
   "cell_type": "code",
   "execution_count": 103,
   "id": "46be9060",
   "metadata": {
    "ExecuteTime": {
     "end_time": "2022-04-05T19:54:18.780035Z",
     "start_time": "2022-04-05T19:54:18.774371Z"
    },
    "hidden": true
   },
   "outputs": [
    {
     "data": {
      "text/plain": [
       "1131"
      ]
     },
     "execution_count": 103,
     "metadata": {},
     "output_type": "execute_result"
    }
   ],
   "source": [
    "# Quantidade total de gols entre as copas de 1954 e 1990, inclusive\n",
    "filtrados = tuple( filter( lambda event: True if 1954 <= int(event['Year'].lower()) <= 1990 else False, conteudo ) )\n",
    "\n",
    "goals = tuple( map( lambda event: int(event['GoalsScored']), filtrados ) )\n",
    "\n",
    "total_goals = sum(goals)\n",
    "\n",
    "total_goals"
   ]
  },
  {
   "cell_type": "code",
   "execution_count": 104,
   "id": "d984e0c3",
   "metadata": {
    "ExecuteTime": {
     "end_time": "2022-04-05T19:54:32.915468Z",
     "start_time": "2022-04-05T19:54:32.910523Z"
    },
    "hidden": true
   },
   "outputs": [
    {
     "data": {
      "text/plain": [
       "1872882.35"
      ]
     },
     "execution_count": 104,
     "metadata": {},
     "output_type": "execute_result"
    }
   ],
   "source": [
    "# Média de público\n",
    "attendance = tuple( map( lambda event: int(event['Attendance'].replace('.', '')), conteudo ) )\n",
    "\n",
    "mean = sum(attendance) / len(conteudo)\n",
    "\n",
    "mean"
   ]
  },
  {
   "cell_type": "code",
   "execution_count": 106,
   "id": "fd7a491c",
   "metadata": {
    "ExecuteTime": {
     "end_time": "2022-04-05T19:55:05.978337Z",
     "start_time": "2022-04-05T19:55:05.972936Z"
    },
    "hidden": true
   },
   "outputs": [
    {
     "data": {
      "text/plain": [
       "2.8456937799043063"
      ]
     },
     "execution_count": 106,
     "metadata": {},
     "output_type": "execute_result"
    }
   ],
   "source": [
    "# Média de gols por partida\n",
    "goals = tuple( map( lambda event: int(event['GoalsScored']), conteudo ) )\n",
    "\n",
    "matches = tuple( map( lambda event: int(event['MatchesPlayed']), conteudo ) )\n",
    "\n",
    "mean_goals = sum(goals) / sum(matches)\n",
    "\n",
    "mean_goals"
   ]
  },
  {
   "cell_type": "code",
   "execution_count": 107,
   "id": "258021b9",
   "metadata": {
    "ExecuteTime": {
     "end_time": "2022-04-05T19:55:18.562237Z",
     "start_time": "2022-04-05T19:55:18.557821Z"
    },
    "hidden": true
   },
   "outputs": [
    {
     "data": {
      "text/plain": [
       "5"
      ]
     },
     "execution_count": 107,
     "metadata": {},
     "output_type": "execute_result"
    }
   ],
   "source": [
    "# Quantidade de vezes em que o país sede foi campeão\n",
    "filtrados = tuple( filter( lambda event: True if event['Country'] == event['Winner'] else False, conteudo ) )\n",
    "\n",
    "host_champion = len(filtrados)\n",
    "\n",
    "host_champion"
   ]
  },
  {
   "cell_type": "code",
   "execution_count": 60,
   "id": "a0daddf5",
   "metadata": {
    "ExecuteTime": {
     "end_time": "2022-04-05T17:38:54.892145Z",
     "start_time": "2022-04-05T17:38:54.885987Z"
    },
    "code_folding": [],
    "hidden": true
   },
   "outputs": [
    {
     "data": {
      "text/plain": [
       "11"
      ]
     },
     "execution_count": 60,
     "metadata": {},
     "output_type": "execute_result"
    }
   ],
   "source": [
    "# Quantidade de vezes em que o time do Brasil ficou entre uma das 4 primeiras posições\n",
    "def filter_brazil(event):\n",
    "    \n",
    "    test = event['Winner'] == 'Brazil' or \\\n",
    "           event['Runners-Up'] == 'Brazil' or \\\n",
    "           event['Third'] == 'Brazil' or \\\n",
    "           event['Fourth'] == 'Brazil'\n",
    "        \n",
    "    return True if test else False\n",
    "\n",
    "filtrados = tuple( filter( filter_brazil, conteudo ) )\n",
    "\n",
    "brazil = len(filtrados)\n",
    "\n",
    "brazil"
   ]
  },
  {
   "cell_type": "code",
   "execution_count": 108,
   "id": "e081dd09",
   "metadata": {
    "ExecuteTime": {
     "end_time": "2022-04-05T19:55:48.088194Z",
     "start_time": "2022-04-05T19:55:48.082788Z"
    },
    "hidden": true
   },
   "outputs": [
    {
     "data": {
      "text/plain": [
       "('1958', '1986')"
      ]
     },
     "execution_count": 108,
     "metadata": {},
     "output_type": "execute_result"
    }
   ],
   "source": [
    "# Ano das edições em que o time da França finalizou em terceiro lugar\n",
    "filtrado = tuple( filter( lambda event: True if event['Third'] == 'France' else False, conteudo ) )\n",
    "\n",
    "france = tuple( map( lambda event: event['Year'], filtrado ) )\n",
    "\n",
    "france"
   ]
  },
  {
   "cell_type": "code",
   "execution_count": 68,
   "id": "c148a9d3",
   "metadata": {
    "ExecuteTime": {
     "end_time": "2022-04-05T18:04:54.036226Z",
     "start_time": "2022-04-05T18:04:54.028551Z"
    },
    "hidden": true
   },
   "outputs": [
    {
     "data": {
      "text/plain": [
       "{'Brazil': 5,\n",
       " 'Italy': 4,\n",
       " 'Germany FR': 3,\n",
       " 'Uruguay': 2,\n",
       " 'Argentina': 2,\n",
       " 'England': 1,\n",
       " 'France': 1,\n",
       " 'Spain': 1,\n",
       " 'Germany': 1}"
      ]
     },
     "execution_count": 68,
     "metadata": {},
     "output_type": "execute_result"
    }
   ],
   "source": [
    "# Quantidade de vitórias por país, ordenada de forma crescente por número de títulos\n",
    "def count_victories(events):\n",
    "    \n",
    "    winners = {}\n",
    "    \n",
    "    for event in events:\n",
    "        if event['Winner'] in winners.keys():\n",
    "            winners[event['Winner']] += 1\n",
    "        else:\n",
    "            winners[event['Winner']] = 1\n",
    "        \n",
    "    winners = dict(sorted(winners.items(), key=lambda event: event[1], reverse=True) )\n",
    "    \n",
    "    return winners\n",
    "\n",
    "\n",
    "winners = count_victories(conteudo)\n",
    "\n",
    "winners"
   ]
  },
  {
   "cell_type": "code",
   "execution_count": 77,
   "id": "2e8dfa24",
   "metadata": {
    "ExecuteTime": {
     "end_time": "2022-04-05T18:10:47.419434Z",
     "start_time": "2022-04-05T18:10:47.411601Z"
    },
    "hidden": true
   },
   "outputs": [
    {
     "name": "stdout",
     "output_type": "stream",
     "text": [
      "Soma de público das copas com final 0: 8,934,841\n",
      "Quantidade total de gols entre as copas de 1954 e 1990: 1131\n",
      "Média de público: 1,872,882.35\n",
      "Média de gols por partida: 2.85\n",
      "Quantidade de vezes em que o país sede foi campeão: 5\n",
      "Quantidade de vezes em que o time do Brasil ficou entre uma das 4 primeiras posições: 11\n",
      "Ano das edições em que o time da França finalizou em terceiro lugar: 1958, 1986\n",
      "Quantidade de vitórias por país, classificada em ordem crescente do número de títulos:\n",
      "\tEngland:1\n",
      "\tFrance:1\n",
      "\tSpain:1\n",
      "\tGermany:1\n",
      "\tUruguay:2\n",
      "\tArgentina:2\n",
      "\tGermany FR:3\n",
      "\tItaly:4\n",
      "\tBrazil:5\n"
     ]
    }
   ],
   "source": [
    "print(f'Soma de público das copas com final 0: {final_0:,}')\n",
    "print(f'Quantidade total de gols entre as copas de 1954 e 1990: {total_goals}')\n",
    "print(f'Média de público: {mean:,.2f}')\n",
    "print(f'Média de gols por partida: {mean_goals:.2f}')\n",
    "print(f'Quantidade de vezes em que o país sede foi campeão: {host_champion}')\n",
    "print(f'Quantidade de vezes em que o time do Brasil ficou entre uma das 4 primeiras posições: {brazil}')\n",
    "print(f'Ano das edições em que o time da França finalizou em terceiro lugar: {\", \".join(map(str, france))}')\n",
    "print(f'Quantidade de vitórias por país, classificada em ordem crescente do número de títulos:')\n",
    "for win in sorted(winners.items(), key=lambda kv: kv[1]):\n",
    "    print('\\t' + '{0}:{1}'.format(win[0], win[1]))"
   ]
  },
  {
   "cell_type": "markdown",
   "id": "7553a175",
   "metadata": {},
   "source": [
    "# 4.0 - PIP, Módulos vs Pacotes vs Bibliotecas vs Frameworks"
   ]
  },
  {
   "cell_type": "markdown",
   "id": "2cd3040f",
   "metadata": {
    "heading_collapsed": true
   },
   "source": [
    "## 4.1 - PIP"
   ]
  },
  {
   "cell_type": "markdown",
   "id": "492f239a",
   "metadata": {
    "hidden": true
   },
   "source": [
    "Como vimos anteriormente, tudo que existe dentro do Python, de forma oficial, está dentro do [Pip - PyPI](https://pypi.org/project/pip/) e é através da ferramenta `pip` baixamos e instalamos os pacotes e bibliotecas em nossas máquinas.\n",
    "\n",
    "Dessa forma, quando damos um comando `pip install pandas` em nosso terminal, o que ocorre é que o Python baixa o pacote do Pandas que está armazenado dentro do PIP e instala em nossa máquina, fazendo com que o pacote fique disponível para uso.\n",
    "\n",
    "Além disso, podemos utilizar o `pip` para criarmos um arquivo com as verões do pacotes/bibliotecas do nosso ambiente atual, utilizando o comando `pip freeze > requiriments.txt` (caso estejamos no linux). Esse arquivo teria o seguinte padrão:\n",
    "\n",
    "***\n",
    "\n",
    "```\n",
    "click==8.0.3\n",
    "Flask==2.0.2\n",
    "inflection==0.5.1\n",
    "itsdangerous==2.0.1\n",
    "Jinja2==3.0.2\n",
    "joblib==1.1.0\n",
    "MarkupSafe==2.0.1\n",
    "numpy==1.21.2\n",
    "pandas==1.3.3\n",
    "python-dateutil==2.8.2\n",
    "pytz==2021.3\n",
    "scikit-learn==1.0\n",
    "scipy==1.7.1\n",
    "six==1.16.0\n",
    "threadpoolctl==3.0.0\n",
    "Werkzeug==2.0.2\n",
    "xgboost==0.90\n",
    "```\n",
    "\n",
    "***\n",
    "\n",
    "Além disso, também podemos utilizar o `pip` para instalar as bibliotecas/pacotes que estão nesse arquivo utilizando o comando `pip install -r requiriments.txt`!\n",
    "\n",
    "Esse arquivo, o `requiriments.txt`, é muito utilizando não só dentro do universo de Ciência de Dados como também no de desenvolvimento de software. Por tanto é muito importante sabermos como criá-lo e como uitilizá-lo!"
   ]
  },
  {
   "cell_type": "markdown",
   "id": "938d1140",
   "metadata": {
    "heading_collapsed": true
   },
   "source": [
    "## 4.2 - Módulos"
   ]
  },
  {
   "cell_type": "markdown",
   "id": "2825e8fc",
   "metadata": {
    "hidden": true
   },
   "source": [
    "Podemos entender os módulos como um único arquivo Python que possuí uma ou mais funções dentro dele e que importamos esse arquivo para utilizar suas funções. O Python possuí vários módulos já prontos dentro do seu core. [Dentro da referência do Python](https://docs.python.org/3.10/library/index.html) temos acesso a todos os módulos, pacotes e bibliotecas disponíveis do core do Python!\n",
    "\n",
    "Por exemplo, em todas as aulas anteriores, quando abrimos arquivos .csv, utilizamos o módulo `csv` do Python para realizarmos essa ação de abertura e leitura.\n",
    "\n",
    "Como fizemos anteirormente, para criarmos uma módulo, basta colocarmos dentrode uma arquivo Python as funções que precisamos/desejamos e depois importá-las com o comando `import`. Lembrando que é necessário respeitar o caminho do local onde o módulo está salvo. Para exemplificar, dentro do diretório `outro/modulos` existe um arquivo chamado `string_functions.py`:"
   ]
  },
  {
   "cell_type": "code",
   "execution_count": 27,
   "id": "ccb736a7",
   "metadata": {
    "ExecuteTime": {
     "end_time": "2022-04-06T11:54:08.764565Z",
     "start_time": "2022-04-06T11:54:08.760939Z"
    },
    "hidden": true,
    "hide_input": true
   },
   "outputs": [
    {
     "data": {
      "image/png": "[encoded data removed]",
      "text/plain": [
       "<IPython.core.display.Image object>"
      ]
     },
     "execution_count": 27,
     "metadata": {},
     "output_type": "execute_result"
    }
   ],
   "source": [
    "Image('img/string_functions.png')"
   ]
  },
  {
   "cell_type": "markdown",
   "id": "79f25738",
   "metadata": {
    "hidden": true
   },
   "source": [
    "E o seu código conteúdo são duas funções que deixam o texto todo em maíusculo e mninúsculo:\n",
    "\n",
    "```python\n",
    "def to_upper(text):\n",
    "\treturn text.upper()\n",
    "\n",
    "\n",
    "def to_lower(text):\n",
    "\treturn text.lower()\n",
    "```\n",
    "\n",
    "Para utilizarmos esse módulo recém criado, temos que importá-lo respeitando o caminho no qual ele está. Ou seja:"
   ]
  },
  {
   "cell_type": "code",
   "execution_count": 1,
   "id": "5f910acb",
   "metadata": {
    "ExecuteTime": {
     "end_time": "2022-05-04T23:27:29.552867Z",
     "start_time": "2022-05-04T23:27:29.542830Z"
    },
    "hidden": true
   },
   "outputs": [],
   "source": [
    "import outro.modulos.string_functions"
   ]
  },
  {
   "cell_type": "markdown",
   "id": "f405b588",
   "metadata": {
    "hidden": true
   },
   "source": [
    "E para utilizá-lo, basta colocar o caminho todo, diretório e arquivo, e utilizar uma das funções que estão dentro dele:"
   ]
  },
  {
   "cell_type": "code",
   "execution_count": 29,
   "id": "76dc3fb0",
   "metadata": {
    "ExecuteTime": {
     "end_time": "2022-04-06T12:00:47.055146Z",
     "start_time": "2022-04-06T12:00:47.051380Z"
    },
    "hidden": true
   },
   "outputs": [
    {
     "data": {
      "text/plain": [
       "'PEDRO'"
      ]
     },
     "execution_count": 29,
     "metadata": {},
     "output_type": "execute_result"
    }
   ],
   "source": [
    "outro.modulos.string_functions.to_upper('pedro')"
   ]
  },
  {
   "cell_type": "markdown",
   "id": "a313563f",
   "metadata": {
    "hidden": true
   },
   "source": [
    "Como podemos obserar, o módulo externo recém criado está em um diretório muito grande e que conforme formos utilizá-lo, temos que colocar o caminho todo. E é por isso que podemos utilizar apelidos, *nicknames*, utilizando o `as` para isso."
   ]
  },
  {
   "cell_type": "code",
   "execution_count": 2,
   "id": "aacec7f6",
   "metadata": {
    "ExecuteTime": {
     "end_time": "2022-05-04T23:28:36.341936Z",
     "start_time": "2022-05-04T23:28:36.339429Z"
    },
    "hidden": true
   },
   "outputs": [],
   "source": [
    "import outro.modulos.string_functions as sf"
   ]
  },
  {
   "cell_type": "code",
   "execution_count": 3,
   "id": "8487b4e3",
   "metadata": {
    "ExecuteTime": {
     "end_time": "2022-05-04T23:28:37.169652Z",
     "start_time": "2022-05-04T23:28:37.158711Z"
    },
    "hidden": true
   },
   "outputs": [
    {
     "data": {
      "text/plain": [
       "'PEDRO'"
      ]
     },
     "execution_count": 3,
     "metadata": {},
     "output_type": "execute_result"
    }
   ],
   "source": [
    "sf.to_upper('pedro')"
   ]
  },
  {
   "cell_type": "markdown",
   "id": "ba875110",
   "metadata": {
    "hidden": true
   },
   "source": [
    "Da mesma forma, caso desejamos importar somente a função de um módulo, podemos utilizar o seguinte padrão:\n",
    "\n",
    "```python\n",
    "from modulo import funcao\n",
    "```\n",
    "\n",
    "Por exemplo:"
   ]
  },
  {
   "cell_type": "code",
   "execution_count": 32,
   "id": "25fbeaf2",
   "metadata": {
    "ExecuteTime": {
     "end_time": "2022-04-06T12:08:14.963486Z",
     "start_time": "2022-04-06T12:08:14.960754Z"
    },
    "hidden": true
   },
   "outputs": [],
   "source": [
    "from outro.modulos.string_functions import to_lower"
   ]
  },
  {
   "cell_type": "code",
   "execution_count": 33,
   "id": "b690f391",
   "metadata": {
    "ExecuteTime": {
     "end_time": "2022-04-06T12:08:21.826927Z",
     "start_time": "2022-04-06T12:08:21.823371Z"
    },
    "hidden": true
   },
   "outputs": [
    {
     "data": {
      "text/plain": [
       "'pedro'"
      ]
     },
     "execution_count": 33,
     "metadata": {},
     "output_type": "execute_result"
    }
   ],
   "source": [
    "to_lower('PEDRO')"
   ]
  },
  {
   "cell_type": "markdown",
   "id": "577130ae",
   "metadata": {
    "hidden": true
   },
   "source": [
    "Da mesma forma, se desejarmos criar um apelido para a função com o `as`, nós podemos"
   ]
  },
  {
   "cell_type": "markdown",
   "id": "ccd6e44b",
   "metadata": {
    "hidden": true
   },
   "source": [
    "### 4.2.1 - Exercícios"
   ]
  },
  {
   "cell_type": "markdown",
   "id": "a9e36cf2",
   "metadata": {
    "hidden": true
   },
   "source": [
    "#### 1. Crie um módulo chamado `csv_reader` e salve ele dentro do diretório `exercicios/modulos`."
   ]
  },
  {
   "cell_type": "markdown",
   "id": "a1fcf0d5",
   "metadata": {
    "hidden": true
   },
   "source": [
    "Dentro desse módulo recém criado, insira a função de leitura de arquivos .csv utilizada no exercício [3.3.1](#3.3.1---Exercícios). Utilize esse módulo recém criado para ler o arquivo `heroes.csv` que está dentro do diretório `csv`."
   ]
  },
  {
   "cell_type": "markdown",
   "id": "4faf0bd8",
   "metadata": {
    "hidden": true
   },
   "source": [
    "##### Resposta"
   ]
  },
  {
   "cell_type": "code",
   "execution_count": 1,
   "id": "70f9fa8f",
   "metadata": {
    "ExecuteTime": {
     "end_time": "2022-05-04T23:54:57.383715Z",
     "start_time": "2022-05-04T23:54:57.377679Z"
    },
    "hidden": true
   },
   "outputs": [],
   "source": [
    "import exercicios.modulos.csv_reader as cvs "
   ]
  },
  {
   "cell_type": "code",
   "execution_count": 2,
   "id": "dd4d9531",
   "metadata": {
    "ExecuteTime": {
     "end_time": "2022-05-04T23:54:57.806926Z",
     "start_time": "2022-05-04T23:54:57.795202Z"
    },
    "hidden": true
   },
   "outputs": [
    {
     "data": {
      "text/plain": [
       "<module 'exercicios.modulos.csv_reader' from '/home/pedro/Dev/data_science/fundamentos_programacao/rev_ciclo_02/exercicios/modulos/csv_reader.py'>"
      ]
     },
     "execution_count": 2,
     "metadata": {},
     "output_type": "execute_result"
    }
   ],
   "source": [
    "cvs"
   ]
  },
  {
   "cell_type": "code",
   "execution_count": 3,
   "id": "4b9dc52c",
   "metadata": {
    "ExecuteTime": {
     "end_time": "2022-05-04T23:54:58.345778Z",
     "start_time": "2022-05-04T23:54:58.342594Z"
    },
    "hidden": true
   },
   "outputs": [],
   "source": [
    "file = 'csv/heroes.csv'"
   ]
  },
  {
   "cell_type": "code",
   "execution_count": 5,
   "id": "8a473b85",
   "metadata": {
    "ExecuteTime": {
     "end_time": "2022-05-04T23:55:08.685509Z",
     "start_time": "2022-05-04T23:55:08.677240Z"
    },
    "hidden": true
   },
   "outputs": [
    {
     "data": {
      "text/plain": [
       "{'id': '0',\n",
       " 'name': 'A-Bomb',\n",
       " 'Gender': 'Male',\n",
       " 'Eye color': 'yellow',\n",
       " 'Race': 'Human',\n",
       " 'Hair color': 'No Hair',\n",
       " 'Height': '203.0',\n",
       " 'Publisher': 'Marvel Comics',\n",
       " 'Skin color': '-',\n",
       " 'Alignment': 'good',\n",
       " 'Weight': '441.0'}"
      ]
     },
     "execution_count": 5,
     "metadata": {},
     "output_type": "execute_result"
    }
   ],
   "source": [
    "content = cvs.read_file(file)\n",
    "content[0]"
   ]
  },
  {
   "cell_type": "code",
   "execution_count": null,
   "id": "276bae21",
   "metadata": {
    "hidden": true
   },
   "outputs": [],
   "source": []
  },
  {
   "cell_type": "code",
   "execution_count": null,
   "id": "2df1948d",
   "metadata": {
    "hidden": true
   },
   "outputs": [],
   "source": []
  },
  {
   "cell_type": "markdown",
   "id": "7a373b4f",
   "metadata": {
    "hidden": true
   },
   "source": [
    "##### Resolução"
   ]
  },
  {
   "cell_type": "code",
   "execution_count": 4,
   "id": "95ecc212",
   "metadata": {
    "ExecuteTime": {
     "end_time": "2022-05-04T23:32:07.833943Z",
     "start_time": "2022-05-04T23:32:07.823261Z"
    },
    "hidden": true
   },
   "outputs": [],
   "source": [
    "import exercicios.modulos.resolucao.csv_reader as cr"
   ]
  },
  {
   "cell_type": "code",
   "execution_count": 5,
   "id": "72d8fe40",
   "metadata": {
    "ExecuteTime": {
     "end_time": "2022-05-04T23:32:07.940578Z",
     "start_time": "2022-05-04T23:32:07.937592Z"
    },
    "hidden": true
   },
   "outputs": [],
   "source": [
    "file = 'csv/heroes.csv'"
   ]
  },
  {
   "cell_type": "code",
   "execution_count": 6,
   "id": "ad0f9f49",
   "metadata": {
    "ExecuteTime": {
     "end_time": "2022-05-04T23:32:08.076760Z",
     "start_time": "2022-05-04T23:32:08.066639Z"
    },
    "hidden": true
   },
   "outputs": [
    {
     "data": {
      "text/plain": [
       "{'id': '0',\n",
       " 'name': 'A-Bomb',\n",
       " 'Gender': 'Male',\n",
       " 'Eye color': 'yellow',\n",
       " 'Race': 'Human',\n",
       " 'Hair color': 'No Hair',\n",
       " 'Height': '203.0',\n",
       " 'Publisher': 'Marvel Comics',\n",
       " 'Skin color': '-',\n",
       " 'Alignment': 'good',\n",
       " 'Weight': '441.0'}"
      ]
     },
     "execution_count": 6,
     "metadata": {},
     "output_type": "execute_result"
    }
   ],
   "source": [
    "conteudo = cr.read_file(file)\n",
    "conteudo[0]"
   ]
  },
  {
   "cell_type": "markdown",
   "id": "26833f90",
   "metadata": {},
   "source": [
    "## 4.3 - Pacotes"
   ]
  },
  {
   "cell_type": "markdown",
   "id": "a05d1f49",
   "metadata": {},
   "source": [
    "Um **Pacote** Python normalmente é composto por dois ou mais módulos que ficam guardados dentro de um diretório. Ou seja, enquanto um **Módulo** é um arquivo com funções, um **Pacote** é uma pasta com dois ou mais **Módulos** que trabalham de forma separada ou em conjunto. O Python possuí **Pacotes** internos, ou *built-ins*, como o **Pacote JSON**, porém ele também possuí pacotes externos, ou de terceiros como o [Pandas](https://pandas.pydata.org/docs/getting_started/overview.html).\n",
    "\n",
    "Quando desejamos utilizar um **Pacote** *built-in*, basta importá-lo em nossa aplicação. Agora, quando desejamos utilizar um **Pacote** externo, temos que primeiro instalá-lo, utilizando o `pip`, por exemplo, e depois importá-lo.\n",
    "\n",
    "Para exemplificar o funcionamento de módulos e sua criação básica, vamos criar o diretório `outro/pacotes/pacote_exemplo` e dentro desse diretório colocaremos dois módulos: `modulo_1.py` e `modulo_2.py`."
   ]
  },
  {
   "cell_type": "code",
   "execution_count": 38,
   "id": "c43a0374",
   "metadata": {
    "ExecuteTime": {
     "end_time": "2022-04-06T12:43:35.184302Z",
     "start_time": "2022-04-06T12:43:35.180217Z"
    },
    "hide_input": true
   },
   "outputs": [
    {
     "data": {
      "image/png": "[encoded data removed]",
      "text/plain": [
       "<IPython.core.display.Image object>"
      ]
     },
     "execution_count": 38,
     "metadata": {},
     "output_type": "execute_result"
    }
   ],
   "source": [
    "Image('img/pacote.png')"
   ]
  },
  {
   "cell_type": "markdown",
   "id": "9ce4b7d2",
   "metadata": {},
   "source": [
    "Sendo o conteúdo dos módulos os seguintes:\n",
    "\n",
    "***\n",
    "```python\n",
    "# Módulo modulo_1.py\n",
    "def funcao_exemplo():\n",
    "    print('Função [funcao_exemplo] do Módulo [modulo_1]')\n",
    "\n",
    "\n",
    "class Modulo1:\n",
    "    def __init__(self):\n",
    "        print('Instânciado a classe [Modulo1] do Módulo [modulo_1]')\n",
    "```\n",
    "***\n",
    "```python\n",
    "# Módulo modulo_2.py\n",
    "def funcao_exemplo():\n",
    "    print('Função [funcao_exemplo] do Módulo [modulo_2]')\n",
    "\n",
    "\n",
    "class Modulo2:\n",
    "    def __init__(self):\n",
    "        print('Instânciado a classe [Modulo2] do Módulo [modulo_2]')\n",
    "\n",
    "```\n",
    "***"
   ]
  },
  {
   "cell_type": "markdown",
   "id": "2331f816",
   "metadata": {},
   "source": [
    "Se desejarmos importar o algum **Módulo** que está em nosso **Pacote**, basta importá-lo diretamente:"
   ]
  },
  {
   "cell_type": "code",
   "execution_count": 1,
   "id": "d39b2771",
   "metadata": {
    "ExecuteTime": {
     "end_time": "2022-04-06T12:56:23.546849Z",
     "start_time": "2022-04-06T12:56:23.542812Z"
    }
   },
   "outputs": [],
   "source": [
    "import outro.pacotes.pacote_exemplo.modulo_1 as m1"
   ]
  },
  {
   "cell_type": "code",
   "execution_count": 2,
   "id": "ce878643",
   "metadata": {
    "ExecuteTime": {
     "end_time": "2022-04-06T12:56:40.640778Z",
     "start_time": "2022-04-06T12:56:40.637795Z"
    }
   },
   "outputs": [
    {
     "name": "stdout",
     "output_type": "stream",
     "text": [
      "Função [funcao_exemplo] do Módulo [modulo_1]\n"
     ]
    }
   ],
   "source": [
    "m1.funcao_exemplo()"
   ]
  },
  {
   "cell_type": "code",
   "execution_count": null,
   "id": "0e36df37",
   "metadata": {},
   "outputs": [],
   "source": [
    "import outro.pacotes as pkt"
   ]
  },
  {
   "cell_type": "code",
   "execution_count": null,
   "id": "10fbe58b",
   "metadata": {},
   "outputs": [],
   "source": [
    "from outro.pacotes.pacote_exemplo import modulo_2 as md2"
   ]
  },
  {
   "cell_type": "code",
   "execution_count": null,
   "id": "1bfe5144",
   "metadata": {},
   "outputs": [],
   "source": [
    "import matplotlib"
   ]
  },
  {
   "cell_type": "markdown",
   "id": "8841f82f",
   "metadata": {},
   "source": [
    "### 4.3.1 - Inicializando Pacotes"
   ]
  },
  {
   "cell_type": "markdown",
   "id": "15cf0576",
   "metadata": {},
   "source": [
    "Outro ponto muito importante ao criarmos um **Pacote** é realizarmos a inicialização dele através do arquivo `__init__.py` que deve estar dentro do pacote. Quando um **Pacote** possuí esse arquivo, o Python automaticamente entende que esse diretório é um **Pacote** e nos permite executar não só as funções que possam estar dentro do arquivo `__init__.py` como também qualquer outra função de qualquer **Módulo** que tenha sido importado dentro do arquivo `__init__.py`.\n",
    "\n",
    "Por exemplo, vamos criar um novo diretório chamado `outro/pacotes/pacote_inicializado` e dentro dele colocaremos os dois módulo criados anteriormente, `modulo_1.py` e `modulo_2.py`, e também o arquivo `__init__.py`:"
   ]
  },
  {
   "cell_type": "code",
   "execution_count": 4,
   "id": "a7350e0e",
   "metadata": {
    "ExecuteTime": {
     "end_time": "2022-04-06T13:29:39.733810Z",
     "start_time": "2022-04-06T13:29:39.723128Z"
    },
    "hide_input": true
   },
   "outputs": [
    {
     "data": {
      "image/png": "[encoded data removed]",
      "text/plain": [
       "<IPython.core.display.Image object>"
      ]
     },
     "execution_count": 4,
     "metadata": {},
     "output_type": "execute_result"
    }
   ],
   "source": [
    "Image('img/pacote_inicializado.png')"
   ]
  },
  {
   "cell_type": "markdown",
   "id": "2220163f",
   "metadata": {
    "hide_input": false
   },
   "source": [
    "Sendo que o conteúdo do arquivo `__init__.py` será o seguinte:\n",
    "\n",
    "```python\n",
    "# Importando os módulos\n",
    "import outro.pacotes.pacote_inicializado.modulo_1, outro.pacotes.pacote_inicializado.modulo_2\n",
    "\n",
    "print(f'O Arquivo __init__.py do Pacote {__name__} foi executado')\n",
    "\n",
    "# Criação de uma variável Global\n",
    "v_global = ['Pedro', 32, 1.82, True]\n",
    "\n",
    "#Criação de uma função Global\n",
    "def f_global():\n",
    "    print(f'A Função de inicialização foi executada!')\n",
    "```\n",
    "\n",
    "Feito isso, já conseguimos importar o pacote como um todo:"
   ]
  },
  {
   "cell_type": "code",
   "execution_count": 6,
   "id": "92dd3b02",
   "metadata": {
    "ExecuteTime": {
     "end_time": "2022-04-06T13:32:10.330522Z",
     "start_time": "2022-04-06T13:32:10.324998Z"
    }
   },
   "outputs": [
    {
     "name": "stdout",
     "output_type": "stream",
     "text": [
      "O Arquivo __init__.py do Pacote outro.pacotes.pacote_inicializado foi executado\n"
     ]
    }
   ],
   "source": [
    "import outro.pacotes.pacote_inicializado as pkg"
   ]
  },
  {
   "cell_type": "markdown",
   "id": "e34c6a1a",
   "metadata": {},
   "source": [
    "Uma vez que o pacote está carregado, podemos executar as funções e utilizar as variáveis globais do arquivo `__init__.py`:"
   ]
  },
  {
   "cell_type": "code",
   "execution_count": 7,
   "id": "b125d590",
   "metadata": {
    "ExecuteTime": {
     "end_time": "2022-04-06T13:33:26.950705Z",
     "start_time": "2022-04-06T13:33:26.946811Z"
    }
   },
   "outputs": [
    {
     "data": {
      "text/plain": [
       "['Pedro', 32, 1.82, True]"
      ]
     },
     "execution_count": 7,
     "metadata": {},
     "output_type": "execute_result"
    }
   ],
   "source": [
    "pkg.v_global"
   ]
  },
  {
   "cell_type": "code",
   "execution_count": 8,
   "id": "56268745",
   "metadata": {
    "ExecuteTime": {
     "end_time": "2022-04-06T13:33:35.080045Z",
     "start_time": "2022-04-06T13:33:35.077302Z"
    }
   },
   "outputs": [
    {
     "name": "stdout",
     "output_type": "stream",
     "text": [
      "A Função de inicialização foi executada!\n"
     ]
    }
   ],
   "source": [
    "pkg.f_global()"
   ]
  },
  {
   "cell_type": "markdown",
   "id": "6d944fcd",
   "metadata": {},
   "source": [
    "Além disso, como fizemos o import dos módulos `modulo_1` e `modulo_2`, podemos utilizar qualquer função desses módulos:"
   ]
  },
  {
   "cell_type": "code",
   "execution_count": 9,
   "id": "c2fa0d38",
   "metadata": {
    "ExecuteTime": {
     "end_time": "2022-04-06T13:34:30.379671Z",
     "start_time": "2022-04-06T13:34:30.376809Z"
    }
   },
   "outputs": [
    {
     "name": "stdout",
     "output_type": "stream",
     "text": [
      "Função [funcao_exemplo] do Módulo [modulo_1]\n"
     ]
    }
   ],
   "source": [
    "pkg.modulo_1.funcao_exemplo()"
   ]
  },
  {
   "cell_type": "markdown",
   "id": "cb251a8e",
   "metadata": {
    "heading_collapsed": true
   },
   "source": [
    "## 4.4 - Bibliotecas"
   ]
  },
  {
   "cell_type": "markdown",
   "id": "e5fe9d33",
   "metadata": {
    "hidden": true
   },
   "source": [
    "**Bibliotecas** são **Pacotes** mais complexos e que possuem vários **Módulos** e **Sub Pacotes**. Ou seja, **Bibliotecas** são a \"evolução\" dos **Pacotes**. Assim como nos **Pacotes**, o Python possuí algumas **Bibliotecas** *built-in* que podemos simplismente importar e utilizar, como a [itertools](https://docs.python.org/3/library/itertools.html). Uma **Biblioteca** externa famosa e muito utilizada dentro do Universo de Ciência de Dados é a [seaborn](https://seaborn.pydata.org/), que utilizamos para representar informações de forma visual.\n",
    "\n",
    "Assim como os **Pacotes**, **Bibliotecas** externa precisam ser instaladas em nosso ambiente para que possamos importá-las e utilizá-las."
   ]
  },
  {
   "cell_type": "markdown",
   "id": "e4592d9c",
   "metadata": {
    "heading_collapsed": true
   },
   "source": [
    "## 4.5 - Frameworks"
   ]
  },
  {
   "cell_type": "markdown",
   "id": "8423aad5",
   "metadata": {
    "hidden": true
   },
   "source": [
    "**Frameworks** são como **Bibliotecas**: possuem vários **Pacotes** e **Módulos** dentro dele. A principal diferença é que um **Framework** geralmente é uma ferramenta que possuí um fluxo de desenvolvimento ou uma arquitetura básica. Desse modo, podemos fazer um paralelo e dizer que um **Framework** é uma **Biblioteca** mais complexa.\n",
    "\n",
    "Exemplos de **Frameworks** em Python são [Django](https://www.djangoproject.com/start/overview/), [Flask](https://palletsprojects.com/p/flask/) e [FastAPI](https://fastapi.tiangolo.com/). Os três são **Frameworks** de desenvolvimento web, que possuem arquitetura e *workflows* distintos.\n",
    "\n",
    "Assim como as **Bibliotecas**, para utilizar alguns **Frameworks**, como o **Flask** por exemplo, basta fazermos a instalação e posteriormente o importe dele."
   ]
  },
  {
   "cell_type": "markdown",
   "id": "2d7454b4",
   "metadata": {
    "heading_collapsed": true
   },
   "source": [
    "# 5.0 - Anotações da Aula"
   ]
  },
  {
   "cell_type": "code",
   "execution_count": null,
   "id": "26e98f62",
   "metadata": {
    "hidden": true
   },
   "outputs": [],
   "source": []
  },
  {
   "cell_type": "code",
   "execution_count": null,
   "id": "33b8b46d",
   "metadata": {
    "hidden": true
   },
   "outputs": [],
   "source": []
  },
  {
   "cell_type": "code",
   "execution_count": null,
   "id": "ebd0bb44",
   "metadata": {
    "hidden": true
   },
   "outputs": [],
   "source": []
  },
  {
   "cell_type": "code",
   "execution_count": null,
   "id": "495f5225",
   "metadata": {
    "hidden": true
   },
   "outputs": [],
   "source": []
  },
  {
   "cell_type": "code",
   "execution_count": null,
   "id": "5234f389",
   "metadata": {
    "hidden": true
   },
   "outputs": [],
   "source": []
  },
  {
   "cell_type": "code",
   "execution_count": null,
   "id": "592b0a11",
   "metadata": {
    "hidden": true
   },
   "outputs": [],
   "source": []
  },
  {
   "cell_type": "code",
   "execution_count": null,
   "id": "81c4f2ff",
   "metadata": {
    "hidden": true
   },
   "outputs": [],
   "source": []
  },
  {
   "cell_type": "code",
   "execution_count": null,
   "id": "dc9ecf5f",
   "metadata": {
    "hidden": true
   },
   "outputs": [],
   "source": []
  },
  {
   "cell_type": "code",
   "execution_count": null,
   "id": "1a87c378",
   "metadata": {
    "hidden": true
   },
   "outputs": [],
   "source": []
  },
  {
   "cell_type": "code",
   "execution_count": null,
   "id": "a55c2711",
   "metadata": {
    "hidden": true
   },
   "outputs": [],
   "source": []
  },
  {
   "cell_type": "code",
   "execution_count": null,
   "id": "5effe907",
   "metadata": {
    "hidden": true
   },
   "outputs": [],
   "source": []
  }
 ],
 "metadata": {
  "kernelspec": {
   "display_name": "Python 3 (ipykernel)",
   "language": "python",
   "name": "python3"
  },
  "language_info": {
   "codemirror_mode": {
    "name": "ipython",
    "version": 3
   },
   "file_extension": ".py",
   "mimetype": "text/x-python",
   "name": "python",
   "nbconvert_exporter": "python",
   "pygments_lexer": "ipython3",
   "version": "3.9.9"
  },
  "latex_envs": {
   "LaTeX_envs_menu_present": true,
   "autoclose": false,
   "autocomplete": true,
   "bibliofile": "biblio.bib",
   "cite_by": "apalike",
   "current_citInitial": 1,
   "eqLabelWithNumbers": true,
   "eqNumInitial": 1,
   "hotkeys": {
    "equation": "Ctrl-E",
    "itemize": "Ctrl-I"
   },
   "labels_anchors": false,
   "latex_user_defs": false,
   "report_style_numbering": false,
   "user_envs_cfg": false
  },
  "toc": {
   "base_numbering": 1,
   "nav_menu": {},
   "number_sections": false,
   "sideBar": true,
   "skip_h1_title": false,
   "title_cell": "Table of Contents",
   "title_sidebar": "Contents",
   "toc_cell": false,
   "toc_position": {},
   "toc_section_display": true,
   "toc_window_display": false
  }
 },
 "nbformat": 4,
 "nbformat_minor": 5
}
