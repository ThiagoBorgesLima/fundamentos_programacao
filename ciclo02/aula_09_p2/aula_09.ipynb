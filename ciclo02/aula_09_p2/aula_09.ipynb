{
 "cells": [
  {
   "cell_type": "markdown",
   "id": "f66f5ab2",
   "metadata": {
    "heading_collapsed": true
   },
   "source": [
    "# COMANDOS AUXILIARES"
   ]
  },
  {
   "cell_type": "markdown",
   "id": "6a0edcdf",
   "metadata": {
    "heading_collapsed": true,
    "hidden": true
   },
   "source": [
    "## Inserção de imagens"
   ]
  },
  {
   "cell_type": "code",
   "execution_count": 1,
   "id": "fa4c2e60",
   "metadata": {
    "ExecuteTime": {
     "end_time": "2022-01-25T18:11:33.493982Z",
     "start_time": "2022-01-25T18:11:33.491176Z"
    },
    "hidden": true
   },
   "outputs": [],
   "source": [
    "from IPython.display import Image"
   ]
  },
  {
   "cell_type": "markdown",
   "id": "a7175ea5",
   "metadata": {},
   "source": [
    "# MÓDULOS *vs* PACOTES *vs* BIBLIOTECAS *vs* FRAMEWORKS"
   ]
  },
  {
   "cell_type": "markdown",
   "id": "7be690ac",
   "metadata": {},
   "source": [
    "Agora que já discutimos várias funcionalidades e particularidades da Linguagem de Programação Python, vamos entender como funcionam e o que são e as principais diferenças entre os **Módulos**, os **Pacotes**, **Bibliotecas** e **Frameworks**."
   ]
  },
  {
   "cell_type": "markdown",
   "id": "069a690a",
   "metadata": {},
   "source": [
    "## Módulos - *Modules*"
   ]
  },
  {
   "cell_type": "markdown",
   "id": "35e20597",
   "metadata": {},
   "source": [
    "Podemos entender **Módulos** ou um **Módulo** em Python como um único arquivo que encapsula funções.\n",
    "\n",
    "Dessa forma, um **Módulo** nada mais é que um arquivo com conteúdo dentro dele. E eles são chamados dessa forma pois quando o Python carrega esses arquivos na memória RAM, eles acabam se tornando um Objeto (lembra da Orientação à Objetos?).\n",
    "\n",
    "No geral, o Python possuí vários **Módulos** ***built-in***, ou seja, **Módulos** que já estão prontos e fazem parte do ***core*** do Python. Além disso, utilizamos **Módulos** com certa frequencia, como por exemplo o **Módulo** `sys`, que é responsável por nos dar acesso a variáveis e métodos (funções) que são utilizadas pelo interpretador do Python. Utilizamos esse **Módulo** em aulas anteriores para recuperar a descrição de certos erros:\n",
    "\n",
    "```python\n",
    "# Import da Módulo sys para verificarmos a descrição do erro\n",
    "import sys\n",
    "\n",
    "# Declaração da Função\n",
    "def get_item(list_, index):\n",
    "    \"\"\"Função que retornará o item da lista com base em seu índice.\n",
    "    Retorna o último item da lista caso o índice não exista\n",
    "    \n",
    "    Argumentos:\n",
    "    list_ -- lista com os itens\n",
    "    index -- índice do item buscado\n",
    "    \n",
    "    Retorno:\n",
    "    O item buscado (list_[index]) caso o índice seja Válido. \n",
    "    O Último item da lista (list_[-1]) caso o índice seja inválido \n",
    "    \"\"\"\n",
    "    \n",
    "    try:\n",
    "        assert isinstance(index, int), 'O Tipo do indice deve sempre ser inteiro'\n",
    "        return list_[index]\n",
    "    except(IndexError, AssertionError):\n",
    "        print(f'Houve um erro! Tipo de erro: {sys.exc_info()[0]}. Motivo: {sys.exc_info()[1]}')\n",
    "        print(f'retornando o último valor da lista...\"{list_[-1]}\"')\n",
    "        return list_[-1]\n",
    "```\n",
    "\n",
    "Um exemplo de um **Módulo** simples seria:\n",
    "\n",
    "```python\n",
    "# Códigos retirados da Documentação Oficial\n",
    "# Calcula os valores da Sequencia de Fibonacci\n",
    "\n",
    "# Escreve na tela a série de Fibonacci até o elemento n\n",
    "def fib(n):    \n",
    "    a, b = 0, 1\n",
    "    while a < n:\n",
    "        print(a, end=' ')\n",
    "        a, b = b, a+b\n",
    "    print()\n",
    "\n",
    "\n",
    "# Devolve a série de Fibonacci até o elemento n\n",
    "def fib2(n):   \n",
    "    result = []\n",
    "    a, b = 0, 1\n",
    "    while a < n:\n",
    "        result.append(a)\n",
    "        a, b = b, a+b\n",
    "    return result\n",
    "```\n",
    "\n",
    "Quando salvamos esse código em um arquivo, estamos criando um **Módulo** em Python!\n",
    "\n",
    "Para utilizarmos esse **Módulo** que acabamos de criar e salvamos dentro do diretório `modulos`, basta importamos com o `import`."
   ]
  },
  {
   "cell_type": "code",
   "execution_count": 1,
   "id": "65aeff14",
   "metadata": {
    "ExecuteTime": {
     "end_time": "2022-04-06T23:10:01.310509Z",
     "start_time": "2022-04-06T23:10:01.307509Z"
    }
   },
   "outputs": [],
   "source": [
    "import modulos.fibonacci"
   ]
  },
  {
   "cell_type": "code",
   "execution_count": 2,
   "id": "476731b2",
   "metadata": {
    "ExecuteTime": {
     "end_time": "2022-04-06T23:10:31.322790Z",
     "start_time": "2022-04-06T23:10:31.319130Z"
    }
   },
   "outputs": [
    {
     "name": "stdout",
     "output_type": "stream",
     "text": [
      "0 1 1 2 \n"
     ]
    }
   ],
   "source": [
    "modulos.fibonacci.fib(3)"
   ]
  },
  {
   "cell_type": "code",
   "execution_count": 5,
   "id": "a5d2195c",
   "metadata": {
    "ExecuteTime": {
     "end_time": "2022-04-06T23:11:35.584512Z",
     "start_time": "2022-04-06T23:11:35.580879Z"
    }
   },
   "outputs": [],
   "source": [
    "def teste_fun():\n",
    "    print('qualquer coisa')"
   ]
  },
  {
   "cell_type": "code",
   "execution_count": 6,
   "id": "30009c95",
   "metadata": {
    "ExecuteTime": {
     "end_time": "2022-04-06T23:11:48.470481Z",
     "start_time": "2022-04-06T23:11:48.467778Z"
    }
   },
   "outputs": [],
   "source": [
    "funcao = teste_fun"
   ]
  },
  {
   "cell_type": "code",
   "execution_count": 7,
   "id": "195f1cf0",
   "metadata": {
    "ExecuteTime": {
     "end_time": "2022-04-06T23:11:57.008898Z",
     "start_time": "2022-04-06T23:11:57.006082Z"
    }
   },
   "outputs": [
    {
     "data": {
      "text/plain": [
       "<function __main__.teste_fun()>"
      ]
     },
     "execution_count": 7,
     "metadata": {},
     "output_type": "execute_result"
    }
   ],
   "source": [
    "funcao"
   ]
  },
  {
   "cell_type": "code",
   "execution_count": 9,
   "id": "25a3c82b",
   "metadata": {
    "ExecuteTime": {
     "end_time": "2022-04-06T23:12:36.029966Z",
     "start_time": "2022-04-06T23:12:36.020288Z"
    }
   },
   "outputs": [],
   "source": [
    "import csv"
   ]
  },
  {
   "cell_type": "code",
   "execution_count": 10,
   "id": "07ac073c",
   "metadata": {
    "ExecuteTime": {
     "end_time": "2022-04-06T23:12:41.015166Z",
     "start_time": "2022-04-06T23:12:41.011541Z"
    }
   },
   "outputs": [
    {
     "data": {
      "text/plain": [
       "<module 'csv' from '/home/pedro/.pyenv/versions/3.8.12/lib/python3.8/csv.py'>"
      ]
     },
     "execution_count": 10,
     "metadata": {},
     "output_type": "execute_result"
    }
   ],
   "source": [
    "csv"
   ]
  },
  {
   "cell_type": "code",
   "execution_count": 3,
   "id": "f9cd8a75",
   "metadata": {
    "ExecuteTime": {
     "end_time": "2022-04-06T23:11:15.018136Z",
     "start_time": "2022-04-06T23:11:15.015149Z"
    }
   },
   "outputs": [],
   "source": [
    "import modulos.fibonacci as fb"
   ]
  },
  {
   "cell_type": "code",
   "execution_count": 8,
   "id": "0fc21735",
   "metadata": {
    "ExecuteTime": {
     "end_time": "2022-04-06T23:12:18.303437Z",
     "start_time": "2022-04-06T23:12:18.299234Z"
    }
   },
   "outputs": [
    {
     "data": {
      "text/plain": [
       "<module 'modulos.fibonacci' from '/home/pedro/Dev/data_science/fundamentos_programacao/aula_09/modulos/fibonacci.py'>"
      ]
     },
     "execution_count": 8,
     "metadata": {},
     "output_type": "execute_result"
    }
   ],
   "source": [
    "fb"
   ]
  },
  {
   "cell_type": "code",
   "execution_count": 11,
   "id": "41b3bae8",
   "metadata": {
    "ExecuteTime": {
     "end_time": "2022-04-06T23:13:20.846446Z",
     "start_time": "2022-04-06T23:13:20.842773Z"
    }
   },
   "outputs": [
    {
     "data": {
      "text/plain": [
       "[0, 1, 1, 2, 3]"
      ]
     },
     "execution_count": 11,
     "metadata": {},
     "output_type": "execute_result"
    }
   ],
   "source": [
    "fb.fib2(4)"
   ]
  },
  {
   "cell_type": "code",
   "execution_count": null,
   "id": "52ce19f0",
   "metadata": {},
   "outputs": [],
   "source": []
  },
  {
   "cell_type": "code",
   "execution_count": null,
   "id": "77c91fe7",
   "metadata": {},
   "outputs": [],
   "source": []
  },
  {
   "cell_type": "code",
   "execution_count": null,
   "id": "6f718126",
   "metadata": {},
   "outputs": [],
   "source": []
  },
  {
   "cell_type": "code",
   "execution_count": 2,
   "id": "a7e3beb1",
   "metadata": {
    "ExecuteTime": {
     "end_time": "2022-01-24T16:18:33.167907Z",
     "start_time": "2022-01-24T16:18:33.165648Z"
    }
   },
   "outputs": [],
   "source": [
    "# import diretorio.arquivo\n",
    "import modulos.fibonacci"
   ]
  },
  {
   "cell_type": "markdown",
   "id": "91d6878f",
   "metadata": {},
   "source": [
    "Com o nosso **Módulo** importado, vamos utilizar a função `fib()` e passar o elemento 5. Ou seja, desejamos saber qual é o 5 elemento da série de Fibonacci: "
   ]
  },
  {
   "cell_type": "code",
   "execution_count": 3,
   "id": "86b09178",
   "metadata": {
    "ExecuteTime": {
     "end_time": "2022-01-24T16:18:33.172439Z",
     "start_time": "2022-01-24T16:18:33.169503Z"
    }
   },
   "outputs": [
    {
     "name": "stdout",
     "output_type": "stream",
     "text": [
      "0 1 1 2 3 \n"
     ]
    }
   ],
   "source": [
    "# diretorio.arquivo.função\n",
    "modulos.fibonacci.fib(5)"
   ]
  },
  {
   "cell_type": "markdown",
   "id": "a8511250",
   "metadata": {},
   "source": [
    "Podemos também utilizar a função `fib2()` do nosso **Módulo**:"
   ]
  },
  {
   "cell_type": "code",
   "execution_count": 4,
   "id": "85d0a52f",
   "metadata": {
    "ExecuteTime": {
     "end_time": "2022-01-24T16:18:33.180473Z",
     "start_time": "2022-01-24T16:18:33.173556Z"
    }
   },
   "outputs": [
    {
     "data": {
      "text/plain": [
       "[0, 1, 1, 2, 3]"
      ]
     },
     "execution_count": 4,
     "metadata": {},
     "output_type": "execute_result"
    }
   ],
   "source": [
    "# diretorio.arquivo.função\n",
    "modulos.fibonacci.fib2(5)"
   ]
  },
  {
   "cell_type": "markdown",
   "id": "91beb62b",
   "metadata": {},
   "source": [
    "Observe que, caso desejemos utilizar ou uma função ou a outra, basta utilizar o seu nome junto com o caminho completo do **Módulo**. Porém, imagine a seguinte situação: Nosso módulo está dentro de um sistema complexo de diretórios, onde temos que acessar 3 diretórios para chegarmos ao nosso **Módulo**. Por exemplo:\n",
    "\n",
    "```python\n",
    "import diretorio1.diretorio2.diretorio3.modulo\n",
    "```\n",
    "\n",
    "Para não termos que ficar digitando toda essa linha somente para utilizarmos uma função, como por exemplo: `import diretorio1.diretorio2.diretorio3.modulo.funcao()` é que o Python nos permite **nomear** ou dar um **apelido** aos **Módulos**, **Pacotes** e **Bibliotecas** que importamos/carregamos, utilizando o `as` para isso:"
   ]
  },
  {
   "cell_type": "code",
   "execution_count": 5,
   "id": "64b0ea1f",
   "metadata": {
    "ExecuteTime": {
     "end_time": "2022-01-24T16:18:33.183199Z",
     "start_time": "2022-01-24T16:18:33.181447Z"
    }
   },
   "outputs": [],
   "source": [
    "# import diretorio.arquivo as apelido\n",
    "import modulos.fibonacci as fi"
   ]
  },
  {
   "cell_type": "markdown",
   "id": "d81afa14",
   "metadata": {},
   "source": [
    "Agora, para utilizarmos o **Módulo**, basta utilizar a declaração `fi.funcao()`:"
   ]
  },
  {
   "cell_type": "code",
   "execution_count": 6,
   "id": "37ce31e3",
   "metadata": {
    "ExecuteTime": {
     "end_time": "2022-01-24T16:18:33.186988Z",
     "start_time": "2022-01-24T16:18:33.184248Z"
    }
   },
   "outputs": [
    {
     "name": "stdout",
     "output_type": "stream",
     "text": [
      "0 1 1 2 3 \n"
     ]
    }
   ],
   "source": [
    "fi.fib(5)"
   ]
  },
  {
   "cell_type": "markdown",
   "id": "5c4dc341",
   "metadata": {},
   "source": [
    "Outra funcionalidade muito importante é a capacidade de carregarmos somente algumas funções do nosso **Módulo**. Imagine a seguinte situação: Possuímos um **Módulo** que tem 30 funções internas. Quando carregamos esse **Módulo** utilizando o `import` como fizemos anteriormente, o Python irá inserir todas as 30 funções na memória RAM, por mais que utilizemos somente 1 função dessas 30.\n",
    "\n",
    "Por conta disso, é uma boa prática ao utilizarmos **Módulos** muito grandes, que possuem muitas funções, carregar somente as funções que iremos precisar. Para fazemos isso, basta utilizar o seguinte padrão: `from modulo import funcao as apelido`. \n",
    "\n",
    "Digamos que desejamos importar somente a função `fib2` do nosso **Módulo** Fibonacci. Basta seguirmos o padrão e substituir as palavras `modulo`, `funcao` e `apelido` pelas informações necessárias:"
   ]
  },
  {
   "cell_type": "code",
   "execution_count": 7,
   "id": "f86dafb5",
   "metadata": {
    "ExecuteTime": {
     "end_time": "2022-01-24T16:18:33.189854Z",
     "start_time": "2022-01-24T16:18:33.188107Z"
    }
   },
   "outputs": [],
   "source": [
    "# from modulo import funcao as apelido\n",
    "from modulos.fibonacci import fib2 as ff2"
   ]
  },
  {
   "cell_type": "code",
   "execution_count": 8,
   "id": "7b51e0a8",
   "metadata": {
    "ExecuteTime": {
     "end_time": "2022-01-24T16:18:33.193560Z",
     "start_time": "2022-01-24T16:18:33.190792Z"
    }
   },
   "outputs": [
    {
     "data": {
      "text/plain": [
       "[0, 1, 1, 2, 3]"
      ]
     },
     "execution_count": 8,
     "metadata": {},
     "output_type": "execute_result"
    }
   ],
   "source": [
    "# Execução da função fib2() que está dentro\n",
    "# do Módulo models.fibonacci\n",
    "ff2(5)"
   ]
  },
  {
   "cell_type": "markdown",
   "id": "48669f46",
   "metadata": {},
   "source": [
    "### Função `dir()`"
   ]
  },
  {
   "cell_type": "code",
   "execution_count": 12,
   "id": "08e536f4",
   "metadata": {
    "ExecuteTime": {
     "end_time": "2022-04-06T23:19:11.989984Z",
     "start_time": "2022-04-06T23:19:11.986280Z"
    }
   },
   "outputs": [
    {
     "data": {
      "text/plain": [
       "<module 'modulos.fibonacci' from '/home/pedro/Dev/data_science/fundamentos_programacao/aula_09/modulos/fibonacci.py'>"
      ]
     },
     "execution_count": 12,
     "metadata": {},
     "output_type": "execute_result"
    }
   ],
   "source": [
    "fb"
   ]
  },
  {
   "cell_type": "code",
   "execution_count": 13,
   "id": "b83094ae",
   "metadata": {
    "ExecuteTime": {
     "end_time": "2022-04-06T23:19:17.013524Z",
     "start_time": "2022-04-06T23:19:17.009343Z"
    }
   },
   "outputs": [
    {
     "data": {
      "text/plain": [
       "['__builtins__',\n",
       " '__cached__',\n",
       " '__doc__',\n",
       " '__file__',\n",
       " '__loader__',\n",
       " '__name__',\n",
       " '__package__',\n",
       " '__spec__',\n",
       " 'fib',\n",
       " 'fib2']"
      ]
     },
     "execution_count": 13,
     "metadata": {},
     "output_type": "execute_result"
    }
   ],
   "source": [
    "dir(fb)"
   ]
  },
  {
   "cell_type": "code",
   "execution_count": 14,
   "id": "df03c8f1",
   "metadata": {
    "ExecuteTime": {
     "end_time": "2022-04-06T23:19:39.570326Z",
     "start_time": "2022-04-06T23:19:39.566848Z"
    }
   },
   "outputs": [
    {
     "data": {
      "text/plain": [
       "'modulos.fibonacci'"
      ]
     },
     "execution_count": 14,
     "metadata": {},
     "output_type": "execute_result"
    }
   ],
   "source": [
    "fb.__name__"
   ]
  },
  {
   "cell_type": "code",
   "execution_count": 15,
   "id": "bad89359",
   "metadata": {
    "ExecuteTime": {
     "end_time": "2022-04-06T23:20:19.113759Z",
     "start_time": "2022-04-06T23:20:19.111425Z"
    }
   },
   "outputs": [],
   "source": [
    "fb.__doc__"
   ]
  },
  {
   "cell_type": "code",
   "execution_count": 18,
   "id": "d23f829c",
   "metadata": {
    "ExecuteTime": {
     "end_time": "2022-04-06T23:21:19.676158Z",
     "start_time": "2022-04-06T23:21:19.673092Z"
    }
   },
   "outputs": [],
   "source": [
    "import modulos.fibonacci as fi"
   ]
  },
  {
   "cell_type": "code",
   "execution_count": 19,
   "id": "ad473eba",
   "metadata": {
    "ExecuteTime": {
     "end_time": "2022-04-06T23:21:19.758732Z",
     "start_time": "2022-04-06T23:21:19.756180Z"
    }
   },
   "outputs": [],
   "source": [
    "fi.__doc__"
   ]
  },
  {
   "cell_type": "code",
   "execution_count": 21,
   "id": "8214dbd3",
   "metadata": {
    "ExecuteTime": {
     "end_time": "2022-04-06T23:21:48.399257Z",
     "start_time": "2022-04-06T23:21:48.395463Z"
    }
   },
   "outputs": [
    {
     "name": "stdout",
     "output_type": "stream",
     "text": [
      "CSV parsing and writing.\n",
      "\n",
      "This module provides classes that assist in the reading and writing\n",
      "of Comma Separated Value (CSV) files, and implements the interface\n",
      "described by PEP 305.  Although many CSV files are simple to parse,\n",
      "the format is not formally defined by a stable specification and\n",
      "is subtle enough that parsing lines of a CSV file with something\n",
      "like line.split(\",\") is bound to fail.  The module supports three\n",
      "basic APIs: reading, writing, and registration of dialects.\n",
      "\n",
      "\n",
      "DIALECT REGISTRATION:\n",
      "\n",
      "Readers and writers support a dialect argument, which is a convenient\n",
      "handle on a group of settings.  When the dialect argument is a string,\n",
      "it identifies one of the dialects previously registered with the module.\n",
      "If it is a class or instance, the attributes of the argument are used as\n",
      "the settings for the reader or writer:\n",
      "\n",
      "    class excel:\n",
      "        delimiter = ','\n",
      "        quotechar = '\"'\n",
      "        escapechar = None\n",
      "        doublequote = True\n",
      "        skipinitialspace = False\n",
      "        lineterminator = '\\r\\n'\n",
      "        quoting = QUOTE_MINIMAL\n",
      "\n",
      "SETTINGS:\n",
      "\n",
      "    * quotechar - specifies a one-character string to use as the\n",
      "        quoting character.  It defaults to '\"'.\n",
      "    * delimiter - specifies a one-character string to use as the\n",
      "        field separator.  It defaults to ','.\n",
      "    * skipinitialspace - specifies how to interpret whitespace which\n",
      "        immediately follows a delimiter.  It defaults to False, which\n",
      "        means that whitespace immediately following a delimiter is part\n",
      "        of the following field.\n",
      "    * lineterminator -  specifies the character sequence which should\n",
      "        terminate rows.\n",
      "    * quoting - controls when quotes should be generated by the writer.\n",
      "        It can take on any of the following module constants:\n",
      "\n",
      "        csv.QUOTE_MINIMAL means only when required, for example, when a\n",
      "            field contains either the quotechar or the delimiter\n",
      "        csv.QUOTE_ALL means that quotes are always placed around fields.\n",
      "        csv.QUOTE_NONNUMERIC means that quotes are always placed around\n",
      "            fields which do not parse as integers or floating point\n",
      "            numbers.\n",
      "        csv.QUOTE_NONE means that quotes are never placed around fields.\n",
      "    * escapechar - specifies a one-character string used to escape\n",
      "        the delimiter when quoting is set to QUOTE_NONE.\n",
      "    * doublequote - controls the handling of quotes inside fields.  When\n",
      "        True, two consecutive quotes are interpreted as one during read,\n",
      "        and when writing, each quote character embedded in the data is\n",
      "        written as two quotes\n",
      "\n"
     ]
    }
   ],
   "source": [
    "print(csv.__doc__)"
   ]
  },
  {
   "cell_type": "code",
   "execution_count": 22,
   "id": "16977e1d",
   "metadata": {
    "ExecuteTime": {
     "end_time": "2022-04-06T23:22:44.701922Z",
     "start_time": "2022-04-06T23:22:44.698686Z"
    }
   },
   "outputs": [
    {
     "data": {
      "text/plain": [
       "['Dialect',\n",
       " 'DictReader',\n",
       " 'DictWriter',\n",
       " 'Error',\n",
       " 'QUOTE_ALL',\n",
       " 'QUOTE_MINIMAL',\n",
       " 'QUOTE_NONE',\n",
       " 'QUOTE_NONNUMERIC',\n",
       " 'Sniffer',\n",
       " 'StringIO',\n",
       " '_Dialect',\n",
       " '__all__',\n",
       " '__builtins__',\n",
       " '__cached__',\n",
       " '__doc__',\n",
       " '__file__',\n",
       " '__loader__',\n",
       " '__name__',\n",
       " '__package__',\n",
       " '__spec__',\n",
       " '__version__',\n",
       " 'excel',\n",
       " 'excel_tab',\n",
       " 'field_size_limit',\n",
       " 'get_dialect',\n",
       " 'list_dialects',\n",
       " 're',\n",
       " 'reader',\n",
       " 'register_dialect',\n",
       " 'unix_dialect',\n",
       " 'unregister_dialect',\n",
       " 'writer']"
      ]
     },
     "execution_count": 22,
     "metadata": {},
     "output_type": "execute_result"
    }
   ],
   "source": [
    "dir(csv)"
   ]
  },
  {
   "cell_type": "code",
   "execution_count": 23,
   "id": "51c1aec0",
   "metadata": {
    "ExecuteTime": {
     "end_time": "2022-04-06T23:23:55.238085Z",
     "start_time": "2022-04-06T23:23:55.234062Z"
    }
   },
   "outputs": [
    {
     "data": {
      "text/plain": [
       "<module 'csv' from '/home/pedro/.pyenv/versions/3.8.12/lib/python3.8/csv.py'>"
      ]
     },
     "execution_count": 23,
     "metadata": {},
     "output_type": "execute_result"
    }
   ],
   "source": [
    "csv"
   ]
  },
  {
   "cell_type": "code",
   "execution_count": null,
   "id": "7f82e5fb",
   "metadata": {},
   "outputs": [],
   "source": []
  },
  {
   "cell_type": "code",
   "execution_count": null,
   "id": "584ca4bc",
   "metadata": {},
   "outputs": [],
   "source": []
  },
  {
   "cell_type": "markdown",
   "id": "677748be",
   "metadata": {},
   "source": [
    "Outra funcionalidade que podemos utilizar ao escrevermos nossos scripts e também para nos ajudar a decidar quais funções importar/utilizar de cada **Módulo** é a função `dir()`. Quando utilizamos essa função e passamos o nosso **Módulo** como argumento, ela nos devolverá todas as funções escritas dentro do **Módulo**, além do seu nome e outras informações:"
   ]
  },
  {
   "cell_type": "code",
   "execution_count": 9,
   "id": "84cf7d19",
   "metadata": {
    "ExecuteTime": {
     "end_time": "2022-01-24T16:18:33.198010Z",
     "start_time": "2022-01-24T16:18:33.195383Z"
    }
   },
   "outputs": [
    {
     "data": {
      "text/plain": [
       "['__builtins__',\n",
       " '__cached__',\n",
       " '__doc__',\n",
       " '__file__',\n",
       " '__loader__',\n",
       " '__name__',\n",
       " '__package__',\n",
       " '__spec__',\n",
       " 'fib',\n",
       " 'fib2']"
      ]
     },
     "execution_count": 9,
     "metadata": {},
     "output_type": "execute_result"
    }
   ],
   "source": [
    "dir(fi)"
   ]
  },
  {
   "cell_type": "markdown",
   "id": "77ad1b2a",
   "metadata": {},
   "source": [
    "Para exemplificar melhor, vamos veriricar a saída da função `dir()` para o **Módulo** `sys`:"
   ]
  },
  {
   "cell_type": "code",
   "execution_count": 10,
   "id": "227266ff",
   "metadata": {
    "ExecuteTime": {
     "end_time": "2022-01-24T16:18:33.201760Z",
     "start_time": "2022-01-24T16:18:33.198886Z"
    }
   },
   "outputs": [
    {
     "data": {
      "text/plain": [
       "['__breakpointhook__',\n",
       " '__displayhook__',\n",
       " '__doc__',\n",
       " '__excepthook__',\n",
       " '__interactivehook__',\n",
       " '__loader__',\n",
       " '__name__',\n",
       " '__package__',\n",
       " '__spec__',\n",
       " '__stderr__']"
      ]
     },
     "execution_count": 10,
     "metadata": {},
     "output_type": "execute_result"
    }
   ],
   "source": [
    "import sys\n",
    "dir(sys)[:10] # Estamos limitando somente os 10 primeiros retornos"
   ]
  },
  {
   "cell_type": "markdown",
   "id": "7cf086b1",
   "metadata": {},
   "source": [
    "## Pacotes - *Packages*"
   ]
  },
  {
   "cell_type": "markdown",
   "id": "ba1a6eab",
   "metadata": {},
   "source": [
    "Agora que entendemos o que é um **Módulo** e como criar e utilizar um, vamos entender o que é um **Pacote**. Um **Pacote** nada mais é que um diretório que possui vários **Módulos** dentro dele.\n",
    "\n",
    "Um exemplo de **Pacote** do Python é o [Pandas](https://pandas.pydata.org/docs/getting_started/overview.html) e [NumPy](https://numpy.org/doc/stable/user/whatisnumpy.html).\n",
    "\n",
    "Para exemplificar melhor a sua utilização, vamos criar um pacote. Para isso, primeiro vamos criar o diretório chamado pacote e criar dois módulos dentro desse diretório: `modulo_1.py` e `modulo_2.py`."
   ]
  },
  {
   "cell_type": "code",
   "execution_count": 11,
   "id": "4280e965",
   "metadata": {
    "ExecuteTime": {
     "end_time": "2022-01-24T16:18:33.205316Z",
     "start_time": "2022-01-24T16:18:33.202631Z"
    },
    "hide_input": true
   },
   "outputs": [
    {
     "data": {
      "image/png": "[encoded data removed]",
      "text/plain": [
       "<IPython.core.display.Image object>"
      ]
     },
     "execution_count": 11,
     "metadata": {},
     "output_type": "execute_result"
    }
   ],
   "source": [
    "Image('img/pacote.png')"
   ]
  },
  {
   "cell_type": "markdown",
   "id": "259dfbb5",
   "metadata": {},
   "source": [
    "O conteúdo dos **Módulos** deve ser o seguinte:\n",
    "\n",
    "***\n",
    "\n",
    "```python\n",
    "# Módulo modulo_1.py\n",
    "def fucao_exemplo():\n",
    "    print('Função [funcao_exemplo] do Módulo [modulo_1]')\n",
    "    \n",
    "    \n",
    "class Modulo1:\n",
    "    def __init__(self):\n",
    "        print('Instânciado a classe [Modulo1] do Módulo [modulo_1]')\n",
    "\n",
    "```\n",
    "\n",
    "***\n",
    "\n",
    "```python\n",
    "# Módulo modulo_2.py\n",
    "def fucao_exemplo():\n",
    "    print('Função [funcao_exemplo] do Módulo [modulo_2]')\n",
    "\n",
    "\n",
    "class Modulo2:\n",
    "    def __init__(self):\n",
    "        print('Instânciado a classe [Modulo2] do Módulo [modulo_2]')\n",
    "```\n",
    "\n",
    "***\n",
    "\n"
   ]
  },
  {
   "cell_type": "markdown",
   "id": "56ebae8d",
   "metadata": {},
   "source": [
    "Agora que criamos nosso **Pacote**, para utilizá-lo, basta importá-lo com as técnicas vistas anteriormente, quando estávamos estudando a respeito de módulos:"
   ]
  },
  {
   "cell_type": "code",
   "execution_count": 12,
   "id": "183f98b3",
   "metadata": {
    "ExecuteTime": {
     "end_time": "2022-01-24T16:18:33.208814Z",
     "start_time": "2022-01-24T16:18:33.206102Z"
    }
   },
   "outputs": [],
   "source": [
    "# importando o modulo_1 do pacote\n",
    "# import pacote.modulo as apelido\n",
    "import pacote.modulo_1 as mod1"
   ]
  },
  {
   "cell_type": "code",
   "execution_count": 13,
   "id": "ae0463b7",
   "metadata": {
    "ExecuteTime": {
     "end_time": "2022-01-24T16:18:33.212053Z",
     "start_time": "2022-01-24T16:18:33.209676Z"
    }
   },
   "outputs": [
    {
     "name": "stdout",
     "output_type": "stream",
     "text": [
      "Função [funcao_exemplo] do Módulo [modulo_1]\n"
     ]
    }
   ],
   "source": [
    "mod1.funcao_exemplo()"
   ]
  },
  {
   "cell_type": "code",
   "execution_count": 14,
   "id": "f8579441",
   "metadata": {
    "ExecuteTime": {
     "end_time": "2022-01-24T16:18:33.216739Z",
     "start_time": "2022-01-24T16:18:33.213431Z"
    }
   },
   "outputs": [
    {
     "data": {
      "text/plain": [
       "<function pacote.modulo_1.funcao_exemplo()>"
      ]
     },
     "execution_count": 14,
     "metadata": {},
     "output_type": "execute_result"
    }
   ],
   "source": [
    "mod1.funcao_exemplo"
   ]
  },
  {
   "cell_type": "code",
   "execution_count": 15,
   "id": "fe3999aa",
   "metadata": {
    "ExecuteTime": {
     "end_time": "2022-01-24T16:18:33.220251Z",
     "start_time": "2022-01-24T16:18:33.217997Z"
    }
   },
   "outputs": [
    {
     "name": "stdout",
     "output_type": "stream",
     "text": [
      "Instânciado a classe [Modulo1] do Módulo [modulo_1]\n"
     ]
    }
   ],
   "source": [
    "objeto = mod1.Modulo1()"
   ]
  },
  {
   "cell_type": "code",
   "execution_count": 16,
   "id": "05bcc69b",
   "metadata": {
    "ExecuteTime": {
     "end_time": "2022-01-24T16:18:33.225270Z",
     "start_time": "2022-01-24T16:18:33.221837Z"
    }
   },
   "outputs": [
    {
     "data": {
      "text/plain": [
       "<pacote.modulo_1.Modulo1 at 0x7fab7c658850>"
      ]
     },
     "execution_count": 16,
     "metadata": {},
     "output_type": "execute_result"
    }
   ],
   "source": [
    "objeto"
   ]
  },
  {
   "cell_type": "code",
   "execution_count": 17,
   "id": "f050f633",
   "metadata": {
    "ExecuteTime": {
     "end_time": "2022-01-24T16:18:33.228663Z",
     "start_time": "2022-01-24T16:18:33.226215Z"
    }
   },
   "outputs": [],
   "source": [
    "# Importando somente a função do modulo_2\n",
    "# from pacote.modulo import funcao as apelido\n",
    "from pacote.modulo_2 import funcao_exemplo as fn"
   ]
  },
  {
   "cell_type": "code",
   "execution_count": 18,
   "id": "978dce5e",
   "metadata": {
    "ExecuteTime": {
     "end_time": "2022-01-24T16:18:33.231493Z",
     "start_time": "2022-01-24T16:18:33.229616Z"
    }
   },
   "outputs": [
    {
     "name": "stdout",
     "output_type": "stream",
     "text": [
      "Função [funcao_exemplo] do Módulo [modulo_2]\n"
     ]
    }
   ],
   "source": [
    "fn()"
   ]
  },
  {
   "cell_type": "code",
   "execution_count": 19,
   "id": "465d0510",
   "metadata": {
    "ExecuteTime": {
     "end_time": "2022-01-24T16:18:33.234556Z",
     "start_time": "2022-01-24T16:18:33.232341Z"
    }
   },
   "outputs": [
    {
     "data": {
      "text/plain": [
       "<function pacote.modulo_2.funcao_exemplo()>"
      ]
     },
     "execution_count": 19,
     "metadata": {},
     "output_type": "execute_result"
    }
   ],
   "source": [
    "fn"
   ]
  },
  {
   "cell_type": "code",
   "execution_count": null,
   "id": "4983ad77",
   "metadata": {},
   "outputs": [],
   "source": []
  },
  {
   "cell_type": "code",
   "execution_count": 1,
   "id": "9532e227",
   "metadata": {
    "ExecuteTime": {
     "end_time": "2022-04-06T23:35:28.506033Z",
     "start_time": "2022-04-06T23:35:28.502803Z"
    }
   },
   "outputs": [],
   "source": [
    "import pacote"
   ]
  },
  {
   "cell_type": "code",
   "execution_count": 25,
   "id": "0387ae70",
   "metadata": {
    "ExecuteTime": {
     "end_time": "2022-04-06T23:33:20.433454Z",
     "start_time": "2022-04-06T23:33:20.429802Z"
    }
   },
   "outputs": [
    {
     "data": {
      "text/plain": [
       "<module 'pacote' (namespace)>"
      ]
     },
     "execution_count": 25,
     "metadata": {},
     "output_type": "execute_result"
    }
   ],
   "source": [
    "pacote"
   ]
  },
  {
   "cell_type": "code",
   "execution_count": 27,
   "id": "93a9493c",
   "metadata": {
    "ExecuteTime": {
     "end_time": "2022-04-06T23:33:51.847277Z",
     "start_time": "2022-04-06T23:33:51.845294Z"
    }
   },
   "outputs": [],
   "source": [
    "import pacote.modulo_1 as m"
   ]
  },
  {
   "cell_type": "code",
   "execution_count": 28,
   "id": "2bafc232",
   "metadata": {
    "ExecuteTime": {
     "end_time": "2022-04-06T23:33:54.637182Z",
     "start_time": "2022-04-06T23:33:54.633306Z"
    }
   },
   "outputs": [
    {
     "data": {
      "text/plain": [
       "<module 'pacote.modulo_1' from '/home/pedro/Dev/data_science/fundamentos_programacao/aula_09/pacote/modulo_1.py'>"
      ]
     },
     "execution_count": 28,
     "metadata": {},
     "output_type": "execute_result"
    }
   ],
   "source": [
    "m"
   ]
  },
  {
   "cell_type": "code",
   "execution_count": 2,
   "id": "f044a515",
   "metadata": {
    "ExecuteTime": {
     "end_time": "2022-04-06T23:35:30.808755Z",
     "start_time": "2022-04-06T23:35:30.393602Z"
    }
   },
   "outputs": [
    {
     "ename": "AttributeError",
     "evalue": "module 'pacote' has no attribute 'modulo_1'",
     "output_type": "error",
     "traceback": [
      "\u001b[0;31m---------------------------------------------------------------------------\u001b[0m",
      "\u001b[0;31mAttributeError\u001b[0m                            Traceback (most recent call last)",
      "Input \u001b[0;32mIn [2]\u001b[0m, in \u001b[0;36m<module>\u001b[0;34m\u001b[0m\n\u001b[0;32m----> 1\u001b[0m \u001b[43mpacote\u001b[49m\u001b[38;5;241;43m.\u001b[39;49m\u001b[43mmodulo_1\u001b[49m\u001b[38;5;241m.\u001b[39mfuncao_exemplo()\n",
      "\u001b[0;31mAttributeError\u001b[0m: module 'pacote' has no attribute 'modulo_1'"
     ]
    }
   ],
   "source": [
    "pacote.modulo_1.funcao_exemplo()"
   ]
  },
  {
   "cell_type": "code",
   "execution_count": null,
   "id": "f6b04a6d",
   "metadata": {},
   "outputs": [],
   "source": []
  },
  {
   "cell_type": "code",
   "execution_count": null,
   "id": "5ad10aff",
   "metadata": {},
   "outputs": [],
   "source": []
  },
  {
   "cell_type": "code",
   "execution_count": null,
   "id": "5cbb6949",
   "metadata": {},
   "outputs": [],
   "source": []
  },
  {
   "cell_type": "code",
   "execution_count": null,
   "id": "b5ed9798",
   "metadata": {},
   "outputs": [],
   "source": []
  },
  {
   "cell_type": "code",
   "execution_count": null,
   "id": "0aaa40d1",
   "metadata": {},
   "outputs": [],
   "source": []
  },
  {
   "cell_type": "code",
   "execution_count": null,
   "id": "e7ab3c28",
   "metadata": {},
   "outputs": [],
   "source": []
  },
  {
   "cell_type": "markdown",
   "id": "252e8930",
   "metadata": {},
   "source": [
    "Outro ponto que é importante notarmos é que o Python **NÃO** nos permite importar o pacote todo:"
   ]
  },
  {
   "cell_type": "code",
   "execution_count": 4,
   "id": "8302fab6",
   "metadata": {
    "ExecuteTime": {
     "end_time": "2022-04-06T12:55:15.890744Z",
     "start_time": "2022-04-06T12:55:15.886897Z"
    }
   },
   "outputs": [
    {
     "data": {
      "text/plain": [
       "<module 'pacote' (namespace)>"
      ]
     },
     "execution_count": 4,
     "metadata": {},
     "output_type": "execute_result"
    }
   ],
   "source": [
    "import pacote as p\n",
    "p"
   ]
  },
  {
   "cell_type": "code",
   "execution_count": 5,
   "id": "917354c0",
   "metadata": {
    "ExecuteTime": {
     "end_time": "2022-04-06T12:55:16.772529Z",
     "start_time": "2022-04-06T12:55:16.757861Z"
    }
   },
   "outputs": [
    {
     "ename": "AttributeError",
     "evalue": "module 'pacote' has no attribute 'modulo_1'",
     "output_type": "error",
     "traceback": [
      "\u001b[0;31m---------------------------------------------------------------------------\u001b[0m",
      "\u001b[0;31mAttributeError\u001b[0m                            Traceback (most recent call last)",
      "Input \u001b[0;32mIn [5]\u001b[0m, in \u001b[0;36m<module>\u001b[0;34m\u001b[0m\n\u001b[0;32m----> 1\u001b[0m \u001b[43mp\u001b[49m\u001b[38;5;241;43m.\u001b[39;49m\u001b[43mmodulo_1\u001b[49m\u001b[38;5;241m.\u001b[39mfuncao_exemplo()\n",
      "\u001b[0;31mAttributeError\u001b[0m: module 'pacote' has no attribute 'modulo_1'"
     ]
    }
   ],
   "source": [
    "p.modulo_1.funcao_exemplo()"
   ]
  },
  {
   "cell_type": "markdown",
   "id": "d496e245",
   "metadata": {},
   "source": [
    "### Incializando Pacotes - Arquivo `__init__.py`"
   ]
  },
  {
   "cell_type": "markdown",
   "id": "f3c4d57a",
   "metadata": {},
   "source": [
    "Além de tudo que vimos em sobre **Pacotes**, ainda existe o arquivo inicializador que podemos utilizar dentro dos nossos **Pacotes**. Esse arquivo é o `__init__.py`.\n",
    "\n",
    "Dentro desse arquivo iremos sempre colocar funções ou variáveis que devem ser criadas ou inicializadas para que todos os **Módulos** do **Pacote** funcionem corretamente. Além de existir a possibilidade de importarmos todos os nossos **Pacotes** dentro desse arquivo.\n",
    "\n",
    "Para exemplificar, vamos criar o nosso arquivo `__init__.py` dentro do nosso **Pacote**:"
   ]
  },
  {
   "cell_type": "code",
   "execution_count": 22,
   "id": "b1a1fb7a",
   "metadata": {
    "ExecuteTime": {
     "end_time": "2022-01-24T16:18:33.245166Z",
     "start_time": "2022-01-24T16:18:33.241369Z"
    },
    "hide_input": true
   },
   "outputs": [
    {
     "data": {
      "image/png": "[encoded data removed]",
      "text/plain": [
       "<IPython.core.display.Image object>"
      ]
     },
     "execution_count": 22,
     "metadata": {},
     "output_type": "execute_result"
    }
   ],
   "source": [
    "Image('img/inicializador_pacot.png')"
   ]
  },
  {
   "cell_type": "markdown",
   "id": "3d798de7",
   "metadata": {},
   "source": [
    "E como conteúdo, vamos inserir o *script* abaixo:\n",
    "\n",
    "```python\n",
    "# Importando os módulos\n",
    "import pacote_inicializado.modulo_1, pacote_inicializado.modulo_2\n",
    "\n",
    "print(f'O Arquivo __init__.py do Pacote {__name__} foi executado')\n",
    "\n",
    "# Criação de uma variável Global\n",
    "v_global = ['Pedro', 32, 1.82, True]\n",
    "\n",
    "#Criação de uma função Global\n",
    "def f_global():\n",
    "\tprint(f'A Função de inicialização foi executada!')\n",
    "```"
   ]
  },
  {
   "cell_type": "code",
   "execution_count": 3,
   "id": "1092c13b",
   "metadata": {
    "ExecuteTime": {
     "end_time": "2022-04-06T23:41:30.659082Z",
     "start_time": "2022-04-06T23:41:30.654143Z"
    }
   },
   "outputs": [
    {
     "name": "stdout",
     "output_type": "stream",
     "text": [
      "O Arquivo __init__.py do Pacote pacote_inicializado foi executado\n"
     ]
    }
   ],
   "source": [
    "import pacote_inicializado as pi"
   ]
  },
  {
   "cell_type": "code",
   "execution_count": 8,
   "id": "fd25737f",
   "metadata": {
    "ExecuteTime": {
     "end_time": "2022-04-06T23:43:15.688867Z",
     "start_time": "2022-04-06T23:43:15.672102Z"
    }
   },
   "outputs": [
    {
     "ename": "NameError",
     "evalue": "name 'v_global' is not defined",
     "output_type": "error",
     "traceback": [
      "\u001b[0;31m---------------------------------------------------------------------------\u001b[0m",
      "\u001b[0;31mNameError\u001b[0m                                 Traceback (most recent call last)",
      "Input \u001b[0;32mIn [8]\u001b[0m, in \u001b[0;36m<module>\u001b[0;34m\u001b[0m\n\u001b[0;32m----> 1\u001b[0m \u001b[43mv_global\u001b[49m\n",
      "\u001b[0;31mNameError\u001b[0m: name 'v_global' is not defined"
     ]
    }
   ],
   "source": [
    "v_global"
   ]
  },
  {
   "cell_type": "code",
   "execution_count": 9,
   "id": "c1ad2d86",
   "metadata": {
    "ExecuteTime": {
     "end_time": "2022-04-06T23:43:46.261780Z",
     "start_time": "2022-04-06T23:43:46.257876Z"
    }
   },
   "outputs": [
    {
     "data": {
      "text/plain": [
       "<module 'pacote_inicializado' from '/home/pedro/Dev/data_science/fundamentos_programacao/aula_09/pacote_inicializado/__init__.py'>"
      ]
     },
     "execution_count": 9,
     "metadata": {},
     "output_type": "execute_result"
    }
   ],
   "source": [
    "pi"
   ]
  },
  {
   "cell_type": "code",
   "execution_count": 6,
   "id": "e06d2d8e",
   "metadata": {
    "ExecuteTime": {
     "end_time": "2022-04-06T23:42:30.095183Z",
     "start_time": "2022-04-06T23:42:30.092217Z"
    }
   },
   "outputs": [
    {
     "name": "stdout",
     "output_type": "stream",
     "text": [
      "A Função de inicialização foi executada!\n"
     ]
    }
   ],
   "source": [
    "pi.f_global()"
   ]
  },
  {
   "cell_type": "code",
   "execution_count": 7,
   "id": "23663365",
   "metadata": {
    "ExecuteTime": {
     "end_time": "2022-04-06T23:42:44.693828Z",
     "start_time": "2022-04-06T23:42:44.690906Z"
    }
   },
   "outputs": [
    {
     "name": "stdout",
     "output_type": "stream",
     "text": [
      "Função [funcao_exemplo] do Módulo [modulo_1]\n"
     ]
    }
   ],
   "source": [
    "pi.modulo_1.funcao_exemplo()"
   ]
  },
  {
   "cell_type": "code",
   "execution_count": null,
   "id": "2c432d80",
   "metadata": {},
   "outputs": [],
   "source": []
  },
  {
   "cell_type": "code",
   "execution_count": null,
   "id": "494d8039",
   "metadata": {},
   "outputs": [],
   "source": []
  },
  {
   "cell_type": "code",
   "execution_count": null,
   "id": "059381d5",
   "metadata": {},
   "outputs": [],
   "source": []
  },
  {
   "cell_type": "code",
   "execution_count": null,
   "id": "f9fb6f7f",
   "metadata": {},
   "outputs": [],
   "source": []
  },
  {
   "cell_type": "code",
   "execution_count": 6,
   "id": "3848ece0",
   "metadata": {
    "ExecuteTime": {
     "end_time": "2022-04-06T13:23:02.388285Z",
     "start_time": "2022-04-06T13:23:02.383288Z"
    },
    "scrolled": true
   },
   "outputs": [
    {
     "name": "stdout",
     "output_type": "stream",
     "text": [
      "O Arquivo __init__.py do Pacote pacote_inicializado foi executado\n"
     ]
    }
   ],
   "source": [
    "# Importanto o pacote inicializado\n",
    "import pacote_inicializado as pi"
   ]
  },
  {
   "cell_type": "code",
   "execution_count": 7,
   "id": "23f3a8fd",
   "metadata": {
    "ExecuteTime": {
     "end_time": "2022-04-06T13:23:03.003979Z",
     "start_time": "2022-04-06T13:23:03.000419Z"
    }
   },
   "outputs": [
    {
     "data": {
      "text/plain": [
       "['Pedro', 32, 1.82, True]"
      ]
     },
     "execution_count": 7,
     "metadata": {},
     "output_type": "execute_result"
    }
   ],
   "source": [
    "# Exibindo uma variável do arquivo de inicialização\n",
    "pi.v_global"
   ]
  },
  {
   "cell_type": "code",
   "execution_count": 8,
   "id": "a9285cde",
   "metadata": {
    "ExecuteTime": {
     "end_time": "2022-04-06T13:23:03.478163Z",
     "start_time": "2022-04-06T13:23:03.475616Z"
    },
    "scrolled": true
   },
   "outputs": [
    {
     "name": "stdout",
     "output_type": "stream",
     "text": [
      "A Função de inicialização foi executada!\n"
     ]
    }
   ],
   "source": [
    "# Executando uma funcao do arquivo de inicialização\n",
    "pi.f_global()"
   ]
  },
  {
   "cell_type": "code",
   "execution_count": 9,
   "id": "a0f9f90c",
   "metadata": {
    "ExecuteTime": {
     "end_time": "2022-04-06T13:23:03.980697Z",
     "start_time": "2022-04-06T13:23:03.977414Z"
    }
   },
   "outputs": [
    {
     "name": "stdout",
     "output_type": "stream",
     "text": [
      "Função [funcao_exemplo] do Módulo [modulo_1]\n"
     ]
    }
   ],
   "source": [
    "# Executando uma função do Módulo modulo_1\n",
    "# Isso só é possível pois fizemos o import\n",
    "# desse Módulo dentro do arquivo de inicialização\n",
    "pi.modulo_1.funcao_exemplo()"
   ]
  },
  {
   "cell_type": "markdown",
   "id": "6511c28c",
   "metadata": {},
   "source": [
    "### Expressão `if __name__ == \"__main__\":`"
   ]
  },
  {
   "cell_type": "markdown",
   "id": "8cf85f1e",
   "metadata": {},
   "source": [
    "Além disso, quando estamos criando nossos **Módulos**, **Pacotes** e **Bibliotecas**, é extremamente importante utilizarmos a expressão `if __name__ == \"__main__\":` para criarmos nosso bloco principal.\n",
    "\n",
    "Geralmente utilizamos esse bloco em todos os **Módulos** para fazer conseguir controlar o que desejamos que seja executado, visto que o Python sempre executará o **Módulos** que importamos em nossos *scripts*.\n",
    "\n",
    "Para exemplificar, vamos criar um diretório chamado `if_name` e dentro dele criar dois novos arquivos: `modulo_1.py` e `modulo_2.py`."
   ]
  },
  {
   "cell_type": "code",
   "execution_count": 2,
   "id": "d8a211c2",
   "metadata": {
    "ExecuteTime": {
     "end_time": "2022-01-25T18:11:44.052931Z",
     "start_time": "2022-01-25T18:11:44.042074Z"
    },
    "hide_input": true
   },
   "outputs": [
    {
     "data": {
      "image/png": "[encoded data removed]",
      "text/plain": [
       "<IPython.core.display.Image object>"
      ]
     },
     "execution_count": 2,
     "metadata": {},
     "output_type": "execute_result"
    }
   ],
   "source": [
    "Image('img/if_name.png')"
   ]
  },
  {
   "cell_type": "markdown",
   "id": "aa47e3d2",
   "metadata": {},
   "source": [
    "Os conteúdos dos aquivos deve ser o seguinte:\n",
    "\n",
    "***\n",
    "\n",
    "```python\n",
    "# Conteúdo arquivo modulo_1.py\n",
    "print(f'Arquivo modulo_1.py está com o atributo __name__ configurado como: {__name__}')\n",
    "```\n",
    "\n",
    "***\n",
    "\n",
    "```python\n",
    "# Conteúdo arquivo modulo_2.py\n",
    "print(f'Arquivo modulo_2.py está com o atributo __name__ configurado como: {__name__}')\n",
    "```\n",
    "\n",
    "***\n",
    "\n",
    "Com ambos os arquivos pronto, vamos fazer o importe de cada uma deles:"
   ]
  },
  {
   "cell_type": "code",
   "execution_count": 1,
   "id": "f9eba5a7",
   "metadata": {
    "ExecuteTime": {
     "end_time": "2022-04-06T23:51:45.512241Z",
     "start_time": "2022-04-06T23:51:32.914464Z"
    }
   },
   "outputs": [
    {
     "name": "stdout",
     "output_type": "stream",
     "text": [
      "Arquivo modulo_1.py está com o atributo __name__ configurado como: if_name.modulo_1\n",
      "Digite a sua idade: 19\n",
      "Parabens! Voce ja pode ser preso\n"
     ]
    }
   ],
   "source": [
    "import if_name.modulo_1"
   ]
  },
  {
   "cell_type": "code",
   "execution_count": 2,
   "id": "82f82b8e",
   "metadata": {
    "ExecuteTime": {
     "end_time": "2022-04-06T23:52:33.594870Z",
     "start_time": "2022-04-06T23:52:33.590658Z"
    }
   },
   "outputs": [
    {
     "name": "stdout",
     "output_type": "stream",
     "text": [
      "Arquivo modulo_2.py está com o atributo __name__ configurado como: if_name.modulo_2\n"
     ]
    }
   ],
   "source": [
    "import if_name.modulo_2"
   ]
  },
  {
   "cell_type": "markdown",
   "id": "062436a6",
   "metadata": {},
   "source": [
    "Observe que quando fazermos o import através do `Jupyter`, o atributo `__name__` dos nossos **Módulos** é configurado para que ele tenha como conteúdo o nome (diretório mais o nome do arquivo) do próprio **Módulo**. E só conseguimos verificar essa informação pois ambos os **Módulos** foram executados e carregados na memória.\n",
    "\n",
    "Porém, quando executamos nosso **Módulo** diretamente pelo terminal, utilizando o interpretador do Python, observe a saída:"
   ]
  },
  {
   "cell_type": "code",
   "execution_count": 7,
   "id": "aac62ad6",
   "metadata": {
    "ExecuteTime": {
     "end_time": "2022-01-25T18:20:27.519689Z",
     "start_time": "2022-01-25T18:20:27.515295Z"
    },
    "hide_input": true
   },
   "outputs": [
    {
     "data": {
      "image/png": "[encoded data removed]",
      "text/plain": [
       "<IPython.core.display.Image object>"
      ]
     },
     "execution_count": 7,
     "metadata": {},
     "output_type": "execute_result"
    }
   ],
   "source": [
    "Image('img/exec_1_terminal.png')"
   ]
  },
  {
   "cell_type": "markdown",
   "id": "8501f69d",
   "metadata": {},
   "source": [
    "Observe que agora o atributo `__name__` está configurado como `__main__` e não mais como o nome do **Módulo**.\n",
    "\n",
    "Isso ocorre pois, ao invés de a execução do **Módulo** ter ocorrido através de um import, ela ocorreu de forma direta. Ou seja, o interpretador do Python executou de forma direta o arquivo.\n",
    "\n",
    "Agora imagine a seguinte situação: Dentro do arquivo `modulo_1.py`, por alguma razão hipotética, temos que importar o arquivo `modulo_2.py`, pois nele há funções necessárias para nós. Ou seja, o código agora do arquivo `modulo_1.py` é o seguinte:\n",
    "\n",
    "***\n",
    "\n",
    "```python\n",
    "# Conteúdo arquivo modulo_1.py\n",
    "import modulo_2\n",
    "\n",
    "print(f'Arquivo modulo_1.py está com o atributo __name__ configurado como: {__name__}')\n",
    "```\n",
    "\n",
    "***\n",
    "\n",
    "Se executarmos agora nosso arquivo diretamente pelo terminal, teremos a seguinte saída:"
   ]
  },
  {
   "cell_type": "code",
   "execution_count": 8,
   "id": "cd384055",
   "metadata": {
    "ExecuteTime": {
     "end_time": "2022-01-25T18:26:04.367239Z",
     "start_time": "2022-01-25T18:26:04.363441Z"
    },
    "hide_input": true
   },
   "outputs": [
    {
     "data": {
      "image/png": "[encoded data removed]",
      "text/plain": [
       "<IPython.core.display.Image object>"
      ]
     },
     "execution_count": 8,
     "metadata": {},
     "output_type": "execute_result"
    }
   ],
   "source": [
    "Image('img/exec_2_terminal.png')"
   ]
  },
  {
   "cell_type": "code",
   "execution_count": 1,
   "id": "62d319f1",
   "metadata": {
    "ExecuteTime": {
     "end_time": "2022-04-06T23:56:20.474865Z",
     "start_time": "2022-04-06T23:56:20.470437Z"
    }
   },
   "outputs": [
    {
     "name": "stdout",
     "output_type": "stream",
     "text": [
      "Arquivo modulo_2.py está com o atributo __name__ configurado como: if_name.modulo_2\n",
      "Arquivo modulo_1.py está com o atributo __name__ configurado como: if_name.modulo_1\n"
     ]
    }
   ],
   "source": [
    "import if_name.modulo_1"
   ]
  },
  {
   "cell_type": "code",
   "execution_count": null,
   "id": "d7bc2dba",
   "metadata": {},
   "outputs": [],
   "source": []
  },
  {
   "cell_type": "markdown",
   "id": "a5951899",
   "metadata": {},
   "source": [
    "Até aqui, nada diferente do que já foi visto. Porém, digamos que esse `print()` que utilizamos no arquivo `modulo_2.py` só deva ser executado caso o arquivo, ou **Módulo**, seja executado diretamente pelo interpretador. Como resolvermos esse problema?\n",
    "\n",
    "É aí que entra a expressão `if __name__ == '__main__':`. Nela estamos verificando, através do atributo `__name__`, se o **Módulo** que está sendo executado, foi executado de forma direta ou foi importado! Digamos ainda que desejamos que o **Módulo** tenha comportamentos diferentes para cada situação, ou seja, execute algo quando for importado e que execute outra coisa quando for executado de forma direta! É com essa expressão que conseguimos esse resultado!\n",
    "\n",
    "Para exemplificar, vamos criar um novo arquivo chamado `modulo_3.py` com o seguinte código dentro dele:\n",
    "\n",
    "***\n",
    "\n",
    "```python\n",
    "# Conteúdo arquivo modulo_3.py\n",
    "def calcula_imc(nome, peso, altura):\n",
    "\tstring = f'O usuario {nome} possuí {peso} Kg de massa e {altura} cm de altura. Logo, seu IMC é {(peso / (altura * altura)):.2f}'\n",
    "\tprint(string)\n",
    "\n",
    "if __name__ == '__main__':\n",
    "\tnome = 'Pedro'\n",
    "\tpeso = 93.5\n",
    "\taltura = 1.82\n",
    "\tcalcula_imc(nome, peso, altura)\n",
    "else:\n",
    "\tnome = 'Guilherme'\n",
    "\tpeso = 76.0\n",
    "\taltura = 1.82\n",
    "\tprint(f'A função \"calcula_imc()\" está pronta para ser utilizada!')\n",
    "```\n",
    "\n",
    "***\n",
    "\n",
    "O que esse código fará é:\n",
    "- Caso ele seja executado de forma direta, a função `calcula_imc()` será executada com as variáveis criadas dentro do bloco `if`.\n",
    "- Caso ele seja executado através de um import, a função `calcula_imc()` não será executada, somente o print informado que ela estará pronta!\n",
    "\n",
    "Vejamos:"
   ]
  },
  {
   "cell_type": "code",
   "execution_count": 1,
   "id": "57b48b33",
   "metadata": {
    "ExecuteTime": {
     "end_time": "2022-04-07T00:10:48.796687Z",
     "start_time": "2022-04-07T00:10:48.791161Z"
    }
   },
   "outputs": [
    {
     "name": "stdout",
     "output_type": "stream",
     "text": [
      "A função \"calcula_imc()\" está pronta para ser utilizada!\n"
     ]
    }
   ],
   "source": [
    "import if_name.modulo_3"
   ]
  },
  {
   "cell_type": "code",
   "execution_count": 2,
   "id": "ea4864eb",
   "metadata": {
    "ExecuteTime": {
     "end_time": "2022-04-07T00:11:00.548479Z",
     "start_time": "2022-04-07T00:11:00.540164Z"
    }
   },
   "outputs": [
    {
     "data": {
      "text/plain": [
       "'Guilherme'"
      ]
     },
     "execution_count": 2,
     "metadata": {},
     "output_type": "execute_result"
    }
   ],
   "source": [
    "if_name.modulo_3.nome"
   ]
  },
  {
   "cell_type": "code",
   "execution_count": 3,
   "id": "bfe3a6bc",
   "metadata": {
    "ExecuteTime": {
     "end_time": "2022-04-07T00:11:32.456154Z",
     "start_time": "2022-04-07T00:11:32.453249Z"
    }
   },
   "outputs": [
    {
     "name": "stdout",
     "output_type": "stream",
     "text": [
      "O usuario Guilherme possuí 76.0 Kg de massa e 1.82 cm de altura. Logo, seu IMC é 22.94\n"
     ]
    }
   ],
   "source": [
    "if_name.modulo_3.calcula_imc(if_name.modulo_3.nome, if_name.modulo_3.peso, if_name.modulo_3.altura)"
   ]
  },
  {
   "cell_type": "code",
   "execution_count": 4,
   "id": "18947798",
   "metadata": {
    "ExecuteTime": {
     "end_time": "2022-04-07T00:15:42.754897Z",
     "start_time": "2022-04-07T00:15:42.752205Z"
    }
   },
   "outputs": [],
   "source": [
    "def func_exemplo():\n",
    "    print('funcao de exemplo')"
   ]
  },
  {
   "cell_type": "code",
   "execution_count": null,
   "id": "2138f83d",
   "metadata": {},
   "outputs": [],
   "source": [
    "if __name__ == '__main__':\n",
    "    "
   ]
  },
  {
   "cell_type": "code",
   "execution_count": null,
   "id": "d88e801e",
   "metadata": {},
   "outputs": [],
   "source": []
  },
  {
   "cell_type": "code",
   "execution_count": null,
   "id": "44277462",
   "metadata": {},
   "outputs": [],
   "source": []
  },
  {
   "cell_type": "code",
   "execution_count": null,
   "id": "e25eb36b",
   "metadata": {},
   "outputs": [],
   "source": []
  },
  {
   "cell_type": "code",
   "execution_count": null,
   "id": "9203653f",
   "metadata": {},
   "outputs": [],
   "source": []
  },
  {
   "cell_type": "code",
   "execution_count": null,
   "id": "c0fc3409",
   "metadata": {},
   "outputs": [],
   "source": []
  },
  {
   "cell_type": "code",
   "execution_count": null,
   "id": "891748e6",
   "metadata": {},
   "outputs": [],
   "source": []
  },
  {
   "cell_type": "code",
   "execution_count": 9,
   "id": "1486bac2",
   "metadata": {
    "ExecuteTime": {
     "end_time": "2022-01-25T18:40:25.956698Z",
     "start_time": "2022-01-25T18:40:25.952262Z"
    },
    "hide_input": true
   },
   "outputs": [
    {
     "data": {
      "image/png": "[encoded data removed]",
      "text/plain": [
       "<IPython.core.display.Image object>"
      ]
     },
     "execution_count": 9,
     "metadata": {},
     "output_type": "execute_result"
    }
   ],
   "source": [
    "Image('img/exec_3_terminal.png')"
   ]
  },
  {
   "cell_type": "markdown",
   "id": "fd576344",
   "metadata": {},
   "source": [
    "E se importarmos o arquivo `modulo_3.py`, teremos o seguinte resultado"
   ]
  },
  {
   "cell_type": "code",
   "execution_count": 13,
   "id": "c513aedd",
   "metadata": {
    "ExecuteTime": {
     "end_time": "2022-01-25T18:42:20.031861Z",
     "start_time": "2022-01-25T18:42:20.029402Z"
    }
   },
   "outputs": [],
   "source": [
    "import if_name.modulo_3 as m3"
   ]
  },
  {
   "cell_type": "markdown",
   "id": "36ee78c3",
   "metadata": {},
   "source": [
    "Além disso, podemos tabém utilizar as variáveis criadas dentro do bloco `else`:"
   ]
  },
  {
   "cell_type": "code",
   "execution_count": 16,
   "id": "ba9cb906",
   "metadata": {
    "ExecuteTime": {
     "end_time": "2022-01-25T18:42:49.061041Z",
     "start_time": "2022-01-25T18:42:49.057416Z"
    }
   },
   "outputs": [
    {
     "data": {
      "text/plain": [
       "'Guilherme'"
      ]
     },
     "execution_count": 16,
     "metadata": {},
     "output_type": "execute_result"
    }
   ],
   "source": [
    "m3.nome"
   ]
  },
  {
   "cell_type": "code",
   "execution_count": 17,
   "id": "4db19d6e",
   "metadata": {
    "ExecuteTime": {
     "end_time": "2022-01-25T18:42:56.829300Z",
     "start_time": "2022-01-25T18:42:56.825530Z"
    }
   },
   "outputs": [
    {
     "data": {
      "text/plain": [
       "93.5"
      ]
     },
     "execution_count": 17,
     "metadata": {},
     "output_type": "execute_result"
    }
   ],
   "source": [
    "m3.peso"
   ]
  },
  {
   "cell_type": "code",
   "execution_count": 18,
   "id": "fea6d9cb",
   "metadata": {
    "ExecuteTime": {
     "end_time": "2022-01-25T18:43:24.060697Z",
     "start_time": "2022-01-25T18:43:24.057370Z"
    }
   },
   "outputs": [
    {
     "name": "stdout",
     "output_type": "stream",
     "text": [
      "O usuario Guilherme possuí 93.5 Kg de massa e 1.82 cm de altura. Logo, seu IMC é 28.23\n"
     ]
    }
   ],
   "source": [
    "m3.calcula_imc(m3.nome, m3.peso, m3.altura)"
   ]
  },
  {
   "cell_type": "markdown",
   "id": "bac743f3",
   "metadata": {},
   "source": [
    "Dessa forma, essa expressão nos garante termos controle do que deve ser executado e do que deve ser criado/inicializado quando executamos nossos **Módulos** de forma direta ou através de *imports*!"
   ]
  },
  {
   "cell_type": "markdown",
   "id": "c922c101",
   "metadata": {},
   "source": [
    "## Bibliotecas - *Libraries*"
   ]
  },
  {
   "cell_type": "markdown",
   "id": "19c98d15",
   "metadata": {},
   "source": [
    "**Bibliotecas**, assim como os **Pacotes**, são conjuntos de **Módulos** separados em diretórios. A principal diferença é que uma Biblioteca pode ter vários **Pacotes** e **Módulos** diferentes.\n",
    "\n",
    "No geral, uma **Biblioteca** é um **Pacote** maior e mais complexo, que possuí outros **Pacotes** dentro dele. Ou seja, uma **Biblioteca** é um conjunto de **Pacotes**. Embora que no dia-a-dia, desenvolvedores acabem utilizando o termo **Biblioteca** para se referir a **Pacotes** e **Pacote** par se referir a **Biblioteca**.\n",
    "\n",
    "Um exemplo de Biblioteca no Python são o [Matplotlib](https://matplotlib.org/) e o [BeautifulSoup](https://www.crummy.com/software/BeautifulSoup/bs4/doc/).\n",
    "\n",
    "Assim como os **Pacotes**, para utilizarmos **Bibliotecas**, basta fazermos o carregamento dela com o `import`. Por exemplo: "
   ]
  },
  {
   "cell_type": "code",
   "execution_count": 35,
   "id": "0868ab46",
   "metadata": {
    "ExecuteTime": {
     "end_time": "2022-01-24T19:32:22.304294Z",
     "start_time": "2022-01-24T19:32:22.034044Z"
    }
   },
   "outputs": [],
   "source": [
    "import matplotlib"
   ]
  },
  {
   "cell_type": "markdown",
   "id": "3348ba76",
   "metadata": {},
   "source": [
    "E a partir daí utilizar as funções da **Biblioteca**, assim como utilizamos em nossos **Pacotes**:"
   ]
  },
  {
   "cell_type": "code",
   "execution_count": 37,
   "id": "5397077d",
   "metadata": {
    "ExecuteTime": {
     "end_time": "2022-01-24T19:35:18.204315Z",
     "start_time": "2022-01-24T19:35:18.090429Z"
    },
    "scrolled": true
   },
   "outputs": [
    {
     "data": {
      "image/png": "[encoded data removed]",
      "text/plain": [
       "<Figure size 144x144 with 1 Axes>"
      ]
     },
     "metadata": {
      "needs_background": "light"
     },
     "output_type": "display_data"
    }
   ],
   "source": [
    "# Código retirado dos exemplos do Matplotlib\n",
    "\n",
    "import matplotlib.pyplot as plt\n",
    "import numpy as np\n",
    "\n",
    "plt.style.use('_mpl-gallery')\n",
    "\n",
    "# make data\n",
    "x = np.linspace(0, 10, 100)\n",
    "y = 4 + 2 * np.sin(2 * x)\n",
    "\n",
    "# plot\n",
    "fig, ax = plt.subplots()\n",
    "\n",
    "ax.plot(x, y, linewidth=2.0)\n",
    "\n",
    "ax.set(xlim=(0, 8), xticks=np.arange(1, 8),\n",
    "       ylim=(0, 8), yticks=np.arange(1, 8))\n",
    "\n",
    "plt.show()"
   ]
  },
  {
   "cell_type": "markdown",
   "id": "628ec09a",
   "metadata": {},
   "source": [
    "## Frameworks"
   ]
  },
  {
   "cell_type": "markdown",
   "id": "09d0cf5d",
   "metadata": {},
   "source": [
    "**Frameworks** são como **Bibliotecas**: possuem vários **Pacotes** e **Módulos** dentro dele. A principal diferença é que um **Framework** geralmente é uma ferramenta que possuí um fluxo de desenvolvimento ou uma arquitetura básica. Desse modo, podemos fazer um paralelo e dizer que um **Framework** é uma **Biblioteca** mais complexa.\n",
    "\n",
    "Exemplos de **Frameworks** em Python são [Django](https://www.djangoproject.com/start/overview/), [Flask](https://palletsprojects.com/p/flask/) e [FastAPI](https://fastapi.tiangolo.com/). Os três são **Frameworks** de desenvolvimento web, que possuem arquitetura e *workflows* distintos.\n",
    "\n",
    "Assim como as **Bibliotecas**, para utilizar alguns **Frameworks**, como o **Flask** por exemplo, basta fazermos a instalação e posteriormente o importe dele."
   ]
  },
  {
   "cell_type": "markdown",
   "id": "145bfe9d",
   "metadata": {},
   "source": [
    "# O QUE É O `PIP` PARA O PYTHON"
   ]
  },
  {
   "cell_type": "markdown",
   "id": "0774595d",
   "metadata": {},
   "source": [
    "O [Python Package Index](https://pypi.org/), também conhecido como PyPI, é um dos repositórios de **Módulos**, **Pacotes**, **Bibliotecas** e **Frameworks** do Python, sendo que ele é o repositório oficial da linguagem.\n",
    "\n",
    "Dessa forma, tudo que precismos ou podemos encontrar e que esteja publicado de forma oficial dentro da linguagem, está dentro desse repositório. É ele que usamos quando digitamos `pip install pandas` em nosso terminal. Por debaixo dos panos, o que ocorre é que uma aplicação Python é executada, o `pip`, que é o gerenciador de pacotes do PyPI. Então o `pip` faz o download e instalação do que desejamos, seja um **Módulo**, **Pacote**, **Biblioteca** ou **Framework**, deixando assim essa nova ferramenta pronta para uso.\n",
    "\n",
    "Quando criamos um **Módulo**, ou um **Pacote**, ou uma **Biblioteca** ou até mesmo um **Framework**, se desejarmos publicar esse conteúdo para que outras pessoas possam utilizar nossos scripts, basta seguir as diretrizes da [documentação oficial](https://packaging.python.org/en/latest/guides/hosting-your-own-index/) do Python.\n",
    "\n",
    "Fora isso, também podemos utilizar o repositório PyPI para pesquisar pelas ferramentas que desejamos instalar em nossos projetos. Por exemplo:"
   ]
  },
  {
   "cell_type": "code",
   "execution_count": 19,
   "id": "444c55a2",
   "metadata": {
    "ExecuteTime": {
     "end_time": "2022-01-25T19:02:54.992251Z",
     "start_time": "2022-01-25T19:02:54.982489Z"
    },
    "hide_input": true
   },
   "outputs": [
    {
     "data": {
      "image/png": "[encoded data removed]",
      "text/plain": [
       "<IPython.core.display.Image object>"
      ]
     },
     "execution_count": 19,
     "metadata": {},
     "output_type": "execute_result"
    }
   ],
   "source": [
    "Image('img/pypi_search.png')"
   ]
  },
  {
   "cell_type": "markdown",
   "id": "e47c17d7",
   "metadata": {},
   "source": [
    "Outra vantagem e facilidade que o `pip` nos traz, além de nos possibilitar instalar e desinstalar ferramentas, é fazer a instalação através de arquivos. Imagine a seguinte situação: Daqui a alguns dias, você fará os outros cursos da Comundade de Data Science, como o `Python do ZERO ao DS` ou o `DS em Produção`. Em ambos os cursos serão utilizados ferramentas como `pandas`, `numpy` entre outras. Porém, cada ferramenta possuí várias versões, e cada versão da ferramenta funciona com determinada versão do Python.\n",
    "\n",
    "Dessa forma, para facilitar a nossa vida, podemos simplismente recuperar um arquivo contendo todas as ferramentas e suas respectivas versões e instalá-las de forma massiva, utilizando o comando `pip install -r arquivo.txt -y`. Sendo que esse arquivo por padrão recebe o nome de `requiriments.txt`. Normalemente ele possuí um conteúdo parecido com esse:\n",
    "\n",
    "***\n",
    "\n",
    "```\n",
    "click==8.0.3\n",
    "Flask==2.0.2\n",
    "inflection==0.5.1\n",
    "itsdangerous==2.0.1\n",
    "Jinja2==3.0.2\n",
    "joblib==1.1.0\n",
    "MarkupSafe==2.0.1\n",
    "numpy==1.21.2\n",
    "pandas==1.3.3\n",
    "python-dateutil==2.8.2\n",
    "pytz==2021.3\n",
    "scikit-learn==1.0\n",
    "scipy==1.7.1\n",
    "six==1.16.0\n",
    "threadpoolctl==3.0.0\n",
    "Werkzeug==2.0.2\n",
    "xgboost==0.90\n",
    "```\n",
    "\n",
    "***\n",
    "\n",
    "E da mesma forma que podemos fazer a instalação de pacotes em massa, podemos também fazer a desinstalação utilizando o comando `pip uninstall -r requirements.txt -y`.\n",
    "\n",
    "E quando estamos com o nosso projeto pronto, para criarmos esse arquivo de requisitos do projeto, o `requiriments.txt`, utilizamos o comando `pip freeze > requiriments.txt`. Esse comando irá gerar um arquivo com todos os pacotes instalados em seu projeto!"
   ]
  },
  {
   "cell_type": "code",
   "execution_count": null,
   "id": "3b0c2557",
   "metadata": {},
   "outputs": [],
   "source": []
  }
 ],
 "metadata": {
  "kernelspec": {
   "display_name": "thiago_env",
   "language": "python",
   "name": "thiago_env"
  },
  "language_info": {
   "codemirror_mode": {
    "name": "ipython",
    "version": 3
   },
   "file_extension": ".py",
   "mimetype": "text/x-python",
   "name": "python",
   "nbconvert_exporter": "python",
   "pygments_lexer": "ipython3",
   "version": "3.10.4"
  },
  "latex_envs": {
   "LaTeX_envs_menu_present": true,
   "autoclose": false,
   "autocomplete": true,
   "bibliofile": "biblio.bib",
   "cite_by": "apalike",
   "current_citInitial": 1,
   "eqLabelWithNumbers": true,
   "eqNumInitial": 1,
   "hotkeys": {
    "equation": "Ctrl-E",
    "itemize": "Ctrl-I"
   },
   "labels_anchors": false,
   "latex_user_defs": false,
   "report_style_numbering": false,
   "user_envs_cfg": false
  },
  "varInspector": {
   "cols": {
    "lenName": 16,
    "lenType": 16,
    "lenVar": 40
   },
   "kernels_config": {
    "python": {
     "delete_cmd_postfix": "",
     "delete_cmd_prefix": "del ",
     "library": "var_list.py",
     "varRefreshCmd": "print(var_dic_list())"
    },
    "r": {
     "delete_cmd_postfix": ") ",
     "delete_cmd_prefix": "rm(",
     "library": "var_list.r",
     "varRefreshCmd": "cat(var_dic_list()) "
    }
   },
   "types_to_exclude": [
    "module",
    "function",
    "builtin_function_or_method",
    "instance",
    "_Feature"
   ],
   "window_display": false
  }
 },
 "nbformat": 4,
 "nbformat_minor": 5
}
