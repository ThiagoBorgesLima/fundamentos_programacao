{
 "cells": [
  {
   "cell_type": "markdown",
   "id": "3b31edc0",
   "metadata": {},
   "source": [
    "# EXERCÍCIO 1"
   ]
  },
  {
   "cell_type": "markdown",
   "id": "a3f62db6",
   "metadata": {
    "ExecuteTime": {
     "end_time": "2021-11-10T13:24:17.112870Z",
     "start_time": "2021-11-10T13:24:17.109021Z"
    }
   },
   "source": [
    "## Problema"
   ]
  },
  {
   "cell_type": "markdown",
   "id": "ee4f81b4",
   "metadata": {
    "ExecuteTime": {
     "end_time": "2021-11-10T13:24:59.051951Z",
     "start_time": "2021-11-10T13:24:59.048376Z"
    }
   },
   "source": [
    "Seu líder te apresentou a seguinte estrutura de dados:\n",
    "\n",
    "```python\n",
    "[\n",
    "    {'id': 1,  'name': 'Chase Mclean',  'gender': 'F',  'height': 178, 'married': True},\n",
    "    {'id': 2,  'name': 'Lu Fernandez',  'gender': 'F',  'height': 153, 'married': False},\n",
    "    {'id': 3,  'name': 'Skyler Levy',   'gender': 'M',  'height': 194, 'married': False},\n",
    "    {'id': 4,  'name': 'Patrick Kemp',  'gender': 'M',  'height': 186, 'married': False},\n",
    "    {'id': 5,  'name': 'Erasmus Fuller','gender': 'M',  'height': 196, 'married': True},\n",
    "    {'id': 6,  'name': 'Lamar Mccall',  'gender': 'M',  'height': 172, 'married': False},\n",
    "    {'id': 7,  'name': 'Nayda Aguilar', 'gender': 'M',  'height': 163, 'married': False},\n",
    "    {'id': 8,  'name': 'Lucy Heath',    'gender': 'F',  'height': 169, 'married': True},\n",
    "    {'id': 9,  'name': 'Devin Patrick', 'gender': 'F',  'height': 176, 'married': True},\n",
    "    {'id': 10, 'name': 'Kaseem Valen',  'gender': 'F',  'height': 197, 'married': True},\n",
    "    {'id': 11, 'name': 'Jen Jennings',  'gender': 'M',  'height': 188, 'married': False},\n",
    "    {'id': 12, 'name': 'Vincent Hahn',  'gender': 'F',  'height': 150,  'married': True},\n",
    "    {'id': 13, 'name': 'Harriet Lee',   'gender': 'F',  'height': 164, 'married': False},\n",
    "    {'id': 14, 'name': 'Mikayla Dodson','gender': 'F',  'height': 156, 'married': True},\n",
    "    {'id': 15, 'name': 'Solomon Welch', 'gender': 'M',  'height': 162, 'married': True},\n",
    "    {'id': 16, 'name': 'Randall Juarez','gender': 'F',  'height': 196, 'married': False},\n",
    "    {'id': 17, 'name': 'Camilla Harvey','gender': 'M',  'height': 159, 'married': False},\n",
    "    {'id': 18, 'name': 'Hardy Cameron', 'gender': 'F',  'height': 196, 'married': False},\n",
    "    {'id': 19, 'name': 'Cullen Mejia',  'gender': 'F',  'height': 188, 'married': True},\n",
    "    {'id': 20, 'name': 'Isaiah Black',  'gender': 'M',  'height': 150,  'married': True},\n",
    "]\n",
    "```\n",
    "\n",
    "E pediu para que você executasse os seguintes ajustes:\n",
    "1. As alturas estão com unidade de medida em cm (centímetro). É necessário que seja ajustado para a unidade de medida em metro (m). Utilize as funções ***map()***  para realizar esse ajuste.\n",
    "2. As informações do campo `gender` estão com as letras 'F' ou 'M' para identificar Feminino e Masculino, respectivamente. É necessário trocar a identificação para 0 e 1, sendo 0 Feminino e 1 Masculino. Utilize as funções ***map()*** para realizar esse ajuste.\n",
    "3. Selecione e crie uma lista com somente os usuários que não sejam casados. Utilize a função ***filter()*** e ***lambda***.\n",
    "4. Selecione e cria uma lista com somente os usuários que sejam homens e casados. Utilize a função ***filter()*** e ***lambda***.\n",
    "5. Selecione e crie uma nova lista com os usuários que possuem o ID par e que não estejam dentro do intervalo de 8 a 14. Crie uma função que fará a seleção. Essa função deverá ser utilizada em conjunto com a função ***filter()***\n",
    "6. Crie uma **função aninhada** para que seja possível passarmos uma lista contendo os IDs que desejamos selecionar da nossa base de dados. Essa função deverá ser utilizada em conjunto com a função ***filter()***. Os dados selecionados devem estar dentro de uma lista.\n",
    "7. Crie uma **função aninhada** para que seja possível passarmos uma lista contendo os limites inferior e superior de altura dos usuários que desejamos selecionar da nossa base de dados. Essa função deverá ser utilizada em conjunto com a função ***filter()***. Os dados selecionados devem estar dentro de uma lista."
   ]
  },
  {
   "cell_type": "markdown",
   "id": "89bf0113",
   "metadata": {},
   "source": [
    "## Resposta"
   ]
  },
  {
   "cell_type": "code",
   "execution_count": 73,
   "id": "09146118",
   "metadata": {
    "ExecuteTime": {
     "end_time": "2022-03-30T23:46:57.397284Z",
     "start_time": "2022-03-30T23:46:57.385479Z"
    }
   },
   "outputs": [],
   "source": [
    "users = [\n",
    "    {'id': 1,  'name': 'Chase Mclean',  'gender': 'F',  'height': 178, 'married': True},\n",
    "    {'id': 2,  'name': 'Lu Fernandez',  'gender': 'F',  'height': 153, 'married': False},\n",
    "    {'id': 3,  'name': 'Skyler Levy',   'gender': 'M',  'height': 194, 'married': False},\n",
    "    {'id': 4,  'name': 'Patrick Kemp',  'gender': 'M',  'height': 186, 'married': False},\n",
    "    {'id': 5,  'name': 'Erasmus Fuller','gender': 'M',  'height': 196, 'married': True},\n",
    "    {'id': 6,  'name': 'Lamar Mccall',  'gender': 'M',  'height': 172, 'married': False},\n",
    "    {'id': 7,  'name': 'Nayda Aguilar', 'gender': 'M',  'height': 163, 'married': False},\n",
    "    {'id': 8,  'name': 'Lucy Heath',    'gender': 'F',  'height': 169, 'married': True},\n",
    "    {'id': 9,  'name': 'Devin Patrick', 'gender': 'F',  'height': 176, 'married': True},\n",
    "    {'id': 10, 'name': 'Kaseem Valen',  'gender': 'F',  'height': 197, 'married': True},\n",
    "    {'id': 11, 'name': 'Jen Jennings',  'gender': 'M',  'height': 188, 'married': False},\n",
    "    {'id': 12, 'name': 'Vincent Hahn',  'gender': 'F',  'height': 150,  'married': True},\n",
    "    {'id': 13, 'name': 'Harriet Lee',   'gender': 'F',  'height': 164, 'married': False},\n",
    "    {'id': 14, 'name': 'Mikayla Dodson','gender': 'F',  'height': 156, 'married': True},\n",
    "    {'id': 15, 'name': 'Solomon Welch', 'gender': 'M',  'height': 162, 'married': True},\n",
    "    {'id': 16, 'name': 'Randall Juarez','gender': 'F',  'height': 196, 'married': False},\n",
    "    {'id': 17, 'name': 'Camilla Harvey','gender': 'M',  'height': 159, 'married': False},\n",
    "    {'id': 18, 'name': 'Hardy Cameron', 'gender': 'F',  'height': 196, 'married': False},\n",
    "    {'id': 19, 'name': 'Cullen Mejia',  'gender': 'F',  'height': 188, 'married': True},\n",
    "    {'id': 20, 'name': 'Isaiah Black',  'gender': 'M',  'height': 150,  'married': True},\n",
    "]"
   ]
  },
  {
   "cell_type": "code",
   "execution_count": 74,
   "id": "77a1f957",
   "metadata": {
    "ExecuteTime": {
     "end_time": "2022-03-30T23:46:57.508578Z",
     "start_time": "2022-03-30T23:46:57.503031Z"
    }
   },
   "outputs": [
    {
     "data": {
      "text/plain": [
       "[{'id': 1,\n",
       "  'name': 'Chase Mclean',\n",
       "  'gender': 'F',\n",
       "  'height': 1.78,\n",
       "  'married': True},\n",
       " {'id': 2,\n",
       "  'name': 'Lu Fernandez',\n",
       "  'gender': 'F',\n",
       "  'height': 1.53,\n",
       "  'married': False}]"
      ]
     },
     "execution_count": 74,
     "metadata": {},
     "output_type": "execute_result"
    }
   ],
   "source": [
    "# 1. Ajustar alturas. Converter de cm para m. ***map()*** e ***lambda*** \n",
    "\n",
    "users = list(\n",
    "    map( \n",
    "        lambda usuario: {'id': usuario['id'],  'name': usuario['name'], \\\n",
    "                         'gender': usuario['gender'],  'height': usuario['height'] / 100, \\\n",
    "                         'married': usuario['married'] \n",
    "                        }, \n",
    "        users \n",
    "       )\n",
    ")\n",
    "\n",
    "users[:2]"
   ]
  },
  {
   "cell_type": "code",
   "execution_count": 75,
   "id": "22f4bf98",
   "metadata": {
    "ExecuteTime": {
     "end_time": "2022-03-30T23:53:07.552632Z",
     "start_time": "2022-03-30T23:53:07.545396Z"
    }
   },
   "outputs": [
    {
     "data": {
      "text/plain": [
       "[{'id': 1,\n",
       "  'name': 'Chase Mclean',\n",
       "  'gender': 0,\n",
       "  'height': 1.78,\n",
       "  'married': True},\n",
       " {'id': 2,\n",
       "  'name': 'Lu Fernandez',\n",
       "  'gender': 0,\n",
       "  'height': 1.53,\n",
       "  'married': False}]"
      ]
     },
     "execution_count": 75,
     "metadata": {},
     "output_type": "execute_result"
    }
   ],
   "source": [
    "# 2. Encoding do campo gender. F -> 0, M -> 1. ***map()*** e ***lambda*** \n",
    "\n",
    "users = list( map( lambda usuario: {'id': usuario['id'],  'name': usuario['name'], \\\n",
    "                         'gender': 0,  'height': usuario['height'], \\\n",
    "                         'married': usuario['married'] } if usuario['gender'] == 'F' else \\\n",
    "                         {'id': usuario['id'],  'name': usuario['name'], \\\n",
    "                         'gender': 1,  'height': usuario['height'], \\\n",
    "                         'married': usuario['married']}\n",
    "                  , \n",
    "                  users ) )\n",
    "\n",
    "users[:2]"
   ]
  },
  {
   "cell_type": "code",
   "execution_count": 76,
   "id": "c228fb71",
   "metadata": {
    "ExecuteTime": {
     "end_time": "2022-03-30T23:54:32.445779Z",
     "start_time": "2022-03-30T23:54:32.443509Z"
    }
   },
   "outputs": [],
   "source": [
    "# def adjust_gender(user):\n",
    "#     return {\n",
    "#         'id': user['id'],\n",
    "#         'name': user['name'],\n",
    "#         'gender': 0 if user['gender'] == 'F' else 1,\n",
    "#         'height': user['height'], \n",
    "#         'married': user['married']\n",
    "#     }\n",
    "\n",
    "\n",
    "# users = list(map(adjust_gender, users))\n",
    "\n",
    "# users[0]"
   ]
  },
  {
   "cell_type": "code",
   "execution_count": 79,
   "id": "f64cfecb",
   "metadata": {
    "ExecuteTime": {
     "end_time": "2022-03-30T23:57:21.657723Z",
     "start_time": "2022-03-30T23:57:21.652878Z"
    }
   },
   "outputs": [
    {
     "data": {
      "text/plain": [
       "{'id': 3, 'name': 'Skyler Levy', 'gender': 1, 'height': 1.94, 'married': False}"
      ]
     },
     "execution_count": 79,
     "metadata": {},
     "output_type": "execute_result"
    }
   ],
   "source": [
    "# 3. Selecione e crie uma lista com somente os usuários que não sejam casados. Utilize a função ***filter()*** e ***lambda***.\n",
    "\n",
    "nao_casados = list( filter( lambda usuario: True if usuario['married'] == False else False, users ) )\n",
    "nao_casados[1]"
   ]
  },
  {
   "cell_type": "code",
   "execution_count": 82,
   "id": "54c9da81",
   "metadata": {
    "ExecuteTime": {
     "end_time": "2022-03-30T23:59:22.231821Z",
     "start_time": "2022-03-30T23:59:22.225949Z"
    }
   },
   "outputs": [
    {
     "data": {
      "text/plain": [
       "{'id': 5,\n",
       " 'name': 'Erasmus Fuller',\n",
       " 'gender': 1,\n",
       " 'height': 1.96,\n",
       " 'married': True}"
      ]
     },
     "execution_count": 82,
     "metadata": {},
     "output_type": "execute_result"
    }
   ],
   "source": [
    "# 4. Selecione e cria uma lista com somente os usuários que sejam homens e casados. Utilize a função ***filter()*** e ***lambda***.\n",
    "homens_casados = list( filter( lambda usuario: True if usuario['married'] == True and usuario['gender'] == 1 else False, users ) )\n",
    "\n",
    "homens_casados[0]"
   ]
  },
  {
   "cell_type": "code",
   "execution_count": 85,
   "id": "201cfad3",
   "metadata": {
    "ExecuteTime": {
     "end_time": "2022-03-31T00:04:07.113883Z",
     "start_time": "2022-03-31T00:04:07.107005Z"
    }
   },
   "outputs": [
    {
     "data": {
      "text/plain": [
       "[{'id': 2,\n",
       "  'name': 'Lu Fernandez',\n",
       "  'gender': 0,\n",
       "  'height': 1.53,\n",
       "  'married': False},\n",
       " {'id': 4,\n",
       "  'name': 'Patrick Kemp',\n",
       "  'gender': 1,\n",
       "  'height': 1.86,\n",
       "  'married': False},\n",
       " {'id': 6,\n",
       "  'name': 'Lamar Mccall',\n",
       "  'gender': 1,\n",
       "  'height': 1.72,\n",
       "  'married': False},\n",
       " {'id': 16,\n",
       "  'name': 'Randall Juarez',\n",
       "  'gender': 0,\n",
       "  'height': 1.96,\n",
       "  'married': False},\n",
       " {'id': 18,\n",
       "  'name': 'Hardy Cameron',\n",
       "  'gender': 0,\n",
       "  'height': 1.96,\n",
       "  'married': False},\n",
       " {'id': 20,\n",
       "  'name': 'Isaiah Black',\n",
       "  'gender': 1,\n",
       "  'height': 1.5,\n",
       "  'married': True}]"
      ]
     },
     "execution_count": 85,
     "metadata": {},
     "output_type": "execute_result"
    }
   ],
   "source": [
    "# 5. Selecione e crie uma nova lista com os usuários que possuem o ID par e que não estejam dentro do intervalo de 8 a 14. Crie uma função que fará a seleção. Essa função deverá ser utilizada em conjunto com a função ***filter()***\n",
    "intervalo = list(range(8, 15))\n",
    "\n",
    "users_int = list(filter( lambda usuario: True if usuario['id'] not in intervalo and usuario['id'] % 2 == 0 else False , users))\n",
    "\n",
    "users_int"
   ]
  },
  {
   "cell_type": "code",
   "execution_count": 100,
   "id": "31276a21",
   "metadata": {
    "ExecuteTime": {
     "end_time": "2022-03-31T00:24:34.074261Z",
     "start_time": "2022-03-31T00:24:34.068033Z"
    },
    "code_folding": []
   },
   "outputs": [
    {
     "data": {
      "text/plain": [
       "[{'id': 1,\n",
       "  'name': 'Chase Mclean',\n",
       "  'gender': 0,\n",
       "  'height': 1.78,\n",
       "  'married': True},\n",
       " {'id': 4,\n",
       "  'name': 'Patrick Kemp',\n",
       "  'gender': 1,\n",
       "  'height': 1.86,\n",
       "  'married': False},\n",
       " {'id': 5,\n",
       "  'name': 'Erasmus Fuller',\n",
       "  'gender': 1,\n",
       "  'height': 1.96,\n",
       "  'married': True}]"
      ]
     },
     "execution_count": 100,
     "metadata": {},
     "output_type": "execute_result"
    }
   ],
   "source": [
    "# 6. Crie uma **função aninhada** para que seja possível passarmos uma lista contendo os IDs que desejamos selecionar da nossa base de dados. Essa função deverá ser utilizada em conjunto com a função ***filter()***. Os dados selecionados devem estar dentro de uma lista.\n",
    "\n",
    "ids = [1, 4, 5]\n",
    "\n",
    "\n",
    "def externa_6(ids_desejados):\n",
    "    \n",
    "    def interna_6(usuario):\n",
    "        # calculos\n",
    "        return True if usuario['id'] in ids_desejados else False\n",
    "        \n",
    "    return interna_6\n",
    "\n",
    "\n",
    "filtro = externa_6(ids)\n",
    "# filtro\n",
    "\n",
    "filtrados = list(filter( filtro, users ))\n",
    "filtrados"
   ]
  },
  {
   "cell_type": "code",
   "execution_count": 103,
   "id": "15e17ce0",
   "metadata": {
    "ExecuteTime": {
     "end_time": "2022-03-31T00:25:13.079701Z",
     "start_time": "2022-03-31T00:25:13.073977Z"
    }
   },
   "outputs": [
    {
     "data": {
      "text/plain": [
       "[{'id': 8, 'name': 'Lucy Heath', 'gender': 0, 'height': 1.69, 'married': True}]"
      ]
     },
     "execution_count": 103,
     "metadata": {},
     "output_type": "execute_result"
    }
   ],
   "source": [
    "# 7. Crie uma **função aninhada** para que seja possível passarmos uma lista contendo os limites inferior e superior de altura dos usuários que desejamos selecionar da nossa base de dados. Essa função deverá ser utilizada em conjunto com a função ***filter()***. Os dados selecionados devem estar dentro de uma lista.\n",
    "\n",
    "\n",
    "lim_inf = 1.65\n",
    "lim_sup = 1.70\n",
    "\n",
    "def externa_7(limites_inferior, limite_superior):\n",
    "    \n",
    "    def interna_7(usuario):\n",
    "        # calculos\n",
    "        return True if limites_inferior <= usuario['height'] <= limite_superior else False\n",
    "        \n",
    "    return interna_7\n",
    "\n",
    "\n",
    "filtro_7 = externa_7(lim_inf, lim_sup)\n",
    "\n",
    "filtrados = list(filter(filtro_7, users))\n",
    "filtrados"
   ]
  },
  {
   "cell_type": "code",
   "execution_count": 104,
   "id": "58b23139",
   "metadata": {
    "ExecuteTime": {
     "end_time": "2022-03-31T00:33:25.005746Z",
     "start_time": "2022-03-31T00:33:25.000998Z"
    }
   },
   "outputs": [
    {
     "data": {
      "text/plain": [
       "{'nome': 'Pedro Ferraresi', 'conta': 123456, 'saldo': 100}"
      ]
     },
     "execution_count": 104,
     "metadata": {},
     "output_type": "execute_result"
    }
   ],
   "source": [
    "pedro = {'nome': 'Pedro Ferraresi', 'conta': 123456, 'saldo': 100}\n",
    "pedro"
   ]
  },
  {
   "cell_type": "code",
   "execution_count": 110,
   "id": "8a2bdc50",
   "metadata": {
    "ExecuteTime": {
     "end_time": "2022-03-31T00:37:55.784117Z",
     "start_time": "2022-03-31T00:37:55.780371Z"
    }
   },
   "outputs": [],
   "source": [
    "def externa_exp():\n",
    "    \n",
    "    def interna_exp(user):\n",
    "        user['saldo'] += 100\n",
    "        print(user['saldo'])\n",
    "        print(f'O nome do usuario é {user[\"nome\"]} e sua conta é {user[\"conta\"]}')\n",
    "    \n",
    "    return interna_exp"
   ]
  },
  {
   "cell_type": "code",
   "execution_count": 111,
   "id": "332930b4",
   "metadata": {
    "ExecuteTime": {
     "end_time": "2022-03-31T00:37:55.965732Z",
     "start_time": "2022-03-31T00:37:55.961885Z"
    }
   },
   "outputs": [
    {
     "data": {
      "text/plain": [
       "<function __main__.externa_exp.<locals>.interna_exp(user)>"
      ]
     },
     "execution_count": 111,
     "metadata": {},
     "output_type": "execute_result"
    }
   ],
   "source": [
    "func = externa_exp()\n",
    "func"
   ]
  },
  {
   "cell_type": "code",
   "execution_count": 112,
   "id": "6c719d76",
   "metadata": {
    "ExecuteTime": {
     "end_time": "2022-03-31T00:38:00.384226Z",
     "start_time": "2022-03-31T00:38:00.381155Z"
    }
   },
   "outputs": [
    {
     "name": "stdout",
     "output_type": "stream",
     "text": [
      "300\n",
      "O nome do usuario é Pedro Ferraresi e sua conta é 123456\n"
     ]
    }
   ],
   "source": [
    "func(pedro)"
   ]
  },
  {
   "cell_type": "code",
   "execution_count": null,
   "id": "33e0840c",
   "metadata": {},
   "outputs": [],
   "source": []
  },
  {
   "cell_type": "code",
   "execution_count": null,
   "id": "0770ab21",
   "metadata": {},
   "outputs": [],
   "source": []
  },
  {
   "cell_type": "code",
   "execution_count": null,
   "id": "66a1fb08",
   "metadata": {},
   "outputs": [],
   "source": []
  },
  {
   "cell_type": "code",
   "execution_count": null,
   "id": "0e7519d6",
   "metadata": {},
   "outputs": [],
   "source": []
  },
  {
   "cell_type": "code",
   "execution_count": null,
   "id": "80f63ada",
   "metadata": {},
   "outputs": [],
   "source": []
  },
  {
   "cell_type": "code",
   "execution_count": null,
   "id": "68e57919",
   "metadata": {},
   "outputs": [],
   "source": []
  }
 ],
 "metadata": {
  "kernelspec": {
   "display_name": "Python 3 (ipykernel)",
   "language": "python",
   "name": "python3"
  },
  "language_info": {
   "codemirror_mode": {
    "name": "ipython",
    "version": 3
   },
   "file_extension": ".py",
   "mimetype": "text/x-python",
   "name": "python",
   "nbconvert_exporter": "python",
   "pygments_lexer": "ipython3",
   "version": "3.9.9"
  },
  "latex_envs": {
   "LaTeX_envs_menu_present": true,
   "autoclose": false,
   "autocomplete": true,
   "bibliofile": "biblio.bib",
   "cite_by": "apalike",
   "current_citInitial": 1,
   "eqLabelWithNumbers": true,
   "eqNumInitial": 1,
   "hotkeys": {
    "equation": "Ctrl-E",
    "itemize": "Ctrl-I"
   },
   "labels_anchors": false,
   "latex_user_defs": false,
   "report_style_numbering": false,
   "user_envs_cfg": false
  }
 },
 "nbformat": 4,
 "nbformat_minor": 5
}
