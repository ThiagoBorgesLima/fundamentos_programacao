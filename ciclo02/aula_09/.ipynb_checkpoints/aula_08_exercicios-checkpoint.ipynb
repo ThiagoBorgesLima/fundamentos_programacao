{
 "cells": [
  {
   "cell_type": "markdown",
   "id": "3b31edc0",
   "metadata": {},
   "source": [
    "# EXERCÍCIO 1"
   ]
  },
  {
   "cell_type": "markdown",
   "id": "d684925e",
   "metadata": {
    "ExecuteTime": {
     "end_time": "2021-11-10T13:24:17.112870Z",
     "start_time": "2021-11-10T13:24:17.109021Z"
    }
   },
   "source": [
    "## Problema"
   ]
  },
  {
   "cell_type": "markdown",
   "id": "031a8f1f",
   "metadata": {
    "ExecuteTime": {
     "end_time": "2021-11-10T13:24:59.051951Z",
     "start_time": "2021-11-10T13:24:59.048376Z"
    }
   },
   "source": [
    "Seu líder te apresentou a seguinte estrutura de dados:\n",
    "\n",
    "```python\n",
    "[\n",
    "    {'id': 1,  'name': 'Chase Mclean',  'gender': 'F',  'heigth': 0.0178, 'married': True},\n",
    "    {'id': 2,  'name': 'Lu Fernandez',  'gender': 'F',  'heigth': 0.0153, 'married': False},\n",
    "    {'id': 3,  'name': 'Skyler Levy',   'gender': 'M',  'heigth': 0.0194, 'married': False},\n",
    "    {'id': 4,  'name': 'Patrick Kemp',  'gender': 'M',  'heigth': 0.0186, 'married': False},\n",
    "    {'id': 5,  'name': 'Erasmus Fuller','gender': 'M',  'heigth': 0.0196, 'married': True},\n",
    "    {'id': 6,  'name': 'Lamar Mccall',  'gender': 'M',  'heigth': 0.0172, 'married': False},\n",
    "    {'id': 7,  'name': 'Nayda Aguilar', 'gender': 'M',  'heigth': 0.0163, 'married': False},\n",
    "    {'id': 8,  'name': 'Lucy Heath',    'gender': 'F',  'heigth': 0.0169, 'married': True},\n",
    "    {'id': 9,  'name': 'Devin Patrick', 'gender': 'F',  'heigth': 0.0176, 'married': True},\n",
    "    {'id': 10, 'name': 'Kaseem Valen',  'gender': 'F',  'heigth': 0.0197, 'married': True},\n",
    "    {'id': 11, 'name': 'Jen Jennings',  'gender': 'M',  'heigth': 0.0188, 'married': False},\n",
    "    {'id': 12, 'name': 'Vincent Hahn',  'gender': 'F',  'heigth': 0.015,  'married': True},\n",
    "    {'id': 13, 'name': 'Harriet Lee',   'gender': 'F',  'heigth': 0.0164, 'married': False},\n",
    "    {'id': 14, 'name': 'Mikayla Dodson','gender': 'F',  'heigth': 0.0156, 'married': True},\n",
    "    {'id': 15, 'name': 'Solomon Welch', 'gender': 'M',  'heigth': 0.0162, 'married': True},\n",
    "    {'id': 16, 'name': 'Randall Juarez','gender': 'F',  'heigth': 0.0196, 'married': False},\n",
    "    {'id': 17, 'name': 'Camilla Harvey','gender': 'M',  'heigth': 0.0159, 'married': False},\n",
    "    {'id': 18, 'name': 'Hardy Cameron', 'gender': 'F',  'heigth': 0.0196, 'married': False},\n",
    "    {'id': 19, 'name': 'Cullen Mejia',  'gender': 'F',  'heigth': 0.0188, 'married': True},\n",
    "    {'id': 20, 'name': 'Isaiah Black',  'gender': 'M',  'heigth': 0.015,  'married': True},\n",
    "]\n",
    "```\n",
    "\n",
    "E pediu para que você executasse os seguintes ajustes:\n",
    "1. As alturas estão com unidade de medida em cm (centímetro). É necessário que seja ajustado para a unidade de medida em metro (m). Utilize as funções ***map()*** e ***lambda*** para realizar esse ajuste.\n",
    "2. As informações do campo gender estão com as letras 'F' ou 'M' para identificar Feminino e Masculino, respectivamente. É necessário trocar a identificação para 0 e 1, sendo 0 Feminino e 1 Masculino. Utilize as funções ***map()*** e ***lambda*** para realizar esse ajuste.\n",
    "3. selecione e crie uma lista com somente os usuários que não sejam casados. Utilize a função ***filter()*** e ***lambda***.\n",
    "4. Selecione e cria uma lista com somente os usuários que sejam homens e casados. Utilize a função ***filter()*** e ***lambda***.\n",
    "5. Selecione e crie uma nova lista com os usuários que possuem o ID par e que não estejam dentro do intervalo de 8 a 14. Crie uma função que fará a seleção. Essa função deverá ser utilizada em conjunto com a função ***filter()***\n",
    "6. Crie uma **função aninhada** para que seja possível passarmos uma lista contendo os IDs que desejamos selecionar da nossa base de dados. Essa função deverá ser utilizada em conjunto com a função ***filter()***. Os dados selecionados devem estar dentro de uma lista.\n",
    "7. Crie uma **função aninhada** para que seja possível passarmos uma lista contendo os limites inferior e superior de altura dos usuários que desejamos selecionar da nossa base de dados. Essa função deverá ser utilizada em conjunto com a função ***filter()***. Os dados selecionados devem estar dentro de uma lista."
   ]
  },
  {
   "cell_type": "code",
   "execution_count": null,
   "id": "a9d0e48a",
   "metadata": {},
   "outputs": [],
   "source": []
  }
 ],
 "metadata": {
  "kernelspec": {
   "display_name": "Python 3.8.11 64-bit ('3.8.11': pyenv)",
   "language": "python",
   "name": "python3811jvsc74a57bd016c98fcc13804c079c0e605033a1ae10a459b3686638e04aa6e2e124f32781c0"
  },
  "language_info": {
   "codemirror_mode": {
    "name": "ipython",
    "version": 3
   },
   "file_extension": ".py",
   "mimetype": "text/x-python",
   "name": "python",
   "nbconvert_exporter": "python",
   "pygments_lexer": "ipython3",
   "version": "3.8.11"
  },
  "latex_envs": {
   "LaTeX_envs_menu_present": true,
   "autoclose": false,
   "autocomplete": true,
   "bibliofile": "biblio.bib",
   "cite_by": "apalike",
   "current_citInitial": 1,
   "eqLabelWithNumbers": true,
   "eqNumInitial": 1,
   "hotkeys": {
    "equation": "Ctrl-E",
    "itemize": "Ctrl-I"
   },
   "labels_anchors": false,
   "latex_user_defs": false,
   "report_style_numbering": false,
   "user_envs_cfg": false
  }
 },
 "nbformat": 4,
 "nbformat_minor": 5
}
