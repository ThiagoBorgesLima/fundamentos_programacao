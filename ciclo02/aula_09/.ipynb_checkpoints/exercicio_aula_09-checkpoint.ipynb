{
 "cells": [
  {
   "cell_type": "markdown",
   "id": "f66f5ab2",
   "metadata": {},
   "source": [
    "# EXERCÍCIO"
   ]
  },
  {
   "cell_type": "markdown",
   "id": "6141d387",
   "metadata": {},
   "source": [
    "Utilizando o arquivo **anv.csv** como base de dados, faça a leitura e processamento do arquivo **csv** e crie os arquivos conforme descritos abaixo. Além disso, crie as funções conforme descrito abaixo.\n",
    "\n",
    "Utilize os códigos prontos do exemplo dado na **Aula 4**. Refatore o que for necessário para satisfazer as necessidades técnicas para que as funções funcionem corretamente.\n",
    "\n",
    "Deve ser criado um módulo chamado `cds_read_file.py`, que irá manter a função `read_file()`; Um módulo chamado `cds_write_file.py`, que irá manter as funções `save_json()` e `save_csv()`; Um módulo chamado `cds_helpers.py`, que irá manter a função `select_damage_level()`. Os módulos gerados devem estar dentro de um diretório chamado `exemplo\\helper_pkg`.\n",
    "\n",
    "Caso você ache necessário, criei mais funções além das descritas acima. A única regra é que a função criada esteja dentro de um dos módulos.\n",
    "\n",
    "Utilize a função `try .. except` para contonar possíveis erros na criação dos arquivos `csv` e `json`, tornando assim a sua aplicação mais robusta a erros.\n",
    "\n",
    "Através do Jupyter, utilize os Módulos produzidos para ler e gerar os arquivos solicitados.\n",
    "\n",
    "**Extra:** [How to Create Python Packages](https://towardsdatascience.com/how-to-package-your-python-code-df5a7739ab2e), [Making a Python Package](https://python-packaging-tutorial.readthedocs.io/en/latest/setup_py.html) e [How to Create and Upload Your First Python Package to PyPI](https://www.freecodecamp.org/news/how-to-create-and-upload-your-first-python-package-to-pypi/)"
   ]
  },
  {
   "cell_type": "markdown",
   "id": "e11bc4fd",
   "metadata": {},
   "source": [
    "## Arquivo 1"
   ]
  },
  {
   "cell_type": "markdown",
   "id": "54c951a7",
   "metadata": {},
   "source": [
    "O primeiro arquivo deve ter seu conteúdo em formato JSON, com o nome `statistics.json`, e deve possuir as as estatísticas: \n",
    "* fase de operação\n",
    "* número de total de ocorrências\n",
    "* percentual de quanto essa fase representa dentro de todos os dados\n",
    "\n",
    "\n",
    "Exemplo de como deve estar o arquivo:\n",
    "```json\n",
    "[\n",
    "  {\n",
    "    \"fase_operacao\": \"APROXIMAÇÃO FINAL\", \n",
    "    \"ocorrencias\": 234,\n",
    "    \"percentual\": \"4,51%\"\n",
    "  },\n",
    "  {\n",
    "    \"fase_operacao\": \"INDETERMINADA\", \n",
    "    \"ocorrencias\": 180,\n",
    "    \"percentual\": \"2,43%\"\n",
    "  },\n",
    "  {\n",
    "    \"fase_operacao\": \"MANOBRA\", \n",
    "    \"ocorrencias\": 80,\n",
    "    \"percentual\": \"0,95%\"\n",
    "  }\n",
    "]\n",
    "```"
   ]
  },
  {
   "cell_type": "markdown",
   "id": "a231756a",
   "metadata": {
    "heading_collapsed": true
   },
   "source": [
    "## Arquivo 2"
   ]
  },
  {
   "cell_type": "markdown",
   "id": "36b2dd85",
   "metadata": {
    "hidden": true
   },
   "source": [
    "O segundo arquivo deve ter o formato `csv` e o nome `levels.csv` contendo as seguintes informações:\n",
    "* operation -> aeronave_operador_categoria\n",
    "* type -> aeronave_tipo_veiculo\n",
    "* manufacturer -> aeronave_fabricante\n",
    "* engine_type aeronave_motor_tipo\n",
    "* engines -> aeronave_motor_quantidade\n",
    "* year_manufacturing -> aeronave_ano_fabricacao\n",
    "* seating -> aeronave_assentos\n",
    "* fatalities -> total_fatalidades\n",
    "\n",
    "Essas informações deve ser `filtradas conforme o dano da aeronave`. O dano deve ser selecionado pelo usuário utilizando a função `select_damage_level()`."
   ]
  },
  {
   "cell_type": "markdown",
   "id": "e461dd78",
   "metadata": {},
   "source": [
    "## Funções"
   ]
  },
  {
   "cell_type": "markdown",
   "id": "0774b154",
   "metadata": {},
   "source": [
    "### Função `read_file()`:"
   ]
  },
  {
   "cell_type": "markdown",
   "id": "2daf669a",
   "metadata": {},
   "source": [
    "1. A função deve ser responsável por fazer a leitura de um arquivo e devolver uma lista com os dados em estrutura de dicionário; (Observe exemplo abaixo)\n",
    "2. A função deve utilizar o módulo `csv` para a leitura do arquivo;\n",
    "3. A função deve ter uma assinatura que permita o usuário dela possa informar qual o `encoding` será utilizado, qual o `delimiter` será utilizado e qual o `quotechar` será utilizado. Além do caminho do arquivo que será lido;\n",
    "4. Os valores padrão para os parâmetros são:\n",
    "    - `delimiter = ','`\n",
    "    - `quotechar=''`\n",
    "    - `encoding = 'utf-8'`\n",
    "5. Essa função deve estar escrita em um módulo chamado `cds_read_file.py`;\n",
    "\n",
    "\n",
    "```python\n",
    "# Exemplo do Retorno da Função read_file()\n",
    "[\n",
    "    {'codigo_ocorrencia': '201106142171203', ..., 'aeronave_dia_extracao': '2018-07-09'},\n",
    "    {'codigo_ocorrencia': '200804256669287', ..., 'aeronave_dia_extracao': '2018-07-09'},\n",
    "    ...\n",
    "    {'codigo_ocorrencia': '200811166771745', ..., 'aeronave_dia_extracao': '2018-07-09'}\n",
    "]\n",
    "```"
   ]
  },
  {
   "cell_type": "markdown",
   "id": "a85d9c2b",
   "metadata": {},
   "source": [
    "### Função `save_json()`:"
   ]
  },
  {
   "cell_type": "markdown",
   "id": "93a6b202",
   "metadata": {},
   "source": [
    "1. A função deve ser responsável por escrever o conteúdo e salvar o arquivo no local informado;\n",
    "2. A função deve retornar um `print()` em tela com o texto `Arquivo Criado com Sucesso` caso a escrita tenha sido feita com sucesso. Caso tenha havido alguma falha na escrita do arquivo, deve retornar um `print()` em tela com o texto `Erro ao criar o arquivo: `, e junto a essa frase, exibir os erros ocorridos;\n",
    "3. O conteúdo de saída do arquivo deve seguir as diretrizes do `Arquivo 1` na seção acima;\n",
    "4. A função deve ter uma assinatura que permita o usuário informar qual o `nome` do arquivo que será gerado, como também o `caminho de diretórios` em que o arquivo será salvo. Além dos dados que serão utilizados para a criação do arquivo.\n",
    "5. Os valores padrão para os parâmetros são:\n",
    "    - `filename = 'statistics'`\n",
    "    - `path = 'json_out'`\n",
    "6. Essa função deve estrar escrita no módulo chamdo `cds_write_files.py`;\n",
    "7. A função deverá utilizar o pacote `json` do Python para fazer a escrita do arquivo;\n",
    "8. A função deve ser capaz de criar o `diretório` caso ele não exista; (**OPCIONAL**)"
   ]
  },
  {
   "cell_type": "markdown",
   "id": "2edcf51d",
   "metadata": {
    "heading_collapsed": true
   },
   "source": [
    "### Função `save_csv()`:"
   ]
  },
  {
   "cell_type": "markdown",
   "id": "a9ae3875",
   "metadata": {
    "hidden": true
   },
   "source": [
    "1. A função deve ser responsável por escrever o conteúdo e salvar o arquivo no local informado;\n",
    "2. A função deve retornar um `print()` em tela com o texto `Arquivo Criado com Sucesso` caso a escrita tenha sido feita com sucesso. Caso tenha havido alguma falha na escrita do arquivo, deve retornar um `print()` em tela com o texto `Erro ao criar o arquivo: `, e junto a essa frase, exibir os erros ocorridos;\n",
    "3. O conteúdo de saída do arquivo deve seguir as diretrizes do `Arquivo 2` na seção acima;\n",
    "4. A função deve ter uma assinatura que permita o usuário informar qual a opção (`op`) selecionada, qual o `nome` do arquivo que será gerado, como também o `caminho de diretórios` em que o arquivo será salvo. Além dos dados que serão utilizados para a criação do arquivo.\n",
    "5. Os valores padrão para os parâmetros são:\n",
    "    - `op = 0`\n",
    "    - `filename = 'levels'`\n",
    "    - `path = 'csv_out'`\n",
    "6. Essa função deve estrar escrita no módulo chamdo `cds_write_files.py`;\n",
    "7. O cabeçalho do arquivo `csv` que será gerado deve ser fixo e deve estar dentro da função;\n",
    "8. A função deverá utilizar o módulo `csv` para fazer a escrita do arquivo;\n",
    "9. A função deve ser capaz de criar o `diretório` caso ele não exista; (**OPCIONAL**)"
   ]
  },
  {
   "cell_type": "markdown",
   "id": "7a57acb5",
   "metadata": {
    "heading_collapsed": true
   },
   "source": [
    "### Função `select_damage_level()`:"
   ]
  },
  {
   "cell_type": "markdown",
   "id": "873254a5",
   "metadata": {
    "hidden": true
   },
   "source": [
    "1. A função deve ser capaz ler os dados gerados pela função `read_file()` para gerar todas as categorias de danos nas aeronaves;\n",
    "2. O conteúdo de retorno deve ser a categoria escolhida (texto);\n",
    "3. A função deve imprimir para o usuário o texto conforme exemplo abaixo;\n",
    "4. A função deve ser capaz de escrever as categorias de forma dinâmica. Ou seja, caso seja inserido um novo dado com uma nova categoria, a função deve ser capaz de tratar isso;\n",
    "5. Essa função deve estrar escrita no módulo chamdo `helpers.py`;\n",
    "\n",
    "```python\n",
    "'Selecione a categoria de dano desejada através dos seus respectivos códigos.'\n",
    "'0 = SUBSTANCIAL; 1 = NENHUM; 2 = LEVE; 3 = INDETERMINADO; 4 = DESTRUÍDA; '\n",
    "```"
   ]
  },
  {
   "cell_type": "markdown",
   "id": "07026ffd",
   "metadata": {},
   "source": [
    "## Resolução"
   ]
  },
  {
   "cell_type": "markdown",
   "id": "5d8c90bd",
   "metadata": {},
   "source": [
    "A saída dos módulos deve seguir o seguinte fluxo:"
   ]
  },
  {
   "cell_type": "code",
   "execution_count": 1,
   "id": "fe9be42a",
   "metadata": {
    "ExecuteTime": {
     "end_time": "2022-04-13T23:17:56.479328Z",
     "start_time": "2022-04-13T23:17:56.472274Z"
    }
   },
   "outputs": [],
   "source": [
    "# Imports dos Módulos com apelidos (aliases)\n",
    "from exemplo.helper_pkg.cds_read_file import read_file as rf\n",
    "from exemplo.helper_pkg.cds_write_file import save_json as sj\n",
    "from exemplo.helper_pkg.cds_write_file import save_csv as sc"
   ]
  },
  {
   "cell_type": "code",
   "execution_count": 27,
   "id": "436ce320",
   "metadata": {
    "ExecuteTime": {
     "end_time": "2022-04-14T01:05:51.635081Z",
     "start_time": "2022-04-14T01:05:51.632721Z"
    }
   },
   "outputs": [],
   "source": [
    "# Definição do caminho do arquivo de entrada\n",
    "file_path = 'csv/anv.csv'"
   ]
  },
  {
   "cell_type": "code",
   "execution_count": 30,
   "id": "5ec2ec94",
   "metadata": {
    "ExecuteTime": {
     "end_time": "2022-04-14T01:06:09.772545Z",
     "start_time": "2022-04-14T01:06:09.729411Z"
    },
    "scrolled": true
   },
   "outputs": [],
   "source": [
    "# Leitura e pré-processamento dos dados\n",
    "records = rf(file_path, delimiter = '~')\n",
    "# records[0]\n"
   ]
  },
  {
   "cell_type": "code",
   "execution_count": 31,
   "id": "815d03b2",
   "metadata": {
    "ExecuteTime": {
     "end_time": "2022-04-14T01:06:16.862101Z",
     "start_time": "2022-04-14T01:06:16.855487Z"
    }
   },
   "outputs": [
    {
     "name": "stdout",
     "output_type": "stream",
     "text": [
      "Arquivo Criado com sucesso\n"
     ]
    }
   ],
   "source": [
    "# Criação do arquivo JSON\n",
    "sj(records)\n"
   ]
  },
  {
   "cell_type": "code",
   "execution_count": 32,
   "id": "5ba9e079",
   "metadata": {
    "ExecuteTime": {
     "end_time": "2022-04-14T01:06:47.850051Z",
     "start_time": "2022-04-14T01:06:44.981739Z"
    }
   },
   "outputs": [
    {
     "name": "stdout",
     "output_type": "stream",
     "text": [
      "Selecione a categoria de dano desejada através dos seus respectivos códigos.\n",
      "0 = SUBSTANCIAL; 1 = NENHUM; 2 = LEVE; 3 = INDETERMINADO; 4 = DESTRUÍDA; \n",
      "4\n",
      "Arquivo Criado com sucesso\n"
     ]
    }
   ],
   "source": [
    "# Criação do arquivo CSV\n",
    "sc(records)"
   ]
  },
  {
   "cell_type": "markdown",
   "id": "1cebb465",
   "metadata": {
    "heading_collapsed": true
   },
   "source": [
    "### Módulo `cds_read_file`"
   ]
  },
  {
   "cell_type": "code",
   "execution_count": 19,
   "id": "58140784",
   "metadata": {
    "ExecuteTime": {
     "end_time": "2022-04-14T00:44:53.484030Z",
     "start_time": "2022-04-14T00:44:53.479577Z"
    },
    "hidden": true
   },
   "outputs": [],
   "source": [
    "import csv\n",
    "# Resolução\n",
    "# Função que irá processar o Arquivo\n",
    "\n",
    "def read_file(file_path, delimiter = ',', quotechar='\"', encoding = 'utf-8'):\n",
    "    \n",
    "    # Estruturas que serão utilizadas para produzir as respostas\n",
    "    retorno = []\n",
    "    \n",
    "    # Abre e processa o arquivo\n",
    "    with open(file_path, 'r', encoding=encoding) as f:\n",
    "        reader = csv.DictReader(f, delimiter=delimiter, quotechar=quotechar)\n",
    "        \n",
    "        # Itera pelas linhas do arquivo para \n",
    "        for row in reader:\n",
    "            retorno.append(row)\n",
    "            \n",
    "            \n",
    "    return retorno"
   ]
  },
  {
   "cell_type": "code",
   "execution_count": 20,
   "id": "b386a713",
   "metadata": {
    "ExecuteTime": {
     "end_time": "2022-04-14T00:44:53.638289Z",
     "start_time": "2022-04-14T00:44:53.635884Z"
    },
    "hidden": true
   },
   "outputs": [],
   "source": [
    "file_path = 'csv/anv.csv'"
   ]
  },
  {
   "cell_type": "code",
   "execution_count": 24,
   "id": "0658162d",
   "metadata": {
    "ExecuteTime": {
     "end_time": "2022-04-14T00:45:45.706971Z",
     "start_time": "2022-04-14T00:45:45.661471Z"
    },
    "hidden": true
   },
   "outputs": [],
   "source": [
    "records = read_file(file_path, delimiter='~')"
   ]
  },
  {
   "cell_type": "code",
   "execution_count": null,
   "id": "ae004b09",
   "metadata": {
    "hidden": true
   },
   "outputs": [],
   "source": []
  },
  {
   "cell_type": "code",
   "execution_count": null,
   "id": "9a8bd5dd",
   "metadata": {
    "hidden": true
   },
   "outputs": [],
   "source": []
  },
  {
   "cell_type": "markdown",
   "id": "1b4c8cba",
   "metadata": {
    "heading_collapsed": true
   },
   "source": [
    "### Módulo `cds_write_file`"
   ]
  },
  {
   "cell_type": "code",
   "execution_count": 25,
   "id": "dba8f8ee",
   "metadata": {
    "ExecuteTime": {
     "end_time": "2022-04-14T00:56:43.789134Z",
     "start_time": "2022-04-14T00:56:43.775060Z"
    },
    "code_folding": [
     10,
     87
    ],
    "hidden": true
   },
   "outputs": [],
   "source": [
    "# Resolução\n",
    "import csv\n",
    "import json\n",
    "import sys\n",
    "import os\n",
    "\n",
    "# Função que irá criar o arquivo JSON\n",
    "\n",
    "filename = 'statistics'\n",
    "path = 'json_out'\n",
    "def save_json(records, file_name = 'statistics', path = 'json_out'):\n",
    "    \n",
    "    # Lista que será escrita dentro do arquivo JSON\n",
    "    array_of_incidents = []\n",
    "    \n",
    "    # Pega a quantidade total de dados\n",
    "    count = len(records)\n",
    "    \n",
    "    # Dicionário criado para conter a estrutura\n",
    "    # desejada para o arquivo JSON\n",
    "    map_of_incidents = {}\n",
    "\n",
    "    # Itera sobre os registros\n",
    "    for record in records:\n",
    "\n",
    "        # Recupera o conteúdo da Fase de Operação\n",
    "        key = record['aeronave_fase_operacao']\n",
    "\n",
    "        # Verifica se a fase de operação separada\n",
    "        # ja está inserida dentro do conteúdo do \n",
    "        # arquivo. Se ainda não estiver, insere o \n",
    "        # registro com a contagem iniciando em 1, \n",
    "        # se já estiver, aumenta a contagem em 1 \n",
    "        if key in map_of_incidents:\n",
    "            map_of_incidents[key] += 1 # Se existir, incrementa mais mais um acidente\n",
    "        else:\n",
    "            map_of_incidents[key] = 1\n",
    "    \n",
    "    # Itera sobre o dicionário com os dados\n",
    "    for key, value in map_of_incidents.items():\n",
    "        # Cria o conteúdo que será escrito no arquivo\n",
    "        array_of_incidents.append(\n",
    "            {\n",
    "                \"fase_operacao\": key,\n",
    "                \"ocorrencias\": value,\n",
    "                \"percentual\":  '{:.2%}'.format(value / count)\n",
    "            }\n",
    "        )\n",
    "    \n",
    "    # Cria o arquivo com os dados ajustados\n",
    "    try:\n",
    "        # Cria o arquivo no caminho/diretório escolhido\n",
    "        # A biblioteca 'os' serve para conseguirmos criar\n",
    "        # tanto o arquivo quanto o diretório, caso ambos não\n",
    "        # existam\n",
    "        # Essa linha faz com que não ocorram erros na criação do arquivo\n",
    "        # os.makedirs(os.path.dirname(f'{path}/{file_name}.json'), exist_ok=True)\n",
    "    \n",
    "        with open(f'{path}/{file_name}.json', 'w', encoding='utf-8') as outfile:\n",
    "            json.dump(array_of_incidents, outfile, ensure_ascii=False, indent=4)\n",
    "        \n",
    "        print('Arquivo Criado com sucesso')\n",
    "    except:\n",
    "        print(F'ERRO AO CRIAR O ARQUIVO: {sys.exc_info()[0]} - {sys.exc_info()[1]}')\n",
    "\n",
    "\n",
    "# Função que irá criar o arquivo CSV\n",
    "def save_csv(records, op = 0, file_name = 'levels', path='csv_out'):\n",
    "    \n",
    "    # Lista que irá guardar os dados\n",
    "    list_of_incidents = []\n",
    "    \n",
    "    damage_level = choose_damage_level(records)\n",
    "    \n",
    "    # Cabeçalho do arquivo CSV\n",
    "    header = [\n",
    "        'operation',\n",
    "        'type',\n",
    "        'manufacturer',\n",
    "        'engine_type',\n",
    "        'engines',\n",
    "        'year_manufacturing',\n",
    "        'seating',\n",
    "        'fatalities'\n",
    "    ]\n",
    "    \n",
    "    # Itera sobre os registros\n",
    "    for row in records:\n",
    "        \n",
    "        # Verifica se \n",
    "        if row['aeronave_nivel_dano'] == damage_level:\n",
    "            # Adiciona as linhas selecionadas\n",
    "            list_of_incidents.append(\n",
    "                [\n",
    "                    row['aeronave_operador_categoria'],\n",
    "                    row['aeronave_tipo_veiculo'],\n",
    "                    row['aeronave_fabricante'],\n",
    "                    row['aeronave_motor_tipo'],\n",
    "                    row['aeronave_motor_quantidade'],\n",
    "                    row['aeronave_ano_fabricacao'],\n",
    "                    row['aeronave_assentos'],\n",
    "                    row['total_fatalidades']\n",
    "                ]\n",
    "            )\n",
    "\n",
    "    \n",
    "    # Cria o arquivo com os dados ajustados\n",
    "    try:\n",
    "        os.makedirs(os.path.dirname(f'{path}/{file_name}.csv'), exist_ok=True)\n",
    "        \n",
    "        with open(f'{path}/{file_name}.csv', 'w', encoding='utf8', newline='') as outfile:\n",
    "            w = csv.writer(outfile)\n",
    "            w.writerow(header)\n",
    "            w.writerows(list_of_incidents)\n",
    "        \n",
    "        print('Arquivo Criado com sucesso')\n",
    "    except:\n",
    "        print(F'ERRO AO CRIAR O ARQUIVO: {sys.exc_info()[0]} - {sys.exc_info()[1]}')    "
   ]
  },
  {
   "cell_type": "markdown",
   "id": "03e20dd5",
   "metadata": {
    "heading_collapsed": true
   },
   "source": [
    "### Módulo `cds_helpers`"
   ]
  },
  {
   "cell_type": "code",
   "execution_count": 16,
   "id": "afc279ef",
   "metadata": {
    "ExecuteTime": {
     "end_time": "2022-03-02T22:54:58.625850Z",
     "start_time": "2022-03-02T22:54:58.623694Z"
    },
    "code_folding": [],
    "hidden": true
   },
   "outputs": [],
   "source": [
    "# Resolução\n",
    "# Função responsável por criar a lista\n",
    "# Com todos os níveis de dano\n",
    "def select_damage_level(records):\n",
    "    \n",
    "    # Variável responsável por guardar os níveis de\n",
    "    # danos das aeronaves\n",
    "    uniques = {}\n",
    "\n",
    "    # Variável responsável por manter o valor da opção \n",
    "    # que será utilizada pelo usuário para selecionar\n",
    "    # o nível de dano da aeronave\n",
    "    option = 0\n",
    "\n",
    "    # Percorre a lista com os dados para criar o dicionario\n",
    "    # que conterá as opções:\n",
    "    # {'SUBSTANCIAL': 0, ..., 'DESTRUÍDA': 4}\n",
    "    for record in records:\n",
    "        if record['aeronave_nivel_dano'] not in uniques.keys():\n",
    "            uniques[record['aeronave_nivel_dano']] = option\n",
    "            option += 1\n",
    "    \n",
    "    return uniques\n",
    "\n",
    "\n",
    "# Função responsável por exibir as opções possíveis que\n",
    "# o usuário poderá selecionar\n",
    "def choose_damage_level(records):\n",
    "    \n",
    "    # Cria o dicionário com todas as opções de dano\n",
    "    damage_levels = select_damage_level(records)\n",
    "    \n",
    "    # Inicia a string que será exibida ao usuário\n",
    "    string = f'Selecione a categoria de dano desejada através dos seus respectivos códigos.\\n'\n",
    "            \n",
    "    # Percorre o dicionário com os valores do \n",
    "    # dicionário e cria a string que será\n",
    "    # exibida ao usuário\n",
    "    for key, value in damage_levels.items():\n",
    "        string += f'{value} = {key}; '\n",
    "\n",
    "    # Finaliza a string\n",
    "    string += f'\\n'\n",
    "    \n",
    "    # Recupera o dano escolhido pelo usuário    \n",
    "    op = int(input(string))\n",
    "    \n",
    "    # Devolve a string com o Dano selecionado\n",
    "    return list(damage_levels.keys()) [ list(damage_levels.values()).index(op) ]"
   ]
  }
 ],
 "metadata": {
  "kernelspec": {
   "display_name": "Python 3.8.12 64-bit ('pa005-3.8.12': pyenv)",
   "language": "python",
   "name": "python3812jvsc74a57bd0d1aaed0d54c5633c6e9d372bf4c47f0b42d9789d909d3d6d555bb4fdc739c330"
  },
  "language_info": {
   "codemirror_mode": {
    "name": "ipython",
    "version": 3
   },
   "file_extension": ".py",
   "mimetype": "text/x-python",
   "name": "python",
   "nbconvert_exporter": "python",
   "pygments_lexer": "ipython3",
   "version": "3.8.12"
  },
  "latex_envs": {
   "LaTeX_envs_menu_present": true,
   "autoclose": false,
   "autocomplete": true,
   "bibliofile": "biblio.bib",
   "cite_by": "apalike",
   "current_citInitial": 1,
   "eqLabelWithNumbers": true,
   "eqNumInitial": 1,
   "hotkeys": {
    "equation": "Ctrl-E",
    "itemize": "Ctrl-I"
   },
   "labels_anchors": false,
   "latex_user_defs": false,
   "report_style_numbering": false,
   "user_envs_cfg": false
  }
 },
 "nbformat": 4,
 "nbformat_minor": 5
}
