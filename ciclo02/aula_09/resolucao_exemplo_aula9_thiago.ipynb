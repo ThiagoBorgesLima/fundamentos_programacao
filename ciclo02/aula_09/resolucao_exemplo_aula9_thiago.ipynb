{
 "cells": [
  {
   "cell_type": "markdown",
   "id": "093495bf",
   "metadata": {},
   "source": [
    "# read_file( )"
   ]
  },
  {
   "cell_type": "code",
   "execution_count": 11,
   "id": "b35c446f",
   "metadata": {
    "ExecuteTime": {
     "end_time": "2022-06-14T13:13:57.070928Z",
     "start_time": "2022-06-14T13:13:57.066408Z"
    }
   },
   "outputs": [],
   "source": [
    "import csv\n",
    "# Resolução\n",
    "# Função que irá processar o Arquivo\n",
    "\n",
    "def read_file(file_path, delimiter = ',', quotechar='\"', encoding = 'utf-8'):\n",
    "    \n",
    "    # Estruturas que serão utilizadas para produzir as respostas\n",
    "    retorno = []\n",
    "    \n",
    "    # Abre e processa o arquivo\n",
    "    with open(file_path, 'r', encoding=encoding) as f:\n",
    "        reader = csv.DictReader(f, delimiter=delimiter, quotechar=quotechar)\n",
    "        \n",
    "        # Itera pelas linhas do arquivo para \n",
    "        for row in reader:\n",
    "            retorno.append(row)\n",
    "            \n",
    "            \n",
    "    return retorno"
   ]
  },
  {
   "cell_type": "code",
   "execution_count": null,
   "id": "a8c28f78",
   "metadata": {},
   "outputs": [],
   "source": []
  },
  {
   "cell_type": "code",
   "execution_count": 4,
   "id": "1327e69b",
   "metadata": {
    "ExecuteTime": {
     "end_time": "2022-06-14T15:13:07.709810Z",
     "start_time": "2022-06-14T15:13:07.706819Z"
    }
   },
   "outputs": [],
   "source": [
    "file_path = 'csv/anv.csv'"
   ]
  },
  {
   "cell_type": "code",
   "execution_count": 16,
   "id": "dd3c6468",
   "metadata": {
    "ExecuteTime": {
     "end_time": "2022-06-14T13:23:47.150922Z",
     "start_time": "2022-06-14T13:23:47.100127Z"
    }
   },
   "outputs": [],
   "source": [
    "records = read_file(file_path, delimiter='~')\n"
   ]
  },
  {
   "cell_type": "code",
   "execution_count": null,
   "id": "2dcd0474",
   "metadata": {},
   "outputs": [],
   "source": []
  },
  {
   "cell_type": "markdown",
   "id": "d1ed3652",
   "metadata": {
    "ExecuteTime": {
     "end_time": "2022-06-14T13:13:58.236528Z",
     "start_time": "2022-06-14T13:13:58.171426Z"
    }
   },
   "source": [
    "# Modulo cds_write_file\n",
    "\n"
   ]
  },
  {
   "cell_type": "code",
   "execution_count": 22,
   "id": "bba9c3f3",
   "metadata": {
    "ExecuteTime": {
     "end_time": "2022-06-14T14:40:03.494763Z",
     "start_time": "2022-06-14T14:40:03.476945Z"
    },
    "code_folding": []
   },
   "outputs": [],
   "source": [
    "import csv #leitura do arquivo\n",
    "import json # criação do arquivo json\n",
    "import sys # busca de erros na criação\n",
    "import os # criação do diretorio aonde vão ser salvos os arquivos gerados\n",
    "\n",
    "\n",
    "filename = 'statistics'\n",
    "path = 'json_out'\n",
    "\n",
    "# Função que irá criar o arquivo JSON\n",
    "def save_json(records, file_name = 'statistics', path='exemplo/json_out'):\n",
    "    \n",
    "    #Lista que será escrita dentro do arquivo JSON\n",
    "    array_of_incidents = []\n",
    "    \n",
    "    #Pega a quantidade total de dados\n",
    "    count = len(records)\n",
    "    \n",
    "    #Dicionário criado para conter a estrutura desejada para o arquivo JSON\n",
    "    map_of_incidents = {}\n",
    "    \n",
    "    #Itera sobre os registros\n",
    "    for record in records:\n",
    "        \n",
    "        #Recupera o conteúdo da Fase de Operação\n",
    "        key = record['aeronave_safe_operacao']\n",
    "        \n",
    "        #Verifica se a fase de operação separada ja está inserida dentro do conteúdo\n",
    "        #do arquivo. Se ainda não estiver, insere o registro com a contagem iniciando\n",
    "        #em 1, se já tiver, aumenta a contagem em 1\n",
    "            \n",
    "        if key in map_of_incidents:\n",
    "            map_of_incidents[key] += 1 # Se existir, incrementa + 1 acidente\n",
    "        else:\n",
    "            map_of_incidents[key] = 1\n",
    "\n",
    "    \n",
    "    #Itera sobre o dicionário com os dados\n",
    "    for key, value in map_of_incidents.items():\n",
    "        #Cria o conteúdo que será escrito no arquivo\n",
    "        array_of_incidents.append(\n",
    "            {\n",
    "                \"fase_operacao\": key,\n",
    "                \"ocorrencias\": value,\n",
    "                \"percentual\": '{:.2%}'.format(value/count)\n",
    "            }\n",
    "        )\n",
    "    \n",
    "    #Cria o arquivo com os dados ajustados\n",
    "    try:\n",
    "        #Cria o arquvi no caminho/diretório escolhido\n",
    "        #A biblioteca 'os' serve para conseguirmos criar tanto o arquivo quanto o \n",
    "        #diretório, caso ambos não existam\n",
    "        #Essa linha faz com que não ocorram erros na criação do arquivo \n",
    "        # os.makedirs(os.path.dirname(f'{path}/{file_name}.json'), exist_ok=True)\n",
    "        \n",
    "        with open(f'{path}/{file_name}.json', 'w', encoding='utf-8') as outfile:\n",
    "            \n",
    "            json.dump(array_of_incidents, outfile, ensure_ascii=False, indent=4)\n",
    "            \n",
    "        print('Arquivo criado com sucessso')\n",
    "        \n",
    "    except:\n",
    "        \n",
    "        print(F'ERRO AO CRIAR O ARQUIVO: {sys.exc_info()[0]} - {sys.exc_info()[1]}')\n",
    "        \n",
    "\n",
    "# Função que irá criar o arquivo CSV\n",
    "def save_csv(records, op=0, file_name='levels', path='exemplo/csv_out'):\n",
    "    \n",
    "    #Lista que irá guardar os dados\n",
    "    list_of_incidents = []\n",
    "    \n",
    "    damage_level = choose_damage_level(records)\n",
    "    \n",
    "    # Cabeçalho do arquivo CSV\n",
    "    \n",
    "    header = ['operation',\n",
    "             'type',\n",
    "             'manufacturer',\n",
    "             'engine_type',\n",
    "             'engines',\n",
    "             'year_manufacturing',\n",
    "             'seating',\n",
    "             'fatalities'\n",
    "             ]\n",
    "    # Itera sobre oss registros\n",
    "    for row in records:\n",
    "        \n",
    "        # Verifica se\n",
    "        if row['aeronave_nivel_dano'] == damage_level:\n",
    "            #Adiciona as linhas selecionadas\n",
    "            list_of_incidents.append(\n",
    "                [\n",
    "                    row['aeronave_operador_categoria'],\n",
    "                    row['aeronave_tipo_veiculo'],\n",
    "                    row['aeronave_fabricante'],\n",
    "                    row['aeronave_motor_tipo'],\n",
    "                    row['aeronave_motor_quantidade'],\n",
    "                    row['aeronave_ano_fabricacao'],\n",
    "                    row['aeronave_assentos'],\n",
    "                    row['total_fatalidades']\n",
    "                ]\n",
    "            )\n",
    "                \n",
    "                \n",
    "                                \n",
    "        # Cria o arquivo com os dados ajustados\n",
    "        try:\n",
    "            os.makedirs(os.path.dirname(f'{path}/{file_name}.csv'), exists_ok=True)\n",
    "                    \n",
    "            with open(f'{path}/{file_name}.csv', 'w', encoding='utf-8', newline='') as outfile:\n",
    "                w = csv.writer(outfile)\n",
    "                w.writerow(header)\n",
    "                w.writerows(list_of_incidents)\n",
    "                    \n",
    "            print('Arquivo criado com sucesso')\n",
    "        except:\n",
    "            print(F'ERRO AO CRIAR O ARQUIVO: {sys.exc_info()[0] - sys.exc_info()[1]}')\n",
    "                    \n",
    "                    \n",
    "            \n",
    "            \n",
    "            "
   ]
  },
  {
   "cell_type": "markdown",
   "id": "a2f5c9ae",
   "metadata": {},
   "source": [
    "# Módulo cds_helpers\n"
   ]
  },
  {
   "cell_type": "code",
   "execution_count": 25,
   "id": "fc578f6f",
   "metadata": {
    "ExecuteTime": {
     "end_time": "2022-06-14T14:58:38.852291Z",
     "start_time": "2022-06-14T14:58:38.844493Z"
    }
   },
   "outputs": [],
   "source": [
    "#Função responsável por criar a lista com todos os niveis de dano\n",
    "\n",
    "def select_damage_level(records):\n",
    "    \n",
    "    # Variável responsável por guardar os níveis de danos das aeronaves\n",
    "    uniques = {}\n",
    "    \n",
    "    # Variável responsável por mander o valor da opção que será utilizada pelo usuário\n",
    "    # para selecionar o nível de dano da aeronave\n",
    "    option = 0\n",
    "    \n",
    "    # Percorre a lista com os dados para criar o dicionário que irá conter as opções:\n",
    "    # {'SUBSTANCIAL': 0, ... 'DESTRUIDA':4}\n",
    "    for record in records:\n",
    "        if record['aeronave_nivel_dano'] not in uniques.keys():\n",
    "            uniques[record['aeronave_nivel_dano']] = option\n",
    "            option += 1\n",
    "            \n",
    "    return uniques\n",
    "\n",
    "\n",
    "def choose_damage_level(records):\n",
    "    \n",
    "    # Cria o dicionário com todas as opções de dano\n",
    "    damage_levels = select_damage_level(records)\n",
    "    \n",
    "    # Inicia a string que será exibida ao usuário\n",
    "    string = f'Selecione a categoria de um dano desejada através dos seus respectivos códigos.\\n'\n",
    "    \n",
    "    # Percorre o dicionário com os valores do dicionário e cria a string que será\n",
    "    # exibida ao usuário\n",
    "    for key, value in damage_levels.items():\n",
    "        string =+ f'{value} = {key}; '\n",
    "        \n",
    "    # Finaliza a string\n",
    "    string += f'\\n'\n",
    "    \n",
    "    # Recupera o dano escolhido pelo usuário\n",
    "    op = int(input(string))\n",
    "    \n",
    "    # Devolve a strinf com o dano selecionado\n",
    "    return list(damage_levels.keys())[list(damage_levels.values()).index(op)]\n"
   ]
  },
  {
   "cell_type": "code",
   "execution_count": null,
   "id": "d57ba282",
   "metadata": {},
   "outputs": [],
   "source": []
  },
  {
   "cell_type": "markdown",
   "id": "b6608c79",
   "metadata": {},
   "source": [
    "# Importando os módulos criados\n"
   ]
  },
  {
   "cell_type": "code",
   "execution_count": 1,
   "id": "de9f5775",
   "metadata": {
    "ExecuteTime": {
     "end_time": "2022-06-14T15:26:53.136532Z",
     "start_time": "2022-06-14T15:26:53.125815Z"
    }
   },
   "outputs": [],
   "source": [
    "# Imports dos Módulos com apelidos (aliases)\n",
    "from exemplo.cds_read_file import read_file as rf\n",
    "from exemplo.cds_write_file import save_json as sj\n",
    "from exemplo.cds_write_file import save_csv as sc"
   ]
  },
  {
   "cell_type": "code",
   "execution_count": 2,
   "id": "fbf473b8",
   "metadata": {
    "ExecuteTime": {
     "end_time": "2022-06-14T15:26:53.625911Z",
     "start_time": "2022-06-14T15:26:53.621405Z"
    }
   },
   "outputs": [],
   "source": [
    "file_path = 'csv/anv.csv'"
   ]
  },
  {
   "cell_type": "code",
   "execution_count": 3,
   "id": "42249c62",
   "metadata": {
    "ExecuteTime": {
     "end_time": "2022-06-14T15:26:54.311956Z",
     "start_time": "2022-06-14T15:26:54.261971Z"
    }
   },
   "outputs": [],
   "source": [
    "records = rf(file_path, delimiter='~')\n"
   ]
  },
  {
   "cell_type": "code",
   "execution_count": 6,
   "id": "f64d769a",
   "metadata": {
    "ExecuteTime": {
     "end_time": "2022-06-14T15:29:12.937231Z",
     "start_time": "2022-06-14T15:29:12.925916Z"
    }
   },
   "outputs": [
    {
     "name": "stdout",
     "output_type": "stream",
     "text": [
      "Arquivo criado com sucessso\n"
     ]
    }
   ],
   "source": [
    "sj(records)"
   ]
  },
  {
   "cell_type": "code",
   "execution_count": 5,
   "id": "c809bc18",
   "metadata": {
    "ExecuteTime": {
     "end_time": "2022-06-14T15:27:41.021779Z",
     "start_time": "2022-06-14T15:27:39.127287Z"
    }
   },
   "outputs": [
    {
     "name": "stdout",
     "output_type": "stream",
     "text": [
      "Selecione a categoria de um dano desejada através dos seus respectivos códigos.\n",
      "0 = SUBSTANCIAL; 1 = NENHUM; 2 = LEVE; 3 = INDETERMINADO; 4 = DESTRUÍDA; \n",
      "1\n",
      "Arquivo criado com sucesso\n"
     ]
    }
   ],
   "source": [
    "sc(records)"
   ]
  },
  {
   "cell_type": "code",
   "execution_count": null,
   "id": "8d37f4bf",
   "metadata": {},
   "outputs": [],
   "source": []
  },
  {
   "cell_type": "code",
   "execution_count": null,
   "id": "8b431396",
   "metadata": {},
   "outputs": [],
   "source": []
  }
 ],
 "metadata": {
  "kernelspec": {
   "display_name": "thiago_env",
   "language": "python",
   "name": "thiago_env"
  },
  "language_info": {
   "codemirror_mode": {
    "name": "ipython",
    "version": 3
   },
   "file_extension": ".py",
   "mimetype": "text/x-python",
   "name": "python",
   "nbconvert_exporter": "python",
   "pygments_lexer": "ipython3",
   "version": "3.10.4"
  },
  "varInspector": {
   "cols": {
    "lenName": 16,
    "lenType": 16,
    "lenVar": 40
   },
   "kernels_config": {
    "python": {
     "delete_cmd_postfix": "",
     "delete_cmd_prefix": "del ",
     "library": "var_list.py",
     "varRefreshCmd": "print(var_dic_list())"
    },
    "r": {
     "delete_cmd_postfix": ") ",
     "delete_cmd_prefix": "rm(",
     "library": "var_list.r",
     "varRefreshCmd": "cat(var_dic_list()) "
    }
   },
   "types_to_exclude": [
    "module",
    "function",
    "builtin_function_or_method",
    "instance",
    "_Feature"
   ],
   "window_display": false
  }
 },
 "nbformat": 4,
 "nbformat_minor": 5
}
