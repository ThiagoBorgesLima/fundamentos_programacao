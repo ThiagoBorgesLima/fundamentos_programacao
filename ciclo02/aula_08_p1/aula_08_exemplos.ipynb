{
 "cells": [
  {
   "cell_type": "markdown",
   "id": "3b31edc0",
   "metadata": {},
   "source": [
    "# EXEMPLO 1 - REVISITANDO DESAFIO DA AULA"
   ]
  },
  {
   "cell_type": "markdown",
   "id": "96a0f0d7",
   "metadata": {},
   "source": [
    "## Problema"
   ]
  },
  {
   "cell_type": "markdown",
   "id": "e9e8107f",
   "metadata": {
    "ExecuteTime": {
     "end_time": "2021-09-23T01:15:31.266217Z",
     "start_time": "2021-09-23T01:15:31.260904Z"
    }
   },
   "source": [
    "Imagine que você recebeu a seguinte tarefa do seu chefe de equipe:\n",
    "\n",
    "```\n",
    "Pegue o arquivo .csv com os dados dos clientes e faça o cálculo do IMC dos clientes que possuirem sexo feminino. Lembrando que o peso dos clientes está com a unidade de medida em Pounds (1 Lb = 0.453592 Kg) e as respectivas alturas estão em pés (1 ft = 0,3048 m). \n",
    "\n",
    "Com o índice em mãos, eu preciso de uma lista com o ID do cliente e o texto seguindo a seguinte regra:\n",
    "```\n",
    "\n",
    "| IMC | Classificação |\n",
    "| :-: | :-----------: |\n",
    "| < 16 | Magreza Grau III |\n",
    "| 16,0 a 16,9 | Magreza Grau II |\n",
    "| 17,0 a 18,4 | Magreza Grau I |\n",
    "| 18,5 a 24,9 | Adequado |\n",
    "| 25,0 a 29,9 | Pré-Obeso |\n",
    "| 30,0 a 34,9 | Obesidade Grau I |\n",
    "| 35,0 a 39,9 | Obesidade Grau II |\n",
    "| >= 40 | Obesidade Grau III |\n",
    "\n",
    "\n",
    "```\n",
    "A saída deve ser a seguinte:\n",
    "```\n",
    "\n",
    "```python\n",
    "[\n",
    "    {'id': 1, 'imc': 37.914, 'classificacao': 'Obesidade Grau II'},\n",
    "    ...\n",
    "]\n",
    "\n",
    "```\n",
    "\n",
    "```\n",
    "Eu preciso que você utilize o paradigma funcional nessa solução, pois estamos adequando nosso sistema à esse novo paradigma.\n",
    "```\n",
    "\n",
    "Então você fez a leitura e conseguiu os seguintes dados:\n",
    "\n",
    "```python\n",
    "[\n",
    "    {'id': 1,  'name': 'Chase Mclean',      'gender': 'F',  'weight': 286.12,  'heigth': 6.06985},\n",
    "    {'id': 2,  'name': 'Moses Fernandez',   'gender': 'F',  'weight': 278.71,  'heigth': 6.2339},\n",
    "    {'id': 3,  'name': 'Skyler Levy',       'gender': 'M',  'weight': 249.12,  'heigth': 6.52919},\n",
    "    {'id': 4,  'name': 'Patrick Kemp',      'gender': 'M',  'weight': 280.89,  'heigth': 5.93861},\n",
    "    {'id': 5,  'name': 'Erasmus Fuller',    'gender': 'M',  'weight': 144.91,  'heigth': 6.49638},\n",
    "    {'id': 6,  'name': 'Lamar Mccall',      'gender': 'M',  'weight': 284.86,  'heigth': 4.9215},\n",
    "    {'id': 7,  'name': 'Nayda Aguilar',     'gender': 'M',  'weight': 136.34,  'heigth': 5.61051},\n",
    "    {'id': 8,  'name': 'Lucy Heath',        'gender': 'F',  'weight': 234.37,  'heigth': 5.11836},\n",
    "    {'id': 9,  'name': 'Devin Patrick',     'gender': 'F',  'weight': 156.93,  'heigth': 5.77456},\n",
    "    {'id': 10, 'name': 'Kaseem Valenzuela', 'gender': 'F',  'weight': 186.39,  'heigth': 5.08555},\n",
    "    {'id': 11, 'name': 'Kenyon Jennings',   'gender': 'M',  'weight': 134,     'heigth': 5.5777},\n",
    "    {'id': 12, 'name': 'Vincent Hahn',      'gender': 'F',  'weight': 234.26,  'heigth': 6.26671},\n",
    "    {'id': 13, 'name': 'Harriet Herring',   'gender': 'F',  'weight': 239.2,   'heigth': 6.06985},\n",
    "    {'id': 14, 'name': 'Mikayla Dodson',    'gender': 'F',  'weight': 137.55,  'heigth': 5.5777},\n",
    "    {'id': 15, 'name': 'Solomon Welch',     'gender': 'M',  'weight': 284.86,  'heigth': 6.2339},\n",
    "    {'id': 16, 'name': 'Randall Juarez',    'gender': 'F',  'weight': 250.75,  'heigth': 5.2496},\n",
    "    {'id': 17, 'name': 'Camilla Harvey',    'gender': 'M',  'weight': 166.81,  'heigth': 5.11836},\n",
    "    {'id': 18, 'name': 'Harding Cameron',   'gender': 'F',  'weight': 220.63,  'heigth': 5.87299},\n",
    "    {'id': 19, 'name': 'Cullen Mejia',      'gender': 'F',  'weight': 181.18,  'heigth': 5.21679},\n",
    "    {'id': 20, 'name': 'Isaiah Black',      'gender': 'M',  'weight': 283.52,  'heigth': 5.70894},\n",
    "    {'id': 21, 'name': 'Tara Hyde',         'gender': 'M',  'weight': 127.07,  'heigth': 6.10266},\n",
    "    {'id': 22, 'name': 'Hyatt Morris',      'gender': 'F',  'weight': 241.47,  'heigth': 4.9215},\n",
    "    {'id': 23, 'name': 'Olivia Cameron',    'gender': 'M',  'weight': 206.23,  'heigth': 6.16828},\n",
    "    {'id': 24, 'name': 'Ulysses Becker',    'gender': 'F',  'weight': 263.17,  'heigth': 5.2496},\n",
    "    {'id': 25, 'name': 'Venus Graves',      'gender': 'M',  'weight': 252.87,  'heigth': 5.51208}\n",
    "]\n",
    "```\n",
    "\n",
    "A função para calcular o IMC é:\n",
    "\n",
    "\\begin{equation}\\label{eq:1}\n",
    "IMC = \\frac{peso}{altura^{2}}\n",
    "\\end{equation}\n",
    "\n",
    "Agora temos que codificar as solicitações:\n",
    "1. Separar os usuários do sexo feminio;\n",
    "2. Converter os pesos para Kg\n",
    "3. Converter as alturas para m\n",
    "4. Calcular o IMC de cada usuário separado\n",
    "5. Montar o script em Python utilizando Programação Funcional\n",
    "\n",
    "Tente utilizar funções ***lambda*** sempre que possível!"
   ]
  },
  {
   "cell_type": "markdown",
   "id": "02089cfb",
   "metadata": {},
   "source": [
    "## Resolução"
   ]
  },
  {
   "cell_type": "code",
   "execution_count": 40,
   "id": "c99b8ea0",
   "metadata": {
    "ExecuteTime": {
     "end_time": "2022-06-11T13:28:25.574082Z",
     "start_time": "2022-06-11T13:28:25.559544Z"
    }
   },
   "outputs": [],
   "source": [
    "data = [\n",
    "    {'id': 1,  'name': 'Chase Mclean',      'gender': 'F',  'weight': 286.12,  'heigth': 6.06985},\n",
    "    {'id': 2,  'name': 'Moses Fernandez',   'gender': 'F',  'weight': 278.71,  'heigth': 6.2339},\n",
    "    {'id': 3,  'name': 'Skyler Levy',       'gender': 'M',  'weight': 249.12,  'heigth': 6.52919},\n",
    "    {'id': 4,  'name': 'Patrick Kemp',      'gender': 'M',  'weight': 280.89,  'heigth': 5.93861},\n",
    "    {'id': 5,  'name': 'Erasmus Fuller',    'gender': 'M',  'weight': 144.91,  'heigth': 6.49638},\n",
    "    {'id': 6,  'name': 'Lamar Mccall',      'gender': 'M',  'weight': 284.86,  'heigth': 4.9215},\n",
    "    {'id': 7,  'name': 'Nayda Aguilar',     'gender': 'M',  'weight': 136.34,  'heigth': 5.61051},\n",
    "    {'id': 8,  'name': 'Lucy Heath',        'gender': 'F',  'weight': 234.37,  'heigth': 5.11836},\n",
    "    {'id': 9,  'name': 'Devin Patrick',     'gender': 'F',  'weight': 156.93,  'heigth': 5.77456},\n",
    "    {'id': 10, 'name': 'Kaseem Valenzuela', 'gender': 'F',  'weight': 186.39,  'heigth': 5.08555},\n",
    "    {'id': 11, 'name': 'Kenyon Jennings',   'gender': 'M',  'weight': 134,     'heigth': 5.5777},\n",
    "    {'id': 12, 'name': 'Vincent Hahn',      'gender': 'F',  'weight': 234.26,  'heigth': 6.26671},\n",
    "    {'id': 13, 'name': 'Harriet Herring',   'gender': 'F',  'weight': 239.2,   'heigth': 6.06985},\n",
    "    {'id': 14, 'name': 'Mikayla Dodson',    'gender': 'F',  'weight': 137.55,  'heigth': 5.5777},\n",
    "    {'id': 15, 'name': 'Solomon Welch',     'gender': 'M',  'weight': 284.86,  'heigth': 6.2339},\n",
    "    {'id': 16, 'name': 'Randall Juarez',    'gender': 'F',  'weight': 250.75,  'heigth': 5.2496},\n",
    "    {'id': 17, 'name': 'Camilla Harvey',    'gender': 'M',  'weight': 166.81,  'heigth': 5.11836},\n",
    "    {'id': 18, 'name': 'Harding Cameron',   'gender': 'F',  'weight': 220.63,  'heigth': 5.87299},\n",
    "    {'id': 19, 'name': 'Cullen Mejia',      'gender': 'F',  'weight': 181.18,  'heigth': 5.21679},\n",
    "    {'id': 20, 'name': 'Isaiah Black',      'gender': 'M',  'weight': 283.52,  'heigth': 5.70894},\n",
    "    {'id': 21, 'name': 'Tara Hyde',         'gender': 'M',  'weight': 127.07,  'heigth': 6.10266},\n",
    "    {'id': 22, 'name': 'Hyatt Morris',      'gender': 'F',  'weight': 241.47,  'heigth': 4.9215},\n",
    "    {'id': 23, 'name': 'Olivia Cameron',    'gender': 'M',  'weight': 206.23,  'heigth': 6.16828},\n",
    "    {'id': 24, 'name': 'Ulysses Becker',    'gender': 'F',  'weight': 263.17,  'heigth': 5.2496},\n",
    "    {'id': 25, 'name': 'Venus Graves',      'gender': 'M',  'weight': 252.87,  'heigth': 5.51208}\n",
    "]"
   ]
  },
  {
   "cell_type": "code",
   "execution_count": 65,
   "id": "0724c7c5",
   "metadata": {
    "ExecuteTime": {
     "end_time": "2022-06-11T13:36:44.903885Z",
     "start_time": "2022-06-11T13:36:44.892435Z"
    }
   },
   "outputs": [],
   "source": [
    "def result(data):\n",
    "    \n",
    "    result = []\n",
    "    \n",
    "     # Filtrando sexo feminino\n",
    "    filtered_users = list(filter(\n",
    "         lambda user: True if user['gender'] == 'F' else False,\n",
    "         data\n",
    "     ))\n",
    "    \n",
    "    \n",
    "     # Calculando o IMC\n",
    "    imc = list(map(\n",
    "        lambda user: {\n",
    "            'id': user['id'],\n",
    "            'imc' : round((user['weight'] / 2.205) / ((user['heigth'] / 3.281) ** 2)),\n",
    "                     },\n",
    "        filtered_users\n",
    "    ))\n",
    "    \n",
    "    # Classificando de acordo com o peso\n",
    "    classification = list(map(\n",
    "        lambda user: { 'classificacao': 'Obesidade Grau III' } if user['imc'] >= 40 else (\n",
    "            { 'classificacao': 'Obesidade Grau II' } if user['imc'] >= 35 else (\n",
    "                { 'classificacao': 'Obesidade Grau I' } if user['imc'] >= 30 else (\n",
    "                    { 'classificacao': 'Pré-Obeso' } if user['imc'] >= 25 else (\n",
    "                        { 'classificacao': 'Adequado' } if user['imc'] >= 18.5 else (\n",
    "                            { 'classificacao': 'Magreza Grau I' } if user['imc'] >= 17 else (\n",
    "                                { 'classificacao': 'Magreza Grau II' } if user['imc'] >= 16 else\n",
    "                                { 'classificacao': 'Magreza Grau III' }\n",
    "                            )\n",
    "                        )\n",
    "                    )\n",
    "                )\n",
    "            )\n",
    "        ),\n",
    "        imc\n",
    "    ))\n",
    "    \n",
    "    \n",
    "    # Juntando IMC + Classification com função ZIP gerando a resposta final\n",
    "    \n",
    "    for i, c in zip(imc, classification):\n",
    "        user = {}\n",
    "        user.update(i)\n",
    "        user.update(c)\n",
    "        \n",
    "        result.append(user)\n",
    "        \n",
    "    return result"
   ]
  },
  {
   "cell_type": "code",
   "execution_count": 66,
   "id": "9de2c659",
   "metadata": {
    "ExecuteTime": {
     "end_time": "2022-06-11T13:36:46.585446Z",
     "start_time": "2022-06-11T13:36:46.579550Z"
    }
   },
   "outputs": [
    {
     "data": {
      "text/plain": [
       "[{'id': 1, 'imc': 38, 'classificacao': 'Obesidade Grau II'},\n",
       " {'id': 2, 'imc': 35, 'classificacao': 'Obesidade Grau II'},\n",
       " {'id': 8, 'imc': 44, 'classificacao': 'Obesidade Grau III'},\n",
       " {'id': 9, 'imc': 23, 'classificacao': 'Adequado'},\n",
       " {'id': 10, 'imc': 35, 'classificacao': 'Obesidade Grau II'},\n",
       " {'id': 12, 'imc': 29, 'classificacao': 'Pré-Obeso'},\n",
       " {'id': 13, 'imc': 32, 'classificacao': 'Obesidade Grau I'},\n",
       " {'id': 14, 'imc': 22, 'classificacao': 'Adequado'},\n",
       " {'id': 16, 'imc': 44, 'classificacao': 'Obesidade Grau III'},\n",
       " {'id': 18, 'imc': 31, 'classificacao': 'Obesidade Grau I'},\n",
       " {'id': 19, 'imc': 33, 'classificacao': 'Obesidade Grau I'},\n",
       " {'id': 22, 'imc': 49, 'classificacao': 'Obesidade Grau III'},\n",
       " {'id': 24, 'imc': 47, 'classificacao': 'Obesidade Grau III'}]"
      ]
     },
     "execution_count": 66,
     "metadata": {},
     "output_type": "execute_result"
    }
   ],
   "source": [
    "result(data)"
   ]
  },
  {
   "cell_type": "code",
   "execution_count": null,
   "id": "38a0e6fb",
   "metadata": {},
   "outputs": [],
   "source": []
  }
 ],
 "metadata": {
  "kernelspec": {
   "display_name": "thiago_env",
   "language": "python",
   "name": "thiago_env"
  },
  "language_info": {
   "codemirror_mode": {
    "name": "ipython",
    "version": 3
   },
   "file_extension": ".py",
   "mimetype": "text/x-python",
   "name": "python",
   "nbconvert_exporter": "python",
   "pygments_lexer": "ipython3",
   "version": "3.10.4"
  },
  "latex_envs": {
   "LaTeX_envs_menu_present": true,
   "autoclose": false,
   "autocomplete": true,
   "bibliofile": "biblio.bib",
   "cite_by": "apalike",
   "current_citInitial": 1,
   "eqLabelWithNumbers": true,
   "eqNumInitial": 1,
   "hotkeys": {
    "equation": "Ctrl-E",
    "itemize": "Ctrl-I"
   },
   "labels_anchors": false,
   "latex_user_defs": false,
   "report_style_numbering": false,
   "user_envs_cfg": false
  },
  "varInspector": {
   "cols": {
    "lenName": 16,
    "lenType": 16,
    "lenVar": 40
   },
   "kernels_config": {
    "python": {
     "delete_cmd_postfix": "",
     "delete_cmd_prefix": "del ",
     "library": "var_list.py",
     "varRefreshCmd": "print(var_dic_list())"
    },
    "r": {
     "delete_cmd_postfix": ") ",
     "delete_cmd_prefix": "rm(",
     "library": "var_list.r",
     "varRefreshCmd": "cat(var_dic_list()) "
    }
   },
   "types_to_exclude": [
    "module",
    "function",
    "builtin_function_or_method",
    "instance",
    "_Feature"
   ],
   "window_display": false
  }
 },
 "nbformat": 4,
 "nbformat_minor": 5
}
