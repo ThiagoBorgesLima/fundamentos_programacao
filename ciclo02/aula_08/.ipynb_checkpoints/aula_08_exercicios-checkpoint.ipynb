{
 "cells": [
  {
   "cell_type": "markdown",
   "id": "3b31edc0",
   "metadata": {},
   "source": [
    "# EXERCÍCIO 1"
   ]
  },
  {
   "cell_type": "markdown",
   "id": "a3f62db6",
   "metadata": {
    "ExecuteTime": {
     "end_time": "2021-11-10T13:24:17.112870Z",
     "start_time": "2021-11-10T13:24:17.109021Z"
    }
   },
   "source": [
    "## Problema"
   ]
  },
  {
   "cell_type": "markdown",
   "id": "ee4f81b4",
   "metadata": {
    "ExecuteTime": {
     "end_time": "2021-11-10T13:24:59.051951Z",
     "start_time": "2021-11-10T13:24:59.048376Z"
    }
   },
   "source": [
    "Seu líder te apresentou a seguinte estrutura de dados:\n",
    "\n",
    "```python\n",
    "[\n",
    "    {'id': 1,  'name': 'Chase Mclean',  'gender': 'F',  'height': 178, 'married': True},\n",
    "    {'id': 2,  'name': 'Lu Fernandez',  'gender': 'F',  'height': 153, 'married': False},\n",
    "    {'id': 3,  'name': 'Skyler Levy',   'gender': 'M',  'height': 194, 'married': False},\n",
    "    {'id': 4,  'name': 'Patrick Kemp',  'gender': 'M',  'height': 186, 'married': False},\n",
    "    {'id': 5,  'name': 'Erasmus Fuller','gender': 'M',  'height': 196, 'married': True},\n",
    "    {'id': 6,  'name': 'Lamar Mccall',  'gender': 'M',  'height': 172, 'married': False},\n",
    "    {'id': 7,  'name': 'Nayda Aguilar', 'gender': 'M',  'height': 163, 'married': False},\n",
    "    {'id': 8,  'name': 'Lucy Heath',    'gender': 'F',  'height': 169, 'married': True},\n",
    "    {'id': 9,  'name': 'Devin Patrick', 'gender': 'F',  'height': 176, 'married': True},\n",
    "    {'id': 10, 'name': 'Kaseem Valen',  'gender': 'F',  'height': 197, 'married': True},\n",
    "    {'id': 11, 'name': 'Jen Jennings',  'gender': 'M',  'height': 188, 'married': False},\n",
    "    {'id': 12, 'name': 'Vincent Hahn',  'gender': 'F',  'height': 150,  'married': True},\n",
    "    {'id': 13, 'name': 'Harriet Lee',   'gender': 'F',  'height': 164, 'married': False},\n",
    "    {'id': 14, 'name': 'Mikayla Dodson','gender': 'F',  'height': 156, 'married': True},\n",
    "    {'id': 15, 'name': 'Solomon Welch', 'gender': 'M',  'height': 162, 'married': True},\n",
    "    {'id': 16, 'name': 'Randall Juarez','gender': 'F',  'height': 196, 'married': False},\n",
    "    {'id': 17, 'name': 'Camilla Harvey','gender': 'M',  'height': 159, 'married': False},\n",
    "    {'id': 18, 'name': 'Hardy Cameron', 'gender': 'F',  'height': 196, 'married': False},\n",
    "    {'id': 19, 'name': 'Cullen Mejia',  'gender': 'F',  'height': 188, 'married': True},\n",
    "    {'id': 20, 'name': 'Isaiah Black',  'gender': 'M',  'height': 150,  'married': True},\n",
    "]\n",
    "```\n",
    "\n",
    "E pediu para que você executasse os seguintes ajustes:\n",
    "1. As alturas estão com unidade de medida em cm (centímetro). É necessário que seja ajustado para a unidade de medida em metro (m). Utilize as funções ***map()*** e ***lambda*** para realizar esse ajuste.\n",
    "2. As informações do campo `gender` estão com as letras 'F' ou 'M' para identificar Feminino e Masculino, respectivamente. É necessário trocar a identificação para 0 e 1, sendo 0 Feminino e 1 Masculino. Utilize as funções ***map()*** e ***lambda*** para realizar esse ajuste.\n",
    "3. Selecione e crie uma lista com somente os usuários que não sejam casados. Utilize a função ***filter()*** e ***lambda***.\n",
    "4. Selecione e cria uma lista com somente os usuários que sejam homens e casados. Utilize a função ***filter()*** e ***lambda***.\n",
    "5. Selecione e crie uma nova lista com os usuários que possuem o ID par e que não estejam dentro do intervalo de 8 a 14. Crie uma função que fará a seleção. Essa função deverá ser utilizada em conjunto com a função ***filter()***\n",
    "6. Crie uma **função aninhada** para que seja possível passarmos uma lista contendo os IDs que desejamos selecionar da nossa base de dados. Essa função deverá ser utilizada em conjunto com a função ***filter()***. Os dados selecionados devem estar dentro de uma lista.\n",
    "7. Crie uma **função aninhada** para que seja possível passarmos uma lista contendo os limites inferior e superior de altura dos usuários que desejamos selecionar da nossa base de dados. Essa função deverá ser utilizada em conjunto com a função ***filter()***. Os dados selecionados devem estar dentro de uma lista."
   ]
  },
  {
   "cell_type": "markdown",
   "id": "89bf0113",
   "metadata": {},
   "source": [
    "## Resposta"
   ]
  },
  {
   "cell_type": "code",
   "execution_count": 4,
   "id": "09146118",
   "metadata": {
    "ExecuteTime": {
     "end_time": "2022-06-12T14:23:20.381085Z",
     "start_time": "2022-06-12T14:23:20.370852Z"
    }
   },
   "outputs": [],
   "source": [
    "users_in = [\n",
    "    {'id': 1,  'name': 'Chase Mclean',  'gender': 'F',  'height': 0.0178, 'married': True},\n",
    "    {'id': 2,  'name': 'Lu Fernandez',  'gender': 'F',  'height': 0.0153, 'married': False},\n",
    "    {'id': 3,  'name': 'Skyler Levy',   'gender': 'M',  'height': 0.0194, 'married': False},\n",
    "    {'id': 4,  'name': 'Patrick Kemp',  'gender': 'M',  'height': 0.0186, 'married': False},\n",
    "    {'id': 5,  'name': 'Erasmus Fuller','gender': 'M',  'height': 0.0196, 'married': True},\n",
    "    {'id': 6,  'name': 'Lamar Mccall',  'gender': 'M',  'height': 0.0172, 'married': False},\n",
    "    {'id': 7,  'name': 'Nayda Aguilar', 'gender': 'M',  'height': 0.0163, 'married': False},\n",
    "    {'id': 8,  'name': 'Lucy Heath',    'gender': 'F',  'height': 0.0169, 'married': True},\n",
    "    {'id': 9,  'name': 'Devin Patrick', 'gender': 'F',  'height': 0.0176, 'married': True},\n",
    "    {'id': 10, 'name': 'Kaseem Valen',  'gender': 'F',  'height': 0.0197, 'married': True},\n",
    "    {'id': 11, 'name': 'Jen Jennings',  'gender': 'M',  'height': 0.0188, 'married': False},\n",
    "    {'id': 12, 'name': 'Vincent Hahn',  'gender': 'F',  'height': 0.015,  'married': True},\n",
    "    {'id': 13, 'name': 'Harriet Lee',   'gender': 'F',  'height': 0.0164, 'married': False},\n",
    "    {'id': 14, 'name': 'Mikayla Dodson','gender': 'F',  'height': 0.0156, 'married': True},\n",
    "    {'id': 15, 'name': 'Solomon Welch', 'gender': 'M',  'height': 0.0162, 'married': True},\n",
    "    {'id': 16, 'name': 'Randall Juarez','gender': 'F',  'height': 0.0196, 'married': False},\n",
    "    {'id': 17, 'name': 'Camilla Harvey','gender': 'M',  'height': 0.0159, 'married': False},\n",
    "    {'id': 18, 'name': 'Hardy Cameron', 'gender': 'F',  'height': 0.0196, 'married': False},\n",
    "    {'id': 19, 'name': 'Cullen Mejia',  'gender': 'F',  'height': 0.0188, 'married': True},\n",
    "    {'id': 20, 'name': 'Isaiah Black',  'gender': 'M',  'height': 0.015,  'married': True},\n",
    "]"
   ]
  },
  {
   "cell_type": "code",
   "execution_count": 5,
   "id": "77a1f957",
   "metadata": {
    "ExecuteTime": {
     "end_time": "2022-06-12T14:23:22.307124Z",
     "start_time": "2022-06-12T14:23:22.302119Z"
    }
   },
   "outputs": [],
   "source": [
    "# 1. As alturas estão com unidade de medida em cm (centímetro). É necessário que seja ajustado para a unidade #de medida em metro (m). Utilize as funções ***map()*** e ***lambda*** para realizar esse ajuste.\n",
    "\n",
    "# Cria uma nova lista chamada \"user\", onde os dados que vão preencher já são os corrigidos em termo de altura,\n",
    "# o resto dos dados somente copia.\n",
    "\n",
    "def adjust_heights(user):\n",
    "    \n",
    "    return {\n",
    "        'id': user['id'],\n",
    "        'name': user['name'],\n",
    "        'gender': user['gender'],\n",
    "        'height': round(user['height'] * 100, 2),\n",
    "        'married': user['married']\n",
    "    }\n",
    "\n",
    "users = list(map(adjust_heights, users_in))\n",
    "\n"
   ]
  },
  {
   "cell_type": "code",
   "execution_count": 6,
   "id": "bf68cc7a",
   "metadata": {
    "ExecuteTime": {
     "end_time": "2022-06-12T14:23:23.982435Z",
     "start_time": "2022-06-12T14:23:23.978317Z"
    }
   },
   "outputs": [],
   "source": [
    "# 2. As informações do campo `gender` estão com as letras 'F' ou 'M' para identificar Feminino e Masculino, respectivamente. É necessário trocar a identificação para 0 e 1, sendo 0 Feminino e 1 Masculino. Utilize as funções ***map()*** e ***lambda*** para realizar esse ajuste.\n",
    "\n",
    "def adjust_gender(user):\n",
    "    \n",
    "    return {\n",
    "        'id': user['id'],\n",
    "        'name': user['name'],\n",
    "        'gender': 1 if user['gender'] == 'M' else 0,\n",
    "        'height': user['height'],\n",
    "        'married': user['married']\n",
    "    }\n",
    "\n",
    "users = list(map(adjust_gender, users ))"
   ]
  },
  {
   "cell_type": "code",
   "execution_count": 7,
   "id": "18aa7e3b",
   "metadata": {
    "ExecuteTime": {
     "end_time": "2022-06-12T14:23:25.895490Z",
     "start_time": "2022-06-12T14:23:25.892081Z"
    }
   },
   "outputs": [],
   "source": [
    "# 3. Selecione e crie uma lista com somente os usuários que não sejam casados. Utilize a função ***filter()*** e ***lambda***.\n",
    "\n",
    "def not_married_list(user):\n",
    "    \n",
    "    users_notm = list(filter(lambda user: True if user['married'] == False else False, users)) \n",
    "    \n",
    "    return users_notm"
   ]
  },
  {
   "cell_type": "code",
   "execution_count": 8,
   "id": "66a14800",
   "metadata": {
    "ExecuteTime": {
     "end_time": "2022-06-12T14:23:26.937770Z",
     "start_time": "2022-06-12T14:23:26.934286Z"
    }
   },
   "outputs": [],
   "source": [
    "# 4. Selecione e cria uma lista com somente os usuários que sejam homens e casados. Utilize a função ***filter()*** e ***lambda***.\n",
    "\n",
    "def married_man_list(user):\n",
    "    \n",
    "    users_man_m = list(\n",
    "                    filter( lambda user: True if user['married'] and user['gender'] == 1 else False,\n",
    "                           users )\n",
    "    )\n",
    "    \n",
    "    return users_man_m"
   ]
  },
  {
   "cell_type": "code",
   "execution_count": 9,
   "id": "0811f64b",
   "metadata": {
    "ExecuteTime": {
     "end_time": "2022-06-12T14:23:27.543123Z",
     "start_time": "2022-06-12T14:23:27.539206Z"
    }
   },
   "outputs": [],
   "source": [
    "# 5. Selecione e crie uma nova lista com os usuários que possuem o ID par e que não estejam dentro do intervalo de 8 a 14. Crie uma função que fará a seleção. Essa função deverá ser utilizada em conjunto com a função ***filter()***\n",
    "\n",
    "def users_par(user):\n",
    "    \n",
    "    users_par = list( filter( lambda user: True if user['id'] % 2 == 0 and not (8 <= user['id'] <= 14) else False, users ))\n",
    "    return users_par\n",
    "\n",
    "# def user_selection_tsk5(user):\n",
    "#    return user if((user['id'] % 2 == 0) and not(8 < user['id'] < 14)) else None\n",
    "\n",
    "#selected_ids_tsk5 = list(filter(user_selection_tsk5, users))\n"
   ]
  },
  {
   "cell_type": "code",
   "execution_count": 10,
   "id": "18e589ea",
   "metadata": {
    "ExecuteTime": {
     "end_time": "2022-06-12T14:23:28.179854Z",
     "start_time": "2022-06-12T14:23:28.175904Z"
    }
   },
   "outputs": [],
   "source": [
    "# 6. Crie uma **função aninhada** para que seja possível passarmos uma lista contendo os IDs que desejamos selecionar da nossa base de dados. Essa função deverá ser utilizada em conjunto com a função ***filter()***. Os dados selecionados devem estar dentro de uma lista.\n",
    "\n",
    "\n",
    "def users_select(selected_users):\n",
    "\n",
    "    i_user = int(input())\n",
    "    f_user = int(input())\n",
    "\n",
    "    selected_users = list(filter( lambda user: True if (i_user < user['id'] < f_user) else False, users )) \n",
    "\n",
    "    return selected_users"
   ]
  },
  {
   "cell_type": "code",
   "execution_count": 25,
   "id": "b2503952",
   "metadata": {
    "ExecuteTime": {
     "end_time": "2022-06-12T14:33:24.943323Z",
     "start_time": "2022-06-12T14:33:24.936621Z"
    }
   },
   "outputs": [
    {
     "data": {
      "text/plain": [
       "<function __main__.filter_by_height.<locals>.filter_heights(user)>"
      ]
     },
     "execution_count": 25,
     "metadata": {},
     "output_type": "execute_result"
    }
   ],
   "source": [
    "# 7. Crie uma **função aninhada** para que seja possível passarmos uma lista contendo os limites inferior e superior de altura dos usuários que desejamos selecionar da nossa base de dados. Essa função deverá ser utilizada em conjunto com a função ***filter()***. Os dados selecionados devem estar dentro de uma lista.\n",
    "\n",
    "def filter_by_height(heights):\n",
    "    \n",
    "    def filter_heights(user):\n",
    "        return user if heights[0] <= user['height'] <= heights[1] else None\n",
    "\n",
    "    return filter_heights\n",
    "\n",
    "\n",
    "heights = [1.69, 1.80]\n",
    "\n",
    "_filter = filter_by_height(heights)\n",
    "\n",
    "users_by_height = list(filter(_filter, users))\n",
    "#users_by_height\n",
    "\n",
    "\n"
   ]
  },
  {
   "cell_type": "code",
   "execution_count": 12,
   "id": "aabe12ff",
   "metadata": {
    "ExecuteTime": {
     "end_time": "2022-06-12T14:23:35.836351Z",
     "start_time": "2022-06-12T14:23:35.832239Z"
    }
   },
   "outputs": [
    {
     "data": {
      "text/plain": [
       "<function __main__.filter_by_height.<locals>.filter_heights(user)>"
      ]
     },
     "execution_count": 12,
     "metadata": {},
     "output_type": "execute_result"
    }
   ],
   "source": []
  },
  {
   "cell_type": "code",
   "execution_count": null,
   "id": "e1edc492",
   "metadata": {},
   "outputs": [],
   "source": []
  },
  {
   "cell_type": "code",
   "execution_count": null,
   "id": "38bb8fb5",
   "metadata": {},
   "outputs": [],
   "source": [
    "lista_resposta = list(\n",
    "    map(\n",
    "        lambda num: math.sqrt(num), \n",
    "        filter(\n",
    "            lambda value: True if value % 2 == 0 else False, \n",
    "            lista\n",
    "        )\n",
    "    )\n",
    ")\n",
    "\n",
    "\n",
    "# Filtro que irá selecionar somente o usuários do sexo feminino\n",
    "        list(filter(lambda user: True if user['gender'] == 'F' else False, data))\n",
    "    )"
   ]
  }
 ],
 "metadata": {
  "kernelspec": {
   "display_name": "thiago_env",
   "language": "python",
   "name": "thiago_env"
  },
  "language_info": {
   "codemirror_mode": {
    "name": "ipython",
    "version": 3
   },
   "file_extension": ".py",
   "mimetype": "text/x-python",
   "name": "python",
   "nbconvert_exporter": "python",
   "pygments_lexer": "ipython3",
   "version": "3.10.4"
  },
  "latex_envs": {
   "LaTeX_envs_menu_present": true,
   "autoclose": false,
   "autocomplete": true,
   "bibliofile": "biblio.bib",
   "cite_by": "apalike",
   "current_citInitial": 1,
   "eqLabelWithNumbers": true,
   "eqNumInitial": 1,
   "hotkeys": {
    "equation": "Ctrl-E",
    "itemize": "Ctrl-I"
   },
   "labels_anchors": false,
   "latex_user_defs": false,
   "report_style_numbering": false,
   "user_envs_cfg": false
  },
  "varInspector": {
   "cols": {
    "lenName": 16,
    "lenType": 16,
    "lenVar": 40
   },
   "kernels_config": {
    "python": {
     "delete_cmd_postfix": "",
     "delete_cmd_prefix": "del ",
     "library": "var_list.py",
     "varRefreshCmd": "print(var_dic_list())"
    },
    "r": {
     "delete_cmd_postfix": ") ",
     "delete_cmd_prefix": "rm(",
     "library": "var_list.r",
     "varRefreshCmd": "cat(var_dic_list()) "
    }
   },
   "types_to_exclude": [
    "module",
    "function",
    "builtin_function_or_method",
    "instance",
    "_Feature"
   ],
   "window_display": false
  }
 },
 "nbformat": 4,
 "nbformat_minor": 5
}
