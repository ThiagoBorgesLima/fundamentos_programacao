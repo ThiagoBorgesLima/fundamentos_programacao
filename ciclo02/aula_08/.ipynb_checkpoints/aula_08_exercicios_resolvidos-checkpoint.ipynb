{
 "cells": [
  {
   "cell_type": "markdown",
   "id": "3b31edc0",
   "metadata": {},
   "source": [
    "# EXERCÍCIO 1"
   ]
  },
  {
   "cell_type": "markdown",
   "id": "d684925e",
   "metadata": {
    "ExecuteTime": {
     "end_time": "2021-11-10T13:24:17.112870Z",
     "start_time": "2021-11-10T13:24:17.109021Z"
    }
   },
   "source": [
    "## Problema"
   ]
  },
  {
   "cell_type": "markdown",
   "id": "031a8f1f",
   "metadata": {
    "ExecuteTime": {
     "end_time": "2021-11-10T13:24:59.051951Z",
     "start_time": "2021-11-10T13:24:59.048376Z"
    }
   },
   "source": [
    "Seu líder te apresentou a seguinte estrutura de dados:\n",
    "\n",
    "```python\n",
    "[\n",
    "    {'id': 1,  'name': 'Chase Mclean',  'gender': 'F',  'height': 0.0178, 'married': True},\n",
    "    {'id': 2,  'name': 'Lu Fernandez',  'gender': 'F',  'height': 0.0153, 'married': False},\n",
    "    {'id': 3,  'name': 'Skyler Levy',   'gender': 'M',  'height': 0.0194, 'married': False},\n",
    "    {'id': 4,  'name': 'Patrick Kemp',  'gender': 'M',  'height': 0.0186, 'married': False},\n",
    "    {'id': 5,  'name': 'Erasmus Fuller','gender': 'M',  'height': 0.0196, 'married': True},\n",
    "    {'id': 6,  'name': 'Lamar Mccall',  'gender': 'M',  'height': 0.0172, 'married': False},\n",
    "    {'id': 7,  'name': 'Nayda Aguilar', 'gender': 'M',  'height': 0.0163, 'married': False},\n",
    "    {'id': 8,  'name': 'Lucy Heath',    'gender': 'F',  'height': 0.0169, 'married': True},\n",
    "    {'id': 9,  'name': 'Devin Patrick', 'gender': 'F',  'height': 0.0176, 'married': True},\n",
    "    {'id': 10, 'name': 'Kaseem Valen',  'gender': 'F',  'height': 0.0197, 'married': True},\n",
    "    {'id': 11, 'name': 'Jen Jennings',  'gender': 'M',  'height': 0.0188, 'married': False},\n",
    "    {'id': 12, 'name': 'Vincent Hahn',  'gender': 'F',  'height': 0.015,  'married': True},\n",
    "    {'id': 13, 'name': 'Harriet Lee',   'gender': 'F',  'height': 0.0164, 'married': False},\n",
    "    {'id': 14, 'name': 'Mikayla Dodson','gender': 'F',  'height': 0.0156, 'married': True},\n",
    "    {'id': 15, 'name': 'Solomon Welch', 'gender': 'M',  'height': 0.0162, 'married': True},\n",
    "    {'id': 16, 'name': 'Randall Juarez','gender': 'F',  'height': 0.0196, 'married': False},\n",
    "    {'id': 17, 'name': 'Camilla Harvey','gender': 'M',  'height': 0.0159, 'married': False},\n",
    "    {'id': 18, 'name': 'Hardy Cameron', 'gender': 'F',  'height': 0.0196, 'married': False},\n",
    "    {'id': 19, 'name': 'Cullen Mejia',  'gender': 'F',  'height': 0.0188, 'married': True},\n",
    "    {'id': 20, 'name': 'Isaiah Black',  'gender': 'M',  'height': 0.015,  'married': True},\n",
    "]\n",
    "```\n",
    "\n",
    "E pediu para que você executasse os seguintes ajustes:\n",
    "1. As alturas estão com unidade de medida em cm (centímetro). É necessário que seja ajustado para a unidade de medida em metro (m). Crie uma função para ajustar a altura e utilize a função ***map()*** para executá-la.\n",
    "2. As informações do campo gender estão com as letras 'F' ou 'M' para identificar Feminino e Masculino, respectivamente. É necessário trocar a identificação para 0 e 1, sendo 0 Feminino e 1 Masculino. Crie uma função para realizar esse ajuste e utilize a função ***map()*** para executá-la.\n",
    "3. Selecione e crie uma lista com somente os usuários que não sejam casados. Utilize a função ***filter()*** e ***lambda***.\n",
    "4. Selecione e cria uma lista com somente os usuários que sejam homens e casados. Utilize a função ***filter()*** e ***lambda***.\n",
    "5. Selecione e crie uma nova lista com os usuários que possuem o ID par e que não estejam dentro do intervalo de 8 a 14. Crie uma função que fará a seleção. Essa função deverá ser utilizada em conjunto com a função ***filter()***\n",
    "6. Crie uma **função aninhada** para que seja possível passarmos uma lista contendo os IDs que desejamos selecionar da nossa base de dados. Essa função deverá ser utilizada em conjunto com a função ***filter()***. Os dados selecionados devem estar dentro de uma lista.\n",
    "7. Crie uma **função aninhada** para que seja possível passarmos uma lista contendo os limites inferior e superior de altura dos usuários que desejamos selecionar da nossa base de dados. Essa função deverá ser utilizada em conjunto com a função ***filter()***. Os dados selecionados devem estar dentro de uma lista.\n",
    "\n",
    "Utilize a lista que foi ajustada nas tarefas 1 e 2 para executar as tarefas 3 a 7."
   ]
  },
  {
   "cell_type": "markdown",
   "id": "954cdd34",
   "metadata": {},
   "source": [
    "## Resposta"
   ]
  },
  {
   "cell_type": "code",
   "execution_count": 50,
   "id": "18909b3c",
   "metadata": {
    "ExecuteTime": {
     "end_time": "2021-11-10T16:17:56.694919Z",
     "start_time": "2021-11-10T16:17:56.688417Z"
    }
   },
   "outputs": [],
   "source": [
    "users = [\n",
    "    {'id': 1,  'name': 'Chase Mclean',  'gender': 'F',  'height': 0.0178, 'married': True},\n",
    "    {'id': 2,  'name': 'Lu Fernandez',  'gender': 'F',  'height': 0.0153, 'married': True},\n",
    "    {'id': 3,  'name': 'Skyler Levy',   'gender': 'M',  'height': 0.0194, 'married': False},\n",
    "    {'id': 4,  'name': 'Patrick Kemp',  'gender': 'M',  'height': 0.0186, 'married': True},\n",
    "    {'id': 5,  'name': 'Erasmus Fuller','gender': 'M',  'height': 0.0196, 'married': True},\n",
    "    {'id': 6,  'name': 'Lamar Mccall',  'gender': 'M',  'height': 0.0172, 'married': False},\n",
    "    {'id': 7,  'name': 'Nayda Aguilar', 'gender': 'M',  'height': 0.0163, 'married': False},\n",
    "    {'id': 8,  'name': 'Lucy Heath',    'gender': 'F',  'height': 0.0169, 'married': True},\n",
    "    {'id': 9,  'name': 'Devin Patrick', 'gender': 'F',  'height': 0.0176, 'married': True},\n",
    "    {'id': 10, 'name': 'Kaseem Valen',  'gender': 'F',  'height': 0.0197, 'married': True},\n",
    "    {'id': 11, 'name': 'Jen Jennings',  'gender': 'M',  'height': 0.0188, 'married': False},\n",
    "    {'id': 12, 'name': 'Vincent Hahn',  'gender': 'F',  'height': 0.015,  'married': True},\n",
    "    {'id': 13, 'name': 'Harriet Lee',   'gender': 'F',  'height': 0.0164, 'married': False},\n",
    "    {'id': 14, 'name': 'Mikayla Dodson','gender': 'F',  'height': 0.0156, 'married': True},\n",
    "    {'id': 15, 'name': 'Solomon Welch', 'gender': 'M',  'height': 0.0162, 'married': True},\n",
    "    {'id': 16, 'name': 'Randall Juarez','gender': 'F',  'height': 0.0196, 'married': False},\n",
    "    {'id': 17, 'name': 'Camilla Harvey','gender': 'M',  'height': 0.0159, 'married': False},\n",
    "    {'id': 18, 'name': 'Hardy Cameron', 'gender': 'F',  'height': 0.0196, 'married': False},\n",
    "    {'id': 19, 'name': 'Cullen Mejia',  'gender': 'F',  'height': 0.0188, 'married': True},\n",
    "    {'id': 20, 'name': 'Isaiah Black',  'gender': 'M',  'height': 0.015,  'married': True},\n",
    "]"
   ]
  },
  {
   "cell_type": "code",
   "execution_count": 51,
   "id": "a9d0e48a",
   "metadata": {
    "ExecuteTime": {
     "end_time": "2021-11-10T16:18:04.653868Z",
     "start_time": "2021-11-10T16:18:04.636726Z"
    }
   },
   "outputs": [
    {
     "data": {
      "text/plain": [
       "{'id': 1,\n",
       " 'name': 'Chase Mclean',\n",
       " 'gender': 'F',\n",
       " 'heigth': 1.78,\n",
       " 'married': True}"
      ]
     },
     "execution_count": 51,
     "metadata": {},
     "output_type": "execute_result"
    }
   ],
   "source": [
    "# Tarefa 1 - Alterar a unidade de medida da altura\n",
    "\n",
    "# Função que irá criar um novo elemento com a altura ajustada\n",
    "def adjust_heigths(user):\n",
    "    return {\n",
    "        'id': user['id'],\n",
    "        'name': user['name'],\n",
    "        'gender': user['gender'],\n",
    "        'heigth': round(user['height'] * 100, 2), \n",
    "        'married': user['married']\n",
    "    }\n",
    "\n",
    "\n",
    "users = list(map(adjust_heigths, users))\n",
    "\n",
    "users[0]"
   ]
  },
  {
   "cell_type": "code",
   "execution_count": 52,
   "id": "f5d1c805",
   "metadata": {
    "ExecuteTime": {
     "end_time": "2021-11-10T16:18:09.256071Z",
     "start_time": "2021-11-10T16:18:09.245771Z"
    }
   },
   "outputs": [
    {
     "ename": "KeyError",
     "evalue": "'height'",
     "output_type": "error",
     "traceback": [
      "\u001b[0;31m---------------------------------------------------------------------------\u001b[0m",
      "\u001b[0;31mKeyError\u001b[0m                                  Traceback (most recent call last)",
      "\u001b[0;32m/tmp/ipykernel_61634/62632047.py\u001b[0m in \u001b[0;36m<module>\u001b[0;34m\u001b[0m\n\u001b[1;32m     12\u001b[0m \u001b[0;34m\u001b[0m\u001b[0m\n\u001b[1;32m     13\u001b[0m \u001b[0;34m\u001b[0m\u001b[0m\n\u001b[0;32m---> 14\u001b[0;31m \u001b[0musers\u001b[0m \u001b[0;34m=\u001b[0m \u001b[0mlist\u001b[0m\u001b[0;34m(\u001b[0m\u001b[0mmap\u001b[0m\u001b[0;34m(\u001b[0m\u001b[0madjust_gender\u001b[0m\u001b[0;34m,\u001b[0m \u001b[0musers\u001b[0m\u001b[0;34m)\u001b[0m\u001b[0;34m)\u001b[0m\u001b[0;34m\u001b[0m\u001b[0;34m\u001b[0m\u001b[0m\n\u001b[0m\u001b[1;32m     15\u001b[0m \u001b[0;34m\u001b[0m\u001b[0m\n\u001b[1;32m     16\u001b[0m \u001b[0musers\u001b[0m\u001b[0;34m[\u001b[0m\u001b[0;36m0\u001b[0m\u001b[0;34m]\u001b[0m\u001b[0;34m\u001b[0m\u001b[0;34m\u001b[0m\u001b[0m\n",
      "\u001b[0;32m/tmp/ipykernel_61634/62632047.py\u001b[0m in \u001b[0;36madjust_gender\u001b[0;34m(user)\u001b[0m\n\u001b[1;32m      7\u001b[0m         \u001b[0;34m'name'\u001b[0m\u001b[0;34m:\u001b[0m \u001b[0muser\u001b[0m\u001b[0;34m[\u001b[0m\u001b[0;34m'name'\u001b[0m\u001b[0;34m]\u001b[0m\u001b[0;34m,\u001b[0m\u001b[0;34m\u001b[0m\u001b[0;34m\u001b[0m\u001b[0m\n\u001b[1;32m      8\u001b[0m         \u001b[0;34m'gender'\u001b[0m\u001b[0;34m:\u001b[0m \u001b[0;36m0\u001b[0m \u001b[0;32mif\u001b[0m \u001b[0muser\u001b[0m\u001b[0;34m[\u001b[0m\u001b[0;34m'gender'\u001b[0m\u001b[0;34m]\u001b[0m \u001b[0;34m==\u001b[0m \u001b[0;34m'F'\u001b[0m \u001b[0;32melse\u001b[0m \u001b[0;36m1\u001b[0m\u001b[0;34m,\u001b[0m\u001b[0;34m\u001b[0m\u001b[0;34m\u001b[0m\u001b[0m\n\u001b[0;32m----> 9\u001b[0;31m         \u001b[0;34m'heigth'\u001b[0m\u001b[0;34m:\u001b[0m \u001b[0muser\u001b[0m\u001b[0;34m[\u001b[0m\u001b[0;34m'height'\u001b[0m\u001b[0;34m]\u001b[0m\u001b[0;34m,\u001b[0m\u001b[0;34m\u001b[0m\u001b[0;34m\u001b[0m\u001b[0m\n\u001b[0m\u001b[1;32m     10\u001b[0m         \u001b[0;34m'married'\u001b[0m\u001b[0;34m:\u001b[0m \u001b[0muser\u001b[0m\u001b[0;34m[\u001b[0m\u001b[0;34m'married'\u001b[0m\u001b[0;34m]\u001b[0m\u001b[0;34m\u001b[0m\u001b[0;34m\u001b[0m\u001b[0m\n\u001b[1;32m     11\u001b[0m     }\n",
      "\u001b[0;31mKeyError\u001b[0m: 'height'"
     ]
    }
   ],
   "source": [
    "# Tarefa 2 - Justar campo Gender -> F = 0 e M = 1\n",
    "\n",
    "# Função que irá trocar o caractere F por 0 e M por 1\n",
    "def adjust_gender(user):\n",
    "    return {\n",
    "        'id': user['id'],\n",
    "        'name': user['name'],\n",
    "        'gender': 0 if user['gender'] == 'F' else 1,\n",
    "        'heigth': user['height'], \n",
    "        'married': user['married']\n",
    "    }\n",
    "\n",
    "\n",
    "users = list(map(adjust_gender, users))\n",
    "\n",
    "users[0]"
   ]
  },
  {
   "cell_type": "code",
   "execution_count": 53,
   "id": "5e17e13c",
   "metadata": {
    "ExecuteTime": {
     "end_time": "2021-11-10T16:18:10.307954Z",
     "start_time": "2021-11-10T16:18:10.304436Z"
    }
   },
   "outputs": [
    {
     "data": {
      "text/plain": [
       "[{'id': 3,\n",
       "  'name': 'Skyler Levy',\n",
       "  'gender': 'M',\n",
       "  'heigth': 1.94,\n",
       "  'married': False},\n",
       " {'id': 6,\n",
       "  'name': 'Lamar Mccall',\n",
       "  'gender': 'M',\n",
       "  'heigth': 1.72,\n",
       "  'married': False},\n",
       " {'id': 7,\n",
       "  'name': 'Nayda Aguilar',\n",
       "  'gender': 'M',\n",
       "  'heigth': 1.63,\n",
       "  'married': False},\n",
       " {'id': 11,\n",
       "  'name': 'Jen Jennings',\n",
       "  'gender': 'M',\n",
       "  'heigth': 1.88,\n",
       "  'married': False},\n",
       " {'id': 13,\n",
       "  'name': 'Harriet Lee',\n",
       "  'gender': 'F',\n",
       "  'heigth': 1.64,\n",
       "  'married': False},\n",
       " {'id': 16,\n",
       "  'name': 'Randall Juarez',\n",
       "  'gender': 'F',\n",
       "  'heigth': 1.96,\n",
       "  'married': False},\n",
       " {'id': 17,\n",
       "  'name': 'Camilla Harvey',\n",
       "  'gender': 'M',\n",
       "  'heigth': 1.59,\n",
       "  'married': False},\n",
       " {'id': 18,\n",
       "  'name': 'Hardy Cameron',\n",
       "  'gender': 'F',\n",
       "  'heigth': 1.96,\n",
       "  'married': False}]"
      ]
     },
     "execution_count": 53,
     "metadata": {},
     "output_type": "execute_result"
    }
   ],
   "source": [
    "# Tarefa 3 - Selecione e crie uma lista com somente os usuários que não sejam casados. \n",
    "# Utilize a função filter() e lambda\n",
    "\n",
    "not_married = list(filter(lambda user: user if not(user['married']) else None, users))\n",
    "not_married"
   ]
  },
  {
   "cell_type": "code",
   "execution_count": 54,
   "id": "03d40a03",
   "metadata": {
    "ExecuteTime": {
     "end_time": "2021-11-10T16:18:11.806642Z",
     "start_time": "2021-11-10T16:18:11.799152Z"
    }
   },
   "outputs": [
    {
     "data": {
      "text/plain": [
       "[{'id': 1,\n",
       "  'name': 'Chase Mclean',\n",
       "  'gender': 'F',\n",
       "  'heigth': 1.78,\n",
       "  'married': True},\n",
       " {'id': 2,\n",
       "  'name': 'Lu Fernandez',\n",
       "  'gender': 'F',\n",
       "  'heigth': 1.53,\n",
       "  'married': True},\n",
       " {'id': 4,\n",
       "  'name': 'Patrick Kemp',\n",
       "  'gender': 'M',\n",
       "  'heigth': 1.86,\n",
       "  'married': True},\n",
       " {'id': 5,\n",
       "  'name': 'Erasmus Fuller',\n",
       "  'gender': 'M',\n",
       "  'heigth': 1.96,\n",
       "  'married': True},\n",
       " {'id': 8,\n",
       "  'name': 'Lucy Heath',\n",
       "  'gender': 'F',\n",
       "  'heigth': 1.69,\n",
       "  'married': True},\n",
       " {'id': 9,\n",
       "  'name': 'Devin Patrick',\n",
       "  'gender': 'F',\n",
       "  'heigth': 1.76,\n",
       "  'married': True},\n",
       " {'id': 10,\n",
       "  'name': 'Kaseem Valen',\n",
       "  'gender': 'F',\n",
       "  'heigth': 1.97,\n",
       "  'married': True},\n",
       " {'id': 12,\n",
       "  'name': 'Vincent Hahn',\n",
       "  'gender': 'F',\n",
       "  'heigth': 1.5,\n",
       "  'married': True},\n",
       " {'id': 14,\n",
       "  'name': 'Mikayla Dodson',\n",
       "  'gender': 'F',\n",
       "  'heigth': 1.56,\n",
       "  'married': True},\n",
       " {'id': 15,\n",
       "  'name': 'Solomon Welch',\n",
       "  'gender': 'M',\n",
       "  'heigth': 1.62,\n",
       "  'married': True},\n",
       " {'id': 19,\n",
       "  'name': 'Cullen Mejia',\n",
       "  'gender': 'F',\n",
       "  'heigth': 1.88,\n",
       "  'married': True},\n",
       " {'id': 20,\n",
       "  'name': 'Isaiah Black',\n",
       "  'gender': 'M',\n",
       "  'heigth': 1.5,\n",
       "  'married': True}]"
      ]
     },
     "execution_count": 54,
     "metadata": {},
     "output_type": "execute_result"
    }
   ],
   "source": [
    "# Tarefa 4 - Selecione e cria uma lista com somente os usuários que sejam homens e casados. \n",
    "# Utilize a função filter() e lambda.\n",
    "\n",
    "married_men = list(filter(lambda user: user if (user['married'] and user['gender']) else None, users))\n",
    "married_men"
   ]
  },
  {
   "cell_type": "code",
   "execution_count": 55,
   "id": "ef550f6d",
   "metadata": {
    "ExecuteTime": {
     "end_time": "2021-11-10T16:18:12.575198Z",
     "start_time": "2021-11-10T16:18:12.570466Z"
    }
   },
   "outputs": [
    {
     "data": {
      "text/plain": [
       "[{'id': 2,\n",
       "  'name': 'Lu Fernandez',\n",
       "  'gender': 'F',\n",
       "  'heigth': 1.53,\n",
       "  'married': True},\n",
       " {'id': 4,\n",
       "  'name': 'Patrick Kemp',\n",
       "  'gender': 'M',\n",
       "  'heigth': 1.86,\n",
       "  'married': True},\n",
       " {'id': 6,\n",
       "  'name': 'Lamar Mccall',\n",
       "  'gender': 'M',\n",
       "  'heigth': 1.72,\n",
       "  'married': False},\n",
       " {'id': 8,\n",
       "  'name': 'Lucy Heath',\n",
       "  'gender': 'F',\n",
       "  'heigth': 1.69,\n",
       "  'married': True},\n",
       " {'id': 14,\n",
       "  'name': 'Mikayla Dodson',\n",
       "  'gender': 'F',\n",
       "  'heigth': 1.56,\n",
       "  'married': True},\n",
       " {'id': 16,\n",
       "  'name': 'Randall Juarez',\n",
       "  'gender': 'F',\n",
       "  'heigth': 1.96,\n",
       "  'married': False},\n",
       " {'id': 18,\n",
       "  'name': 'Hardy Cameron',\n",
       "  'gender': 'F',\n",
       "  'heigth': 1.96,\n",
       "  'married': False},\n",
       " {'id': 20,\n",
       "  'name': 'Isaiah Black',\n",
       "  'gender': 'M',\n",
       "  'heigth': 1.5,\n",
       "  'married': True}]"
      ]
     },
     "execution_count": 55,
     "metadata": {},
     "output_type": "execute_result"
    }
   ],
   "source": [
    "# Tarefa 5 - Selecione e crie uma nova lista com os usuários que possuem o ID par \n",
    "# e que não estejam dentro do intervalo de 8 a 14. Crie uma função que fará a seleção. \n",
    "# Essa função deverá ser utilizada em conjunto com a função filter().\n",
    "\n",
    "# Função que fará a separação\n",
    "def user_selection_tsk5(user):\n",
    "    return user if((user['id'] % 2 == 0) and not(8 < user['id'] < 14)) else None\n",
    "\n",
    "selected_ids_tsk5 = list(filter(user_selection_tsk5, users))\n",
    "selected_ids_tsk5"
   ]
  },
  {
   "cell_type": "code",
   "execution_count": 56,
   "id": "e2d5b316",
   "metadata": {
    "ExecuteTime": {
     "end_time": "2021-11-10T16:18:13.125466Z",
     "start_time": "2021-11-10T16:18:13.107983Z"
    }
   },
   "outputs": [
    {
     "data": {
      "text/plain": [
       "[{'id': 8,\n",
       "  'name': 'Lucy Heath',\n",
       "  'gender': 'F',\n",
       "  'heigth': 1.69,\n",
       "  'married': True},\n",
       " {'id': 10,\n",
       "  'name': 'Kaseem Valen',\n",
       "  'gender': 'F',\n",
       "  'heigth': 1.97,\n",
       "  'married': True},\n",
       " {'id': 12,\n",
       "  'name': 'Vincent Hahn',\n",
       "  'gender': 'F',\n",
       "  'heigth': 1.5,\n",
       "  'married': True},\n",
       " {'id': 14,\n",
       "  'name': 'Mikayla Dodson',\n",
       "  'gender': 'F',\n",
       "  'heigth': 1.56,\n",
       "  'married': True}]"
      ]
     },
     "execution_count": 56,
     "metadata": {},
     "output_type": "execute_result"
    }
   ],
   "source": [
    "# Tarefa 6 - Crie uma função aninhada para que seja possível passarmos uma \n",
    "# lista contendo os IDs que desejamos selecionar da nossa base de dados. \n",
    "# Essa função deverá ser utilizada em conjunto com a função filter(). \n",
    "# Os dados selecionados devem estar dentro de uma lista.\n",
    "\n",
    "# Função que receberá os ids para filtragem\n",
    "def filter_by_id(ids_filter):\n",
    "    \n",
    "    # Função que receberá o usuário\n",
    "    def filter_ids(user):\n",
    "        return user if user['id'] in ids_filter else None\n",
    "        \n",
    "    return filter_ids\n",
    "\n",
    "\n",
    "# Cria a lista com os ids selecionados\n",
    "ids = [8, 10, 12, 14]\n",
    "\n",
    "# Cria o filtro dos IDs\n",
    "_filter = filter_by_id(ids)\n",
    "\n",
    "# Cria a lista utilizando o filtro criado\n",
    "users_by_id = list(filter(_filter, users))\n",
    "users_by_id"
   ]
  },
  {
   "cell_type": "code",
   "execution_count": 57,
   "id": "71bd561c",
   "metadata": {
    "ExecuteTime": {
     "end_time": "2021-11-10T16:18:13.524247Z",
     "start_time": "2021-11-10T16:18:13.508886Z"
    }
   },
   "outputs": [
    {
     "data": {
      "text/plain": [
       "[{'id': 1,\n",
       "  'name': 'Chase Mclean',\n",
       "  'gender': 'F',\n",
       "  'heigth': 1.78,\n",
       "  'married': True},\n",
       " {'id': 6,\n",
       "  'name': 'Lamar Mccall',\n",
       "  'gender': 'M',\n",
       "  'heigth': 1.72,\n",
       "  'married': False},\n",
       " {'id': 8,\n",
       "  'name': 'Lucy Heath',\n",
       "  'gender': 'F',\n",
       "  'heigth': 1.69,\n",
       "  'married': True},\n",
       " {'id': 9,\n",
       "  'name': 'Devin Patrick',\n",
       "  'gender': 'F',\n",
       "  'heigth': 1.76,\n",
       "  'married': True}]"
      ]
     },
     "execution_count": 57,
     "metadata": {},
     "output_type": "execute_result"
    }
   ],
   "source": [
    "# Crie uma função aninhada para que seja possível passarmos uma lista \n",
    "# contendo os limites inferior e superior de altura dos usuários que \n",
    "# desejamos selecionar da nossa base de dados. Essa função deverá ser \n",
    "# utilizada em conjunto com a função filter(). \n",
    "# Os dados selecionados devem estar dentro de uma lista.\n",
    "\n",
    "def filter_by_height(heights):\n",
    "    \n",
    "    def filter_heights(user):\n",
    "        return user if heights[0] <= user['heigth'] <= heights[1] else None\n",
    "\n",
    "    return filter_heights\n",
    "\n",
    "\n",
    "heights = [1.69, 1.80]\n",
    "\n",
    "_filter = filter_by_height(heights)\n",
    "\n",
    "users_by_height = list(filter(_filter, users))\n",
    "users_by_height"
   ]
  }
 ],
 "metadata": {
  "kernelspec": {
   "display_name": "Python 3.8.11 64-bit ('3.8.11': pyenv)",
   "language": "python",
   "name": "python3811jvsc74a57bd016c98fcc13804c079c0e605033a1ae10a459b3686638e04aa6e2e124f32781c0"
  },
  "language_info": {
   "codemirror_mode": {
    "name": "ipython",
    "version": 3
   },
   "file_extension": ".py",
   "mimetype": "text/x-python",
   "name": "python",
   "nbconvert_exporter": "python",
   "pygments_lexer": "ipython3",
   "version": "3.8.11"
  },
  "latex_envs": {
   "LaTeX_envs_menu_present": true,
   "autoclose": false,
   "autocomplete": true,
   "bibliofile": "biblio.bib",
   "cite_by": "apalike",
   "current_citInitial": 1,
   "eqLabelWithNumbers": true,
   "eqNumInitial": 1,
   "hotkeys": {
    "equation": "Ctrl-E",
    "itemize": "Ctrl-I"
   },
   "labels_anchors": false,
   "latex_user_defs": false,
   "report_style_numbering": false,
   "user_envs_cfg": false
  }
 },
 "nbformat": 4,
 "nbformat_minor": 5
}
