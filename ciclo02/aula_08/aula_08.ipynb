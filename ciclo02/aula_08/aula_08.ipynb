{
 "cells": [
  {
   "cell_type": "markdown",
   "id": "f66f5ab2",
   "metadata": {
    "heading_collapsed": true
   },
   "source": [
    "# COMANDOS AUXILIARES"
   ]
  },
  {
   "cell_type": "markdown",
   "id": "6a0edcdf",
   "metadata": {
    "heading_collapsed": true,
    "hidden": true
   },
   "source": [
    "## Inserção de imagens"
   ]
  },
  {
   "cell_type": "code",
   "execution_count": 1,
   "id": "fa4c2e60",
   "metadata": {
    "ExecuteTime": {
     "end_time": "2021-11-08T17:59:29.823565Z",
     "start_time": "2021-11-08T17:59:29.820840Z"
    },
    "hidden": true
   },
   "outputs": [],
   "source": [
    "from IPython.display import Image"
   ]
  },
  {
   "cell_type": "markdown",
   "id": "60ffdbd1",
   "metadata": {
    "heading_collapsed": true
   },
   "source": [
    "# DESAFIO DA AULA"
   ]
  },
  {
   "cell_type": "markdown",
   "id": "90d7aec2",
   "metadata": {
    "hidden": true
   },
   "source": [
    "Imagine que você recebeu a seguinte tarefa do seu chefe de equipe:\n",
    "\n",
    "```\n",
    "Pegue o arquivo .csv com os dados dos clientes e faça o cálculo do IMC dos clientes que possuirem sexo feminino. Lembrando que o peso dos clientes está com a unidade de medida em Pounds (1 Lb = 0.453592 Kg) e as respectivas alturas estão em pés (1 ft = 0,3048 m). \n",
    "\n",
    "Com o índice em mãos, eu preciso de uma lista com o ID do cliente e o texto seguindo a seguinte regra:\n",
    "```\n",
    "\n",
    "| IMC | Classificação |\n",
    "| :-: | :-----------: |\n",
    "| < 16 | Magreza Grau III |\n",
    "| 16,0 a 16,9 | Magreza Grau II |\n",
    "| 17,0 a 18,4 | Magreza Grau I |\n",
    "| 18,5 a 24,9 | Adequado |\n",
    "| 25,0 a 29,9 | Pré-Obeso |\n",
    "| 30,0 a 34,9 | Obesidade Grau I |\n",
    "| 35,0 a 39,9 | Obesidade Grau II |\n",
    "| >= 40 | Obesidade Grau III |\n",
    "\n",
    "\n",
    "```\n",
    "A saída deve ser a seguinte:\n",
    "```\n",
    "\n",
    "```python\n",
    "[\n",
    "    {'id': 1, 'imc': 37.914, 'classificacao': 'Obesidade Grau II'},\n",
    "    ...\n",
    "]\n",
    "\n",
    "```\n",
    "\n",
    "```\n",
    "Eu preciso que você utilize o paradigma funcional nessa solução, pois estamos adequando nosso sistema à esse novo paradigma.\n",
    "```\n",
    "\n",
    "Então você fez a leitura e conseguiu os seguintes dados:\n",
    "\n",
    "```python\n",
    "[\n",
    "    {'id': 1,  'name': 'Chase Mclean',      'gender': 'F',  'weight': 286.12,  'height': 6.06985},\n",
    "    {'id': 2,  'name': 'Moses Fernandez',   'gender': 'F',  'weight': 278.71,  'height': 6.2339},\n",
    "    {'id': 3,  'name': 'Skyler Levy',       'gender': 'M',  'weight': 249.12,  'height': 6.52919},\n",
    "    {'id': 4,  'name': 'Patrick Kemp',      'gender': 'M',  'weight': 280.89,  'height': 5.93861},\n",
    "    {'id': 5,  'name': 'Erasmus Fuller',    'gender': 'M',  'weight': 144.91,  'height': 6.49638},\n",
    "    {'id': 6,  'name': 'Lamar Mccall',      'gender': 'M',  'weight': 284.86,  'height': 4.9215},\n",
    "    {'id': 7,  'name': 'Nayda Aguilar',     'gender': 'M',  'weight': 136.34,  'height': 5.61051},\n",
    "    {'id': 8,  'name': 'Lucy Heath',        'gender': 'F',  'weight': 234.37,  'height': 5.11836},\n",
    "    {'id': 9,  'name': 'Devin Patrick',     'gender': 'F',  'weight': 156.93,  'height': 5.77456},\n",
    "    {'id': 10, 'name': 'Kaseem Valenzuela', 'gender': 'F',  'weight': 186.39,  'height': 5.08555},\n",
    "    {'id': 11, 'name': 'Kenyon Jennings',   'gender': 'M',  'weight': 134,     'height': 5.5777},\n",
    "    {'id': 12, 'name': 'Vincent Hahn',      'gender': 'F',  'weight': 234.26,  'height': 6.26671},\n",
    "    {'id': 13, 'name': 'Harriet Herring',   'gender': 'F',  'weight': 239.2,   'height': 6.06985},\n",
    "    {'id': 14, 'name': 'Mikayla Dodson',    'gender': 'F',  'weight': 137.55,  'height': 5.5777},\n",
    "    {'id': 15, 'name': 'Solomon Welch',     'gender': 'M',  'weight': 284.86,  'height': 6.2339},\n",
    "    {'id': 16, 'name': 'Randall Juarez',    'gender': 'F',  'weight': 250.75,  'height': 5.2496},\n",
    "    {'id': 17, 'name': 'Camilla Harvey',    'gender': 'M',  'weight': 166.81,  'height': 5.11836},\n",
    "    {'id': 18, 'name': 'Harding Cameron',   'gender': 'F',  'weight': 220.63,  'height': 5.87299},\n",
    "    {'id': 19, 'name': 'Cullen Mejia',      'gender': 'F',  'weight': 181.18,  'height': 5.21679},\n",
    "    {'id': 20, 'name': 'Isaiah Black',      'gender': 'M',  'weight': 283.52,  'height': 5.70894},\n",
    "    {'id': 21, 'name': 'Tara Hyde',         'gender': 'M',  'weight': 127.07,  'height': 6.10266},\n",
    "    {'id': 22, 'name': 'Hyatt Morris',      'gender': 'F',  'weight': 241.47,  'height': 4.9215},\n",
    "    {'id': 23, 'name': 'Olivia Cameron',    'gender': 'M',  'weight': 206.23,  'height': 6.16828},\n",
    "    {'id': 24, 'name': 'Ulysses Becker',    'gender': 'F',  'weight': 263.17,  'height': 5.2496},\n",
    "    {'id': 25, 'name': 'Venus Graves',      'gender': 'M',  'weight': 252.87,  'height': 5.51208}\n",
    "]\n",
    "```\n",
    "\n",
    "A função para calcular o IMC é:\n",
    "\n",
    "\\begin{equation}\\label{eq:1}\n",
    "IMC = \\frac{peso}{altura^{2}}\n",
    "\\end{equation}\n",
    "\n",
    "Agora temos que codificar as solicitações:\n",
    "1. Separar os usuários do sexo feminio;\n",
    "2. Converter os pesos para Kg\n",
    "3. Converter as alturas para m\n",
    "4. Calcular o IMC de cada usuário separado"
   ]
  },
  {
   "cell_type": "markdown",
   "id": "4b421a8d",
   "metadata": {
    "heading_collapsed": true,
    "hidden": true
   },
   "source": [
    "## Resolução"
   ]
  },
  {
   "cell_type": "code",
   "execution_count": 1,
   "id": "36cfb5c7",
   "metadata": {
    "ExecuteTime": {
     "end_time": "2022-02-07T22:21:29.170463Z",
     "start_time": "2022-02-07T22:21:29.157185Z"
    },
    "hidden": true
   },
   "outputs": [],
   "source": [
    "data = [\n",
    "    {'id': 1,  'name': 'Chase Mclean',      'gender': 'F',  'weight': 286.12,  'height': 6.06985},\n",
    "    {'id': 2,  'name': 'Moses Fernandez',   'gender': 'F',  'weight': 278.71,  'height': 6.2339},\n",
    "    {'id': 3,  'name': 'Skyler Levy',       'gender': 'M',  'weight': 249.12,  'height': 6.52919},\n",
    "    {'id': 4,  'name': 'Patrick Kemp',      'gender': 'M',  'weight': 280.89,  'height': 5.93861},\n",
    "    {'id': 5,  'name': 'Erasmus Fuller',    'gender': 'M',  'weight': 144.91,  'height': 6.49638},\n",
    "    {'id': 6,  'name': 'Lamar Mccall',      'gender': 'M',  'weight': 284.86,  'height': 4.9215},\n",
    "    {'id': 7,  'name': 'Nayda Aguilar',     'gender': 'M',  'weight': 136.34,  'height': 5.61051},\n",
    "    {'id': 8,  'name': 'Lucy Heath',        'gender': 'F',  'weight': 234.37,  'height': 5.11836},\n",
    "    {'id': 9,  'name': 'Devin Patrick',     'gender': 'F',  'weight': 156.93,  'height': 5.77456},\n",
    "    {'id': 10, 'name': 'Kaseem Valenzuela', 'gender': 'F',  'weight': 186.39,  'height': 5.08555},\n",
    "    {'id': 11, 'name': 'Kenyon Jennings',   'gender': 'M',  'weight': 134,     'height': 5.5777},\n",
    "    {'id': 12, 'name': 'Vincent Hahn',      'gender': 'F',  'weight': 234.26,  'height': 6.26671},\n",
    "    {'id': 13, 'name': 'Harriet Herring',   'gender': 'F',  'weight': 239.2,   'height': 6.06985},\n",
    "    {'id': 14, 'name': 'Mikayla Dodson',    'gender': 'F',  'weight': 137.55,  'height': 5.5777},\n",
    "    {'id': 15, 'name': 'Solomon Welch',     'gender': 'M',  'weight': 284.86,  'height': 6.2339},\n",
    "    {'id': 16, 'name': 'Randall Juarez',    'gender': 'F',  'weight': 250.75,  'height': 5.2496},\n",
    "    {'id': 17, 'name': 'Camilla Harvey',    'gender': 'M',  'weight': 166.81,  'height': 5.11836},\n",
    "    {'id': 18, 'name': 'Harding Cameron',   'gender': 'F',  'weight': 220.63,  'height': 5.87299},\n",
    "    {'id': 19, 'name': 'Cullen Mejia',      'gender': 'F',  'weight': 181.18,  'height': 5.21679},\n",
    "    {'id': 20, 'name': 'Isaiah Black',      'gender': 'M',  'weight': 283.52,  'height': 5.70894},\n",
    "    {'id': 21, 'name': 'Tara Hyde',         'gender': 'M',  'weight': 127.07,  'height': 6.10266},\n",
    "    {'id': 22, 'name': 'Hyatt Morris',      'gender': 'F',  'weight': 241.47,  'height': 4.9215},\n",
    "    {'id': 23, 'name': 'Olivia Cameron',    'gender': 'M',  'weight': 206.23,  'height': 6.16828},\n",
    "    {'id': 24, 'name': 'Ulysses Becker',    'gender': 'F',  'weight': 263.17,  'height': 5.2496},\n",
    "    {'id': 25, 'name': 'Venus Graves',      'gender': 'M',  'weight': 252.87,  'height': 5.51208}\n",
    "]"
   ]
  },
  {
   "cell_type": "code",
   "execution_count": 14,
   "id": "66f1bec7",
   "metadata": {
    "ExecuteTime": {
     "end_time": "2022-03-09T23:34:56.217543Z",
     "start_time": "2022-03-09T23:34:56.215205Z"
    },
    "hidden": true
   },
   "outputs": [],
   "source": [
    "# Resolução\n",
    "# ------------------------------------\n",
    "# Separar os usuários do sexo feminio;\n",
    "# Converter os pesos para Kg\n",
    "# Converter as alturas para m\n",
    "# Calcular o IMC de cada usuário separado\n",
    "# ------------------------------------"
   ]
  },
  {
   "cell_type": "code",
   "execution_count": null,
   "id": "fadda71d",
   "metadata": {
    "ExecuteTime": {
     "end_time": "2022-03-09T23:34:36.048096Z",
     "start_time": "2022-03-09T23:34:36.037249Z"
    },
    "hidden": true
   },
   "outputs": [],
   "source": []
  },
  {
   "cell_type": "code",
   "execution_count": null,
   "id": "b73e701e",
   "metadata": {
    "hidden": true
   },
   "outputs": [],
   "source": []
  },
  {
   "cell_type": "code",
   "execution_count": null,
   "id": "e7bdc7b9",
   "metadata": {
    "hidden": true
   },
   "outputs": [],
   "source": []
  },
  {
   "cell_type": "code",
   "execution_count": null,
   "id": "ed9fb0f3",
   "metadata": {
    "hidden": true
   },
   "outputs": [],
   "source": []
  },
  {
   "cell_type": "code",
   "execution_count": null,
   "id": "1bff59e6",
   "metadata": {
    "hidden": true
   },
   "outputs": [],
   "source": []
  },
  {
   "cell_type": "markdown",
   "id": "b44440d5",
   "metadata": {
    "heading_collapsed": true,
    "hidden": true
   },
   "source": [
    "### Resposta"
   ]
  },
  {
   "cell_type": "code",
   "execution_count": 42,
   "id": "5b8067ae",
   "metadata": {
    "ExecuteTime": {
     "end_time": "2022-03-10T00:13:29.171845Z",
     "start_time": "2022-03-10T00:13:29.168675Z"
    },
    "hidden": true
   },
   "outputs": [],
   "source": [
    "# Função para converter o Peso\n",
    "def weight_conv(user):\n",
    "    return user['weight'] / 2.205"
   ]
  },
  {
   "cell_type": "code",
   "execution_count": 43,
   "id": "31454b09",
   "metadata": {
    "ExecuteTime": {
     "end_time": "2022-03-10T00:13:29.303067Z",
     "start_time": "2022-03-10T00:13:29.298742Z"
    },
    "hidden": true
   },
   "outputs": [],
   "source": [
    "# Função para converter a Altura\n",
    "def heigth_conv(user):\n",
    "    return user['height'] / 3.281"
   ]
  },
  {
   "cell_type": "code",
   "execution_count": 44,
   "id": "86dcc8be",
   "metadata": {
    "ExecuteTime": {
     "end_time": "2022-03-10T00:13:29.444129Z",
     "start_time": "2022-03-10T00:13:29.441342Z"
    },
    "hidden": true
   },
   "outputs": [],
   "source": [
    "# Função para calcular o IMC\n",
    "def imc_calc(weight, heigth):\n",
    "    return weight / (heigth ** 2)"
   ]
  },
  {
   "cell_type": "code",
   "execution_count": 45,
   "id": "372feb36",
   "metadata": {
    "ExecuteTime": {
     "end_time": "2022-03-10T00:13:29.575115Z",
     "start_time": "2022-03-10T00:13:29.572254Z"
    },
    "hidden": true
   },
   "outputs": [],
   "source": [
    "# Funcao para separar o sexo\n",
    "def filter_gender(user):\n",
    "    return True if user['gender'] == 'F' else False"
   ]
  },
  {
   "cell_type": "code",
   "execution_count": 46,
   "id": "4c9da0eb",
   "metadata": {
    "ExecuteTime": {
     "end_time": "2022-03-10T00:13:30.235406Z",
     "start_time": "2022-03-10T00:13:30.231460Z"
    },
    "hidden": true
   },
   "outputs": [],
   "source": [
    "# Função que irá criar o Mapa\n",
    "def classsify_imc(imc):\n",
    "    \n",
    "    if imc >= 40:\n",
    "        return 'Obesidade Grau III'\n",
    "    elif imc >= 35:\n",
    "        return 'Obesidade Grau II'\n",
    "    elif imc >= 30:\n",
    "        return 'Obesidade Grau I'\n",
    "    elif imc >= 25:\n",
    "        return 'Pré-Obeso'\n",
    "    elif imc >= 18.5:\n",
    "        return 'Adequado'\n",
    "    elif imc >= 17:\n",
    "        return 'Magreza Grau I'\n",
    "    elif imc >= 16:\n",
    "        return 'Magreza Grau II'\n",
    "    else:\n",
    "        return 'Magreza Grau III'"
   ]
  },
  {
   "cell_type": "code",
   "execution_count": 23,
   "id": "e15c1549",
   "metadata": {
    "ExecuteTime": {
     "end_time": "2022-02-07T22:44:06.131322Z",
     "start_time": "2022-02-07T22:44:06.126419Z"
    },
    "code_folding": [],
    "hidden": true
   },
   "outputs": [],
   "source": [
    "def result(data):\n",
    "    new_data = []\n",
    "    \n",
    "    for user in data:\n",
    "        if filter_gender(user):\n",
    "            \n",
    "            # Inicializa a variável\n",
    "            new_user = {}\n",
    "            \n",
    "            # Cria a chave:valor do ID\n",
    "            new_user['id'] = user['id']\n",
    "            \n",
    "            # Cria a chave:valor do IMC\n",
    "            new_user['imc'] = imc_calc(weight_conv(user), heigth_conv(user))\n",
    "            \n",
    "            # Cria a chave:valor da classificacao\n",
    "            new_user['classificacao'] = classsify_imc(new_user['imc'])\n",
    "            \n",
    "            # Modo Direto\n",
    "            # Substitui todas as linhas de criação chave:valor\n",
    "            # new_user = {\n",
    "            #     'id': user['id'],\n",
    "            #     'imc': imc_calc(weight_conv(user), heigth_conv(user)),\n",
    "            #     'classificacao': classsify_imc(imc_calc(weight_conv(user), heigth_conv(user))) \n",
    "            # }\n",
    "            \n",
    "            # Insere o o usuário dentro da lista final\n",
    "            \n",
    "            \n",
    "            new_data.append(new_user)\n",
    "    \n",
    "    return new_data"
   ]
  },
  {
   "cell_type": "code",
   "execution_count": null,
   "id": "402d5827",
   "metadata": {
    "hidden": true
   },
   "outputs": [],
   "source": [
    "{ 'classificacao': classsify_imc( imc_calc( weight_conv(user), heigth_conv(user) ) ) }"
   ]
  },
  {
   "cell_type": "code",
   "execution_count": 24,
   "id": "4e9416ef",
   "metadata": {
    "ExecuteTime": {
     "end_time": "2022-02-07T22:44:06.260133Z",
     "start_time": "2022-02-07T22:44:06.253783Z"
    },
    "hidden": true
   },
   "outputs": [
    {
     "data": {
      "text/plain": [
       "[{'id': 1, 'imc': 37.91369968976147, 'classificacao': 'Obesidade Grau II'},\n",
       " {'id': 2, 'imc': 35.013599160809285, 'classificacao': 'Obesidade Grau II'},\n",
       " {'id': 8, 'imc': 43.67613799848233, 'classificacao': 'Obesidade Grau III'},\n",
       " {'id': 9, 'imc': 22.97587423399112, 'classificacao': 'Adequado'},\n",
       " {'id': 10, 'imc': 35.184437979145876, 'classificacao': 'Obesidade Grau II'},\n",
       " {'id': 12, 'imc': 29.122108169126772, 'classificacao': 'Pré-Obeso'},\n",
       " {'id': 13, 'imc': 31.696340576649458, 'classificacao': 'Obesidade Grau I'},\n",
       " {'id': 14, 'imc': 21.585104630087333, 'classificacao': 'Adequado'},\n",
       " {'id': 16, 'imc': 44.421414399092974, 'classificacao': 'Obesidade Grau III'},\n",
       " {'id': 18, 'imc': 31.22841263259567, 'classificacao': 'Obesidade Grau I'},\n",
       " {'id': 19, 'imc': 32.501799949968266, 'classificacao': 'Obesidade Grau I'},\n",
       " {'id': 22, 'imc': 48.67120181405895, 'classificacao': 'Obesidade Grau III'},\n",
       " {'id': 24, 'imc': 46.621669501133795, 'classificacao': 'Obesidade Grau III'}]"
      ]
     },
     "execution_count": 24,
     "metadata": {},
     "output_type": "execute_result"
    }
   ],
   "source": [
    "new_data = result(data)\n",
    "new_data"
   ]
  },
  {
   "cell_type": "code",
   "execution_count": 38,
   "id": "1c91a62d",
   "metadata": {
    "ExecuteTime": {
     "end_time": "2022-03-10T00:12:44.197145Z",
     "start_time": "2022-03-10T00:12:44.194449Z"
    },
    "hidden": true
   },
   "outputs": [],
   "source": [
    "resposta = []"
   ]
  },
  {
   "cell_type": "code",
   "execution_count": 50,
   "id": "275430a1",
   "metadata": {
    "ExecuteTime": {
     "end_time": "2022-03-10T00:13:51.248165Z",
     "start_time": "2022-03-10T00:13:51.243720Z"
    },
    "code_folding": [
     0
    ],
    "hidden": true
   },
   "outputs": [],
   "source": [
    "# def result(data):\n",
    "    \n",
    "#     for user in data:\n",
    "#         if filter_gender(user):\n",
    "            \n",
    "#             # Inicializa a variável\n",
    "#             new_user = {}\n",
    "            \n",
    "#             # Cria a chave:valor do ID\n",
    "#             new_user['id'] = user['id']\n",
    "            \n",
    "#             # Cria a chave:valor do IMC\n",
    "#             new_user['imc'] = imc_calc(weight_conv(user), heigth_conv(user))\n",
    "            \n",
    "#             # Cria a chave:valor da classificacao\n",
    "#             new_user['classificacao'] = classsify_imc(new_user['imc'])\n",
    "            \n",
    "#             # Modo Direto\n",
    "#             # Substitui todas as linhas de criação chave:valor\n",
    "#             # new_user = {\n",
    "#             #     'id': user['id'],\n",
    "#             #     'imc': imc_calc(weight_conv(user), heigth_conv(user)),\n",
    "#             #     'classificacao': classsify_imc(imc_calc(weight_conv(user), heigth_conv(user))) \n",
    "#             # }\n",
    "            \n",
    "#             # Insere o o usuário dentro da lista final\n",
    "            \n",
    "            \n",
    "#             resposta.append(new_user)\n",
    "    \n",
    "#     return resposta"
   ]
  },
  {
   "cell_type": "code",
   "execution_count": 53,
   "id": "8d2e069a",
   "metadata": {
    "ExecuteTime": {
     "end_time": "2022-03-10T00:14:34.054659Z",
     "start_time": "2022-03-10T00:14:34.052316Z"
    },
    "hidden": true
   },
   "outputs": [],
   "source": [
    "resposta = result(data)"
   ]
  },
  {
   "cell_type": "code",
   "execution_count": 54,
   "id": "811cafe3",
   "metadata": {
    "ExecuteTime": {
     "end_time": "2022-03-10T00:14:34.181046Z",
     "start_time": "2022-03-10T00:14:34.173042Z"
    },
    "hidden": true
   },
   "outputs": [
    {
     "data": {
      "text/plain": [
       "[{'id': 1, 'imc': 37.91369968976147, 'classificacao': 'Obesidade Grau II'},\n",
       " {'id': 2, 'imc': 35.013599160809285, 'classificacao': 'Obesidade Grau II'},\n",
       " {'id': 8, 'imc': 43.67613799848233, 'classificacao': 'Obesidade Grau III'},\n",
       " {'id': 9, 'imc': 22.97587423399112, 'classificacao': 'Adequado'},\n",
       " {'id': 10, 'imc': 35.184437979145876, 'classificacao': 'Obesidade Grau II'},\n",
       " {'id': 12, 'imc': 29.122108169126772, 'classificacao': 'Pré-Obeso'},\n",
       " {'id': 13, 'imc': 31.696340576649458, 'classificacao': 'Obesidade Grau I'},\n",
       " {'id': 14, 'imc': 21.585104630087333, 'classificacao': 'Adequado'},\n",
       " {'id': 16, 'imc': 44.421414399092974, 'classificacao': 'Obesidade Grau III'},\n",
       " {'id': 18, 'imc': 31.22841263259567, 'classificacao': 'Obesidade Grau I'},\n",
       " {'id': 19, 'imc': 32.501799949968266, 'classificacao': 'Obesidade Grau I'},\n",
       " {'id': 22, 'imc': 48.67120181405895, 'classificacao': 'Obesidade Grau III'},\n",
       " {'id': 24, 'imc': 46.621669501133795, 'classificacao': 'Obesidade Grau III'},\n",
       " {'id': 1, 'imc': 37.91369968976147, 'classificacao': 'Obesidade Grau II'},\n",
       " {'id': 2, 'imc': 35.013599160809285, 'classificacao': 'Obesidade Grau II'},\n",
       " {'id': 8, 'imc': 43.67613799848233, 'classificacao': 'Obesidade Grau III'},\n",
       " {'id': 9, 'imc': 22.97587423399112, 'classificacao': 'Adequado'},\n",
       " {'id': 10, 'imc': 35.184437979145876, 'classificacao': 'Obesidade Grau II'},\n",
       " {'id': 12, 'imc': 29.122108169126772, 'classificacao': 'Pré-Obeso'},\n",
       " {'id': 13, 'imc': 31.696340576649458, 'classificacao': 'Obesidade Grau I'},\n",
       " {'id': 14, 'imc': 21.585104630087333, 'classificacao': 'Adequado'},\n",
       " {'id': 16, 'imc': 44.421414399092974, 'classificacao': 'Obesidade Grau III'},\n",
       " {'id': 18, 'imc': 31.22841263259567, 'classificacao': 'Obesidade Grau I'},\n",
       " {'id': 19, 'imc': 32.501799949968266, 'classificacao': 'Obesidade Grau I'},\n",
       " {'id': 22, 'imc': 48.67120181405895, 'classificacao': 'Obesidade Grau III'},\n",
       " {'id': 24, 'imc': 46.621669501133795, 'classificacao': 'Obesidade Grau III'},\n",
       " {'id': 1, 'imc': 37.91369968976147, 'classificacao': 'Obesidade Grau II'},\n",
       " {'id': 2, 'imc': 35.013599160809285, 'classificacao': 'Obesidade Grau II'},\n",
       " {'id': 8, 'imc': 43.67613799848233, 'classificacao': 'Obesidade Grau III'},\n",
       " {'id': 9, 'imc': 22.97587423399112, 'classificacao': 'Adequado'},\n",
       " {'id': 10, 'imc': 35.184437979145876, 'classificacao': 'Obesidade Grau II'},\n",
       " {'id': 12, 'imc': 29.122108169126772, 'classificacao': 'Pré-Obeso'},\n",
       " {'id': 13, 'imc': 31.696340576649458, 'classificacao': 'Obesidade Grau I'},\n",
       " {'id': 14, 'imc': 21.585104630087333, 'classificacao': 'Adequado'},\n",
       " {'id': 16, 'imc': 44.421414399092974, 'classificacao': 'Obesidade Grau III'},\n",
       " {'id': 18, 'imc': 31.22841263259567, 'classificacao': 'Obesidade Grau I'},\n",
       " {'id': 19, 'imc': 32.501799949968266, 'classificacao': 'Obesidade Grau I'},\n",
       " {'id': 22, 'imc': 48.67120181405895, 'classificacao': 'Obesidade Grau III'},\n",
       " {'id': 24, 'imc': 46.621669501133795, 'classificacao': 'Obesidade Grau III'}]"
      ]
     },
     "execution_count": 54,
     "metadata": {},
     "output_type": "execute_result"
    }
   ],
   "source": [
    "resposta"
   ]
  },
  {
   "cell_type": "markdown",
   "id": "b33f9c3d",
   "metadata": {
    "heading_collapsed": true,
    "hidden": true
   },
   "source": [
    "#### Outra maneira de ser fazer"
   ]
  },
  {
   "cell_type": "code",
   "execution_count": 11,
   "id": "15342ab4",
   "metadata": {
    "ExecuteTime": {
     "end_time": "2021-11-10T16:19:37.102734Z",
     "start_time": "2021-11-10T16:19:37.097721Z"
    },
    "hidden": true
   },
   "outputs": [],
   "source": [
    "# Função que irá criar o Mapa\n",
    "def result(imc, user):\n",
    "    \n",
    "    if imc >= 40:\n",
    "        return {'id': user['id'], 'imc': round(imc, 2), 'classificacao': 'Obesidade Grau III'}\n",
    "    elif imc >= 35:\n",
    "        return {'id': user['id'], 'imc': round(imc, 2), 'classificacao': 'Obesidade Grau II'}\n",
    "    elif imc >= 30:\n",
    "        return {'id': user['id'], 'imc': round(imc, 2), 'classificacao': 'Obesidade Grau I'}\n",
    "    elif imc >= 25:\n",
    "        return {'id': user['id'], 'imc': round(imc, 2), 'classificacao': 'Pré-Obeso'}\n",
    "    elif imc >= 18.5:\n",
    "        return {'id': user['id'], 'imc': round(imc, 2), 'classificacao': 'Adequado'}\n",
    "    elif imc >= 17:\n",
    "        return {'id': user['id'], 'imc': round(imc, 2), 'classificacao': 'Magreza Grau I'}\n",
    "    elif imc >= 16:\n",
    "        return {'id': user['id'], 'imc': round(imc, 2), 'classificacao': 'Magreza Grau II'}\n",
    "    else:\n",
    "        return {'id': user['id'], 'imc': round(imc, 2), 'classificacao': 'Magreza Grau III'}"
   ]
  },
  {
   "cell_type": "code",
   "execution_count": 12,
   "id": "3cee0bee",
   "metadata": {
    "ExecuteTime": {
     "end_time": "2021-11-10T16:19:37.297218Z",
     "start_time": "2021-11-10T16:19:37.284656Z"
    },
    "hidden": true
   },
   "outputs": [
    {
     "data": {
      "text/plain": [
       "[{'id': 1, 'imc': 37.91, 'classificacao': 'Obesidade Grau II'},\n",
       " {'id': 2, 'imc': 35.01, 'classificacao': 'Obesidade Grau II'},\n",
       " {'id': 8, 'imc': 43.68, 'classificacao': 'Obesidade Grau III'},\n",
       " {'id': 9, 'imc': 22.98, 'classificacao': 'Adequado'},\n",
       " {'id': 10, 'imc': 35.18, 'classificacao': 'Obesidade Grau II'},\n",
       " {'id': 12, 'imc': 29.12, 'classificacao': 'Pré-Obeso'},\n",
       " {'id': 13, 'imc': 31.7, 'classificacao': 'Obesidade Grau I'},\n",
       " {'id': 14, 'imc': 21.59, 'classificacao': 'Adequado'},\n",
       " {'id': 16, 'imc': 44.42, 'classificacao': 'Obesidade Grau III'},\n",
       " {'id': 18, 'imc': 31.23, 'classificacao': 'Obesidade Grau I'},\n",
       " {'id': 19, 'imc': 32.5, 'classificacao': 'Obesidade Grau I'},\n",
       " {'id': 22, 'imc': 48.67, 'classificacao': 'Obesidade Grau III'},\n",
       " {'id': 24, 'imc': 46.62, 'classificacao': 'Obesidade Grau III'}]"
      ]
     },
     "execution_count": 12,
     "metadata": {},
     "output_type": "execute_result"
    }
   ],
   "source": [
    "imc_selected = list(\n",
    "    map(\n",
    "        result,\n",
    "        list(map(\n",
    "            imc_calc, \n",
    "            map(weight_conv, filter(filter_gender, data)), \n",
    "            map(heigth_conv, filter(filter_gender, data))\n",
    "        )),\n",
    "        list(filter(filter_gender, data))\n",
    "    )\n",
    ")\n",
    "imc_selected"
   ]
  },
  {
   "cell_type": "markdown",
   "id": "a09fe8a5",
   "metadata": {},
   "source": [
    "# PROGRAMAÇÃO FUNCIONAL"
   ]
  },
  {
   "cell_type": "markdown",
   "id": "e80f374d",
   "metadata": {},
   "source": [
    "Em desenvolvimento de sistemas temos alguns paradigmas vigentes. Entenda paradigma como a forma na qual organizamos, pensamos e estruturamos o nosso código e/ou algoritmo.\n",
    "\n",
    "Por exemplo, o paradigma de Programação Orientado à Objetos (POO), que vimos em aulas anteriores, possuí a ideia de representar objetos e entidades do mundo externo em classes e objetos computacionais. Logo, toda a organização da aplicação será feita utilizando classes e como essas classes irão interagir entre si.\n",
    "\n",
    "Já a **Programação Funcional** possuí a ideia de estruturar a aplicação em funções, fazendo com que a execução da aplicação, ao ser executada, vá chamando e executando funções que desenvolvemos. Ou seja, toda e qualquer interação da aplicação executará uma função, e não um método de um objeto.\n",
    "\n",
    "Para ficar um pouco mais claro, pense que para cada ação que nossa aplicação deve executar, teremos uma função. E essa função pode ser uma função pura ou uma função que é a composição de outras funções."
   ]
  },
  {
   "cell_type": "markdown",
   "id": "7c1ffe12",
   "metadata": {
    "heading_collapsed": true
   },
   "source": [
    "## Funções Puras"
   ]
  },
  {
   "cell_type": "markdown",
   "id": "266adc6a",
   "metadata": {
    "hidden": true
   },
   "source": [
    "Funções puras são as funções já conhecidas por nós. Uma função pura é a definição de uma função simples que executa algo e devolve um determinado resultado, sendo que esse resultado será sempre o mesmo, independente de quantas vezes executarmos. Por exemplo:"
   ]
  },
  {
   "cell_type": "code",
   "execution_count": 16,
   "id": "fe90e516",
   "metadata": {
    "ExecuteTime": {
     "end_time": "2022-03-10T00:03:10.083267Z",
     "start_time": "2022-03-10T00:03:10.080338Z"
    },
    "hidden": true
   },
   "outputs": [],
   "source": [
    "def _mean(values):\n",
    "    return sum(values) / len(values)"
   ]
  },
  {
   "cell_type": "markdown",
   "id": "2d39be28",
   "metadata": {
    "hidden": true
   },
   "source": [
    "Embora estamos utilizando outras duas funções dentro da função `mean()`, ela é consireada como uma função pura, pois independente da quantidade de vezes que executarmos essa função, sempre pasando os mesmos valores, obteremos o mesmo resultado:"
   ]
  },
  {
   "cell_type": "code",
   "execution_count": 17,
   "id": "f1a7bbe1",
   "metadata": {
    "ExecuteTime": {
     "end_time": "2022-03-10T00:03:10.560060Z",
     "start_time": "2022-03-10T00:03:10.557114Z"
    },
    "hidden": true
   },
   "outputs": [],
   "source": [
    "values = [7, 2, 5, 1, 3, 6, 4]"
   ]
  },
  {
   "cell_type": "code",
   "execution_count": 19,
   "id": "0c1b63a0",
   "metadata": {
    "ExecuteTime": {
     "end_time": "2022-03-10T00:03:15.874524Z",
     "start_time": "2022-03-10T00:03:15.871025Z"
    },
    "hidden": true
   },
   "outputs": [
    {
     "name": "stdout",
     "output_type": "stream",
     "text": [
      "4.0\n",
      "140649545606128\n"
     ]
    }
   ],
   "source": [
    "print(_mean(values))\n",
    "print(id(_mean(values)))"
   ]
  },
  {
   "cell_type": "code",
   "execution_count": 20,
   "id": "f6a4342f",
   "metadata": {
    "ExecuteTime": {
     "end_time": "2022-03-10T00:03:16.777673Z",
     "start_time": "2022-03-10T00:03:16.775348Z"
    },
    "hidden": true
   },
   "outputs": [
    {
     "name": "stdout",
     "output_type": "stream",
     "text": [
      "4.0\n",
      "140649546773744\n"
     ]
    }
   ],
   "source": [
    "print(_mean(values))\n",
    "print(id(_mean(values)))"
   ]
  },
  {
   "cell_type": "code",
   "execution_count": 21,
   "id": "1a486e28",
   "metadata": {
    "ExecuteTime": {
     "end_time": "2022-03-10T00:03:16.777673Z",
     "start_time": "2022-03-10T00:03:16.775348Z"
    },
    "hidden": true
   },
   "outputs": [
    {
     "name": "stdout",
     "output_type": "stream",
     "text": [
      "4.0\n",
      "140649545606640\n"
     ]
    }
   ],
   "source": [
    "print(_mean(values))\n",
    "print(id(_mean(values)))"
   ]
  },
  {
   "cell_type": "code",
   "execution_count": 22,
   "id": "9a6864f9",
   "metadata": {
    "ExecuteTime": {
     "end_time": "2022-03-10T00:03:16.777673Z",
     "start_time": "2022-03-10T00:03:16.775348Z"
    },
    "hidden": true
   },
   "outputs": [
    {
     "name": "stdout",
     "output_type": "stream",
     "text": [
      "4.0\n",
      "140649546773936\n"
     ]
    }
   ],
   "source": [
    "print(_mean(values))\n",
    "print(id(_mean(values)))"
   ]
  },
  {
   "cell_type": "code",
   "execution_count": 23,
   "id": "c159d4cf",
   "metadata": {
    "ExecuteTime": {
     "end_time": "2022-03-10T00:03:16.777673Z",
     "start_time": "2022-03-10T00:03:16.775348Z"
    },
    "hidden": true
   },
   "outputs": [
    {
     "name": "stdout",
     "output_type": "stream",
     "text": [
      "4.0\n",
      "140649545605648\n"
     ]
    }
   ],
   "source": [
    "print(_mean(values))\n",
    "print(id(_mean(values)))"
   ]
  },
  {
   "cell_type": "code",
   "execution_count": 17,
   "id": "d65dfe02",
   "metadata": {
    "ExecuteTime": {
     "end_time": "2021-11-08T17:59:30.095258Z",
     "start_time": "2021-11-08T17:59:30.092410Z"
    },
    "hidden": true
   },
   "outputs": [
    {
     "data": {
      "text/plain": [
       "4.0"
      ]
     },
     "execution_count": 17,
     "metadata": {},
     "output_type": "execute_result"
    }
   ],
   "source": [
    "_mean(values)"
   ]
  },
  {
   "cell_type": "code",
   "execution_count": 18,
   "id": "c2f704a5",
   "metadata": {
    "ExecuteTime": {
     "end_time": "2021-11-08T17:59:30.099470Z",
     "start_time": "2021-11-08T17:59:30.096602Z"
    },
    "hidden": true
   },
   "outputs": [
    {
     "data": {
      "text/plain": [
       "4.0"
      ]
     },
     "execution_count": 18,
     "metadata": {},
     "output_type": "execute_result"
    }
   ],
   "source": [
    "_mean(values)"
   ]
  },
  {
   "cell_type": "markdown",
   "id": "69cbbcc4",
   "metadata": {
    "heading_collapsed": true
   },
   "source": [
    "## Funções Impuras"
   ]
  },
  {
   "cell_type": "markdown",
   "id": "824fb591",
   "metadata": {
    "hidden": true
   },
   "source": [
    "Em contraste com as funções puras, temos as funções impuras, que são situações totalmente indesejáveis quando estamos utilizando o paradigma funcional. Uma função impura é uma função que, de alguma forma, utiliza algum estado da aplicação e faz com que o resultado dela seja sempre alterado, independente de executarmos sempre com o mesmo valor:"
   ]
  },
  {
   "cell_type": "code",
   "execution_count": 31,
   "id": "d70aaa17",
   "metadata": {
    "ExecuteTime": {
     "end_time": "2022-03-10T00:04:40.689478Z",
     "start_time": "2022-03-10T00:04:40.686290Z"
    },
    "hidden": true
   },
   "outputs": [],
   "source": [
    "values = []"
   ]
  },
  {
   "cell_type": "code",
   "execution_count": 32,
   "id": "2e90f588",
   "metadata": {
    "ExecuteTime": {
     "end_time": "2022-03-10T00:04:40.813639Z",
     "start_time": "2022-03-10T00:04:40.810158Z"
    },
    "hidden": true
   },
   "outputs": [],
   "source": [
    "def impura(x):\n",
    "    return values.append(x)"
   ]
  },
  {
   "cell_type": "code",
   "execution_count": 33,
   "id": "c8abcbea",
   "metadata": {
    "ExecuteTime": {
     "end_time": "2022-03-10T00:04:41.432127Z",
     "start_time": "2022-03-10T00:04:41.428060Z"
    },
    "hidden": true
   },
   "outputs": [
    {
     "name": "stdout",
     "output_type": "stream",
     "text": [
      "O ID da lista é = 140649545437120\n",
      "Valores da lista = []\n",
      "\n",
      "O ID da lista é = 140649545437120\n",
      "Valores da lista = [1]\n",
      "\n",
      "O ID da lista é = 140649545437120\n",
      "Valores da lista = [1, 2]\n",
      "\n",
      "O ID da lista é = 140649545437120\n",
      "Valores da lista = [1, 2, 3]\n",
      "\n",
      "O ID da lista é = 140649545437120\n",
      "Valores da lista = [1, 2, 3, 4]\n",
      "\n"
     ]
    }
   ],
   "source": [
    "print(f'O ID da lista é = {id(values)}')\n",
    "print(f'Valores da lista = {values}\\n')\n",
    "impura(1)\n",
    "\n",
    "print(f'O ID da lista é = {id(values)}')\n",
    "print(f'Valores da lista = {values}\\n')\n",
    "impura(2)\n",
    "\n",
    "print(f'O ID da lista é = {id(values)}')\n",
    "print(f'Valores da lista = {values}\\n')\n",
    "impura(3)\n",
    "\n",
    "print(f'O ID da lista é = {id(values)}')\n",
    "print(f'Valores da lista = {values}\\n')\n",
    "impura(4)\n",
    "\n",
    "print(f'O ID da lista é = {id(values)}')\n",
    "print(f'Valores da lista = {values}\\n')"
   ]
  },
  {
   "cell_type": "markdown",
   "id": "bf452df3",
   "metadata": {
    "hidden": true
   },
   "source": [
    "Como podemos observar, a cada vez que executamos a função `impura()`, o estado da lista `values` é alterado (Podemos ter essa certeza por conta do ID da lista ser sempre o mesmo). Essa alteração de estado é algo que não deve ser feito utilizando o paradigma funcional.\n",
    "\n",
    "Uma maneira de resolvermos esse problema, seria:"
   ]
  },
  {
   "cell_type": "code",
   "execution_count": 34,
   "id": "28cfd34a",
   "metadata": {
    "ExecuteTime": {
     "end_time": "2022-03-10T00:05:14.547452Z",
     "start_time": "2022-03-10T00:05:14.544933Z"
    },
    "hidden": true
   },
   "outputs": [],
   "source": [
    "new_values = []"
   ]
  },
  {
   "cell_type": "code",
   "execution_count": 35,
   "id": "bf8f551d",
   "metadata": {
    "ExecuteTime": {
     "end_time": "2022-03-10T00:05:14.671338Z",
     "start_time": "2022-03-10T00:05:14.668958Z"
    },
    "hidden": true
   },
   "outputs": [],
   "source": [
    "def pura(x, values):\n",
    "    return values + [x]"
   ]
  },
  {
   "cell_type": "code",
   "execution_count": 36,
   "id": "a73a4be7",
   "metadata": {
    "ExecuteTime": {
     "end_time": "2022-03-10T00:05:14.876315Z",
     "start_time": "2022-03-10T00:05:14.868745Z"
    },
    "hidden": true
   },
   "outputs": [
    {
     "name": "stdout",
     "output_type": "stream",
     "text": [
      "O ID da lista é = 140649545697792\n",
      "Valores da lista = []\n",
      "\n",
      "O ID da lista é = 140649545758400\n",
      "Valores da lista = [1]\n",
      "\n",
      "O ID da lista é = 140649545377344\n",
      "Valores da lista = [1, 2]\n",
      "\n",
      "O ID da lista é = 140649545697792\n",
      "Valores da lista = [1, 2, 3]\n",
      "\n",
      "O ID da lista é = 140649545391296\n",
      "Valores da lista = [1, 2, 3, 4]\n",
      "\n"
     ]
    }
   ],
   "source": [
    "print(f'O ID da lista é = {id(new_values)}')\n",
    "print(f'Valores da lista = {new_values}\\n')\n",
    "new_values = pura(1, new_values)\n",
    "\n",
    "print(f'O ID da lista é = {id(new_values)}')\n",
    "print(f'Valores da lista = {new_values}\\n')\n",
    "new_values = pura(2, new_values)\n",
    "\n",
    "print(f'O ID da lista é = {id(new_values)}')\n",
    "print(f'Valores da lista = {new_values}\\n')\n",
    "new_values = pura(3, new_values)\n",
    "\n",
    "print(f'O ID da lista é = {id(new_values)}')\n",
    "print(f'Valores da lista = {new_values}\\n')\n",
    "new_values = pura(4, new_values)\n",
    "\n",
    "print(f'O ID da lista é = {id(new_values)}')\n",
    "print(f'Valores da lista = {new_values}\\n')"
   ]
  },
  {
   "cell_type": "markdown",
   "id": "843efb85",
   "metadata": {
    "hidden": true
   },
   "source": [
    "Observe que agora, embora temos o mesmo resultado da função impura anterior, o `id` da nossa lista está sendo sempre altera, criando sempre um novo objeto e com isso garantindo que o estado do objeto anterior não seja alterado, garantindo assim que a função não tenha efeitos colaterais."
   ]
  },
  {
   "cell_type": "code",
   "execution_count": 37,
   "id": "59a67186",
   "metadata": {
    "ExecuteTime": {
     "end_time": "2022-03-10T00:10:01.868394Z",
     "start_time": "2022-03-10T00:10:01.865294Z"
    },
    "hidden": true
   },
   "outputs": [],
   "source": [
    "valores = [ 1, 2, 3, 4, 5, 6, 7, 8, 9, 10, 11 ]"
   ]
  },
  {
   "cell_type": "code",
   "execution_count": null,
   "id": "d5d3e740",
   "metadata": {
    "hidden": true
   },
   "outputs": [],
   "source": []
  },
  {
   "cell_type": "code",
   "execution_count": null,
   "id": "ab6c005c",
   "metadata": {
    "hidden": true
   },
   "outputs": [],
   "source": []
  },
  {
   "cell_type": "code",
   "execution_count": null,
   "id": "f305af7c",
   "metadata": {
    "hidden": true
   },
   "outputs": [],
   "source": []
  },
  {
   "cell_type": "code",
   "execution_count": null,
   "id": "aa1a20b5",
   "metadata": {
    "hidden": true
   },
   "outputs": [],
   "source": []
  },
  {
   "cell_type": "code",
   "execution_count": null,
   "id": "89e1c2d0",
   "metadata": {
    "hidden": true
   },
   "outputs": [],
   "source": []
  },
  {
   "cell_type": "code",
   "execution_count": null,
   "id": "1bee99ee",
   "metadata": {
    "hidden": true
   },
   "outputs": [],
   "source": []
  },
  {
   "cell_type": "code",
   "execution_count": null,
   "id": "28a51ada",
   "metadata": {
    "hidden": true
   },
   "outputs": [],
   "source": []
  },
  {
   "cell_type": "code",
   "execution_count": null,
   "id": "bb592b0b",
   "metadata": {
    "hidden": true
   },
   "outputs": [],
   "source": []
  },
  {
   "cell_type": "markdown",
   "id": "1e6023e7",
   "metadata": {},
   "source": [
    "## Composições de Funções "
   ]
  },
  {
   "cell_type": "markdown",
   "id": "f44bdde0",
   "metadata": {},
   "source": [
    "Agora que entendemos os conceitos de funções puras e impuras, vamos verificar o que são composições de funções.\n",
    "\n",
    "Uma composição de função é criada quando utilizamos a saída de uma função, ou seja, seu resultado, como a entrada de uma outra função.\n",
    "\n",
    "Além disso, muitas linguagens de programação, como o Python nos permitem utilizar composição de funções para executarmos seleções ou a execução de uma determinada função em todos os elementos de uma estrutura.\n",
    "\n",
    "Para exemplificar, imagine que você tenha a seguinte lista:\n",
    "\n",
    "```python\n",
    "lista = [7, 2, 5, 1, 3, 6, 4, 8]\n",
    "```\n",
    "\n",
    "E que desejamos selecionar somente os valores pares dessa lista e, com esses valores selecionados, calcular as suas respectivas raizes quadradas. Um meio de fazermos isso seria com o método hiperativo, que é o método visto até o momento:"
   ]
  },
  {
   "cell_type": "code",
   "execution_count": 25,
   "id": "f0a28753",
   "metadata": {
    "ExecuteTime": {
     "end_time": "2021-11-08T17:59:30.201803Z",
     "start_time": "2021-11-08T17:59:30.197345Z"
    }
   },
   "outputs": [
    {
     "data": {
      "text/plain": [
       "[1.4142135623730951, 2.449489742783178, 2.0, 2.8284271247461903]"
      ]
     },
     "execution_count": 25,
     "metadata": {},
     "output_type": "execute_result"
    }
   ],
   "source": [
    "# Importar a biblioteca 'math' do Python para\n",
    "# podermos utilizar a função 'sqrt()' para \n",
    "# calcularmos a raiz quadrada dos valores\n",
    "import math\n",
    "\n",
    "# Lista com os valores\n",
    "lista = [7, 2, 5, 1, 3, 6, 4, 8]\n",
    "\n",
    "# Lista que será guardada a resposta\n",
    "lista_resposta = []\n",
    "\n",
    "# Percorre a lista de valores para seperar\n",
    "# os valores pares\n",
    "for elemento in lista:\n",
    "    if elemento % 2 == 0:\n",
    "        lista_resposta.append(elemento)\n",
    "\n",
    "# Percorre a lista de valores separados para\n",
    "# calcular a raiz quadrada de cada elemento\n",
    "for indice, elemento in enumerate(lista_resposta):\n",
    "    lista_resposta[indice] = math.sqrt(elemento)\n",
    "    \n",
    "# Exibe a lista resposta\n",
    "lista_resposta"
   ]
  },
  {
   "cell_type": "markdown",
   "id": "e3574da6",
   "metadata": {},
   "source": [
    "Um outro método é utilizando composição de funções:"
   ]
  },
  {
   "cell_type": "code",
   "execution_count": 55,
   "id": "175752b6",
   "metadata": {
    "ExecuteTime": {
     "end_time": "2022-03-10T00:27:14.830988Z",
     "start_time": "2022-03-10T00:27:14.828947Z"
    }
   },
   "outputs": [],
   "source": [
    "def even_odd(value):\n",
    "    return True if value % 2 == 0 else False"
   ]
  },
  {
   "cell_type": "code",
   "execution_count": 56,
   "id": "f13c09f1",
   "metadata": {
    "ExecuteTime": {
     "end_time": "2022-03-10T00:27:14.944363Z",
     "start_time": "2022-03-10T00:27:14.942047Z"
    }
   },
   "outputs": [],
   "source": [
    "def _sqrt(value):\n",
    "    return math.sqrt(value)"
   ]
  },
  {
   "cell_type": "code",
   "execution_count": 57,
   "id": "99492e4b",
   "metadata": {
    "ExecuteTime": {
     "end_time": "2022-03-10T00:27:15.307372Z",
     "start_time": "2022-03-10T00:27:15.304457Z"
    }
   },
   "outputs": [],
   "source": [
    "lista = [7, 2, 5, 1, 3, 6, 4, 8]"
   ]
  },
  {
   "cell_type": "code",
   "execution_count": 58,
   "id": "cca957f8",
   "metadata": {
    "ExecuteTime": {
     "end_time": "2022-03-10T00:32:46.571135Z",
     "start_time": "2022-03-10T00:32:46.554099Z"
    }
   },
   "outputs": [
    {
     "ename": "TypeError",
     "evalue": "'bool' object is not callable",
     "output_type": "error",
     "traceback": [
      "\u001b[0;31m---------------------------------------------------------------------------\u001b[0m",
      "\u001b[0;31mTypeError\u001b[0m                                 Traceback (most recent call last)",
      "Input \u001b[0;32mIn [58]\u001b[0m, in \u001b[0;36m<module>\u001b[0;34m\u001b[0m\n\u001b[0;32m----> 1\u001b[0m lista_resposta \u001b[38;5;241m=\u001b[39m \u001b[38;5;28;43mlist\u001b[39;49m\u001b[43m(\u001b[49m\u001b[43m \u001b[49m\u001b[38;5;28;43mmap\u001b[39;49m\u001b[43m \u001b[49m\u001b[43m(\u001b[49m\u001b[43m \u001b[49m\u001b[43m_sqrt\u001b[49m\u001b[43m,\u001b[49m\u001b[43m \u001b[49m\u001b[38;5;28;43mfilter\u001b[39;49m\u001b[43m(\u001b[49m\u001b[38;5;129;43;01mnot\u001b[39;49;00m\u001b[43m(\u001b[49m\u001b[43meven_odd\u001b[49m\u001b[43m)\u001b[49m\u001b[43m,\u001b[49m\u001b[43m \u001b[49m\u001b[43mlista\u001b[49m\u001b[43m)\u001b[49m\u001b[43m \u001b[49m\u001b[43m)\u001b[49m\u001b[43m \u001b[49m\u001b[43m)\u001b[49m\n\u001b[1;32m      2\u001b[0m lista_resposta\n",
      "\u001b[0;31mTypeError\u001b[0m: 'bool' object is not callable"
     ]
    }
   ],
   "source": [
    "lista_resposta = list( map ( _sqrt, filter(even_odd, lista) ) )\n",
    "lista_resposta"
   ]
  },
  {
   "cell_type": "code",
   "execution_count": 59,
   "id": "b8920040",
   "metadata": {
    "ExecuteTime": {
     "end_time": "2022-03-10T00:34:07.700218Z",
     "start_time": "2022-03-10T00:34:07.696756Z"
    }
   },
   "outputs": [
    {
     "data": {
      "text/plain": [
       "<function __main__.even_odd(value)>"
      ]
     },
     "execution_count": 59,
     "metadata": {},
     "output_type": "execute_result"
    }
   ],
   "source": [
    "even_odd"
   ]
  },
  {
   "cell_type": "markdown",
   "id": "d2d85fe0",
   "metadata": {},
   "source": [
    "Veja que utilizamos várias funções para compor as operações que desejamos. Primeiro utilizamos a função ***filter()*** para filtrar ou separar os dados que precisávamos, utilizando a função `even_odd()`. Com o resultado dos dados filtrados, utilizamos a função ***map()*** para executarmos, em cada um dos elementos separados pelo nosso filtro, a função `_sqrt()` eu criamos. Por fim, utilizamos a função ***list()***, que já vimos anteriormente, para converter o resultado da função ***map()*** em uma lista.\n",
    "\n",
    "Essa forma de resolução é o que chamamos de **Programação Funcional**, pois utilizamos funções para calcular/computar nossos resultados."
   ]
  },
  {
   "cell_type": "markdown",
   "id": "e644ef43",
   "metadata": {
    "heading_collapsed": true
   },
   "source": [
    "### Função *filter()*"
   ]
  },
  {
   "cell_type": "markdown",
   "id": "c300c40a",
   "metadata": {
    "hidden": true
   },
   "source": [
    "A função `filter()` dentro do Python tem como objetivo facilitar a seleção de elementos que estão dentro de um iterador, como as estruturas de listas, tuplas ou dicionários.\n",
    "\n",
    "A assinatura da função `filter()` é a seguinte:\n",
    "\n",
    "```python\n",
    "filter(funcao, iteravel)\n",
    "```\n",
    "\n",
    "A `funcao` que esta no primeiro parâmetro é a fução que será utilizada para realizar a filtragem dos dados; O `iteravel` que está no segundo parâmetro é uma estrutura na qual iremos filtrar os dados, sendo que essa estrutura deve ser um iterável. A função `filter()` irá retornar um objeto do tipo ***iterator*** (iterador).\n",
    "\n",
    "É importante explicar que a função `filter()` do Python equivale à seguinte declaração:\n",
    "\n",
    "```python\n",
    "(item for item in iterable if function(item))\n",
    "```\n",
    "\n",
    "Por conta disso, só conseguiremos executar filtragens simples e que possa ser descritas como a declaração acima.\n",
    "\n",
    "Exemplos de utilização da função `filter()`:"
   ]
  },
  {
   "cell_type": "code",
   "execution_count": 60,
   "id": "394f0d28",
   "metadata": {
    "ExecuteTime": {
     "end_time": "2022-03-10T00:36:00.504671Z",
     "start_time": "2022-03-10T00:36:00.499893Z"
    },
    "hidden": true
   },
   "outputs": [
    {
     "data": {
      "text/plain": [
       "<filter at 0x7feb85de1d00>"
      ]
     },
     "execution_count": 60,
     "metadata": {},
     "output_type": "execute_result"
    }
   ],
   "source": [
    "# Filtragem de valores maiores que 18\n",
    "values = [1, 14, 2, 18, 20, 21, 22, 90]\n",
    "\n",
    "def filter_values(value):\n",
    "    return True if value > 18 else False\n",
    "    \n",
    "values_filtered = filter(filter_values, values) \n",
    "values_filtered"
   ]
  },
  {
   "cell_type": "code",
   "execution_count": 205,
   "id": "99140c16",
   "metadata": {
    "ExecuteTime": {
     "end_time": "2022-03-10T01:00:16.009666Z",
     "start_time": "2022-03-10T01:00:16.005618Z"
    },
    "hidden": true
   },
   "outputs": [
    {
     "data": {
      "text/plain": [
       "[20, 21, 22, 90]"
      ]
     },
     "execution_count": 205,
     "metadata": {},
     "output_type": "execute_result"
    }
   ],
   "source": [
    "# Filtragem de valores maiores que 18\n",
    "values = [1, 14, 2, 18, 20, 21, 22, 90]\n",
    "\n",
    "def filter_values(value):\n",
    "    return True if value > 18 else False\n",
    "    \n",
    "values_filtered = list( filter(filter_values, values) )\n",
    "values_filtered"
   ]
  },
  {
   "cell_type": "code",
   "execution_count": 204,
   "id": "12f5a11a",
   "metadata": {
    "ExecuteTime": {
     "end_time": "2021-11-08T20:38:20.575465Z",
     "start_time": "2021-11-08T20:38:20.566873Z"
    },
    "hidden": true
   },
   "outputs": [
    {
     "data": {
      "text/plain": [
       "[1, 4, 9, 25]"
      ]
     },
     "execution_count": 204,
     "metadata": {},
     "output_type": "execute_result"
    }
   ],
   "source": [
    "# Filtragem dos valores que possuem raiz quadrada inteira\n",
    "values = [1, 2, 3, 4, 8, 9, 10, 11, 22, 23, 24, 25]\n",
    "\n",
    "import math\n",
    "\n",
    "def filter_values(value):\n",
    "    return True if (math.sqrt(value).is_integer() or isinstance(math.sqrt(value), int)) else False\n",
    "    \n",
    "values_filtered = list(filter(filter_values, values))\n",
    "values_filtered"
   ]
  },
  {
   "cell_type": "markdown",
   "id": "323b8a22",
   "metadata": {
    "hidden": true
   },
   "source": [
    "#### Exemplo de seleção de nomes em uma lista"
   ]
  },
  {
   "cell_type": "code",
   "execution_count": 199,
   "id": "af9623ea",
   "metadata": {
    "ExecuteTime": {
     "end_time": "2021-11-08T20:37:35.942873Z",
     "start_time": "2021-11-08T20:37:35.938399Z"
    },
    "hidden": true
   },
   "outputs": [],
   "source": [
    "names = ['Pedro', 'Guilherme', 'Volpato', 'Ferraresi']"
   ]
  },
  {
   "cell_type": "code",
   "execution_count": 200,
   "id": "d6b021dd",
   "metadata": {
    "ExecuteTime": {
     "end_time": "2021-11-08T20:37:36.013217Z",
     "start_time": "2021-11-08T20:37:36.010740Z"
    },
    "hidden": true
   },
   "outputs": [],
   "source": [
    "def filter_name(name):\n",
    "    \n",
    "    filter_rule = ['Pedro', 'Ferraresi']\n",
    "    \n",
    "    return True if name in filter_rule else False"
   ]
  },
  {
   "cell_type": "code",
   "execution_count": 201,
   "id": "68018eff",
   "metadata": {
    "ExecuteTime": {
     "end_time": "2021-11-08T20:37:36.134577Z",
     "start_time": "2021-11-08T20:37:36.129835Z"
    },
    "hidden": true
   },
   "outputs": [
    {
     "data": {
      "text/plain": [
       "['Pedro', 'Ferraresi']"
      ]
     },
     "execution_count": 201,
     "metadata": {},
     "output_type": "execute_result"
    }
   ],
   "source": [
    "filtered = list(filter(filter_name, names))\n",
    "filtered"
   ]
  },
  {
   "cell_type": "markdown",
   "id": "4ab1c3ee",
   "metadata": {
    "ExecuteTime": {
     "end_time": "2021-11-08T17:59:30.268055Z",
     "start_time": "2021-11-08T17:59:30.268045Z"
    },
    "hidden": true
   },
   "source": [
    "#### Exemplo de seleção de nomes em um dicionário"
   ]
  },
  {
   "cell_type": "code",
   "execution_count": 194,
   "id": "8bd7b22e",
   "metadata": {
    "ExecuteTime": {
     "end_time": "2021-11-08T20:37:12.527785Z",
     "start_time": "2021-11-08T20:37:12.520011Z"
    },
    "hidden": true
   },
   "outputs": [],
   "source": [
    "# Criação dos \n",
    "users = [\n",
    "    {'id': 1, 'name': 'Pedro',     'email': 'pedro@email.com'},\n",
    "    {'id': 2, 'name': 'Guilherme', 'email': 'guilherme@email.com'},\n",
    "    {'id': 3, 'name': 'Volpato',   'email': 'volpato@email.com'},\n",
    "    {'id': 4, 'name': 'Ferraresi', 'email': 'ferraresi@email.com'},\n",
    "]"
   ]
  },
  {
   "cell_type": "code",
   "execution_count": 195,
   "id": "4823cf3b",
   "metadata": {
    "ExecuteTime": {
     "end_time": "2021-11-08T20:37:12.623983Z",
     "start_time": "2021-11-08T20:37:12.619777Z"
    },
    "hidden": true
   },
   "outputs": [],
   "source": [
    "def filter_id(user):\n",
    "    \n",
    "    ids = [1, 2]\n",
    "    \n",
    "    return True if user['id'] in ids else False"
   ]
  },
  {
   "cell_type": "code",
   "execution_count": 196,
   "id": "a74a1ea5",
   "metadata": {
    "ExecuteTime": {
     "end_time": "2021-11-08T20:37:12.752601Z",
     "start_time": "2021-11-08T20:37:12.748567Z"
    },
    "hidden": true
   },
   "outputs": [
    {
     "data": {
      "text/plain": [
       "[{'id': 1, 'name': 'Pedro', 'email': 'pedro@email.com'},\n",
       " {'id': 2, 'name': 'Guilherme', 'email': 'guilherme@email.com'}]"
      ]
     },
     "execution_count": 196,
     "metadata": {},
     "output_type": "execute_result"
    }
   ],
   "source": [
    "filtered = list(filter(filter_id, users))\n",
    "filtered"
   ]
  },
  {
   "cell_type": "markdown",
   "id": "b3803295",
   "metadata": {
    "heading_collapsed": true
   },
   "source": [
    "### Função *map()*"
   ]
  },
  {
   "cell_type": "markdown",
   "id": "2462758d",
   "metadata": {
    "hidden": true
   },
   "source": [
    "Ja a função `map()` é responsável por executar uma função para cada elemento de um iterador. Sua assinatura é: \n",
    "\n",
    "```python\n",
    "map(funcao, iterador, ...)\n",
    "```\n",
    "\n",
    "Assim como na função `filter()`, o parâmetro `funcao` é a fução que será executada em cada um dos dados do iterador; Já o `iteravel` que está no segundo parâmetro é a estrutura na qual iremos executar a função em seus elementos. Os três pontos (`...`) que estão no terceiro parâmetro representam mais um iterador, que é opcional. Ou seja, podemos passar quantos iteradores precisarmos para função `map()`.\n",
    "\n",
    "Vale ressaltar que, assim que o iterador de menor tamanho terminar, ou for totalmente iterado, a função `map()` irá parar de ser executada, independente da quantidade de elemento dos outros iteradores.\n",
    "\n",
    "A função `map()` irá retornar um objeto do tipo ***iterator*** (iterador).\n",
    "\n",
    "Vamos para o exemplo:"
   ]
  },
  {
   "cell_type": "code",
   "execution_count": 61,
   "id": "41d28bd0",
   "metadata": {
    "ExecuteTime": {
     "end_time": "2022-03-10T00:44:05.296537Z",
     "start_time": "2022-03-10T00:44:05.293439Z"
    },
    "hidden": true
   },
   "outputs": [],
   "source": [
    "values = [ 3, 4, 5, 6, 7 ]"
   ]
  },
  {
   "cell_type": "code",
   "execution_count": 62,
   "id": "810d33ad",
   "metadata": {
    "ExecuteTime": {
     "end_time": "2022-03-10T00:45:10.292867Z",
     "start_time": "2022-03-10T00:45:10.289928Z"
    },
    "hidden": true
   },
   "outputs": [],
   "source": [
    "for index, valor in enumerate(values):\n",
    "    values[index] = valor ** 2"
   ]
  },
  {
   "cell_type": "code",
   "execution_count": 63,
   "id": "d898ee9d",
   "metadata": {
    "ExecuteTime": {
     "end_time": "2022-03-10T00:45:19.149057Z",
     "start_time": "2022-03-10T00:45:19.145382Z"
    },
    "hidden": true
   },
   "outputs": [
    {
     "data": {
      "text/plain": [
       "[9, 16, 25, 36, 49]"
      ]
     },
     "execution_count": 63,
     "metadata": {},
     "output_type": "execute_result"
    }
   ],
   "source": [
    "values"
   ]
  },
  {
   "cell_type": "code",
   "execution_count": 77,
   "id": "24eeca38",
   "metadata": {
    "ExecuteTime": {
     "end_time": "2022-03-10T00:58:23.496500Z",
     "start_time": "2022-03-10T00:58:23.493123Z"
    },
    "hidden": true
   },
   "outputs": [],
   "source": [
    "alunos = [\n",
    "    'pedro@gmail.com',\n",
    "    'ana@yahoo.com',\n",
    "    'guilherme@bol.com',\n",
    "    'volpato@terra.com',\n",
    "    'ferraresi@cds.com',\n",
    "    'edu@linux.com',\n",
    "    'joao@hotmail.com',\n",
    "    'renan@outlook.com',\n",
    "    'fernando@qualquer.com',\n",
    "    'carlos@gmail.com',\n",
    "    'alex@gmail.com',\n",
    "    'geová@linux.com',\n",
    "    'giovani@linux.com',\n",
    "]"
   ]
  },
  {
   "cell_type": "code",
   "execution_count": 78,
   "id": "14d11b6f",
   "metadata": {
    "ExecuteTime": {
     "end_time": "2022-03-10T00:58:23.666867Z",
     "start_time": "2022-03-10T00:58:23.664622Z"
    },
    "hidden": true
   },
   "outputs": [],
   "source": [
    "def fuc_map(aluno):\n",
    "    return aluno[aluno.find('@')+1:]"
   ]
  },
  {
   "cell_type": "code",
   "execution_count": 85,
   "id": "aaca4f55",
   "metadata": {
    "ExecuteTime": {
     "end_time": "2022-03-10T01:00:16.009666Z",
     "start_time": "2022-03-10T01:00:16.005618Z"
    },
    "hidden": true
   },
   "outputs": [
    {
     "data": {
      "text/plain": [
       "['gmail.com',\n",
       " 'yahoo.com',\n",
       " 'bol.com',\n",
       " 'terra.com',\n",
       " 'cds.com',\n",
       " 'linux.com',\n",
       " 'hotmail.com',\n",
       " 'outlook.com',\n",
       " 'qualquer.com',\n",
       " 'gmail.com',\n",
       " 'gmail.com',\n",
       " 'linux.com',\n",
       " 'linux.com']"
      ]
     },
     "execution_count": 85,
     "metadata": {},
     "output_type": "execute_result"
    }
   ],
   "source": [
    "r = list(map( fuc_map, alunos ))\n",
    "# r = set(map( fuc_map, alunos ))\n",
    "# r = map( fuc_map, alunos )\n",
    "r"
   ]
  },
  {
   "cell_type": "code",
   "execution_count": null,
   "id": "36c59938",
   "metadata": {
    "hidden": true
   },
   "outputs": [],
   "source": []
  },
  {
   "cell_type": "code",
   "execution_count": null,
   "id": "6070e215",
   "metadata": {
    "hidden": true
   },
   "outputs": [],
   "source": []
  },
  {
   "cell_type": "code",
   "execution_count": null,
   "id": "a98362bb",
   "metadata": {
    "hidden": true
   },
   "outputs": [],
   "source": []
  },
  {
   "cell_type": "code",
   "execution_count": null,
   "id": "91612c99",
   "metadata": {
    "hidden": true
   },
   "outputs": [],
   "source": []
  },
  {
   "cell_type": "code",
   "execution_count": 72,
   "id": "7e1927bd",
   "metadata": {
    "ExecuteTime": {
     "end_time": "2022-03-10T00:54:39.357921Z",
     "start_time": "2022-03-10T00:54:39.354171Z"
    },
    "hidden": true
   },
   "outputs": [
    {
     "data": {
      "text/plain": [
       "'gmail.com'"
      ]
     },
     "execution_count": 72,
     "metadata": {},
     "output_type": "execute_result"
    }
   ],
   "source": [
    "alunos[0][alunos[0].find('@')+1:]"
   ]
  },
  {
   "cell_type": "code",
   "execution_count": 69,
   "id": "a98b8b69",
   "metadata": {
    "ExecuteTime": {
     "end_time": "2022-03-10T00:53:44.533533Z",
     "start_time": "2022-03-10T00:53:44.529477Z"
    },
    "hidden": true
   },
   "outputs": [
    {
     "data": {
      "text/plain": [
       "'pedro@gmail.com'"
      ]
     },
     "execution_count": 69,
     "metadata": {},
     "output_type": "execute_result"
    }
   ],
   "source": [
    "alunos[0]"
   ]
  },
  {
   "cell_type": "code",
   "execution_count": 70,
   "id": "e9370cb2",
   "metadata": {
    "ExecuteTime": {
     "end_time": "2022-03-10T00:53:55.562694Z",
     "start_time": "2022-03-10T00:53:55.560178Z"
    },
    "hidden": true
   },
   "outputs": [
    {
     "data": {
      "text/plain": [
       "5"
      ]
     },
     "execution_count": 70,
     "metadata": {},
     "output_type": "execute_result"
    }
   ],
   "source": [
    "alunos[0].find('@')"
   ]
  },
  {
   "cell_type": "code",
   "execution_count": null,
   "id": "20d0a9f1",
   "metadata": {
    "hidden": true
   },
   "outputs": [],
   "source": []
  },
  {
   "cell_type": "code",
   "execution_count": 186,
   "id": "8c848f17",
   "metadata": {
    "ExecuteTime": {
     "end_time": "2021-11-08T20:10:08.615376Z",
     "start_time": "2021-11-08T20:10:08.611329Z"
    },
    "hidden": true
   },
   "outputs": [
    {
     "data": {
      "text/plain": [
       "[8, 16, 32, 64, 128]"
      ]
     },
     "execution_count": 186,
     "metadata": {},
     "output_type": "execute_result"
    }
   ],
   "source": [
    "# Utiliza os valores como expoentes para\n",
    "# função exponencial de base 2\n",
    "# Exemplo:\n",
    "# Lista = [3, 4, 5]\n",
    "# Resposta = [2^3, 2^4, 2^5]\n",
    "values = [3, 4, 5, 6, 7]\n",
    "\n",
    "import math\n",
    "\n",
    "def pow_values(value):\n",
    "    return int(math.pow(2, value))\n",
    "    \n",
    "values_created = list(map(pow_values, values))\n",
    "values_created"
   ]
  },
  {
   "cell_type": "markdown",
   "id": "e64e1896",
   "metadata": {
    "hidden": true
   },
   "source": [
    "#### Exemplo de função *map()* com mais de um iterador"
   ]
  },
  {
   "cell_type": "markdown",
   "id": "a9a1fd98",
   "metadata": {
    "hidden": true
   },
   "source": [
    "A função abaixo recebe 3 listas:\n",
    "\n",
    "```python\n",
    "values_1 = [1, 2, 3, 4]\n",
    "values_2 = [5, 6, 7, 8]\n",
    "values_3 = [9, 0, 1, 2]\n",
    "```\n",
    "\n",
    "Vamos aplicar uma função que retorne a soma dos elementos de mesma posição das 3 listas. Exemplo:\n",
    "\n",
    "Posição 0 => values_1[0] + values_2[0] + values_3[0] => 1 + 5 + 9 => 15"
   ]
  },
  {
   "cell_type": "code",
   "execution_count": 86,
   "id": "0195b6a1",
   "metadata": {
    "ExecuteTime": {
     "end_time": "2022-03-10T01:02:31.624411Z",
     "start_time": "2022-03-10T01:02:31.618296Z"
    },
    "hidden": true
   },
   "outputs": [
    {
     "data": {
      "text/plain": [
       "[15, 8, 11, 14]"
      ]
     },
     "execution_count": 86,
     "metadata": {},
     "output_type": "execute_result"
    }
   ],
   "source": [
    "values_1 = [1, 2, 3, 4]\n",
    "values_2 = [5, 6, 7, 8]\n",
    "values_3 = [9, 0, 1, 2]\n",
    "\n",
    "def sum_values(value_1, value_2, value_3):\n",
    "    return value_1 + value_2 + value_3\n",
    "    \n",
    "values_created = list(map(sum_values, values_1, values_2, values_3))\n",
    "values_created"
   ]
  },
  {
   "cell_type": "markdown",
   "id": "945f7887",
   "metadata": {
    "heading_collapsed": true
   },
   "source": [
    "## Exemplos"
   ]
  },
  {
   "cell_type": "markdown",
   "id": "4c63678b",
   "metadata": {
    "hidden": true
   },
   "source": [
    "Utilizando o desafio feito no começo da aula, refatore as suas funções e utilize as funções `filter()` e `map()` do Python para selecionar e aplicar as transformações necessárias a fim de criar a lista de saída desejada.\n",
    "\n",
    "Exemplo de lista de entrada:\n",
    "```python\n",
    "[\n",
    "    {'id': 1,  'name': 'Chase Mclean',      'gender': 'F',  'weight': 286.12,  'height': 6.06985},\n",
    "    ...\n",
    "    {'id': 25, 'name': 'Venus Graves',      'gender': 'M',  'weight': 252.87,  'height': 5.51208}\n",
    "]\n",
    "```\n",
    "***\n",
    "\n",
    "Exemplo da lista de saída:\n",
    "```python\n",
    "[\n",
    "    {'id': 1, 'imc': 37.914, 'classificacao': 'Obesidade Grau II'},\n",
    "    ...\n",
    "    {'id': 20, 'imc': 37.914, 'classificacao': 'Obesidade Grau II'},\n",
    "]\n",
    "```\n",
    "***\n",
    "\n",
    "Lembrando que a a classificação deve seguir a seguinte tabela:\n",
    "\n",
    "| IMC | Classificação |\n",
    "| :-: | :-----------: |\n",
    "| < 16 | Magreza Grau III |\n",
    "| 16,0 a 16,9 | Magreza Grau II |\n",
    "| 17,0 a 18,4 | Magreza Grau I |\n",
    "| 18,5 a 24,9 | Adequado |\n",
    "| 25,0 a 29,9 | Pré-Obeso |\n",
    "| 30,0 a 34,9 | Obesidade Grau I |\n",
    "| 35,0 a 39,9 | Obesidade Grau II |\n",
    "| >= 40 | Obesidade Grau III |\n",
    "\n",
    "E que as nossas tarefas são:\n",
    "1. Separar os usuários do sexo feminio;\n",
    "2. Converter os pesos para Kg\n",
    "3. Converter as alturas para m\n",
    "4. Calcular o IMC de cada usuário separado\n",
    "5. Montar o script em Python utilizando Programação Funcional"
   ]
  },
  {
   "cell_type": "markdown",
   "id": "bc49c319",
   "metadata": {
    "ExecuteTime": {
     "end_time": "2022-02-07T22:21:31.297976Z",
     "start_time": "2022-02-07T22:21:31.295096Z"
    },
    "heading_collapsed": true,
    "hidden": true
   },
   "source": [
    "### Funções utilizadas anteriormente"
   ]
  },
  {
   "cell_type": "markdown",
   "id": "01b2326d",
   "metadata": {
    "hidden": true
   },
   "source": [
    "```python\n",
    "# Função para converter o Peso\n",
    "def weight_conv(user):\n",
    "    return user['weight'] / 2.205\n",
    "\n",
    "\n",
    "# Função para converter a Altura\n",
    "def heigth_conv(user):\n",
    "    return user['height'] / 3.281\n",
    "\n",
    "\n",
    "# Função para calcular o IMC\n",
    "def imc_calc(weight, heigth):\n",
    "    return weight / (heigth ** 2)\n",
    "\n",
    "\n",
    "# Funcao para separar o sexo\n",
    "def filter_gender(user):\n",
    "    return True if user['gender'] == 'F' else False\n",
    "\n",
    "\n",
    "# Função que classificar o grau de obesidade\n",
    "def classsify_imc(imc):\n",
    "    \n",
    "    if imc >= 40:\n",
    "        return 'Obesidade Grau III'\n",
    "    elif imc >= 35:\n",
    "        return 'Obesidade Grau II'\n",
    "    elif imc >= 30:\n",
    "        return 'Obesidade Grau I'\n",
    "    elif imc >= 25:\n",
    "        return 'Pré-Obeso'\n",
    "    elif imc >= 18.5:\n",
    "        return 'Adequado'\n",
    "    elif imc >= 17:\n",
    "        return 'Magreza Grau I'\n",
    "    elif imc >= 16:\n",
    "        return 'Magreza Grau II'\n",
    "    else:\n",
    "        return 'Magreza Grau III'\n",
    "    \n",
    "\n",
    "# Função que monta o resultado esperado\n",
    "def result(data):\n",
    "    new_data = []\n",
    "    \n",
    "    for user in data:\n",
    "        if filter_gender(user):\n",
    "            \n",
    "            # Inicializa a variável\n",
    "            new_user = {}\n",
    "            \n",
    "            # Cria a chave:valor do ID\n",
    "            new_user['id'] = user['id']\n",
    "            \n",
    "            # Cria a chave:valor do IMC\n",
    "            new_user['imc'] = imc_calc(weight_conv(user), heigth_conv(user))\n",
    "            \n",
    "            # Cria a chave:valor da classificacao\n",
    "            new_user['classificacao'] = classsify_imc(new_user['imc'])\n",
    "            \n",
    "            # Modo Direto\n",
    "            # Substitui todas as linhas de criação chave:valor\n",
    "            # new_user = {\n",
    "            #     'id': user['id'],\n",
    "            #     'imc': imc_calc(weight_conv(user), heigth_conv(user)),\n",
    "            #     'classificacao': classsify_imc(imc_calc(weight_conv(user), heigth_conv(user))) \n",
    "            # }\n",
    "            \n",
    "            # Insere o o usuário dentro da lista final\n",
    "            new_data.append(new_user)\n",
    "    \n",
    "    return new_data\n",
    "\n",
    "```"
   ]
  },
  {
   "cell_type": "markdown",
   "id": "9b3ca27b",
   "metadata": {
    "ExecuteTime": {
     "end_time": "2022-02-07T23:02:44.743074Z",
     "start_time": "2022-02-07T23:02:44.740819Z"
    },
    "heading_collapsed": true,
    "hidden": true
   },
   "source": [
    "### Resolução"
   ]
  },
  {
   "cell_type": "code",
   "execution_count": 59,
   "id": "6e222db4",
   "metadata": {
    "ExecuteTime": {
     "end_time": "2022-03-16T23:22:32.743868Z",
     "start_time": "2022-03-16T23:22:32.729502Z"
    },
    "hidden": true
   },
   "outputs": [],
   "source": [
    "# Lista com os usuários\n",
    "data = [\n",
    "    {'id': 1,  'name': 'Chase Mclean',      'gender': 'F',  'weight': 286.12,  'height': 6.06985},\n",
    "    {'id': 2,  'name': 'Moses Fernandez',   'gender': 'F',  'weight': 278.71,  'height': 6.2339},\n",
    "    {'id': 3,  'name': 'Skyler Levy',       'gender': 'M',  'weight': 249.12,  'height': 6.52919},\n",
    "    {'id': 4,  'name': 'Patrick Kemp',      'gender': 'M',  'weight': 280.89,  'height': 5.93861},\n",
    "    {'id': 5,  'name': 'Erasmus Fuller',    'gender': 'M',  'weight': 144.91,  'height': 6.49638},\n",
    "    {'id': 6,  'name': 'Lamar Mccall',      'gender': 'M',  'weight': 284.86,  'height': 4.9215},\n",
    "    {'id': 7,  'name': 'Nayda Aguilar',     'gender': 'M',  'weight': 136.34,  'height': 5.61051},\n",
    "    {'id': 8,  'name': 'Lucy Heath',        'gender': 'F',  'weight': 234.37,  'height': 5.11836},\n",
    "    {'id': 9,  'name': 'Devin Patrick',     'gender': 'F',  'weight': 156.93,  'height': 5.77456},\n",
    "    {'id': 10, 'name': 'Kaseem Valenzuela', 'gender': 'F',  'weight': 186.39,  'height': 5.08555},\n",
    "    {'id': 11, 'name': 'Kenyon Jennings',   'gender': 'M',  'weight': 134,     'height': 5.5777},\n",
    "    {'id': 12, 'name': 'Vincent Hahn',      'gender': 'F',  'weight': 234.26,  'height': 6.26671},\n",
    "    {'id': 13, 'name': 'Harriet Herring',   'gender': 'F',  'weight': 239.2,   'height': 6.06985},\n",
    "    {'id': 14, 'name': 'Mikayla Dodson',    'gender': 'F',  'weight': 137.55,  'height': 5.5777},\n",
    "    {'id': 15, 'name': 'Solomon Welch',     'gender': 'M',  'weight': 284.86,  'height': 6.2339},\n",
    "    {'id': 16, 'name': 'Randall Juarez',    'gender': 'F',  'weight': 250.75,  'height': 5.2496},\n",
    "    {'id': 17, 'name': 'Camilla Harvey',    'gender': 'M',  'weight': 166.81,  'height': 5.11836},\n",
    "    {'id': 18, 'name': 'Harding Cameron',   'gender': 'F',  'weight': 220.63,  'height': 5.87299},\n",
    "    {'id': 19, 'name': 'Cullen Mejia',      'gender': 'F',  'weight': 181.18,  'height': 5.21679},\n",
    "    {'id': 20, 'name': 'Isaiah Black',      'gender': 'M',  'weight': 283.52,  'height': 5.70894},\n",
    "    {'id': 21, 'name': 'Tara Hyde',         'gender': 'M',  'weight': 127.07,  'height': 6.10266},\n",
    "    {'id': 22, 'name': 'Hyatt Morris',      'gender': 'F',  'weight': 241.47,  'height': 4.9215},\n",
    "    {'id': 23, 'name': 'Olivia Cameron',    'gender': 'M',  'weight': 206.23,  'height': 6.16828},\n",
    "    {'id': 24, 'name': 'Ulysses Becker',    'gender': 'F',  'weight': 263.17,  'height': 5.2496},\n",
    "    {'id': 25, 'name': 'Venus Graves',      'gender': 'M',  'weight': 252.87,  'height': 5.51208}\n",
    "]"
   ]
  },
  {
   "cell_type": "code",
   "execution_count": 4,
   "id": "2d16f0dc",
   "metadata": {
    "ExecuteTime": {
     "end_time": "2022-02-07T22:21:31.570923Z",
     "start_time": "2022-02-07T22:21:31.568291Z"
    },
    "hidden": true
   },
   "outputs": [],
   "source": []
  },
  {
   "cell_type": "code",
   "execution_count": 64,
   "id": "20d4eb0e",
   "metadata": {
    "ExecuteTime": {
     "end_time": "2022-03-16T23:30:10.878186Z",
     "start_time": "2022-03-16T23:30:10.869496Z"
    },
    "hidden": true
   },
   "outputs": [],
   "source": [
    "# Função para converter o Peso\n",
    "def weight_conv(user):\n",
    "    return user['weight'] / 2.205\n",
    "\n",
    "\n",
    "# Função para converter a Altura\n",
    "def heigth_conv(user):\n",
    "    return user['height'] / 3.281\n",
    "\n",
    "\n",
    "# Função para calcular o IMC\n",
    "def imc_calc(weight, heigth):\n",
    "    return weight / (heigth ** 2)\n",
    "\n",
    "\n",
    "# Funcao para separar o sexo\n",
    "def filter_gender(user):\n",
    "    return True if user['gender'] == 'F' else False\n",
    "\n",
    "# Funcao para separar o sexo\n",
    "def filter_id(user):\n",
    "    return True if user['id'] in range(6, 17) else False\n",
    "\n",
    "\n",
    "# Função que classificar o grau de obesidade\n",
    "def classsify_imc(imc):\n",
    "\n",
    "    if imc >= 40:\n",
    "        return 'Obesidade Grau III'\n",
    "    elif imc >= 35:\n",
    "        return 'Obesidade Grau II'\n",
    "    elif imc >= 30:\n",
    "        return 'Obesidade Grau I'\n",
    "    elif imc >= 25:\n",
    "        return 'Pré-Obeso'\n",
    "    elif imc >= 18.5:\n",
    "        return 'Adequado'\n",
    "    elif imc >= 17:\n",
    "        return 'Magreza Grau I'\n",
    "    elif imc >= 16:\n",
    "        return 'Magreza Grau II'\n",
    "    else:\n",
    "        return 'Magreza Grau III'\n",
    "\n",
    "\n",
    "# Função que monta o resultado esperado\n",
    "def result(data):\n",
    "    new_data = []\n",
    "\n",
    "    for user in data:\n",
    "        if filter_gender(user):\n",
    "\n",
    "            # Inicializa a variável\n",
    "            new_user = {}\n",
    "\n",
    "            # Cria a chave:valor do ID\n",
    "            new_user['id'] = user['id']\n",
    "\n",
    "            # Cria a chave:valor do IMC\n",
    "            new_user['imc'] = imc_calc(weight_conv(user), heigth_conv(user))\n",
    "\n",
    "            # Cria a chave:valor da classificacao\n",
    "            new_user['classificacao'] = classsify_imc(new_user['imc'])\n",
    "\n",
    "            # Modo Direto\n",
    "            # Substitui todas as linhas de criação chave:valor\n",
    "            # new_user = {\n",
    "            #     'id': user['id'],\n",
    "            #     'imc': imc_calc(weight_conv(user), heigth_conv(user)),\n",
    "            #     'classificacao': classsify_imc(imc_calc(weight_conv(user), heigth_conv(user))) \n",
    "            # }\n",
    "\n",
    "            # Insere o o usuário dentro da lista final\n",
    "            new_data.append(new_user)\n",
    "\n",
    "    return new_data"
   ]
  },
  {
   "cell_type": "code",
   "execution_count": 61,
   "id": "18a5057c",
   "metadata": {
    "ExecuteTime": {
     "end_time": "2022-03-16T23:26:06.865650Z",
     "start_time": "2022-03-16T23:26:06.862035Z"
    },
    "hidden": true
   },
   "outputs": [],
   "source": [
    "def create_user(user):\n",
    "    # Inicializa a variável\n",
    "    new_user = {}\n",
    "\n",
    "    # Cria a chave:valor do ID\n",
    "    new_user['id'] = user['id']\n",
    "\n",
    "    # Cria a chave:valor do IMC\n",
    "    new_user['imc'] = round( imc_calc(weight_conv(user), heigth_conv(user)), 2)\n",
    "\n",
    "    # Cria a chave:valor da classificacao\n",
    "    new_user['classificacao'] = classsify_imc(new_user['imc'])\n",
    "\n",
    "    # Insere o o usuário dentro da lista final\n",
    "    return new_user"
   ]
  },
  {
   "cell_type": "code",
   "execution_count": null,
   "id": "962b6a50",
   "metadata": {
    "hidden": true
   },
   "outputs": [],
   "source": []
  },
  {
   "cell_type": "code",
   "execution_count": 80,
   "id": "76b2ff65",
   "metadata": {
    "ExecuteTime": {
     "end_time": "2022-03-16T23:40:36.564776Z",
     "start_time": "2022-03-16T23:40:36.558468Z"
    },
    "hidden": true
   },
   "outputs": [
    {
     "data": {
      "text/plain": [
       "<function __main__.filter_gender(user)>"
      ]
     },
     "execution_count": 80,
     "metadata": {},
     "output_type": "execute_result"
    }
   ],
   "source": [
    "filter_gender"
   ]
  },
  {
   "cell_type": "code",
   "execution_count": null,
   "id": "c911042c",
   "metadata": {
    "hidden": true
   },
   "outputs": [],
   "source": []
  },
  {
   "cell_type": "code",
   "execution_count": null,
   "id": "cf5e7b40",
   "metadata": {
    "hidden": true
   },
   "outputs": [],
   "source": []
  },
  {
   "cell_type": "code",
   "execution_count": 91,
   "id": "aee629be",
   "metadata": {
    "ExecuteTime": {
     "end_time": "2022-03-16T23:49:08.997397Z",
     "start_time": "2022-03-16T23:49:08.994611Z"
    },
    "hidden": true
   },
   "outputs": [],
   "source": [
    "# Função que monta o resultado esperado\n",
    "def result(data):\n",
    "    \n",
    "    filtered_values = tuple( filter( filter_gender, filter( filter_id, data ) ) )\n",
    "\n",
    "#     filtered_values = [1, 2]\n",
    "    \n",
    "#     create_user = 1\n",
    "      \n",
    "    return list( map( create_user, filtered_values ) )"
   ]
  },
  {
   "cell_type": "code",
   "execution_count": 92,
   "id": "5f97aec1",
   "metadata": {
    "ExecuteTime": {
     "end_time": "2022-03-16T23:49:09.116958Z",
     "start_time": "2022-03-16T23:49:09.111467Z"
    },
    "hidden": true
   },
   "outputs": [
    {
     "data": {
      "text/plain": [
       "[{'id': 8, 'imc': 43.68, 'classificacao': 'Obesidade Grau III'},\n",
       " {'id': 9, 'imc': 22.98, 'classificacao': 'Adequado'},\n",
       " {'id': 10, 'imc': 35.18, 'classificacao': 'Obesidade Grau II'},\n",
       " {'id': 12, 'imc': 29.12, 'classificacao': 'Pré-Obeso'},\n",
       " {'id': 13, 'imc': 31.7, 'classificacao': 'Obesidade Grau I'},\n",
       " {'id': 14, 'imc': 21.59, 'classificacao': 'Adequado'},\n",
       " {'id': 16, 'imc': 44.42, 'classificacao': 'Obesidade Grau III'}]"
      ]
     },
     "execution_count": 92,
     "metadata": {},
     "output_type": "execute_result"
    }
   ],
   "source": [
    "result(data)"
   ]
  },
  {
   "cell_type": "code",
   "execution_count": null,
   "id": "5bd4270b",
   "metadata": {
    "hidden": true
   },
   "outputs": [],
   "source": []
  },
  {
   "cell_type": "code",
   "execution_count": 75,
   "id": "807311b8",
   "metadata": {
    "ExecuteTime": {
     "end_time": "2022-03-16T23:37:44.354298Z",
     "start_time": "2022-03-16T23:37:44.350199Z"
    },
    "hidden": true
   },
   "outputs": [],
   "source": [
    "data_dict = [\n",
    "    {'id': 1,  'name': 'Chase Mclean',      'gender': 'F',  'weight': 286.12,  'height': 6.06985},\n",
    "    {'id': 2,  'name': 'Moses Fernandez',   'gender': 'F',  'weight': 278.71,  'height': 6.2339},\n",
    "    {'id': 3,  'name': 'Skyler Levy',       'gender': 'M',  'weight': 249.12,  'height': 6.52919},\n",
    "]"
   ]
  },
  {
   "cell_type": "code",
   "execution_count": 76,
   "id": "0ec20b8c",
   "metadata": {
    "ExecuteTime": {
     "end_time": "2022-03-16T23:37:44.478269Z",
     "start_time": "2022-03-16T23:37:44.475433Z"
    },
    "hidden": true
   },
   "outputs": [],
   "source": [
    "def filter_by_id(user):\n",
    "    return True if user['id'] == 2 else False"
   ]
  },
  {
   "cell_type": "code",
   "execution_count": 77,
   "id": "2c30d6e1",
   "metadata": {
    "ExecuteTime": {
     "end_time": "2022-03-16T23:37:44.628928Z",
     "start_time": "2022-03-16T23:37:44.625224Z"
    },
    "hidden": true
   },
   "outputs": [
    {
     "data": {
      "text/plain": [
       "[{'id': 2,\n",
       "  'name': 'Moses Fernandez',\n",
       "  'gender': 'F',\n",
       "  'weight': 278.71,\n",
       "  'height': 6.2339}]"
      ]
     },
     "execution_count": 77,
     "metadata": {},
     "output_type": "execute_result"
    }
   ],
   "source": [
    "list( filter( filter_by_id, data_dict ) )"
   ]
  },
  {
   "cell_type": "code",
   "execution_count": 78,
   "id": "06c7cfa1",
   "metadata": {
    "ExecuteTime": {
     "end_time": "2022-03-16T23:37:44.750275Z",
     "start_time": "2022-03-16T23:37:44.746535Z"
    },
    "hidden": true
   },
   "outputs": [],
   "source": [
    "def adjust_gender(user):\n",
    "    \n",
    "    user_adjusted = user\n",
    "    \n",
    "    if user['gender'] == 'F':\n",
    "        user_adjusted['gender'] = 'Feminino'\n",
    "    else:\n",
    "        user_adjusted['gender'] = 'Masculino'\n",
    "        \n",
    "    return user_"
   ]
  },
  {
   "cell_type": "code",
   "execution_count": 79,
   "id": "2d8fc073",
   "metadata": {
    "ExecuteTime": {
     "end_time": "2022-03-16T23:37:46.693267Z",
     "start_time": "2022-03-16T23:37:46.689300Z"
    },
    "hidden": true
   },
   "outputs": [
    {
     "data": {
      "text/plain": [
       "[{'id': 1,\n",
       "  'name': 'Chase Mclean',\n",
       "  'gender': 'Feminino',\n",
       "  'weight': 286.12,\n",
       "  'height': 6.06985},\n",
       " {'id': 2,\n",
       "  'name': 'Moses Fernandez',\n",
       "  'gender': 'Feminino',\n",
       "  'weight': 278.71,\n",
       "  'height': 6.2339},\n",
       " {'id': 3,\n",
       "  'name': 'Skyler Levy',\n",
       "  'gender': 'Masculino',\n",
       "  'weight': 249.12,\n",
       "  'height': 6.52919}]"
      ]
     },
     "execution_count": 79,
     "metadata": {},
     "output_type": "execute_result"
    }
   ],
   "source": [
    "list( map( adjust_gender, data_dict ) )"
   ]
  },
  {
   "cell_type": "code",
   "execution_count": null,
   "id": "24d0ca3d",
   "metadata": {
    "hidden": true
   },
   "outputs": [],
   "source": []
  },
  {
   "cell_type": "code",
   "execution_count": 93,
   "id": "dbf56cdd",
   "metadata": {
    "ExecuteTime": {
     "end_time": "2022-03-16T23:54:18.016006Z",
     "start_time": "2022-03-16T23:54:18.012629Z"
    },
    "hidden": true
   },
   "outputs": [],
   "source": [
    "def translate_keys(user):\n",
    "    \n",
    "    user_t = {}\n",
    "    \n",
    "    user_t['id'] = user['id']\n",
    "    user_t['nome'] = user['name']\n",
    "    user_t['sexo'] = user['gender']\n",
    "    user_t['peso'] = user['weight']\n",
    "    user_t['altura'] = user['height']\n",
    "    \n",
    "    return user_t"
   ]
  },
  {
   "cell_type": "code",
   "execution_count": 94,
   "id": "c725fee3",
   "metadata": {
    "ExecuteTime": {
     "end_time": "2022-03-16T23:54:31.176349Z",
     "start_time": "2022-03-16T23:54:31.171819Z"
    },
    "hidden": true
   },
   "outputs": [
    {
     "data": {
      "text/plain": [
       "[{'id': 1,\n",
       "  'nome': 'Chase Mclean',\n",
       "  'sexo': 'Feminino',\n",
       "  'peso': 286.12,\n",
       "  'altura': 6.06985},\n",
       " {'id': 2,\n",
       "  'nome': 'Moses Fernandez',\n",
       "  'sexo': 'Feminino',\n",
       "  'peso': 278.71,\n",
       "  'altura': 6.2339},\n",
       " {'id': 3,\n",
       "  'nome': 'Skyler Levy',\n",
       "  'sexo': 'Masculino',\n",
       "  'peso': 249.12,\n",
       "  'altura': 6.52919}]"
      ]
     },
     "execution_count": 94,
     "metadata": {},
     "output_type": "execute_result"
    }
   ],
   "source": [
    "list( map( translate_keys, data_dict ) )"
   ]
  },
  {
   "cell_type": "code",
   "execution_count": 96,
   "id": "f8a9d5db",
   "metadata": {
    "ExecuteTime": {
     "end_time": "2022-03-16T23:55:45.853197Z",
     "start_time": "2022-03-16T23:55:45.848861Z"
    },
    "hidden": true
   },
   "outputs": [
    {
     "data": {
      "text/plain": [
       "dict_keys(['id', 'name', 'gender', 'weight', 'height'])"
      ]
     },
     "execution_count": 96,
     "metadata": {},
     "output_type": "execute_result"
    }
   ],
   "source": [
    "data_dict[0].keys()"
   ]
  },
  {
   "cell_type": "code",
   "execution_count": null,
   "id": "de826a64",
   "metadata": {
    "hidden": true
   },
   "outputs": [],
   "source": [
    "list().poasdpoas().aposdikpasid().ldakjsd"
   ]
  },
  {
   "cell_type": "code",
   "execution_count": 23,
   "id": "24b0aa05",
   "metadata": {
    "ExecuteTime": {
     "end_time": "2022-02-07T22:44:06.131322Z",
     "start_time": "2022-02-07T22:44:06.126419Z"
    },
    "hidden": true
   },
   "outputs": [],
   "source": [
    "for user in data:\n",
    "        if filter_gender(user):\n",
    "\n",
    "            # Inicializa a variável\n",
    "            new_user = {}\n",
    "\n",
    "            # Cria a chave:valor do ID\n",
    "            new_user['id'] = user['id']\n",
    "\n",
    "            # Cria a chave:valor do IMC\n",
    "            new_user['imc'] = imc_calc(weight_conv(user), heigth_conv(user))\n",
    "\n",
    "            # Cria a chave:valor da classificacao\n",
    "            new_user['classificacao'] = classsify_imc(new_user['imc'])\n",
    "\n",
    "            # Modo Direto\n",
    "            # Substitui todas as linhas de criação chave:valor\n",
    "            # new_user = {\n",
    "            #     'id': user['id'],\n",
    "            #     'imc': imc_calc(weight_conv(user), heigth_conv(user)),\n",
    "            #     'classificacao': classsify_imc(imc_calc(weight_conv(user), heigth_conv(user))) \n",
    "            # }\n",
    "\n",
    "            # Insere o o usuário dentro da lista final\n",
    "            new_data.append(new_user)\n",
    "\n",
    "    return new_data"
   ]
  },
  {
   "cell_type": "code",
   "execution_count": null,
   "id": "e63d48fb",
   "metadata": {
    "hidden": true
   },
   "outputs": [],
   "source": []
  },
  {
   "cell_type": "code",
   "execution_count": null,
   "id": "d591b747",
   "metadata": {
    "hidden": true
   },
   "outputs": [],
   "source": []
  },
  {
   "cell_type": "code",
   "execution_count": null,
   "id": "0c9bc25a",
   "metadata": {
    "hidden": true
   },
   "outputs": [],
   "source": []
  },
  {
   "cell_type": "markdown",
   "id": "051a0cdf",
   "metadata": {
    "heading_collapsed": true,
    "hidden": true
   },
   "source": [
    "### Resposta"
   ]
  },
  {
   "cell_type": "code",
   "execution_count": 46,
   "id": "2b6a0ac0",
   "metadata": {
    "ExecuteTime": {
     "end_time": "2022-02-07T23:49:06.215462Z",
     "start_time": "2022-02-07T23:49:06.202909Z"
    },
    "hidden": true
   },
   "outputs": [],
   "source": [
    "# Lista com os usuários\n",
    "data = [\n",
    "    {'id': 1,  'name': 'Chase Mclean',      'gender': 'F',  'weight': 286.12,  'height': 6.06985},\n",
    "    {'id': 2,  'name': 'Moses Fernandez',   'gender': 'F',  'weight': 278.71,  'height': 6.2339},\n",
    "    {'id': 3,  'name': 'Skyler Levy',       'gender': 'M',  'weight': 249.12,  'height': 6.52919},\n",
    "    {'id': 4,  'name': 'Patrick Kemp',      'gender': 'M',  'weight': 280.89,  'height': 5.93861},\n",
    "    {'id': 5,  'name': 'Erasmus Fuller',    'gender': 'M',  'weight': 144.91,  'height': 6.49638},\n",
    "    {'id': 6,  'name': 'Lamar Mccall',      'gender': 'M',  'weight': 284.86,  'height': 4.9215},\n",
    "    {'id': 7,  'name': 'Nayda Aguilar',     'gender': 'M',  'weight': 136.34,  'height': 5.61051},\n",
    "    {'id': 8,  'name': 'Lucy Heath',        'gender': 'F',  'weight': 234.37,  'height': 5.11836},\n",
    "    {'id': 9,  'name': 'Devin Patrick',     'gender': 'F',  'weight': 156.93,  'height': 5.77456},\n",
    "    {'id': 10, 'name': 'Kaseem Valenzuela', 'gender': 'F',  'weight': 186.39,  'height': 5.08555},\n",
    "    {'id': 11, 'name': 'Kenyon Jennings',   'gender': 'M',  'weight': 134,     'height': 5.5777},\n",
    "    {'id': 12, 'name': 'Vincent Hahn',      'gender': 'F',  'weight': 234.26,  'height': 6.26671},\n",
    "    {'id': 13, 'name': 'Harriet Herring',   'gender': 'F',  'weight': 239.2,   'height': 6.06985},\n",
    "    {'id': 14, 'name': 'Mikayla Dodson',    'gender': 'F',  'weight': 137.55,  'height': 5.5777},\n",
    "    {'id': 15, 'name': 'Solomon Welch',     'gender': 'M',  'weight': 284.86,  'height': 6.2339},\n",
    "    {'id': 16, 'name': 'Randall Juarez',    'gender': 'F',  'weight': 250.75,  'height': 5.2496},\n",
    "    {'id': 17, 'name': 'Camilla Harvey',    'gender': 'M',  'weight': 166.81,  'height': 5.11836},\n",
    "    {'id': 18, 'name': 'Harding Cameron',   'gender': 'F',  'weight': 220.63,  'height': 5.87299},\n",
    "    {'id': 19, 'name': 'Cullen Mejia',      'gender': 'F',  'weight': 181.18,  'height': 5.21679},\n",
    "    {'id': 20, 'name': 'Isaiah Black',      'gender': 'M',  'weight': 283.52,  'height': 5.70894},\n",
    "    {'id': 21, 'name': 'Tara Hyde',         'gender': 'M',  'weight': 127.07,  'height': 6.10266},\n",
    "    {'id': 22, 'name': 'Hyatt Morris',      'gender': 'F',  'weight': 241.47,  'height': 4.9215},\n",
    "    {'id': 23, 'name': 'Olivia Cameron',    'gender': 'M',  'weight': 206.23,  'height': 6.16828},\n",
    "    {'id': 24, 'name': 'Ulysses Becker',    'gender': 'F',  'weight': 263.17,  'height': 5.2496},\n",
    "    {'id': 25, 'name': 'Venus Graves',      'gender': 'M',  'weight': 252.87,  'height': 5.51208}\n",
    "]"
   ]
  },
  {
   "cell_type": "code",
   "execution_count": 47,
   "id": "881e2fbe",
   "metadata": {
    "ExecuteTime": {
     "end_time": "2022-02-07T23:49:06.387361Z",
     "start_time": "2022-02-07T23:49:06.384518Z"
    },
    "hidden": true
   },
   "outputs": [],
   "source": [
    "# Função para converter o Peso\n",
    "def weight_conv(user):\n",
    "    return user['weight'] / 2.205"
   ]
  },
  {
   "cell_type": "code",
   "execution_count": 48,
   "id": "c249c501",
   "metadata": {
    "ExecuteTime": {
     "end_time": "2022-02-07T23:49:06.511341Z",
     "start_time": "2022-02-07T23:49:06.508795Z"
    },
    "hidden": true
   },
   "outputs": [],
   "source": [
    "# Função para converter a Altura\n",
    "def heigth_conv(user):\n",
    "    return user['height'] / 3.281"
   ]
  },
  {
   "cell_type": "code",
   "execution_count": 49,
   "id": "290ae90d",
   "metadata": {
    "ExecuteTime": {
     "end_time": "2022-02-07T23:49:06.650538Z",
     "start_time": "2022-02-07T23:49:06.647997Z"
    },
    "hidden": true
   },
   "outputs": [],
   "source": [
    "# Função para calcular o IMC\n",
    "def imc_calc(weight, heigth):\n",
    "    return weight / (heigth ** 2)"
   ]
  },
  {
   "cell_type": "code",
   "execution_count": 50,
   "id": "8024ed80",
   "metadata": {
    "ExecuteTime": {
     "end_time": "2022-02-07T23:49:07.039856Z",
     "start_time": "2022-02-07T23:49:07.037444Z"
    },
    "hidden": true
   },
   "outputs": [],
   "source": [
    "# Funcao para separar o sexo\n",
    "def filter_gender(user):\n",
    "    return True if user['gender'] == 'F' else False"
   ]
  },
  {
   "cell_type": "code",
   "execution_count": 51,
   "id": "43431950",
   "metadata": {
    "ExecuteTime": {
     "end_time": "2022-02-07T23:49:07.202680Z",
     "start_time": "2022-02-07T23:49:07.197978Z"
    },
    "hidden": true
   },
   "outputs": [],
   "source": [
    "# Função que irá criar o Mapa\n",
    "def classsify_imc(imc):\n",
    "    \n",
    "    if imc >= 40:\n",
    "        return 'Obesidade Grau III'\n",
    "    elif imc >= 35:\n",
    "        return 'Obesidade Grau II'\n",
    "    elif imc >= 30:\n",
    "        return 'Obesidade Grau I'\n",
    "    elif imc >= 25:\n",
    "        return 'Pré-Obeso'\n",
    "    elif imc >= 18.5:\n",
    "        return 'Adequado'\n",
    "    elif imc >= 17:\n",
    "        return 'Magreza Grau I'\n",
    "    elif imc >= 16:\n",
    "        return 'Magreza Grau II'\n",
    "    else:\n",
    "        return 'Magreza Grau III'"
   ]
  },
  {
   "cell_type": "code",
   "execution_count": 87,
   "id": "4880a98d",
   "metadata": {
    "ExecuteTime": {
     "end_time": "2022-03-10T01:04:37.293997Z",
     "start_time": "2022-03-10T01:04:37.291501Z"
    },
    "hidden": true
   },
   "outputs": [],
   "source": [
    "# Resolução"
   ]
  },
  {
   "cell_type": "code",
   "execution_count": null,
   "id": "7be8dddd",
   "metadata": {
    "hidden": true
   },
   "outputs": [],
   "source": []
  },
  {
   "cell_type": "code",
   "execution_count": null,
   "id": "fb9e1075",
   "metadata": {
    "hidden": true
   },
   "outputs": [],
   "source": []
  },
  {
   "cell_type": "code",
   "execution_count": null,
   "id": "d1b41a3a",
   "metadata": {
    "hidden": true
   },
   "outputs": [],
   "source": []
  },
  {
   "cell_type": "code",
   "execution_count": null,
   "id": "425fbc85",
   "metadata": {
    "hidden": true
   },
   "outputs": [],
   "source": []
  },
  {
   "cell_type": "code",
   "execution_count": null,
   "id": "a87c26f5",
   "metadata": {
    "hidden": true
   },
   "outputs": [],
   "source": []
  },
  {
   "cell_type": "code",
   "execution_count": null,
   "id": "cfaeae9f",
   "metadata": {
    "hidden": true
   },
   "outputs": [],
   "source": []
  },
  {
   "cell_type": "code",
   "execution_count": null,
   "id": "1eeee4de",
   "metadata": {
    "hidden": true
   },
   "outputs": [],
   "source": []
  },
  {
   "cell_type": "code",
   "execution_count": null,
   "id": "b37965e4",
   "metadata": {
    "hidden": true
   },
   "outputs": [],
   "source": []
  },
  {
   "cell_type": "code",
   "execution_count": null,
   "id": "81b6fcb5",
   "metadata": {
    "hidden": true
   },
   "outputs": [],
   "source": []
  },
  {
   "cell_type": "code",
   "execution_count": null,
   "id": "b77e3d99",
   "metadata": {
    "hidden": true
   },
   "outputs": [],
   "source": []
  },
  {
   "cell_type": "code",
   "execution_count": null,
   "id": "f3fd9fed",
   "metadata": {
    "hidden": true
   },
   "outputs": [],
   "source": []
  },
  {
   "cell_type": "code",
   "execution_count": null,
   "id": "4f5fa612",
   "metadata": {
    "hidden": true
   },
   "outputs": [],
   "source": []
  },
  {
   "cell_type": "code",
   "execution_count": 52,
   "id": "fe7276d7",
   "metadata": {
    "ExecuteTime": {
     "end_time": "2022-02-07T23:49:07.720860Z",
     "start_time": "2022-02-07T23:49:07.716865Z"
    },
    "hidden": true
   },
   "outputs": [],
   "source": [
    "# Função que irá criar a estrutura do usuário selecionado\n",
    "def create_user(user):\n",
    "    new_user = {}\n",
    "    \n",
    "    new_user['id'] = user['id']\n",
    "            \n",
    "    # Cria a chave:valor do IMC\n",
    "    new_user['imc'] = round(imc_calc(weight_conv(user), heigth_conv(user)), 2)\n",
    "\n",
    "    # Cria a chave:valor da classificacao\n",
    "    new_user['classificacao'] = classsify_imc(new_user['imc'])\n",
    "    \n",
    "    return new_user"
   ]
  },
  {
   "cell_type": "code",
   "execution_count": null,
   "id": "587a656c",
   "metadata": {
    "hidden": true
   },
   "outputs": [],
   "source": []
  },
  {
   "cell_type": "code",
   "execution_count": null,
   "id": "e2d0b3be",
   "metadata": {
    "hidden": true
   },
   "outputs": [],
   "source": []
  },
  {
   "cell_type": "code",
   "execution_count": null,
   "id": "92905310",
   "metadata": {
    "hidden": true
   },
   "outputs": [],
   "source": []
  },
  {
   "cell_type": "code",
   "execution_count": null,
   "id": "62021a12",
   "metadata": {
    "hidden": true
   },
   "outputs": [],
   "source": []
  },
  {
   "cell_type": "code",
   "execution_count": null,
   "id": "27cf0805",
   "metadata": {
    "hidden": true
   },
   "outputs": [],
   "source": []
  },
  {
   "cell_type": "code",
   "execution_count": null,
   "id": "a5bbd9ee",
   "metadata": {
    "hidden": true
   },
   "outputs": [],
   "source": []
  },
  {
   "cell_type": "code",
   "execution_count": null,
   "id": "0ab61ad6",
   "metadata": {
    "hidden": true
   },
   "outputs": [],
   "source": []
  },
  {
   "cell_type": "code",
   "execution_count": 53,
   "id": "a74803f9",
   "metadata": {
    "ExecuteTime": {
     "end_time": "2022-02-07T23:49:08.028926Z",
     "start_time": "2022-02-07T23:49:08.026009Z"
    },
    "hidden": true
   },
   "outputs": [],
   "source": [
    "# Função que irá criar a lista com os usuário finais\n",
    "def result(data):\n",
    "    \n",
    "    filtered_values = list(filter(filter_gender, data))\n",
    "    \n",
    "    return list(map(create_user, filtered_values))\n",
    "\n",
    "    # Maneira Direta! Sem criação de Variáveis\n",
    "    # return list(map(create_user, list(filter(filter_gender, data))))"
   ]
  },
  {
   "cell_type": "code",
   "execution_count": 54,
   "id": "6a199a55",
   "metadata": {
    "ExecuteTime": {
     "end_time": "2022-02-07T23:49:08.592972Z",
     "start_time": "2022-02-07T23:49:08.586884Z"
    },
    "hidden": true
   },
   "outputs": [
    {
     "data": {
      "text/plain": [
       "[{'id': 1, 'imc': 37.91, 'classificacao': 'Obesidade Grau II'},\n",
       " {'id': 2, 'imc': 35.01, 'classificacao': 'Obesidade Grau II'},\n",
       " {'id': 8, 'imc': 43.68, 'classificacao': 'Obesidade Grau III'},\n",
       " {'id': 9, 'imc': 22.98, 'classificacao': 'Adequado'},\n",
       " {'id': 10, 'imc': 35.18, 'classificacao': 'Obesidade Grau II'},\n",
       " {'id': 12, 'imc': 29.12, 'classificacao': 'Pré-Obeso'},\n",
       " {'id': 13, 'imc': 31.7, 'classificacao': 'Obesidade Grau I'},\n",
       " {'id': 14, 'imc': 21.59, 'classificacao': 'Adequado'},\n",
       " {'id': 16, 'imc': 44.42, 'classificacao': 'Obesidade Grau III'},\n",
       " {'id': 18, 'imc': 31.23, 'classificacao': 'Obesidade Grau I'},\n",
       " {'id': 19, 'imc': 32.5, 'classificacao': 'Obesidade Grau I'},\n",
       " {'id': 22, 'imc': 48.67, 'classificacao': 'Obesidade Grau III'},\n",
       " {'id': 24, 'imc': 46.62, 'classificacao': 'Obesidade Grau III'}]"
      ]
     },
     "execution_count": 54,
     "metadata": {},
     "output_type": "execute_result"
    }
   ],
   "source": [
    "filtered_values = result(data)\n",
    "filtered_values"
   ]
  },
  {
   "cell_type": "markdown",
   "id": "b32a1b5d",
   "metadata": {},
   "source": [
    "# FUNÇÕES ANINHADAS"
   ]
  },
  {
   "cell_type": "markdown",
   "id": "fd80603f",
   "metadata": {},
   "source": [
    "Uma função aninhada, ou *nested function*, é uma função que declaramos dentro de outra função. Por exemplo\n",
    "\n",
    "```python\n",
    "def funcao_externa():\n",
    "    # Comandos\n",
    "    \n",
    "    def funcao_interna():\n",
    "        # comandos:\n",
    "        \n",
    "    return funcao_interna\n",
    "```\n",
    "\n",
    "Suas principais funcionalidades são:\n",
    "* Evitar o uso de variáveis globais\n",
    "* Encapsular (proteger) dados de uma função\n",
    "* Criar *helper functions*, que nos auxiliará no reuso de código\n",
    "* Utilizar *decorators* em Python\n",
    "* Utilizar POO (Programação Orientada à Objetos) sem criar classes\n",
    "\n",
    "A ideia principal dessa aula é somente explicar o que são, como deeclarar e utilizar, e quais os principais usos de funções aninhadas. Infelizmente não veremos com muitos detalhes o que são *decorators* ou *helper functions* (Embora na seção de estudos extras haja material para um estudo posterior desses assuntos). A ideia é familiarizar e demonstrar essa ferramenta da linguagem."
   ]
  },
  {
   "cell_type": "markdown",
   "id": "a0e926b3",
   "metadata": {
    "heading_collapsed": true
   },
   "source": [
    "## Criação de uma função aninhada"
   ]
  },
  {
   "cell_type": "markdown",
   "id": "b3dccd48",
   "metadata": {
    "hidden": true
   },
   "source": [
    "Vamos observar o seguinte exemplo:"
   ]
  },
  {
   "cell_type": "code",
   "execution_count": 2,
   "id": "22c2a1c8",
   "metadata": {
    "ExecuteTime": {
     "end_time": "2022-03-17T00:10:38.671733Z",
     "start_time": "2022-03-17T00:10:38.668468Z"
    },
    "hidden": true
   },
   "outputs": [],
   "source": [
    "# Essa é a função externa. É ela que será\n",
    "# chamada quando desejamos utilizar a função.\n",
    "# Além disso, ela também é conhecida como\n",
    "# \"enclosing function\", pois é a função que\n",
    "# envolve a função interna\n",
    "def print_msg(msg):\n",
    "    \n",
    "    # Essa é a função interna. É ela que será\n",
    "    # executada quando chamarmos nossa função.\n",
    "    # Ela também é conhecida como \"nested function\"\n",
    "    # ou \"closure\"\n",
    "    def printer():\n",
    "        \n",
    "        # Observe que a nossa função interna está\n",
    "        # utiolizando o parametro passado na nossa\n",
    "        # função externa\n",
    "        print(msg)\n",
    "\n",
    "    # No fim, a função externa deve retornar ou \n",
    "    # executar a função interna.\n",
    "#     printer()\n",
    "    return printer"
   ]
  },
  {
   "cell_type": "code",
   "execution_count": 3,
   "id": "0808ed87",
   "metadata": {
    "ExecuteTime": {
     "end_time": "2022-03-17T00:10:38.819892Z",
     "start_time": "2022-03-17T00:10:38.812851Z"
    },
    "hidden": true
   },
   "outputs": [
    {
     "data": {
      "text/plain": [
       "<function __main__.print_msg.<locals>.printer()>"
      ]
     },
     "execution_count": 3,
     "metadata": {},
     "output_type": "execute_result"
    }
   ],
   "source": [
    "print_msg(\"Hello World!\")"
   ]
  },
  {
   "cell_type": "code",
   "execution_count": 4,
   "id": "438b5a19",
   "metadata": {
    "ExecuteTime": {
     "end_time": "2022-03-17T00:10:39.148866Z",
     "start_time": "2022-03-17T00:10:39.146341Z"
    },
    "hidden": true
   },
   "outputs": [
    {
     "data": {
      "text/plain": [
       "<function __main__.print_msg.<locals>.printer()>"
      ]
     },
     "execution_count": 4,
     "metadata": {},
     "output_type": "execute_result"
    }
   ],
   "source": [
    "printer_ext = print_msg(\"Hello World!\")\n",
    "printer_ext"
   ]
  },
  {
   "cell_type": "code",
   "execution_count": 5,
   "id": "979c7a6d",
   "metadata": {
    "ExecuteTime": {
     "end_time": "2022-03-17T00:10:40.058731Z",
     "start_time": "2022-03-17T00:10:39.615454Z"
    },
    "hidden": true
   },
   "outputs": [
    {
     "ename": "NameError",
     "evalue": "name 'printer' is not defined",
     "output_type": "error",
     "traceback": [
      "\u001b[0;31m---------------------------------------------------------------------------\u001b[0m",
      "\u001b[0;31mNameError\u001b[0m                                 Traceback (most recent call last)",
      "Input \u001b[0;32mIn [5]\u001b[0m, in \u001b[0;36m<module>\u001b[0;34m\u001b[0m\n\u001b[0;32m----> 1\u001b[0m \u001b[43mprinter\u001b[49m()\n",
      "\u001b[0;31mNameError\u001b[0m: name 'printer' is not defined"
     ]
    }
   ],
   "source": [
    "printer()"
   ]
  },
  {
   "cell_type": "code",
   "execution_count": null,
   "id": "c519d31e",
   "metadata": {
    "hidden": true
   },
   "outputs": [],
   "source": []
  },
  {
   "cell_type": "code",
   "execution_count": null,
   "id": "f97677ea",
   "metadata": {
    "hidden": true
   },
   "outputs": [],
   "source": []
  },
  {
   "cell_type": "markdown",
   "id": "8ee0da1e",
   "metadata": {
    "hidden": true
   },
   "source": [
    "Observe que na declaração acima, criamos a função `print_msg()` que recebe um parametro. Essa função é a nossa função **EXTERNA** ou ***ENCLOSING FUNCTION***. É ela que é responsável por envolver e executar a função **INTERNA**.\n",
    "\n",
    "Depois, dentro da nossa função `print_msg()`, declaramos a função `printer()`, que não recebe nenhum parâmetro, mas usa o parâmetro recebido na função **EXTERNA** `print_mgs()`. A função `printer()` é a nossa função **INTERNA** ou ***NESTED FUNCTION***. É essa a função que executará os códigos que precisam ser executados.\n",
    "\n",
    "Por fim, após a declaração da nossa função **INTERNA** (`printer()`) e antes de finalizar o bloco da função **EXTERNA** (`print_msg()`), ou executamos ou retornamos a função **INTERNA**.\n",
    "\n",
    "No geral, para termos uma ***NESTED FUNCION***, temos que satisfazer as seguintes condições:\n",
    "* Temos que ter uma função **INTERNA** declarada \n",
    "* A função **INTERNA** DEVE se referir ou utilizar o parâmetro da Função **EXTERNA**\n",
    "* A função **EXTERNA** DEVE retornar ou executar a função **INTERNA**"
   ]
  },
  {
   "cell_type": "markdown",
   "id": "b1ad1e53",
   "metadata": {
    "heading_collapsed": true
   },
   "source": [
    "## Exemplo mais próximo da realidade"
   ]
  },
  {
   "cell_type": "markdown",
   "id": "e53e6364",
   "metadata": {
    "hidden": true
   },
   "source": [
    "Agora que vimos como declaramos e quais as regras para criarmos uma função **aninhada**, vamos ver a sua utilização em um contexto mais próximo da realidade.\n",
    "\n",
    "Digamos que na empresa em que você trabalha hoje, o seu líder pediu um auxílio para que você criasse uma função que verificasse, com base na página web passada, se o usuário em questão tem ou não acesso à ela. Desse modo, temos que criar uma função que:\n",
    "1. Receba a página que será verificada (Página Admin, Listagem de Produtos, etc)\n",
    "2. Receba o usuário e verifique se ele tem acesso à pagina passada.\n",
    "\n",
    "Para resolvermos esse processo utilizando funções aninhadas, teríamos a seguinte estrutura:"
   ]
  },
  {
   "cell_type": "code",
   "execution_count": 7,
   "id": "bf3a1150",
   "metadata": {
    "ExecuteTime": {
     "end_time": "2022-03-17T00:15:56.280944Z",
     "start_time": "2022-03-17T00:15:56.277570Z"
    },
    "hidden": true
   },
   "outputs": [],
   "source": [
    "# Cria a função que receberá a página do sistema\n",
    "def has_permission(page):\n",
    "    \n",
    "    # Cria a função que receberá o usuário que\n",
    "    # será verificado\n",
    "    def permission(username):\n",
    "        \n",
    "        if username.lower() == 'admin' and page.lower() == 'admin page':\n",
    "            return True\n",
    "        else:\n",
    "            return False\n",
    "        \n",
    "\n",
    "    return permission"
   ]
  },
  {
   "cell_type": "code",
   "execution_count": 8,
   "id": "82eff29a",
   "metadata": {
    "ExecuteTime": {
     "end_time": "2022-03-17T00:15:58.273948Z",
     "start_time": "2022-03-17T00:15:58.270243Z"
    },
    "hidden": true
   },
   "outputs": [
    {
     "data": {
      "text/plain": [
       "<function __main__.has_permission.<locals>.permission(username)>"
      ]
     },
     "execution_count": 8,
     "metadata": {},
     "output_type": "execute_result"
    }
   ],
   "source": [
    "# Cria o objeto do tipo função que receberá\n",
    "# a página a ser verificada\n",
    "check_admin_page_permision = has_permission('Admin Page')\n",
    "check_admin_page_permision"
   ]
  },
  {
   "cell_type": "code",
   "execution_count": 9,
   "id": "8297a689",
   "metadata": {
    "ExecuteTime": {
     "end_time": "2022-03-17T00:15:58.396947Z",
     "start_time": "2022-03-17T00:15:58.393041Z"
    },
    "hidden": true
   },
   "outputs": [
    {
     "name": "stdout",
     "output_type": "stream",
     "text": [
      "Permissao do usuario \"admin\" = True\n"
     ]
    }
   ],
   "source": [
    "# Passando a Página do Admin\n",
    "check_admin_page_permision = has_permission('Admin Page')\n",
    "\n",
    "# Cria o usuário que será verificado. Sendo que\n",
    "# esse usuário terá permissão de acesso\n",
    "user = 'admin'\n",
    "\n",
    "print(f'Permissao do usuario \"{user}\" = {check_admin_page_permision(user)}')"
   ]
  },
  {
   "cell_type": "code",
   "execution_count": 10,
   "id": "8c081e26",
   "metadata": {
    "ExecuteTime": {
     "end_time": "2022-03-17T00:16:21.262108Z",
     "start_time": "2022-03-17T00:16:21.258116Z"
    },
    "hidden": true
   },
   "outputs": [
    {
     "name": "stdout",
     "output_type": "stream",
     "text": [
      "Permissao do usuario \"admin\" = False\n"
     ]
    }
   ],
   "source": [
    "# Passando a Página do Admin\n",
    "check_admin_page_permision = has_permission('Lista de Produtos')\n",
    "\n",
    "# Cria o usuário que será verificado. Sendo que\n",
    "# esse usuário terá permissão de acesso\n",
    "user = 'admin'\n",
    "\n",
    "print(f'Permissao do usuario \"{user}\" = {check_admin_page_permision(user)}')"
   ]
  },
  {
   "cell_type": "code",
   "execution_count": 11,
   "id": "5ff8f6e2",
   "metadata": {
    "ExecuteTime": {
     "end_time": "2022-03-17T00:16:49.718505Z",
     "start_time": "2022-03-17T00:16:49.714971Z"
    },
    "hidden": true
   },
   "outputs": [
    {
     "name": "stdout",
     "output_type": "stream",
     "text": [
      "Permissao do usuario \"pedro\" = False\n"
     ]
    }
   ],
   "source": [
    "# Passando a Página do Admin\n",
    "check_admin_page_permision = has_permission('Admin Page')\n",
    "\n",
    "# Cria um usuário que não tem permissão\n",
    "user = 'pedro'\n",
    "\n",
    "print(f'Permissao do usuario \"{user}\" = {check_admin_page_permision(user)}')"
   ]
  },
  {
   "cell_type": "markdown",
   "id": "4e80d99b",
   "metadata": {
    "ExecuteTime": {
     "end_time": "2021-11-08T13:50:16.504704Z",
     "start_time": "2021-11-08T13:50:16.484382Z"
    },
    "hidden": true
   },
   "source": [
    "Um outro exemplo seria a utilização de uma função aninhada para ler e processar o nosso arquivo. No exemplo abaixo, iremos receber o arquivo e processá-lo para verificar quantas linhas o arquivo possuí:"
   ]
  },
  {
   "cell_type": "code",
   "execution_count": 17,
   "id": "51d62631",
   "metadata": {
    "ExecuteTime": {
     "end_time": "2022-03-17T00:24:47.909251Z",
     "start_time": "2022-03-17T00:24:47.904201Z"
    },
    "hidden": true
   },
   "outputs": [],
   "source": [
    "# importa a biblioteca CSV para leitura do arquivo\n",
    "import csv\n",
    "\n",
    "# Cria a função que irá receber o arquivo ou o caminho\n",
    "# do arquivo para fazer a análise\n",
    "def process_file(file):\n",
    "\n",
    "    # Cria a função que fará a leitura do arquivo e a \n",
    "    # contagem da quantidade de entradas (linhas)\n",
    "    def count_entries(file_obj):\n",
    "                \n",
    "        # Abertura do arquivo para leitura\n",
    "        with file_obj as csv_file:\n",
    "            # Cria o iterador com base no conteúdo od\n",
    "            # arquivo\n",
    "            content = csv.DictReader(csv_file)\n",
    "\n",
    "            # Variável auxiliar para a contagem de \n",
    "            # entradas no arquivo\n",
    "            counter = 0\n",
    "            \n",
    "            # Itera sobre as linhas do arquivo e incremente\n",
    "            # em 1 a cada linha lida\n",
    "            for row in content:\n",
    "                counter += 1\n",
    "            \n",
    "            # Exibe a quantidade de linhas ao final da contagem\n",
    "            print(f'Quantidade de entradas no arquivo = {counter}')\n",
    "    \n",
    "    \n",
    "    # Verifica se o que está sendo passado é o objeto do arquivo\n",
    "    # ou o caminho (string) do arquivo\n",
    "    if isinstance(file, str):\n",
    "        # Se for o caminho, cria o objeto para leitura e depois\n",
    "        # passa o objeto para a contagem\n",
    "        file_obj = open(file, \"r\")\n",
    "        count_entries(file_obj)\n",
    "        file_obj.close()\n",
    "    else:\n",
    "        # Se for o objeto, ele é passado para a contagem\n",
    "        count_entries(file)"
   ]
  },
  {
   "cell_type": "code",
   "execution_count": 18,
   "id": "3de40116",
   "metadata": {
    "ExecuteTime": {
     "end_time": "2022-03-17T00:24:48.017975Z",
     "start_time": "2022-03-17T00:24:48.014712Z"
    },
    "hidden": true
   },
   "outputs": [
    {
     "name": "stdout",
     "output_type": "stream",
     "text": [
      "Quantidade de entradas no arquivo = 4\n"
     ]
    }
   ],
   "source": [
    "# Passando o objeto para leitura\n",
    "file_obj = open('csv/aula_08.csv', \"r\")\n",
    "process_file(file_obj)"
   ]
  },
  {
   "cell_type": "code",
   "execution_count": 19,
   "id": "c17d05c3",
   "metadata": {
    "ExecuteTime": {
     "end_time": "2022-03-17T00:24:48.535754Z",
     "start_time": "2022-03-17T00:24:48.532009Z"
    },
    "hidden": true
   },
   "outputs": [
    {
     "name": "stdout",
     "output_type": "stream",
     "text": [
      "Quantidade de entradas no arquivo = 4\n"
     ]
    }
   ],
   "source": [
    "# Passando somente o caminho do arquivo\n",
    "file_path = 'csv/aula_08.csv'\n",
    "process_file(file_path)"
   ]
  },
  {
   "cell_type": "markdown",
   "id": "ae919910",
   "metadata": {
    "heading_collapsed": true
   },
   "source": [
    "## Utilizando Funções Aninhadas para Melhorar os Filtros"
   ]
  },
  {
   "cell_type": "markdown",
   "id": "3d1965fc",
   "metadata": {
    "hidden": true
   },
   "source": [
    "Podemos utilizar também funções aninhadas para conseguirmos generalizar ainda mais a nossa função de filtro e filtrarmos com mais de uma condição. Por exemplo, vamos separar mais de um nome dentro da nossa lista:"
   ]
  },
  {
   "cell_type": "code",
   "execution_count": 95,
   "id": "22188b7a",
   "metadata": {
    "ExecuteTime": {
     "end_time": "2021-11-08T18:54:37.299266Z",
     "start_time": "2021-11-08T18:54:37.295981Z"
    },
    "hidden": true
   },
   "outputs": [],
   "source": [
    "# A lista de nomes\n",
    "names = ['Pedro', 'Guilherme', 'Volpato', 'Ferraresi']"
   ]
  },
  {
   "cell_type": "code",
   "execution_count": 20,
   "id": "d5fd8f61",
   "metadata": {
    "ExecuteTime": {
     "end_time": "2022-03-17T00:34:09.453058Z",
     "start_time": "2022-03-17T00:34:09.449954Z"
    },
    "hidden": true
   },
   "outputs": [],
   "source": [
    "# A função externa receberá a lista de filtro. Ou seja, a\n",
    "# lista com os nomes que desejamos filtrar da lista de nomes\n",
    "def _filter(names_filter):\n",
    "    \n",
    "    # A função interna receberá cada um dos nomes \n",
    "    # da lista de nomes\n",
    "    def filter_names(name):\n",
    "        \n",
    "        # If ternário\n",
    "        # Tradicional =>  return clausula ? verdadeiro : falso\n",
    "        # Tradicional =>  return name in names_filter ? True : False\n",
    "        \n",
    "        # Python      =>  return verdadeiro if clausula else falso\n",
    "        # Python      =>  return True if name in names_filter else False\n",
    "        \n",
    "        # Retorna 'True' se o nome passado está dentro\n",
    "        # da lista de filtro de nomes; 'False' se o\n",
    "        # nome não estiver dentro da lista de filtro\n",
    "        return True if name in names_filter else False\n",
    "    \n",
    "    return filter_names"
   ]
  },
  {
   "cell_type": "code",
   "execution_count": 94,
   "id": "5c236ea5",
   "metadata": {
    "ExecuteTime": {
     "end_time": "2021-11-08T18:54:36.857038Z",
     "start_time": "2021-11-08T18:54:36.854271Z"
    },
    "hidden": true
   },
   "outputs": [
    {
     "name": "stdout",
     "output_type": "stream",
     "text": [
      "A variável \"filter_names\" é do tipo <class 'function'>\n"
     ]
    }
   ],
   "source": [
    "# Cria a função de filtro. Passamos para ela a \n",
    "# a lista de filtros que desejamos\n",
    "filter_names = _filter(['Pedro', 'Ferraresi'])\n",
    "\n",
    "\n",
    "print(f'A variável \"filter_names\" é do tipo {type(filter_names)}')\n",
    "\n"
   ]
  },
  {
   "cell_type": "code",
   "execution_count": 96,
   "id": "ad122129",
   "metadata": {
    "ExecuteTime": {
     "end_time": "2021-11-08T18:54:37.681043Z",
     "start_time": "2021-11-08T18:54:37.675965Z"
    },
    "hidden": true
   },
   "outputs": [
    {
     "data": {
      "text/plain": [
       "['Pedro', 'Ferraresi']"
      ]
     },
     "execution_count": 96,
     "metadata": {},
     "output_type": "execute_result"
    }
   ],
   "source": [
    "# utilização da função criada\n",
    "filtered = list(filter(filter_names, names))\n",
    "filtered"
   ]
  },
  {
   "cell_type": "code",
   "execution_count": 21,
   "id": "95d4ea0c",
   "metadata": {
    "ExecuteTime": {
     "end_time": "2022-03-17T00:36:37.452403Z",
     "start_time": "2022-03-17T00:36:37.450213Z"
    },
    "hidden": true
   },
   "outputs": [],
   "source": [
    "# A lista de nomes\n",
    "names = ['Pedro', 'Guilherme', 'Volpato', 'Ferraresi']"
   ]
  },
  {
   "cell_type": "code",
   "execution_count": null,
   "id": "5265fe0b",
   "metadata": {
    "hidden": true
   },
   "outputs": [],
   "source": [
    "filter( funcao, iteravel )"
   ]
  },
  {
   "cell_type": "code",
   "execution_count": 25,
   "id": "937997f1",
   "metadata": {
    "ExecuteTime": {
     "end_time": "2022-03-17T00:39:15.845673Z",
     "start_time": "2022-03-17T00:39:15.843106Z"
    },
    "hidden": true
   },
   "outputs": [],
   "source": [
    "def funcao_filtro(nome):\n",
    "#     nomes_selecionados = ['Pedro', 'Ferraresi', 'Ana']\n",
    "    \n",
    "    return True if nome in nomes_selecionados else False"
   ]
  },
  {
   "cell_type": "code",
   "execution_count": 24,
   "id": "eeafa2a7",
   "metadata": {
    "ExecuteTime": {
     "end_time": "2022-03-17T00:39:04.418091Z",
     "start_time": "2022-03-17T00:39:04.414703Z"
    },
    "hidden": true
   },
   "outputs": [],
   "source": [
    "nomes_selecionados = ['Pedro', 'Ferraresi']"
   ]
  },
  {
   "cell_type": "code",
   "execution_count": 26,
   "id": "926a3424",
   "metadata": {
    "ExecuteTime": {
     "end_time": "2022-03-17T00:40:58.943579Z",
     "start_time": "2022-03-17T00:40:58.939825Z"
    },
    "hidden": true
   },
   "outputs": [
    {
     "data": {
      "text/plain": [
       "['Pedro', 'Ferraresi']"
      ]
     },
     "execution_count": 26,
     "metadata": {},
     "output_type": "execute_result"
    }
   ],
   "source": [
    "list( filter( funcao_filtro, names ) )"
   ]
  },
  {
   "cell_type": "code",
   "execution_count": 27,
   "id": "e5273914",
   "metadata": {
    "ExecuteTime": {
     "end_time": "2022-03-17T00:44:22.104177Z",
     "start_time": "2022-03-17T00:44:22.101396Z"
    },
    "hidden": true
   },
   "outputs": [],
   "source": [
    "def filtro_externo(nomes_a_serem_filtrados):\n",
    "    \n",
    "    def filtro_interno(lista_nomes):\n",
    "        return True if lista_nomes in nomes_a_serem_filtrados else False\n",
    "    \n",
    "    return filtro_interno"
   ]
  },
  {
   "cell_type": "code",
   "execution_count": 28,
   "id": "667ff076",
   "metadata": {
    "ExecuteTime": {
     "end_time": "2022-03-17T00:44:50.792745Z",
     "start_time": "2022-03-17T00:44:50.790249Z"
    },
    "hidden": true
   },
   "outputs": [],
   "source": [
    "filtro_complexo = filtro_externo(['Pedro', 'Volpato'])"
   ]
  },
  {
   "cell_type": "code",
   "execution_count": 29,
   "id": "12bc3890",
   "metadata": {
    "ExecuteTime": {
     "end_time": "2022-03-17T00:45:00.659136Z",
     "start_time": "2022-03-17T00:45:00.655796Z"
    },
    "hidden": true
   },
   "outputs": [
    {
     "data": {
      "text/plain": [
       "<function __main__.filtro_externo.<locals>.filtro_interno(lista_nomes)>"
      ]
     },
     "execution_count": 29,
     "metadata": {},
     "output_type": "execute_result"
    }
   ],
   "source": [
    "filtro_complexo"
   ]
  },
  {
   "cell_type": "code",
   "execution_count": 30,
   "id": "7580204d",
   "metadata": {
    "ExecuteTime": {
     "end_time": "2022-03-17T00:45:35.926508Z",
     "start_time": "2022-03-17T00:45:35.922172Z"
    },
    "hidden": true
   },
   "outputs": [
    {
     "data": {
      "text/plain": [
       "['Pedro', 'Volpato']"
      ]
     },
     "execution_count": 30,
     "metadata": {},
     "output_type": "execute_result"
    }
   ],
   "source": [
    "list( filter( filtro_complexo, names ) )"
   ]
  },
  {
   "cell_type": "code",
   "execution_count": null,
   "id": "d93442ef",
   "metadata": {
    "hidden": true
   },
   "outputs": [],
   "source": []
  },
  {
   "cell_type": "code",
   "execution_count": null,
   "id": "1d4b8bb6",
   "metadata": {
    "hidden": true
   },
   "outputs": [],
   "source": []
  },
  {
   "cell_type": "code",
   "execution_count": null,
   "id": "9c0edeb8",
   "metadata": {
    "hidden": true
   },
   "outputs": [],
   "source": []
  },
  {
   "cell_type": "markdown",
   "id": "4a563cb4",
   "metadata": {
    "hidden": true
   },
   "source": [
    "Ou ainda para melhorar nossos filtros de usuários"
   ]
  },
  {
   "cell_type": "code",
   "execution_count": 31,
   "id": "b2980970",
   "metadata": {
    "ExecuteTime": {
     "end_time": "2022-03-17T00:50:06.701367Z",
     "start_time": "2022-03-17T00:50:06.697520Z"
    },
    "hidden": true
   },
   "outputs": [],
   "source": [
    "# Criação dos \n",
    "users = [\n",
    "    {'id': 1, 'name': 'Pedro',     'email': 'pedro@email.com'},\n",
    "    {'id': 2, 'name': 'Guilherme', 'email': 'guilherme@email.com'},\n",
    "    {'id': 3, 'name': 'Volpato',   'email': 'volpato@email.com'},\n",
    "    {'id': 4, 'name': 'Ferraresi', 'email': 'ferraresi@email.com'},\n",
    "]"
   ]
  },
  {
   "cell_type": "code",
   "execution_count": 32,
   "id": "64c184a8",
   "metadata": {
    "ExecuteTime": {
     "end_time": "2022-03-17T00:50:06.816357Z",
     "start_time": "2022-03-17T00:50:06.813625Z"
    },
    "hidden": true
   },
   "outputs": [],
   "source": [
    "# Criando os IDs que deverão ser filtrados\n",
    "selected_ids = [1, 3]"
   ]
  },
  {
   "cell_type": "code",
   "execution_count": 33,
   "id": "c788a374",
   "metadata": {
    "ExecuteTime": {
     "end_time": "2022-03-17T00:50:06.947868Z",
     "start_time": "2022-03-17T00:50:06.944716Z"
    },
    "hidden": true
   },
   "outputs": [],
   "source": [
    "# A função externa receberá a lista de filtro. Ou seja, a\n",
    "# lista com os IDs dos usuários que desejamos filtrar da \n",
    "# lista de usuários\n",
    "def dict_filter(ids_filter):\n",
    "    \n",
    "    # A função interna receberá dicionário contendo os \n",
    "    # conteúdos de (informações) dos usuários\n",
    "    def filter_ids(user):\n",
    "        \n",
    "        # Retorna 'True' se o campo ID do usuário\n",
    "        # está dentro do filtro.\n",
    "        if user['id'] in ids_filter:\n",
    "            return user\n",
    "     \n",
    "    return filter_ids"
   ]
  },
  {
   "cell_type": "code",
   "execution_count": 35,
   "id": "a76759c3",
   "metadata": {
    "ExecuteTime": {
     "end_time": "2022-03-17T00:51:02.917362Z",
     "start_time": "2022-03-17T00:51:02.913432Z"
    },
    "hidden": true
   },
   "outputs": [
    {
     "name": "stdout",
     "output_type": "stream",
     "text": [
      "A variável \"filter_ids\" é do tipo <class 'function'>\n"
     ]
    }
   ],
   "source": [
    "# Cria a função de filtro. Passamos para ela a \n",
    "# a lista de filtros que desejamos\n",
    "filter_function = dict_filter(selected_ids)\n",
    "print(f'A variável \"filter_ids\" é do tipo {type(filter_function)}')"
   ]
  },
  {
   "cell_type": "code",
   "execution_count": 36,
   "id": "9874c34a",
   "metadata": {
    "ExecuteTime": {
     "end_time": "2022-03-17T00:51:05.898813Z",
     "start_time": "2022-03-17T00:51:05.895638Z"
    },
    "hidden": true
   },
   "outputs": [
    {
     "data": {
      "text/plain": [
       "[{'id': 1, 'name': 'Pedro', 'email': 'pedro@email.com'},\n",
       " {'id': 3, 'name': 'Volpato', 'email': 'volpato@email.com'}]"
      ]
     },
     "execution_count": 36,
     "metadata": {},
     "output_type": "execute_result"
    }
   ],
   "source": [
    "# utilização da função criada\n",
    "filtered = list(filter(filter_function, users))\n",
    "filtered"
   ]
  },
  {
   "cell_type": "markdown",
   "id": "36ffc99d",
   "metadata": {},
   "source": [
    "# FUNÇÕES LAMBDA"
   ]
  },
  {
   "cell_type": "markdown",
   "id": "d2a33027",
   "metadata": {
    "ExecuteTime": {
     "end_time": "2021-11-08T17:59:30.302289Z",
     "start_time": "2021-11-08T17:59:30.298239Z"
    }
   },
   "source": [
    "Algumas linguagens de programação possuem a capacidade de criarmos ***funções anônimas***, que são funções pequenas e que não possuem um nome.\n",
    "\n",
    "No Python, essas funções são conhecidas como funções ***lambda***. Funções ***lambda*** são funções que não possuem nomes, no geral são pequenas (geralmente uma única linha), possuem um propósito muito específico e assim que terminam sua execução são excluídas da memória.\n",
    "\n",
    "Geralmente as funções ***lambda*** são utilizadas em conjunto com outras funções, como as funções `map()` e `filter()`. Por exemplo, vamos executar os mesmos exemplos anteriores, só que utilizando funções ***lambda***:"
   ]
  },
  {
   "cell_type": "code",
   "execution_count": 10,
   "id": "32d3a732",
   "metadata": {
    "ExecuteTime": {
     "end_time": "2022-03-23T23:20:27.958415Z",
     "start_time": "2022-03-23T23:20:27.953492Z"
    }
   },
   "outputs": [
    {
     "data": {
      "text/plain": [
       "['03', '04', '08']"
      ]
     },
     "execution_count": 10,
     "metadata": {},
     "output_type": "execute_result"
    }
   ],
   "source": [
    "lista1 = ['25/03/1989', '24/04/1992', '28/08/1996']\n",
    "meses = []\n",
    "\n",
    "for data in lista1:\n",
    "    meses.append(data[3:5])\n",
    "\n",
    "meses"
   ]
  },
  {
   "cell_type": "code",
   "execution_count": null,
   "id": "8385b78f",
   "metadata": {},
   "outputs": [],
   "source": [
    "lista1 = ['25/03/1989', '24/04/1992', '28/08/1996']\n",
    "meses = []"
   ]
  },
  {
   "cell_type": "code",
   "execution_count": 11,
   "id": "b7296508",
   "metadata": {
    "ExecuteTime": {
     "end_time": "2022-03-23T23:21:20.339184Z",
     "start_time": "2022-03-23T23:21:20.336990Z"
    }
   },
   "outputs": [],
   "source": [
    "def separa_mes(datas):\n",
    "    meses = []\n",
    "    \n",
    "    for data in lista1:\n",
    "        meses.append(data[3:5])\n",
    "        \n",
    "    return meses"
   ]
  },
  {
   "cell_type": "code",
   "execution_count": 13,
   "id": "77f12a87",
   "metadata": {
    "ExecuteTime": {
     "end_time": "2022-03-23T23:21:32.579833Z",
     "start_time": "2022-03-23T23:21:32.575970Z"
    }
   },
   "outputs": [
    {
     "data": {
      "text/plain": [
       "['03', '04', '08']"
      ]
     },
     "execution_count": 13,
     "metadata": {},
     "output_type": "execute_result"
    }
   ],
   "source": [
    "meses = separa_mes(lista1)\n",
    "meses"
   ]
  },
  {
   "cell_type": "code",
   "execution_count": 14,
   "id": "2b839dc1",
   "metadata": {
    "ExecuteTime": {
     "end_time": "2022-03-23T23:22:31.977764Z",
     "start_time": "2022-03-23T23:22:31.975330Z"
    }
   },
   "outputs": [],
   "source": [
    "def sep_m(data):\n",
    "    return data[3:5]"
   ]
  },
  {
   "cell_type": "code",
   "execution_count": 17,
   "id": "652a762b",
   "metadata": {
    "ExecuteTime": {
     "end_time": "2022-03-23T23:25:07.097884Z",
     "start_time": "2022-03-23T23:25:07.094076Z"
    }
   },
   "outputs": [
    {
     "data": {
      "text/plain": [
       "['03', '04', '08']"
      ]
     },
     "execution_count": 17,
     "metadata": {},
     "output_type": "execute_result"
    }
   ],
   "source": [
    "meses = list(map(sep_m, lista1))\n",
    "meses"
   ]
  },
  {
   "cell_type": "code",
   "execution_count": 18,
   "id": "c8a8bc1d",
   "metadata": {
    "ExecuteTime": {
     "end_time": "2022-03-23T23:25:07.266654Z",
     "start_time": "2022-03-23T23:25:07.263286Z"
    }
   },
   "outputs": [
    {
     "data": {
      "text/plain": [
       "<function __main__.<lambda>(parametros)>"
      ]
     },
     "execution_count": 18,
     "metadata": {},
     "output_type": "execute_result"
    }
   ],
   "source": [
    "# lambda parametros: expressão"
   ]
  },
  {
   "cell_type": "code",
   "execution_count": 2,
   "id": "c897007c",
   "metadata": {
    "ExecuteTime": {
     "end_time": "2022-03-23T23:28:40.814174Z",
     "start_time": "2022-03-23T23:28:40.811570Z"
    }
   },
   "outputs": [],
   "source": [
    "lista1 = ['25/03/1989', '24/04/1992', '28/08/1996']"
   ]
  },
  {
   "cell_type": "code",
   "execution_count": 5,
   "id": "b30b50af",
   "metadata": {
    "ExecuteTime": {
     "end_time": "2022-03-23T23:29:11.502034Z",
     "start_time": "2022-03-23T23:29:11.497651Z"
    }
   },
   "outputs": [
    {
     "data": {
      "text/plain": [
       "['03', '04', '08']"
      ]
     },
     "execution_count": 5,
     "metadata": {},
     "output_type": "execute_result"
    }
   ],
   "source": [
    "meses = list(map(lambda bacon: bacon[3:5], lista1))\n",
    "meses"
   ]
  },
  {
   "cell_type": "code",
   "execution_count": 6,
   "id": "9cdaca30",
   "metadata": {
    "ExecuteTime": {
     "end_time": "2022-03-23T23:29:11.843075Z",
     "start_time": "2022-03-23T23:29:11.839329Z"
    }
   },
   "outputs": [
    {
     "data": {
      "text/plain": [
       "<function __main__.<lambda>(data)>"
      ]
     },
     "execution_count": 6,
     "metadata": {},
     "output_type": "execute_result"
    }
   ],
   "source": [
    "func_sep_mes = lambda data: data[3:5]\n",
    "func_sep_mes"
   ]
  },
  {
   "cell_type": "code",
   "execution_count": 21,
   "id": "5c0834cd",
   "metadata": {
    "ExecuteTime": {
     "end_time": "2022-03-23T23:25:59.879139Z",
     "start_time": "2022-03-23T23:25:59.874808Z"
    }
   },
   "outputs": [
    {
     "data": {
      "text/plain": [
       "['03', '04', '08']"
      ]
     },
     "execution_count": 21,
     "metadata": {},
     "output_type": "execute_result"
    }
   ],
   "source": [
    "meses = list(map(func_sep_mes, lista1))\n",
    "meses"
   ]
  },
  {
   "cell_type": "code",
   "execution_count": 10,
   "id": "0ae4fae8",
   "metadata": {
    "ExecuteTime": {
     "end_time": "2022-03-23T23:34:29.807802Z",
     "start_time": "2022-03-23T23:34:29.801497Z"
    }
   },
   "outputs": [
    {
     "data": {
      "text/plain": [
       "['pedro ferraresi', 'ana curvina', 'edu assumpcao', 'jac guilhen']"
      ]
     },
     "execution_count": 10,
     "metadata": {},
     "output_type": "execute_result"
    }
   ],
   "source": [
    "nomes = ['pedro', 'ana', 'edu', 'jac']\n",
    "sobrenomes = ['ferraresi', 'curvina', 'assumpcao', 'guilhen']\n",
    "nomes_completos = []\n",
    "\n",
    "\n",
    "for i in range(len(nomes)):\n",
    "    nomes_completos.append(f'{nomes[i]} {sobrenomes[i]}')\n",
    "    \n",
    "nomes_completos"
   ]
  },
  {
   "cell_type": "code",
   "execution_count": null,
   "id": "b3db3678",
   "metadata": {},
   "outputs": [],
   "source": [
    "def junta_nomes(lista1, lista2):\n",
    "    nomes_completos = []\n",
    "\n",
    "\n",
    "    for i in range(len(nomes)):\n",
    "        nomes_completos.append(f'{nomes[i]} {sobrenomes[i]}')\n",
    "\n",
    "    return nomes_completos"
   ]
  },
  {
   "cell_type": "code",
   "execution_count": null,
   "id": "b5c39153",
   "metadata": {},
   "outputs": [],
   "source": []
  },
  {
   "cell_type": "code",
   "execution_count": null,
   "id": "d11031b9",
   "metadata": {},
   "outputs": [],
   "source": []
  },
  {
   "cell_type": "code",
   "execution_count": null,
   "id": "fb591db8",
   "metadata": {},
   "outputs": [],
   "source": []
  },
  {
   "cell_type": "code",
   "execution_count": 11,
   "id": "931ec5bb",
   "metadata": {
    "ExecuteTime": {
     "end_time": "2022-03-23T23:36:21.258238Z",
     "start_time": "2022-03-23T23:36:21.255703Z"
    }
   },
   "outputs": [],
   "source": [
    "def j_n(nome, sobrenome):\n",
    "    return f'{nome} {sobrenome}'"
   ]
  },
  {
   "cell_type": "code",
   "execution_count": null,
   "id": "9e13a656",
   "metadata": {},
   "outputs": [],
   "source": []
  },
  {
   "cell_type": "code",
   "execution_count": 12,
   "id": "4c868279",
   "metadata": {
    "ExecuteTime": {
     "end_time": "2022-03-23T23:36:42.261160Z",
     "start_time": "2022-03-23T23:36:42.257285Z"
    }
   },
   "outputs": [
    {
     "data": {
      "text/plain": [
       "['pedro ferraresi', 'ana curvina', 'edu assumpcao', 'jac guilhen']"
      ]
     },
     "execution_count": 12,
     "metadata": {},
     "output_type": "execute_result"
    }
   ],
   "source": [
    "nomes_completos = list(map( j_n, nomes, sobrenomes ))\n",
    "nomes_completos"
   ]
  },
  {
   "cell_type": "code",
   "execution_count": null,
   "id": "47654004",
   "metadata": {},
   "outputs": [],
   "source": [
    "lambda paramentros: expressao"
   ]
  },
  {
   "cell_type": "code",
   "execution_count": 13,
   "id": "f65cacde",
   "metadata": {
    "ExecuteTime": {
     "end_time": "2022-03-23T23:38:27.527624Z",
     "start_time": "2022-03-23T23:38:27.523673Z"
    }
   },
   "outputs": [
    {
     "data": {
      "text/plain": [
       "['pedro ferraresi', 'ana curvina', 'edu assumpcao', 'jac guilhen']"
      ]
     },
     "execution_count": 13,
     "metadata": {},
     "output_type": "execute_result"
    }
   ],
   "source": [
    "nomes_completos = list(map( lambda x, y: f'{x} {y}' , nomes, sobrenomes ))\n",
    "nomes_completos"
   ]
  },
  {
   "cell_type": "code",
   "execution_count": null,
   "id": "56c635a5",
   "metadata": {},
   "outputs": [],
   "source": []
  },
  {
   "cell_type": "code",
   "execution_count": 14,
   "id": "7deebd95",
   "metadata": {
    "ExecuteTime": {
     "end_time": "2022-03-23T23:38:57.933032Z",
     "start_time": "2022-03-23T23:38:57.928354Z"
    }
   },
   "outputs": [
    {
     "name": "stdout",
     "output_type": "stream",
     "text": [
      "pedro ferraresi\n",
      "ana curvina\n",
      "edu assumpcao\n",
      "jac guilhen\n"
     ]
    },
    {
     "data": {
      "text/plain": [
       "[None, None, None, None]"
      ]
     },
     "execution_count": 14,
     "metadata": {},
     "output_type": "execute_result"
    }
   ],
   "source": [
    "nomes_completos = list(map( lambda x, y: print(f'{x} {y}') , nomes, sobrenomes ))\n",
    "nomes_completos"
   ]
  },
  {
   "cell_type": "code",
   "execution_count": 18,
   "id": "aa33c973",
   "metadata": {
    "ExecuteTime": {
     "end_time": "2022-03-23T23:40:49.543634Z",
     "start_time": "2022-03-23T23:40:49.540778Z"
    }
   },
   "outputs": [],
   "source": [
    "execx = lambda x, y: print(f'{x} {y}')"
   ]
  },
  {
   "cell_type": "code",
   "execution_count": 19,
   "id": "22d7a66b",
   "metadata": {
    "ExecuteTime": {
     "end_time": "2022-03-23T23:40:50.141659Z",
     "start_time": "2022-03-23T23:40:50.138418Z"
    }
   },
   "outputs": [
    {
     "data": {
      "text/plain": [
       "<function __main__.<lambda>(x, y)>"
      ]
     },
     "execution_count": 19,
     "metadata": {},
     "output_type": "execute_result"
    }
   ],
   "source": [
    "execx"
   ]
  },
  {
   "cell_type": "code",
   "execution_count": 20,
   "id": "84d4c6b2",
   "metadata": {
    "ExecuteTime": {
     "end_time": "2022-03-23T23:41:09.600141Z",
     "start_time": "2022-03-23T23:41:09.597105Z"
    }
   },
   "outputs": [
    {
     "name": "stdout",
     "output_type": "stream",
     "text": [
      "Pedro Ferraresi\n"
     ]
    }
   ],
   "source": [
    "execx('Pedro',  'Ferraresi')"
   ]
  },
  {
   "cell_type": "code",
   "execution_count": null,
   "id": "432bb534",
   "metadata": {},
   "outputs": [],
   "source": []
  },
  {
   "cell_type": "code",
   "execution_count": null,
   "id": "5cfa801f",
   "metadata": {},
   "outputs": [],
   "source": []
  },
  {
   "cell_type": "code",
   "execution_count": null,
   "id": "c247e53f",
   "metadata": {},
   "outputs": [],
   "source": []
  },
  {
   "cell_type": "code",
   "execution_count": null,
   "id": "007b6cde",
   "metadata": {},
   "outputs": [],
   "source": []
  },
  {
   "cell_type": "code",
   "execution_count": null,
   "id": "f25cb8cf",
   "metadata": {},
   "outputs": [],
   "source": []
  },
  {
   "cell_type": "code",
   "execution_count": 8,
   "id": "f92ea432",
   "metadata": {
    "ExecuteTime": {
     "end_time": "2022-03-23T23:32:11.642831Z",
     "start_time": "2022-03-23T23:32:11.638200Z"
    }
   },
   "outputs": [
    {
     "data": {
      "text/plain": [
       "'pedro ferraresi'"
      ]
     },
     "execution_count": 8,
     "metadata": {},
     "output_type": "execute_result"
    }
   ],
   "source": [
    "nome_comp = nomes[0] + ' ' + sobrenomes[0]\n",
    "nome_comp"
   ]
  },
  {
   "cell_type": "code",
   "execution_count": null,
   "id": "bee2f17c",
   "metadata": {},
   "outputs": [],
   "source": []
  },
  {
   "cell_type": "code",
   "execution_count": null,
   "id": "ca16e3a7",
   "metadata": {},
   "outputs": [],
   "source": []
  },
  {
   "cell_type": "code",
   "execution_count": null,
   "id": "ec3aa60c",
   "metadata": {},
   "outputs": [],
   "source": []
  },
  {
   "cell_type": "code",
   "execution_count": null,
   "id": "7472f6a9",
   "metadata": {},
   "outputs": [],
   "source": []
  },
  {
   "cell_type": "code",
   "execution_count": null,
   "id": "b55146fe",
   "metadata": {},
   "outputs": [],
   "source": []
  },
  {
   "cell_type": "code",
   "execution_count": null,
   "id": "e56a2619",
   "metadata": {},
   "outputs": [],
   "source": []
  },
  {
   "cell_type": "code",
   "execution_count": null,
   "id": "41515a7d",
   "metadata": {},
   "outputs": [],
   "source": []
  },
  {
   "cell_type": "code",
   "execution_count": null,
   "id": "33d25483",
   "metadata": {},
   "outputs": [],
   "source": []
  },
  {
   "cell_type": "code",
   "execution_count": 49,
   "id": "9b32dcf3",
   "metadata": {
    "ExecuteTime": {
     "end_time": "2022-03-16T22:40:04.934398Z",
     "start_time": "2022-03-16T22:40:04.929889Z"
    }
   },
   "outputs": [
    {
     "data": {
      "text/plain": [
       "[15, 8, 11, 14]"
      ]
     },
     "execution_count": 49,
     "metadata": {},
     "output_type": "execute_result"
    }
   ],
   "source": [
    "# Soma dos valores onde o indice é igual\n",
    "values_1 = [1, 2, 3, 4]\n",
    "values_2 = [5, 6, 7, 8]\n",
    "values_3 = [9, 0, 1, 2]\n",
    "    \n",
    "values_created = list(map(lambda n1, n2, n3: n1 + n2 + n3, values_1, values_2, values_3))\n",
    "values_created"
   ]
  },
  {
   "cell_type": "code",
   "execution_count": 50,
   "id": "188e7bf1",
   "metadata": {
    "ExecuteTime": {
     "end_time": "2022-03-16T22:40:05.098685Z",
     "start_time": "2022-03-16T22:40:05.091982Z"
    }
   },
   "outputs": [
    {
     "data": {
      "text/plain": [
       "[{'id': 1, 'name': 'Pedro', 'email': 'pedro@email.com'},\n",
       " {'id': 2, 'name': 'Guilherme', 'email': 'guilherme@email.com'}]"
      ]
     },
     "execution_count": 50,
     "metadata": {},
     "output_type": "execute_result"
    }
   ],
   "source": [
    "# Seleção dos usuários com base no ID\n",
    "users = [\n",
    "    {'id': 1, 'name': 'Pedro',     'email': 'pedro@email.com'},\n",
    "    {'id': 2, 'name': 'Guilherme', 'email': 'guilherme@email.com'},\n",
    "    {'id': 3, 'name': 'Volpato',   'email': 'volpato@email.com'},\n",
    "    {'id': 4, 'name': 'Ferraresi', 'email': 'ferraresi@email.com'},\n",
    "]\n",
    "\n",
    "ids = [1, 2]\n",
    "\n",
    "filtered = list(filter(lambda user: True if user['id'] in ids else False, users))\n",
    "filtered"
   ]
  },
  {
   "cell_type": "code",
   "execution_count": 1,
   "id": "ef457fb6",
   "metadata": {
    "ExecuteTime": {
     "end_time": "2022-03-23T21:52:04.164950Z",
     "start_time": "2022-03-23T21:52:04.151854Z"
    }
   },
   "outputs": [
    {
     "data": {
      "text/plain": [
       "[1.4142135623730951, 2.449489742783178, 2.0, 2.8284271247461903]"
      ]
     },
     "execution_count": 1,
     "metadata": {},
     "output_type": "execute_result"
    }
   ],
   "source": [
    "import math\n",
    "\n",
    "# Aplicação da raiz quadrada nos valores pares da lista\n",
    "lista = [7, 2, 5, 1, 3, 6, 4, 8]\n",
    "\n",
    "lista_resposta = list(\n",
    "    map(\n",
    "        lambda num: math.sqrt(num), \n",
    "        filter(\n",
    "            lambda value: True if value % 2 == 0 else False, \n",
    "            lista\n",
    "        )\n",
    "    )\n",
    ")\n",
    "\n",
    "lista_resposta"
   ]
  },
  {
   "cell_type": "code",
   "execution_count": 22,
   "id": "70f0066a",
   "metadata": {
    "ExecuteTime": {
     "end_time": "2022-03-23T23:49:45.629316Z",
     "start_time": "2022-03-23T23:49:45.620273Z"
    }
   },
   "outputs": [
    {
     "name": "stdout",
     "output_type": "stream",
     "text": [
      "The Zen of Python, by Tim Peters\n",
      "\n",
      "Beautiful is better than ugly.\n",
      "Explicit is better than implicit.\n",
      "Simple is better than complex.\n",
      "Complex is better than complicated.\n",
      "Flat is better than nested.\n",
      "Sparse is better than dense.\n",
      "Readability counts.\n",
      "Special cases aren't special enough to break the rules.\n",
      "Although practicality beats purity.\n",
      "Errors should never pass silently.\n",
      "Unless explicitly silenced.\n",
      "In the face of ambiguity, refuse the temptation to guess.\n",
      "There should be one-- and preferably only one --obvious way to do it.\n",
      "Although that way may not be obvious at first unless you're Dutch.\n",
      "Now is better than never.\n",
      "Although never is often better than *right* now.\n",
      "If the implementation is hard to explain, it's a bad idea.\n",
      "If the implementation is easy to explain, it may be a good idea.\n",
      "Namespaces are one honking great idea -- let's do more of those!\n"
     ]
    }
   ],
   "source": [
    "import this"
   ]
  },
  {
   "cell_type": "code",
   "execution_count": null,
   "id": "87c799a9",
   "metadata": {},
   "outputs": [],
   "source": [
    "lista_resposta = list( map(lambda num: math.sqrt(num), filter( lambda value: True if value % 2 == 0 else False, lista ) ) )"
   ]
  },
  {
   "cell_type": "markdown",
   "id": "7fd7ea6d",
   "metadata": {},
   "source": [
    "A assinatura das funções ***lambda*** é feita da seguinte forma: \n",
    "\n",
    "```python\n",
    "lambda argumentos: expressao\n",
    "```\n",
    "\n",
    "Sendo que os `argumentos` são todos os valores que a função irá receber/utilizar, como se fosse o argumento de uma função normal. Já a `expressao` é o calculo ou valor que deve ser retornado na função ***lambda***. Podemos utilizar uma função matemática simples, como uma soma, ou criar condicionais simples utilizando `if ... else`, como vimos nos exemplos acima.\n",
    "\n",
    "É importante ainda explicar que funções ***lambdas*** devem sempre ser utilizadas quando precisamos declarar uma função que irá executar um cálculo ou ação simples. Devemos evitar ao máximo criar funções ***lambda*** que sejam muito complexas."
   ]
  },
  {
   "cell_type": "markdown",
   "id": "dd5a176f",
   "metadata": {},
   "source": [
    "## Exemplo"
   ]
  },
  {
   "cell_type": "markdown",
   "id": "a37325b7",
   "metadata": {},
   "source": [
    "Utilize a função `lambda` do Python para refatorar e reescrever as funções vistas no exemplo na seção de [PROGRAMAÇÃO FUNCIONAL](#PROGRAMAÇÃO-FUNCIONAL). \n",
    "\n",
    "A função `lambda` deve ser utilizada para:\n",
    "1. Reescrever o cálculo do IMC\n",
    "2. Reescrever o filtro do sexo\n",
    "3. Reescrever a classificação do IMC\n",
    "\n",
    "```python\n",
    "# Função para calcular o IMC\n",
    "def imc_calc(weight, heigth):\n",
    "    return weight / (heigth ** 2)\n",
    "\n",
    "\n",
    "# Funcao para separar o sexo\n",
    "def filter_gender(user):\n",
    "    return True if user['gender'] == 'F' else False\n",
    "\n",
    "\n",
    "# Função que irá criar a classificação\n",
    "def classsify_imc(imc):\n",
    "    \n",
    "    if imc >= 40:\n",
    "        return 'Obesidade Grau III'\n",
    "    elif imc >= 35:\n",
    "        return 'Obesidade Grau II'\n",
    "    elif imc >= 30:\n",
    "        return 'Obesidade Grau I'\n",
    "    elif imc >= 25:\n",
    "        return 'Pré-Obeso'\n",
    "    elif imc >= 18.5:\n",
    "        return 'Adequado'\n",
    "    elif imc >= 17:\n",
    "        return 'Magreza Grau I'\n",
    "    elif imc >= 16:\n",
    "        return 'Magreza Grau II'\n",
    "    else:\n",
    "        return 'Magreza Grau III'\n",
    "\n",
    "```\n",
    "\n",
    "***\n",
    "\n",
    "Outras funções que podem ser uteis na refatoração:\n",
    "\n",
    "```python\n",
    "\n",
    "# Função para converter o Peso\n",
    "def weight_conv(user):\n",
    "    return user['weight'] / 2.205\n",
    "\n",
    "\n",
    "# Função para converter a Altura\n",
    "def heigth_conv(user):\n",
    "    return user['height'] / 3.281\n",
    "    \n",
    "\n",
    "# Função que irá criar a estrutura do usuário selecionado\n",
    "def create_user(user):\n",
    "    new_user = {}\n",
    "    \n",
    "    new_user['id'] = user['id']\n",
    "            \n",
    "    # Cria a chave:valor do IMC\n",
    "    new_user['imc'] = round(imc_calc(weight_conv(user), heigth_conv(user)), 2)\n",
    "\n",
    "    # Cria a chave:valor da classificacao\n",
    "    new_user['classificacao'] = classsify_imc(new_user['imc'])\n",
    "    \n",
    "    return new_user\n",
    "\n",
    "\n",
    "# Função que irá criar a lista com os usuário finais\n",
    "def result(data):\n",
    "    \n",
    "    filtered_values = list(filter(filter_gender, data))\n",
    "    \n",
    "    return list(map(create_user, filtered_values))\n",
    "\n",
    "    # Maneira Direta! Sem criação de Variáveis\n",
    "    # return list(map(create_user, list(filter(filter_gender, data))))\n",
    "```\n",
    "***\n",
    "\n",
    "Utilize a função `assert` para comparar o seu resultado com a variável `final_result` declarada logo abaixo"
   ]
  },
  {
   "cell_type": "code",
   "execution_count": 55,
   "id": "44f8705e",
   "metadata": {
    "ExecuteTime": {
     "end_time": "2022-02-07T23:49:28.507096Z",
     "start_time": "2022-02-07T23:49:28.500898Z"
    }
   },
   "outputs": [],
   "source": [
    "# Lista Final\n",
    "final_result = [\n",
    "    {'id': 1, 'imc': 37.91, 'classificacao': 'Obesidade Grau II'},\n",
    "    {'id': 2, 'imc': 35.01, 'classificacao': 'Obesidade Grau II'},\n",
    "    {'id': 8, 'imc': 43.68, 'classificacao': 'Obesidade Grau III'},\n",
    "    {'id': 9, 'imc': 22.98, 'classificacao': 'Adequado'},\n",
    "    {'id': 10, 'imc': 35.18, 'classificacao': 'Obesidade Grau II'},\n",
    "    {'id': 12, 'imc': 29.12, 'classificacao': 'Pré-Obeso'},\n",
    "    {'id': 13, 'imc': 31.7, 'classificacao': 'Obesidade Grau I'},\n",
    "    {'id': 14, 'imc': 21.59, 'classificacao': 'Adequado'},\n",
    "    {'id': 16, 'imc': 44.42, 'classificacao': 'Obesidade Grau III'},\n",
    "    {'id': 18, 'imc': 31.23, 'classificacao': 'Obesidade Grau I'},\n",
    "    {'id': 19, 'imc': 32.5, 'classificacao': 'Obesidade Grau I'},\n",
    "    {'id': 22, 'imc': 48.67, 'classificacao': 'Obesidade Grau III'},\n",
    "    {'id': 24, 'imc': 46.62, 'classificacao': 'Obesidade Grau III'}\n",
    "]"
   ]
  },
  {
   "cell_type": "markdown",
   "id": "ce1483f1",
   "metadata": {
    "ExecuteTime": {
     "end_time": "2022-02-07T23:48:19.195812Z",
     "start_time": "2022-02-07T23:48:19.193528Z"
    },
    "heading_collapsed": true
   },
   "source": [
    "### Resolução"
   ]
  },
  {
   "cell_type": "code",
   "execution_count": 1,
   "id": "7b1ebd36",
   "metadata": {
    "ExecuteTime": {
     "end_time": "2022-03-24T01:02:09.851687Z",
     "start_time": "2022-03-24T01:02:09.843235Z"
    },
    "hidden": true
   },
   "outputs": [],
   "source": [
    "# Lista com os usuários\n",
    "data = [\n",
    "    {'id': 1,  'name': 'Chase Mclean',      'gender': 'F',  'weight': 286.12,  'height': 6.06985},\n",
    "    {'id': 2,  'name': 'Moses Fernandez',   'gender': 'F',  'weight': 278.71,  'height': 6.2339},\n",
    "    {'id': 3,  'name': 'Skyler Levy',       'gender': 'M',  'weight': 249.12,  'height': 6.52919},\n",
    "    {'id': 4,  'name': 'Patrick Kemp',      'gender': 'M',  'weight': 280.89,  'height': 5.93861},\n",
    "    {'id': 5,  'name': 'Erasmus Fuller',    'gender': 'M',  'weight': 144.91,  'height': 6.49638},\n",
    "    {'id': 6,  'name': 'Lamar Mccall',      'gender': 'M',  'weight': 284.86,  'height': 4.9215},\n",
    "    {'id': 7,  'name': 'Nayda Aguilar',     'gender': 'M',  'weight': 136.34,  'height': 5.61051},\n",
    "    {'id': 8,  'name': 'Lucy Heath',        'gender': 'F',  'weight': 234.37,  'height': 5.11836},\n",
    "    {'id': 9,  'name': 'Devin Patrick',     'gender': 'F',  'weight': 156.93,  'height': 5.77456},\n",
    "    {'id': 10, 'name': 'Kaseem Valenzuela', 'gender': 'F',  'weight': 186.39,  'height': 5.08555},\n",
    "    {'id': 11, 'name': 'Kenyon Jennings',   'gender': 'M',  'weight': 134,     'height': 5.5777},\n",
    "    {'id': 12, 'name': 'Vincent Hahn',      'gender': 'F',  'weight': 234.26,  'height': 6.26671},\n",
    "    {'id': 13, 'name': 'Harriet Herring',   'gender': 'F',  'weight': 239.2,   'height': 6.06985},\n",
    "    {'id': 14, 'name': 'Mikayla Dodson',    'gender': 'F',  'weight': 137.55,  'height': 5.5777},\n",
    "    {'id': 15, 'name': 'Solomon Welch',     'gender': 'M',  'weight': 284.86,  'height': 6.2339},\n",
    "    {'id': 16, 'name': 'Randall Juarez',    'gender': 'F',  'weight': 250.75,  'height': 5.2496},\n",
    "    {'id': 17, 'name': 'Camilla Harvey',    'gender': 'M',  'weight': 166.81,  'height': 5.11836},\n",
    "    {'id': 18, 'name': 'Harding Cameron',   'gender': 'F',  'weight': 220.63,  'height': 5.87299},\n",
    "    {'id': 19, 'name': 'Cullen Mejia',      'gender': 'F',  'weight': 181.18,  'height': 5.21679},\n",
    "    {'id': 20, 'name': 'Isaiah Black',      'gender': 'M',  'weight': 283.52,  'height': 5.70894},\n",
    "    {'id': 21, 'name': 'Tara Hyde',         'gender': 'M',  'weight': 127.07,  'height': 6.10266},\n",
    "    {'id': 22, 'name': 'Hyatt Morris',      'gender': 'F',  'weight': 241.47,  'height': 4.9215},\n",
    "    {'id': 23, 'name': 'Olivia Cameron',    'gender': 'M',  'weight': 206.23,  'height': 6.16828},\n",
    "    {'id': 24, 'name': 'Ulysses Becker',    'gender': 'F',  'weight': 263.17,  'height': 5.2496},\n",
    "    {'id': 25, 'name': 'Venus Graves',      'gender': 'M',  'weight': 252.87,  'height': 5.51208}\n",
    "]"
   ]
  },
  {
   "cell_type": "code",
   "execution_count": null,
   "id": "b53963d6",
   "metadata": {
    "hidden": true
   },
   "outputs": [],
   "source": [
    "# # Função para calcular o IMC\n",
    "# def imc_calc(weight, heigth):\n",
    "#     return weight / (heigth ** 2)\n",
    "\n",
    "\n",
    "# # Funcao para separar o sexo\n",
    "# def filter_gender(user):\n",
    "#     return True if user['gender'] == 'F' else False\n",
    "\n",
    "\n",
    "# # Função que irá criar a classificação\n",
    "# def classsify_imc(imc):\n",
    "\n",
    "#     if imc >= 40:\n",
    "#         return 'Obesidade Grau III'\n",
    "#     elif imc >= 35:\n",
    "#         return 'Obesidade Grau II'\n",
    "#     elif imc >= 30:\n",
    "#         return 'Obesidade Grau I'\n",
    "#     elif imc >= 25:\n",
    "#         return 'Pré-Obeso'\n",
    "#     elif imc >= 18.5:\n",
    "#         return 'Adequado'\n",
    "#     elif imc >= 17:\n",
    "#         return 'Magreza Grau I'\n",
    "#     elif imc >= 16:\n",
    "#         return 'Magreza Grau II'\n",
    "#     else:\n",
    "#         return 'Magreza Grau III'"
   ]
  },
  {
   "cell_type": "code",
   "execution_count": 4,
   "id": "8634feca",
   "metadata": {
    "ExecuteTime": {
     "end_time": "2022-03-09T22:58:31.201794Z",
     "start_time": "2022-03-09T22:58:31.198975Z"
    },
    "hidden": true
   },
   "outputs": [],
   "source": [
    "# Função para converter o Peso\n",
    "def weight_conv(user):\n",
    "    return user['weight'] / 2.205\n",
    "\n",
    "\n",
    "# Função para converter a Altura\n",
    "def heigth_conv(user):\n",
    "    return user['height'] / 3.281"
   ]
  },
  {
   "cell_type": "code",
   "execution_count": null,
   "id": "9bd37ada",
   "metadata": {
    "ExecuteTime": {
     "end_time": "2022-03-09T22:58:31.318412Z",
     "start_time": "2022-03-09T22:58:31.315518Z"
    },
    "code_folding": [],
    "hidden": true
   },
   "outputs": [],
   "source": [
    "# Função para calcular o IMC\n",
    "def imc_calc(weight, heigth):\n",
    "    return weight / (heigth ** 2)"
   ]
  },
  {
   "cell_type": "code",
   "execution_count": null,
   "id": "51dccdcf",
   "metadata": {
    "ExecuteTime": {
     "end_time": "2022-03-09T22:58:31.456838Z",
     "start_time": "2022-03-09T22:58:31.452834Z"
    },
    "hidden": true
   },
   "outputs": [],
   "source": [
    "# # Funcao para separar o sexo\n",
    "# def filter_gender(user):\n",
    "#     return True if user['gender'] == 'F' else False"
   ]
  },
  {
   "cell_type": "code",
   "execution_count": 2,
   "id": "29ee2cb6",
   "metadata": {
    "ExecuteTime": {
     "end_time": "2022-03-24T01:02:15.225129Z",
     "start_time": "2022-03-24T01:02:15.220084Z"
    },
    "hidden": true
   },
   "outputs": [],
   "source": [
    "# Função que irá criar a classificação\n",
    "def classsify_imc(imc):\n",
    "\n",
    "    if imc >= 40:\n",
    "        return 'Obesidade Grau III'\n",
    "    elif imc >= 35:\n",
    "        return 'Obesidade Grau II'\n",
    "    elif imc >= 30:\n",
    "        return 'Obesidade Grau I'\n",
    "    elif imc >= 25:\n",
    "        return 'Pré-Obeso'\n",
    "    elif imc >= 18.5:\n",
    "        return 'Adequado'\n",
    "    elif imc >= 17:\n",
    "        return 'Magreza Grau I'\n",
    "    elif imc >= 16:\n",
    "        return 'Magreza Grau II'\n",
    "    else:\n",
    "        return 'Magreza Grau III'"
   ]
  },
  {
   "cell_type": "code",
   "execution_count": 32,
   "id": "ac8c52c3",
   "metadata": {
    "ExecuteTime": {
     "end_time": "2022-03-24T01:20:06.821884Z",
     "start_time": "2022-03-24T01:20:06.817147Z"
    },
    "hidden": true
   },
   "outputs": [],
   "source": [
    "# Função que irá criar a estrutura do usuário selecionado\n",
    "# {'id': 1, 'name': 'Chase Mclean', 'gender': 'F', 'weight': 286.12, 'height': 6.06985},\n",
    "def create_user(user):\n",
    "    new_user = {}\n",
    "\n",
    "    new_user['id'] = user['id']\n",
    "\n",
    "    # Cria a chave:valor do IMC\n",
    "#     new_user['imc'] = round( \n",
    "#         (lambda peso, altura: (peso / 2.205) / ((altura / 3.281) ** 2)(user['weight'], user['height']), \n",
    "#         2)\n",
    "#     new_user['imc'] = round(imc_calc(weight_conv(user), heigth_conv(user)), 2)\n",
    "    new_user['imc'] = (lambda peso, altura: peso / (altura ** 2))(user['weight'] / 2.205, user['height']  / 3.281)\n",
    "\n",
    "    # Cria a chave:valor da classificacao\n",
    "    new_user['classificacao'] = classsify_imc(new_user['imc'])\n",
    "\n",
    "    return new_user"
   ]
  },
  {
   "cell_type": "code",
   "execution_count": 33,
   "id": "2a3c54a1",
   "metadata": {
    "ExecuteTime": {
     "end_time": "2022-03-24T01:20:06.937443Z",
     "start_time": "2022-03-24T01:20:06.934087Z"
    },
    "hidden": true
   },
   "outputs": [],
   "source": [
    "def result(dados):\n",
    "    users = list( filter( lambda user: True if user['gender'] == 'F' else False , dados) )\n",
    "    \n",
    "    users = list(map( create_user, users))\n",
    "    \n",
    "    return users"
   ]
  },
  {
   "cell_type": "code",
   "execution_count": 34,
   "id": "6979d95e",
   "metadata": {
    "ExecuteTime": {
     "end_time": "2022-03-24T01:20:07.068638Z",
     "start_time": "2022-03-24T01:20:07.063173Z"
    },
    "hidden": true
   },
   "outputs": [
    {
     "data": {
      "text/plain": [
       "[{'id': 1, 'imc': 37.91369968976147, 'classificacao': 'Obesidade Grau II'},\n",
       " {'id': 2, 'imc': 35.013599160809285, 'classificacao': 'Obesidade Grau II'},\n",
       " {'id': 8, 'imc': 43.67613799848233, 'classificacao': 'Obesidade Grau III'},\n",
       " {'id': 9, 'imc': 22.97587423399112, 'classificacao': 'Adequado'},\n",
       " {'id': 10, 'imc': 35.184437979145876, 'classificacao': 'Obesidade Grau II'},\n",
       " {'id': 12, 'imc': 29.122108169126772, 'classificacao': 'Pré-Obeso'},\n",
       " {'id': 13, 'imc': 31.696340576649458, 'classificacao': 'Obesidade Grau I'},\n",
       " {'id': 14, 'imc': 21.585104630087333, 'classificacao': 'Adequado'},\n",
       " {'id': 16, 'imc': 44.421414399092974, 'classificacao': 'Obesidade Grau III'},\n",
       " {'id': 18, 'imc': 31.22841263259567, 'classificacao': 'Obesidade Grau I'},\n",
       " {'id': 19, 'imc': 32.501799949968266, 'classificacao': 'Obesidade Grau I'},\n",
       " {'id': 22, 'imc': 48.67120181405895, 'classificacao': 'Obesidade Grau III'},\n",
       " {'id': 24, 'imc': 46.621669501133795, 'classificacao': 'Obesidade Grau III'}]"
      ]
     },
     "execution_count": 34,
     "metadata": {},
     "output_type": "execute_result"
    }
   ],
   "source": [
    "r = result(data)\n",
    "r"
   ]
  },
  {
   "cell_type": "code",
   "execution_count": null,
   "id": "7f40ea65",
   "metadata": {
    "hidden": true
   },
   "outputs": [],
   "source": []
  },
  {
   "cell_type": "code",
   "execution_count": null,
   "id": "45998749",
   "metadata": {
    "hidden": true
   },
   "outputs": [],
   "source": []
  },
  {
   "cell_type": "code",
   "execution_count": null,
   "id": "4bc46018",
   "metadata": {
    "hidden": true
   },
   "outputs": [],
   "source": []
  },
  {
   "cell_type": "code",
   "execution_count": null,
   "id": "0602e44b",
   "metadata": {
    "hidden": true
   },
   "outputs": [],
   "source": [
    "# Função que irá criar a estrutura do usuário selecionado\n",
    "def create_user(user):\n",
    "    new_user = {}\n",
    "\n",
    "    new_user['id'] = user['id']\n",
    "\n",
    "    # Cria a chave:valor do IMC\n",
    "    new_user['imc'] = round(imc_calc(weight_conv(user), heigth_conv(user)), 2)\n",
    "\n",
    "    # Cria a chave:valor da classificacao\n",
    "    new_user['classificacao'] = classsify_imc(new_user['imc'])\n",
    "\n",
    "    return new_user"
   ]
  },
  {
   "cell_type": "code",
   "execution_count": 23,
   "id": "50ac4479",
   "metadata": {
    "ExecuteTime": {
     "end_time": "2022-03-24T00:40:40.704343Z",
     "start_time": "2022-03-24T00:40:40.701547Z"
    },
    "hidden": true
   },
   "outputs": [],
   "source": [
    "# Função que irá criar a lista com os usuário finais\n",
    "def result(data):\n",
    "    # Maneira Direta! Sem criação de Variáveis\n",
    "    return list(map(create_user, list(filter(filter_gender, data))))\n",
    "\n",
    "    # Maneira não direta!\n",
    "    # filtered_values = list(filter(filter_gender, data))\n",
    "    # return list(map(create_user, filtered_values))"
   ]
  },
  {
   "cell_type": "code",
   "execution_count": null,
   "id": "0f6bfd9a",
   "metadata": {
    "ExecuteTime": {
     "end_time": "2022-03-09T22:58:35.494281Z",
     "start_time": "2022-03-09T22:58:35.491122Z"
    },
    "hidden": true
   },
   "outputs": [],
   "source": []
  },
  {
   "cell_type": "code",
   "execution_count": null,
   "id": "cee3fbd6",
   "metadata": {
    "ExecuteTime": {
     "end_time": "2022-03-09T22:58:35.688577Z",
     "start_time": "2022-03-09T22:58:35.685041Z"
    },
    "hidden": true
   },
   "outputs": [],
   "source": []
  },
  {
   "cell_type": "code",
   "execution_count": null,
   "id": "7f1d3b20",
   "metadata": {
    "ExecuteTime": {
     "end_time": "2022-03-09T22:58:37.670758Z",
     "start_time": "2022-03-09T22:58:37.640039Z"
    },
    "hidden": true
   },
   "outputs": [],
   "source": []
  },
  {
   "cell_type": "code",
   "execution_count": null,
   "id": "1d9440eb",
   "metadata": {
    "hidden": true
   },
   "outputs": [],
   "source": []
  },
  {
   "cell_type": "code",
   "execution_count": null,
   "id": "3b5f5463",
   "metadata": {
    "ExecuteTime": {
     "end_time": "2022-02-08T00:44:15.870137Z",
     "start_time": "2022-02-08T00:44:15.862031Z"
    },
    "hidden": true
   },
   "outputs": [],
   "source": []
  },
  {
   "cell_type": "code",
   "execution_count": null,
   "id": "bff9cf30",
   "metadata": {
    "ExecuteTime": {
     "end_time": "2022-02-08T00:44:15.989756Z",
     "start_time": "2022-02-08T00:44:15.984381Z"
    },
    "hidden": true
   },
   "outputs": [],
   "source": []
  },
  {
   "cell_type": "code",
   "execution_count": null,
   "id": "0cd9b709",
   "metadata": {
    "ExecuteTime": {
     "end_time": "2022-02-08T00:42:27.722684Z",
     "start_time": "2022-02-08T00:42:27.719626Z"
    },
    "hidden": true
   },
   "outputs": [],
   "source": []
  },
  {
   "cell_type": "code",
   "execution_count": null,
   "id": "a17053d2",
   "metadata": {
    "hidden": true
   },
   "outputs": [],
   "source": []
  },
  {
   "cell_type": "code",
   "execution_count": null,
   "id": "b874cf49",
   "metadata": {
    "hidden": true
   },
   "outputs": [],
   "source": []
  },
  {
   "cell_type": "code",
   "execution_count": null,
   "id": "f14ee37f",
   "metadata": {
    "hidden": true
   },
   "outputs": [],
   "source": []
  },
  {
   "cell_type": "code",
   "execution_count": null,
   "id": "e8c443ec",
   "metadata": {
    "hidden": true
   },
   "outputs": [],
   "source": []
  },
  {
   "cell_type": "code",
   "execution_count": null,
   "id": "a32230b5",
   "metadata": {
    "hidden": true
   },
   "outputs": [],
   "source": []
  },
  {
   "cell_type": "markdown",
   "id": "3f3aa78d",
   "metadata": {},
   "source": [
    "### Resposta"
   ]
  },
  {
   "cell_type": "code",
   "execution_count": 7,
   "id": "59a93d4c",
   "metadata": {
    "ExecuteTime": {
     "end_time": "2022-03-24T01:03:29.760745Z",
     "start_time": "2022-03-24T01:03:29.756343Z"
    }
   },
   "outputs": [],
   "source": [
    "# Função que irá criar a classificação\n",
    "def classsify_imc(imc):\n",
    "\n",
    "    if imc >= 40:\n",
    "        return 'Obesidade Grau III'\n",
    "    elif imc >= 35:\n",
    "        return 'Obesidade Grau II'\n",
    "    elif imc >= 30:\n",
    "        return 'Obesidade Grau I'\n",
    "    elif imc >= 25:\n",
    "        return 'Pré-Obeso'\n",
    "    elif imc >= 18.5:\n",
    "        return 'Adequado'\n",
    "    elif imc >= 17:\n",
    "        return 'Magreza Grau I'\n",
    "    elif imc >= 16:\n",
    "        return 'Magreza Grau II'\n",
    "    else:\n",
    "        return 'Magreza Grau III'"
   ]
  },
  {
   "cell_type": "code",
   "execution_count": 8,
   "id": "f2b79664",
   "metadata": {
    "ExecuteTime": {
     "end_time": "2022-03-24T01:03:29.928896Z",
     "start_time": "2022-03-24T01:03:29.923610Z"
    }
   },
   "outputs": [],
   "source": [
    "# Função que irá criar a estrutura do usuário selecionado\n",
    "def create_user(user):\n",
    "    new_user = {}\n",
    "\n",
    "    new_user['id'] = user['id']\n",
    "\n",
    "    # Cria a chave:valor do IMC\n",
    "    # new_user['imc'] = round(imc_calc(weight_conv(user), heigth_conv(user)), 2)\n",
    "    new_user['imc'] = round(\n",
    "        lambda user: user['weight'] / 2.205 / (user['height'] / 3.281 ** 2), \n",
    "        2\n",
    "    )\n",
    "\n",
    "    # Cria a chave:valor da classificacao\n",
    "    new_user['classificacao'] = classsify_imc(new_user['imc'])\n",
    "\n",
    "    return new_user"
   ]
  },
  {
   "cell_type": "code",
   "execution_count": 9,
   "id": "baf53e56",
   "metadata": {
    "ExecuteTime": {
     "end_time": "2022-03-24T01:03:30.604012Z",
     "start_time": "2022-03-24T01:03:30.599924Z"
    }
   },
   "outputs": [],
   "source": [
    "# Função que irá criar a lista com os usuário finais\n",
    "def result(data):\n",
    "\n",
    "    return list(\n",
    "        map(\n",
    "            create_user, \n",
    "            list(\n",
    "                filter(\n",
    "                    lambda user: True if user['gender'] == 'F' else False, \n",
    "                    data\n",
    "                )\n",
    "            )\n",
    "        )\n",
    "    )"
   ]
  },
  {
   "cell_type": "code",
   "execution_count": 10,
   "id": "8e5a2ffd",
   "metadata": {
    "ExecuteTime": {
     "end_time": "2022-03-24T01:03:31.299158Z",
     "start_time": "2022-03-24T01:03:31.263388Z"
    }
   },
   "outputs": [
    {
     "ename": "TypeError",
     "evalue": "type function doesn't define __round__ method",
     "output_type": "error",
     "traceback": [
      "\u001b[0;31m---------------------------------------------------------------------------\u001b[0m",
      "\u001b[0;31mTypeError\u001b[0m                                 Traceback (most recent call last)",
      "Input \u001b[0;32mIn [10]\u001b[0m, in \u001b[0;36m<module>\u001b[0;34m\u001b[0m\n\u001b[0;32m----> 1\u001b[0m r \u001b[38;5;241m=\u001b[39m \u001b[43mresult\u001b[49m\u001b[43m(\u001b[49m\u001b[43mdata\u001b[49m\u001b[43m)\u001b[49m\n\u001b[1;32m      2\u001b[0m r\n",
      "Input \u001b[0;32mIn [9]\u001b[0m, in \u001b[0;36mresult\u001b[0;34m(data)\u001b[0m\n\u001b[1;32m      2\u001b[0m \u001b[38;5;28;01mdef\u001b[39;00m \u001b[38;5;21mresult\u001b[39m(data):\n\u001b[0;32m----> 4\u001b[0m     \u001b[38;5;28;01mreturn\u001b[39;00m \u001b[38;5;28;43mlist\u001b[39;49m\u001b[43m(\u001b[49m\n\u001b[1;32m      5\u001b[0m \u001b[43m        \u001b[49m\u001b[38;5;28;43mmap\u001b[39;49m\u001b[43m(\u001b[49m\n\u001b[1;32m      6\u001b[0m \u001b[43m            \u001b[49m\u001b[43mcreate_user\u001b[49m\u001b[43m,\u001b[49m\u001b[43m \u001b[49m\n\u001b[1;32m      7\u001b[0m \u001b[43m            \u001b[49m\u001b[38;5;28;43mlist\u001b[39;49m\u001b[43m(\u001b[49m\n\u001b[1;32m      8\u001b[0m \u001b[43m                \u001b[49m\u001b[38;5;28;43mfilter\u001b[39;49m\u001b[43m(\u001b[49m\n\u001b[1;32m      9\u001b[0m \u001b[43m                    \u001b[49m\u001b[38;5;28;43;01mlambda\u001b[39;49;00m\u001b[43m \u001b[49m\u001b[43muser\u001b[49m\u001b[43m:\u001b[49m\u001b[43m \u001b[49m\u001b[38;5;28;43;01mTrue\u001b[39;49;00m\u001b[43m \u001b[49m\u001b[38;5;28;43;01mif\u001b[39;49;00m\u001b[43m \u001b[49m\u001b[43muser\u001b[49m\u001b[43m[\u001b[49m\u001b[38;5;124;43m'\u001b[39;49m\u001b[38;5;124;43mgender\u001b[39;49m\u001b[38;5;124;43m'\u001b[39;49m\u001b[43m]\u001b[49m\u001b[43m \u001b[49m\u001b[38;5;241;43m==\u001b[39;49m\u001b[43m \u001b[49m\u001b[38;5;124;43m'\u001b[39;49m\u001b[38;5;124;43mF\u001b[39;49m\u001b[38;5;124;43m'\u001b[39;49m\u001b[43m \u001b[49m\u001b[38;5;28;43;01melse\u001b[39;49;00m\u001b[43m \u001b[49m\u001b[38;5;28;43;01mFalse\u001b[39;49;00m\u001b[43m,\u001b[49m\u001b[43m \u001b[49m\n\u001b[1;32m     10\u001b[0m \u001b[43m                    \u001b[49m\u001b[43mdata\u001b[49m\n\u001b[1;32m     11\u001b[0m \u001b[43m                \u001b[49m\u001b[43m)\u001b[49m\n\u001b[1;32m     12\u001b[0m \u001b[43m            \u001b[49m\u001b[43m)\u001b[49m\n\u001b[1;32m     13\u001b[0m \u001b[43m        \u001b[49m\u001b[43m)\u001b[49m\n\u001b[1;32m     14\u001b[0m \u001b[43m    \u001b[49m\u001b[43m)\u001b[49m\n",
      "Input \u001b[0;32mIn [8]\u001b[0m, in \u001b[0;36mcreate_user\u001b[0;34m(user)\u001b[0m\n\u001b[1;32m      5\u001b[0m new_user[\u001b[38;5;124m'\u001b[39m\u001b[38;5;124mid\u001b[39m\u001b[38;5;124m'\u001b[39m] \u001b[38;5;241m=\u001b[39m user[\u001b[38;5;124m'\u001b[39m\u001b[38;5;124mid\u001b[39m\u001b[38;5;124m'\u001b[39m]\n\u001b[1;32m      7\u001b[0m \u001b[38;5;66;03m# Cria a chave:valor do IMC\u001b[39;00m\n\u001b[1;32m      8\u001b[0m \u001b[38;5;66;03m# new_user['imc'] = round(imc_calc(weight_conv(user), heigth_conv(user)), 2)\u001b[39;00m\n\u001b[0;32m----> 9\u001b[0m new_user[\u001b[38;5;124m'\u001b[39m\u001b[38;5;124mimc\u001b[39m\u001b[38;5;124m'\u001b[39m] \u001b[38;5;241m=\u001b[39m \u001b[38;5;28;43mround\u001b[39;49m\u001b[43m(\u001b[49m\n\u001b[1;32m     10\u001b[0m \u001b[43m    \u001b[49m\u001b[38;5;28;43;01mlambda\u001b[39;49;00m\u001b[43m \u001b[49m\u001b[43muser\u001b[49m\u001b[43m:\u001b[49m\u001b[43m \u001b[49m\u001b[43muser\u001b[49m\u001b[43m[\u001b[49m\u001b[38;5;124;43m'\u001b[39;49m\u001b[38;5;124;43mweight\u001b[39;49m\u001b[38;5;124;43m'\u001b[39;49m\u001b[43m]\u001b[49m\u001b[43m \u001b[49m\u001b[38;5;241;43m/\u001b[39;49m\u001b[43m \u001b[49m\u001b[38;5;241;43m2.205\u001b[39;49m\u001b[43m \u001b[49m\u001b[38;5;241;43m/\u001b[39;49m\u001b[43m \u001b[49m\u001b[43m(\u001b[49m\u001b[43muser\u001b[49m\u001b[43m[\u001b[49m\u001b[38;5;124;43m'\u001b[39;49m\u001b[38;5;124;43mheight\u001b[39;49m\u001b[38;5;124;43m'\u001b[39;49m\u001b[43m]\u001b[49m\u001b[43m \u001b[49m\u001b[38;5;241;43m/\u001b[39;49m\u001b[43m \u001b[49m\u001b[38;5;241;43m3.281\u001b[39;49m\u001b[43m \u001b[49m\u001b[38;5;241;43m*\u001b[39;49m\u001b[38;5;241;43m*\u001b[39;49m\u001b[43m \u001b[49m\u001b[38;5;241;43m2\u001b[39;49m\u001b[43m)\u001b[49m\u001b[43m,\u001b[49m\u001b[43m \u001b[49m\n\u001b[1;32m     11\u001b[0m \u001b[43m    \u001b[49m\u001b[38;5;241;43m2\u001b[39;49m\n\u001b[1;32m     12\u001b[0m \u001b[43m\u001b[49m\u001b[43m)\u001b[49m\n\u001b[1;32m     14\u001b[0m \u001b[38;5;66;03m# Cria a chave:valor da classificacao\u001b[39;00m\n\u001b[1;32m     15\u001b[0m new_user[\u001b[38;5;124m'\u001b[39m\u001b[38;5;124mclassificacao\u001b[39m\u001b[38;5;124m'\u001b[39m] \u001b[38;5;241m=\u001b[39m classsify_imc(new_user[\u001b[38;5;124m'\u001b[39m\u001b[38;5;124mimc\u001b[39m\u001b[38;5;124m'\u001b[39m])\n",
      "\u001b[0;31mTypeError\u001b[0m: type function doesn't define __round__ method"
     ]
    }
   ],
   "source": [
    "r = result(data)\n",
    "r"
   ]
  },
  {
   "cell_type": "code",
   "execution_count": null,
   "id": "c82665aa",
   "metadata": {},
   "outputs": [],
   "source": []
  },
  {
   "cell_type": "code",
   "execution_count": null,
   "id": "2b0e8512",
   "metadata": {},
   "outputs": [],
   "source": []
  },
  {
   "cell_type": "code",
   "execution_count": 11,
   "id": "ece71d73",
   "metadata": {
    "ExecuteTime": {
     "end_time": "2022-03-24T01:09:02.209740Z",
     "start_time": "2022-03-24T01:09:02.201064Z"
    },
    "code_folding": []
   },
   "outputs": [],
   "source": [
    "def result_2(data):\n",
    "    result = []\n",
    "    \n",
    "    filtered_users = list(filter(\n",
    "        lambda user: True if user['gender'] == 'F' else False,\n",
    "        data\n",
    "    ))\n",
    "    \n",
    "    imc = list(map(\n",
    "        lambda user: {\n",
    "            'id': user['id'],\n",
    "            'imc' : round( (user['weight'] / 2.205) / ((user['height'] / 3.281) ** 2), 2),\n",
    "                     },\n",
    "        filtered_users\n",
    "    ))\n",
    "    \n",
    "    classification = list(\n",
    "        map(\n",
    "            lambda user: \n",
    "                { 'classificacao': 'Obesidade Grau III' } if user['imc'] >= 40 else (\n",
    "                    { 'classificacao': 'Obesidade Grau II' } if user['imc'] >= 35 else (\n",
    "                        { 'classificacao': 'Obesidade Grau I' } if user['imc'] >= 30 else (\n",
    "                            { 'classificacao': 'Pré-Obeso' } if user['imc'] >= 25 else (\n",
    "                                { 'classificacao': 'Adequado' } if user['imc'] >= 18.5 else (\n",
    "                                    { 'classificacao': 'Magreza Grau I' } if user['imc'] >= 17 else (\n",
    "                                        { 'classificacao': 'Magreza Grau II' } if user['imc'] >= 16 else\n",
    "                                        { 'classificacao': 'Magreza Grau III' }\n",
    "                                    )\n",
    "                                )\n",
    "                            )\n",
    "                        )\n",
    "                    )\n",
    "            ),\n",
    "            imc\n",
    "    ))\n",
    "    \n",
    "\n",
    "\n",
    "\n",
    "    for i, c in zip(imc, classification):\n",
    "        user = {}\n",
    "        user.update(i)\n",
    "        user.update(c)\n",
    "        \n",
    "        result.append(user)\n",
    "        \n",
    "    return result"
   ]
  },
  {
   "cell_type": "code",
   "execution_count": 13,
   "id": "9bbd3bcb",
   "metadata": {
    "ExecuteTime": {
     "end_time": "2022-03-24T01:09:16.168097Z",
     "start_time": "2022-03-24T01:09:16.159364Z"
    }
   },
   "outputs": [
    {
     "data": {
      "text/plain": [
       "[{'id': 1, 'imc': 37.91, 'classificacao': 'Obesidade Grau II'},\n",
       " {'id': 2, 'imc': 35.01, 'classificacao': 'Obesidade Grau II'},\n",
       " {'id': 8, 'imc': 43.68, 'classificacao': 'Obesidade Grau III'},\n",
       " {'id': 9, 'imc': 22.98, 'classificacao': 'Adequado'},\n",
       " {'id': 10, 'imc': 35.18, 'classificacao': 'Obesidade Grau II'},\n",
       " {'id': 12, 'imc': 29.12, 'classificacao': 'Pré-Obeso'},\n",
       " {'id': 13, 'imc': 31.7, 'classificacao': 'Obesidade Grau I'},\n",
       " {'id': 14, 'imc': 21.59, 'classificacao': 'Adequado'},\n",
       " {'id': 16, 'imc': 44.42, 'classificacao': 'Obesidade Grau III'},\n",
       " {'id': 18, 'imc': 31.23, 'classificacao': 'Obesidade Grau I'},\n",
       " {'id': 19, 'imc': 32.5, 'classificacao': 'Obesidade Grau I'},\n",
       " {'id': 22, 'imc': 48.67, 'classificacao': 'Obesidade Grau III'},\n",
       " {'id': 24, 'imc': 46.62, 'classificacao': 'Obesidade Grau III'}]"
      ]
     },
     "execution_count": 13,
     "metadata": {},
     "output_type": "execute_result"
    }
   ],
   "source": [
    "r = result_2(data)\n",
    "r"
   ]
  },
  {
   "cell_type": "code",
   "execution_count": null,
   "id": "f7dbc743",
   "metadata": {},
   "outputs": [],
   "source": []
  },
  {
   "cell_type": "code",
   "execution_count": null,
   "id": "30825f07",
   "metadata": {},
   "outputs": [],
   "source": []
  }
 ],
 "metadata": {
  "kernelspec": {
   "display_name": "thiago_env",
   "language": "python",
   "name": "thiago_env"
  },
  "language_info": {
   "codemirror_mode": {
    "name": "ipython",
    "version": 3
   },
   "file_extension": ".py",
   "mimetype": "text/x-python",
   "name": "python",
   "nbconvert_exporter": "python",
   "pygments_lexer": "ipython3",
   "version": "3.10.4"
  },
  "latex_envs": {
   "LaTeX_envs_menu_present": true,
   "autoclose": false,
   "autocomplete": true,
   "bibliofile": "biblio.bib",
   "cite_by": "apalike",
   "current_citInitial": 1,
   "eqLabelWithNumbers": true,
   "eqNumInitial": 1,
   "hotkeys": {
    "equation": "Ctrl-E",
    "itemize": "Ctrl-I"
   },
   "labels_anchors": false,
   "latex_user_defs": false,
   "report_style_numbering": false,
   "user_envs_cfg": false
  },
  "varInspector": {
   "cols": {
    "lenName": 16,
    "lenType": 16,
    "lenVar": 40
   },
   "kernels_config": {
    "python": {
     "delete_cmd_postfix": "",
     "delete_cmd_prefix": "del ",
     "library": "var_list.py",
     "varRefreshCmd": "print(var_dic_list())"
    },
    "r": {
     "delete_cmd_postfix": ") ",
     "delete_cmd_prefix": "rm(",
     "library": "var_list.r",
     "varRefreshCmd": "cat(var_dic_list()) "
    }
   },
   "types_to_exclude": [
    "module",
    "function",
    "builtin_function_or_method",
    "instance",
    "_Feature"
   ],
   "window_display": false
  }
 },
 "nbformat": 4,
 "nbformat_minor": 5
}
