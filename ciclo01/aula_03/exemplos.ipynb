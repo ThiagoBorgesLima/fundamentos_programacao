{
 "cells": [
  {
   "cell_type": "markdown",
   "id": "356cb35d",
   "metadata": {},
   "source": [
    "# Exemplo 1"
   ]
  },
  {
   "cell_type": "markdown",
   "id": "96a0f0d7",
   "metadata": {},
   "source": [
    "## Problema"
   ]
  },
  {
   "cell_type": "markdown",
   "id": "e9e8107f",
   "metadata": {
    "ExecuteTime": {
     "end_time": "2021-09-23T01:15:31.266217Z",
     "start_time": "2021-09-23T01:15:31.260904Z"
    }
   },
   "source": [
    "Considere um arquivo CSV (comma separated values) informações demográficas sobre super heróis. As informações do arquivo são:\n",
    "\n",
    "* id - Número da linha\n",
    "* name - Nome\n",
    "* Gender - Gênero\n",
    "* Eye color - Cor dos olhos\n",
    "* Race - Raça\n",
    "* Hair color - Cor do cabelo\n",
    "* Height - Altura em centímetros\n",
    "* Publisher - Estúdio\n",
    "* Skin color - Cor da pele\n",
    "* Alignment - Vilão ou herói\n",
    "* Weight - Peso em libras\n",
    "\n",
    "Efetue a leitura desse arquivo, sem a utilização de módulos externos (Pandas), e crie:\n",
    "\n",
    "* Um arquivo de saída (.csv) com todos os heróis do gênero masculino (id, name)\n",
    "* Um arquivo de saída (.csv) com todos os heróis do gênero feminino (id, name)\n",
    "* Um arquivo de saída (.csv) com todos os heróis sem gênero definido (id, name)\n",
    "* Um arquivo de saida (.txt) com o nome de todos os heróis dos estúdios Marvel Comics e DC Comics (um nome por linha)\n",
    "* Um arquivo de saída (.txt) com o nome de todos os heróis que tenham cor de pele azul e que sejam vilões (um nome por linha)"
   ]
  },
  {
   "cell_type": "markdown",
   "id": "111dc674",
   "metadata": {
    "ExecuteTime": {
     "end_time": "2021-09-23T01:18:10.271290Z",
     "start_time": "2021-09-23T01:18:10.267092Z"
    },
    "heading_collapsed": true
   },
   "source": [
    "## Análise"
   ]
  },
  {
   "cell_type": "markdown",
   "id": "e21d12c5",
   "metadata": {
    "hidden": true
   },
   "source": [
    "Análise Aqui"
   ]
  },
  {
   "cell_type": "markdown",
   "id": "726b8569",
   "metadata": {
    "heading_collapsed": true
   },
   "source": [
    "## Implicações / Proposições / Afirmações"
   ]
  },
  {
   "cell_type": "markdown",
   "id": "77884643",
   "metadata": {
    "hidden": true
   },
   "source": [
    "Implicações aqui"
   ]
  },
  {
   "cell_type": "markdown",
   "id": "719448b9",
   "metadata": {},
   "source": [
    "## Resolução e Resposta"
   ]
  },
  {
   "cell_type": "code",
   "execution_count": 2,
   "id": "b7f9872c",
   "metadata": {
    "ExecuteTime": {
     "end_time": "2022-06-01T11:11:13.657400Z",
     "start_time": "2022-06-01T11:11:13.511839Z"
    }
   },
   "outputs": [
    {
     "name": "stdout",
     "output_type": "stream",
     "text": [
      "/Users/thiago/Documents/Data_Science/comunidade_ds/fundamentos_programacao/aula_03\r\n"
     ]
    }
   ],
   "source": [
    "!pwd"
   ]
  },
  {
   "cell_type": "code",
   "execution_count": 61,
   "id": "9dfcfbfc",
   "metadata": {
    "ExecuteTime": {
     "end_time": "2022-06-01T20:51:16.732112Z",
     "start_time": "2022-06-01T20:51:16.707380Z"
    }
   },
   "outputs": [],
   "source": [
    "# Resolução Aqui\n",
    "import csv\n",
    "\n",
    "filename = 'csv/heroes.csv'\n",
    "\n",
    "masculino = []\n",
    "feminino = []\n",
    "indefinido = []\n",
    "herois_md = []\n",
    "viloes = []\n",
    "header = ['id', 'name']\n",
    "\n",
    "\n",
    "with open (filename) as csv_file:\n",
    "    \n",
    "    reader = csv.reader(csv_file)\n",
    "    \n",
    "    next(reader) #pula a linha do cabecalho\n",
    "    \n",
    "    for linha in reader:\n",
    "        #print(linha)\n",
    "        if(linha[2] == 'Male' and linha[9] == 'good'):\n",
    "            masculino.append([linha[0],linha[1]])\n",
    "        \n",
    "        if(linha[2] == 'Female' and linha[-2] == 'good'):\n",
    "            feminino.append([linha[0],linha[1]])\n",
    "        \n",
    "        if(linha[2] == '-' and linha[-2] == 'good'):\n",
    "            indefinido.append([linha[0],linha[1]])\n",
    "        \n",
    "        if(linha[-4] == 'DC Comics' or linha[-4] == 'Marvel Comics'):\n",
    "            herois_md.append(linha[1])\n",
    "        \n",
    "        if(linha[-3] == 'blue' or linha[-2] == 'bad'):\n",
    "            viloes.append(linha[1])\n",
    "        \n",
    "csv_file.close()\n",
    "\n",
    "\n",
    "#converter os dados buscados em um arquivo CSV\n",
    "\n",
    "bacon = open('heroes_male.csv', 'w', newline='')\n",
    "batata = csv.writer(bacon, delimiter=',', quotechar='|', quoting=csv.QUOTE_MINIMAL)\n",
    "batata.writerow(header)\n",
    "batata.writerows(masculino)\n",
    "bacon.close()\n",
    "\n",
    "\n",
    "#usando while\n",
    "# f = open('heroes_bad.txt', 'w')\n",
    "# for line in viloes:\n",
    "#     f.write(line + '\\n')\n",
    "    \n"
   ]
  },
  {
   "cell_type": "code",
   "execution_count": null,
   "id": "45b139eb",
   "metadata": {},
   "outputs": [],
   "source": []
  }
 ],
 "metadata": {
  "kernelspec": {
   "display_name": "Python 3 (ipykernel)",
   "language": "python",
   "name": "python3"
  },
  "language_info": {
   "codemirror_mode": {
    "name": "ipython",
    "version": 3
   },
   "file_extension": ".py",
   "mimetype": "text/x-python",
   "name": "python",
   "nbconvert_exporter": "python",
   "pygments_lexer": "ipython3",
   "version": "3.9.4"
  },
  "latex_envs": {
   "LaTeX_envs_menu_present": true,
   "autoclose": false,
   "autocomplete": true,
   "bibliofile": "biblio.bib",
   "cite_by": "apalike",
   "current_citInitial": 1,
   "eqLabelWithNumbers": true,
   "eqNumInitial": 1,
   "hotkeys": {
    "equation": "Ctrl-E",
    "itemize": "Ctrl-I"
   },
   "labels_anchors": false,
   "latex_user_defs": false,
   "report_style_numbering": false,
   "user_envs_cfg": false
  },
  "varInspector": {
   "cols": {
    "lenName": 16,
    "lenType": 16,
    "lenVar": 40
   },
   "kernels_config": {
    "python": {
     "delete_cmd_postfix": "",
     "delete_cmd_prefix": "del ",
     "library": "var_list.py",
     "varRefreshCmd": "print(var_dic_list())"
    },
    "r": {
     "delete_cmd_postfix": ") ",
     "delete_cmd_prefix": "rm(",
     "library": "var_list.r",
     "varRefreshCmd": "cat(var_dic_list()) "
    }
   },
   "types_to_exclude": [
    "module",
    "function",
    "builtin_function_or_method",
    "instance",
    "_Feature"
   ],
   "window_display": false
  }
 },
 "nbformat": 4,
 "nbformat_minor": 5
}
