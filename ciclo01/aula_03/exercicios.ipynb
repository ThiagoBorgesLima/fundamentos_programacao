{
 "cells": [
  {
   "cell_type": "markdown",
   "id": "356cb35d",
   "metadata": {},
   "source": [
    "# Exercício 1.0"
   ]
  },
  {
   "cell_type": "markdown",
   "id": "96a0f0d7",
   "metadata": {},
   "source": [
    "## Problema"
   ]
  },
  {
   "cell_type": "markdown",
   "id": "e9e8107f",
   "metadata": {
    "ExecuteTime": {
     "end_time": "2021-09-23T01:15:31.266217Z",
     "start_time": "2021-09-23T01:15:31.260904Z"
    }
   },
   "source": [
    "Considere um arquivo CSV com os seguintes dados de todas as copas do mundo até o ano de 2014. As informações do arquivo são:\n",
    "\n",
    "* Year - Ano da copa\n",
    "* Country - País sede\n",
    "* Winner - Campeão\n",
    "* Runners-Up - Vice-Campeão\n",
    "* Third - Terceiro lugar\n",
    "* Fourth - Quarto Lugar\n",
    "* GoalsScored - Total de Gols\n",
    "* QualifiedTeams - Quantidade de Times\n",
    "* MatchesPlayed - Quantidade de Jogos\n",
    "* Attendance - Público Total\n",
    "\n",
    "Efetue a leitura desse arquivo, sem a utilização de módulos externos (Pandas), e crie um arquivo de saída com as seguintes informações (uma informação por linha):\n",
    "\n",
    "* Soma de público das copas com anos final 0 (1930, 1950, etc)\n",
    "* Quantidade total de gols entre as copas de 1954 e 1990, inclusive\n",
    "* Média de público\n",
    "* Média de gols por partida\n",
    "* Quantidade de vezes em que o país sede foi campeão\n",
    "* Quantidade de vezes em que o time do Brasil ficou entre uma das 4 primeiras posições\n",
    "* Ano das edições em que o time da França finalizou em terceiro lugar\n",
    "* Quantidade de vitórias por país, ordenada de forma crescente por número de títulos"
   ]
  },
  {
   "cell_type": "markdown",
   "id": "111dc674",
   "metadata": {
    "ExecuteTime": {
     "end_time": "2021-09-23T01:18:10.271290Z",
     "start_time": "2021-09-23T01:18:10.267092Z"
    }
   },
   "source": [
    "## Análise"
   ]
  },
  {
   "cell_type": "markdown",
   "id": "e21d12c5",
   "metadata": {},
   "source": [
    "   Coloque a sua análise aqui"
   ]
  },
  {
   "cell_type": "markdown",
   "id": "726b8569",
   "metadata": {},
   "source": [
    "## Implicações / Proposições / Afirmações"
   ]
  },
  {
   "cell_type": "markdown",
   "id": "77884643",
   "metadata": {},
   "source": [
    "Coloque as implicações / Proposições / Afirmações aqui"
   ]
  },
  {
   "cell_type": "markdown",
   "id": "719448b9",
   "metadata": {},
   "source": [
    "## Resolução e Resposta"
   ]
  },
  {
   "cell_type": "code",
   "execution_count": 91,
   "id": "13a59a4f",
   "metadata": {
    "ExecuteTime": {
     "end_time": "2022-06-01T23:32:52.615507Z",
     "start_time": "2022-06-01T23:32:52.588016Z"
    }
   },
   "outputs": [],
   "source": [
    "# Resolução e Resposta Aqui\n",
    "import csv\n",
    "\n",
    "input_file = 'csv/world_cups.csv'\n",
    "\n",
    "\n",
    "total_matches_played = 0\n",
    "total_attendance = 0\n",
    "attendance_final_0 = 0\n",
    "total_goals_54_90 = 0\n",
    "mean_matches_public = 0\n",
    "total_goals = 0\n",
    "mean_goals_matches = 0\n",
    "pais_sede = 0\n",
    "brazil_posicao = 0\n",
    "france_third = []\n",
    "winners = {}\n",
    "\n",
    "\n",
    "#Header\n",
    "# ['Year', 'Country', 'Winner', 'Runners-Up', 'Third',\n",
    "# 'Fourth', 'GoalsScored', 'QualifiedTeams', 'MatchesPlayed',\n",
    "# 'Attendance']\n",
    "\n",
    "\n",
    "with open (input_file, 'r') as f:\n",
    "    \n",
    "    reader = csv.reader(f)\n",
    "    \n",
    "    next(reader)\n",
    "\n",
    "    for line in reader:\n",
    "        #output.write(line)\n",
    "        \n",
    "                 \n",
    "        \n",
    "        #Calculando o numero de jogos\n",
    "        total_matches_played += int(line[8])\n",
    "        \n",
    "        \n",
    "        #Ajustando '.' por '' para somar Total de Partidas\n",
    "        attendance = int(line[9].replace('.', ''))\n",
    "        total_attendance += attendance #incrementa\n",
    "        \n",
    "        #Total de Gols\n",
    "        total_goals += int(line[6])\n",
    "        \n",
    "        #Soma de público das copas com anos final 0 (1930, 1950, etc)\n",
    "        if line[0].endswith('0'):\n",
    "            attendance_final_0 += attendance\n",
    "        \n",
    "        #Quantidade total de gols entre as copas de 1954 e 1990\n",
    "        year = int(line[0])\n",
    "        if 1954 <= year <= 19990:\n",
    "            total_goals_54_90 += int(line[6])\n",
    "            \n",
    "        #Média de público\n",
    "        mean_matches_public = total_attendance / total_matches_played\n",
    "        \n",
    "        #Média de gols por partida\n",
    "        mean_goals_matches = total_goals / total_matches_played\n",
    "        \n",
    "        #Quantidade de vezes em que o país sede foi campeão\n",
    "        if line[1] == line[2]:\n",
    "            pais_sede += 1\n",
    "            \n",
    "        #Quantidade de vezes em que o time do Brasil ficou entre uma das 4 primeiras posições\n",
    "        if (line[2] == 'Brazil'or line[3] == 'Brazil'or line[4] == 'Brazil'or line[5] == 'Brazil'):\n",
    "            brazil_posicao += 1\n",
    "      \n",
    "        #Ano das edições em que o time da França finalizou em terceiro lugar\n",
    "        if line[4] == 'France':\n",
    "            france_third.append(line[0])\n",
    "    \n",
    "        \n",
    "        # PICAAAAAA\n",
    "        #Quantidade de vitórias por país, ordenada de forma crescente por número de títulos\n",
    "        if winners.get(line[2]) is None:\n",
    "            winners[line[2]] = 1 #Adiciona o time no Dicionario de times\n",
    "        else:\n",
    "            winners[line[2]] += 1 #Adiciona o ano ao time vitorioso\n",
    "            \n",
    "csv_file.close()    \n",
    "\n",
    "# Criando As respostas que vão compor o arquivo\n",
    "\n",
    "with open('csv/world_cups_answers.txt', 'w' ) as output:\n",
    "    output.write(f'Soma de público das copas com final 0: {attendance_final_0} \\n')\n",
    "    output.write(f'Quantidade total de gols entre as Copas de 1954 à 1990: {total_goals_54_90} \\n')\n",
    "    output.write(f'Média de Público: {mean_matches_public} \\n')\n",
    "    output.write(f'Média de gols por partida:{mean_goals_matches} \\n')\n",
    "    output.write(f'Quantidade de vezes em que o país sede foi campeão:{pais_sede} \\n')\n",
    "    output.write(f'Quantidade de vezes em que o time do Brasil ficou entre uma das 4 primeiras posições:{brazil_posicao} \\n')\n",
    "    output.write(f'Ano das edições em que o time da França finalizou em terceiro lugar: {\", \".join(map(str, france_third))}')\n",
    "    output.write(f'Quantidade de vitórias por país, classificada em ordem crescente do número de títulos:\\n')\n",
    "    output.write(f'Campeões:')\n",
    "    for win in sorted(winners.items(), key=lambda kv: kv[1]):\n",
    "        output.write('\\t'+ '{0}:{1}'.format(win[0], win[1]) + '\\n')\n",
    "\n",
    "\n",
    "\n",
    "\n",
    "\n"
   ]
  },
  {
   "cell_type": "markdown",
   "id": "f9edd842",
   "metadata": {},
   "source": [
    "# Resposta"
   ]
  },
  {
   "cell_type": "markdown",
   "id": "0a7cc1ee",
   "metadata": {},
   "source": [
    "Soma de público das copas com final 0: 8934841   \n",
    "Quantidade total de gols entre as copas de 1954 e 1990: 1131  \n",
    "Média de público: 1872882.35  \n",
    "Média de gols por partida: 2.85  \n",
    "Quantidade de vezes em que o país sede foi campeão: 5  \n",
    "Quantidade de vezes em que o time do Brasil ficou entre uma das 4 primeiras posições: 11  \n",
    "Ano das edições em que o time da França finalizou em terceiro lugar: 1958, 1986  \n",
    "Quantidade de vitórias por país, classificada em ordem crescente do número de títulos:  \n",
    "* England:1\n",
    "* France:1\n",
    "* Spain:1\n",
    "* Germany:1\n",
    "* Uruguay:2\n",
    "* Argentina:2\n",
    "* Germany FR:3\n",
    "* Italy:4\n",
    "* Brazil:5 "
   ]
  },
  {
   "cell_type": "code",
   "execution_count": null,
   "id": "87b96cf4",
   "metadata": {},
   "outputs": [],
   "source": []
  }
 ],
 "metadata": {
  "kernelspec": {
   "display_name": "Python 3 (ipykernel)",
   "language": "python",
   "name": "python3"
  },
  "language_info": {
   "codemirror_mode": {
    "name": "ipython",
    "version": 3
   },
   "file_extension": ".py",
   "mimetype": "text/x-python",
   "name": "python",
   "nbconvert_exporter": "python",
   "pygments_lexer": "ipython3",
   "version": "3.9.4"
  },
  "latex_envs": {
   "LaTeX_envs_menu_present": true,
   "autoclose": false,
   "autocomplete": true,
   "bibliofile": "biblio.bib",
   "cite_by": "apalike",
   "current_citInitial": 1,
   "eqLabelWithNumbers": true,
   "eqNumInitial": 1,
   "hotkeys": {
    "equation": "Ctrl-E",
    "itemize": "Ctrl-I"
   },
   "labels_anchors": false,
   "latex_user_defs": false,
   "report_style_numbering": false,
   "user_envs_cfg": false
  },
  "varInspector": {
   "cols": {
    "lenName": 16,
    "lenType": 16,
    "lenVar": 40
   },
   "kernels_config": {
    "python": {
     "delete_cmd_postfix": "",
     "delete_cmd_prefix": "del ",
     "library": "var_list.py",
     "varRefreshCmd": "print(var_dic_list())"
    },
    "r": {
     "delete_cmd_postfix": ") ",
     "delete_cmd_prefix": "rm(",
     "library": "var_list.r",
     "varRefreshCmd": "cat(var_dic_list()) "
    }
   },
   "types_to_exclude": [
    "module",
    "function",
    "builtin_function_or_method",
    "instance",
    "_Feature"
   ],
   "window_display": false
  }
 },
 "nbformat": 4,
 "nbformat_minor": 5
}
