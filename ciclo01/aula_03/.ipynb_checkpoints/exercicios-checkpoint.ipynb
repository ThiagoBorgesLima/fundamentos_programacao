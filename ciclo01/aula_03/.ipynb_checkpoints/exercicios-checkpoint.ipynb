{
 "cells": [
  {
   "cell_type": "markdown",
   "id": "356cb35d",
   "metadata": {},
   "source": [
    "# Exercício 1.0"
   ]
  },
  {
   "cell_type": "markdown",
   "id": "96a0f0d7",
   "metadata": {},
   "source": [
    "## Problema"
   ]
  },
  {
   "cell_type": "markdown",
   "id": "e9e8107f",
   "metadata": {
    "ExecuteTime": {
     "end_time": "2021-09-23T01:15:31.266217Z",
     "start_time": "2021-09-23T01:15:31.260904Z"
    }
   },
   "source": [
    "Considere um arquivo CSV com os seguintes dados de todas as copas do mundo até o ano de 2014. As informações do arquivo são:\n",
    "\n",
    "* Year - Ano da copa\n",
    "* Country - País sede\n",
    "* Winner - Campeão\n",
    "* Runners-Up - Vice-Campeão\n",
    "* Third - Terceiro lugar\n",
    "* Fourth - Quarto Lugar\n",
    "* GoalsScored - Total de Gols\n",
    "* QualifiedTeams - Quantidade de Times\n",
    "* MatchesPlayed - Quantidade de Jogos\n",
    "* Attendance - Público Total\n",
    "\n",
    "Efetue a leitura desse arquivo, sem a utilização de módulos externos (Pandas), e crie um arquivo de saída com as seguintes informações (uma informação por linha):\n",
    "\n",
    "* Soma de público das copas com anos final 0 (1930, 1950, etc)\n",
    "* Quantidade total de gols entre as copas de 1954 e 1990, inclusive\n",
    "* Média de público\n",
    "* Média de gols por partida\n",
    "* Quantidade de vezes em que o país sede foi campeão\n",
    "* Quantidade de vezes em que o time do Brasil ficou entre uma das 4 primeiras posições\n",
    "* Ano das edições em que o time da França finalizou em terceiro lugar\n",
    "* Quantidade de vitórias por país, ordenada de forma crescente por número de títulos"
   ]
  },
  {
   "cell_type": "markdown",
   "id": "111dc674",
   "metadata": {
    "ExecuteTime": {
     "end_time": "2021-09-23T01:18:10.271290Z",
     "start_time": "2021-09-23T01:18:10.267092Z"
    }
   },
   "source": [
    "## Análise"
   ]
  },
  {
   "cell_type": "markdown",
   "id": "e21d12c5",
   "metadata": {},
   "source": [
    "   Coloque a sua análise aqui"
   ]
  },
  {
   "cell_type": "markdown",
   "id": "726b8569",
   "metadata": {},
   "source": [
    "## Implicações / Proposições / Afirmações"
   ]
  },
  {
   "cell_type": "markdown",
   "id": "77884643",
   "metadata": {},
   "source": [
    "Coloque as implicações / Proposições / Afirmações aqui"
   ]
  },
  {
   "cell_type": "markdown",
   "id": "719448b9",
   "metadata": {},
   "source": [
    "## Resolução e Resposta"
   ]
  },
  {
   "cell_type": "code",
   "execution_count": 1,
   "id": "13a59a4f",
   "metadata": {
    "ExecuteTime": {
     "end_time": "2021-09-26T21:33:34.808097Z",
     "start_time": "2021-09-26T21:33:34.805732Z"
    }
   },
   "outputs": [],
   "source": [
    "# Resolução e Resposta Aqui"
   ]
  }
 ],
 "metadata": {
  "kernelspec": {
   "display_name": "Python 3.8.11 64-bit ('3.8.11': pyenv)",
   "language": "python",
   "name": "python3811jvsc74a57bd016c98fcc13804c079c0e605033a1ae10a459b3686638e04aa6e2e124f32781c0"
  },
  "language_info": {
   "codemirror_mode": {
    "name": "ipython",
    "version": 3
   },
   "file_extension": ".py",
   "mimetype": "text/x-python",
   "name": "python",
   "nbconvert_exporter": "python",
   "pygments_lexer": "ipython3",
   "version": "3.8.11"
  },
  "latex_envs": {
   "LaTeX_envs_menu_present": true,
   "autoclose": false,
   "autocomplete": true,
   "bibliofile": "biblio.bib",
   "cite_by": "apalike",
   "current_citInitial": 1,
   "eqLabelWithNumbers": true,
   "eqNumInitial": 1,
   "hotkeys": {
    "equation": "Ctrl-E",
    "itemize": "Ctrl-I"
   },
   "labels_anchors": false,
   "latex_user_defs": false,
   "report_style_numbering": false,
   "user_envs_cfg": false
  }
 },
 "nbformat": 4,
 "nbformat_minor": 5
}
