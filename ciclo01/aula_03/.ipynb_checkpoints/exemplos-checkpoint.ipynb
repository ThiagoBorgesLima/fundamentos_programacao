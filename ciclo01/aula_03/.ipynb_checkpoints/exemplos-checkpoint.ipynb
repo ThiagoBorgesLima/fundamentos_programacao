{
 "cells": [
  {
   "cell_type": "markdown",
   "id": "356cb35d",
   "metadata": {
    "heading_collapsed": true
   },
   "source": [
    "# Exemplo 1"
   ]
  },
  {
   "cell_type": "markdown",
   "id": "96a0f0d7",
   "metadata": {
    "heading_collapsed": true,
    "hidden": true
   },
   "source": [
    "## Problema"
   ]
  },
  {
   "cell_type": "markdown",
   "id": "e9e8107f",
   "metadata": {
    "ExecuteTime": {
     "end_time": "2021-09-23T01:15:31.266217Z",
     "start_time": "2021-09-23T01:15:31.260904Z"
    },
    "hidden": true
   },
   "source": [
    "Considere um arquivo CSV (comma separated values) informações demográficas sobre super heróis. As informações do arquivo são:\n",
    "\n",
    "* id - Número da linha\n",
    "* name - Nome\n",
    "* Gender - Gênero\n",
    "* Eye color - Cor dos olhos\n",
    "* Race - Raça\n",
    "* Hair color - Cor do cabelo\n",
    "* Height - Altura em centímetros\n",
    "* Publisher - Estúdio\n",
    "* Skin color - Cor da pele\n",
    "* Alignment - Vilão ou herói\n",
    "* Weight - Peso em libras\n",
    "\n",
    "Efetue a leitura desse arquivo, sem a utilização de módulos externos (Pandas), e crie:\n",
    "\n",
    "* Um arquivo de saída (.csv) com todos os heróis do gênero masculino (id, name)\n",
    "* Um arquivo de saída (.csv) com todos os heróis do gênero feminino (id, name)\n",
    "* Um arquivo de saída (.csv) com todos os heróis sem gênero definido (id, name)\n",
    "* Um arquivo de saida (.txt) com o nome de todos os heróis dos estúdios Marvel Comics e DC Comics (um nome por linha)\n",
    "* Um arquivo de saída (.txt) com o nome de todos os heróis que tenham cor de pele azul e que sejam vilões (um nome por linha)"
   ]
  },
  {
   "cell_type": "markdown",
   "id": "111dc674",
   "metadata": {
    "ExecuteTime": {
     "end_time": "2021-09-23T01:18:10.271290Z",
     "start_time": "2021-09-23T01:18:10.267092Z"
    },
    "heading_collapsed": true,
    "hidden": true
   },
   "source": [
    "## Análise"
   ]
  },
  {
   "cell_type": "markdown",
   "id": "e21d12c5",
   "metadata": {
    "hidden": true
   },
   "source": [
    "Análise Aqui"
   ]
  },
  {
   "cell_type": "markdown",
   "id": "726b8569",
   "metadata": {
    "heading_collapsed": true,
    "hidden": true
   },
   "source": [
    "## Implicações / Proposições / Afirmações"
   ]
  },
  {
   "cell_type": "markdown",
   "id": "77884643",
   "metadata": {
    "hidden": true
   },
   "source": [
    "Implicações aqui"
   ]
  },
  {
   "cell_type": "markdown",
   "id": "719448b9",
   "metadata": {
    "heading_collapsed": true,
    "hidden": true
   },
   "source": [
    "## Resolução e Resposta"
   ]
  },
  {
   "cell_type": "code",
   "execution_count": 1,
   "id": "9dfcfbfc",
   "metadata": {
    "ExecuteTime": {
     "end_time": "2021-09-29T22:35:14.476075Z",
     "start_time": "2021-09-29T22:35:14.470464Z"
    },
    "hidden": true
   },
   "outputs": [],
   "source": [
    "# Resolução Aqui"
   ]
  }
 ],
 "metadata": {
  "kernelspec": {
   "display_name": "Python 3.8.11 64-bit ('3.8.11': pyenv)",
   "language": "python",
   "name": "python3811jvsc74a57bd016c98fcc13804c079c0e605033a1ae10a459b3686638e04aa6e2e124f32781c0"
  },
  "language_info": {
   "codemirror_mode": {
    "name": "ipython",
    "version": 3
   },
   "file_extension": ".py",
   "mimetype": "text/x-python",
   "name": "python",
   "nbconvert_exporter": "python",
   "pygments_lexer": "ipython3",
   "version": "3.8.11"
  },
  "latex_envs": {
   "LaTeX_envs_menu_present": true,
   "autoclose": false,
   "autocomplete": true,
   "bibliofile": "biblio.bib",
   "cite_by": "apalike",
   "current_citInitial": 1,
   "eqLabelWithNumbers": true,
   "eqNumInitial": 1,
   "hotkeys": {
    "equation": "Ctrl-E",
    "itemize": "Ctrl-I"
   },
   "labels_anchors": false,
   "latex_user_defs": false,
   "report_style_numbering": false,
   "user_envs_cfg": false
  }
 },
 "nbformat": 4,
 "nbformat_minor": 5
}
