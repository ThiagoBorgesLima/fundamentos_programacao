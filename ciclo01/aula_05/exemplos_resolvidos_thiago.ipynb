{
 "cells": [
  {
   "cell_type": "markdown",
   "id": "92fb32f7",
   "metadata": {
    "ExecuteTime": {
     "end_time": "2022-06-05T12:02:06.500882Z",
     "start_time": "2022-06-05T12:02:06.075178Z"
    }
   },
   "source": [
    "# EXEMPLO 1\n"
   ]
  },
  {
   "cell_type": "code",
   "execution_count": 5,
   "id": "209ec579",
   "metadata": {
    "ExecuteTime": {
     "end_time": "2022-06-05T12:07:52.224112Z",
     "start_time": "2022-06-05T12:07:52.215794Z"
    }
   },
   "outputs": [],
   "source": [
    "def triangulo( v1, v2, v3):\n",
    "    \n",
    "    lados = [v1, v2, v3]\n",
    "    \n",
    "    hip = max(lados)\n",
    "    lados.remove(hip)\n",
    "    \n",
    "    lad1 = lados[0]\n",
    "    lad2 = lados[1]\n",
    "    \n",
    "    if hip **2 == (lad1 ** 2 + lad2 ** 2):\n",
    "        return True\n",
    "    else:\n",
    "        return False\n",
    "    \n"
   ]
  },
  {
   "cell_type": "code",
   "execution_count": 17,
   "id": "baf2e763",
   "metadata": {
    "ExecuteTime": {
     "end_time": "2022-06-05T12:11:51.287789Z",
     "start_time": "2022-06-05T12:11:51.282947Z"
    }
   },
   "outputs": [],
   "source": [
    "assert triangulo(3,4,5), 'Os valores não formam um triângulo retângulo'\n"
   ]
  },
  {
   "cell_type": "code",
   "execution_count": 18,
   "id": "d501c284",
   "metadata": {
    "ExecuteTime": {
     "end_time": "2022-06-05T12:11:57.558341Z",
     "start_time": "2022-06-05T12:11:57.528584Z"
    }
   },
   "outputs": [
    {
     "ename": "AssertionError",
     "evalue": "Os valores não formam um triângulo retângulo",
     "output_type": "error",
     "traceback": [
      "\u001b[0;31m---------------------------------------------------------------------------\u001b[0m",
      "\u001b[0;31mAssertionError\u001b[0m                            Traceback (most recent call last)",
      "Input \u001b[0;32mIn [18]\u001b[0m, in \u001b[0;36m<cell line: 1>\u001b[0;34m()\u001b[0m\n\u001b[0;32m----> 1\u001b[0m \u001b[38;5;28;01massert\u001b[39;00m triangulo(\u001b[38;5;241m3\u001b[39m,\u001b[38;5;241m4\u001b[39m,\u001b[38;5;241m1\u001b[39m), \u001b[38;5;124m'\u001b[39m\u001b[38;5;124mOs valores não formam um triângulo retângulo\u001b[39m\u001b[38;5;124m'\u001b[39m\n",
      "\u001b[0;31mAssertionError\u001b[0m: Os valores não formam um triângulo retângulo"
     ]
    }
   ],
   "source": [
    "assert triangulo(3,4,1), 'Os valores não formam um triângulo retângulo'\n"
   ]
  },
  {
   "cell_type": "markdown",
   "id": "2e77cf06",
   "metadata": {},
   "source": [
    "# Exemplo 2"
   ]
  },
  {
   "cell_type": "markdown",
   "id": "3702aff9",
   "metadata": {},
   "source": [
    "Escreva as funções F(n) e G(n) de acordo com as suas respectivas fórmulas. Escreva uma função K(n) que receba um inteiro n > 0 e devolva F(n) e G(n).\n",
    "\n",
    "Para K(2), a função deve devolver os valores 1 e 2\n",
    "Para K(3), a função deve devolver os valores 3 e 8\n",
    "Para K(4), a função deve devolver os valores 8 e 11\n",
    "O domínio das funções K(n) são os números naturais (n ∈ ℕ, n > 0).\n",
    "\n",
    "Imprima uma lista de resultados (F(n), G(n)) para K(n) entre 1 e 5.\n",
    "\n",
    "Utilize a função assert para verificar o resultado das funções.\n",
    "\n",
    "Utilize também a função try .. catch junto com função assert, na criação da função K para verificar se o parâmetro passado é um valor inteiro."
   ]
  },
  {
   "cell_type": "code",
   "execution_count": 62,
   "id": "d222b082",
   "metadata": {
    "ExecuteTime": {
     "end_time": "2022-06-05T12:59:41.555979Z",
     "start_time": "2022-06-05T12:59:41.550214Z"
    }
   },
   "outputs": [],
   "source": [
    "def f(i):\n",
    "    if i == 1:\n",
    "        return 2\n",
    "    if i == 2:\n",
    "        return 1\n",
    "    else:\n",
    "        return 2 * f(i-1) + g(i-2)\n",
    "\n"
   ]
  },
  {
   "cell_type": "code",
   "execution_count": null,
   "id": "48679a64",
   "metadata": {
    "ExecuteTime": {
     "end_time": "2022-06-05T12:37:19.732949Z",
     "start_time": "2022-06-05T12:37:19.723265Z"
    }
   },
   "outputs": [],
   "source": []
  },
  {
   "cell_type": "code",
   "execution_count": 61,
   "id": "c5b02411",
   "metadata": {
    "ExecuteTime": {
     "end_time": "2022-06-05T12:59:40.454496Z",
     "start_time": "2022-06-05T12:59:40.448838Z"
    }
   },
   "outputs": [],
   "source": [
    "def g(i):\n",
    "    if i < 3:\n",
    "        return i\n",
    "    else:\n",
    "        return g(i-1) + 3 * f(i-2)\n",
    "        "
   ]
  },
  {
   "cell_type": "code",
   "execution_count": null,
   "id": "d56e06d6",
   "metadata": {
    "ExecuteTime": {
     "end_time": "2022-06-05T12:37:11.250110Z",
     "start_time": "2022-06-05T12:37:11.244259Z"
    }
   },
   "outputs": [],
   "source": []
  },
  {
   "cell_type": "code",
   "execution_count": 167,
   "id": "7ab1dc61",
   "metadata": {
    "ExecuteTime": {
     "end_time": "2022-06-05T13:27:05.965903Z",
     "start_time": "2022-06-05T13:27:05.959770Z"
    }
   },
   "outputs": [],
   "source": [
    "def k(i):\n",
    "    try:\n",
    "        assert i > 0\n",
    "        assert isinstance(i,int)\n",
    "                \n",
    "    except:\n",
    "        print('O valor de i deve ser maior de zero e inteiro')\n",
    "\n",
    "    else:\n",
    "            return( f(i), g(i) )\n",
    "\n",
    "\n",
    "    \n",
    "    "
   ]
  },
  {
   "cell_type": "code",
   "execution_count": 174,
   "id": "c8dad21d",
   "metadata": {
    "ExecuteTime": {
     "end_time": "2022-06-05T13:27:37.701079Z",
     "start_time": "2022-06-05T13:27:37.671162Z"
    }
   },
   "outputs": [
    {
     "ename": "TypeError",
     "evalue": "k() takes 1 positional argument but 2 were given",
     "output_type": "error",
     "traceback": [
      "\u001b[0;31m---------------------------------------------------------------------------\u001b[0m",
      "\u001b[0;31mTypeError\u001b[0m                                 Traceback (most recent call last)",
      "Input \u001b[0;32mIn [174]\u001b[0m, in \u001b[0;36m<cell line: 1>\u001b[0;34m()\u001b[0m\n\u001b[0;32m----> 1\u001b[0m \u001b[43mk\u001b[49m\u001b[43m(\u001b[49m\u001b[38;5;241;43m-\u001b[39;49m\u001b[38;5;241;43m4\u001b[39;49m\u001b[43m,\u001b[49m\u001b[38;5;241;43m2\u001b[39;49m\u001b[43m)\u001b[49m\n",
      "\u001b[0;31mTypeError\u001b[0m: k() takes 1 positional argument but 2 were given"
     ]
    }
   ],
   "source": [
    "k(-4,2)\n"
   ]
  },
  {
   "cell_type": "code",
   "execution_count": 136,
   "id": "9e385cc7",
   "metadata": {
    "ExecuteTime": {
     "end_time": "2022-06-05T13:19:13.299502Z",
     "start_time": "2022-06-05T13:19:13.291163Z"
    }
   },
   "outputs": [
    {
     "data": {
      "text/plain": [
       "[(2, 1), (1, 2), (3, 8), (8, 11), (24, 20)]"
      ]
     },
     "execution_count": 136,
     "metadata": {},
     "output_type": "execute_result"
    }
   ],
   "source": [
    "retorno = []\n",
    "\n",
    "for i in range (1, 6):\n",
    "\n",
    "    retorno.append(k(i))\n",
    "    \n",
    "retorno\n",
    "\n",
    "\n",
    "\n"
   ]
  },
  {
   "cell_type": "code",
   "execution_count": 175,
   "id": "ee590eb8",
   "metadata": {
    "ExecuteTime": {
     "end_time": "2022-06-05T13:32:34.241536Z",
     "start_time": "2022-06-05T13:32:34.211651Z"
    }
   },
   "outputs": [
    {
     "name": "stdout",
     "output_type": "stream",
     "text": [
      "O valor de i deve ser maior de zero e inteiro\n"
     ]
    },
    {
     "ename": "AssertionError",
     "evalue": "Valor incorreto",
     "output_type": "error",
     "traceback": [
      "\u001b[0;31m---------------------------------------------------------------------------\u001b[0m",
      "\u001b[0;31mAssertionError\u001b[0m                            Traceback (most recent call last)",
      "Input \u001b[0;32mIn [175]\u001b[0m, in \u001b[0;36m<cell line: 1>\u001b[0;34m()\u001b[0m\n\u001b[0;32m----> 1\u001b[0m \u001b[38;5;28;01massert\u001b[39;00m k(\u001b[38;5;241m0\u001b[39m) \u001b[38;5;241m==\u001b[39m (\u001b[38;5;241m1\u001b[39m, \u001b[38;5;241m2\u001b[39m) , \u001b[38;5;124m'\u001b[39m\u001b[38;5;124mValor incorreto\u001b[39m\u001b[38;5;124m'\u001b[39m\n",
      "\u001b[0;31mAssertionError\u001b[0m: Valor incorreto"
     ]
    }
   ],
   "source": [
    "assert k(0) == (1, 2) , 'Valor incorreto'"
   ]
  },
  {
   "cell_type": "code",
   "execution_count": null,
   "id": "38c25c43",
   "metadata": {},
   "outputs": [],
   "source": []
  },
  {
   "cell_type": "code",
   "execution_count": null,
   "id": "48698879",
   "metadata": {},
   "outputs": [],
   "source": []
  },
  {
   "cell_type": "code",
   "execution_count": null,
   "id": "9be28e66",
   "metadata": {},
   "outputs": [],
   "source": []
  }
 ],
 "metadata": {
  "kernelspec": {
   "display_name": "Python 3 (ipykernel)",
   "language": "python",
   "name": "python3"
  },
  "language_info": {
   "codemirror_mode": {
    "name": "ipython",
    "version": 3
   },
   "file_extension": ".py",
   "mimetype": "text/x-python",
   "name": "python",
   "nbconvert_exporter": "python",
   "pygments_lexer": "ipython3",
   "version": "3.9.4"
  },
  "varInspector": {
   "cols": {
    "lenName": 16,
    "lenType": 16,
    "lenVar": 40
   },
   "kernels_config": {
    "python": {
     "delete_cmd_postfix": "",
     "delete_cmd_prefix": "del ",
     "library": "var_list.py",
     "varRefreshCmd": "print(var_dic_list())"
    },
    "r": {
     "delete_cmd_postfix": ") ",
     "delete_cmd_prefix": "rm(",
     "library": "var_list.r",
     "varRefreshCmd": "cat(var_dic_list()) "
    }
   },
   "types_to_exclude": [
    "module",
    "function",
    "builtin_function_or_method",
    "instance",
    "_Feature"
   ],
   "window_display": false
  }
 },
 "nbformat": 4,
 "nbformat_minor": 5
}
