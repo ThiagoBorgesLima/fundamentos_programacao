{
 "cells": [
  {
   "cell_type": "markdown",
   "id": "356cb35d",
   "metadata": {
    "heading_collapsed": true
   },
   "source": [
    "# Exercício 1.0"
   ]
  },
  {
   "cell_type": "markdown",
   "id": "96a0f0d7",
   "metadata": {
    "heading_collapsed": true,
    "hidden": true
   },
   "source": [
    "## Problema"
   ]
  },
  {
   "cell_type": "markdown",
   "id": "e9e8107f",
   "metadata": {
    "ExecuteTime": {
     "end_time": "2021-09-23T01:15:31.266217Z",
     "start_time": "2021-09-23T01:15:31.260904Z"
    },
    "hidden": true
   },
   "source": [
    "Em uma loja e CD´s existem apenas quatro tipos de preços que estão associados a cores. Assim os CD´s que ficam na loja não são marcados por preços e sim por cores. \n",
    "\n",
    "Desenvolva uma aplicação que receba como entrada a cor do CD e mostre o preço. A loja está atualmente com a seguinte tabela de preços.\n",
    "\n",
    "| Cor | Preço|\n",
    "| :-: | :--: |\n",
    "| Verde    | R\\$ 10,00 |\n",
    "| Azul     | R\\$ 20,00 |\n",
    "| Amarelo  | R\\$ 30,00 |\n",
    "| Vermelho | R\\$ 40,00 |"
   ]
  },
  {
   "cell_type": "markdown",
   "id": "111dc674",
   "metadata": {
    "ExecuteTime": {
     "end_time": "2021-09-23T01:18:10.271290Z",
     "start_time": "2021-09-23T01:18:10.267092Z"
    },
    "heading_collapsed": true,
    "hidden": true
   },
   "source": [
    "## Análise"
   ]
  },
  {
   "cell_type": "markdown",
   "id": "e21d12c5",
   "metadata": {
    "hidden": true
   },
   "source": [
    "   Coloque a sua análise aqui"
   ]
  },
  {
   "cell_type": "markdown",
   "id": "726b8569",
   "metadata": {
    "heading_collapsed": true,
    "hidden": true
   },
   "source": [
    "## Implicações / Proposições / Afirmações"
   ]
  },
  {
   "cell_type": "markdown",
   "id": "77884643",
   "metadata": {
    "hidden": true
   },
   "source": [
    "Coloque as implicações / Proposições / Afirmações aqui"
   ]
  },
  {
   "cell_type": "markdown",
   "id": "719448b9",
   "metadata": {
    "heading_collapsed": true,
    "hidden": true
   },
   "source": [
    "## Resolução e Resposta"
   ]
  },
  {
   "cell_type": "code",
   "execution_count": 1,
   "id": "13a59a4f",
   "metadata": {
    "ExecuteTime": {
     "end_time": "2021-09-26T21:33:34.808097Z",
     "start_time": "2021-09-26T21:33:34.805732Z"
    },
    "hidden": true
   },
   "outputs": [],
   "source": [
    "# Resolução e Resposta Aqui"
   ]
  },
  {
   "cell_type": "markdown",
   "id": "96ad9c04",
   "metadata": {},
   "source": [
    "# Exercício 2.0"
   ]
  },
  {
   "cell_type": "markdown",
   "id": "1e06d3df",
   "metadata": {},
   "source": [
    "## Problema"
   ]
  },
  {
   "cell_type": "markdown",
   "id": "fc746ae5",
   "metadata": {
    "ExecuteTime": {
     "end_time": "2021-09-26T21:34:24.080327Z",
     "start_time": "2021-09-26T21:34:24.070512Z"
    }
   },
   "source": [
    "Uma empresa decidiu dar uma gratificação de Natal a seus funcionários, baseada no número de horas extras e no número de horas que o funcionário faltou ao trabalho. O valor do prêmio é obtido pela consulta na tabela a seguir, em que:"
   ]
  },
  {
   "cell_type": "markdown",
   "id": "4450eac5",
   "metadata": {},
   "source": [
    "\\begin{equation}\\label{eq:}\n",
    "H = (horas\\_extras) - 2/3 * (horas\\_falta)\n",
    "\\end{equation}"
   ]
  },
  {
   "cell_type": "markdown",
   "id": "2217fdc7",
   "metadata": {},
   "source": [
    "| H | Gratificação |\n",
    "| :-: | :--------: |\n",
    "| Maior que 2400 | R\\$ 500,00 |\n",
    "| 1801 até 2400  | R\\$ 400,00 |\n",
    "| 1201 até 1800  | R\\$ 300,00 | \n",
    "| 600 até 1200   | R\\$ 200,00 |\n",
    "| Menor que 600  | R\\$ 100,00 |"
   ]
  },
  {
   "cell_type": "markdown",
   "id": "aa919e41",
   "metadata": {},
   "source": [
    "Faça uma aplicação que receba o número de horas extras e o número de horas-falta de um funcionário e imprima o valor de sua gratificação."
   ]
  },
  {
   "cell_type": "markdown",
   "id": "ad401bca",
   "metadata": {
    "ExecuteTime": {
     "end_time": "2021-09-23T01:18:10.271290Z",
     "start_time": "2021-09-23T01:18:10.267092Z"
    },
    "heading_collapsed": true
   },
   "source": [
    "## Análise"
   ]
  },
  {
   "cell_type": "markdown",
   "id": "83539f7e",
   "metadata": {
    "hidden": true
   },
   "source": [
    "   Coloque a sua análise aqui"
   ]
  },
  {
   "cell_type": "markdown",
   "id": "81a53233",
   "metadata": {},
   "source": [
    "## Implicações / Proposições / Afirmações"
   ]
  },
  {
   "cell_type": "markdown",
   "id": "f52d843d",
   "metadata": {},
   "source": [
    "Coloque as implicações / Proposições / Afirmações aqui"
   ]
  },
  {
   "cell_type": "markdown",
   "id": "1db898e9",
   "metadata": {},
   "source": [
    "## Resolução e Resposta"
   ]
  },
  {
   "cell_type": "code",
   "execution_count": 5,
   "id": "2647d785",
   "metadata": {
    "ExecuteTime": {
     "end_time": "2022-05-31T20:56:30.900409Z",
     "start_time": "2022-05-31T20:56:28.007932Z"
    }
   },
   "outputs": [
    {
     "name": "stdout",
     "output_type": "stream",
     "text": [
      "Inorme a quantidade de horas extras: 500\n",
      "Inorme a quantidade de horas-falta: 10\n",
      "O Valor da gratificação é de R$ 100,00\n"
     ]
    }
   ],
   "source": [
    "# Resolução e Resposta Aqui\n",
    "\n",
    "h_extras = int(input('Inorme a quantidade de horas extras: '))\n",
    "h_faltas = int(input('Inorme a quantidade de horas-falta: '))\n",
    "\n",
    "h = h_extras - (2/3 * h_faltas)\n",
    "\n",
    "if(h > 2400):\n",
    "    print(f'O Valor da gratificação é de R$ 500,00')\n",
    "elif(h > 1800 and h <= 2400):\n",
    "    print(f'O Valor da gratificação é de R$ 400,00')\n",
    "elif(h > 1200 and h <= 1800):\n",
    "    print(f'O Valor da gratificação é de R$ 300,00')\n",
    "elif(h > 600 and h <= 1200):\n",
    "    print(f'O Valor da gratificação é de R$ 200,00')\n",
    "else:\n",
    "    print(f'O Valor da gratificação é de R$ 100,00')"
   ]
  },
  {
   "cell_type": "code",
   "execution_count": 6,
   "id": "83ac8cd8",
   "metadata": {
    "ExecuteTime": {
     "end_time": "2022-05-31T20:56:36.434334Z",
     "start_time": "2022-05-31T20:56:33.427007Z"
    }
   },
   "outputs": [
    {
     "name": "stdout",
     "output_type": "stream",
     "text": [
      "Inorme a quantidade de horas extras: 500\n",
      "Inorme a quantidade de horas-falta: 10\n",
      "O Valor da gratificação é de R$ 100,00\n"
     ]
    }
   ],
   "source": [
    "# Resolução e Resposta Aqui\n",
    "\n",
    "h_extras = int(input('Inorme a quantidade de horas extras: '))\n",
    "h_faltas = int(input('Inorme a quantidade de horas-falta: '))\n",
    "\n",
    "h = h_extras - (2/3 * h_faltas)\n",
    "\n",
    "if(h > 2400):\n",
    "    print(f'O Valor da gratificação é de R$ 500,00')\n",
    "elif(h > 1800 and h <= 2400):\n",
    "    print(f'O Valor da gratificação é de R$ 400,00')\n",
    "elif(h > 1200 and h <= 1800):\n",
    "    print(f'O Valor da gratificação é de R$ 300,00')\n",
    "elif(h > 600 and h <= 1200):\n",
    "    print(f'O Valor da gratificação é de R$ 200,00')\n",
    "else:\n",
    "    print(f'O Valor da gratificação é de R$ 100,00')"
   ]
  },
  {
   "cell_type": "code",
   "execution_count": null,
   "id": "bacf8256",
   "metadata": {},
   "outputs": [],
   "source": []
  }
 ],
 "metadata": {
  "kernelspec": {
   "display_name": "Python 3 (ipykernel)",
   "language": "python",
   "name": "python3"
  },
  "language_info": {
   "codemirror_mode": {
    "name": "ipython",
    "version": 3
   },
   "file_extension": ".py",
   "mimetype": "text/x-python",
   "name": "python",
   "nbconvert_exporter": "python",
   "pygments_lexer": "ipython3",
   "version": "3.9.4"
  },
  "latex_envs": {
   "LaTeX_envs_menu_present": true,
   "autoclose": false,
   "autocomplete": true,
   "bibliofile": "biblio.bib",
   "cite_by": "apalike",
   "current_citInitial": 1,
   "eqLabelWithNumbers": true,
   "eqNumInitial": 1,
   "hotkeys": {
    "equation": "Ctrl-E",
    "itemize": "Ctrl-I"
   },
   "labels_anchors": false,
   "latex_user_defs": false,
   "report_style_numbering": false,
   "user_envs_cfg": false
  },
  "varInspector": {
   "cols": {
    "lenName": 16,
    "lenType": 16,
    "lenVar": 40
   },
   "kernels_config": {
    "python": {
     "delete_cmd_postfix": "",
     "delete_cmd_prefix": "del ",
     "library": "var_list.py",
     "varRefreshCmd": "print(var_dic_list())"
    },
    "r": {
     "delete_cmd_postfix": ") ",
     "delete_cmd_prefix": "rm(",
     "library": "var_list.r",
     "varRefreshCmd": "cat(var_dic_list()) "
    }
   },
   "types_to_exclude": [
    "module",
    "function",
    "builtin_function_or_method",
    "instance",
    "_Feature"
   ],
   "window_display": false
  }
 },
 "nbformat": 4,
 "nbformat_minor": 5
}
