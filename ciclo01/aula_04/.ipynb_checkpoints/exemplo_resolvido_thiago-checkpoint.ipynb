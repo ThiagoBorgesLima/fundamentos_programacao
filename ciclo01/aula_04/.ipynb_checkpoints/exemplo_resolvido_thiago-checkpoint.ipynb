{
 "cells": [
  {
   "cell_type": "code",
   "execution_count": 104,
   "id": "d0f3b0d1",
   "metadata": {
    "ExecuteTime": {
     "end_time": "2022-06-03T12:23:50.091164Z",
     "start_time": "2022-06-03T12:23:50.009718Z"
    }
   },
   "outputs": [],
   "source": [
    "# Carregando da biblioteca CSV\n",
    "import csv\n",
    "import json"
   ]
  },
  {
   "cell_type": "code",
   "execution_count": 108,
   "id": "6909beb5",
   "metadata": {
    "ExecuteTime": {
     "end_time": "2022-06-03T12:27:44.860553Z",
     "start_time": "2022-06-03T12:27:44.846246Z"
    }
   },
   "outputs": [],
   "source": [
    "def read_file(file_path):\n",
    "\n",
    "    #Criação das listas que armazenarão as respostas\n",
    "    count = 0\n",
    "    map_of_incidents = {}\n",
    "    list_of_incidents = []\n",
    "\n",
    "\n",
    "    # Abertura do arquivo para leitura\n",
    "    with open(filepath, 'r', encoding='utf-8') as f:\n",
    "        reader = csv.DictReader(f, delimiter='~', quotechar='\"') #Leitura do Arquivo\n",
    "\n",
    "        next(reader) #pula linha inicial do database\n",
    "\n",
    "        for row in reader:\n",
    "\n",
    "            count =+ 1\n",
    "            key = row['aeronave_fase_operacao']\n",
    "\n",
    "\n",
    "            if key in map_of_incidents:\n",
    "\n",
    "                map_of_incidents[key] += 1 \n",
    "\n",
    "            else:\n",
    "                map_of_incidents[key] = 1\n",
    "\n",
    "\n",
    "\n",
    "\n",
    "            if(( row['aeronave_nivel_dano'] == 'LEVE' or row['aeronave_nivel_dano'] == 'NENHUM') and\n",
    "            (int(row['total_fatalidades']) > 0)):\n",
    "                list_of_incidents.append([row['aeronave_operador_categoria'],\n",
    "                                          row['aeronave_tipo_veiculo'],\n",
    "                                          row['aeronave_fabricante'],\n",
    "                                          row['aeronave_motor_tipo'],\n",
    "                                          row['aeronave_motor_quantidade'],\n",
    "                                          row['aeronave_ano_fabricacao'],\n",
    "                                          row['aeronave_assentos'],\n",
    "                                          row['total_fatalidades']])\n",
    "\n",
    "\n",
    "\n",
    "\n",
    "        save_jason(map_of_incidents, count)\n",
    "        save_csv(list_of_incidents)\n",
    "\n",
    "\n"
   ]
  },
  {
   "cell_type": "code",
   "execution_count": 110,
   "id": "0e00d318",
   "metadata": {
    "ExecuteTime": {
     "end_time": "2022-06-03T12:28:04.025299Z",
     "start_time": "2022-06-03T12:28:04.017169Z"
    }
   },
   "outputs": [],
   "source": [
    "def save_jason(data, count):\n",
    "\n",
    "    array_of_incidents = []\n",
    "\n",
    "    for key, value in data.items():\n",
    "        array_of_incidents.append(\n",
    "            {\n",
    "                \"fase_operacao\": key,\n",
    "                \"ocorrencias:\": value,\n",
    "                \"percentual\": '{:.3%}'.format(value / count)\n",
    "            }\n",
    "        )\n",
    "        \n",
    "    with open('statisticsteste.json', 'w', encoding='utf8') as outfile:\n",
    "        json.dump(array_of_incidents, outfile, ensure_ascii=False, indent=4 )"
   ]
  },
  {
   "cell_type": "code",
   "execution_count": 111,
   "id": "7a553df8",
   "metadata": {
    "ExecuteTime": {
     "end_time": "2022-06-03T12:28:05.542274Z",
     "start_time": "2022-06-03T12:28:05.535260Z"
    }
   },
   "outputs": [],
   "source": [
    "def save_csv(data):\n",
    "    header = ['operation', 'type', 'manufacturer', 'engine_type',\n",
    "             'engines', 'year_manufacturing', 'seating',\n",
    "             'falatilites']\n",
    "    \n",
    "    with open('levelsteste.csv', 'w', encoding='utf8', newline='') as outfile:\n",
    "        w = csv.writer(outfile)\n",
    "        w.writerow(header)\n",
    "        w.writerows(data)"
   ]
  },
  {
   "cell_type": "code",
   "execution_count": 112,
   "id": "74ad4309",
   "metadata": {
    "ExecuteTime": {
     "end_time": "2022-06-03T12:28:07.188494Z",
     "start_time": "2022-06-03T12:28:07.105451Z"
    }
   },
   "outputs": [],
   "source": [
    "read_file('csv/anv.csv')"
   ]
  },
  {
   "cell_type": "code",
   "execution_count": null,
   "id": "8b867006",
   "metadata": {},
   "outputs": [],
   "source": []
  }
 ],
 "metadata": {
  "kernelspec": {
   "display_name": "Python 3 (ipykernel)",
   "language": "python",
   "name": "python3"
  },
  "language_info": {
   "codemirror_mode": {
    "name": "ipython",
    "version": 3
   },
   "file_extension": ".py",
   "mimetype": "text/x-python",
   "name": "python",
   "nbconvert_exporter": "python",
   "pygments_lexer": "ipython3",
   "version": "3.9.4"
  },
  "varInspector": {
   "cols": {
    "lenName": 16,
    "lenType": 16,
    "lenVar": 40
   },
   "kernels_config": {
    "python": {
     "delete_cmd_postfix": "",
     "delete_cmd_prefix": "del ",
     "library": "var_list.py",
     "varRefreshCmd": "print(var_dic_list())"
    },
    "r": {
     "delete_cmd_postfix": ") ",
     "delete_cmd_prefix": "rm(",
     "library": "var_list.r",
     "varRefreshCmd": "cat(var_dic_list()) "
    }
   },
   "types_to_exclude": [
    "module",
    "function",
    "builtin_function_or_method",
    "instance",
    "_Feature"
   ],
   "window_display": false
  }
 },
 "nbformat": 4,
 "nbformat_minor": 5
}
