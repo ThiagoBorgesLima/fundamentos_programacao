{
 "cells": [
  {
   "cell_type": "markdown",
   "id": "356cb35d",
   "metadata": {},
   "source": [
    "# Exercício 1.0"
   ]
  },
  {
   "cell_type": "markdown",
   "id": "96a0f0d7",
   "metadata": {},
   "source": [
    "## Problema"
   ]
  },
  {
   "cell_type": "markdown",
   "id": "e9e8107f",
   "metadata": {
    "ExecuteTime": {
     "end_time": "2021-09-23T01:15:31.266217Z",
     "start_time": "2021-09-23T01:15:31.260904Z"
    }
   },
   "source": [
    "Crie uma função que efetue a leitura do arquivo produzido no exemplo 1 (levels.csv) e mostre na tela as seguintes informações estatísticas:\n",
    "\n",
    "* Quantidade total de acidentes\n",
    "* Quantidade total de acidentes agrupados por tipo de aeronave (type)\n",
    "* Ano e fabricante da aeronave mais antiga (year_manufacturing, manufacturer)\n",
    "* Quantidade de assentos e tipo de motor da aeronave mais nova (seating, engine_type)\n",
    "* A quantidade de acidentes que ocorreram com aeronaves do tipo (type) HELICÓPTERO, cuja fabricação se deu após o ano 1997\n",
    "* A quantidade de acidentes que ocorreram com aeronaves do tipo (type) AVIÃO fabricadas (manufacturer) pela CESSNA AIRCRAFT"
   ]
  },
  {
   "cell_type": "markdown",
   "id": "111dc674",
   "metadata": {
    "ExecuteTime": {
     "end_time": "2021-09-23T01:18:10.271290Z",
     "start_time": "2021-09-23T01:18:10.267092Z"
    },
    "heading_collapsed": true
   },
   "source": [
    "## Análise"
   ]
  },
  {
   "cell_type": "markdown",
   "id": "e21d12c5",
   "metadata": {
    "hidden": true
   },
   "source": [
    "   Coloque a sua análise aqui"
   ]
  },
  {
   "cell_type": "markdown",
   "id": "726b8569",
   "metadata": {},
   "source": [
    "## Implicações / Proposições / Afirmações"
   ]
  },
  {
   "cell_type": "markdown",
   "id": "77884643",
   "metadata": {},
   "source": [
    "Coloque as implicações / Proposições / Afirmações aqui"
   ]
  },
  {
   "cell_type": "markdown",
   "id": "719448b9",
   "metadata": {},
   "source": [
    "## Resolução e Resposta"
   ]
  },
  {
   "cell_type": "code",
   "execution_count": 1,
   "id": "13a59a4f",
   "metadata": {
    "ExecuteTime": {
     "end_time": "2021-09-26T21:33:34.808097Z",
     "start_time": "2021-09-26T21:33:34.805732Z"
    }
   },
   "outputs": [],
   "source": [
    "# Resolução e Resposta \n",
    "\n",
    "# Abertura do arquivo e reconhecimento do seu encode\n",
    "# criar uma função que retorne os resultados de:\n",
    "\n",
    "# Quantidade total de acidentes\n",
    "# Quantidade total de acidentes agrupados por tipo de aeronave (type)\n",
    "# Ano e fabricante da aeronave mais antiga (year_manufacturing, manufacturer)\n",
    "# Quantidade de assentos e tipo de motor da aeronave mais nova (seating, engine_type)\n",
    "# A quantidade de acidentes que ocorreram com aeronaves do tipo (type) HELICÓPTERO, cuja fabricação se deu após o ano 1997\n",
    "# A quantidade de acidentes que ocorreram com aeronaves do tipo (type) AVIÃO fabricadas (manufacturer) pela CESSNA AIRCRAFT\n"
   ]
  },
  {
   "cell_type": "code",
   "execution_count": null,
   "id": "e732ea8b",
   "metadata": {},
   "outputs": [],
   "source": []
  },
  {
   "cell_type": "code",
   "execution_count": 165,
   "id": "a80b3cac",
   "metadata": {
    "ExecuteTime": {
     "end_time": "2022-06-03T14:32:09.424755Z",
     "start_time": "2022-06-03T14:32:09.419150Z"
    },
    "scrolled": true
   },
   "outputs": [
    {
     "name": "stdout",
     "output_type": "stream",
     "text": [
      "Quantidade total de acidentes: 13\n",
      "Quantidade de acidentes por tipo: {'AVIÃO': 6, 'HELICÓPTERO': 5, 'ULTRALEVE': 2}\n",
      "Ano e fabricante da aeronave mais antiga: 1946 CESSNA AIRCRAFT\n",
      "Quantidade de assentos e tipo de motor da aeronave mais nova: 2 assentos; PISTÃO\n",
      "A quantidade de acidentes que ocorreram com aeronaves do tipo (type) HELICÓPTERO, cuja fabricação se deu após o ano 1997: 2\n",
      "A quantidade de acidentes que ocorreram com aeronaves do tipo (type) AVIÃO fabricadas (manufacturer) pela CESSNA AIRCRAFT: 2\n"
     ]
    }
   ],
   "source": [
    "# Execução da Aplicação\n",
    "read_file('levels.csv')"
   ]
  },
  {
   "cell_type": "code",
   "execution_count": 152,
   "id": "aa0fea42",
   "metadata": {
    "ExecuteTime": {
     "end_time": "2022-06-03T14:26:17.739309Z",
     "start_time": "2022-06-03T14:26:17.735790Z"
    }
   },
   "outputs": [],
   "source": [
    "# Importando as bibliotecas\n",
    "import csv"
   ]
  },
  {
   "cell_type": "code",
   "execution_count": 164,
   "id": "9a7f3650",
   "metadata": {
    "ExecuteTime": {
     "end_time": "2022-06-03T14:32:05.495029Z",
     "start_time": "2022-06-03T14:32:05.473703Z"
    }
   },
   "outputs": [],
   "source": [
    "# Abertura do Arquivo (função)\n",
    "\n",
    "def read_file(file_path):\n",
    "\n",
    "    file_path = 'levels.csv'\n",
    "\n",
    "    # Estruturas que serão utilizadas para armazenar as respostas\n",
    "    count = 0\n",
    "    map_of_incidents = {} \n",
    "    count_heli_after_1997 = 0 \n",
    "    count_aviao_cesna_aircraft = 0\n",
    "\n",
    "    with open(file_path, newline='', encoding='utf-8') as f:\n",
    "        reader = csv.DictReader(f, delimiter=',')\n",
    "\n",
    "        for row in reader: # Iteração nas Linhas do Arquivo\n",
    "\n",
    "        # Verifica se a variável contadora é ZERO\n",
    "        # Se for, preencherá todas as variaveis de resposta\n",
    "        # com os valores iniciais para comparação posterior\n",
    "            if count == 0:\n",
    "                oldest_year = int(row['year_manufacturing'])\n",
    "                oldest_manufacturer = row['manufacturer']\n",
    "                newest_year = int(row['year_manufacturing'])\n",
    "                newest_seating = row['seating']\n",
    "                newest_engine_type = row['engine_type']\n",
    "\n",
    "\n",
    "        #Quantidade total de acidentes, classificados por tipo de aeronave    \n",
    "            key = row['type']\n",
    "            if key in map_of_incidents:\n",
    "                map_of_incidents[key] += 1\n",
    "            else:\n",
    "                map_of_incidents[key] = 1\n",
    "\n",
    "\n",
    "        #Verifica se o ano de fabricação é menor que o ano resgistrado\n",
    "        #na variável resposta da aviação mais antiga\n",
    "            if int(row['year_manufacturing']) < oldest_year:\n",
    "                oldest_year = int(row['year_manufacturing'])\n",
    "                oldest_manufacturer = row['manufacturer']\n",
    "\n",
    "        # Quantidade de assentos e tipo de motor da aeronave mais nova (seating, engine_type)        \n",
    "            if int(row['year_manufacturing']) > newest_year:\n",
    "                newest_year = int(row['year_manufacturing'])\n",
    "                newest_seating = row['seating']\n",
    "                newest_engine_type = row['engine_type']\n",
    "\n",
    "        #A quantidade de acidentes que ocorreram com aeronaves do\n",
    "        #tipo (type) HELICÓPTERO, cuja fabricação se deu após o ano 1997        \n",
    "            if row['type'] == 'HELICÓPTERO'and int(row['year_manufacturing']) > 1997:\n",
    "                count_heli_after_1997 += 1\n",
    "\n",
    "     #A quantidade de acidentes que ocorreram com aeronaves do \n",
    "     #tipo (type) AVIÃO fabricadas (manufacturer) pela CESSNA AIRCRAFT\n",
    "            if row['type'] == 'AVIÃO'and row['manufacturer'] == 'CESSNA AIRCRAFT':\n",
    "                count_aviao_cesna_aircraft += 1\n",
    "\n",
    "\n",
    "        # Incrementa o contador ( variável auxiliar contadora)  \n",
    "        # vai se tornar a resposta para o numero de acidentes\n",
    "            count += 1\n",
    "\n",
    "\n",
    "\n",
    "    print(f'Quantidade total de acidentes: {count}')\n",
    "    print(f'Quantidade de acidentes por tipo: {map_of_incidents}')\n",
    "    print(f'Ano e fabricante da aeronave mais antiga: {oldest_year} {oldest_manufacturer}')\n",
    "    print(f'Quantidade de assentos e tipo de motor da aeronave mais nova: {newest_seating} assentos; {newest_engine_type}')\n",
    "    print(f'A quantidade de acidentes que ocorreram com aeronaves do tipo (type) HELICÓPTERO, cuja fabricação se deu após o ano 1997: {count_heli_after_1997}')\n",
    "    print(f'A quantidade de acidentes que ocorreram com aeronaves do tipo (type) AVIÃO fabricadas (manufacturer) pela CESSNA AIRCRAFT: {count_aviao_cesna_aircraft}')\n"
   ]
  },
  {
   "cell_type": "code",
   "execution_count": null,
   "id": "d4f62dfb",
   "metadata": {
    "ExecuteTime": {
     "end_time": "2022-06-03T12:53:19.236361Z",
     "start_time": "2022-06-03T12:53:19.205904Z"
    }
   },
   "outputs": [],
   "source": []
  },
  {
   "cell_type": "code",
   "execution_count": null,
   "id": "bf3d3922",
   "metadata": {},
   "outputs": [],
   "source": []
  },
  {
   "cell_type": "code",
   "execution_count": null,
   "id": "47047c8c",
   "metadata": {},
   "outputs": [],
   "source": []
  },
  {
   "cell_type": "code",
   "execution_count": null,
   "id": "3b7e1481",
   "metadata": {},
   "outputs": [],
   "source": []
  }
 ],
 "metadata": {
  "kernelspec": {
   "display_name": "Python 3 (ipykernel)",
   "language": "python",
   "name": "python3"
  },
  "language_info": {
   "codemirror_mode": {
    "name": "ipython",
    "version": 3
   },
   "file_extension": ".py",
   "mimetype": "text/x-python",
   "name": "python",
   "nbconvert_exporter": "python",
   "pygments_lexer": "ipython3",
   "version": "3.9.4"
  },
  "latex_envs": {
   "LaTeX_envs_menu_present": true,
   "autoclose": false,
   "autocomplete": true,
   "bibliofile": "biblio.bib",
   "cite_by": "apalike",
   "current_citInitial": 1,
   "eqLabelWithNumbers": true,
   "eqNumInitial": 1,
   "hotkeys": {
    "equation": "Ctrl-E",
    "itemize": "Ctrl-I"
   },
   "labels_anchors": false,
   "latex_user_defs": false,
   "report_style_numbering": false,
   "user_envs_cfg": false
  },
  "varInspector": {
   "cols": {
    "lenName": 16,
    "lenType": 16,
    "lenVar": 40
   },
   "kernels_config": {
    "python": {
     "delete_cmd_postfix": "",
     "delete_cmd_prefix": "del ",
     "library": "var_list.py",
     "varRefreshCmd": "print(var_dic_list())"
    },
    "r": {
     "delete_cmd_postfix": ") ",
     "delete_cmd_prefix": "rm(",
     "library": "var_list.r",
     "varRefreshCmd": "cat(var_dic_list()) "
    }
   },
   "types_to_exclude": [
    "module",
    "function",
    "builtin_function_or_method",
    "instance",
    "_Feature"
   ],
   "window_display": false
  }
 },
 "nbformat": 4,
 "nbformat_minor": 5
}
