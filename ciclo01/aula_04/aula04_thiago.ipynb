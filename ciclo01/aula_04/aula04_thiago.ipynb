{
 "cells": [
  {
   "cell_type": "raw",
   "id": "a92a3afd",
   "metadata": {
    "ExecuteTime": {
     "end_time": "2022-06-02T13:19:31.371271Z",
     "start_time": "2022-06-02T13:19:31.362672Z"
    }
   },
   "source": [
    "# Fazer a contagem de um em um ou de vários em vários\n",
    "Apresentar o valor da contagem\n",
    "Fazer o reset\n",
    "\n",
    "Atributo que recebe e armaneza a contagem\n",
    "\n"
   ]
  },
  {
   "cell_type": "code",
   "execution_count": 65,
   "id": "5d265d7f",
   "metadata": {
    "ExecuteTime": {
     "end_time": "2022-06-02T14:03:39.191914Z",
     "start_time": "2022-06-02T14:03:39.183865Z"
    }
   },
   "outputs": [],
   "source": [
    "class ClickCounter:\n",
    "    def __init__(self, count_param = 0):\n",
    "        self.count = count_param\n",
    "    \n",
    "    def reset(self):\n",
    "        self.count = 0\n",
    "        \n",
    "    def click(self, count_param = 1):\n",
    "        if self.count >= 50:\n",
    "            return (f'Quantidade maxima atingida')\n",
    "        else:\n",
    "            self.count += count_param\n",
    "        \n",
    "    def leitura(self):\n",
    "        print(f'O contador está com a contagem em: {self.count}')\n",
    "        return self.count"
   ]
  },
  {
   "cell_type": "code",
   "execution_count": 48,
   "id": "4208584b",
   "metadata": {
    "ExecuteTime": {
     "end_time": "2022-06-02T14:00:22.169683Z",
     "start_time": "2022-06-02T14:00:22.162266Z"
    }
   },
   "outputs": [
    {
     "data": {
      "text/plain": [
       "100"
      ]
     },
     "execution_count": 48,
     "metadata": {},
     "output_type": "execute_result"
    }
   ],
   "source": [
    "contador = ClickCounter(100)\n",
    "contador.count"
   ]
  },
  {
   "cell_type": "code",
   "execution_count": 67,
   "id": "57a11313",
   "metadata": {
    "ExecuteTime": {
     "end_time": "2022-06-02T14:03:43.895532Z",
     "start_time": "2022-06-02T14:03:43.888876Z"
    }
   },
   "outputs": [
    {
     "data": {
      "text/plain": [
       "0"
      ]
     },
     "execution_count": 67,
     "metadata": {},
     "output_type": "execute_result"
    }
   ],
   "source": [
    "contador.reset()\n",
    "contador.count"
   ]
  },
  {
   "cell_type": "code",
   "execution_count": 68,
   "id": "00c14643",
   "metadata": {
    "ExecuteTime": {
     "end_time": "2022-06-02T14:03:45.186997Z",
     "start_time": "2022-06-02T14:03:45.179401Z"
    }
   },
   "outputs": [
    {
     "data": {
      "text/plain": [
       "5"
      ]
     },
     "execution_count": 68,
     "metadata": {},
     "output_type": "execute_result"
    }
   ],
   "source": [
    "contador.click(5)\n",
    "contador.leitura()"
   ]
  },
  {
   "cell_type": "code",
   "execution_count": 74,
   "id": "b23ff27c",
   "metadata": {
    "ExecuteTime": {
     "end_time": "2022-06-02T14:04:06.686095Z",
     "start_time": "2022-06-02T14:04:06.679210Z"
    }
   },
   "outputs": [
    {
     "data": {
      "text/plain": [
       "58"
      ]
     },
     "execution_count": 74,
     "metadata": {},
     "output_type": "execute_result"
    }
   ],
   "source": [
    "contador.click(50)\n",
    "contador.leitura()"
   ]
  },
  {
   "cell_type": "code",
   "execution_count": 75,
   "id": "7f135187",
   "metadata": {
    "ExecuteTime": {
     "end_time": "2022-06-02T14:04:22.048573Z",
     "start_time": "2022-06-02T14:04:22.042126Z"
    }
   },
   "outputs": [
    {
     "data": {
      "text/plain": [
       "'Quantidade maxima atingida'"
      ]
     },
     "execution_count": 75,
     "metadata": {},
     "output_type": "execute_result"
    }
   ],
   "source": [
    "contador.click()"
   ]
  },
  {
   "cell_type": "code",
   "execution_count": null,
   "id": "e9762abd",
   "metadata": {},
   "outputs": [],
   "source": []
  }
 ],
 "metadata": {
  "kernelspec": {
   "display_name": "Python 3 (ipykernel)",
   "language": "python",
   "name": "python3"
  },
  "language_info": {
   "codemirror_mode": {
    "name": "ipython",
    "version": 3
   },
   "file_extension": ".py",
   "mimetype": "text/x-python",
   "name": "python",
   "nbconvert_exporter": "python",
   "pygments_lexer": "ipython3",
   "version": "3.9.4"
  },
  "varInspector": {
   "cols": {
    "lenName": 16,
    "lenType": 16,
    "lenVar": 40
   },
   "kernels_config": {
    "python": {
     "delete_cmd_postfix": "",
     "delete_cmd_prefix": "del ",
     "library": "var_list.py",
     "varRefreshCmd": "print(var_dic_list())"
    },
    "r": {
     "delete_cmd_postfix": ") ",
     "delete_cmd_prefix": "rm(",
     "library": "var_list.r",
     "varRefreshCmd": "cat(var_dic_list()) "
    }
   },
   "types_to_exclude": [
    "module",
    "function",
    "builtin_function_or_method",
    "instance",
    "_Feature"
   ],
   "window_display": false
  }
 },
 "nbformat": 4,
 "nbformat_minor": 5
}
