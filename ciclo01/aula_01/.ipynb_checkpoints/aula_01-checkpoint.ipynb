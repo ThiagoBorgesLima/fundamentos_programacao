{
 "cells": [
  {
   "cell_type": "markdown",
   "id": "01f00a92",
   "metadata": {
    "heading_collapsed": true
   },
   "source": [
    "# Comandos Auxiliares"
   ]
  },
  {
   "cell_type": "markdown",
   "id": "0d444a54",
   "metadata": {
    "heading_collapsed": true,
    "hidden": true
   },
   "source": [
    "## Leitura o Arquivo"
   ]
  },
  {
   "cell_type": "code",
   "execution_count": 5,
   "id": "1e21754b",
   "metadata": {
    "ExecuteTime": {
     "end_time": "2021-09-23T01:02:26.368581Z",
     "start_time": "2021-09-23T01:02:26.352930Z"
    },
    "hidden": true
   },
   "outputs": [],
   "source": [
    "# Função de Leitura do Arquivo\n",
    "import pandas as pd\n",
    "\n",
    "def read_file(file):\n",
    "    return pd.read_csv(file)\n",
    "\n",
    "# Conteúdos estão em uma lista\n",
    "df = read_file('aula_1.csv')"
   ]
  },
  {
   "cell_type": "code",
   "execution_count": 6,
   "id": "f9e3aeef",
   "metadata": {
    "ExecuteTime": {
     "end_time": "2021-09-23T01:02:27.297900Z",
     "start_time": "2021-09-23T01:02:27.265909Z"
    },
    "hidden": true
   },
   "outputs": [
    {
     "data": {
      "text/html": [
       "<div>\n",
       "<style scoped>\n",
       "    .dataframe tbody tr th:only-of-type {\n",
       "        vertical-align: middle;\n",
       "    }\n",
       "\n",
       "    .dataframe tbody tr th {\n",
       "        vertical-align: top;\n",
       "    }\n",
       "\n",
       "    .dataframe thead th {\n",
       "        text-align: right;\n",
       "    }\n",
       "</style>\n",
       "<table border=\"1\" class=\"dataframe\">\n",
       "  <thead>\n",
       "    <tr style=\"text-align: right;\">\n",
       "      <th></th>\n",
       "      <th>id</th>\n",
       "      <th>first_name</th>\n",
       "      <th>gender</th>\n",
       "      <th>age</th>\n",
       "      <th>married</th>\n",
       "      <th>recently_bought</th>\n",
       "    </tr>\n",
       "  </thead>\n",
       "  <tbody>\n",
       "    <tr>\n",
       "      <th>30</th>\n",
       "      <td>31</td>\n",
       "      <td>Win</td>\n",
       "      <td>Male</td>\n",
       "      <td>26</td>\n",
       "      <td>False</td>\n",
       "      <td>True</td>\n",
       "    </tr>\n",
       "    <tr>\n",
       "      <th>667</th>\n",
       "      <td>668</td>\n",
       "      <td>Sherwood</td>\n",
       "      <td>Female</td>\n",
       "      <td>39</td>\n",
       "      <td>True</td>\n",
       "      <td>False</td>\n",
       "    </tr>\n",
       "    <tr>\n",
       "      <th>739</th>\n",
       "      <td>740</td>\n",
       "      <td>Winfred</td>\n",
       "      <td>Male</td>\n",
       "      <td>62</td>\n",
       "      <td>True</td>\n",
       "      <td>True</td>\n",
       "    </tr>\n",
       "    <tr>\n",
       "      <th>327</th>\n",
       "      <td>328</td>\n",
       "      <td>Amie</td>\n",
       "      <td>Male</td>\n",
       "      <td>65</td>\n",
       "      <td>False</td>\n",
       "      <td>False</td>\n",
       "    </tr>\n",
       "    <tr>\n",
       "      <th>91</th>\n",
       "      <td>92</td>\n",
       "      <td>Marieann</td>\n",
       "      <td>Male</td>\n",
       "      <td>16</td>\n",
       "      <td>False</td>\n",
       "      <td>True</td>\n",
       "    </tr>\n",
       "  </tbody>\n",
       "</table>\n",
       "</div>"
      ],
      "text/plain": [
       "      id first_name  gender  age  married  recently_bought\n",
       "30    31        Win    Male   26    False             True\n",
       "667  668   Sherwood  Female   39     True            False\n",
       "739  740    Winfred    Male   62     True             True\n",
       "327  328       Amie    Male   65    False            False\n",
       "91    92   Marieann    Male   16    False             True"
      ]
     },
     "execution_count": 6,
     "metadata": {},
     "output_type": "execute_result"
    }
   ],
   "source": [
    "df.sample(5)"
   ]
  },
  {
   "cell_type": "markdown",
   "id": "c84f11f3",
   "metadata": {
    "heading_collapsed": true
   },
   "source": [
    "# Intodução à Lógica de Programação"
   ]
  },
  {
   "cell_type": "markdown",
   "id": "d7a95b10",
   "metadata": {
    "heading_collapsed": true,
    "hidden": true
   },
   "source": [
    "## Problemas\n",
    "\n",
    "\n",
    "* Problema 1: Selecionar os clientes com idades entre 18 e 65 anos.\n",
    "    * Parte 1.1: Selecionar os clientes com idade maior que 18 anos\n",
    "    \n",
    "    * Parte 1.2: Selecionar os clientes com idade menor que 65 anos\n",
    "\n",
    "\n",
    "* Problema 2: Selecionar os clientes que são mulheres.\n",
    "\n",
    "\n",
    "* Problema 3: Selecionar os clientes que são homens e que são casados, ou os homens que não são casados mas que compraram na loja no último mês.\n",
    "    * Parte 3.1: Selecionar os clientes que são homens\n",
    "    * Parte 3.2: Selecionar os clientes que são casados\n",
    "    * Parte 3.3: Selecionar os clientes que compraram na loja no último mês"
   ]
  },
  {
   "cell_type": "markdown",
   "id": "0581d5ec",
   "metadata": {
    "heading_collapsed": true,
    "hidden": true
   },
   "source": [
    "## Solução\n"
   ]
  },
  {
   "cell_type": "code",
   "execution_count": 7,
   "id": "921d5d45",
   "metadata": {
    "ExecuteTime": {
     "end_time": "2021-09-23T01:02:29.570074Z",
     "start_time": "2021-09-23T01:02:29.563470Z"
    },
    "hidden": true
   },
   "outputs": [],
   "source": [
    "# Respostas\n",
    "mulheres = []\n",
    "homens = []"
   ]
  },
  {
   "cell_type": "code",
   "execution_count": 8,
   "id": "70463eab",
   "metadata": {
    "ExecuteTime": {
     "end_time": "2021-09-23T01:02:30.516707Z",
     "start_time": "2021-09-23T01:02:30.506843Z"
    },
    "hidden": true
   },
   "outputs": [
    {
     "ename": "SyntaxError",
     "evalue": "unexpected EOF while parsing (2608300868.py, line 3)",
     "output_type": "error",
     "traceback": [
      "\u001b[0;36m  File \u001b[0;32m\"/tmp/ipykernel_40936/2608300868.py\"\u001b[0;36m, line \u001b[0;32m3\u001b[0m\n\u001b[0;31m    # Condicionais aqui\u001b[0m\n\u001b[0m                       ^\u001b[0m\n\u001b[0;31mSyntaxError\u001b[0m\u001b[0;31m:\u001b[0m unexpected EOF while parsing\n"
     ]
    }
   ],
   "source": [
    "# Versão Inicial\n",
    "for index, row in df.iterrows():\n",
    "    # Condicionais aqui"
   ]
  },
  {
   "cell_type": "code",
   "execution_count": 10,
   "id": "e9afedbe",
   "metadata": {
    "ExecuteTime": {
     "end_time": "2021-09-23T01:02:31.851492Z",
     "start_time": "2021-09-23T01:02:31.834311Z"
    },
    "hidden": true
   },
   "outputs": [
    {
     "ename": "IndexError",
     "evalue": "list index out of range",
     "output_type": "error",
     "traceback": [
      "\u001b[0;31m---------------------------------------------------------------------------\u001b[0m",
      "\u001b[0;31mIndexError\u001b[0m                                Traceback (most recent call last)",
      "\u001b[0;32m/tmp/ipykernel_40936/1925483369.py\u001b[0m in \u001b[0;36m<module>\u001b[0;34m\u001b[0m\n\u001b[0;32m----> 1\u001b[0;31m \u001b[0mmulheres\u001b[0m\u001b[0;34m[\u001b[0m\u001b[0;36m0\u001b[0m\u001b[0;34m]\u001b[0m\u001b[0;34m\u001b[0m\u001b[0;34m\u001b[0m\u001b[0m\n\u001b[0m",
      "\u001b[0;31mIndexError\u001b[0m: list index out of range"
     ]
    }
   ],
   "source": [
    "mulheres[0]"
   ]
  },
  {
   "cell_type": "code",
   "execution_count": 11,
   "id": "d35f2493",
   "metadata": {
    "ExecuteTime": {
     "end_time": "2021-09-23T01:02:32.683578Z",
     "start_time": "2021-09-23T01:02:32.673622Z"
    },
    "hidden": true
   },
   "outputs": [
    {
     "ename": "IndexError",
     "evalue": "list index out of range",
     "output_type": "error",
     "traceback": [
      "\u001b[0;31m---------------------------------------------------------------------------\u001b[0m",
      "\u001b[0;31mIndexError\u001b[0m                                Traceback (most recent call last)",
      "\u001b[0;32m/tmp/ipykernel_40936/1386974048.py\u001b[0m in \u001b[0;36m<module>\u001b[0;34m\u001b[0m\n\u001b[0;32m----> 1\u001b[0;31m \u001b[0mhomens\u001b[0m\u001b[0;34m[\u001b[0m\u001b[0;36m0\u001b[0m\u001b[0;34m]\u001b[0m\u001b[0;34m\u001b[0m\u001b[0;34m\u001b[0m\u001b[0m\n\u001b[0m",
      "\u001b[0;31mIndexError\u001b[0m: list index out of range"
     ]
    }
   ],
   "source": [
    "homens[0]"
   ]
  },
  {
   "cell_type": "markdown",
   "id": "ad5edb24",
   "metadata": {
    "heading_collapsed": true
   },
   "source": [
    "# Exemplo do IF\n"
   ]
  },
  {
   "cell_type": "markdown",
   "id": "2cd7b752",
   "metadata": {
    "hidden": true
   },
   "source": [
    "## Estrutura De Teste"
   ]
  },
  {
   "cell_type": "code",
   "execution_count": 5,
   "id": "dbc64155",
   "metadata": {
    "ExecuteTime": {
     "end_time": "2021-09-24T23:07:40.425731Z",
     "start_time": "2021-09-24T23:07:40.421799Z"
    },
    "hidden": true
   },
   "outputs": [],
   "source": [
    "lista_clientes = [\n",
    "    {'id': 1,  'name': 'Pedro',     'gender': 'M', 'age': 32, 'married': True,  'recently_bought': True},\n",
    "    {'id': 2,  'name': 'Guilherme', 'gender': 'M', 'age': 23, 'married': False, 'recently_bought': True},\n",
    "    {'id': 3,  'name': 'Volpato',   'gender': 'M', 'age': 85, 'married': True,  'recently_bought': False},\n",
    "    {'id': 4,  'name': 'Ferraresi', 'gender': 'M', 'age': 83, 'married': False, 'recently_bought': False},\n",
    "    {'id': 5,  'name': 'Ana',       'gender': 'F', 'age': 29, 'married': True,  'recently_bought': True},\n",
    "    {'id': 6,  'name': 'Carolina',  'gender': 'F', 'age': 92, 'married': False, 'recently_bought': False},\n",
    "    {'id': 7,  'name': 'Curvina',   'gender': 'F', 'age': 44, 'married': False, 'recently_bought': False},\n",
    "    {'id': 8,  'name': 'Ubaldo',    'gender': 'F', 'age': 72, 'married': False, 'recently_bought': False},\n",
    "    {'id': 9,  'name': 'João',      'gender': 'M', 'age': 28, 'married': False, 'recently_bought': True},\n",
    "    {'id': 10, 'name': 'Gabriel',   'gender': 'M', 'age': 82, 'married': True,  'recently_bought': True},\n",
    "]"
   ]
  },
  {
   "cell_type": "code",
   "execution_count": 4,
   "id": "f65ba22a",
   "metadata": {
    "ExecuteTime": {
     "end_time": "2021-09-24T23:07:37.424685Z",
     "start_time": "2021-09-24T23:07:37.421873Z"
    },
    "hidden": true
   },
   "outputs": [
    {
     "name": "stdout",
     "output_type": "stream",
     "text": [
      "{'id': 1, 'name': 'Pedro', 'gender': 'M', 'age': 32, 'married': True, 'recently_bought': True}\n"
     ]
    }
   ],
   "source": [
    "for cliente in lista_clientes:\n",
    "    if (cliente['id'] == 1):\n",
    "        print(cliente)\n",
    "        break"
   ]
  },
  {
   "cell_type": "markdown",
   "id": "dc4ad6a9",
   "metadata": {
    "heading_collapsed": true,
    "hidden": true
   },
   "source": [
    "## Exemplos"
   ]
  },
  {
   "cell_type": "markdown",
   "id": "a6b4bea4",
   "metadata": {
    "heading_collapsed": true,
    "hidden": true
   },
   "source": [
    "### Selecione o cliente caso o nome dele seja Pedro"
   ]
  },
  {
   "cell_type": "code",
   "execution_count": 9,
   "id": "b3e7fd5d",
   "metadata": {
    "ExecuteTime": {
     "end_time": "2021-09-24T23:26:16.338766Z",
     "start_time": "2021-09-24T23:26:16.336594Z"
    },
    "hidden": true
   },
   "outputs": [],
   "source": [
    "resposta =[]\n",
    "\n",
    "for cliente in lista_clientes:\n",
    "    # Condicional aqui\n",
    "    if ():\n",
    "        resposta.append(cliente)"
   ]
  },
  {
   "cell_type": "code",
   "execution_count": null,
   "id": "b2847687",
   "metadata": {
    "hidden": true
   },
   "outputs": [],
   "source": [
    "resposta"
   ]
  },
  {
   "cell_type": "markdown",
   "id": "2a363767",
   "metadata": {
    "heading_collapsed": true,
    "hidden": true
   },
   "source": [
    "### Selecione o cliente caso a idade dele seja maior que 30 anos"
   ]
  },
  {
   "cell_type": "code",
   "execution_count": null,
   "id": "7110eb95",
   "metadata": {
    "hidden": true
   },
   "outputs": [],
   "source": [
    "resposta =[]\n",
    "\n",
    "for cliente in lista_clientes:\n",
    "    # Condicional aqui\n",
    "    if ():\n",
    "        resposta.append(cliente)"
   ]
  },
  {
   "cell_type": "code",
   "execution_count": null,
   "id": "20ae404e",
   "metadata": {
    "hidden": true
   },
   "outputs": [],
   "source": [
    "resposta"
   ]
  },
  {
   "cell_type": "markdown",
   "id": "24f7a388",
   "metadata": {
    "heading_collapsed": true,
    "hidden": true
   },
   "source": [
    "### Selecione os clientes que tenham comprado recentemente"
   ]
  },
  {
   "cell_type": "code",
   "execution_count": null,
   "id": "8af87c6d",
   "metadata": {
    "hidden": true
   },
   "outputs": [],
   "source": [
    "resposta =[]\n",
    "\n",
    "for cliente in lista_clientes:\n",
    "    # Condicional aqui\n",
    "    if ():\n",
    "        resposta.append(cliente)"
   ]
  },
  {
   "cell_type": "code",
   "execution_count": null,
   "id": "847c7b2f",
   "metadata": {
    "hidden": true
   },
   "outputs": [],
   "source": [
    "resposta"
   ]
  },
  {
   "cell_type": "markdown",
   "id": "d07b4f59",
   "metadata": {
    "heading_collapsed": true,
    "hidden": true
   },
   "source": [
    "### Selecione os clientes que sejam mulheres e homens em listas separadas"
   ]
  },
  {
   "cell_type": "code",
   "execution_count": null,
   "id": "25304bc9",
   "metadata": {
    "hidden": true
   },
   "outputs": [],
   "source": [
    "mulheres = []\n",
    "homens = []\n",
    "\n",
    "for cliente in lista_clientes:\n",
    "    # Condicional aqui"
   ]
  },
  {
   "cell_type": "code",
   "execution_count": null,
   "id": "bff31287",
   "metadata": {
    "hidden": true
   },
   "outputs": [],
   "source": [
    "homens"
   ]
  },
  {
   "cell_type": "code",
   "execution_count": null,
   "id": "237f7bc3",
   "metadata": {
    "hidden": true
   },
   "outputs": [],
   "source": [
    "mulheres"
   ]
  },
  {
   "cell_type": "markdown",
   "id": "4ddaa725",
   "metadata": {
    "heading_collapsed": true,
    "hidden": true
   },
   "source": [
    "### Faça a seguinte seleção\n",
    "\n",
    "Selecione os clientes que são casado e não casados. \n",
    "* Dos que são casados, selecione os que compraram e os que não compraram recentemente na loja. \n",
    "* Dos não casasdos, separe os que são homens. \n",
    "    * Dos homens separados, selecione os que tem idade maior que 35 anos\n",
    "    * Dos homens separados que não tem idade maior que 35 anos, separe o cliente que tem o nome de Pedro\n",
    "    "
   ]
  },
  {
   "cell_type": "code",
   "execution_count": null,
   "id": "367d0dec",
   "metadata": {
    "hidden": true
   },
   "outputs": [],
   "source": [
    "# respostas\n",
    "casados = []\n",
    "nao_casados = []\n",
    "compraram = []\n",
    "nao_compraram = []\n",
    "maior_35 = []\n",
    "pedro = []"
   ]
  },
  {
   "cell_type": "code",
   "execution_count": null,
   "id": "76183bc0",
   "metadata": {
    "hidden": true
   },
   "outputs": [],
   "source": [
    "for cliente in lista_clientes:\n",
    "    # Condicional aqui"
   ]
  },
  {
   "cell_type": "code",
   "execution_count": null,
   "id": "fa9de7ec",
   "metadata": {
    "hidden": true
   },
   "outputs": [],
   "source": [
    "casados"
   ]
  },
  {
   "cell_type": "code",
   "execution_count": null,
   "id": "342f275c",
   "metadata": {
    "hidden": true
   },
   "outputs": [],
   "source": [
    "nao_casados"
   ]
  },
  {
   "cell_type": "code",
   "execution_count": null,
   "id": "aa93847f",
   "metadata": {
    "hidden": true
   },
   "outputs": [],
   "source": [
    "compraram"
   ]
  },
  {
   "cell_type": "code",
   "execution_count": null,
   "id": "13a05bf9",
   "metadata": {
    "hidden": true
   },
   "outputs": [],
   "source": [
    "nao_compraram"
   ]
  },
  {
   "cell_type": "code",
   "execution_count": null,
   "id": "2880fc09",
   "metadata": {
    "hidden": true
   },
   "outputs": [],
   "source": [
    "maior_35"
   ]
  },
  {
   "cell_type": "code",
   "execution_count": null,
   "id": "cfbf9b07",
   "metadata": {
    "hidden": true
   },
   "outputs": [],
   "source": [
    "pedro"
   ]
  },
  {
   "cell_type": "markdown",
   "id": "6fce672f",
   "metadata": {
    "heading_collapsed": true
   },
   "source": [
    "# Operadores Lógicos"
   ]
  },
  {
   "cell_type": "markdown",
   "id": "afdc3a7d",
   "metadata": {
    "hidden": true
   },
   "source": [
    "Utilizando a lista criada no exemplo do *if*, selecione os clientes com base no pedido"
   ]
  },
  {
   "cell_type": "markdown",
   "id": "0908af79",
   "metadata": {
    "heading_collapsed": true,
    "hidden": true
   },
   "source": [
    "### 1. Operador E (AND) - Selecione os clientes que sejam casados E que tenham comprado recentemente na loja\n"
   ]
  },
  {
   "cell_type": "code",
   "execution_count": null,
   "id": "8243fc0d",
   "metadata": {
    "hidden": true
   },
   "outputs": [],
   "source": [
    "resposta_1 = []\n",
    "\n",
    "for cliente in lista_clientes:\n",
    "    # Condicional aqui\n",
    "    if ():\n",
    "        resposta_1.append(cliente)"
   ]
  },
  {
   "cell_type": "code",
   "execution_count": null,
   "id": "b68db0d6",
   "metadata": {
    "hidden": true
   },
   "outputs": [],
   "source": [
    "resposta_1"
   ]
  },
  {
   "cell_type": "markdown",
   "id": "c3da7960",
   "metadata": {
    "heading_collapsed": true,
    "hidden": true
   },
   "source": [
    "### 2. Operador OU (OR) - Selecione os clientes que não sejam casados OU que sejam mulheres\n"
   ]
  },
  {
   "cell_type": "code",
   "execution_count": null,
   "id": "3adb2409",
   "metadata": {
    "hidden": true
   },
   "outputs": [],
   "source": [
    "resposta_2 = []\n",
    "\n",
    "for cliente in lista_clientes:\n",
    "    # Condicional aqui\n",
    "    if ():\n",
    "        resposta_2.append(cliente)"
   ]
  },
  {
   "cell_type": "code",
   "execution_count": null,
   "id": "86ac1d0c",
   "metadata": {
    "hidden": true
   },
   "outputs": [],
   "source": [
    "resposta_2"
   ]
  },
  {
   "cell_type": "markdown",
   "id": "798b8895",
   "metadata": {
    "heading_collapsed": true,
    "hidden": true
   },
   "source": [
    "### 3. Operador de Negação (NOT) - Utilizando o operador de Negação, selecione os clientes que são mulheres e não são casados"
   ]
  },
  {
   "cell_type": "code",
   "execution_count": null,
   "id": "927055ab",
   "metadata": {
    "hidden": true
   },
   "outputs": [],
   "source": [
    "resposta_3 = []\n",
    "\n",
    "for cliente in lista_clientes:\n",
    "    # Condicional aqui\n",
    "    if ():\n",
    "        resposta_3.append(cliente)\n",
    "        \n",
    "reposta_3"
   ]
  }
 ],
 "metadata": {
  "kernelspec": {
   "display_name": "Python 3.8.11 64-bit ('3.8.11': pyenv)",
   "language": "python",
   "name": "python3811jvsc74a57bd016c98fcc13804c079c0e605033a1ae10a459b3686638e04aa6e2e124f32781c0"
  },
  "language_info": {
   "codemirror_mode": {
    "name": "ipython",
    "version": 3
   },
   "file_extension": ".py",
   "mimetype": "text/x-python",
   "name": "python",
   "nbconvert_exporter": "python",
   "pygments_lexer": "ipython3",
   "version": "3.8.11"
  },
  "latex_envs": {
   "LaTeX_envs_menu_present": true,
   "autoclose": false,
   "autocomplete": true,
   "bibliofile": "biblio.bib",
   "cite_by": "apalike",
   "current_citInitial": 1,
   "eqLabelWithNumbers": true,
   "eqNumInitial": 1,
   "hotkeys": {
    "equation": "Ctrl-E",
    "itemize": "Ctrl-I"
   },
   "labels_anchors": false,
   "latex_user_defs": false,
   "report_style_numbering": false,
   "user_envs_cfg": false
  }
 },
 "nbformat": 4,
 "nbformat_minor": 5
}
